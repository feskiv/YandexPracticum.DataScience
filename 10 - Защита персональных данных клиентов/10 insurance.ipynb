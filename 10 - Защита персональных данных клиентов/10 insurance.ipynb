{
 "cells": [
  {
   "cell_type": "markdown",
   "metadata": {
    "toc": true
   },
   "source": [
    "<h1>Содержание<span class=\"tocSkip\"></span></h1>\n",
    "<div class=\"toc\"><ul class=\"toc-item\"><li><span><a href=\"#Загрузка-данных\" data-toc-modified-id=\"Загрузка-данных-1\"><span class=\"toc-item-num\">1&nbsp;&nbsp;</span>Загрузка данных</a></span></li><li><span><a href=\"#Умножение-матриц\" data-toc-modified-id=\"Умножение-матриц-2\"><span class=\"toc-item-num\">2&nbsp;&nbsp;</span>Умножение матриц</a></span></li><li><span><a href=\"#Алгоритм-преобразования\" data-toc-modified-id=\"Алгоритм-преобразования-3\"><span class=\"toc-item-num\">3&nbsp;&nbsp;</span>Алгоритм преобразования</a></span></li><li><span><a href=\"#Проверка-алгоритма\" data-toc-modified-id=\"Проверка-алгоритма-4\"><span class=\"toc-item-num\">4&nbsp;&nbsp;</span>Проверка алгоритма</a></span></li><li><span><a href=\"#Чек-лист-проверки\" data-toc-modified-id=\"Чек-лист-проверки-5\"><span class=\"toc-item-num\">5&nbsp;&nbsp;</span>Чек-лист проверки</a></span></li></ul></div>"
   ]
  },
  {
   "cell_type": "markdown",
   "metadata": {},
   "source": [
    "# Защита персональных данных клиентов"
   ]
  },
  {
   "cell_type": "markdown",
   "metadata": {},
   "source": [
    "Нужно защитить данные клиентов страховой компании «Хоть потоп». Разработаем такой метод преобразования данных, чтобы по ним было сложно восстановить персональную информацию. Обоснуем корректность его работы.\n",
    "\n",
    "Нужно защитить данные, чтобы при преобразовании качество моделей машинного обучения не ухудшилось. Подбирать наилучшую модель не требуется."
   ]
  },
  {
   "cell_type": "markdown",
   "metadata": {},
   "source": [
    "## Загрузка данных"
   ]
  },
  {
   "cell_type": "code",
   "execution_count": 19,
   "metadata": {},
   "outputs": [],
   "source": [
    "import pandas as pd\n",
    "import numpy as np\n",
    "\n",
    "from sklearn.model_selection import train_test_split\n",
    "from sklearn.linear_model import LinearRegression\n",
    "from sklearn.metrics import r2_score"
   ]
  },
  {
   "cell_type": "code",
   "execution_count": 20,
   "metadata": {},
   "outputs": [],
   "source": [
    "data = pd.read_csv('/datasets/insurance.csv')"
   ]
  },
  {
   "cell_type": "code",
   "execution_count": 21,
   "metadata": {
    "scrolled": false
   },
   "outputs": [
    {
     "data": {
      "text/html": [
       "<div>\n",
       "<style scoped>\n",
       "    .dataframe tbody tr th:only-of-type {\n",
       "        vertical-align: middle;\n",
       "    }\n",
       "\n",
       "    .dataframe tbody tr th {\n",
       "        vertical-align: top;\n",
       "    }\n",
       "\n",
       "    .dataframe thead th {\n",
       "        text-align: right;\n",
       "    }\n",
       "</style>\n",
       "<table border=\"1\" class=\"dataframe\">\n",
       "  <thead>\n",
       "    <tr style=\"text-align: right;\">\n",
       "      <th></th>\n",
       "      <th>Пол</th>\n",
       "      <th>Возраст</th>\n",
       "      <th>Зарплата</th>\n",
       "      <th>Члены семьи</th>\n",
       "      <th>Страховые выплаты</th>\n",
       "    </tr>\n",
       "  </thead>\n",
       "  <tbody>\n",
       "    <tr>\n",
       "      <th>0</th>\n",
       "      <td>1</td>\n",
       "      <td>41.0</td>\n",
       "      <td>49600.0</td>\n",
       "      <td>1</td>\n",
       "      <td>0</td>\n",
       "    </tr>\n",
       "    <tr>\n",
       "      <th>1</th>\n",
       "      <td>0</td>\n",
       "      <td>46.0</td>\n",
       "      <td>38000.0</td>\n",
       "      <td>1</td>\n",
       "      <td>1</td>\n",
       "    </tr>\n",
       "    <tr>\n",
       "      <th>2</th>\n",
       "      <td>0</td>\n",
       "      <td>29.0</td>\n",
       "      <td>21000.0</td>\n",
       "      <td>0</td>\n",
       "      <td>0</td>\n",
       "    </tr>\n",
       "    <tr>\n",
       "      <th>3</th>\n",
       "      <td>0</td>\n",
       "      <td>21.0</td>\n",
       "      <td>41700.0</td>\n",
       "      <td>2</td>\n",
       "      <td>0</td>\n",
       "    </tr>\n",
       "    <tr>\n",
       "      <th>4</th>\n",
       "      <td>1</td>\n",
       "      <td>28.0</td>\n",
       "      <td>26100.0</td>\n",
       "      <td>0</td>\n",
       "      <td>0</td>\n",
       "    </tr>\n",
       "  </tbody>\n",
       "</table>\n",
       "</div>"
      ],
      "text/plain": [
       "   Пол  Возраст  Зарплата  Члены семьи  Страховые выплаты\n",
       "0    1     41.0   49600.0            1                  0\n",
       "1    0     46.0   38000.0            1                  1\n",
       "2    0     29.0   21000.0            0                  0\n",
       "3    0     21.0   41700.0            2                  0\n",
       "4    1     28.0   26100.0            0                  0"
      ]
     },
     "metadata": {},
     "output_type": "display_data"
    },
    {
     "name": "stdout",
     "output_type": "stream",
     "text": [
      "\n",
      "<class 'pandas.core.frame.DataFrame'>\n",
      "RangeIndex: 5000 entries, 0 to 4999\n",
      "Data columns (total 5 columns):\n",
      " #   Column             Non-Null Count  Dtype  \n",
      "---  ------             --------------  -----  \n",
      " 0   Пол                5000 non-null   int64  \n",
      " 1   Возраст            5000 non-null   float64\n",
      " 2   Зарплата           5000 non-null   float64\n",
      " 3   Члены семьи        5000 non-null   int64  \n",
      " 4   Страховые выплаты  5000 non-null   int64  \n",
      "dtypes: float64(2), int64(3)\n",
      "memory usage: 195.4 KB\n",
      "Количество дубликатов: 153\n"
     ]
    }
   ],
   "source": [
    "display(data.head())\n",
    "print()\n",
    "data.info()\n",
    "print('Количество дубликатов:', data.duplicated().sum())"
   ]
  },
  {
   "cell_type": "markdown",
   "metadata": {},
   "source": [
    "Датасет состоит из 5000 строк и 5 столбцов. \n",
    "\n",
    "Пропуски отсутствуют, но присутствуют полные дубликаты - избавимся от них.\n",
    "\n",
    "Тип данных приведем везде к целочисленному."
   ]
  },
  {
   "cell_type": "code",
   "execution_count": 22,
   "metadata": {
    "scrolled": false
   },
   "outputs": [
    {
     "name": "stdout",
     "output_type": "stream",
     "text": [
      "<class 'pandas.core.frame.DataFrame'>\n",
      "Int64Index: 4847 entries, 0 to 4999\n",
      "Data columns (total 5 columns):\n",
      " #   Column             Non-Null Count  Dtype\n",
      "---  ------             --------------  -----\n",
      " 0   Пол                4847 non-null   int64\n",
      " 1   Возраст            4847 non-null   int64\n",
      " 2   Зарплата           4847 non-null   int64\n",
      " 3   Члены семьи        4847 non-null   int64\n",
      " 4   Страховые выплаты  4847 non-null   int64\n",
      "dtypes: int64(5)\n",
      "memory usage: 227.2 KB\n"
     ]
    }
   ],
   "source": [
    "data = data.drop_duplicates()\n",
    "data[['Возраст', 'Зарплата']] = data[['Возраст', 'Зарплата']].astype(int)\n",
    "data.info()"
   ]
  },
  {
   "cell_type": "code",
   "execution_count": 23,
   "metadata": {},
   "outputs": [
    {
     "data": {
      "text/html": [
       "<div>\n",
       "<style scoped>\n",
       "    .dataframe tbody tr th:only-of-type {\n",
       "        vertical-align: middle;\n",
       "    }\n",
       "\n",
       "    .dataframe tbody tr th {\n",
       "        vertical-align: top;\n",
       "    }\n",
       "\n",
       "    .dataframe thead th {\n",
       "        text-align: right;\n",
       "    }\n",
       "</style>\n",
       "<table border=\"1\" class=\"dataframe\">\n",
       "  <thead>\n",
       "    <tr style=\"text-align: right;\">\n",
       "      <th></th>\n",
       "      <th>Пол</th>\n",
       "      <th>Возраст</th>\n",
       "      <th>Зарплата</th>\n",
       "      <th>Члены семьи</th>\n",
       "      <th>Страховые выплаты</th>\n",
       "    </tr>\n",
       "  </thead>\n",
       "  <tbody>\n",
       "    <tr>\n",
       "      <th>Пол</th>\n",
       "      <td>1.000000</td>\n",
       "      <td>0.001953</td>\n",
       "      <td>0.015456</td>\n",
       "      <td>-0.007315</td>\n",
       "      <td>0.011565</td>\n",
       "    </tr>\n",
       "    <tr>\n",
       "      <th>Возраст</th>\n",
       "      <td>0.001953</td>\n",
       "      <td>1.000000</td>\n",
       "      <td>-0.017386</td>\n",
       "      <td>-0.009064</td>\n",
       "      <td>0.654964</td>\n",
       "    </tr>\n",
       "    <tr>\n",
       "      <th>Зарплата</th>\n",
       "      <td>0.015456</td>\n",
       "      <td>-0.017386</td>\n",
       "      <td>1.000000</td>\n",
       "      <td>-0.031687</td>\n",
       "      <td>-0.013123</td>\n",
       "    </tr>\n",
       "    <tr>\n",
       "      <th>Члены семьи</th>\n",
       "      <td>-0.007315</td>\n",
       "      <td>-0.009064</td>\n",
       "      <td>-0.031687</td>\n",
       "      <td>1.000000</td>\n",
       "      <td>-0.039303</td>\n",
       "    </tr>\n",
       "    <tr>\n",
       "      <th>Страховые выплаты</th>\n",
       "      <td>0.011565</td>\n",
       "      <td>0.654964</td>\n",
       "      <td>-0.013123</td>\n",
       "      <td>-0.039303</td>\n",
       "      <td>1.000000</td>\n",
       "    </tr>\n",
       "  </tbody>\n",
       "</table>\n",
       "</div>"
      ],
      "text/plain": [
       "                        Пол   Возраст  Зарплата  Члены семьи  \\\n",
       "Пол                1.000000  0.001953  0.015456    -0.007315   \n",
       "Возраст            0.001953  1.000000 -0.017386    -0.009064   \n",
       "Зарплата           0.015456 -0.017386  1.000000    -0.031687   \n",
       "Члены семьи       -0.007315 -0.009064 -0.031687     1.000000   \n",
       "Страховые выплаты  0.011565  0.654964 -0.013123    -0.039303   \n",
       "\n",
       "                   Страховые выплаты  \n",
       "Пол                         0.011565  \n",
       "Возраст                     0.654964  \n",
       "Зарплата                   -0.013123  \n",
       "Члены семьи                -0.039303  \n",
       "Страховые выплаты           1.000000  "
      ]
     },
     "execution_count": 23,
     "metadata": {},
     "output_type": "execute_result"
    }
   ],
   "source": [
    "data.corr()"
   ]
  },
  {
   "cell_type": "markdown",
   "metadata": {},
   "source": [
    "## Умножение матриц\n",
    "\n",
    "**Признаки умножают на обратимую матрицу. Изменится ли качество линейной регрессии?**  "
   ]
  },
  {
   "cell_type": "markdown",
   "metadata": {},
   "source": [
    "Обозначения:\n",
    "\n",
    "- $X$ — матрица признаков (нулевой столбец состоит из единиц)\n",
    "\n",
    "- $y$ — вектор целевого признака\n",
    "\n",
    "- $P$ — матрица, на которую умножаются признаки\n",
    "\n",
    "- $w$ — вектор весов линейной регрессии (нулевой элемент равен сдвигу)"
   ]
  },
  {
   "cell_type": "markdown",
   "metadata": {},
   "source": [
    "Предсказания:\n",
    "\n",
    "$$\n",
    "a = Xw\n",
    "$$\n",
    "\n",
    "Задача обучения:\n",
    "\n",
    "$$\n",
    "w = \\arg\\min_w MSE(Xw, y)\n",
    "$$\n",
    "\n",
    "Формула обучения:\n",
    "\n",
    "$$\n",
    "w = (X^T X)^{-1} X^T y\n",
    "$$"
   ]
  },
  {
   "cell_type": "markdown",
   "metadata": {},
   "source": [
    "**Ответ:** Не изменится\n",
    "\n",
    "**Обоснование:** \n",
    "\n",
    "$X' = XP$, где Р - обратимая матрица, на которую умножается матрица Х.\n",
    "\n",
    "Рассчитываем новый вектор весов:\n",
    "\n",
    "$w' = ((XP)^T XP)^{-1} (XP)^T y = (P^T X^T XP)^{-1} P^T X^T y = P^{-1}(X^T X)^{-1}(P^T)^{-1} P^T X^T y = P^{-1}w$, где $(P^T)^{-1} P^T = E$\n",
    "\n",
    "Тогда:\n",
    "\n",
    "$a' = X'w' = XPP^{-1} w = XEw = Xw = a$\n",
    "\n",
    "Предсказания модели не изменились, соответственно качество осталось прежним."
   ]
  },
  {
   "cell_type": "markdown",
   "metadata": {},
   "source": [
    "## Алгоритм преобразования"
   ]
  },
  {
   "cell_type": "markdown",
   "metadata": {},
   "source": [
    "**Алгоритм**\n",
    "\n",
    "- Создадим случайную матрицу Р с размерностью, равной количеству признаков.\n",
    "\n",
    "- Проверим матрицы Р на обратимость. Если матрица вдруг окажется необратимой, создадим новую. \n",
    "\n",
    "- Умножим матрицу Р на матрицу признаков Х и получим матрицу преобразованных признаков Х'."
   ]
  },
  {
   "cell_type": "markdown",
   "metadata": {},
   "source": [
    "**Обоснование**\n",
    "\n",
    "При умножении признаков на обратимую матрицу качество линейной регрессии не меняется, а значит алгоритм поможет защитить персональную информацию клиентов, но не повлияет на работу модели."
   ]
  },
  {
   "cell_type": "markdown",
   "metadata": {},
   "source": [
    "## Проверка алгоритма\n",
    "Разобьем датасет на целевой признак и остальные."
   ]
  },
  {
   "cell_type": "code",
   "execution_count": 24,
   "metadata": {},
   "outputs": [
    {
     "name": "stdout",
     "output_type": "stream",
     "text": [
      "Признаки: (4847, 4)\n",
      "Целевой признак: (4847,)\n"
     ]
    }
   ],
   "source": [
    "features = data.drop(['Страховые выплаты'], axis=1)\n",
    "target = data['Страховые выплаты']\n",
    "\n",
    "print('Признаки:', features.shape)\n",
    "print('Целевой признак:', target.shape)"
   ]
  },
  {
   "cell_type": "markdown",
   "metadata": {},
   "source": [
    "Создадим случайную матрицу и проверим ее на обратимость."
   ]
  },
  {
   "cell_type": "code",
   "execution_count": 26,
   "metadata": {},
   "outputs": [
    {
     "data": {
      "text/plain": [
       "array([[-0.86112647, -0.74285491,  0.88799068,  0.27984951],\n",
       "       [-0.74785649,  0.92312392, -0.05357419,  1.56107771],\n",
       "       [-0.45096192, -0.62178957,  1.40967134,  0.32745623],\n",
       "       [-0.85487722,  1.00814378,  1.26778959, -1.19102091]])"
      ]
     },
     "execution_count": 26,
     "metadata": {},
     "output_type": "execute_result"
    }
   ],
   "source": [
    "def get_rand_matrix():\n",
    "    det = 0\n",
    "    while det == 0:\n",
    "        matrix = np.random.normal(size=(data.shape[1], data.shape[1]))\n",
    "        det = np.linalg.det(matrix)\n",
    "    return matrix\n",
    "\n",
    "matrix"
   ]
  },
  {
   "cell_type": "markdown",
   "metadata": {},
   "source": [
    "Умножим признаки на обратимую матрицу."
   ]
  },
  {
   "cell_type": "code",
   "execution_count": 27,
   "metadata": {
    "scrolled": true
   },
   "outputs": [
    {
     "data": {
      "text/plain": [
       "array([[-22400.08925388, -30802.64928153,  69919.65788344,\n",
       "         16304.92194383],\n",
       "       [-17171.80916077, -23584.53179994,  53566.31443552,\n",
       "         12513.95523339],\n",
       "       [ -9491.88811677, -13030.81036751,  29601.54456514,\n",
       "          6921.85205025],\n",
       "       ...,\n",
       "       [-15304.27590533, -21058.18764276,  47789.32264503,\n",
       "         11129.60565543],\n",
       "       [-14766.33332037, -20309.92862256,  46099.76566455,\n",
       "         10738.86916537],\n",
       "       [-18331.70985727, -25218.54376627,  57233.31225506,\n",
       "         13337.52187789]])"
      ]
     },
     "execution_count": 27,
     "metadata": {},
     "output_type": "execute_result"
    }
   ],
   "source": [
    "new_matrix = features.values @ matrix\n",
    "new_matrix"
   ]
  },
  {
   "cell_type": "markdown",
   "metadata": {},
   "source": [
    "**Обучение без преобразования**\n",
    "\n",
    "Разделим данные на обучающую и тестовую выборки, обучим модель линейной регрессии и посчитаем метрику r2."
   ]
  },
  {
   "cell_type": "code",
   "execution_count": 28,
   "metadata": {
    "scrolled": true
   },
   "outputs": [],
   "source": [
    "features_train, features_test, target_train, target_test = train_test_split(\n",
    "    features, target, test_size=0.25, random_state=12345)"
   ]
  },
  {
   "cell_type": "code",
   "execution_count": 29,
   "metadata": {},
   "outputs": [
    {
     "name": "stdout",
     "output_type": "stream",
     "text": [
      "R2: 0.42307727615837565\n"
     ]
    }
   ],
   "source": [
    "model_1 = LinearRegression()\n",
    "model_1.fit(features_train, target_train)\n",
    "predictions_1 = model_1.predict(features_test)\n",
    "r2_1 = r2_score(target_test, predictions_1)\n",
    "\n",
    "print('R2:', r2_1)"
   ]
  },
  {
   "cell_type": "markdown",
   "metadata": {},
   "source": [
    "**Обучение с преобразованием**\n",
    "\n",
    "Так же разделим данные, обучим модель и посчитаем r2."
   ]
  },
  {
   "cell_type": "code",
   "execution_count": 30,
   "metadata": {},
   "outputs": [],
   "source": [
    "enc_features_train, enc_features_test, enc_target_train, enc_target_test = train_test_split(\n",
    "    new_matrix, target, test_size=0.25, random_state=12345)"
   ]
  },
  {
   "cell_type": "code",
   "execution_count": 31,
   "metadata": {},
   "outputs": [
    {
     "name": "stdout",
     "output_type": "stream",
     "text": [
      "R2: 0.4230772761584465\n"
     ]
    }
   ],
   "source": [
    "model_2 = LinearRegression()\n",
    "model_2.fit(enc_features_train, enc_target_train)\n",
    "predictions_2 = model_2.predict(enc_features_test)\n",
    "r2_2 = r2_score(enc_target_test, predictions_2)\n",
    "\n",
    "print('R2:', r2_2)"
   ]
  },
  {
   "cell_type": "markdown",
   "metadata": {},
   "source": [
    "Качество почти не изменилось."
   ]
  },
  {
   "cell_type": "markdown",
   "metadata": {},
   "source": [
    "# Вывод\n",
    "\n",
    "Для защиты данных клиентов был предложен метод преобразования данных путем умножения признаков на обратимую матрицу, не теряя при этом качество линейной регрессии."
   ]
  }
 ],
 "metadata": {
  "ExecuteTimeLog": [
   {
    "duration": 91,
    "start_time": "2023-01-13T19:16:32.406Z"
   },
   {
    "duration": 1126,
    "start_time": "2023-01-13T19:16:38.943Z"
   },
   {
    "duration": 94,
    "start_time": "2023-01-13T19:17:25.055Z"
   },
   {
    "duration": 44,
    "start_time": "2023-01-13T19:19:40.071Z"
   },
   {
    "duration": 20,
    "start_time": "2023-01-13T19:22:10.445Z"
   },
   {
    "duration": 19,
    "start_time": "2023-01-13T19:22:30.588Z"
   },
   {
    "duration": 24,
    "start_time": "2023-01-13T19:25:31.545Z"
   },
   {
    "duration": 18,
    "start_time": "2023-01-13T19:27:22.857Z"
   },
   {
    "duration": 25,
    "start_time": "2023-01-13T19:30:33.415Z"
   },
   {
    "duration": 1130,
    "start_time": "2023-01-14T14:49:26.668Z"
   },
   {
    "duration": 113,
    "start_time": "2023-01-14T14:49:27.801Z"
   },
   {
    "duration": 29,
    "start_time": "2023-01-14T14:49:27.916Z"
   },
   {
    "duration": 14,
    "start_time": "2023-01-14T14:49:27.946Z"
   },
   {
    "duration": 1158,
    "start_time": "2023-01-15T10:55:34.974Z"
   },
   {
    "duration": 98,
    "start_time": "2023-01-15T10:55:36.134Z"
   },
   {
    "duration": 26,
    "start_time": "2023-01-15T10:55:36.234Z"
   },
   {
    "duration": 14,
    "start_time": "2023-01-15T10:55:36.262Z"
   },
   {
    "duration": 110,
    "start_time": "2023-01-15T11:04:08.547Z"
   },
   {
    "duration": 72,
    "start_time": "2023-01-15T11:04:41.379Z"
   },
   {
    "duration": 6,
    "start_time": "2023-01-15T11:04:52.451Z"
   },
   {
    "duration": 4,
    "start_time": "2023-01-15T11:39:26.207Z"
   },
   {
    "duration": 5,
    "start_time": "2023-01-15T11:39:51.455Z"
   },
   {
    "duration": 4,
    "start_time": "2023-01-15T11:39:57.844Z"
   },
   {
    "duration": 7,
    "start_time": "2023-01-15T11:40:12.704Z"
   },
   {
    "duration": 12,
    "start_time": "2023-01-15T11:41:03.882Z"
   },
   {
    "duration": 7,
    "start_time": "2023-01-15T11:42:50.668Z"
   },
   {
    "duration": 7,
    "start_time": "2023-01-15T11:43:58.224Z"
   },
   {
    "duration": 277,
    "start_time": "2023-01-15T11:44:29.631Z"
   },
   {
    "duration": 7,
    "start_time": "2023-01-15T11:45:57.261Z"
   },
   {
    "duration": 6,
    "start_time": "2023-01-15T11:46:05.545Z"
   },
   {
    "duration": 6,
    "start_time": "2023-01-15T11:46:37.046Z"
   },
   {
    "duration": 6,
    "start_time": "2023-01-15T11:46:45.188Z"
   },
   {
    "duration": 6,
    "start_time": "2023-01-15T11:46:54.113Z"
   },
   {
    "duration": 8,
    "start_time": "2023-01-15T11:47:09.896Z"
   },
   {
    "duration": 4,
    "start_time": "2023-01-15T11:51:06.559Z"
   },
   {
    "duration": 11,
    "start_time": "2023-01-15T11:51:13.249Z"
   },
   {
    "duration": 5,
    "start_time": "2023-01-15T11:51:29.529Z"
   },
   {
    "duration": 8,
    "start_time": "2023-01-15T11:56:31.812Z"
   },
   {
    "duration": 7,
    "start_time": "2023-01-15T11:56:40.330Z"
   },
   {
    "duration": 10,
    "start_time": "2023-01-15T11:56:55.758Z"
   },
   {
    "duration": 4,
    "start_time": "2023-01-15T11:58:22.805Z"
   },
   {
    "duration": 13,
    "start_time": "2023-01-15T11:59:55.820Z"
   },
   {
    "duration": 10,
    "start_time": "2023-01-15T12:00:17.653Z"
   },
   {
    "duration": 5,
    "start_time": "2023-01-15T12:03:50.388Z"
   },
   {
    "duration": 8,
    "start_time": "2023-01-15T12:04:44.127Z"
   },
   {
    "duration": 1112,
    "start_time": "2023-01-15T12:18:55.400Z"
   },
   {
    "duration": 29,
    "start_time": "2023-01-15T12:18:56.515Z"
   },
   {
    "duration": 29,
    "start_time": "2023-01-15T12:18:56.546Z"
   },
   {
    "duration": 15,
    "start_time": "2023-01-15T12:18:56.577Z"
   },
   {
    "duration": 12,
    "start_time": "2023-01-15T12:18:56.593Z"
   },
   {
    "duration": 13,
    "start_time": "2023-01-15T12:18:56.607Z"
   },
   {
    "duration": 57,
    "start_time": "2023-01-15T12:18:56.622Z"
   },
   {
    "duration": 17,
    "start_time": "2023-01-15T12:18:56.682Z"
   },
   {
    "duration": 106,
    "start_time": "2023-01-15T12:18:56.700Z"
   },
   {
    "duration": 24,
    "start_time": "2023-01-15T12:18:56.808Z"
   },
   {
    "duration": 27,
    "start_time": "2023-01-15T12:18:56.834Z"
   },
   {
    "duration": 86,
    "start_time": "2023-01-15T12:19:20.305Z"
   },
   {
    "duration": 7,
    "start_time": "2023-01-15T12:19:28.158Z"
   },
   {
    "duration": 1879,
    "start_time": "2023-01-15T12:46:06.726Z"
   },
   {
    "duration": 28,
    "start_time": "2023-01-15T12:46:08.607Z"
   },
   {
    "duration": 27,
    "start_time": "2023-01-15T12:46:08.636Z"
   },
   {
    "duration": 13,
    "start_time": "2023-01-15T12:46:08.665Z"
   },
   {
    "duration": 6,
    "start_time": "2023-01-15T12:46:08.680Z"
   },
   {
    "duration": 9,
    "start_time": "2023-01-15T12:46:08.688Z"
   },
   {
    "duration": 59,
    "start_time": "2023-01-15T12:46:08.699Z"
   },
   {
    "duration": 7,
    "start_time": "2023-01-15T12:46:08.761Z"
   },
   {
    "duration": 11,
    "start_time": "2023-01-15T12:46:08.850Z"
   },
   {
    "duration": 5,
    "start_time": "2023-01-15T12:46:08.865Z"
   },
   {
    "duration": 11,
    "start_time": "2023-01-15T12:46:08.871Z"
   },
   {
    "duration": 1029,
    "start_time": "2023-01-15T16:32:11.046Z"
   },
   {
    "duration": 102,
    "start_time": "2023-01-15T16:32:12.077Z"
   },
   {
    "duration": 31,
    "start_time": "2023-01-15T16:32:12.181Z"
   },
   {
    "duration": 18,
    "start_time": "2023-01-15T16:32:12.214Z"
   },
   {
    "duration": 8,
    "start_time": "2023-01-15T16:32:12.235Z"
   },
   {
    "duration": 9,
    "start_time": "2023-01-15T16:32:12.245Z"
   },
   {
    "duration": 67,
    "start_time": "2023-01-15T16:32:12.256Z"
   },
   {
    "duration": 91,
    "start_time": "2023-01-15T16:32:12.325Z"
   },
   {
    "duration": 12,
    "start_time": "2023-01-15T16:32:12.420Z"
   },
   {
    "duration": 6,
    "start_time": "2023-01-15T16:32:12.434Z"
   },
   {
    "duration": 8,
    "start_time": "2023-01-15T16:32:12.442Z"
   },
   {
    "duration": 4,
    "start_time": "2023-01-15T16:44:08.584Z"
   },
   {
    "duration": 4,
    "start_time": "2023-01-15T16:44:23.937Z"
   },
   {
    "duration": 3,
    "start_time": "2023-01-15T16:44:47.301Z"
   },
   {
    "duration": 5,
    "start_time": "2023-01-15T16:44:49.239Z"
   },
   {
    "duration": 148,
    "start_time": "2023-01-15T16:45:09.673Z"
   },
   {
    "duration": 5,
    "start_time": "2023-01-15T16:45:50.982Z"
   },
   {
    "duration": 10,
    "start_time": "2023-01-15T17:11:21.534Z"
   },
   {
    "duration": 3,
    "start_time": "2023-01-15T17:12:56.730Z"
   },
   {
    "duration": 43,
    "start_time": "2023-01-15T17:12:56.735Z"
   },
   {
    "duration": 23,
    "start_time": "2023-01-15T17:12:56.780Z"
   },
   {
    "duration": 28,
    "start_time": "2023-01-15T17:12:56.805Z"
   },
   {
    "duration": 18,
    "start_time": "2023-01-15T17:12:56.837Z"
   },
   {
    "duration": 20,
    "start_time": "2023-01-15T17:12:56.857Z"
   },
   {
    "duration": 22,
    "start_time": "2023-01-15T17:12:56.879Z"
   },
   {
    "duration": 30,
    "start_time": "2023-01-15T17:12:56.903Z"
   },
   {
    "duration": 28,
    "start_time": "2023-01-15T17:12:56.935Z"
   },
   {
    "duration": 29,
    "start_time": "2023-01-15T17:12:56.965Z"
   },
   {
    "duration": 24,
    "start_time": "2023-01-15T17:12:56.996Z"
   },
   {
    "duration": 20,
    "start_time": "2023-01-15T17:12:57.022Z"
   },
   {
    "duration": 26,
    "start_time": "2023-01-15T17:12:57.045Z"
   }
  ],
  "kernelspec": {
   "display_name": "Python 3 (ipykernel)",
   "language": "python",
   "name": "python3"
  },
  "language_info": {
   "codemirror_mode": {
    "name": "ipython",
    "version": 3
   },
   "file_extension": ".py",
   "mimetype": "text/x-python",
   "name": "python",
   "nbconvert_exporter": "python",
   "pygments_lexer": "ipython3",
   "version": "3.9.13"
  },
  "toc": {
   "base_numbering": 1,
   "nav_menu": {},
   "number_sections": true,
   "sideBar": true,
   "skip_h1_title": true,
   "title_cell": "Содержание",
   "title_sidebar": "Contents",
   "toc_cell": true,
   "toc_position": {},
   "toc_section_display": true,
   "toc_window_display": false
  }
 },
 "nbformat": 4,
 "nbformat_minor": 2
}
