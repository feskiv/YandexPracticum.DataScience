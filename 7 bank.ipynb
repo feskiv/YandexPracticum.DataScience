{
 "cells": [
  {
   "cell_type": "markdown",
   "metadata": {},
   "source": [
    "# Отток клиентов"
   ]
  },
  {
   "cell_type": "markdown",
   "metadata": {},
   "source": [
    "Из банка стали уходить клиенты. Каждый месяц. Немного, но заметно. Банковские маркетологи посчитали: сохранять текущих клиентов дешевле, чем привлекать новых.\n",
    "\n",
    "По историческим данным о поведении клиентов и расторжении договоров с банком нужно спрогнозировать, уйдёт клиент из банка в ближайшее время или нет."
   ]
  },
  {
   "cell_type": "markdown",
   "metadata": {},
   "source": [
    "<h1>Содержание<span class=\"tocSkip\"></span></h1>\n",
    "<div class=\"toc\"><ul class=\"toc-item\"><li><span><a href=\"#Подготовка-данных\" data-toc-modified-id=\"Подготовка-данных-1\"><span class=\"toc-item-num\">1&nbsp;&nbsp;</span>Подготовка данных</a></span><ul class=\"toc-item\"><li><span><a href=\"#Изучение-данных\" data-toc-modified-id=\"Изучение-данных-1.1\"><span class=\"toc-item-num\">1.1&nbsp;&nbsp;</span>Изучение данных</a></span></li><li><span><a href=\"#Предобработка-данных\" data-toc-modified-id=\"Предобработка-данных-1.2\"><span class=\"toc-item-num\">1.2&nbsp;&nbsp;</span>Предобработка данных</a></span></li></ul></li><li><span><a href=\"#Исследование-задачи\" data-toc-modified-id=\"Исследование-задачи-2\"><span class=\"toc-item-num\">2&nbsp;&nbsp;</span>Исследование задачи</a></span><ul class=\"toc-item\"><li><span><a href=\"#Разделение-на-выборки\" data-toc-modified-id=\"Разделение-на-выборки-2.1\"><span class=\"toc-item-num\">2.1&nbsp;&nbsp;</span>Разделение на выборки</a></span></li><li><span><a href=\"#Стандартизация\" data-toc-modified-id=\"Стандартизация-2.2\"><span class=\"toc-item-num\">2.2&nbsp;&nbsp;</span>Стандартизация</a></span></li><li><span><a href=\"#Обучение-моделей\" data-toc-modified-id=\"Обучение-моделей-2.3\"><span class=\"toc-item-num\">2.3&nbsp;&nbsp;</span>Обучение моделей</a></span></li></ul></li><li><span><a href=\"#Борьба-с-дисбалансом\" data-toc-modified-id=\"Борьба-с-дисбалансом-3\"><span class=\"toc-item-num\">3&nbsp;&nbsp;</span>Борьба с дисбалансом</a></span><ul class=\"toc-item\"><li><span><a href=\"#Взвешивание-классов\" data-toc-modified-id=\"Взвешивание-классов-3.1\"><span class=\"toc-item-num\">3.1&nbsp;&nbsp;</span>Взвешивание классов</a></span></li><li><span><a href=\"#Увеличение-и-уменьшение-выборки\" data-toc-modified-id=\"Увеличение-и-уменьшение-выборки-3.2\"><span class=\"toc-item-num\">3.2&nbsp;&nbsp;</span>Увеличение и уменьшение выборки</a></span></li><li><span><a href=\"#Подбор-гиперпараметров\" data-toc-modified-id=\"Подбор-гиперпараметров-3.3\"><span class=\"toc-item-num\">3.3&nbsp;&nbsp;</span>Подбор гиперпараметров</a></span></li></ul></li><li><span><a href=\"#Тестирование-модели\" data-toc-modified-id=\"Тестирование-модели-4\"><span class=\"toc-item-num\">4&nbsp;&nbsp;</span>Тестирование модели</a></span></li><li><span><a href=\"#Вывод\" data-toc-modified-id=\"Вывод-5\"><span class=\"toc-item-num\">5&nbsp;&nbsp;</span>Вывод</a></span></li><li><span><a href=\"#Чек-лист-готовности-проекта\" data-toc-modified-id=\"Чек-лист-готовности-проекта-6\"><span class=\"toc-item-num\">6&nbsp;&nbsp;</span>Чек-лист готовности проекта</a></span></li></ul></div>"
   ]
  },
  {
   "cell_type": "markdown",
   "metadata": {},
   "source": [
    "## Подготовка данных\n",
    "### Изучение данных"
   ]
  },
  {
   "cell_type": "code",
   "execution_count": 1,
   "metadata": {},
   "outputs": [],
   "source": [
    "import pandas as pd\n",
    "import numpy as np\n",
    "\n",
    "from sklearn.model_selection import train_test_split\n",
    "\n",
    "from sklearn.linear_model import LogisticRegression\n",
    "from sklearn.tree import DecisionTreeClassifier\n",
    "from sklearn.ensemble import RandomForestClassifier\n",
    "\n",
    "\n",
    "from sklearn.preprocessing import StandardScaler \n",
    "from sklearn.metrics import f1_score, roc_auc_score\n",
    "from sklearn.utils import shuffle"
   ]
  },
  {
   "cell_type": "code",
   "execution_count": 2,
   "metadata": {
    "scrolled": true
   },
   "outputs": [
    {
     "data": {
      "text/html": [
       "<div>\n",
       "<style scoped>\n",
       "    .dataframe tbody tr th:only-of-type {\n",
       "        vertical-align: middle;\n",
       "    }\n",
       "\n",
       "    .dataframe tbody tr th {\n",
       "        vertical-align: top;\n",
       "    }\n",
       "\n",
       "    .dataframe thead th {\n",
       "        text-align: right;\n",
       "    }\n",
       "</style>\n",
       "<table border=\"1\" class=\"dataframe\">\n",
       "  <thead>\n",
       "    <tr style=\"text-align: right;\">\n",
       "      <th></th>\n",
       "      <th>RowNumber</th>\n",
       "      <th>CustomerId</th>\n",
       "      <th>Surname</th>\n",
       "      <th>CreditScore</th>\n",
       "      <th>Geography</th>\n",
       "      <th>Gender</th>\n",
       "      <th>Age</th>\n",
       "      <th>Tenure</th>\n",
       "      <th>Balance</th>\n",
       "      <th>NumOfProducts</th>\n",
       "      <th>HasCrCard</th>\n",
       "      <th>IsActiveMember</th>\n",
       "      <th>EstimatedSalary</th>\n",
       "      <th>Exited</th>\n",
       "    </tr>\n",
       "  </thead>\n",
       "  <tbody>\n",
       "    <tr>\n",
       "      <th>0</th>\n",
       "      <td>1</td>\n",
       "      <td>15634602</td>\n",
       "      <td>Hargrave</td>\n",
       "      <td>619</td>\n",
       "      <td>France</td>\n",
       "      <td>Female</td>\n",
       "      <td>42</td>\n",
       "      <td>2.0</td>\n",
       "      <td>0.00</td>\n",
       "      <td>1</td>\n",
       "      <td>1</td>\n",
       "      <td>1</td>\n",
       "      <td>101348.88</td>\n",
       "      <td>1</td>\n",
       "    </tr>\n",
       "    <tr>\n",
       "      <th>1</th>\n",
       "      <td>2</td>\n",
       "      <td>15647311</td>\n",
       "      <td>Hill</td>\n",
       "      <td>608</td>\n",
       "      <td>Spain</td>\n",
       "      <td>Female</td>\n",
       "      <td>41</td>\n",
       "      <td>1.0</td>\n",
       "      <td>83807.86</td>\n",
       "      <td>1</td>\n",
       "      <td>0</td>\n",
       "      <td>1</td>\n",
       "      <td>112542.58</td>\n",
       "      <td>0</td>\n",
       "    </tr>\n",
       "    <tr>\n",
       "      <th>2</th>\n",
       "      <td>3</td>\n",
       "      <td>15619304</td>\n",
       "      <td>Onio</td>\n",
       "      <td>502</td>\n",
       "      <td>France</td>\n",
       "      <td>Female</td>\n",
       "      <td>42</td>\n",
       "      <td>8.0</td>\n",
       "      <td>159660.80</td>\n",
       "      <td>3</td>\n",
       "      <td>1</td>\n",
       "      <td>0</td>\n",
       "      <td>113931.57</td>\n",
       "      <td>1</td>\n",
       "    </tr>\n",
       "    <tr>\n",
       "      <th>3</th>\n",
       "      <td>4</td>\n",
       "      <td>15701354</td>\n",
       "      <td>Boni</td>\n",
       "      <td>699</td>\n",
       "      <td>France</td>\n",
       "      <td>Female</td>\n",
       "      <td>39</td>\n",
       "      <td>1.0</td>\n",
       "      <td>0.00</td>\n",
       "      <td>2</td>\n",
       "      <td>0</td>\n",
       "      <td>0</td>\n",
       "      <td>93826.63</td>\n",
       "      <td>0</td>\n",
       "    </tr>\n",
       "    <tr>\n",
       "      <th>4</th>\n",
       "      <td>5</td>\n",
       "      <td>15737888</td>\n",
       "      <td>Mitchell</td>\n",
       "      <td>850</td>\n",
       "      <td>Spain</td>\n",
       "      <td>Female</td>\n",
       "      <td>43</td>\n",
       "      <td>2.0</td>\n",
       "      <td>125510.82</td>\n",
       "      <td>1</td>\n",
       "      <td>1</td>\n",
       "      <td>1</td>\n",
       "      <td>79084.10</td>\n",
       "      <td>0</td>\n",
       "    </tr>\n",
       "  </tbody>\n",
       "</table>\n",
       "</div>"
      ],
      "text/plain": [
       "   RowNumber  CustomerId   Surname  CreditScore Geography  Gender  Age  \\\n",
       "0          1    15634602  Hargrave          619    France  Female   42   \n",
       "1          2    15647311      Hill          608     Spain  Female   41   \n",
       "2          3    15619304      Onio          502    France  Female   42   \n",
       "3          4    15701354      Boni          699    France  Female   39   \n",
       "4          5    15737888  Mitchell          850     Spain  Female   43   \n",
       "\n",
       "   Tenure    Balance  NumOfProducts  HasCrCard  IsActiveMember  \\\n",
       "0     2.0       0.00              1          1               1   \n",
       "1     1.0   83807.86              1          0               1   \n",
       "2     8.0  159660.80              3          1               0   \n",
       "3     1.0       0.00              2          0               0   \n",
       "4     2.0  125510.82              1          1               1   \n",
       "\n",
       "   EstimatedSalary  Exited  \n",
       "0        101348.88       1  \n",
       "1        112542.58       0  \n",
       "2        113931.57       1  \n",
       "3         93826.63       0  \n",
       "4         79084.10       0  "
      ]
     },
     "execution_count": 2,
     "metadata": {},
     "output_type": "execute_result"
    }
   ],
   "source": [
    "data = pd.read_csv('/datasets/Churn.csv')\n",
    "data.head()"
   ]
  },
  {
   "cell_type": "code",
   "execution_count": 3,
   "metadata": {
    "scrolled": true
   },
   "outputs": [
    {
     "name": "stdout",
     "output_type": "stream",
     "text": [
      "<class 'pandas.core.frame.DataFrame'>\n",
      "RangeIndex: 10000 entries, 0 to 9999\n",
      "Data columns (total 14 columns):\n",
      " #   Column           Non-Null Count  Dtype  \n",
      "---  ------           --------------  -----  \n",
      " 0   RowNumber        10000 non-null  int64  \n",
      " 1   CustomerId       10000 non-null  int64  \n",
      " 2   Surname          10000 non-null  object \n",
      " 3   CreditScore      10000 non-null  int64  \n",
      " 4   Geography        10000 non-null  object \n",
      " 5   Gender           10000 non-null  object \n",
      " 6   Age              10000 non-null  int64  \n",
      " 7   Tenure           9091 non-null   float64\n",
      " 8   Balance          10000 non-null  float64\n",
      " 9   NumOfProducts    10000 non-null  int64  \n",
      " 10  HasCrCard        10000 non-null  int64  \n",
      " 11  IsActiveMember   10000 non-null  int64  \n",
      " 12  EstimatedSalary  10000 non-null  float64\n",
      " 13  Exited           10000 non-null  int64  \n",
      "dtypes: float64(3), int64(8), object(3)\n",
      "memory usage: 1.1+ MB\n"
     ]
    }
   ],
   "source": [
    "data.info()"
   ]
  },
  {
   "cell_type": "code",
   "execution_count": 4,
   "metadata": {},
   "outputs": [],
   "source": [
    "#!pip install pandas-profiling\n",
    "#import pandas_profiling \n",
    "\n",
    "#pandas_profiling.ProfileReport(data)"
   ]
  },
  {
   "cell_type": "code",
   "execution_count": 5,
   "metadata": {},
   "outputs": [
    {
     "data": {
      "text/plain": [
       "0"
      ]
     },
     "execution_count": 5,
     "metadata": {},
     "output_type": "execute_result"
    }
   ],
   "source": [
    "# проверим на дубликаты\n",
    "data.duplicated().sum()"
   ]
  },
  {
   "cell_type": "code",
   "execution_count": 6,
   "metadata": {
    "scrolled": true
   },
   "outputs": [
    {
     "data": {
      "text/plain": [
       "0    7963\n",
       "1    2037\n",
       "Name: Exited, dtype: int64"
      ]
     },
     "execution_count": 6,
     "metadata": {},
     "output_type": "execute_result"
    }
   ],
   "source": [
    "# посмотрим распределение значений в целевом признаке\n",
    "data['Exited'].value_counts()"
   ]
  },
  {
   "cell_type": "markdown",
   "metadata": {},
   "source": [
    "В датасете 10000 объектов, присутствуют как количиственные, так и качественные признаки.\n",
    "\n",
    "Есть неинформативные признаки, которые только усложнят обучение модели - 'RowNumber', 'CustomerId', 'Surname'. В одном из признаков - 'Tenure' - присутствуют пропуски, необходимо будет их обработать.\n",
    "\n",
    "В целевом признаке 2 класса, они не сбалансированы - разберемся с этим позже.\n",
    "\n",
    "\n",
    "### Предобработка данных\n",
    "Удалим столбцы 'RowNumber', 'CustomerId', 'Surname' - данные в них не помогут в обучении модели."
   ]
  },
  {
   "cell_type": "code",
   "execution_count": 7,
   "metadata": {},
   "outputs": [],
   "source": [
    "data = data.drop(['RowNumber', 'CustomerId', 'Surname'], axis=1)"
   ]
  },
  {
   "cell_type": "markdown",
   "metadata": {},
   "source": [
    "Пропуски в столбце 'Tenure' заполним случайными значениямии, т.к. настоящие значения узнать невозможно."
   ]
  },
  {
   "cell_type": "code",
   "execution_count": 8,
   "metadata": {},
   "outputs": [
    {
     "data": {
      "text/plain": [
       "array([ 2.,  1.,  8.,  7.,  4.,  6.,  3., 10.,  5.,  9.,  0., nan])"
      ]
     },
     "execution_count": 8,
     "metadata": {},
     "output_type": "execute_result"
    }
   ],
   "source": [
    "data['Tenure'].unique()"
   ]
  },
  {
   "cell_type": "code",
   "execution_count": 9,
   "metadata": {
    "scrolled": true
   },
   "outputs": [
    {
     "name": "stdout",
     "output_type": "stream",
     "text": [
      "<class 'pandas.core.frame.DataFrame'>\n",
      "RangeIndex: 10000 entries, 0 to 9999\n",
      "Data columns (total 11 columns):\n",
      " #   Column           Non-Null Count  Dtype  \n",
      "---  ------           --------------  -----  \n",
      " 0   CreditScore      10000 non-null  int64  \n",
      " 1   Geography        10000 non-null  object \n",
      " 2   Gender           10000 non-null  object \n",
      " 3   Age              10000 non-null  int64  \n",
      " 4   Tenure           10000 non-null  float64\n",
      " 5   Balance          10000 non-null  float64\n",
      " 6   NumOfProducts    10000 non-null  int64  \n",
      " 7   HasCrCard        10000 non-null  int64  \n",
      " 8   IsActiveMember   10000 non-null  int64  \n",
      " 9   EstimatedSalary  10000 non-null  float64\n",
      " 10  Exited           10000 non-null  int64  \n",
      "dtypes: float64(3), int64(6), object(2)\n",
      "memory usage: 859.5+ KB\n"
     ]
    }
   ],
   "source": [
    "#data.fillna('-1', inplace = True)\n",
    "#data['Tenure'] = data['Tenure'].astype(int)\n",
    "#data.info()\n",
    "\n",
    "data.loc[data['Tenure'].isna(), 'Tenure'] = data['Tenure'].apply(lambda x: np.random.randint(1, 10))\n",
    "data.info()"
   ]
  },
  {
   "cell_type": "markdown",
   "metadata": {},
   "source": [
    "## Исследование задачи"
   ]
  },
  {
   "cell_type": "markdown",
   "metadata": {},
   "source": [
    "### Разделение на выборки\n",
    "Целевой признак - 'Exited', остальные признаки помогут предсказать значения этого столбца.\n",
    "\n",
    "Разобьем данные на три выборки: обучающую, валидационную и тестовую, в пропорции 3:1:1. Затем признаки каждой из выборок запишем в отдельные переменные."
   ]
  },
  {
   "cell_type": "code",
   "execution_count": 11,
   "metadata": {},
   "outputs": [],
   "source": [
    "target = data['Exited']\n",
    "features = data.drop('Exited', axis=1)"
   ]
  },
  {
   "cell_type": "code",
   "execution_count": 12,
   "metadata": {
    "scrolled": true
   },
   "outputs": [
    {
     "name": "stdout",
     "output_type": "stream",
     "text": [
      "Размер обучающей выборки:\n",
      "признаки:\n",
      "(6000, 10)\n",
      "целевой признак:\n",
      "(6000,)\n",
      "Размер валидационной выборки:\n",
      "признаки:\n",
      "(2000, 10)\n",
      "целевой признак:\n",
      "(2000,)\n",
      "Размер тестовой выборки:\n",
      "признаки:\n",
      "(2000, 10)\n",
      "целевой признак:\n",
      "(2000,)\n"
     ]
    }
   ],
   "source": [
    "features_train, features_valid, target_train, target_valid = train_test_split(features,\n",
    "                                                                              target, test_size = 0.4, \n",
    "                                                                              random_state = 12345)\n",
    "\n",
    "features_test, features_valid, target_test, target_valid = train_test_split(features_valid,\n",
    "                                                                            target_valid, test_size = 0.5, \n",
    "                                                                            random_state = 12345)\n",
    "\n",
    "print('Размер обучающей выборки:', 'признаки:', features_train.shape, 'целевой признак:', target_train.shape, sep='\\n')\n",
    "print('Размер валидационной выборки:', 'признаки:', features_valid.shape, 'целевой признак:', target_valid.shape, sep='\\n')\n",
    "print('Размер тестовой выборки:', 'признаки:', features_test.shape, 'целевой признак:', target_test.shape, sep='\\n')"
   ]
  },
  {
   "cell_type": "code",
   "execution_count": 13,
   "metadata": {
    "scrolled": true
   },
   "outputs": [
    {
     "data": {
      "text/plain": [
       "array(['France', 'Spain', 'Germany'], dtype=object)"
      ]
     },
     "execution_count": 13,
     "metadata": {},
     "output_type": "execute_result"
    }
   ],
   "source": [
    "# проверим, какие значения содержит столбец 'Geography'\n",
    "data['Geography'].unique()"
   ]
  },
  {
   "cell_type": "markdown",
   "metadata": {},
   "source": [
    "Преобразуем столбцы 'Geography', 'Gender' из категориальных в численные техникой OHE и удалим один столбец, чтобы не попасть в дамми-ловушку."
   ]
  },
  {
   "cell_type": "code",
   "execution_count": 14,
   "metadata": {},
   "outputs": [
    {
     "data": {
      "text/html": [
       "<div>\n",
       "<style scoped>\n",
       "    .dataframe tbody tr th:only-of-type {\n",
       "        vertical-align: middle;\n",
       "    }\n",
       "\n",
       "    .dataframe tbody tr th {\n",
       "        vertical-align: top;\n",
       "    }\n",
       "\n",
       "    .dataframe thead th {\n",
       "        text-align: right;\n",
       "    }\n",
       "</style>\n",
       "<table border=\"1\" class=\"dataframe\">\n",
       "  <thead>\n",
       "    <tr style=\"text-align: right;\">\n",
       "      <th></th>\n",
       "      <th>CreditScore</th>\n",
       "      <th>Age</th>\n",
       "      <th>Tenure</th>\n",
       "      <th>Balance</th>\n",
       "      <th>NumOfProducts</th>\n",
       "      <th>HasCrCard</th>\n",
       "      <th>IsActiveMember</th>\n",
       "      <th>EstimatedSalary</th>\n",
       "      <th>Geography_Germany</th>\n",
       "      <th>Geography_Spain</th>\n",
       "      <th>Gender_Male</th>\n",
       "    </tr>\n",
       "  </thead>\n",
       "  <tbody>\n",
       "    <tr>\n",
       "      <th>7479</th>\n",
       "      <td>567</td>\n",
       "      <td>35</td>\n",
       "      <td>8.0</td>\n",
       "      <td>153137.74</td>\n",
       "      <td>1</td>\n",
       "      <td>1</td>\n",
       "      <td>0</td>\n",
       "      <td>88659.07</td>\n",
       "      <td>0</td>\n",
       "      <td>1</td>\n",
       "      <td>1</td>\n",
       "    </tr>\n",
       "    <tr>\n",
       "      <th>3411</th>\n",
       "      <td>711</td>\n",
       "      <td>37</td>\n",
       "      <td>8.0</td>\n",
       "      <td>113899.92</td>\n",
       "      <td>1</td>\n",
       "      <td>0</td>\n",
       "      <td>0</td>\n",
       "      <td>80215.20</td>\n",
       "      <td>0</td>\n",
       "      <td>0</td>\n",
       "      <td>0</td>\n",
       "    </tr>\n",
       "    <tr>\n",
       "      <th>6027</th>\n",
       "      <td>850</td>\n",
       "      <td>44</td>\n",
       "      <td>3.0</td>\n",
       "      <td>140393.65</td>\n",
       "      <td>2</td>\n",
       "      <td>0</td>\n",
       "      <td>1</td>\n",
       "      <td>186285.52</td>\n",
       "      <td>1</td>\n",
       "      <td>0</td>\n",
       "      <td>1</td>\n",
       "    </tr>\n",
       "    <tr>\n",
       "      <th>1247</th>\n",
       "      <td>512</td>\n",
       "      <td>24</td>\n",
       "      <td>6.0</td>\n",
       "      <td>0.00</td>\n",
       "      <td>2</td>\n",
       "      <td>1</td>\n",
       "      <td>0</td>\n",
       "      <td>37654.31</td>\n",
       "      <td>0</td>\n",
       "      <td>0</td>\n",
       "      <td>1</td>\n",
       "    </tr>\n",
       "    <tr>\n",
       "      <th>3716</th>\n",
       "      <td>665</td>\n",
       "      <td>27</td>\n",
       "      <td>2.0</td>\n",
       "      <td>147435.96</td>\n",
       "      <td>1</td>\n",
       "      <td>0</td>\n",
       "      <td>0</td>\n",
       "      <td>187508.06</td>\n",
       "      <td>1</td>\n",
       "      <td>0</td>\n",
       "      <td>0</td>\n",
       "    </tr>\n",
       "  </tbody>\n",
       "</table>\n",
       "</div>"
      ],
      "text/plain": [
       "      CreditScore  Age  Tenure    Balance  NumOfProducts  HasCrCard  \\\n",
       "7479          567   35     8.0  153137.74              1          1   \n",
       "3411          711   37     8.0  113899.92              1          0   \n",
       "6027          850   44     3.0  140393.65              2          0   \n",
       "1247          512   24     6.0       0.00              2          1   \n",
       "3716          665   27     2.0  147435.96              1          0   \n",
       "\n",
       "      IsActiveMember  EstimatedSalary  Geography_Germany  Geography_Spain  \\\n",
       "7479               0         88659.07                  0                1   \n",
       "3411               0         80215.20                  0                0   \n",
       "6027               1        186285.52                  1                0   \n",
       "1247               0         37654.31                  0                0   \n",
       "3716               0        187508.06                  1                0   \n",
       "\n",
       "      Gender_Male  \n",
       "7479            1  \n",
       "3411            0  \n",
       "6027            1  \n",
       "1247            1  \n",
       "3716            0  "
      ]
     },
     "execution_count": 14,
     "metadata": {},
     "output_type": "execute_result"
    }
   ],
   "source": [
    "features_train = pd.get_dummies(features_train, drop_first=True)\n",
    "features_valid = pd.get_dummies(features_valid, drop_first=True)\n",
    "features_test = pd.get_dummies(features_test, drop_first=True)\n",
    "features_train.head()"
   ]
  },
  {
   "cell_type": "markdown",
   "metadata": {},
   "source": [
    "### Стандартизация\n",
    "\n",
    "Проверим масштаб данных и стандартное отклонение."
   ]
  },
  {
   "cell_type": "code",
   "execution_count": 15,
   "metadata": {
    "scrolled": false
   },
   "outputs": [
    {
     "data": {
      "text/html": [
       "<div>\n",
       "<style scoped>\n",
       "    .dataframe tbody tr th:only-of-type {\n",
       "        vertical-align: middle;\n",
       "    }\n",
       "\n",
       "    .dataframe tbody tr th {\n",
       "        vertical-align: top;\n",
       "    }\n",
       "\n",
       "    .dataframe thead th {\n",
       "        text-align: right;\n",
       "    }\n",
       "</style>\n",
       "<table border=\"1\" class=\"dataframe\">\n",
       "  <thead>\n",
       "    <tr style=\"text-align: right;\">\n",
       "      <th></th>\n",
       "      <th>CreditScore</th>\n",
       "      <th>Age</th>\n",
       "      <th>Tenure</th>\n",
       "      <th>Balance</th>\n",
       "      <th>NumOfProducts</th>\n",
       "      <th>HasCrCard</th>\n",
       "      <th>IsActiveMember</th>\n",
       "      <th>EstimatedSalary</th>\n",
       "      <th>Exited</th>\n",
       "    </tr>\n",
       "  </thead>\n",
       "  <tbody>\n",
       "    <tr>\n",
       "      <th>count</th>\n",
       "      <td>10000.000000</td>\n",
       "      <td>10000.000000</td>\n",
       "      <td>10000.000000</td>\n",
       "      <td>10000.000000</td>\n",
       "      <td>10000.000000</td>\n",
       "      <td>10000.00000</td>\n",
       "      <td>10000.000000</td>\n",
       "      <td>10000.000000</td>\n",
       "      <td>10000.000000</td>\n",
       "    </tr>\n",
       "    <tr>\n",
       "      <th>mean</th>\n",
       "      <td>650.528800</td>\n",
       "      <td>38.921800</td>\n",
       "      <td>4.993100</td>\n",
       "      <td>76485.889288</td>\n",
       "      <td>1.530200</td>\n",
       "      <td>0.70550</td>\n",
       "      <td>0.515100</td>\n",
       "      <td>100090.239881</td>\n",
       "      <td>0.203700</td>\n",
       "    </tr>\n",
       "    <tr>\n",
       "      <th>std</th>\n",
       "      <td>96.653299</td>\n",
       "      <td>10.487806</td>\n",
       "      <td>2.871215</td>\n",
       "      <td>62397.405202</td>\n",
       "      <td>0.581654</td>\n",
       "      <td>0.45584</td>\n",
       "      <td>0.499797</td>\n",
       "      <td>57510.492818</td>\n",
       "      <td>0.402769</td>\n",
       "    </tr>\n",
       "    <tr>\n",
       "      <th>min</th>\n",
       "      <td>350.000000</td>\n",
       "      <td>18.000000</td>\n",
       "      <td>0.000000</td>\n",
       "      <td>0.000000</td>\n",
       "      <td>1.000000</td>\n",
       "      <td>0.00000</td>\n",
       "      <td>0.000000</td>\n",
       "      <td>11.580000</td>\n",
       "      <td>0.000000</td>\n",
       "    </tr>\n",
       "    <tr>\n",
       "      <th>25%</th>\n",
       "      <td>584.000000</td>\n",
       "      <td>32.000000</td>\n",
       "      <td>3.000000</td>\n",
       "      <td>0.000000</td>\n",
       "      <td>1.000000</td>\n",
       "      <td>0.00000</td>\n",
       "      <td>0.000000</td>\n",
       "      <td>51002.110000</td>\n",
       "      <td>0.000000</td>\n",
       "    </tr>\n",
       "    <tr>\n",
       "      <th>50%</th>\n",
       "      <td>652.000000</td>\n",
       "      <td>37.000000</td>\n",
       "      <td>5.000000</td>\n",
       "      <td>97198.540000</td>\n",
       "      <td>1.000000</td>\n",
       "      <td>1.00000</td>\n",
       "      <td>1.000000</td>\n",
       "      <td>100193.915000</td>\n",
       "      <td>0.000000</td>\n",
       "    </tr>\n",
       "    <tr>\n",
       "      <th>75%</th>\n",
       "      <td>718.000000</td>\n",
       "      <td>44.000000</td>\n",
       "      <td>7.000000</td>\n",
       "      <td>127644.240000</td>\n",
       "      <td>2.000000</td>\n",
       "      <td>1.00000</td>\n",
       "      <td>1.000000</td>\n",
       "      <td>149388.247500</td>\n",
       "      <td>0.000000</td>\n",
       "    </tr>\n",
       "    <tr>\n",
       "      <th>max</th>\n",
       "      <td>850.000000</td>\n",
       "      <td>92.000000</td>\n",
       "      <td>10.000000</td>\n",
       "      <td>250898.090000</td>\n",
       "      <td>4.000000</td>\n",
       "      <td>1.00000</td>\n",
       "      <td>1.000000</td>\n",
       "      <td>199992.480000</td>\n",
       "      <td>1.000000</td>\n",
       "    </tr>\n",
       "  </tbody>\n",
       "</table>\n",
       "</div>"
      ],
      "text/plain": [
       "        CreditScore           Age        Tenure        Balance  NumOfProducts  \\\n",
       "count  10000.000000  10000.000000  10000.000000   10000.000000   10000.000000   \n",
       "mean     650.528800     38.921800      4.993100   76485.889288       1.530200   \n",
       "std       96.653299     10.487806      2.871215   62397.405202       0.581654   \n",
       "min      350.000000     18.000000      0.000000       0.000000       1.000000   \n",
       "25%      584.000000     32.000000      3.000000       0.000000       1.000000   \n",
       "50%      652.000000     37.000000      5.000000   97198.540000       1.000000   \n",
       "75%      718.000000     44.000000      7.000000  127644.240000       2.000000   \n",
       "max      850.000000     92.000000     10.000000  250898.090000       4.000000   \n",
       "\n",
       "         HasCrCard  IsActiveMember  EstimatedSalary        Exited  \n",
       "count  10000.00000    10000.000000     10000.000000  10000.000000  \n",
       "mean       0.70550        0.515100    100090.239881      0.203700  \n",
       "std        0.45584        0.499797     57510.492818      0.402769  \n",
       "min        0.00000        0.000000        11.580000      0.000000  \n",
       "25%        0.00000        0.000000     51002.110000      0.000000  \n",
       "50%        1.00000        1.000000    100193.915000      0.000000  \n",
       "75%        1.00000        1.000000    149388.247500      0.000000  \n",
       "max        1.00000        1.000000    199992.480000      1.000000  "
      ]
     },
     "execution_count": 15,
     "metadata": {},
     "output_type": "execute_result"
    }
   ],
   "source": [
    "data.describe()"
   ]
  },
  {
   "cell_type": "markdown",
   "metadata": {},
   "source": [
    "Видим, что значения в столбцах 'CreditScore', 'Tenure', 'Age', 'Balance', 'EstimatedSalary' сильно разбросаны. Чтобы алгоритм не решил, что какие-то из них важнее, стандартизируем данные."
   ]
  },
  {
   "cell_type": "code",
   "execution_count": 16,
   "metadata": {
    "scrolled": true
   },
   "outputs": [
    {
     "data": {
      "text/html": [
       "<div>\n",
       "<style scoped>\n",
       "    .dataframe tbody tr th:only-of-type {\n",
       "        vertical-align: middle;\n",
       "    }\n",
       "\n",
       "    .dataframe tbody tr th {\n",
       "        vertical-align: top;\n",
       "    }\n",
       "\n",
       "    .dataframe thead th {\n",
       "        text-align: right;\n",
       "    }\n",
       "</style>\n",
       "<table border=\"1\" class=\"dataframe\">\n",
       "  <thead>\n",
       "    <tr style=\"text-align: right;\">\n",
       "      <th></th>\n",
       "      <th>CreditScore</th>\n",
       "      <th>Age</th>\n",
       "      <th>Tenure</th>\n",
       "      <th>Balance</th>\n",
       "      <th>NumOfProducts</th>\n",
       "      <th>HasCrCard</th>\n",
       "      <th>IsActiveMember</th>\n",
       "      <th>EstimatedSalary</th>\n",
       "      <th>Geography_Germany</th>\n",
       "      <th>Geography_Spain</th>\n",
       "      <th>Gender_Male</th>\n",
       "    </tr>\n",
       "  </thead>\n",
       "  <tbody>\n",
       "    <tr>\n",
       "      <th>count</th>\n",
       "      <td>6.000000e+03</td>\n",
       "      <td>6.000000e+03</td>\n",
       "      <td>6.000000e+03</td>\n",
       "      <td>6.000000e+03</td>\n",
       "      <td>6000.000000</td>\n",
       "      <td>6000.000000</td>\n",
       "      <td>6000.000000</td>\n",
       "      <td>6.000000e+03</td>\n",
       "      <td>6000.000000</td>\n",
       "      <td>6000.000000</td>\n",
       "      <td>6000.000000</td>\n",
       "    </tr>\n",
       "    <tr>\n",
       "      <th>mean</th>\n",
       "      <td>-4.553395e-16</td>\n",
       "      <td>9.710751e-17</td>\n",
       "      <td>1.403322e-16</td>\n",
       "      <td>-9.947598e-17</td>\n",
       "      <td>1.517833</td>\n",
       "      <td>0.707833</td>\n",
       "      <td>0.526833</td>\n",
       "      <td>-1.539509e-16</td>\n",
       "      <td>0.246833</td>\n",
       "      <td>0.250667</td>\n",
       "      <td>0.548500</td>\n",
       "    </tr>\n",
       "    <tr>\n",
       "      <th>std</th>\n",
       "      <td>1.000083e+00</td>\n",
       "      <td>1.000083e+00</td>\n",
       "      <td>1.000083e+00</td>\n",
       "      <td>1.000083e+00</td>\n",
       "      <td>0.580866</td>\n",
       "      <td>0.454796</td>\n",
       "      <td>0.499321</td>\n",
       "      <td>1.000083e+00</td>\n",
       "      <td>0.431205</td>\n",
       "      <td>0.433433</td>\n",
       "      <td>0.497684</td>\n",
       "    </tr>\n",
       "    <tr>\n",
       "      <th>min</th>\n",
       "      <td>-3.140255e+00</td>\n",
       "      <td>-1.986549e+00</td>\n",
       "      <td>-1.757761e+00</td>\n",
       "      <td>-1.233163e+00</td>\n",
       "      <td>1.000000</td>\n",
       "      <td>0.000000</td>\n",
       "      <td>0.000000</td>\n",
       "      <td>-1.722999e+00</td>\n",
       "      <td>0.000000</td>\n",
       "      <td>0.000000</td>\n",
       "      <td>0.000000</td>\n",
       "    </tr>\n",
       "    <tr>\n",
       "      <th>25%</th>\n",
       "      <td>-6.894392e-01</td>\n",
       "      <td>-6.579018e-01</td>\n",
       "      <td>-7.085254e-01</td>\n",
       "      <td>-1.233163e+00</td>\n",
       "      <td>1.000000</td>\n",
       "      <td>0.000000</td>\n",
       "      <td>0.000000</td>\n",
       "      <td>-8.642740e-01</td>\n",
       "      <td>0.000000</td>\n",
       "      <td>0.000000</td>\n",
       "      <td>0.000000</td>\n",
       "    </tr>\n",
       "    <tr>\n",
       "      <th>50%</th>\n",
       "      <td>2.192061e-02</td>\n",
       "      <td>-1.833849e-01</td>\n",
       "      <td>-9.035083e-03</td>\n",
       "      <td>3.262451e-01</td>\n",
       "      <td>1.000000</td>\n",
       "      <td>1.000000</td>\n",
       "      <td>1.000000</td>\n",
       "      <td>1.114367e-02</td>\n",
       "      <td>0.000000</td>\n",
       "      <td>0.000000</td>\n",
       "      <td>1.000000</td>\n",
       "    </tr>\n",
       "    <tr>\n",
       "      <th>75%</th>\n",
       "      <td>6.709715e-01</td>\n",
       "      <td>4.809386e-01</td>\n",
       "      <td>1.040200e+00</td>\n",
       "      <td>8.219488e-01</td>\n",
       "      <td>2.000000</td>\n",
       "      <td>1.000000</td>\n",
       "      <td>1.000000</td>\n",
       "      <td>8.486002e-01</td>\n",
       "      <td>0.000000</td>\n",
       "      <td>1.000000</td>\n",
       "      <td>1.000000</td>\n",
       "    </tr>\n",
       "    <tr>\n",
       "      <th>max</th>\n",
       "      <td>2.052152e+00</td>\n",
       "      <td>5.036300e+00</td>\n",
       "      <td>1.739691e+00</td>\n",
       "      <td>2.806159e+00</td>\n",
       "      <td>4.000000</td>\n",
       "      <td>1.000000</td>\n",
       "      <td>1.000000</td>\n",
       "      <td>1.739047e+00</td>\n",
       "      <td>1.000000</td>\n",
       "      <td>1.000000</td>\n",
       "      <td>1.000000</td>\n",
       "    </tr>\n",
       "  </tbody>\n",
       "</table>\n",
       "</div>"
      ],
      "text/plain": [
       "        CreditScore           Age        Tenure       Balance  NumOfProducts  \\\n",
       "count  6.000000e+03  6.000000e+03  6.000000e+03  6.000000e+03    6000.000000   \n",
       "mean  -4.553395e-16  9.710751e-17  1.403322e-16 -9.947598e-17       1.517833   \n",
       "std    1.000083e+00  1.000083e+00  1.000083e+00  1.000083e+00       0.580866   \n",
       "min   -3.140255e+00 -1.986549e+00 -1.757761e+00 -1.233163e+00       1.000000   \n",
       "25%   -6.894392e-01 -6.579018e-01 -7.085254e-01 -1.233163e+00       1.000000   \n",
       "50%    2.192061e-02 -1.833849e-01 -9.035083e-03  3.262451e-01       1.000000   \n",
       "75%    6.709715e-01  4.809386e-01  1.040200e+00  8.219488e-01       2.000000   \n",
       "max    2.052152e+00  5.036300e+00  1.739691e+00  2.806159e+00       4.000000   \n",
       "\n",
       "         HasCrCard  IsActiveMember  EstimatedSalary  Geography_Germany  \\\n",
       "count  6000.000000     6000.000000     6.000000e+03        6000.000000   \n",
       "mean      0.707833        0.526833    -1.539509e-16           0.246833   \n",
       "std       0.454796        0.499321     1.000083e+00           0.431205   \n",
       "min       0.000000        0.000000    -1.722999e+00           0.000000   \n",
       "25%       0.000000        0.000000    -8.642740e-01           0.000000   \n",
       "50%       1.000000        1.000000     1.114367e-02           0.000000   \n",
       "75%       1.000000        1.000000     8.486002e-01           0.000000   \n",
       "max       1.000000        1.000000     1.739047e+00           1.000000   \n",
       "\n",
       "       Geography_Spain  Gender_Male  \n",
       "count      6000.000000  6000.000000  \n",
       "mean          0.250667     0.548500  \n",
       "std           0.433433     0.497684  \n",
       "min           0.000000     0.000000  \n",
       "25%           0.000000     0.000000  \n",
       "50%           0.000000     1.000000  \n",
       "75%           1.000000     1.000000  \n",
       "max           1.000000     1.000000  "
      ]
     },
     "execution_count": 16,
     "metadata": {},
     "output_type": "execute_result"
    }
   ],
   "source": [
    "pd.options.mode.chained_assignment = None\n",
    "\n",
    "numeric = ['CreditScore', 'Age', 'Tenure', 'Balance', 'EstimatedSalary']\n",
    "\n",
    "scaler = StandardScaler()\n",
    "scaler.fit(features_train[numeric])\n",
    "\n",
    "features_train[numeric] = scaler.transform(features_train[numeric])\n",
    "features_valid[numeric] = scaler.transform(features_valid[numeric]) \n",
    "features_test[numeric] = scaler.transform(features_test[numeric])\n",
    "\n",
    "# проверка\n",
    "features_train.describe()"
   ]
  },
  {
   "cell_type": "markdown",
   "metadata": {},
   "source": [
    "Теперь масштаб признаков одинаковый, можно переходить к обучению моделей."
   ]
  },
  {
   "cell_type": "markdown",
   "metadata": {},
   "source": [
    "### Обучение моделей\n",
    "\n",
    "Обучим модели дерева решений, случайного леса и логистической регрессии без учета дисбаланса классов и подбора гиперпараметров, оценим показатели F1 и AUC-ROC.\n",
    "\n",
    "**Дерево решений**"
   ]
  },
  {
   "cell_type": "code",
   "execution_count": 17,
   "metadata": {},
   "outputs": [
    {
     "name": "stdout",
     "output_type": "stream",
     "text": [
      "F1: 0.48086124401913877\n",
      "AUC-ROC: 0.6703724191277989\n"
     ]
    }
   ],
   "source": [
    "model = DecisionTreeClassifier(random_state=12345)\n",
    "model.fit(features_train, target_train)\n",
    "predicted_valid = model.predict(features_valid)\n",
    "probabilities_valid = model.predict_proba(features_valid)\n",
    "probabilities_one_valid = probabilities_valid[:, 1]\n",
    "print('F1:', f1_score(target_valid, predicted_valid))\n",
    "print('AUC-ROC:', roc_auc_score(target_valid, probabilities_one_valid))"
   ]
  },
  {
   "cell_type": "markdown",
   "metadata": {},
   "source": [
    "**Случайный лес**"
   ]
  },
  {
   "cell_type": "code",
   "execution_count": 18,
   "metadata": {},
   "outputs": [
    {
     "name": "stdout",
     "output_type": "stream",
     "text": [
      "F1: 0.5272727272727272\n",
      "AUC-ROC: 0.8464031564855914\n"
     ]
    }
   ],
   "source": [
    "model = RandomForestClassifier(random_state=12345)\n",
    "model.fit(features_train, target_train)\n",
    "predicted_valid = model.predict(features_valid)\n",
    "probabilities_valid = model.predict_proba(features_valid)\n",
    "probabilities_one_valid = probabilities_valid[:, 1]\n",
    "print('F1:', f1_score(target_valid, predicted_valid))\n",
    "print('AUC-ROC:', roc_auc_score(target_valid, probabilities_one_valid))"
   ]
  },
  {
   "cell_type": "markdown",
   "metadata": {},
   "source": [
    "**Логистическая регрессия**"
   ]
  },
  {
   "cell_type": "code",
   "execution_count": 19,
   "metadata": {},
   "outputs": [
    {
     "name": "stdout",
     "output_type": "stream",
     "text": [
      "F1: 0.27478260869565213\n",
      "AUC-ROC: 0.738939333294357\n"
     ]
    }
   ],
   "source": [
    "model = LogisticRegression(random_state=12345, solver='liblinear')\n",
    "model.fit(features_train, target_train)\n",
    "predicted_valid = model.predict(features_valid)\n",
    "probabilities_valid = model.predict_proba(features_valid)\n",
    "probabilities_one_valid = probabilities_valid[:, 1]\n",
    "print('F1:', f1_score(target_valid, predicted_valid))\n",
    "print('AUC-ROC:', roc_auc_score(target_valid, probabilities_one_valid))"
   ]
  },
  {
   "cell_type": "markdown",
   "metadata": {},
   "source": [
    "Лучший результат показала модель дерева решений, поэтому дальше работать будем с ней."
   ]
  },
  {
   "cell_type": "markdown",
   "metadata": {},
   "source": [
    "## Борьба с дисбалансом\n",
    "\n",
    "Посмотрим на баланс классов в целевом признаке."
   ]
  },
  {
   "cell_type": "code",
   "execution_count": 20,
   "metadata": {
    "scrolled": true
   },
   "outputs": [
    {
     "data": {
      "text/plain": [
       "0    0.800667\n",
       "1    0.199333\n",
       "Name: Exited, dtype: float64"
      ]
     },
     "execution_count": 20,
     "metadata": {},
     "output_type": "execute_result"
    }
   ],
   "source": [
    "target_train.value_counts(normalize = 1)"
   ]
  },
  {
   "cell_type": "markdown",
   "metadata": {},
   "source": [
    "Объектов отрицательного класса в 4 раза больше, чем положительного. Применим три разных метода: взвешивание классов, увеличение и уменьшение выборки, и посмотрим, в каком случае метрики качества будут лучше.\n",
    "\n",
    "### Взвешивание классов"
   ]
  },
  {
   "cell_type": "code",
   "execution_count": 21,
   "metadata": {},
   "outputs": [
    {
     "name": "stdout",
     "output_type": "stream",
     "text": [
      "F1: 0.5253456221198156\n",
      "AUC-ROC: 0.8487634749524414\n"
     ]
    }
   ],
   "source": [
    "model = RandomForestClassifier(random_state=12345, class_weight='balanced')\n",
    "model.fit(features_train, target_train)\n",
    "predicted_valid = model.predict(features_valid)\n",
    "probabilities_valid = model.predict_proba(features_valid)\n",
    "probabilities_one_valid = probabilities_valid[:, 1]\n",
    "print('F1:', f1_score(target_valid, predicted_valid))\n",
    "print('AUC-ROC:', roc_auc_score(target_valid, probabilities_one_valid))"
   ]
  },
  {
   "cell_type": "markdown",
   "metadata": {},
   "source": [
    "Показатель F1 уменьшился на 0,02 по сравнению с несбалансированной моделью. Попробуем другие методы.\n",
    "\n",
    "### Увеличение и уменьшение выборки\n",
    "\n",
    "**Upsampling**\n",
    "\n",
    "Применим метод upsampling, чтобы увеличить долю объектов более редкого класса."
   ]
  },
  {
   "cell_type": "code",
   "execution_count": 22,
   "metadata": {},
   "outputs": [],
   "source": [
    "def upsample(features, target, repeat):\n",
    "    features_zeros = features[target == 0]\n",
    "    features_ones = features[target == 1]\n",
    "    target_zeros = target[target == 0]\n",
    "    target_ones = target[target == 1]\n",
    "\n",
    "    features_upsampled = pd.concat([features_zeros] + [features_ones] * repeat)\n",
    "    target_upsampled = pd.concat([target_zeros] + [target_ones] * repeat)\n",
    "    \n",
    "    features_upsampled, target_upsampled = shuffle(features_upsampled, target_upsampled, random_state=12345)\n",
    "    \n",
    "    return features_upsampled, target_upsampled\n",
    "\n",
    "features_upsampled, target_upsampled = upsample(features_train, target_train, 4)"
   ]
  },
  {
   "cell_type": "code",
   "execution_count": 23,
   "metadata": {
    "scrolled": true
   },
   "outputs": [
    {
     "name": "stdout",
     "output_type": "stream",
     "text": [
      "F1: 0.5902503293807642\n",
      "AUC-ROC: 0.846616776924795\n"
     ]
    }
   ],
   "source": [
    "model = RandomForestClassifier(random_state=12345)\n",
    "model.fit(features_upsampled, target_upsampled)\n",
    "predicted_valid = model.predict(features_valid)\n",
    "probabilities_valid = model.predict_proba(features_valid)\n",
    "probabilities_one_valid = probabilities_valid[:, 1]\n",
    "print('F1:', f1_score(target_valid, predicted_valid))\n",
    "print('AUC-ROC:', roc_auc_score(target_valid, probabilities_one_valid))"
   ]
  },
  {
   "cell_type": "markdown",
   "metadata": {},
   "source": [
    "Показатель F1 увеличился на 0,05, AUC-ROC не изменился.\n",
    "\n",
    "**Downsampling**\n",
    "\n",
    "Применим метод downsampling, чтобы уменьшить долю более часто встречающегося класса."
   ]
  },
  {
   "cell_type": "code",
   "execution_count": 24,
   "metadata": {},
   "outputs": [],
   "source": [
    "def downsample(features, target, fraction):\n",
    "    features_zeros = features[target == 0]\n",
    "    features_ones = features[target == 1]\n",
    "    target_zeros = target[target == 0]\n",
    "    target_ones = target[target == 1]\n",
    "\n",
    "    features_downsampled = pd.concat(\n",
    "        [features_zeros.sample(frac=fraction, random_state=12345)] + [features_ones])\n",
    "    target_downsampled = pd.concat(\n",
    "        [target_zeros.sample(frac=fraction, random_state=12345)] + [target_ones])\n",
    "    \n",
    "    features_downsampled, target_downsampled = shuffle(\n",
    "        features_downsampled, target_downsampled, random_state=12345)\n",
    "    \n",
    "    return features_downsampled, target_downsampled\n",
    "\n",
    "features_downsampled, target_downsampled = downsample(features_train, target_train, 0.25)"
   ]
  },
  {
   "cell_type": "code",
   "execution_count": 25,
   "metadata": {
    "scrolled": true
   },
   "outputs": [
    {
     "name": "stdout",
     "output_type": "stream",
     "text": [
      "F1: 0.5787476280834914\n",
      "AUC-ROC: 0.8441432771024373\n"
     ]
    }
   ],
   "source": [
    "model = RandomForestClassifier(random_state=12345)\n",
    "model.fit(features_downsampled, target_downsampled)\n",
    "predicted_valid = model.predict(features_valid)\n",
    "probabilities_valid = model.predict_proba(features_valid)\n",
    "probabilities_one_valid = probabilities_valid[:, 1]\n",
    "print('F1:', f1_score(target_valid, predicted_valid))\n",
    "print('AUC-ROC:', roc_auc_score(target_valid, probabilities_one_valid))"
   ]
  },
  {
   "cell_type": "markdown",
   "metadata": {},
   "source": [
    "Показатель F1 увеличился на 0,04, AUC-ROC не изменился.\n",
    "\n",
    "### Подбор гиперпараметров\n",
    "\n",
    "Наилучший результат метрики F1 модель случайного леса показала на увеличенной выборке. Подберем гиперпараметры на данной выборке, которые улучшат работу модели и метрики ее качества."
   ]
  },
  {
   "cell_type": "code",
   "execution_count": 26,
   "metadata": {
    "scrolled": true
   },
   "outputs": [
    {
     "name": "stdout",
     "output_type": "stream",
     "text": [
      "Глубина лучшей модели: 8\n",
      "Количество деревьев лучшей модели: 40\n",
      "F1 лучшей модели: 0.624360286591607\n",
      "AUC-ROC лучшей модели: 0.8581245474619643\n"
     ]
    }
   ],
   "source": [
    "best_f1 = 0\n",
    "best_auc = 0\n",
    "best_depth = 0\n",
    "best_est = 0\n",
    "for est in range(10, 100):\n",
    "    for depth in range(1, 15):\n",
    "        model = RandomForestClassifier(random_state=12345, n_estimators=est, \n",
    "                                       max_depth=depth) \n",
    "        model.fit(features_upsampled, target_upsampled) \n",
    "        predicted_valid = model.predict(features_valid)\n",
    "        probabilities_valid = model.predict_proba(features_valid)\n",
    "        probabilities_one_valid = probabilities_valid[:, 1]\n",
    "        f1 = f1_score(target_valid, predicted_valid)\n",
    "        auc = roc_auc_score(target_valid, probabilities_one_valid)\n",
    "        if f1 > best_f1:\n",
    "            best_f1 = f1\n",
    "            best_auc = auc\n",
    "            best_depth = depth\n",
    "            best_est = est\n",
    "\n",
    "print(\"Глубина лучшей модели:\", best_depth)\n",
    "print(\"Количество деревьев лучшей модели:\", best_est)\n",
    "print(\"F1 лучшей модели:\", best_f1)\n",
    "print(\"AUC-ROC лучшей модели:\", best_auc)"
   ]
  },
  {
   "cell_type": "markdown",
   "metadata": {},
   "source": [
    "Примем за лучшую модель случайный лес с 19 деревьями и глубиной, равной 11, обученный на увеличенной выборке."
   ]
  },
  {
   "cell_type": "markdown",
   "metadata": {},
   "source": [
    "## Тестирование модели"
   ]
  },
  {
   "cell_type": "code",
   "execution_count": 27,
   "metadata": {
    "scrolled": true
   },
   "outputs": [
    {
     "name": "stdout",
     "output_type": "stream",
     "text": [
      "F1: 0.5935960591133005\n",
      "AUC-ROC: 0.8454452374634784\n"
     ]
    }
   ],
   "source": [
    "model = RandomForestClassifier(random_state=12345, n_estimators=19, \n",
    "                                       max_depth=11) \n",
    "model.fit(features_upsampled, target_upsampled) \n",
    "predicted_test = model.predict(features_test)\n",
    "probabilities_valid = model.predict_proba(features_valid)\n",
    "probabilities_one_valid = probabilities_valid[:, 1]\n",
    "print('F1:', f1_score(target_valid, predicted_valid))\n",
    "print('AUC-ROC:', roc_auc_score(target_valid, probabilities_one_valid))"
   ]
  },
  {
   "cell_type": "markdown",
   "metadata": {},
   "source": [
    "Проверка модели на тестовой выборке показывает, что модель работает достаточно хорошо, метрики снизились незначительно.\n",
    "\n",
    "Посмотрим, какие признаки имееют наибольшее влияние на вероятность ухода клиента из банка."
   ]
  },
  {
   "cell_type": "code",
   "execution_count": 28,
   "metadata": {
    "scrolled": true
   },
   "outputs": [
    {
     "data": {
      "image/png": "[encoded data removed]",
      "text/plain": [
       "<Figure size 864x576 with 1 Axes>"
      ]
     },
     "metadata": {
      "needs_background": "light"
     },
     "output_type": "display_data"
    }
   ],
   "source": [
    "import matplotlib.pyplot as plt\n",
    "from matplotlib import cm\n",
    "color = cm.inferno_r(np.linspace(.8, .12, 15))\n",
    "\n",
    "model = RandomForestClassifier(random_state=12345, n_estimators=19, \n",
    "                                       max_depth=11) \n",
    "model.fit(features_upsampled, target_upsampled) \n",
    "importance = pd.Series(model.feature_importances_,\n",
    "                         features_upsampled.columns).sort_values(ascending=False)\n",
    "\n",
    "fig, ax = plt.subplots(figsize=(12,8))\n",
    "importance.plot.bar(ax=ax, color = color)\n",
    "ax.set_title(\"Важность признаков\")\n",
    "ax.set_ylabel('Важность')\n",
    "fig.tight_layout()"
   ]
  },
  {
   "cell_type": "markdown",
   "metadata": {},
   "source": [
    "Больше всего на целевой признак влияет возраст клиента. Так же значение имеют количество используемых клиентом продуктов банка, баланс на счете, предполагаемая зарплата и кредитный рейтинг."
   ]
  },
  {
   "cell_type": "markdown",
   "metadata": {},
   "source": [
    "## Вывод\n",
    "\n",
    "Для подбора модели, предсказывающей уход клиента из банка, были обучены 3 модели: дерево решений, случайный лес и логистическая регрессия.\n",
    "\n",
    "Для оценки предсказаний были использованы метрики F1 и AUC-ROC.\n",
    "\n",
    "При обучении моделей без учета дисбаланса лучший результат по F1-мере показала модель случайного леса, для которой наиболее оптимальным способом борьбы с дисбалансом стало увеличение выборки.\n",
    "\n",
    "При подборе гиперпараметров наилучший результат показала модель случайного леса со следующими гиперпараметрами:\n",
    "\n",
    "- max_depth = 11\n",
    "- n_estimators = 19\n",
    "\n",
    "При проверке на тестовой выборке модель достигла F1 = 0,59 и AUC-ROC = 0,85, а значит сможет с достаточной точностью спрогнозировать отток клиентов.\n",
    "\n",
    "Наибольшее влияние на вероятность ухода клиента из банка из имеют возраст клиента, количество используемых клиентом продуктов банка, баланс на счете, предполагаемая зарплата и кредитный рейтинг."
   ]
  }
 ],
 "metadata": {
  "ExecuteTimeLog": [
   {
    "duration": 1136,
    "start_time": "2022-11-18T13:04:23.979Z"
   },
   {
    "duration": 194,
    "start_time": "2022-11-18T13:05:26.095Z"
   },
   {
    "duration": 1101,
    "start_time": "2022-11-21T09:01:50.921Z"
   },
   {
    "duration": 100,
    "start_time": "2022-11-21T09:01:52.068Z"
   },
   {
    "duration": 13,
    "start_time": "2022-11-21T09:02:00.044Z"
   },
   {
    "duration": 4,
    "start_time": "2022-11-21T09:06:45.036Z"
   },
   {
    "duration": 3,
    "start_time": "2022-11-21T09:09:21.084Z"
   },
   {
    "duration": 52,
    "start_time": "2022-11-21T13:23:27.141Z"
   },
   {
    "duration": 64,
    "start_time": "2022-11-21T13:23:36.549Z"
   },
   {
    "duration": 4,
    "start_time": "2022-11-21T13:24:07.424Z"
   },
   {
    "duration": 14,
    "start_time": "2022-11-21T13:54:04.825Z"
   },
   {
    "duration": 123,
    "start_time": "2022-11-21T13:57:36.373Z"
   },
   {
    "duration": 16,
    "start_time": "2022-11-21T13:58:24.435Z"
   },
   {
    "duration": 4,
    "start_time": "2022-11-21T14:02:13.548Z"
   },
   {
    "duration": 954,
    "start_time": "2022-11-21T14:08:00.723Z"
   },
   {
    "duration": 1079,
    "start_time": "2022-11-21T14:08:14.621Z"
   },
   {
    "duration": 9,
    "start_time": "2022-11-21T14:10:20.988Z"
   },
   {
    "duration": 1737,
    "start_time": "2022-11-21T14:10:41.876Z"
   },
   {
    "duration": 11,
    "start_time": "2022-11-21T14:13:33.163Z"
   },
   {
    "duration": 3,
    "start_time": "2022-11-21T14:14:05.004Z"
   },
   {
    "duration": 55,
    "start_time": "2022-11-21T14:14:05.009Z"
   },
   {
    "duration": 19,
    "start_time": "2022-11-21T14:14:05.065Z"
   },
   {
    "duration": 19,
    "start_time": "2022-11-21T14:14:05.086Z"
   },
   {
    "duration": 23,
    "start_time": "2022-11-21T14:14:05.106Z"
   },
   {
    "duration": 5,
    "start_time": "2022-11-21T14:14:05.131Z"
   },
   {
    "duration": 24,
    "start_time": "2022-11-21T14:14:18.881Z"
   },
   {
    "duration": 9,
    "start_time": "2022-11-21T14:17:11.401Z"
   },
   {
    "duration": 10,
    "start_time": "2022-11-21T14:17:22.128Z"
   },
   {
    "duration": 6,
    "start_time": "2022-11-21T14:20:17.621Z"
   },
   {
    "duration": 5,
    "start_time": "2022-11-21T14:20:29.769Z"
   },
   {
    "duration": 1153,
    "start_time": "2022-11-22T09:02:47.243Z"
   },
   {
    "duration": 169,
    "start_time": "2022-11-22T09:02:48.398Z"
   },
   {
    "duration": 13,
    "start_time": "2022-11-22T09:02:48.569Z"
   },
   {
    "duration": 9,
    "start_time": "2022-11-22T09:02:48.584Z"
   },
   {
    "duration": 40,
    "start_time": "2022-11-22T09:02:48.595Z"
   },
   {
    "duration": 5,
    "start_time": "2022-11-22T09:02:48.636Z"
   },
   {
    "duration": 32,
    "start_time": "2022-11-22T09:02:48.642Z"
   },
   {
    "duration": 9,
    "start_time": "2022-11-22T09:02:48.675Z"
   },
   {
    "duration": 7,
    "start_time": "2022-11-22T09:02:48.686Z"
   },
   {
    "duration": 5,
    "start_time": "2022-11-22T09:24:09.453Z"
   },
   {
    "duration": 9,
    "start_time": "2022-11-22T09:45:41.082Z"
   },
   {
    "duration": 71,
    "start_time": "2022-11-22T09:46:25.689Z"
   },
   {
    "duration": 13,
    "start_time": "2022-11-22T09:46:42.728Z"
   },
   {
    "duration": 8,
    "start_time": "2022-11-22T09:47:07.778Z"
   },
   {
    "duration": 54,
    "start_time": "2022-11-22T09:56:03.928Z"
   },
   {
    "duration": 20,
    "start_time": "2022-11-22T10:16:17.294Z"
   },
   {
    "duration": 18,
    "start_time": "2022-11-22T10:17:04.582Z"
   },
   {
    "duration": 17,
    "start_time": "2022-11-22T10:17:35.300Z"
   },
   {
    "duration": 64,
    "start_time": "2022-11-22T10:18:37.892Z"
   },
   {
    "duration": 60,
    "start_time": "2022-11-22T10:20:19.702Z"
   },
   {
    "duration": 61,
    "start_time": "2022-11-22T10:21:01.612Z"
   },
   {
    "duration": 59,
    "start_time": "2022-11-22T10:21:44.884Z"
   },
   {
    "duration": 41,
    "start_time": "2022-11-22T10:22:04.260Z"
   },
   {
    "duration": 4,
    "start_time": "2022-11-22T10:22:17.326Z"
   },
   {
    "duration": 59,
    "start_time": "2022-11-22T10:22:17.331Z"
   },
   {
    "duration": 11,
    "start_time": "2022-11-22T10:22:17.392Z"
   },
   {
    "duration": 4,
    "start_time": "2022-11-22T10:22:17.404Z"
   },
   {
    "duration": 21,
    "start_time": "2022-11-22T10:22:17.409Z"
   },
   {
    "duration": 4,
    "start_time": "2022-11-22T10:22:17.432Z"
   },
   {
    "duration": 41,
    "start_time": "2022-11-22T10:22:17.438Z"
   },
   {
    "duration": 8,
    "start_time": "2022-11-22T10:22:17.481Z"
   },
   {
    "duration": 9,
    "start_time": "2022-11-22T10:22:17.490Z"
   },
   {
    "duration": 6,
    "start_time": "2022-11-22T10:22:17.500Z"
   },
   {
    "duration": 10,
    "start_time": "2022-11-22T10:22:17.508Z"
   },
   {
    "duration": 60,
    "start_time": "2022-11-22T10:22:17.519Z"
   },
   {
    "duration": 34,
    "start_time": "2022-11-22T10:22:23.500Z"
   },
   {
    "duration": 58,
    "start_time": "2022-11-22T10:22:39.468Z"
   },
   {
    "duration": 40,
    "start_time": "2022-11-22T10:22:49.995Z"
   },
   {
    "duration": 1168,
    "start_time": "2022-11-23T13:08:16.036Z"
   },
   {
    "duration": 91,
    "start_time": "2022-11-23T13:08:17.206Z"
   },
   {
    "duration": 13,
    "start_time": "2022-11-23T13:08:17.299Z"
   },
   {
    "duration": 5,
    "start_time": "2022-11-23T13:08:17.314Z"
   },
   {
    "duration": 29,
    "start_time": "2022-11-23T13:08:17.320Z"
   },
   {
    "duration": 4,
    "start_time": "2022-11-23T13:08:17.351Z"
   },
   {
    "duration": 23,
    "start_time": "2022-11-23T13:08:17.356Z"
   },
   {
    "duration": 9,
    "start_time": "2022-11-23T13:08:17.381Z"
   },
   {
    "duration": 6,
    "start_time": "2022-11-23T13:08:17.391Z"
   },
   {
    "duration": 11,
    "start_time": "2022-11-23T13:08:17.399Z"
   },
   {
    "duration": 40,
    "start_time": "2022-11-23T13:08:17.411Z"
   },
   {
    "duration": 43,
    "start_time": "2022-11-23T13:08:17.453Z"
   },
   {
    "duration": 74,
    "start_time": "2022-11-23T13:08:17.497Z"
   },
   {
    "duration": 57,
    "start_time": "2022-11-23T13:08:52.263Z"
   },
   {
    "duration": 99,
    "start_time": "2022-11-23T13:12:38.897Z"
   },
   {
    "duration": 3,
    "start_time": "2022-11-23T13:13:51.944Z"
   },
   {
    "duration": 10,
    "start_time": "2022-11-23T13:13:59.120Z"
   },
   {
    "duration": 738,
    "start_time": "2022-11-23T13:14:19.029Z"
   },
   {
    "duration": 742,
    "start_time": "2022-11-23T13:14:42.048Z"
   },
   {
    "duration": 1121,
    "start_time": "2022-11-23T15:09:14.905Z"
   },
   {
    "duration": 96,
    "start_time": "2022-11-23T15:09:16.028Z"
   },
   {
    "duration": 12,
    "start_time": "2022-11-23T15:09:16.126Z"
   },
   {
    "duration": 6,
    "start_time": "2022-11-23T15:09:16.140Z"
   },
   {
    "duration": 25,
    "start_time": "2022-11-23T15:09:16.148Z"
   },
   {
    "duration": 4,
    "start_time": "2022-11-23T15:09:16.174Z"
   },
   {
    "duration": 29,
    "start_time": "2022-11-23T15:09:16.180Z"
   },
   {
    "duration": 9,
    "start_time": "2022-11-23T15:09:16.211Z"
   },
   {
    "duration": 6,
    "start_time": "2022-11-23T15:09:16.221Z"
   },
   {
    "duration": 6,
    "start_time": "2022-11-23T15:09:16.229Z"
   },
   {
    "duration": 14,
    "start_time": "2022-11-23T15:09:16.237Z"
   },
   {
    "duration": 72,
    "start_time": "2022-11-23T15:09:16.253Z"
   },
   {
    "duration": 57,
    "start_time": "2022-11-23T15:09:16.326Z"
   },
   {
    "duration": 47,
    "start_time": "2022-11-23T15:09:16.385Z"
   },
   {
    "duration": 706,
    "start_time": "2022-11-23T15:09:16.434Z"
   },
   {
    "duration": 191,
    "start_time": "2022-11-23T15:13:33.514Z"
   },
   {
    "duration": 109,
    "start_time": "2022-11-23T15:51:38.940Z"
   },
   {
    "duration": 282267,
    "start_time": "2022-11-23T15:52:28.162Z"
   },
   {
    "duration": 285244,
    "start_time": "2022-11-23T15:58:31.917Z"
   },
   {
    "duration": 161909,
    "start_time": "2022-11-23T16:09:32.627Z"
   },
   {
    "duration": 174097,
    "start_time": "2022-11-23T18:17:41.989Z"
   },
   {
    "duration": 4,
    "start_time": "2022-11-23T18:52:28.769Z"
   },
   {
    "duration": 41,
    "start_time": "2022-11-23T18:59:04.783Z"
   },
   {
    "duration": 9,
    "start_time": "2022-11-23T18:59:32.024Z"
   },
   {
    "duration": 13,
    "start_time": "2022-11-23T19:02:40.686Z"
   },
   {
    "duration": 1047,
    "start_time": "2022-11-23T19:02:43.472Z"
   },
   {
    "duration": 11,
    "start_time": "2022-11-23T19:08:27.360Z"
   },
   {
    "duration": 290,
    "start_time": "2022-11-23T19:09:02.264Z"
   },
   {
    "duration": 1085,
    "start_time": "2022-11-23T19:09:34.428Z"
   },
   {
    "duration": 337,
    "start_time": "2022-11-23T19:09:54.263Z"
   },
   {
    "duration": 314124,
    "start_time": "2022-11-23T19:14:53.206Z"
   },
   {
    "duration": 315916,
    "start_time": "2022-11-23T19:25:58.328Z"
   },
   {
    "duration": 9,
    "start_time": "2022-11-23T19:36:18.038Z"
   },
   {
    "duration": 9,
    "start_time": "2022-11-23T19:36:32.898Z"
   },
   {
    "duration": 101375,
    "start_time": "2022-11-23T19:45:11.301Z"
   },
   {
    "duration": 1182,
    "start_time": "2022-11-24T10:46:46.603Z"
   },
   {
    "duration": 4,
    "start_time": "2022-11-24T10:46:59.960Z"
   },
   {
    "duration": 111,
    "start_time": "2022-11-24T10:46:59.968Z"
   },
   {
    "duration": 13,
    "start_time": "2022-11-24T10:47:00.081Z"
   },
   {
    "duration": 25,
    "start_time": "2022-11-24T10:47:00.095Z"
   },
   {
    "duration": 54,
    "start_time": "2022-11-24T10:47:00.122Z"
   },
   {
    "duration": 32,
    "start_time": "2022-11-24T10:47:00.179Z"
   },
   {
    "duration": 62,
    "start_time": "2022-11-24T10:47:00.212Z"
   },
   {
    "duration": 18,
    "start_time": "2022-11-24T10:47:00.275Z"
   },
   {
    "duration": 37,
    "start_time": "2022-11-24T10:47:00.295Z"
   },
   {
    "duration": 54,
    "start_time": "2022-11-24T10:47:00.334Z"
   },
   {
    "duration": 55,
    "start_time": "2022-11-24T10:47:00.391Z"
   },
   {
    "duration": 82,
    "start_time": "2022-11-24T10:47:00.448Z"
   },
   {
    "duration": 62,
    "start_time": "2022-11-24T10:47:00.532Z"
   },
   {
    "duration": 45,
    "start_time": "2022-11-24T10:47:00.596Z"
   },
   {
    "duration": 796,
    "start_time": "2022-11-24T10:47:00.643Z"
   },
   {
    "duration": 180,
    "start_time": "2022-11-24T10:47:01.440Z"
   },
   {
    "duration": 184710,
    "start_time": "2022-11-24T10:47:01.622Z"
   },
   {
    "duration": 19,
    "start_time": "2022-11-24T10:50:06.335Z"
   },
   {
    "duration": 1204,
    "start_time": "2022-11-24T10:50:06.356Z"
   },
   {
    "duration": 13,
    "start_time": "2022-11-24T10:50:07.561Z"
   },
   {
    "duration": 361,
    "start_time": "2022-11-24T10:50:07.576Z"
   },
   {
    "duration": 108,
    "start_time": "2022-11-24T10:51:01.106Z"
   },
   {
    "duration": 119217,
    "start_time": "2022-11-24T10:51:19.683Z"
   },
   {
    "duration": 123191,
    "start_time": "2022-11-24T10:57:35.794Z"
   },
   {
    "duration": 238486,
    "start_time": "2022-11-24T11:23:14.659Z"
   },
   {
    "duration": 232400,
    "start_time": "2022-11-24T11:39:40.730Z"
   },
   {
    "duration": 818,
    "start_time": "2022-11-24T12:08:38.728Z"
   },
   {
    "duration": 830,
    "start_time": "2022-11-24T12:09:06.601Z"
   },
   {
    "duration": 788,
    "start_time": "2022-11-24T12:09:17.805Z"
   },
   {
    "duration": 43,
    "start_time": "2022-11-24T15:37:22.897Z"
   },
   {
    "duration": 1128,
    "start_time": "2022-11-24T15:37:33.174Z"
   },
   {
    "duration": 155,
    "start_time": "2022-11-24T15:37:34.304Z"
   },
   {
    "duration": 13,
    "start_time": "2022-11-24T15:37:34.461Z"
   },
   {
    "duration": 3,
    "start_time": "2022-11-24T15:37:34.476Z"
   },
   {
    "duration": 28,
    "start_time": "2022-11-24T15:37:34.481Z"
   },
   {
    "duration": 6,
    "start_time": "2022-11-24T15:37:34.511Z"
   },
   {
    "duration": 39,
    "start_time": "2022-11-24T15:37:34.519Z"
   },
   {
    "duration": 8,
    "start_time": "2022-11-24T15:37:34.560Z"
   },
   {
    "duration": 6,
    "start_time": "2022-11-24T15:37:34.569Z"
   },
   {
    "duration": 5,
    "start_time": "2022-11-24T15:37:34.579Z"
   },
   {
    "duration": 12,
    "start_time": "2022-11-24T15:37:34.586Z"
   },
   {
    "duration": 44,
    "start_time": "2022-11-24T15:37:34.599Z"
   },
   {
    "duration": 69,
    "start_time": "2022-11-24T15:37:34.645Z"
   },
   {
    "duration": 36,
    "start_time": "2022-11-24T15:37:34.716Z"
   },
   {
    "duration": 680,
    "start_time": "2022-11-24T15:37:34.753Z"
   },
   {
    "duration": 145,
    "start_time": "2022-11-24T15:37:35.434Z"
   },
   {
    "duration": 26,
    "start_time": "2022-11-24T15:55:36.439Z"
   },
   {
    "duration": 21,
    "start_time": "2022-11-24T15:55:49.798Z"
   },
   {
    "duration": 6,
    "start_time": "2022-11-24T16:00:53.752Z"
   },
   {
    "duration": 4,
    "start_time": "2022-11-24T16:01:03.783Z"
   },
   {
    "duration": 5,
    "start_time": "2022-11-24T16:01:11.911Z"
   },
   {
    "duration": 602,
    "start_time": "2022-11-24T16:07:09.399Z"
   },
   {
    "duration": 61,
    "start_time": "2022-11-24T16:08:18.275Z"
   },
   {
    "duration": 13,
    "start_time": "2022-11-24T16:08:25.285Z"
   },
   {
    "duration": 1386,
    "start_time": "2022-11-24T16:08:28.627Z"
   },
   {
    "duration": 15,
    "start_time": "2022-11-24T16:08:46.699Z"
   },
   {
    "duration": 355,
    "start_time": "2022-11-24T16:09:11.836Z"
   },
   {
    "duration": 12,
    "start_time": "2022-11-24T16:11:16.530Z"
   },
   {
    "duration": 831,
    "start_time": "2022-11-24T16:11:19.124Z"
   },
   {
    "duration": 134588,
    "start_time": "2022-11-24T16:11:43.033Z"
   },
   {
    "duration": 393460,
    "start_time": "2022-11-24T18:17:02.419Z"
   },
   {
    "duration": 10,
    "start_time": "2022-11-24T18:23:35.881Z"
   },
   {
    "duration": 13,
    "start_time": "2022-11-24T18:23:35.892Z"
   },
   {
    "duration": 398035,
    "start_time": "2022-11-24T18:51:54.061Z"
   },
   {
    "duration": 952,
    "start_time": "2022-11-24T19:06:37.422Z"
   },
   {
    "duration": 183,
    "start_time": "2022-11-24T19:07:42.361Z"
   },
   {
    "duration": 170,
    "start_time": "2022-11-24T19:10:49.298Z"
   },
   {
    "duration": 64,
    "start_time": "2022-11-24T19:12:35.481Z"
   },
   {
    "duration": 177,
    "start_time": "2022-11-24T19:13:13.586Z"
   },
   {
    "duration": 53,
    "start_time": "2022-11-24T19:19:41.752Z"
   },
   {
    "duration": 192,
    "start_time": "2022-11-24T19:20:03.112Z"
   },
   {
    "duration": 164,
    "start_time": "2022-11-24T19:20:12.626Z"
   },
   {
    "duration": 172,
    "start_time": "2022-11-24T19:22:54.221Z"
   },
   {
    "duration": 271,
    "start_time": "2022-11-24T19:25:15.927Z"
   },
   {
    "duration": 202,
    "start_time": "2022-11-24T19:25:30.266Z"
   },
   {
    "duration": 15,
    "start_time": "2022-11-24T19:45:03.932Z"
   },
   {
    "duration": 4,
    "start_time": "2022-11-24T19:45:19.407Z"
   },
   {
    "duration": 51,
    "start_time": "2022-11-24T19:45:19.435Z"
   },
   {
    "duration": 12,
    "start_time": "2022-11-24T19:45:19.488Z"
   },
   {
    "duration": 14,
    "start_time": "2022-11-24T19:45:19.501Z"
   },
   {
    "duration": 7,
    "start_time": "2022-11-24T19:45:19.517Z"
   },
   {
    "duration": 18,
    "start_time": "2022-11-24T19:45:19.525Z"
   },
   {
    "duration": 38,
    "start_time": "2022-11-24T19:45:19.545Z"
   },
   {
    "duration": 5,
    "start_time": "2022-11-24T19:45:19.585Z"
   },
   {
    "duration": 20,
    "start_time": "2022-11-24T19:45:19.592Z"
   },
   {
    "duration": 5,
    "start_time": "2022-11-24T19:45:19.613Z"
   },
   {
    "duration": 9,
    "start_time": "2022-11-24T19:45:19.621Z"
   },
   {
    "duration": 75,
    "start_time": "2022-11-24T19:45:19.632Z"
   },
   {
    "duration": 11,
    "start_time": "2022-11-24T19:45:19.709Z"
   },
   {
    "duration": 5,
    "start_time": "2022-11-24T19:45:19.723Z"
   },
   {
    "duration": 51,
    "start_time": "2022-11-24T19:45:19.729Z"
   },
   {
    "duration": 660,
    "start_time": "2022-11-24T19:45:19.783Z"
   },
   {
    "duration": 45,
    "start_time": "2022-11-24T19:45:20.445Z"
   },
   {
    "duration": 98,
    "start_time": "2022-11-24T19:45:20.492Z"
   },
   {
    "duration": 718,
    "start_time": "2022-11-24T19:45:20.594Z"
   },
   {
    "duration": 20,
    "start_time": "2022-11-24T19:45:21.314Z"
   },
   {
    "duration": 0,
    "start_time": "2022-11-24T19:45:21.336Z"
   },
   {
    "duration": 0,
    "start_time": "2022-11-24T19:45:21.338Z"
   },
   {
    "duration": 0,
    "start_time": "2022-11-24T19:45:21.339Z"
   },
   {
    "duration": 0,
    "start_time": "2022-11-24T19:45:21.340Z"
   },
   {
    "duration": 0,
    "start_time": "2022-11-24T19:45:21.342Z"
   },
   {
    "duration": 4,
    "start_time": "2022-11-24T19:49:47.214Z"
   },
   {
    "duration": 67,
    "start_time": "2022-11-24T19:49:47.221Z"
   },
   {
    "duration": 12,
    "start_time": "2022-11-24T19:49:47.290Z"
   },
   {
    "duration": 17,
    "start_time": "2022-11-24T19:49:47.304Z"
   },
   {
    "duration": 14,
    "start_time": "2022-11-24T19:49:47.324Z"
   },
   {
    "duration": 10,
    "start_time": "2022-11-24T19:49:47.339Z"
   },
   {
    "duration": 38,
    "start_time": "2022-11-24T19:49:47.350Z"
   },
   {
    "duration": 5,
    "start_time": "2022-11-24T19:49:47.390Z"
   },
   {
    "duration": 29,
    "start_time": "2022-11-24T19:49:47.396Z"
   },
   {
    "duration": 5,
    "start_time": "2022-11-24T19:49:47.427Z"
   },
   {
    "duration": 12,
    "start_time": "2022-11-24T19:49:47.435Z"
   },
   {
    "duration": 52,
    "start_time": "2022-11-24T19:49:47.477Z"
   },
   {
    "duration": 87,
    "start_time": "2022-11-24T19:49:47.531Z"
   },
   {
    "duration": 36,
    "start_time": "2022-11-24T19:49:47.620Z"
   },
   {
    "duration": 700,
    "start_time": "2022-11-24T19:49:47.658Z"
   },
   {
    "duration": 28,
    "start_time": "2022-11-24T19:49:48.360Z"
   },
   {
    "duration": 97,
    "start_time": "2022-11-24T19:49:48.390Z"
   },
   {
    "duration": 924,
    "start_time": "2022-11-24T19:49:48.489Z"
   },
   {
    "duration": 10,
    "start_time": "2022-11-24T19:49:49.415Z"
   },
   {
    "duration": 874,
    "start_time": "2022-11-24T19:49:49.427Z"
   },
   {
    "duration": 11,
    "start_time": "2022-11-24T19:49:50.302Z"
   },
   {
    "duration": 358,
    "start_time": "2022-11-24T19:49:50.314Z"
   },
   {
    "duration": 428112,
    "start_time": "2022-11-24T19:49:50.678Z"
   },
   {
    "duration": 224,
    "start_time": "2022-11-24T19:56:58.792Z"
   },
   {
    "duration": 181,
    "start_time": "2022-11-24T19:58:48.977Z"
   },
   {
    "duration": 405688,
    "start_time": "2022-11-24T20:00:19.145Z"
   },
   {
    "duration": 645,
    "start_time": "2022-11-24T20:09:35.885Z"
   },
   {
    "duration": 181,
    "start_time": "2022-11-24T20:09:49.960Z"
   },
   {
    "duration": 200,
    "start_time": "2022-11-24T20:09:55.938Z"
   },
   {
    "duration": 719,
    "start_time": "2022-11-24T20:10:13.980Z"
   },
   {
    "duration": 170,
    "start_time": "2022-11-24T20:10:29.128Z"
   },
   {
    "duration": 676,
    "start_time": "2022-11-24T20:10:45.524Z"
   },
   {
    "duration": 11,
    "start_time": "2022-11-24T20:14:42.223Z"
   },
   {
    "duration": 453,
    "start_time": "2022-11-24T20:24:48.736Z"
   },
   {
    "duration": 56,
    "start_time": "2022-11-24T20:25:13.386Z"
   },
   {
    "duration": 3,
    "start_time": "2022-11-24T20:27:53.698Z"
   },
   {
    "duration": 3,
    "start_time": "2022-11-24T21:30:22.468Z"
   },
   {
    "duration": 50,
    "start_time": "2022-11-24T21:30:22.477Z"
   },
   {
    "duration": 11,
    "start_time": "2022-11-24T21:30:22.528Z"
   },
   {
    "duration": 13,
    "start_time": "2022-11-24T21:30:22.541Z"
   },
   {
    "duration": 5,
    "start_time": "2022-11-24T21:30:22.556Z"
   },
   {
    "duration": 31,
    "start_time": "2022-11-24T21:30:22.563Z"
   },
   {
    "duration": 35,
    "start_time": "2022-11-24T21:30:22.596Z"
   },
   {
    "duration": 4,
    "start_time": "2022-11-24T21:30:22.633Z"
   },
   {
    "duration": 41,
    "start_time": "2022-11-24T21:30:22.639Z"
   },
   {
    "duration": 4,
    "start_time": "2022-11-24T21:30:22.682Z"
   },
   {
    "duration": 22,
    "start_time": "2022-11-24T21:30:22.689Z"
   },
   {
    "duration": 54,
    "start_time": "2022-11-24T21:30:22.713Z"
   },
   {
    "duration": 60,
    "start_time": "2022-11-24T21:30:22.769Z"
   },
   {
    "duration": 48,
    "start_time": "2022-11-24T21:30:22.830Z"
   },
   {
    "duration": 681,
    "start_time": "2022-11-24T21:30:22.879Z"
   },
   {
    "duration": 34,
    "start_time": "2022-11-24T21:30:23.562Z"
   },
   {
    "duration": 89,
    "start_time": "2022-11-24T21:30:23.598Z"
   },
   {
    "duration": 775,
    "start_time": "2022-11-24T21:30:23.688Z"
   },
   {
    "duration": 17,
    "start_time": "2022-11-24T21:30:24.465Z"
   },
   {
    "duration": 864,
    "start_time": "2022-11-24T21:30:24.483Z"
   },
   {
    "duration": 11,
    "start_time": "2022-11-24T21:30:25.348Z"
   },
   {
    "duration": 358,
    "start_time": "2022-11-24T21:30:25.361Z"
   },
   {
    "duration": 388930,
    "start_time": "2022-11-24T21:30:25.721Z"
   },
   {
    "duration": 647,
    "start_time": "2022-11-24T21:36:54.652Z"
   },
   {
    "duration": 1179,
    "start_time": "2022-11-25T13:51:54.103Z"
   },
   {
    "duration": 186,
    "start_time": "2022-11-25T13:51:55.285Z"
   },
   {
    "duration": 14,
    "start_time": "2022-11-25T13:51:55.472Z"
   },
   {
    "duration": 10,
    "start_time": "2022-11-25T13:51:55.488Z"
   },
   {
    "duration": 5,
    "start_time": "2022-11-25T13:51:55.500Z"
   },
   {
    "duration": 76,
    "start_time": "2022-11-25T13:53:03.698Z"
   },
   {
    "duration": 86,
    "start_time": "2022-11-25T13:54:17.835Z"
   },
   {
    "duration": 104,
    "start_time": "2022-11-25T13:54:23.325Z"
   },
   {
    "duration": 10,
    "start_time": "2022-11-25T13:54:45.311Z"
   },
   {
    "duration": 12,
    "start_time": "2022-11-25T13:55:07.930Z"
   },
   {
    "duration": 4,
    "start_time": "2022-11-25T13:55:12.875Z"
   },
   {
    "duration": 9,
    "start_time": "2022-11-25T13:56:49.928Z"
   },
   {
    "duration": 10,
    "start_time": "2022-11-25T13:57:12.937Z"
   },
   {
    "duration": 39127,
    "start_time": "2022-11-25T13:59:56.627Z"
   },
   {
    "duration": 2452,
    "start_time": "2022-11-25T14:16:56.398Z"
   },
   {
    "duration": 22896,
    "start_time": "2022-11-25T14:17:03.304Z"
   },
   {
    "duration": 49,
    "start_time": "2022-11-25T14:31:30.999Z"
   },
   {
    "duration": 33,
    "start_time": "2022-11-25T14:31:46.123Z"
   },
   {
    "duration": 40,
    "start_time": "2022-11-25T14:32:00.535Z"
   },
   {
    "duration": 168,
    "start_time": "2022-11-25T14:32:30.392Z"
   },
   {
    "duration": 39,
    "start_time": "2022-11-25T14:33:04.079Z"
   },
   {
    "duration": 35,
    "start_time": "2022-11-25T14:33:09.944Z"
   },
   {
    "duration": 9,
    "start_time": "2022-11-25T14:33:27.249Z"
   },
   {
    "duration": 11,
    "start_time": "2022-11-25T14:35:24.076Z"
   },
   {
    "duration": 9,
    "start_time": "2022-11-25T14:39:12.598Z"
   },
   {
    "duration": 13,
    "start_time": "2022-11-25T14:39:21.578Z"
   },
   {
    "duration": 5,
    "start_time": "2022-11-25T14:39:49.535Z"
   },
   {
    "duration": 188,
    "start_time": "2022-11-25T14:39:49.543Z"
   },
   {
    "duration": 17,
    "start_time": "2022-11-25T14:39:49.733Z"
   },
   {
    "duration": 24119,
    "start_time": "2022-11-25T14:39:50.089Z"
   },
   {
    "duration": 41,
    "start_time": "2022-11-25T14:40:14.211Z"
   },
   {
    "duration": 6,
    "start_time": "2022-11-25T14:40:14.254Z"
   },
   {
    "duration": 13,
    "start_time": "2022-11-25T14:40:14.262Z"
   },
   {
    "duration": 10,
    "start_time": "2022-11-25T14:40:14.277Z"
   },
   {
    "duration": 35,
    "start_time": "2022-11-25T14:40:32.314Z"
   },
   {
    "duration": 33,
    "start_time": "2022-11-25T14:41:14.819Z"
   },
   {
    "duration": 5,
    "start_time": "2022-11-25T14:42:42.316Z"
   },
   {
    "duration": 38,
    "start_time": "2022-11-25T14:43:17.339Z"
   },
   {
    "duration": 3,
    "start_time": "2022-11-25T15:16:57.352Z"
   },
   {
    "duration": 47,
    "start_time": "2022-11-25T15:16:57.374Z"
   },
   {
    "duration": 12,
    "start_time": "2022-11-25T15:16:57.423Z"
   },
   {
    "duration": 22468,
    "start_time": "2022-11-25T15:16:58.812Z"
   },
   {
    "duration": 11,
    "start_time": "2022-11-25T15:17:21.282Z"
   },
   {
    "duration": 7,
    "start_time": "2022-11-25T15:17:21.295Z"
   },
   {
    "duration": 47,
    "start_time": "2022-11-25T15:17:21.304Z"
   },
   {
    "duration": 11,
    "start_time": "2022-11-25T15:17:21.353Z"
   },
   {
    "duration": 86,
    "start_time": "2022-11-25T15:17:21.366Z"
   },
   {
    "duration": 5,
    "start_time": "2022-11-25T15:17:21.454Z"
   },
   {
    "duration": 7,
    "start_time": "2022-11-25T15:17:21.460Z"
   },
   {
    "duration": 8,
    "start_time": "2022-11-25T15:17:21.468Z"
   },
   {
    "duration": 14,
    "start_time": "2022-11-25T15:17:21.478Z"
   },
   {
    "duration": 29,
    "start_time": "2022-11-25T15:17:40.800Z"
   },
   {
    "duration": 5,
    "start_time": "2022-11-25T15:19:08.722Z"
   },
   {
    "duration": 46,
    "start_time": "2022-11-25T15:34:05.951Z"
   },
   {
    "duration": 807,
    "start_time": "2022-11-25T15:34:10.312Z"
   },
   {
    "duration": 78,
    "start_time": "2022-11-25T15:34:16.076Z"
   },
   {
    "duration": 890,
    "start_time": "2022-11-25T15:35:36.352Z"
   },
   {
    "duration": 16,
    "start_time": "2022-11-25T15:35:52.740Z"
   },
   {
    "duration": 13,
    "start_time": "2022-11-25T15:36:02.371Z"
   },
   {
    "duration": 1067,
    "start_time": "2022-11-25T15:36:05.213Z"
   },
   {
    "duration": 13,
    "start_time": "2022-11-25T15:36:19.083Z"
   },
   {
    "duration": 425,
    "start_time": "2022-11-25T15:36:25.195Z"
   },
   {
    "duration": 5,
    "start_time": "2022-11-25T15:38:20.129Z"
   },
   {
    "duration": 63,
    "start_time": "2022-11-25T15:38:20.141Z"
   },
   {
    "duration": 18,
    "start_time": "2022-11-25T15:38:20.206Z"
   },
   {
    "duration": 22790,
    "start_time": "2022-11-25T15:38:20.927Z"
   },
   {
    "duration": 34,
    "start_time": "2022-11-25T15:38:43.719Z"
   },
   {
    "duration": 7,
    "start_time": "2022-11-25T15:38:43.755Z"
   },
   {
    "duration": 6,
    "start_time": "2022-11-25T15:38:43.764Z"
   },
   {
    "duration": 8,
    "start_time": "2022-11-25T15:38:43.772Z"
   },
   {
    "duration": 92,
    "start_time": "2022-11-25T15:38:43.782Z"
   },
   {
    "duration": 3,
    "start_time": "2022-11-25T15:38:43.875Z"
   },
   {
    "duration": 10,
    "start_time": "2022-11-25T15:38:43.880Z"
   },
   {
    "duration": 64,
    "start_time": "2022-11-25T15:38:43.893Z"
   },
   {
    "duration": 6,
    "start_time": "2022-11-25T15:38:43.961Z"
   },
   {
    "duration": 100,
    "start_time": "2022-11-25T15:38:43.970Z"
   },
   {
    "duration": 79,
    "start_time": "2022-11-25T15:38:44.072Z"
   },
   {
    "duration": 71,
    "start_time": "2022-11-25T15:38:44.155Z"
   },
   {
    "duration": 57,
    "start_time": "2022-11-25T15:38:44.227Z"
   },
   {
    "duration": 804,
    "start_time": "2022-11-25T15:38:44.286Z"
   },
   {
    "duration": 160,
    "start_time": "2022-11-25T15:38:45.092Z"
   },
   {
    "duration": 9,
    "start_time": "2022-11-25T15:38:45.255Z"
   },
   {
    "duration": 866,
    "start_time": "2022-11-25T15:38:45.267Z"
   },
   {
    "duration": 23,
    "start_time": "2022-11-25T15:38:46.134Z"
   },
   {
    "duration": 1105,
    "start_time": "2022-11-25T15:38:46.160Z"
   },
   {
    "duration": 12,
    "start_time": "2022-11-25T15:38:47.267Z"
   },
   {
    "duration": 448,
    "start_time": "2022-11-25T15:38:47.281Z"
   },
   {
    "duration": 505038,
    "start_time": "2022-11-25T15:38:47.731Z"
   },
   {
    "duration": 827,
    "start_time": "2022-11-25T15:47:12.771Z"
   },
   {
    "duration": 782,
    "start_time": "2022-11-25T15:56:09.215Z"
   },
   {
    "duration": 1151,
    "start_time": "2022-11-25T15:57:32.853Z"
   },
   {
    "duration": 1119,
    "start_time": "2022-11-25T15:58:14.673Z"
   },
   {
    "duration": 1097,
    "start_time": "2022-11-25T16:03:01.291Z"
   },
   {
    "duration": 1141,
    "start_time": "2022-11-25T16:03:16.887Z"
   },
   {
    "duration": 1102,
    "start_time": "2022-11-25T16:03:31.949Z"
   },
   {
    "duration": 1078,
    "start_time": "2022-11-25T16:03:51.924Z"
   },
   {
    "duration": 270,
    "start_time": "2022-11-25T16:11:24.982Z"
   },
   {
    "duration": 604,
    "start_time": "2022-11-25T16:11:55.990Z"
   },
   {
    "duration": 2842,
    "start_time": "2022-11-25T18:11:52.589Z"
   },
   {
    "duration": 60,
    "start_time": "2022-11-25T18:11:55.433Z"
   },
   {
    "duration": 13,
    "start_time": "2022-11-25T18:11:55.494Z"
   },
   {
    "duration": 40874,
    "start_time": "2022-11-25T18:11:55.509Z"
   },
   {
    "duration": 17,
    "start_time": "2022-11-25T18:12:36.386Z"
   },
   {
    "duration": 47,
    "start_time": "2022-11-25T18:12:36.405Z"
   },
   {
    "duration": 11,
    "start_time": "2022-11-25T18:12:36.456Z"
   },
   {
    "duration": 10,
    "start_time": "2022-11-25T18:12:36.469Z"
   },
   {
    "duration": 720,
    "start_time": "2022-11-25T18:12:36.482Z"
   },
   {
    "duration": 0,
    "start_time": "2022-11-25T18:12:37.204Z"
   },
   {
    "duration": 0,
    "start_time": "2022-11-25T18:12:37.206Z"
   },
   {
    "duration": 0,
    "start_time": "2022-11-25T18:12:37.208Z"
   },
   {
    "duration": 0,
    "start_time": "2022-11-25T18:12:37.209Z"
   },
   {
    "duration": 0,
    "start_time": "2022-11-25T18:12:37.211Z"
   },
   {
    "duration": 4,
    "start_time": "2022-11-25T18:16:25.254Z"
   },
   {
    "duration": 12,
    "start_time": "2022-11-25T18:16:25.816Z"
   },
   {
    "duration": 6,
    "start_time": "2022-11-25T18:16:26.024Z"
   },
   {
    "duration": 29,
    "start_time": "2022-11-25T18:16:27.421Z"
   },
   {
    "duration": 1155,
    "start_time": "2022-11-25T18:29:06.139Z"
   },
   {
    "duration": 168,
    "start_time": "2022-11-25T18:29:07.296Z"
   },
   {
    "duration": 14,
    "start_time": "2022-11-25T18:29:07.465Z"
   },
   {
    "duration": 2,
    "start_time": "2022-11-25T18:29:07.482Z"
   },
   {
    "duration": 24,
    "start_time": "2022-11-25T18:29:07.486Z"
   },
   {
    "duration": 5,
    "start_time": "2022-11-25T18:29:07.512Z"
   },
   {
    "duration": 7,
    "start_time": "2022-11-25T18:29:07.518Z"
   },
   {
    "duration": 10,
    "start_time": "2022-11-25T18:29:07.527Z"
   },
   {
    "duration": 387,
    "start_time": "2022-11-25T18:29:07.539Z"
   },
   {
    "duration": 0,
    "start_time": "2022-11-25T18:29:07.929Z"
   },
   {
    "duration": 0,
    "start_time": "2022-11-25T18:29:07.930Z"
   },
   {
    "duration": 0,
    "start_time": "2022-11-25T18:29:07.932Z"
   },
   {
    "duration": 0,
    "start_time": "2022-11-25T18:29:07.933Z"
   },
   {
    "duration": 0,
    "start_time": "2022-11-25T18:29:07.934Z"
   },
   {
    "duration": 0,
    "start_time": "2022-11-25T18:29:07.935Z"
   },
   {
    "duration": 0,
    "start_time": "2022-11-25T18:29:07.936Z"
   },
   {
    "duration": 0,
    "start_time": "2022-11-25T18:29:07.937Z"
   },
   {
    "duration": 0,
    "start_time": "2022-11-25T18:29:07.938Z"
   },
   {
    "duration": 0,
    "start_time": "2022-11-25T18:29:07.938Z"
   },
   {
    "duration": 0,
    "start_time": "2022-11-25T18:29:07.939Z"
   },
   {
    "duration": 0,
    "start_time": "2022-11-25T18:29:07.940Z"
   },
   {
    "duration": 0,
    "start_time": "2022-11-25T18:29:07.941Z"
   },
   {
    "duration": 0,
    "start_time": "2022-11-25T18:29:07.942Z"
   },
   {
    "duration": 0,
    "start_time": "2022-11-25T18:29:07.943Z"
   },
   {
    "duration": 0,
    "start_time": "2022-11-25T18:29:07.944Z"
   },
   {
    "duration": 0,
    "start_time": "2022-11-25T18:29:07.945Z"
   },
   {
    "duration": 0,
    "start_time": "2022-11-25T18:29:07.946Z"
   },
   {
    "duration": 0,
    "start_time": "2022-11-25T18:29:07.947Z"
   },
   {
    "duration": 4,
    "start_time": "2022-11-25T18:30:24.032Z"
   },
   {
    "duration": 33,
    "start_time": "2022-11-25T18:30:31.366Z"
   },
   {
    "duration": 1147,
    "start_time": "2022-11-25T18:30:38.275Z"
   },
   {
    "duration": 55,
    "start_time": "2022-11-25T18:30:39.423Z"
   },
   {
    "duration": 14,
    "start_time": "2022-11-25T18:30:39.480Z"
   },
   {
    "duration": 2,
    "start_time": "2022-11-25T18:30:39.496Z"
   },
   {
    "duration": 15,
    "start_time": "2022-11-25T18:30:39.500Z"
   },
   {
    "duration": 5,
    "start_time": "2022-11-25T18:30:39.517Z"
   },
   {
    "duration": 9,
    "start_time": "2022-11-25T18:30:39.524Z"
   },
   {
    "duration": 7,
    "start_time": "2022-11-25T18:30:39.535Z"
   },
   {
    "duration": 63,
    "start_time": "2022-11-25T18:30:39.543Z"
   },
   {
    "duration": 2,
    "start_time": "2022-11-25T18:30:39.609Z"
   },
   {
    "duration": 10,
    "start_time": "2022-11-25T18:30:39.613Z"
   },
   {
    "duration": 20,
    "start_time": "2022-11-25T18:30:39.625Z"
   },
   {
    "duration": 11,
    "start_time": "2022-11-25T18:30:39.647Z"
   },
   {
    "duration": 41,
    "start_time": "2022-11-25T18:30:39.659Z"
   },
   {
    "duration": 35,
    "start_time": "2022-11-25T18:30:39.701Z"
   },
   {
    "duration": 73,
    "start_time": "2022-11-25T18:30:39.738Z"
   },
   {
    "duration": 37,
    "start_time": "2022-11-25T18:30:39.813Z"
   },
   {
    "duration": 741,
    "start_time": "2022-11-25T18:30:39.852Z"
   },
   {
    "duration": 92,
    "start_time": "2022-11-25T18:30:40.595Z"
   },
   {
    "duration": 93,
    "start_time": "2022-11-25T18:30:40.689Z"
   },
   {
    "duration": 793,
    "start_time": "2022-11-25T18:30:40.785Z"
   },
   {
    "duration": 11,
    "start_time": "2022-11-25T18:30:41.579Z"
   },
   {
    "duration": 924,
    "start_time": "2022-11-25T18:30:41.592Z"
   },
   {
    "duration": 10,
    "start_time": "2022-11-25T18:30:42.518Z"
   },
   {
    "duration": 398,
    "start_time": "2022-11-25T18:30:42.530Z"
   },
   {
    "duration": 450324,
    "start_time": "2022-11-25T18:30:42.930Z"
   },
   {
    "duration": 166,
    "start_time": "2022-11-25T18:38:13.256Z"
   },
   {
    "duration": 945,
    "start_time": "2022-11-25T18:38:13.425Z"
   },
   {
    "duration": 487,
    "start_time": "2022-11-25T18:41:55.165Z"
   },
   {
    "duration": 442,
    "start_time": "2022-11-25T18:42:41.373Z"
   },
   {
    "duration": 515,
    "start_time": "2022-11-25T19:00:19.748Z"
   },
   {
    "duration": 435,
    "start_time": "2022-11-25T19:03:52.032Z"
   },
   {
    "duration": 483,
    "start_time": "2022-11-25T19:04:23.978Z"
   },
   {
    "duration": 495,
    "start_time": "2022-11-25T19:04:36.885Z"
   },
   {
    "duration": 495,
    "start_time": "2022-11-25T19:04:45.593Z"
   },
   {
    "duration": 459,
    "start_time": "2022-11-25T19:04:52.803Z"
   },
   {
    "duration": 473,
    "start_time": "2022-11-25T19:05:02.496Z"
   },
   {
    "duration": 542,
    "start_time": "2022-11-25T19:05:13.682Z"
   },
   {
    "duration": 541,
    "start_time": "2022-11-25T19:05:22.103Z"
   },
   {
    "duration": 479,
    "start_time": "2022-11-25T19:12:01.581Z"
   },
   {
    "duration": 460,
    "start_time": "2022-11-25T19:12:07.994Z"
   },
   {
    "duration": 482,
    "start_time": "2022-11-25T19:12:14.763Z"
   },
   {
    "duration": 456,
    "start_time": "2022-11-25T19:12:27.487Z"
   },
   {
    "duration": 1203,
    "start_time": "2022-11-25T19:13:56.588Z"
   },
   {
    "duration": 61,
    "start_time": "2022-11-25T19:13:57.793Z"
   },
   {
    "duration": 18,
    "start_time": "2022-11-25T19:13:57.856Z"
   },
   {
    "duration": 3,
    "start_time": "2022-11-25T19:13:57.877Z"
   },
   {
    "duration": 20,
    "start_time": "2022-11-25T19:13:57.881Z"
   },
   {
    "duration": 6,
    "start_time": "2022-11-25T19:13:57.903Z"
   },
   {
    "duration": 12,
    "start_time": "2022-11-25T19:13:57.911Z"
   },
   {
    "duration": 12,
    "start_time": "2022-11-25T19:13:57.925Z"
   },
   {
    "duration": 57,
    "start_time": "2022-11-25T19:13:57.939Z"
   },
   {
    "duration": 3,
    "start_time": "2022-11-25T19:13:57.999Z"
   },
   {
    "duration": 7,
    "start_time": "2022-11-25T19:13:58.004Z"
   },
   {
    "duration": 20,
    "start_time": "2022-11-25T19:13:58.013Z"
   },
   {
    "duration": 10,
    "start_time": "2022-11-25T19:13:58.035Z"
   },
   {
    "duration": 70,
    "start_time": "2022-11-25T19:13:58.048Z"
   },
   {
    "duration": 39,
    "start_time": "2022-11-25T19:13:58.120Z"
   },
   {
    "duration": 83,
    "start_time": "2022-11-25T19:13:58.161Z"
   },
   {
    "duration": 69,
    "start_time": "2022-11-25T19:13:58.246Z"
   },
   {
    "duration": 824,
    "start_time": "2022-11-25T19:13:58.317Z"
   },
   {
    "duration": 44,
    "start_time": "2022-11-25T19:13:59.143Z"
   },
   {
    "duration": 97,
    "start_time": "2022-11-25T19:13:59.189Z"
   },
   {
    "duration": 893,
    "start_time": "2022-11-25T19:13:59.288Z"
   },
   {
    "duration": 14,
    "start_time": "2022-11-25T19:14:00.183Z"
   },
   {
    "duration": 1169,
    "start_time": "2022-11-25T19:14:00.199Z"
   },
   {
    "duration": 16,
    "start_time": "2022-11-25T19:14:01.371Z"
   },
   {
    "duration": 462,
    "start_time": "2022-11-25T19:14:01.389Z"
   },
   {
    "duration": 446597,
    "start_time": "2022-11-25T19:14:01.852Z"
   },
   {
    "duration": 199,
    "start_time": "2022-11-25T19:21:28.451Z"
   },
   {
    "duration": 769,
    "start_time": "2022-11-25T19:21:28.653Z"
   }
  ],
  "kernelspec": {
   "display_name": "Python 3 (ipykernel)",
   "language": "python",
   "name": "python3"
  },
  "language_info": {
   "codemirror_mode": {
    "name": "ipython",
    "version": 3
   },
   "file_extension": ".py",
   "mimetype": "text/x-python",
   "name": "python",
   "nbconvert_exporter": "python",
   "pygments_lexer": "ipython3",
   "version": "3.9.13"
  },
  "toc": {
   "base_numbering": 1,
   "nav_menu": {},
   "number_sections": true,
   "sideBar": true,
   "skip_h1_title": true,
   "title_cell": "Содержание",
   "title_sidebar": "Contents",
   "toc_cell": true,
   "toc_position": {
    "height": "calc(100% - 180px)",
    "left": "10px",
    "top": "150px",
    "width": "165px"
   },
   "toc_section_display": true,
   "toc_window_display": true
  }
 },
 "nbformat": 4,
 "nbformat_minor": 2
}
