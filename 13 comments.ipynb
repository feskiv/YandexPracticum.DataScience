{
 "cells": [
  {
   "cell_type": "markdown",
   "metadata": {
    "toc": true
   },
   "source": [
    "<h1>Содержание<span class=\"tocSkip\"></span></h1>\n",
    "<div class=\"toc\"><ul class=\"toc-item\"><li><span><a href=\"#Подготовка\" data-toc-modified-id=\"Подготовка-1\"><span class=\"toc-item-num\">1&nbsp;&nbsp;</span>Подготовка</a></span></li><li><span><a href=\"#Обучение\" data-toc-modified-id=\"Обучение-2\"><span class=\"toc-item-num\">2&nbsp;&nbsp;</span>Обучение</a></span></li><li><span><a href=\"#Выводы\" data-toc-modified-id=\"Выводы-3\"><span class=\"toc-item-num\">3&nbsp;&nbsp;</span>Выводы</a></span></li><li><span><a href=\"#Чек-лист-проверки\" data-toc-modified-id=\"Чек-лист-проверки-4\"><span class=\"toc-item-num\">4&nbsp;&nbsp;</span>Чек-лист проверки</a></span></li></ul></div>"
   ]
  },
  {
   "cell_type": "markdown",
   "metadata": {},
   "source": [
    "# Проект для «Викишоп»"
   ]
  },
  {
   "cell_type": "markdown",
   "metadata": {},
   "source": [
    "Интернет-магазин «Викишоп» запускает новый сервис. Теперь пользователи могут редактировать и дополнять описания товаров, как в вики-сообществах. То есть клиенты предлагают свои правки и комментируют изменения других. Магазину нужен инструмент, который будет искать токсичные комментарии и отправлять их на модерацию. \n",
    "\n",
    "Обучим модель классифицировать комментарии на позитивные и негативные. В вашем распоряжении набор данных с разметкой о токсичности правок.\n",
    "\n",
    "Построим модель со значением метрики качества *F1* не меньше 0.75. "
   ]
  },
  {
   "cell_type": "markdown",
   "metadata": {},
   "source": [
    "## Подготовка"
   ]
  },
  {
   "cell_type": "code",
   "execution_count": 60,
   "metadata": {},
   "outputs": [],
   "source": [
    "import pandas as pd\n",
    "import matplotlib.pyplot as plt\n",
    "import re\n",
    "\n",
    "from nltk.corpus import stopwords as nltk_stopwords\n",
    "stopwords = set(nltk_stopwords.words('english'))\n",
    "\n",
    "from sklearn.feature_extraction.text import TfidfVectorizer \n",
    "from sklearn.model_selection import train_test_split, RandomizedSearchCV, GridSearchCV\n",
    "from sklearn.ensemble import RandomForestClassifier\n",
    "from sklearn.linear_model import LogisticRegression \n",
    "from sklearn.metrics import f1_score\n",
    "from sklearn.pipeline import Pipeline\n",
    "\n",
    "import lightgbm as lgb\n",
    "\n",
    "from tqdm.notebook import tqdm\n",
    "tqdm.pandas()\n",
    "\n",
    "!pip install wordcloud\n",
    "from wordcloud import WordCloud"
   ]
  },
  {
   "cell_type": "code",
   "execution_count": 2,
   "metadata": {},
   "outputs": [
    {
     "data": {
      "text/html": [
       "<div>\n",
       "<style scoped>\n",
       "    .dataframe tbody tr th:only-of-type {\n",
       "        vertical-align: middle;\n",
       "    }\n",
       "\n",
       "    .dataframe tbody tr th {\n",
       "        vertical-align: top;\n",
       "    }\n",
       "\n",
       "    .dataframe thead th {\n",
       "        text-align: right;\n",
       "    }\n",
       "</style>\n",
       "<table border=\"1\" class=\"dataframe\">\n",
       "  <thead>\n",
       "    <tr style=\"text-align: right;\">\n",
       "      <th></th>\n",
       "      <th>text</th>\n",
       "      <th>toxic</th>\n",
       "    </tr>\n",
       "  </thead>\n",
       "  <tbody>\n",
       "    <tr>\n",
       "      <th>149453</th>\n",
       "      <td>\"\\n\\nThe trouble is that that version was hype...</td>\n",
       "      <td>0</td>\n",
       "    </tr>\n",
       "    <tr>\n",
       "      <th>110419</th>\n",
       "      <td>Corporation, or company? you decide.</td>\n",
       "      <td>0</td>\n",
       "    </tr>\n",
       "    <tr>\n",
       "      <th>94617</th>\n",
       "      <td>\"\\n\\noff-hand comment by Ludwigs2\\nThe problem...</td>\n",
       "      <td>0</td>\n",
       "    </tr>\n",
       "    <tr>\n",
       "      <th>5536</th>\n",
       "      <td>Electronic Intifada is not an activist site! W...</td>\n",
       "      <td>0</td>\n",
       "    </tr>\n",
       "    <tr>\n",
       "      <th>105162</th>\n",
       "      <td>\"\\nIf you did that then the 9-11 attacks would...</td>\n",
       "      <td>0</td>\n",
       "    </tr>\n",
       "  </tbody>\n",
       "</table>\n",
       "</div>"
      ],
      "text/plain": [
       "                                                     text  toxic\n",
       "149453  \"\\n\\nThe trouble is that that version was hype...      0\n",
       "110419               Corporation, or company? you decide.      0\n",
       "94617   \"\\n\\noff-hand comment by Ludwigs2\\nThe problem...      0\n",
       "5536    Electronic Intifada is not an activist site! W...      0\n",
       "105162  \"\\nIf you did that then the 9-11 attacks would...      0"
      ]
     },
     "execution_count": 2,
     "metadata": {},
     "output_type": "execute_result"
    }
   ],
   "source": [
    "df = pd.read_csv('/datasets/toxic_comments.csv', index_col = 0)\n",
    "df.sample(5)"
   ]
  },
  {
   "cell_type": "code",
   "execution_count": 3,
   "metadata": {
    "scrolled": false
   },
   "outputs": [
    {
     "name": "stdout",
     "output_type": "stream",
     "text": [
      "<class 'pandas.core.frame.DataFrame'>\n",
      "Int64Index: 159292 entries, 0 to 159450\n",
      "Data columns (total 2 columns):\n",
      " #   Column  Non-Null Count   Dtype \n",
      "---  ------  --------------   ----- \n",
      " 0   text    159292 non-null  object\n",
      " 1   toxic   159292 non-null  int64 \n",
      "dtypes: int64(1), object(1)\n",
      "memory usage: 3.6+ MB\n"
     ]
    }
   ],
   "source": [
    "df.info()"
   ]
  },
  {
   "cell_type": "code",
   "execution_count": 4,
   "metadata": {
    "scrolled": true
   },
   "outputs": [
    {
     "data": {
      "text/plain": [
       "0    143106\n",
       "1     16186\n",
       "Name: toxic, dtype: int64"
      ]
     },
     "execution_count": 4,
     "metadata": {},
     "output_type": "execute_result"
    }
   ],
   "source": [
    "df.toxic.value_counts()"
   ]
  },
  {
   "cell_type": "markdown",
   "metadata": {},
   "source": [
    "Видим дисбаланс классов, учтем это при обучении моделей.\n",
    "\n",
    "**Очистка и лемматизация**\n",
    "\n",
    "Очистим текст от лишних символов с помощью регулярных выражений, затем лемматизируем его."
   ]
  },
  {
   "cell_type": "code",
   "execution_count": 5,
   "metadata": {},
   "outputs": [
    {
     "data": {
      "application/vnd.jupyter.widget-view+json": {
       "model_id": "eaa1666fd0fa4d5f98e6ae0b156987fa",
       "version_major": 2,
       "version_minor": 0
      },
      "text/plain": [
       "  0%|          | 0/159292 [00:00<?, ?it/s]"
      ]
     },
     "metadata": {},
     "output_type": "display_data"
    }
   ],
   "source": [
    "def clear_text(text):\n",
    "    clear = re.sub(r'[^a-zA-Z ]', ' ', text.lower())\n",
    "    return ' '.join(clear.split())\n",
    "\n",
    "df['text'] = df['text'].progress_apply(clear_text)"
   ]
  },
  {
   "cell_type": "code",
   "execution_count": 6,
   "metadata": {},
   "outputs": [
    {
     "data": {
      "application/vnd.jupyter.widget-view+json": {
       "model_id": "2d97f418d2ba4a07a50c79628a186a20",
       "version_major": 2,
       "version_minor": 0
      },
      "text/plain": [
       "  0%|          | 0/159292 [00:00<?, ?it/s]"
      ]
     },
     "metadata": {},
     "output_type": "display_data"
    }
   ],
   "source": [
    "import spacy\n",
    "nlp = spacy.load('en_core_web_sm', disable=['parser', 'ner'])\n",
    "def lemme_text(text):\n",
    "    doc = nlp(text)\n",
    "    return ' '.join([token.lemma_ for token in doc])\n",
    "\n",
    "df['text'] = df['text'].progress_apply(lemme_text)"
   ]
  },
  {
   "cell_type": "code",
   "execution_count": 7,
   "metadata": {},
   "outputs": [
    {
     "data": {
      "text/plain": [
       "'explanation why the edit make under my username hardcore metallica fan be revert they weren t vandalism just closure on some gas after I vote at new york doll fac and please don t remove the template from the talk page since I m retire now'"
      ]
     },
     "execution_count": 7,
     "metadata": {},
     "output_type": "execute_result"
    }
   ],
   "source": [
    "df['text'][0]"
   ]
  },
  {
   "cell_type": "code",
   "execution_count": 14,
   "metadata": {
    "scrolled": true
   },
   "outputs": [
    {
     "data": {
      "image/png": "[encoded data removed]",
      "text/plain": [
       "<Figure size 720x504 with 1 Axes>"
      ]
     },
     "metadata": {
      "needs_background": "light"
     },
     "output_type": "display_data"
    }
   ],
   "source": [
    "text = ' '.join(df['text'])\n",
    "cloud = WordCloud(background_color='white').generate(text)\n",
    "plt.figure(figsize=(10, 7))\n",
    "plt.imshow(cloud)\n",
    "plt.axis('off');"
   ]
  },
  {
   "cell_type": "markdown",
   "metadata": {},
   "source": [
    "## Обучение"
   ]
  },
  {
   "cell_type": "code",
   "execution_count": 15,
   "metadata": {
    "scrolled": true
   },
   "outputs": [
    {
     "name": "stdout",
     "output_type": "stream",
     "text": [
      "(159292,)\n",
      "(159292,)\n"
     ]
    }
   ],
   "source": [
    "#выделим целевой признак и разделим датасет на обучающую и тестовую выборки\n",
    "target = df['toxic']\n",
    "features = df['text']\n",
    "\n",
    "features_train, features_test, target_train, target_test = train_test_split(\n",
    "    features, target, test_size=0.2, random_state=12345, stratify=target) \n",
    "\n",
    "print(target.shape)\n",
    "print(features.shape)"
   ]
  },
  {
   "cell_type": "markdown",
   "metadata": {},
   "source": [
    "**Мешок слов**\n",
    "\n",
    "Создадим мешок слов и добавим в него стоп-слова. Функцию fit() запустим только на обучающей выборке, иначе тестирование будет нечестным: в модели будут учтены частоты слов из тестовой выборки."
   ]
  },
  {
   "cell_type": "code",
   "execution_count": 19,
   "metadata": {
    "scrolled": true
   },
   "outputs": [
    {
     "name": "stdout",
     "output_type": "stream",
     "text": [
      "Размер обучающей матрицы: (127433, 132908)\n",
      "Размер тестовой матрицы: (31859, 132908)\n"
     ]
    }
   ],
   "source": [
    "count_tf_idf = TfidfVectorizer(stop_words=stopwords)\n",
    "tf_idf_train = count_tf_idf.fit_transform(features_train)\n",
    "tf_idf_test = count_tf_idf.transform(features_test)\n",
    "\n",
    "print(\"Размер обучающей матрицы:\", tf_idf_train.shape)\n",
    "print(\"Размер тестовой матрицы:\", tf_idf_test.shape)"
   ]
  },
  {
   "cell_type": "markdown",
   "metadata": {},
   "source": [
    "**Логистическая регрессия**"
   ]
  },
  {
   "cell_type": "code",
   "execution_count": 58,
   "metadata": {
    "scrolled": true
   },
   "outputs": [
    {
     "name": "stdout",
     "output_type": "stream",
     "text": [
      "F1: 0.83\n",
      "CPU times: user 36.8 s, sys: 39.9 s, total: 1min 16s\n",
      "Wall time: 1min 16s\n"
     ]
    }
   ],
   "source": [
    "%%time\n",
    "model_log = LogisticRegression(class_weight='balanced', max_iter=1000, solver='lbfgs', random_state=12345)\n",
    "model_log.fit(tf_idf_train, target_train)\n",
    "pred_train = model_log.predict(tf_idf_train)\n",
    "\n",
    "print('F1: {:.2f}'.format(f1_score(target_train, pred_train)))"
   ]
  },
  {
   "cell_type": "markdown",
   "metadata": {},
   "source": [
    "**Случайный лес**"
   ]
  },
  {
   "cell_type": "code",
   "execution_count": 53,
   "metadata": {
    "scrolled": true
   },
   "outputs": [
    {
     "name": "stdout",
     "output_type": "stream",
     "text": [
      "F1: 0.31\n",
      "Параметры {'n_estimators': 5, 'max_depth': 89}\n",
      "CPU times: user 5min 45s, sys: 3.77 s, total: 5min 49s\n",
      "Wall time: 5min 50s\n"
     ]
    }
   ],
   "source": [
    "%%time\n",
    "model_f = RandomForestClassifier(random_state=12345)\n",
    "params_forest = {'n_estimators': range(1, 15), 'max_depth': range(1,100)} \n",
    "forest = RandomizedSearchCV(model_f, param_distributions=params_forest, cv=5, scoring='f1', n_jobs=-1)\n",
    "forest.fit(tf_idf_train, target_train)\n",
    "f1_forest = forest.best_score_\n",
    "\n",
    "print('F1: {:.2f}'.format(f1_forest))\n",
    "print('Параметры {}'.format(forest.best_params_))"
   ]
  },
  {
   "cell_type": "markdown",
   "metadata": {},
   "source": [
    "**Проверка лучшей модели**\n",
    "\n",
    "Определим результаты предсказания логистической регрессии для тестовой выборки. "
   ]
  },
  {
   "cell_type": "code",
   "execution_count": 59,
   "metadata": {},
   "outputs": [
    {
     "name": "stdout",
     "output_type": "stream",
     "text": [
      "F1: 0.76\n"
     ]
    }
   ],
   "source": [
    "pred_test = model_log.predict(tf_idf_test)\n",
    "\n",
    "print('F1: {:.2f}'.format(f1_score(target_test, pred_test)))"
   ]
  },
  {
   "cell_type": "markdown",
   "metadata": {},
   "source": [
    "## Выводы"
   ]
  },
  {
   "cell_type": "markdown",
   "metadata": {},
   "source": [
    "Для классификации комментариев на позитивные и негативные был изучен и обработан набор данных с разметкой о токсичности правок - текст был очищен от лишних символов, лемматизирован и преобразован в матрицу признаков. \n",
    "\n",
    "Также были обучены модели логистической регрессии и случайного леса - лучший результат показала модель логистической регрессии с метрикой F1 равной 0.76."
   ]
  }
 ],
 "metadata": {
  "ExecuteTimeLog": [
   {
    "duration": 2920,
    "start_time": "2023-02-14T12:36:58.628Z"
   },
   {
    "duration": 211,
    "start_time": "2023-02-14T12:38:03.790Z"
   },
   {
    "duration": 78,
    "start_time": "2023-02-14T12:38:36.832Z"
   },
   {
    "duration": 9,
    "start_time": "2023-02-14T12:40:31.344Z"
   },
   {
    "duration": 57,
    "start_time": "2023-02-14T12:40:32.855Z"
   },
   {
    "duration": 4011,
    "start_time": "2023-02-14T12:41:39.616Z"
   },
   {
    "duration": 844,
    "start_time": "2023-02-14T12:41:57.614Z"
   },
   {
    "duration": 804,
    "start_time": "2023-02-14T12:42:04.414Z"
   },
   {
    "duration": 830,
    "start_time": "2023-02-14T12:42:08.837Z"
   },
   {
    "duration": 876,
    "start_time": "2023-02-14T12:42:48.581Z"
   },
   {
    "duration": 931,
    "start_time": "2023-02-14T12:43:01.425Z"
   },
   {
    "duration": 800,
    "start_time": "2023-02-14T12:43:27.227Z"
   },
   {
    "duration": 37,
    "start_time": "2023-02-14T12:43:31.686Z"
   },
   {
    "duration": 94,
    "start_time": "2023-02-14T13:12:07.826Z"
   },
   {
    "duration": 102,
    "start_time": "2023-02-14T13:12:26.323Z"
   },
   {
    "duration": 5,
    "start_time": "2023-02-14T13:12:41.946Z"
   },
   {
    "duration": 78,
    "start_time": "2023-02-14T13:12:48.843Z"
   },
   {
    "duration": 3,
    "start_time": "2023-02-14T13:12:51.954Z"
   },
   {
    "duration": 1705,
    "start_time": "2023-02-15T13:11:08.878Z"
   },
   {
    "duration": 3585,
    "start_time": "2023-02-15T13:11:10.585Z"
   },
   {
    "duration": 32,
    "start_time": "2023-02-15T13:11:14.171Z"
   },
   {
    "duration": 3,
    "start_time": "2023-02-15T13:11:14.204Z"
   },
   {
    "duration": 4,
    "start_time": "2023-02-15T13:14:23.340Z"
   },
   {
    "duration": 3,
    "start_time": "2023-02-15T14:47:53.795Z"
   },
   {
    "duration": 3,
    "start_time": "2023-02-15T14:47:54.601Z"
   },
   {
    "duration": 4,
    "start_time": "2023-02-15T14:47:56.561Z"
   },
   {
    "duration": 92,
    "start_time": "2023-02-15T14:48:25.545Z"
   },
   {
    "duration": 4,
    "start_time": "2023-02-15T14:48:40.052Z"
   },
   {
    "duration": 46,
    "start_time": "2023-02-16T08:45:03.065Z"
   },
   {
    "duration": 2562,
    "start_time": "2023-02-16T08:45:09.246Z"
   },
   {
    "duration": 2652,
    "start_time": "2023-02-16T08:45:11.810Z"
   },
   {
    "duration": 37,
    "start_time": "2023-02-16T08:45:14.465Z"
   },
   {
    "duration": 13,
    "start_time": "2023-02-16T08:45:14.503Z"
   },
   {
    "duration": 3,
    "start_time": "2023-02-16T13:11:11.722Z"
   },
   {
    "duration": 214,
    "start_time": "2023-02-16T13:11:14.807Z"
   },
   {
    "duration": 91,
    "start_time": "2023-02-16T13:14:43.880Z"
   },
   {
    "duration": 188,
    "start_time": "2023-02-16T13:14:48.207Z"
   },
   {
    "duration": 334,
    "start_time": "2023-02-16T13:28:21.578Z"
   },
   {
    "duration": 2956,
    "start_time": "2023-02-16T13:28:45.172Z"
   },
   {
    "duration": 386,
    "start_time": "2023-02-16T13:29:35.519Z"
   },
   {
    "duration": 10,
    "start_time": "2023-02-16T13:32:26.814Z"
   },
   {
    "duration": 256,
    "start_time": "2023-02-16T13:33:33.637Z"
   },
   {
    "duration": 92119,
    "start_time": "2023-02-16T13:33:37.773Z"
   },
   {
    "duration": 101489,
    "start_time": "2023-02-16T13:37:42.294Z"
   },
   {
    "duration": 6,
    "start_time": "2023-02-16T13:41:56.220Z"
   },
   {
    "duration": 9,
    "start_time": "2023-02-16T14:18:37.146Z"
   },
   {
    "duration": 71,
    "start_time": "2023-02-16T14:34:07.355Z"
   },
   {
    "duration": 15,
    "start_time": "2023-02-16T14:39:49.188Z"
   },
   {
    "duration": 1220,
    "start_time": "2023-02-16T14:39:59.804Z"
   },
   {
    "duration": 8,
    "start_time": "2023-02-16T14:41:36.554Z"
   },
   {
    "duration": 7409,
    "start_time": "2023-02-16T14:42:38.469Z"
   },
   {
    "duration": 12699,
    "start_time": "2023-02-16T14:45:28.921Z"
   },
   {
    "duration": 5,
    "start_time": "2023-02-16T14:46:09.067Z"
   },
   {
    "duration": 29,
    "start_time": "2023-02-16T15:01:36.944Z"
   },
   {
    "duration": 7167,
    "start_time": "2023-02-16T15:01:50.588Z"
   },
   {
    "duration": 3285,
    "start_time": "2023-02-16T15:02:55.096Z"
   },
   {
    "duration": 2691,
    "start_time": "2023-02-16T15:02:58.383Z"
   },
   {
    "duration": 33,
    "start_time": "2023-02-16T15:03:01.075Z"
   },
   {
    "duration": 23,
    "start_time": "2023-02-16T15:03:01.110Z"
   },
   {
    "duration": 2550,
    "start_time": "2023-02-16T15:03:01.135Z"
   },
   {
    "duration": 91757,
    "start_time": "2023-02-16T15:03:03.687Z"
   },
   {
    "duration": 11,
    "start_time": "2023-02-16T15:04:35.446Z"
   },
   {
    "duration": 81,
    "start_time": "2023-02-16T15:04:35.459Z"
   },
   {
    "duration": 12113,
    "start_time": "2023-02-16T15:04:35.542Z"
   },
   {
    "duration": 7408,
    "start_time": "2023-02-16T15:06:01.577Z"
   },
   {
    "duration": 58,
    "start_time": "2023-02-16T15:10:21.449Z"
   },
   {
    "duration": 51693,
    "start_time": "2023-02-16T15:11:23.604Z"
   },
   {
    "duration": 63074,
    "start_time": "2023-02-16T15:12:52.320Z"
   },
   {
    "duration": 1656,
    "start_time": "2023-02-17T08:44:30.318Z"
   },
   {
    "duration": 2401,
    "start_time": "2023-02-17T08:44:31.976Z"
   },
   {
    "duration": 29,
    "start_time": "2023-02-17T08:44:34.378Z"
   },
   {
    "duration": 26,
    "start_time": "2023-02-17T08:44:34.409Z"
   },
   {
    "duration": 2023,
    "start_time": "2023-02-17T08:44:34.437Z"
   },
   {
    "duration": 72109,
    "start_time": "2023-02-17T08:44:36.462Z"
   },
   {
    "duration": 7,
    "start_time": "2023-02-17T08:45:48.573Z"
   },
   {
    "duration": 59,
    "start_time": "2023-02-17T08:45:48.592Z"
   },
   {
    "duration": 6320,
    "start_time": "2023-02-17T08:45:48.653Z"
   },
   {
    "duration": 63648,
    "start_time": "2023-02-17T08:45:54.974Z"
   },
   {
    "duration": 6,
    "start_time": "2023-02-17T08:48:16.583Z"
   },
   {
    "duration": 6,
    "start_time": "2023-02-17T09:01:01.125Z"
   },
   {
    "duration": 154,
    "start_time": "2023-02-17T09:05:55.935Z"
   },
   {
    "duration": 54,
    "start_time": "2023-02-17T09:08:31.704Z"
   },
   {
    "duration": 29971,
    "start_time": "2023-02-17T09:08:38.341Z"
   },
   {
    "duration": 21820,
    "start_time": "2023-02-17T09:10:04.637Z"
   },
   {
    "duration": 88,
    "start_time": "2023-02-17T09:22:20.668Z"
   },
   {
    "duration": 446331,
    "start_time": "2023-02-17T09:22:51.355Z"
   },
   {
    "duration": 66,
    "start_time": "2023-02-17T09:33:47.709Z"
   },
   {
    "duration": 71,
    "start_time": "2023-02-17T09:34:45.892Z"
   },
   {
    "duration": 53,
    "start_time": "2023-02-17T09:35:26.971Z"
   },
   {
    "duration": 7,
    "start_time": "2023-02-17T09:35:56.146Z"
   },
   {
    "duration": 8,
    "start_time": "2023-02-17T09:36:43.132Z"
   },
   {
    "duration": 59,
    "start_time": "2023-02-17T09:36:46.906Z"
   },
   {
    "duration": 62,
    "start_time": "2023-02-17T09:37:03.330Z"
   },
   {
    "duration": 57,
    "start_time": "2023-02-17T09:37:18.923Z"
   },
   {
    "duration": 7,
    "start_time": "2023-02-17T09:41:54.002Z"
   },
   {
    "duration": 5889447,
    "start_time": "2023-02-17T09:42:24.826Z"
   },
   {
    "duration": 230,
    "start_time": "2023-02-17T11:20:34.283Z"
   },
   {
    "duration": 1665,
    "start_time": "2023-02-17T11:45:11.376Z"
   },
   {
    "duration": 6,
    "start_time": "2023-02-17T11:45:30.852Z"
   },
   {
    "duration": 897,
    "start_time": "2023-02-17T11:45:30.860Z"
   },
   {
    "duration": 38,
    "start_time": "2023-02-17T11:45:31.759Z"
   },
   {
    "duration": 6,
    "start_time": "2023-02-17T11:45:31.798Z"
   },
   {
    "duration": 2073,
    "start_time": "2023-02-17T11:45:31.805Z"
   },
   {
    "duration": 76780,
    "start_time": "2023-02-17T11:45:33.880Z"
   },
   {
    "duration": 8,
    "start_time": "2023-02-17T11:46:50.662Z"
   },
   {
    "duration": 82,
    "start_time": "2023-02-17T11:46:50.672Z"
   },
   {
    "duration": 6863,
    "start_time": "2023-02-17T11:46:50.756Z"
   },
   {
    "duration": 654032,
    "start_time": "2023-02-17T11:47:03.257Z"
   },
   {
    "duration": 1623,
    "start_time": "2023-02-17T12:57:40.795Z"
   },
   {
    "duration": 938,
    "start_time": "2023-02-17T12:57:42.420Z"
   },
   {
    "duration": 39,
    "start_time": "2023-02-17T12:57:43.360Z"
   },
   {
    "duration": 5,
    "start_time": "2023-02-17T12:57:43.401Z"
   },
   {
    "duration": 2185,
    "start_time": "2023-02-17T12:57:43.408Z"
   },
   {
    "duration": 74721,
    "start_time": "2023-02-17T12:57:45.594Z"
   },
   {
    "duration": 6,
    "start_time": "2023-02-17T12:59:00.317Z"
   },
   {
    "duration": 71,
    "start_time": "2023-02-17T12:59:00.325Z"
   },
   {
    "duration": 6323,
    "start_time": "2023-02-17T12:59:00.398Z"
   },
   {
    "duration": 1664,
    "start_time": "2023-02-17T13:28:45.979Z"
   },
   {
    "duration": 879,
    "start_time": "2023-02-17T13:28:47.645Z"
   },
   {
    "duration": 32,
    "start_time": "2023-02-17T13:28:48.526Z"
   },
   {
    "duration": 6,
    "start_time": "2023-02-17T13:28:48.560Z"
   },
   {
    "duration": 2100,
    "start_time": "2023-02-17T13:28:48.567Z"
   },
   {
    "duration": 76699,
    "start_time": "2023-02-17T13:28:50.669Z"
   },
   {
    "duration": 7,
    "start_time": "2023-02-17T13:30:07.369Z"
   },
   {
    "duration": 70,
    "start_time": "2023-02-17T13:30:07.378Z"
   },
   {
    "duration": 6166,
    "start_time": "2023-02-17T13:30:07.449Z"
   },
   {
    "duration": 62726,
    "start_time": "2023-02-17T13:30:13.617Z"
   },
   {
    "duration": 220,
    "start_time": "2023-02-17T13:31:16.346Z"
   },
   {
    "duration": 3,
    "start_time": "2023-02-17T13:31:16.568Z"
   },
   {
    "duration": 43,
    "start_time": "2023-02-17T13:31:16.573Z"
   },
   {
    "duration": 510176,
    "start_time": "2023-02-17T13:31:47.255Z"
   },
   {
    "duration": 1663,
    "start_time": "2023-02-17T18:41:57.866Z"
   },
   {
    "duration": 3761,
    "start_time": "2023-02-17T18:42:15.445Z"
   },
   {
    "duration": 869,
    "start_time": "2023-02-17T18:42:27.869Z"
   },
   {
    "duration": 858,
    "start_time": "2023-02-17T18:42:36.608Z"
   },
   {
    "duration": 856,
    "start_time": "2023-02-17T18:43:39.762Z"
   },
   {
    "duration": 847,
    "start_time": "2023-02-17T18:48:11.708Z"
   },
   {
    "duration": 29,
    "start_time": "2023-02-17T19:09:04.638Z"
   },
   {
    "duration": 7,
    "start_time": "2023-02-17T19:09:06.680Z"
   },
   {
    "duration": 2239,
    "start_time": "2023-02-17T19:09:09.690Z"
   },
   {
    "duration": 1620,
    "start_time": "2023-02-18T11:19:35.512Z"
   },
   {
    "duration": 2306,
    "start_time": "2023-02-18T11:19:37.134Z"
   },
   {
    "duration": 26,
    "start_time": "2023-02-18T11:19:39.442Z"
   },
   {
    "duration": 5,
    "start_time": "2023-02-18T11:19:39.470Z"
   },
   {
    "duration": 2105,
    "start_time": "2023-02-18T11:19:39.477Z"
   },
   {
    "duration": 5,
    "start_time": "2023-02-18T11:39:13.765Z"
   },
   {
    "duration": 763,
    "start_time": "2023-02-18T11:39:13.772Z"
   },
   {
    "duration": 25,
    "start_time": "2023-02-18T11:39:14.536Z"
   },
   {
    "duration": 32,
    "start_time": "2023-02-18T11:39:14.563Z"
   },
   {
    "duration": 4316,
    "start_time": "2023-02-18T11:39:25.977Z"
   },
   {
    "duration": 395,
    "start_time": "2023-02-18T11:39:58.887Z"
   },
   {
    "duration": 642,
    "start_time": "2023-02-18T11:40:25.777Z"
   },
   {
    "duration": 2124,
    "start_time": "2023-02-18T11:41:54.724Z"
   },
   {
    "duration": 4,
    "start_time": "2023-02-18T11:51:34.625Z"
   },
   {
    "duration": 431,
    "start_time": "2023-02-18T11:57:46.652Z"
   },
   {
    "duration": 44350,
    "start_time": "2023-02-18T11:58:20.269Z"
   },
   {
    "duration": 20,
    "start_time": "2023-02-18T11:59:33.358Z"
   },
   {
    "duration": 3,
    "start_time": "2023-02-18T11:59:40.911Z"
   },
   {
    "duration": 1664,
    "start_time": "2023-02-18T11:59:41.796Z"
   },
   {
    "duration": 909801,
    "start_time": "2023-02-18T11:59:54.405Z"
   },
   {
    "duration": 6,
    "start_time": "2023-02-18T12:15:13.980Z"
   },
   {
    "duration": 3,
    "start_time": "2023-02-18T12:16:20.223Z"
   },
   {
    "duration": 15,
    "start_time": "2023-02-18T12:23:12.366Z"
   },
   {
    "duration": 16,
    "start_time": "2023-02-18T12:24:28.156Z"
   },
   {
    "duration": 33,
    "start_time": "2023-02-18T12:24:34.235Z"
   },
   {
    "duration": 24,
    "start_time": "2023-02-18T12:24:56.039Z"
   },
   {
    "duration": 3,
    "start_time": "2023-02-18T12:25:07.611Z"
   },
   {
    "duration": 3,
    "start_time": "2023-02-18T12:25:32.450Z"
   },
   {
    "duration": 5,
    "start_time": "2023-02-18T12:25:42.631Z"
   },
   {
    "duration": 5,
    "start_time": "2023-02-18T12:27:59.887Z"
   },
   {
    "duration": 21,
    "start_time": "2023-02-18T12:28:18.470Z"
   },
   {
    "duration": 17,
    "start_time": "2023-02-18T12:29:32.147Z"
   },
   {
    "duration": 3,
    "start_time": "2023-02-18T12:30:06.302Z"
   },
   {
    "duration": 5,
    "start_time": "2023-02-18T12:30:16.098Z"
   },
   {
    "duration": 25,
    "start_time": "2023-02-18T12:30:22.529Z"
   },
   {
    "duration": 18,
    "start_time": "2023-02-18T12:33:01.672Z"
   },
   {
    "duration": 2,
    "start_time": "2023-02-18T12:35:19.968Z"
   },
   {
    "duration": 726,
    "start_time": "2023-02-18T12:38:47.297Z"
   },
   {
    "duration": 19,
    "start_time": "2023-02-18T12:40:31.465Z"
   },
   {
    "duration": 2957,
    "start_time": "2023-02-18T12:40:56.884Z"
   },
   {
    "duration": 99,
    "start_time": "2023-02-18T12:41:28.680Z"
   },
   {
    "duration": 31,
    "start_time": "2023-02-18T12:41:39.636Z"
   },
   {
    "duration": 24191,
    "start_time": "2023-02-18T12:42:30.089Z"
   },
   {
    "duration": 20643,
    "start_time": "2023-02-18T12:44:21.083Z"
   },
   {
    "duration": 20937,
    "start_time": "2023-02-18T12:48:12.702Z"
   },
   {
    "duration": 21966,
    "start_time": "2023-02-18T12:48:40.880Z"
   },
   {
    "duration": 21,
    "start_time": "2023-02-18T12:49:32.522Z"
   },
   {
    "duration": 22946,
    "start_time": "2023-02-18T12:53:03.930Z"
   },
   {
    "duration": 21913,
    "start_time": "2023-02-18T12:53:38.463Z"
   },
   {
    "duration": 24632,
    "start_time": "2023-02-18T12:55:03.042Z"
   },
   {
    "duration": 30995,
    "start_time": "2023-02-18T12:56:02.478Z"
   },
   {
    "duration": 40600,
    "start_time": "2023-02-18T12:57:18.155Z"
   },
   {
    "duration": 46,
    "start_time": "2023-02-18T12:59:25.601Z"
   },
   {
    "duration": 52,
    "start_time": "2023-02-18T12:59:59.809Z"
   },
   {
    "duration": 0,
    "start_time": "2023-02-18T12:59:59.863Z"
   },
   {
    "duration": 0,
    "start_time": "2023-02-18T12:59:59.864Z"
   },
   {
    "duration": 0,
    "start_time": "2023-02-18T12:59:59.865Z"
   },
   {
    "duration": 0,
    "start_time": "2023-02-18T12:59:59.866Z"
   },
   {
    "duration": 0,
    "start_time": "2023-02-18T12:59:59.867Z"
   },
   {
    "duration": 0,
    "start_time": "2023-02-18T12:59:59.868Z"
   },
   {
    "duration": 0,
    "start_time": "2023-02-18T12:59:59.869Z"
   },
   {
    "duration": 0,
    "start_time": "2023-02-18T12:59:59.870Z"
   },
   {
    "duration": 0,
    "start_time": "2023-02-18T12:59:59.871Z"
   },
   {
    "duration": 1344,
    "start_time": "2023-02-18T13:02:51.330Z"
   },
   {
    "duration": 2482,
    "start_time": "2023-02-18T13:02:52.676Z"
   },
   {
    "duration": 38,
    "start_time": "2023-02-18T13:02:55.160Z"
   },
   {
    "duration": 7,
    "start_time": "2023-02-18T13:02:55.200Z"
   },
   {
    "duration": 2938,
    "start_time": "2023-02-18T13:02:55.209Z"
   },
   {
    "duration": 930271,
    "start_time": "2023-02-18T13:02:58.149Z"
   },
   {
    "duration": 7,
    "start_time": "2023-02-18T13:18:28.423Z"
   },
   {
    "duration": 2146,
    "start_time": "2023-02-18T13:18:28.431Z"
   },
   {
    "duration": 1330,
    "start_time": "2023-02-18T13:20:13.690Z"
   },
   {
    "duration": 2480,
    "start_time": "2023-02-18T13:20:15.022Z"
   },
   {
    "duration": 28,
    "start_time": "2023-02-18T13:20:17.503Z"
   },
   {
    "duration": 5,
    "start_time": "2023-02-18T13:20:17.532Z"
   },
   {
    "duration": 2519,
    "start_time": "2023-02-18T13:20:17.539Z"
   },
   {
    "duration": 983505,
    "start_time": "2023-02-18T13:20:20.060Z"
   },
   {
    "duration": 6,
    "start_time": "2023-02-18T13:36:43.570Z"
   },
   {
    "duration": 2235,
    "start_time": "2023-02-18T13:36:43.592Z"
   },
   {
    "duration": 25975,
    "start_time": "2023-02-18T13:36:45.829Z"
   },
   {
    "duration": 5,
    "start_time": "2023-02-18T13:46:50.199Z"
   },
   {
    "duration": 24805,
    "start_time": "2023-02-18T13:54:58.029Z"
   },
   {
    "duration": 24112,
    "start_time": "2023-02-18T13:55:54.560Z"
   },
   {
    "duration": 24541,
    "start_time": "2023-02-18T13:56:32.572Z"
   },
   {
    "duration": 25525,
    "start_time": "2023-02-18T13:57:21.285Z"
   },
   {
    "duration": 58,
    "start_time": "2023-02-18T14:02:28.568Z"
   },
   {
    "duration": 323,
    "start_time": "2023-02-18T14:04:55.875Z"
   },
   {
    "duration": 17,
    "start_time": "2023-02-18T14:05:38.948Z"
   },
   {
    "duration": 153,
    "start_time": "2023-02-18T14:06:07.522Z"
   },
   {
    "duration": 6436,
    "start_time": "2023-02-18T14:06:12.046Z"
   },
   {
    "duration": 6,
    "start_time": "2023-02-18T14:13:06.625Z"
   },
   {
    "duration": 46,
    "start_time": "2023-02-18T14:13:11.862Z"
   },
   {
    "duration": 17,
    "start_time": "2023-02-18T14:13:19.064Z"
   },
   {
    "duration": 268,
    "start_time": "2023-02-18T14:14:28.775Z"
   },
   {
    "duration": 43,
    "start_time": "2023-02-18T14:19:36.816Z"
   },
   {
    "duration": 613,
    "start_time": "2023-02-18T14:20:58.230Z"
   },
   {
    "duration": 855082,
    "start_time": "2023-02-18T14:21:24.161Z"
   },
   {
    "duration": 21693,
    "start_time": "2023-02-18T14:35:39.246Z"
   },
   {
    "duration": 15,
    "start_time": "2023-02-18T14:36:16.229Z"
   },
   {
    "duration": 52,
    "start_time": "2023-02-18T14:37:36.210Z"
   },
   {
    "duration": 8,
    "start_time": "2023-02-18T14:40:16.592Z"
   },
   {
    "duration": 4,
    "start_time": "2023-02-18T14:45:06.163Z"
   },
   {
    "duration": 832,
    "start_time": "2023-02-18T14:45:32.655Z"
   },
   {
    "duration": 3,
    "start_time": "2023-02-18T14:47:31.878Z"
   },
   {
    "duration": 448188,
    "start_time": "2023-02-18T14:47:34.750Z"
   },
   {
    "duration": 0,
    "start_time": "2023-02-18T14:55:02.941Z"
   },
   {
    "duration": 3,
    "start_time": "2023-02-18T14:55:05.149Z"
   },
   {
    "duration": 19,
    "start_time": "2023-02-18T14:55:29.941Z"
   },
   {
    "duration": 9,
    "start_time": "2023-02-18T14:57:16.671Z"
   },
   {
    "duration": 4,
    "start_time": "2023-02-18T14:57:33.960Z"
   },
   {
    "duration": 41,
    "start_time": "2023-02-18T14:57:38.057Z"
   },
   {
    "duration": 5,
    "start_time": "2023-02-18T14:57:48.708Z"
   },
   {
    "duration": 452554,
    "start_time": "2023-02-18T14:57:49.696Z"
   },
   {
    "duration": 5,
    "start_time": "2023-02-18T15:10:31.434Z"
   },
   {
    "duration": 19,
    "start_time": "2023-02-18T15:10:49.200Z"
   },
   {
    "duration": 4,
    "start_time": "2023-02-18T15:16:08.632Z"
   },
   {
    "duration": 398011,
    "start_time": "2023-02-18T15:16:35.451Z"
   },
   {
    "duration": 58098,
    "start_time": "2023-02-18T15:24:32.380Z"
   },
   {
    "duration": 563948,
    "start_time": "2023-02-18T15:25:31.780Z"
   },
   {
    "duration": 38257,
    "start_time": "2023-02-18T15:36:44.185Z"
   },
   {
    "duration": 943709,
    "start_time": "2023-02-18T15:37:55.455Z"
   },
   {
    "duration": 130629,
    "start_time": "2023-02-18T15:57:58.182Z"
   },
   {
    "duration": 42076,
    "start_time": "2023-02-18T16:00:10.468Z"
   },
   {
    "duration": 457128,
    "start_time": "2023-02-18T16:01:16.851Z"
   },
   {
    "duration": 350598,
    "start_time": "2023-02-18T16:10:59.860Z"
   },
   {
    "duration": 46,
    "start_time": "2023-02-18T16:18:58.767Z"
   },
   {
    "duration": 1401139,
    "start_time": "2023-02-18T16:19:08.574Z"
   },
   {
    "duration": 2,
    "start_time": "2023-02-18T16:42:44.730Z"
   },
   {
    "duration": 3,
    "start_time": "2023-02-18T16:43:55.856Z"
   },
   {
    "duration": 76852,
    "start_time": "2023-02-18T16:44:03.378Z"
   },
   {
    "duration": 16,
    "start_time": "2023-02-18T16:49:18.208Z"
   },
   {
    "duration": 5,
    "start_time": "2023-02-18T16:52:33.433Z"
   }
  ],
  "kernelspec": {
   "display_name": "Python 3 (ipykernel)",
   "language": "python",
   "name": "python3"
  },
  "language_info": {
   "codemirror_mode": {
    "name": "ipython",
    "version": 3
   },
   "file_extension": ".py",
   "mimetype": "text/x-python",
   "name": "python",
   "nbconvert_exporter": "python",
   "pygments_lexer": "ipython3",
   "version": "3.9.13"
  },
  "toc": {
   "base_numbering": 1,
   "nav_menu": {},
   "number_sections": true,
   "sideBar": true,
   "skip_h1_title": true,
   "title_cell": "Содержание",
   "title_sidebar": "Contents",
   "toc_cell": true,
   "toc_position": {
    "height": "calc(100% - 180px)",
    "left": "10px",
    "top": "150px",
    "width": "302.391px"
   },
   "toc_section_display": true,
   "toc_window_display": false
  }
 },
 "nbformat": 4,
 "nbformat_minor": 2
}
