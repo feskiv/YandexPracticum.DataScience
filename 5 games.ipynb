{
 "cells": [
  {
   "cell_type": "markdown",
   "metadata": {},
   "source": [
    "# Исследование игровых платформ\n",
    "\n",
    "**Описание проекта**\n",
    "\n",
    "Интернет-магазин «Стримчик» продаёт по всему миру компьютерные игры. Из открытых источников доступны исторические данные о продажах игр, оценки пользователей и экспертов, жанры и платформы (например, Xbox или PlayStation). Необходимо выявить определяющие успешность игры закономерности. Это позволит сделать ставку на потенциально популярный продукт и спланировать рекламные кампании.\n",
    "\n",
    "###  Изучение общей информации"
   ]
  },
  {
   "cell_type": "code",
   "execution_count": 83,
   "metadata": {},
   "outputs": [],
   "source": [
    "import pandas as pd\n",
    "import numpy as np\n",
    "import seaborn as sns\n",
    "import matplotlib.pyplot as plt\n",
    "import matplotlib.ticker \n",
    "from scipy import stats as st"
   ]
  },
  {
   "cell_type": "code",
   "execution_count": 84,
   "metadata": {
    "scrolled": true
   },
   "outputs": [
    {
     "data": {
      "text/html": [
       "<div>\n",
       "<style scoped>\n",
       "    .dataframe tbody tr th:only-of-type {\n",
       "        vertical-align: middle;\n",
       "    }\n",
       "\n",
       "    .dataframe tbody tr th {\n",
       "        vertical-align: top;\n",
       "    }\n",
       "\n",
       "    .dataframe thead th {\n",
       "        text-align: right;\n",
       "    }\n",
       "</style>\n",
       "<table border=\"1\" class=\"dataframe\">\n",
       "  <thead>\n",
       "    <tr style=\"text-align: right;\">\n",
       "      <th></th>\n",
       "      <th>Name</th>\n",
       "      <th>Platform</th>\n",
       "      <th>Year_of_Release</th>\n",
       "      <th>Genre</th>\n",
       "      <th>NA_sales</th>\n",
       "      <th>EU_sales</th>\n",
       "      <th>JP_sales</th>\n",
       "      <th>Other_sales</th>\n",
       "      <th>Critic_Score</th>\n",
       "      <th>User_Score</th>\n",
       "      <th>Rating</th>\n",
       "    </tr>\n",
       "  </thead>\n",
       "  <tbody>\n",
       "    <tr>\n",
       "      <th>0</th>\n",
       "      <td>Wii Sports</td>\n",
       "      <td>Wii</td>\n",
       "      <td>2006.0</td>\n",
       "      <td>Sports</td>\n",
       "      <td>41.36</td>\n",
       "      <td>28.96</td>\n",
       "      <td>3.77</td>\n",
       "      <td>8.45</td>\n",
       "      <td>76.0</td>\n",
       "      <td>8</td>\n",
       "      <td>E</td>\n",
       "    </tr>\n",
       "    <tr>\n",
       "      <th>1</th>\n",
       "      <td>Super Mario Bros.</td>\n",
       "      <td>NES</td>\n",
       "      <td>1985.0</td>\n",
       "      <td>Platform</td>\n",
       "      <td>29.08</td>\n",
       "      <td>3.58</td>\n",
       "      <td>6.81</td>\n",
       "      <td>0.77</td>\n",
       "      <td>NaN</td>\n",
       "      <td>NaN</td>\n",
       "      <td>NaN</td>\n",
       "    </tr>\n",
       "    <tr>\n",
       "      <th>2</th>\n",
       "      <td>Mario Kart Wii</td>\n",
       "      <td>Wii</td>\n",
       "      <td>2008.0</td>\n",
       "      <td>Racing</td>\n",
       "      <td>15.68</td>\n",
       "      <td>12.76</td>\n",
       "      <td>3.79</td>\n",
       "      <td>3.29</td>\n",
       "      <td>82.0</td>\n",
       "      <td>8.3</td>\n",
       "      <td>E</td>\n",
       "    </tr>\n",
       "    <tr>\n",
       "      <th>3</th>\n",
       "      <td>Wii Sports Resort</td>\n",
       "      <td>Wii</td>\n",
       "      <td>2009.0</td>\n",
       "      <td>Sports</td>\n",
       "      <td>15.61</td>\n",
       "      <td>10.93</td>\n",
       "      <td>3.28</td>\n",
       "      <td>2.95</td>\n",
       "      <td>80.0</td>\n",
       "      <td>8</td>\n",
       "      <td>E</td>\n",
       "    </tr>\n",
       "    <tr>\n",
       "      <th>4</th>\n",
       "      <td>Pokemon Red/Pokemon Blue</td>\n",
       "      <td>GB</td>\n",
       "      <td>1996.0</td>\n",
       "      <td>Role-Playing</td>\n",
       "      <td>11.27</td>\n",
       "      <td>8.89</td>\n",
       "      <td>10.22</td>\n",
       "      <td>1.00</td>\n",
       "      <td>NaN</td>\n",
       "      <td>NaN</td>\n",
       "      <td>NaN</td>\n",
       "    </tr>\n",
       "  </tbody>\n",
       "</table>\n",
       "</div>"
      ],
      "text/plain": [
       "                       Name Platform  Year_of_Release         Genre  NA_sales  \\\n",
       "0                Wii Sports      Wii           2006.0        Sports     41.36   \n",
       "1         Super Mario Bros.      NES           1985.0      Platform     29.08   \n",
       "2            Mario Kart Wii      Wii           2008.0        Racing     15.68   \n",
       "3         Wii Sports Resort      Wii           2009.0        Sports     15.61   \n",
       "4  Pokemon Red/Pokemon Blue       GB           1996.0  Role-Playing     11.27   \n",
       "\n",
       "   EU_sales  JP_sales  Other_sales  Critic_Score User_Score Rating  \n",
       "0     28.96      3.77         8.45          76.0          8      E  \n",
       "1      3.58      6.81         0.77           NaN        NaN    NaN  \n",
       "2     12.76      3.79         3.29          82.0        8.3      E  \n",
       "3     10.93      3.28         2.95          80.0          8      E  \n",
       "4      8.89     10.22         1.00           NaN        NaN    NaN  "
      ]
     },
     "execution_count": 84,
     "metadata": {},
     "output_type": "execute_result"
    }
   ],
   "source": [
    "data = pd.read_csv('/datasets/games.csv')\n",
    "data.head()"
   ]
  },
  {
   "cell_type": "code",
   "execution_count": 85,
   "metadata": {},
   "outputs": [
    {
     "name": "stdout",
     "output_type": "stream",
     "text": [
      "<class 'pandas.core.frame.DataFrame'>\n",
      "RangeIndex: 16715 entries, 0 to 16714\n",
      "Data columns (total 11 columns):\n",
      " #   Column           Non-Null Count  Dtype  \n",
      "---  ------           --------------  -----  \n",
      " 0   Name             16713 non-null  object \n",
      " 1   Platform         16715 non-null  object \n",
      " 2   Year_of_Release  16446 non-null  float64\n",
      " 3   Genre            16713 non-null  object \n",
      " 4   NA_sales         16715 non-null  float64\n",
      " 5   EU_sales         16715 non-null  float64\n",
      " 6   JP_sales         16715 non-null  float64\n",
      " 7   Other_sales      16715 non-null  float64\n",
      " 8   Critic_Score     8137 non-null   float64\n",
      " 9   User_Score       10014 non-null  object \n",
      " 10  Rating           9949 non-null   object \n",
      "dtypes: float64(6), object(5)\n",
      "memory usage: 1.4+ MB\n"
     ]
    }
   ],
   "source": [
    "data.info()"
   ]
  },
  {
   "cell_type": "markdown",
   "metadata": {},
   "source": [
    "Видим, что в датасете собраны данные по 16715 играм. В некоторых столбцах количество пропусков несущественно, в каких-то - составляет около половины от общего числа наблюдений.\n",
    "\n",
    "Названия столбцов записаны с использованием верхнего регистра, это может быть неудобно для анализа - приведем все к нижнему регистру. Также в некоторых столбцах заменим тип данных."
   ]
  },
  {
   "cell_type": "markdown",
   "metadata": {},
   "source": [
    "###  Предобработка данных \n",
    "####  Замена названий столбцов"
   ]
  },
  {
   "cell_type": "code",
   "execution_count": 86,
   "metadata": {},
   "outputs": [
    {
     "data": {
      "text/plain": [
       "Index(['name', 'platform', 'year_of_release', 'genre', 'na_sales', 'eu_sales',\n",
       "       'jp_sales', 'other_sales', 'critic_score', 'user_score', 'rating'],\n",
       "      dtype='object')"
      ]
     },
     "execution_count": 86,
     "metadata": {},
     "output_type": "execute_result"
    }
   ],
   "source": [
    "data.columns = data.columns.str.lower()\n",
    "data.columns"
   ]
  },
  {
   "cell_type": "markdown",
   "metadata": {},
   "source": [
    "####  Замена типа данных. \n",
    "\n",
    "Заменим тип данных в user_score на числовой, приведем critic_score и year_of_release к целочисленному формату. "
   ]
  },
  {
   "cell_type": "code",
   "execution_count": 87,
   "metadata": {},
   "outputs": [
    {
     "name": "stdout",
     "output_type": "stream",
     "text": [
      "<class 'pandas.core.frame.DataFrame'>\n",
      "RangeIndex: 16715 entries, 0 to 16714\n",
      "Data columns (total 11 columns):\n",
      " #   Column           Non-Null Count  Dtype  \n",
      "---  ------           --------------  -----  \n",
      " 0   name             16713 non-null  object \n",
      " 1   platform         16715 non-null  object \n",
      " 2   year_of_release  16446 non-null  Int64  \n",
      " 3   genre            16713 non-null  object \n",
      " 4   na_sales         16715 non-null  float64\n",
      " 5   eu_sales         16715 non-null  float64\n",
      " 6   jp_sales         16715 non-null  float64\n",
      " 7   other_sales      16715 non-null  float64\n",
      " 8   critic_score     8137 non-null   Int64  \n",
      " 9   user_score       7590 non-null   float64\n",
      " 10  rating           9949 non-null   object \n",
      "dtypes: Int64(2), float64(5), object(4)\n",
      "memory usage: 1.4+ MB\n"
     ]
    }
   ],
   "source": [
    "data['user_score'] = pd.to_numeric(data['user_score'], errors='coerce').astype('float64')\n",
    "data['year_of_release'] = pd.to_numeric(data['year_of_release'], errors='coerce').astype('Int64')\n",
    "data['critic_score'] = pd.to_numeric(data['critic_score'], errors='coerce').astype('Int64')\n",
    "data.info()"
   ]
  },
  {
   "cell_type": "markdown",
   "metadata": {},
   "source": [
    "####  Обработка пропусков\n",
    "Посмотрим в каких столбцах есть пропуски и в каком количестве."
   ]
  },
  {
   "cell_type": "code",
   "execution_count": 88,
   "metadata": {
    "scrolled": true
   },
   "outputs": [
    {
     "name": "stdout",
     "output_type": "stream",
     "text": [
      "name                  2\n",
      "platform              0\n",
      "year_of_release     269\n",
      "genre                 2\n",
      "na_sales              0\n",
      "eu_sales              0\n",
      "jp_sales              0\n",
      "other_sales           0\n",
      "critic_score       8578\n",
      "user_score         9125\n",
      "rating             6766\n",
      "dtype: int64\n"
     ]
    },
    {
     "data": {
      "text/plain": [
       "(16715, 11)"
      ]
     },
     "execution_count": 88,
     "metadata": {},
     "output_type": "execute_result"
    }
   ],
   "source": [
    "print(data.isna().sum())\n",
    "data.shape"
   ]
  },
  {
   "cell_type": "code",
   "execution_count": 89,
   "metadata": {},
   "outputs": [
    {
     "data": {
      "image/png": "[encoded data removed]",
      "text/plain": [
       "<Figure size 1368x432 with 1 Axes>"
      ]
     },
     "metadata": {
      "needs_background": "light"
     },
     "output_type": "display_data"
    }
   ],
   "source": [
    "def pass_value_barh(df):\n",
    "    try:\n",
    "        (\n",
    "            (df.isna().mean()*100)\n",
    "            .to_frame()\n",
    "            .rename(columns = {0:'space'})\n",
    "            .query('space > 0')\n",
    "            .sort_values(by = 'space', ascending = True)\n",
    "            .plot(kind= 'barh', figsize=(19,6), rot = -5, legend = False, fontsize = 16)\n",
    "                \n",
    "        );    \n",
    "    except:\n",
    "        print('пропусков не осталось :) ')\n",
    "        \n",
    "pass_value_barh(data)"
   ]
  },
  {
   "cell_type": "markdown",
   "metadata": {},
   "source": [
    "**Название и жанр**\n",
    "\n",
    "В столбцах с названием и жанром по 2 пропуска. Проверим, одни и те же ли это строки. "
   ]
  },
  {
   "cell_type": "code",
   "execution_count": 90,
   "metadata": {
    "scrolled": true
   },
   "outputs": [
    {
     "data": {
      "text/html": [
       "<div>\n",
       "<style scoped>\n",
       "    .dataframe tbody tr th:only-of-type {\n",
       "        vertical-align: middle;\n",
       "    }\n",
       "\n",
       "    .dataframe tbody tr th {\n",
       "        vertical-align: top;\n",
       "    }\n",
       "\n",
       "    .dataframe thead th {\n",
       "        text-align: right;\n",
       "    }\n",
       "</style>\n",
       "<table border=\"1\" class=\"dataframe\">\n",
       "  <thead>\n",
       "    <tr style=\"text-align: right;\">\n",
       "      <th></th>\n",
       "      <th>name</th>\n",
       "      <th>platform</th>\n",
       "      <th>year_of_release</th>\n",
       "      <th>genre</th>\n",
       "      <th>na_sales</th>\n",
       "      <th>eu_sales</th>\n",
       "      <th>jp_sales</th>\n",
       "      <th>other_sales</th>\n",
       "      <th>critic_score</th>\n",
       "      <th>user_score</th>\n",
       "      <th>rating</th>\n",
       "    </tr>\n",
       "  </thead>\n",
       "  <tbody>\n",
       "    <tr>\n",
       "      <th>659</th>\n",
       "      <td>NaN</td>\n",
       "      <td>GEN</td>\n",
       "      <td>1993</td>\n",
       "      <td>NaN</td>\n",
       "      <td>1.78</td>\n",
       "      <td>0.53</td>\n",
       "      <td>0.00</td>\n",
       "      <td>0.08</td>\n",
       "      <td>&lt;NA&gt;</td>\n",
       "      <td>NaN</td>\n",
       "      <td>NaN</td>\n",
       "    </tr>\n",
       "    <tr>\n",
       "      <th>14244</th>\n",
       "      <td>NaN</td>\n",
       "      <td>GEN</td>\n",
       "      <td>1993</td>\n",
       "      <td>NaN</td>\n",
       "      <td>0.00</td>\n",
       "      <td>0.00</td>\n",
       "      <td>0.03</td>\n",
       "      <td>0.00</td>\n",
       "      <td>&lt;NA&gt;</td>\n",
       "      <td>NaN</td>\n",
       "      <td>NaN</td>\n",
       "    </tr>\n",
       "  </tbody>\n",
       "</table>\n",
       "</div>"
      ],
      "text/plain": [
       "      name platform  year_of_release genre  na_sales  eu_sales  jp_sales  \\\n",
       "659    NaN      GEN             1993   NaN      1.78      0.53      0.00   \n",
       "14244  NaN      GEN             1993   NaN      0.00      0.00      0.03   \n",
       "\n",
       "       other_sales  critic_score  user_score rating  \n",
       "659           0.08          <NA>         NaN    NaN  \n",
       "14244         0.00          <NA>         NaN    NaN  "
      ]
     },
     "execution_count": 90,
     "metadata": {},
     "output_type": "execute_result"
    }
   ],
   "source": [
    "data.query('name.isna() and genre.isna()')"
   ]
  },
  {
   "cell_type": "markdown",
   "metadata": {},
   "source": [
    "Данные отсутствуют в одних и тех же сроках. Заполнить их на основании других данных не получится, поэтому просто удалим."
   ]
  },
  {
   "cell_type": "code",
   "execution_count": 91,
   "metadata": {
    "scrolled": true
   },
   "outputs": [
    {
     "name": "stdout",
     "output_type": "stream",
     "text": [
      "0\n"
     ]
    },
    {
     "data": {
      "text/plain": [
       "0"
      ]
     },
     "execution_count": 91,
     "metadata": {},
     "output_type": "execute_result"
    }
   ],
   "source": [
    "data = data.dropna(subset=['name'])\n",
    "print(data['name'].isna().sum())\n",
    "data['genre'].isna().sum()"
   ]
  },
  {
   "cell_type": "markdown",
   "metadata": {},
   "source": [
    "**Год выпуска**\n",
    "\n",
    "Заполнять пропуски данными по той же игре на других платформах было бы не совсем корректно, тк игра могла быть переиздана или представлена в разное время на разных платформах. Количество пропусков равно 1,6%, поэтому тоже их удалим."
   ]
  },
  {
   "cell_type": "code",
   "execution_count": 92,
   "metadata": {},
   "outputs": [
    {
     "data": {
      "text/plain": [
       "0"
      ]
     },
     "execution_count": 92,
     "metadata": {},
     "output_type": "execute_result"
    }
   ],
   "source": [
    "data = data.dropna(subset=['year_of_release'])\n",
    "data['year_of_release'] = pd.to_numeric(data['year_of_release'], errors='coerce')\n",
    "data['year_of_release'].isna().sum()"
   ]
  },
  {
   "cell_type": "markdown",
   "metadata": {},
   "source": [
    "**Рейтинг**\n",
    "\n",
    "Посчитаем уникальные значения столбца."
   ]
  },
  {
   "cell_type": "code",
   "execution_count": 93,
   "metadata": {},
   "outputs": [
    {
     "data": {
      "text/plain": [
       "NaN     6676\n",
       "E       3921\n",
       "T       2905\n",
       "M       1536\n",
       "E10+    1393\n",
       "EC         8\n",
       "K-A        3\n",
       "AO         1\n",
       "RP         1\n",
       "Name: rating, dtype: int64"
      ]
     },
     "execution_count": 93,
     "metadata": {},
     "output_type": "execute_result"
    }
   ],
   "source": [
    "data['rating'].value_counts(dropna=False)"
   ]
  },
  {
   "cell_type": "markdown",
   "metadata": {},
   "source": [
    "K-A является устаревшим обозначением рейтинга Е - заменим его.\n",
    "\n",
    "Пропуски могут быть связаны с тем, что во времена выхода некоторых игр не было таких требований. Либо эти игры могли не продаваться в Америке, а рейтинговое агентство - американское.\n",
    "\n",
    "Заполнять пропуски, исходя из рейтинга игры на других платформах не совсем корректно, тк он может отличаться. Заменять их на рейтинг RP (\"рейтинг ожидается\") тоже было бы неправильным, тк он используется только на рекламных презентациях и в демо-версиях игр до офицальной даты выпуска в продажу. Поэтому пропуски заполним заглушкой NA."
   ]
  },
  {
   "cell_type": "code",
   "execution_count": 94,
   "metadata": {},
   "outputs": [
    {
     "name": "stdout",
     "output_type": "stream",
     "text": [
      "0\n"
     ]
    },
    {
     "data": {
      "text/plain": [
       "NA      6676\n",
       "E       3924\n",
       "T       2905\n",
       "M       1536\n",
       "E10+    1393\n",
       "EC         8\n",
       "AO         1\n",
       "RP         1\n",
       "Name: rating, dtype: int64"
      ]
     },
     "execution_count": 94,
     "metadata": {},
     "output_type": "execute_result"
    }
   ],
   "source": [
    "data.loc[data['rating']=='K-A', 'rating'] = 'E'\n",
    "data.loc[data['rating'].isna(), 'rating'] = 'NA'\n",
    "print(data['rating'].isna().sum())\n",
    "data['rating'].value_counts(dropna=False)"
   ]
  },
  {
   "cell_type": "markdown",
   "metadata": {},
   "source": [
    "**Оценки**\n",
    "\n",
    "Значения tbd (подлежит уточнению) в столбце с оценкой пользователей заменим на nan, тк оценка не определена.\n",
    "\n",
    "Остальные пропуски заполнять не будем. Корректно сделать это не получится, поскольку оценка и так представляет собой среднее всех оценок пользователей/критиков. На разных платформах оценки одной игры также могут различаться."
   ]
  },
  {
   "cell_type": "code",
   "execution_count": 95,
   "metadata": {},
   "outputs": [
    {
     "data": {
      "text/plain": [
       "8981"
      ]
     },
     "execution_count": 95,
     "metadata": {},
     "output_type": "execute_result"
    }
   ],
   "source": [
    "data.loc[data['user_score'] == 'tbd', 'user_score'] = np.nan\n",
    "data['user_score'].isna().sum()"
   ]
  },
  {
   "cell_type": "markdown",
   "metadata": {},
   "source": [
    "#### Суммарные продажи\n",
    "\n",
    "Посчитаем суммарные продажи во всех регионах и запишем их в отдельный столбец."
   ]
  },
  {
   "cell_type": "code",
   "execution_count": 96,
   "metadata": {
    "scrolled": true
   },
   "outputs": [
    {
     "data": {
      "text/html": [
       "<div>\n",
       "<style scoped>\n",
       "    .dataframe tbody tr th:only-of-type {\n",
       "        vertical-align: middle;\n",
       "    }\n",
       "\n",
       "    .dataframe tbody tr th {\n",
       "        vertical-align: top;\n",
       "    }\n",
       "\n",
       "    .dataframe thead th {\n",
       "        text-align: right;\n",
       "    }\n",
       "</style>\n",
       "<table border=\"1\" class=\"dataframe\">\n",
       "  <thead>\n",
       "    <tr style=\"text-align: right;\">\n",
       "      <th></th>\n",
       "      <th>name</th>\n",
       "      <th>platform</th>\n",
       "      <th>year_of_release</th>\n",
       "      <th>genre</th>\n",
       "      <th>na_sales</th>\n",
       "      <th>eu_sales</th>\n",
       "      <th>jp_sales</th>\n",
       "      <th>other_sales</th>\n",
       "      <th>critic_score</th>\n",
       "      <th>user_score</th>\n",
       "      <th>rating</th>\n",
       "      <th>total_sales</th>\n",
       "    </tr>\n",
       "  </thead>\n",
       "  <tbody>\n",
       "    <tr>\n",
       "      <th>0</th>\n",
       "      <td>Wii Sports</td>\n",
       "      <td>Wii</td>\n",
       "      <td>2006</td>\n",
       "      <td>Sports</td>\n",
       "      <td>41.36</td>\n",
       "      <td>28.96</td>\n",
       "      <td>3.77</td>\n",
       "      <td>8.45</td>\n",
       "      <td>76</td>\n",
       "      <td>8.0</td>\n",
       "      <td>E</td>\n",
       "      <td>82.54</td>\n",
       "    </tr>\n",
       "    <tr>\n",
       "      <th>1</th>\n",
       "      <td>Super Mario Bros.</td>\n",
       "      <td>NES</td>\n",
       "      <td>1985</td>\n",
       "      <td>Platform</td>\n",
       "      <td>29.08</td>\n",
       "      <td>3.58</td>\n",
       "      <td>6.81</td>\n",
       "      <td>0.77</td>\n",
       "      <td>&lt;NA&gt;</td>\n",
       "      <td>NaN</td>\n",
       "      <td>NA</td>\n",
       "      <td>40.24</td>\n",
       "    </tr>\n",
       "    <tr>\n",
       "      <th>2</th>\n",
       "      <td>Mario Kart Wii</td>\n",
       "      <td>Wii</td>\n",
       "      <td>2008</td>\n",
       "      <td>Racing</td>\n",
       "      <td>15.68</td>\n",
       "      <td>12.76</td>\n",
       "      <td>3.79</td>\n",
       "      <td>3.29</td>\n",
       "      <td>82</td>\n",
       "      <td>8.3</td>\n",
       "      <td>E</td>\n",
       "      <td>35.52</td>\n",
       "    </tr>\n",
       "    <tr>\n",
       "      <th>3</th>\n",
       "      <td>Wii Sports Resort</td>\n",
       "      <td>Wii</td>\n",
       "      <td>2009</td>\n",
       "      <td>Sports</td>\n",
       "      <td>15.61</td>\n",
       "      <td>10.93</td>\n",
       "      <td>3.28</td>\n",
       "      <td>2.95</td>\n",
       "      <td>80</td>\n",
       "      <td>8.0</td>\n",
       "      <td>E</td>\n",
       "      <td>32.77</td>\n",
       "    </tr>\n",
       "    <tr>\n",
       "      <th>4</th>\n",
       "      <td>Pokemon Red/Pokemon Blue</td>\n",
       "      <td>GB</td>\n",
       "      <td>1996</td>\n",
       "      <td>Role-Playing</td>\n",
       "      <td>11.27</td>\n",
       "      <td>8.89</td>\n",
       "      <td>10.22</td>\n",
       "      <td>1.00</td>\n",
       "      <td>&lt;NA&gt;</td>\n",
       "      <td>NaN</td>\n",
       "      <td>NA</td>\n",
       "      <td>31.38</td>\n",
       "    </tr>\n",
       "  </tbody>\n",
       "</table>\n",
       "</div>"
      ],
      "text/plain": [
       "                       name platform  year_of_release         genre  na_sales  \\\n",
       "0                Wii Sports      Wii             2006        Sports     41.36   \n",
       "1         Super Mario Bros.      NES             1985      Platform     29.08   \n",
       "2            Mario Kart Wii      Wii             2008        Racing     15.68   \n",
       "3         Wii Sports Resort      Wii             2009        Sports     15.61   \n",
       "4  Pokemon Red/Pokemon Blue       GB             1996  Role-Playing     11.27   \n",
       "\n",
       "   eu_sales  jp_sales  other_sales  critic_score  user_score rating  \\\n",
       "0     28.96      3.77         8.45            76         8.0      E   \n",
       "1      3.58      6.81         0.77          <NA>         NaN     NA   \n",
       "2     12.76      3.79         3.29            82         8.3      E   \n",
       "3     10.93      3.28         2.95            80         8.0      E   \n",
       "4      8.89     10.22         1.00          <NA>         NaN     NA   \n",
       "\n",
       "   total_sales  \n",
       "0        82.54  \n",
       "1        40.24  \n",
       "2        35.52  \n",
       "3        32.77  \n",
       "4        31.38  "
      ]
     },
     "execution_count": 96,
     "metadata": {},
     "output_type": "execute_result"
    }
   ],
   "source": [
    "data['total_sales'] = data['na_sales'] + data['eu_sales'] + data['jp_sales'] + data['other_sales']\n",
    "data.head()"
   ]
  },
  {
   "cell_type": "code",
   "execution_count": 97,
   "metadata": {
    "scrolled": true
   },
   "outputs": [
    {
     "data": {
      "text/plain": [
       "(16444, 12)"
      ]
     },
     "execution_count": 97,
     "metadata": {},
     "output_type": "execute_result"
    }
   ],
   "source": [
    "data.shape"
   ]
  },
  {
   "cell_type": "markdown",
   "metadata": {},
   "source": [
    "#### Дубликаты\n",
    "\n",
    "Проверим, есть ли явные и скрытые дубликаты в столбцах с названием, платформой и жанром. Для этого приведем все данные к нижнему регистру и выведем уникальные значения по столбцам."
   ]
  },
  {
   "cell_type": "code",
   "execution_count": 98,
   "metadata": {
    "scrolled": true
   },
   "outputs": [
    {
     "name": "stdout",
     "output_type": "stream",
     "text": [
      "0\n"
     ]
    }
   ],
   "source": [
    "print(data.duplicated().sum())"
   ]
  },
  {
   "cell_type": "code",
   "execution_count": 99,
   "metadata": {
    "scrolled": false
   },
   "outputs": [
    {
     "name": "stdout",
     "output_type": "stream",
     "text": [
      "Уникальные значения столбца name\n",
      "['wii sports' 'super mario bros.' 'mario kart wii' ...\n",
      " 'woody woodpecker in crazy castle 5' 'lma manager 2007'\n",
      " 'haitaka no psychedelica']\n",
      "\n",
      "Уникальные значения столбца platform\n",
      "['wii' 'nes' 'gb' 'ds' 'x360' 'ps3' 'ps2' 'snes' 'gba' 'ps4' '3ds' 'n64'\n",
      " 'ps' 'xb' 'pc' '2600' 'psp' 'xone' 'wiiu' 'gc' 'gen' 'dc' 'psv' 'sat'\n",
      " 'scd' 'ws' 'ng' 'tg16' '3do' 'gg' 'pcfx']\n",
      "\n",
      "Уникальные значения столбца genre\n",
      "['sports' 'platform' 'racing' 'role-playing' 'puzzle' 'misc' 'shooter'\n",
      " 'simulation' 'action' 'fighting' 'adventure' 'strategy']\n",
      "\n"
     ]
    }
   ],
   "source": [
    "column = ['name', 'platform', 'genre']\n",
    "\n",
    "for i in column:\n",
    "    data[i] = data[i].str.lower()\n",
    "    print('Уникальные значения столбца', i)\n",
    "    print(data[i].unique())\n",
    "    print()"
   ]
  },
  {
   "cell_type": "markdown",
   "metadata": {},
   "source": [
    "Явных дубликатов нет. скрытых тоже. Нельзя оценить полную картину по столбцу с названиями, но даже если там и неявные дубликаты из-за опечаток и тд, то на результаты это особо не повлияет."
   ]
  },
  {
   "cell_type": "markdown",
   "metadata": {},
   "source": [
    "### Исследовательский анализ данных\n",
    "#### Количество игр в разные годы\n",
    "\n",
    "Посмотрим, сколько игр выпускалось в разные годы."
   ]
  },
  {
   "cell_type": "code",
   "execution_count": 100,
   "metadata": {},
   "outputs": [
    {
     "data": {
      "image/png": "[encoded data removed]",
      "text/plain": [
       "<Figure size 432x288 with 1 Axes>"
      ]
     },
     "metadata": {
      "needs_background": "light"
     },
     "output_type": "display_data"
    }
   ],
   "source": [
    "data.pivot_table(index='year_of_release', values='name', aggfunc='count').plot(kind='bar');"
   ]
  },
  {
   "cell_type": "markdown",
   "metadata": {},
   "source": [
    "Данные по всем периодам не важны, до 1995 года количество выпускаемых игр крайне мало. \n",
    "\n",
    "Видим пик в 2008-2009 гг. и резкое падение выпуска после 2010 года. Это может быть связано с возросшим интересом к онлайн играм, либо переход на систему подписок."
   ]
  },
  {
   "cell_type": "markdown",
   "metadata": {},
   "source": [
    "#### Продажи по платформам\n",
    "\n",
    "Выберем платформы с наибольшими суммарными продажами и построим распределение по годам. Определим, за какой характерный срок появляются новые и исчезают старые платформы."
   ]
  },
  {
   "cell_type": "code",
   "execution_count": 101,
   "metadata": {
    "scrolled": true
   },
   "outputs": [
    {
     "data": {
      "text/html": [
       "<div>\n",
       "<style scoped>\n",
       "    .dataframe tbody tr th:only-of-type {\n",
       "        vertical-align: middle;\n",
       "    }\n",
       "\n",
       "    .dataframe tbody tr th {\n",
       "        vertical-align: top;\n",
       "    }\n",
       "\n",
       "    .dataframe thead th {\n",
       "        text-align: right;\n",
       "    }\n",
       "</style>\n",
       "<table border=\"1\" class=\"dataframe\">\n",
       "  <thead>\n",
       "    <tr style=\"text-align: right;\">\n",
       "      <th></th>\n",
       "      <th>platform</th>\n",
       "      <th>total_sales</th>\n",
       "    </tr>\n",
       "  </thead>\n",
       "  <tbody>\n",
       "    <tr>\n",
       "      <th>0</th>\n",
       "      <td>ps2</td>\n",
       "      <td>1233.56</td>\n",
       "    </tr>\n",
       "    <tr>\n",
       "      <th>1</th>\n",
       "      <td>x360</td>\n",
       "      <td>961.24</td>\n",
       "    </tr>\n",
       "    <tr>\n",
       "      <th>2</th>\n",
       "      <td>ps3</td>\n",
       "      <td>931.34</td>\n",
       "    </tr>\n",
       "    <tr>\n",
       "      <th>3</th>\n",
       "      <td>wii</td>\n",
       "      <td>891.18</td>\n",
       "    </tr>\n",
       "    <tr>\n",
       "      <th>4</th>\n",
       "      <td>ds</td>\n",
       "      <td>802.78</td>\n",
       "    </tr>\n",
       "    <tr>\n",
       "      <th>5</th>\n",
       "      <td>ps</td>\n",
       "      <td>727.58</td>\n",
       "    </tr>\n",
       "    <tr>\n",
       "      <th>6</th>\n",
       "      <td>ps4</td>\n",
       "      <td>314.14</td>\n",
       "    </tr>\n",
       "    <tr>\n",
       "      <th>7</th>\n",
       "      <td>gba</td>\n",
       "      <td>312.88</td>\n",
       "    </tr>\n",
       "    <tr>\n",
       "      <th>8</th>\n",
       "      <td>psp</td>\n",
       "      <td>289.53</td>\n",
       "    </tr>\n",
       "    <tr>\n",
       "      <th>9</th>\n",
       "      <td>3ds</td>\n",
       "      <td>257.81</td>\n",
       "    </tr>\n",
       "  </tbody>\n",
       "</table>\n",
       "</div>"
      ],
      "text/plain": [
       "  platform  total_sales\n",
       "0      ps2      1233.56\n",
       "1     x360       961.24\n",
       "2      ps3       931.34\n",
       "3      wii       891.18\n",
       "4       ds       802.78\n",
       "5       ps       727.58\n",
       "6      ps4       314.14\n",
       "7      gba       312.88\n",
       "8      psp       289.53\n",
       "9      3ds       257.81"
      ]
     },
     "execution_count": 101,
     "metadata": {},
     "output_type": "execute_result"
    }
   ],
   "source": [
    "max_sales = data.pivot_table(index='platform', values='total_sales', \n",
    "                        aggfunc='sum').sort_values(by='total_sales', ascending=False).reset_index().head(10)\n",
    "max_sales"
   ]
  },
  {
   "cell_type": "code",
   "execution_count": 102,
   "metadata": {},
   "outputs": [
    {
     "data": {
      "text/html": [
       "<div>\n",
       "<style scoped>\n",
       "    .dataframe tbody tr th:only-of-type {\n",
       "        vertical-align: middle;\n",
       "    }\n",
       "\n",
       "    .dataframe tbody tr th {\n",
       "        vertical-align: top;\n",
       "    }\n",
       "\n",
       "    .dataframe thead th {\n",
       "        text-align: right;\n",
       "    }\n",
       "</style>\n",
       "<table border=\"1\" class=\"dataframe\">\n",
       "  <thead>\n",
       "    <tr style=\"text-align: right;\">\n",
       "      <th></th>\n",
       "      <th>platform</th>\n",
       "      <th>year_of_release</th>\n",
       "      <th>total_sales</th>\n",
       "    </tr>\n",
       "  </thead>\n",
       "  <tbody>\n",
       "    <tr>\n",
       "      <th>39</th>\n",
       "      <td>ps2</td>\n",
       "      <td>2004</td>\n",
       "      <td>211.81</td>\n",
       "    </tr>\n",
       "    <tr>\n",
       "      <th>77</th>\n",
       "      <td>wii</td>\n",
       "      <td>2009</td>\n",
       "      <td>206.97</td>\n",
       "    </tr>\n",
       "    <tr>\n",
       "      <th>37</th>\n",
       "      <td>ps2</td>\n",
       "      <td>2002</td>\n",
       "      <td>205.38</td>\n",
       "    </tr>\n",
       "    <tr>\n",
       "      <th>38</th>\n",
       "      <td>ps2</td>\n",
       "      <td>2003</td>\n",
       "      <td>184.31</td>\n",
       "    </tr>\n",
       "    <tr>\n",
       "      <th>76</th>\n",
       "      <td>wii</td>\n",
       "      <td>2008</td>\n",
       "      <td>171.32</td>\n",
       "    </tr>\n",
       "  </tbody>\n",
       "</table>\n",
       "</div>"
      ],
      "text/plain": [
       "   platform  year_of_release  total_sales\n",
       "39      ps2             2004       211.81\n",
       "77      wii             2009       206.97\n",
       "37      ps2             2002       205.38\n",
       "38      ps2             2003       184.31\n",
       "76      wii             2008       171.32"
      ]
     },
     "execution_count": 102,
     "metadata": {},
     "output_type": "execute_result"
    }
   ],
   "source": [
    "pivot_platform = data.loc[data['platform'].isin(max_sales['platform'])].pivot_table(index=['platform','year_of_release'], \n",
    "values='total_sales', aggfunc='sum').reset_index().sort_values('total_sales', ascending=False)\n",
    "pivot_platform.head(5)"
   ]
  },
  {
   "cell_type": "code",
   "execution_count": 103,
   "metadata": {
    "scrolled": false
   },
   "outputs": [
    {
     "data": {
      "image/png": "[encoded data removed]",
      "text/plain": [
       "<Figure size 1224x360 with 1 Axes>"
      ]
     },
     "metadata": {
      "needs_background": "light"
     },
     "output_type": "display_data"
    }
   ],
   "source": [
    "plt.figure(figsize=(17,5))\n",
    "for i in pivot_platform['platform'].unique():\n",
    "    sns.lineplot(data = pivot_platform.loc[pivot_platform['platform'] == i], \n",
    "                 x = 'year_of_release', y = 'total_sales', label=i)\n",
    "    plt.legend()"
   ]
  },
  {
   "cell_type": "markdown",
   "metadata": {},
   "source": [
    "По продажам лидирует платформа ps2, несмотря на то, что уже неактуальна. Видим, что жизненный цикл многих из топ-платформ уже завершен или близится к завершению.\n",
    "\n",
    "Определим, за какой характерный срок появляются новые и исчезают старые платформы."
   ]
  },
  {
   "cell_type": "code",
   "execution_count": 104,
   "metadata": {},
   "outputs": [
    {
     "data": {
      "text/html": [
       "<div>\n",
       "<style scoped>\n",
       "    .dataframe tbody tr th:only-of-type {\n",
       "        vertical-align: middle;\n",
       "    }\n",
       "\n",
       "    .dataframe tbody tr th {\n",
       "        vertical-align: top;\n",
       "    }\n",
       "\n",
       "    .dataframe thead th {\n",
       "        text-align: right;\n",
       "    }\n",
       "</style>\n",
       "<table border=\"1\" class=\"dataframe\">\n",
       "  <thead>\n",
       "    <tr style=\"text-align: right;\">\n",
       "      <th></th>\n",
       "      <th>total_sales</th>\n",
       "      <th>lifetime</th>\n",
       "      <th>year_last</th>\n",
       "      <th>year_first</th>\n",
       "    </tr>\n",
       "    <tr>\n",
       "      <th>platform</th>\n",
       "      <th></th>\n",
       "      <th></th>\n",
       "      <th></th>\n",
       "      <th></th>\n",
       "    </tr>\n",
       "  </thead>\n",
       "  <tbody>\n",
       "    <tr>\n",
       "      <th>ps2</th>\n",
       "      <td>1233.56</td>\n",
       "      <td>12</td>\n",
       "      <td>2011</td>\n",
       "      <td>2000</td>\n",
       "    </tr>\n",
       "    <tr>\n",
       "      <th>x360</th>\n",
       "      <td>961.24</td>\n",
       "      <td>12</td>\n",
       "      <td>2016</td>\n",
       "      <td>2005</td>\n",
       "    </tr>\n",
       "    <tr>\n",
       "      <th>ps3</th>\n",
       "      <td>931.34</td>\n",
       "      <td>11</td>\n",
       "      <td>2016</td>\n",
       "      <td>2006</td>\n",
       "    </tr>\n",
       "    <tr>\n",
       "      <th>wii</th>\n",
       "      <td>891.18</td>\n",
       "      <td>11</td>\n",
       "      <td>2016</td>\n",
       "      <td>2006</td>\n",
       "    </tr>\n",
       "    <tr>\n",
       "      <th>ds</th>\n",
       "      <td>802.78</td>\n",
       "      <td>29</td>\n",
       "      <td>2013</td>\n",
       "      <td>1985</td>\n",
       "    </tr>\n",
       "    <tr>\n",
       "      <th>ps</th>\n",
       "      <td>727.58</td>\n",
       "      <td>10</td>\n",
       "      <td>2003</td>\n",
       "      <td>1994</td>\n",
       "    </tr>\n",
       "    <tr>\n",
       "      <th>ps4</th>\n",
       "      <td>314.14</td>\n",
       "      <td>4</td>\n",
       "      <td>2016</td>\n",
       "      <td>2013</td>\n",
       "    </tr>\n",
       "    <tr>\n",
       "      <th>gba</th>\n",
       "      <td>312.88</td>\n",
       "      <td>8</td>\n",
       "      <td>2007</td>\n",
       "      <td>2000</td>\n",
       "    </tr>\n",
       "    <tr>\n",
       "      <th>psp</th>\n",
       "      <td>289.53</td>\n",
       "      <td>12</td>\n",
       "      <td>2015</td>\n",
       "      <td>2004</td>\n",
       "    </tr>\n",
       "    <tr>\n",
       "      <th>3ds</th>\n",
       "      <td>257.81</td>\n",
       "      <td>6</td>\n",
       "      <td>2016</td>\n",
       "      <td>2011</td>\n",
       "    </tr>\n",
       "  </tbody>\n",
       "</table>\n",
       "</div>"
      ],
      "text/plain": [
       "          total_sales  lifetime  year_last  year_first\n",
       "platform                                              \n",
       "ps2           1233.56        12       2011        2000\n",
       "x360           961.24        12       2016        2005\n",
       "ps3            931.34        11       2016        2006\n",
       "wii            891.18        11       2016        2006\n",
       "ds             802.78        29       2013        1985\n",
       "ps             727.58        10       2003        1994\n",
       "ps4            314.14         4       2016        2013\n",
       "gba            312.88         8       2007        2000\n",
       "psp            289.53        12       2015        2004\n",
       "3ds            257.81         6       2016        2011"
      ]
     },
     "metadata": {},
     "output_type": "display_data"
    },
    {
     "name": "stdout",
     "output_type": "stream",
     "text": [
      "Среднее время жизни платформ: 11.50\n"
     ]
    }
   ],
   "source": [
    "platforms = ( \n",
    "    pivot_platform[['platform','year_of_release','total_sales']].pivot_table(index='platform', \n",
    "        aggfunc={'total_sales':'sum', \n",
    "                 'year_of_release':[np.min,np.max,lambda x: np.max(x)-np.min(x)+1]})\n",
    "    .droplevel(0,axis=1).rename(columns = {\n",
    "        'amin':'year_first','amax':'year_last',\n",
    "        '<lambda_0>':'lifetime', 'sum':'total_sales'})\n",
    "    .sort_values(by='total_sales', ascending=False)\n",
    ")\n",
    "display(platforms)\n",
    "print('Среднее время жизни платформ: {:.2f}'\n",
    "                 .format(platforms['lifetime'].mean()))"
   ]
  },
  {
   "cell_type": "markdown",
   "metadata": {},
   "source": [
    "В основном платформы имеют 10-12 летний жизненный цикл. Платформа ds явно выбивается из этой статистики, посмотрим что там."
   ]
  },
  {
   "cell_type": "code",
   "execution_count": 105,
   "metadata": {
    "scrolled": true
   },
   "outputs": [
    {
     "data": {
      "text/html": [
       "<div>\n",
       "<style scoped>\n",
       "    .dataframe tbody tr th:only-of-type {\n",
       "        vertical-align: middle;\n",
       "    }\n",
       "\n",
       "    .dataframe tbody tr th {\n",
       "        vertical-align: top;\n",
       "    }\n",
       "\n",
       "    .dataframe thead th {\n",
       "        text-align: right;\n",
       "    }\n",
       "</style>\n",
       "<table border=\"1\" class=\"dataframe\">\n",
       "  <thead>\n",
       "    <tr style=\"text-align: right;\">\n",
       "      <th></th>\n",
       "      <th>name</th>\n",
       "      <th>platform</th>\n",
       "      <th>year_of_release</th>\n",
       "      <th>genre</th>\n",
       "      <th>na_sales</th>\n",
       "      <th>eu_sales</th>\n",
       "      <th>jp_sales</th>\n",
       "      <th>other_sales</th>\n",
       "      <th>critic_score</th>\n",
       "      <th>user_score</th>\n",
       "      <th>rating</th>\n",
       "      <th>total_sales</th>\n",
       "    </tr>\n",
       "  </thead>\n",
       "  <tbody>\n",
       "    <tr>\n",
       "      <th>15957</th>\n",
       "      <td>strongest tokyo university shogi ds</td>\n",
       "      <td>ds</td>\n",
       "      <td>1985</td>\n",
       "      <td>action</td>\n",
       "      <td>0.00</td>\n",
       "      <td>0.0</td>\n",
       "      <td>0.02</td>\n",
       "      <td>0.0</td>\n",
       "      <td>&lt;NA&gt;</td>\n",
       "      <td>NaN</td>\n",
       "      <td>NA</td>\n",
       "      <td>0.02</td>\n",
       "    </tr>\n",
       "    <tr>\n",
       "      <th>13463</th>\n",
       "      <td>cocoto kart racer</td>\n",
       "      <td>ds</td>\n",
       "      <td>2004</td>\n",
       "      <td>racing</td>\n",
       "      <td>0.04</td>\n",
       "      <td>0.0</td>\n",
       "      <td>0.00</td>\n",
       "      <td>0.0</td>\n",
       "      <td>&lt;NA&gt;</td>\n",
       "      <td>NaN</td>\n",
       "      <td>E</td>\n",
       "      <td>0.04</td>\n",
       "    </tr>\n",
       "  </tbody>\n",
       "</table>\n",
       "</div>"
      ],
      "text/plain": [
       "                                      name platform  year_of_release   genre  \\\n",
       "15957  strongest tokyo university shogi ds       ds             1985  action   \n",
       "13463                    cocoto kart racer       ds             2004  racing   \n",
       "\n",
       "       na_sales  eu_sales  jp_sales  other_sales  critic_score  user_score  \\\n",
       "15957      0.00       0.0      0.02          0.0          <NA>         NaN   \n",
       "13463      0.04       0.0      0.00          0.0          <NA>         NaN   \n",
       "\n",
       "      rating  total_sales  \n",
       "15957     NA         0.02  \n",
       "13463      E         0.04  "
      ]
     },
     "execution_count": 105,
     "metadata": {},
     "output_type": "execute_result"
    }
   ],
   "source": [
    "data[data['platform'] == 'ds'].sort_values (by='year_of_release').head(2)"
   ]
  },
  {
   "cell_type": "markdown",
   "metadata": {},
   "source": [
    "Судя по всему, ds появилась в 2004 году, значит в первой строке ошибка - удалим ее и обновим график продаж по годам. Не будем заново выводить время жизни платформ - для ds жизненный цикл составил 9 лет."
   ]
  },
  {
   "cell_type": "code",
   "execution_count": 106,
   "metadata": {},
   "outputs": [],
   "source": [
    "data = data.drop(data[data['name'] == 'strongest tokyo university shogi ds'].index)"
   ]
  },
  {
   "cell_type": "code",
   "execution_count": 107,
   "metadata": {
    "scrolled": true
   },
   "outputs": [
    {
     "data": {
      "image/png": "[encoded data removed]",
      "text/plain": [
       "<Figure size 1224x360 with 1 Axes>"
      ]
     },
     "metadata": {
      "needs_background": "light"
     },
     "output_type": "display_data"
    }
   ],
   "source": [
    "pivot_platform = data.loc[data['platform'].isin(max_sales['platform'])].pivot_table(index=['platform','year_of_release'], \n",
    "values='total_sales', aggfunc='sum').reset_index().sort_values('total_sales', ascending=False)\n",
    "\n",
    "plt.figure(figsize=(17,5))\n",
    "for i in pivot_platform['platform'].unique():\n",
    "    sns.lineplot(data = pivot_platform.loc[pivot_platform['platform'] == i], \n",
    "                 x = 'year_of_release', y = 'total_sales', label=i)\n",
    "    plt.legend()"
   ]
  },
  {
   "cell_type": "markdown",
   "metadata": {},
   "source": [
    "#### Актуальный период и потенциально прибыльные платформы\n",
    "\n",
    "Исходя из результатов выше, актуальным периодом выберем 2014-2016 гг. Индустрия компьютерных игр - динамична, поэтому большой временной интервал не подойдет. "
   ]
  },
  {
   "cell_type": "code",
   "execution_count": 108,
   "metadata": {},
   "outputs": [
    {
     "data": {
      "text/html": [
       "<div>\n",
       "<style scoped>\n",
       "    .dataframe tbody tr th:only-of-type {\n",
       "        vertical-align: middle;\n",
       "    }\n",
       "\n",
       "    .dataframe tbody tr th {\n",
       "        vertical-align: top;\n",
       "    }\n",
       "\n",
       "    .dataframe thead th {\n",
       "        text-align: right;\n",
       "    }\n",
       "</style>\n",
       "<table border=\"1\" class=\"dataframe\">\n",
       "  <thead>\n",
       "    <tr style=\"text-align: right;\">\n",
       "      <th></th>\n",
       "      <th>year_of_release</th>\n",
       "      <th>na_sales</th>\n",
       "      <th>eu_sales</th>\n",
       "      <th>jp_sales</th>\n",
       "      <th>other_sales</th>\n",
       "      <th>critic_score</th>\n",
       "      <th>user_score</th>\n",
       "      <th>total_sales</th>\n",
       "    </tr>\n",
       "  </thead>\n",
       "  <tbody>\n",
       "    <tr>\n",
       "      <th>count</th>\n",
       "      <td>1689.000000</td>\n",
       "      <td>1689.000000</td>\n",
       "      <td>1689.000000</td>\n",
       "      <td>1689.000000</td>\n",
       "      <td>1689.000000</td>\n",
       "      <td>718.000000</td>\n",
       "      <td>888.000000</td>\n",
       "      <td>1689.000000</td>\n",
       "    </tr>\n",
       "    <tr>\n",
       "      <th>mean</th>\n",
       "      <td>2014.953227</td>\n",
       "      <td>0.168182</td>\n",
       "      <td>0.160261</td>\n",
       "      <td>0.055115</td>\n",
       "      <td>0.048324</td>\n",
       "      <td>72.306407</td>\n",
       "      <td>6.623536</td>\n",
       "      <td>0.431883</td>\n",
       "    </tr>\n",
       "    <tr>\n",
       "      <th>std</th>\n",
       "      <td>0.799624</td>\n",
       "      <td>0.446134</td>\n",
       "      <td>0.466846</td>\n",
       "      <td>0.211513</td>\n",
       "      <td>0.141790</td>\n",
       "      <td>12.213500</td>\n",
       "      <td>1.589792</td>\n",
       "      <td>1.056109</td>\n",
       "    </tr>\n",
       "    <tr>\n",
       "      <th>min</th>\n",
       "      <td>2014.000000</td>\n",
       "      <td>0.000000</td>\n",
       "      <td>0.000000</td>\n",
       "      <td>0.000000</td>\n",
       "      <td>0.000000</td>\n",
       "      <td>19.000000</td>\n",
       "      <td>0.200000</td>\n",
       "      <td>0.010000</td>\n",
       "    </tr>\n",
       "    <tr>\n",
       "      <th>25%</th>\n",
       "      <td>2014.000000</td>\n",
       "      <td>0.000000</td>\n",
       "      <td>0.000000</td>\n",
       "      <td>0.000000</td>\n",
       "      <td>0.000000</td>\n",
       "      <td>66.000000</td>\n",
       "      <td>5.800000</td>\n",
       "      <td>0.030000</td>\n",
       "    </tr>\n",
       "    <tr>\n",
       "      <th>50%</th>\n",
       "      <td>2015.000000</td>\n",
       "      <td>0.020000</td>\n",
       "      <td>0.020000</td>\n",
       "      <td>0.010000</td>\n",
       "      <td>0.010000</td>\n",
       "      <td>74.000000</td>\n",
       "      <td>7.000000</td>\n",
       "      <td>0.100000</td>\n",
       "    </tr>\n",
       "    <tr>\n",
       "      <th>75%</th>\n",
       "      <td>2016.000000</td>\n",
       "      <td>0.120000</td>\n",
       "      <td>0.120000</td>\n",
       "      <td>0.040000</td>\n",
       "      <td>0.040000</td>\n",
       "      <td>81.000000</td>\n",
       "      <td>7.800000</td>\n",
       "      <td>0.350000</td>\n",
       "    </tr>\n",
       "    <tr>\n",
       "      <th>max</th>\n",
       "      <td>2016.000000</td>\n",
       "      <td>6.030000</td>\n",
       "      <td>6.310000</td>\n",
       "      <td>3.180000</td>\n",
       "      <td>2.380000</td>\n",
       "      <td>97.000000</td>\n",
       "      <td>9.300000</td>\n",
       "      <td>14.630000</td>\n",
       "    </tr>\n",
       "  </tbody>\n",
       "</table>\n",
       "</div>"
      ],
      "text/plain": [
       "       year_of_release     na_sales     eu_sales     jp_sales  other_sales  \\\n",
       "count      1689.000000  1689.000000  1689.000000  1689.000000  1689.000000   \n",
       "mean       2014.953227     0.168182     0.160261     0.055115     0.048324   \n",
       "std           0.799624     0.446134     0.466846     0.211513     0.141790   \n",
       "min        2014.000000     0.000000     0.000000     0.000000     0.000000   \n",
       "25%        2014.000000     0.000000     0.000000     0.000000     0.000000   \n",
       "50%        2015.000000     0.020000     0.020000     0.010000     0.010000   \n",
       "75%        2016.000000     0.120000     0.120000     0.040000     0.040000   \n",
       "max        2016.000000     6.030000     6.310000     3.180000     2.380000   \n",
       "\n",
       "       critic_score  user_score  total_sales  \n",
       "count    718.000000  888.000000  1689.000000  \n",
       "mean      72.306407    6.623536     0.431883  \n",
       "std       12.213500    1.589792     1.056109  \n",
       "min       19.000000    0.200000     0.010000  \n",
       "25%       66.000000    5.800000     0.030000  \n",
       "50%       74.000000    7.000000     0.100000  \n",
       "75%       81.000000    7.800000     0.350000  \n",
       "max       97.000000    9.300000    14.630000  "
      ]
     },
     "execution_count": 108,
     "metadata": {},
     "output_type": "execute_result"
    }
   ],
   "source": [
    "actual_data = data.query('year_of_release > 2013')\n",
    "actual_data.describe()"
   ]
  },
  {
   "cell_type": "markdown",
   "metadata": {},
   "source": [
    "Посмотрим, какие платформы лидируют по продажам, растут или падают и выберем несколько потенциально прибыльных платформ."
   ]
  },
  {
   "cell_type": "code",
   "execution_count": 109,
   "metadata": {},
   "outputs": [
    {
     "data": {
      "text/html": [
       "<div>\n",
       "<style scoped>\n",
       "    .dataframe tbody tr th:only-of-type {\n",
       "        vertical-align: middle;\n",
       "    }\n",
       "\n",
       "    .dataframe tbody tr th {\n",
       "        vertical-align: top;\n",
       "    }\n",
       "\n",
       "    .dataframe thead th {\n",
       "        text-align: right;\n",
       "    }\n",
       "</style>\n",
       "<table border=\"1\" class=\"dataframe\">\n",
       "  <thead>\n",
       "    <tr style=\"text-align: right;\">\n",
       "      <th>platform</th>\n",
       "      <th>3ds</th>\n",
       "      <th>pc</th>\n",
       "      <th>ps3</th>\n",
       "      <th>ps4</th>\n",
       "      <th>psp</th>\n",
       "      <th>psv</th>\n",
       "      <th>wii</th>\n",
       "      <th>wiiu</th>\n",
       "      <th>x360</th>\n",
       "      <th>xone</th>\n",
       "    </tr>\n",
       "    <tr>\n",
       "      <th>year_of_release</th>\n",
       "      <th></th>\n",
       "      <th></th>\n",
       "      <th></th>\n",
       "      <th></th>\n",
       "      <th></th>\n",
       "      <th></th>\n",
       "      <th></th>\n",
       "      <th></th>\n",
       "      <th></th>\n",
       "      <th></th>\n",
       "    </tr>\n",
       "  </thead>\n",
       "  <tbody>\n",
       "    <tr>\n",
       "      <th>2014</th>\n",
       "      <td>43.76</td>\n",
       "      <td>13.28</td>\n",
       "      <td>47.76</td>\n",
       "      <td>100.00</td>\n",
       "      <td>0.24</td>\n",
       "      <td>11.90</td>\n",
       "      <td>3.75</td>\n",
       "      <td>22.03</td>\n",
       "      <td>34.74</td>\n",
       "      <td>54.07</td>\n",
       "    </tr>\n",
       "    <tr>\n",
       "      <th>2015</th>\n",
       "      <td>27.78</td>\n",
       "      <td>8.52</td>\n",
       "      <td>16.82</td>\n",
       "      <td>118.90</td>\n",
       "      <td>0.12</td>\n",
       "      <td>6.25</td>\n",
       "      <td>1.14</td>\n",
       "      <td>16.35</td>\n",
       "      <td>11.96</td>\n",
       "      <td>60.14</td>\n",
       "    </tr>\n",
       "    <tr>\n",
       "      <th>2016</th>\n",
       "      <td>15.14</td>\n",
       "      <td>5.25</td>\n",
       "      <td>3.60</td>\n",
       "      <td>69.25</td>\n",
       "      <td>NaN</td>\n",
       "      <td>4.25</td>\n",
       "      <td>0.18</td>\n",
       "      <td>4.60</td>\n",
       "      <td>1.52</td>\n",
       "      <td>26.15</td>\n",
       "    </tr>\n",
       "  </tbody>\n",
       "</table>\n",
       "</div>"
      ],
      "text/plain": [
       "platform           3ds     pc    ps3     ps4   psp    psv   wii   wiiu   x360  \\\n",
       "year_of_release                                                                 \n",
       "2014             43.76  13.28  47.76  100.00  0.24  11.90  3.75  22.03  34.74   \n",
       "2015             27.78   8.52  16.82  118.90  0.12   6.25  1.14  16.35  11.96   \n",
       "2016             15.14   5.25   3.60   69.25   NaN   4.25  0.18   4.60   1.52   \n",
       "\n",
       "platform          xone  \n",
       "year_of_release         \n",
       "2014             54.07  \n",
       "2015             60.14  \n",
       "2016             26.15  "
      ]
     },
     "execution_count": 109,
     "metadata": {},
     "output_type": "execute_result"
    }
   ],
   "source": [
    "top_platforms = pd.pivot_table(actual_data, index = 'year_of_release', columns='platform', \n",
    "                               values='total_sales', aggfunc='sum')\n",
    "top_platforms"
   ]
  },
  {
   "cell_type": "code",
   "execution_count": 110,
   "metadata": {},
   "outputs": [
    {
     "data": {
      "image/png": "[encoded data removed]",
      "text/plain": [
       "<Figure size 1440x576 with 1 Axes>"
      ]
     },
     "metadata": {
      "needs_background": "light"
     },
     "output_type": "display_data"
    }
   ],
   "source": [
    "plt.figure(figsize=((20,8)))\n",
    "plt.plot(top_platforms,  marker = 'o')\n",
    "plt.legend(top_platforms.columns)\n",
    "plt.xticks(top_platforms.index.astype(int))\n",
    "plt.show()"
   ]
  },
  {
   "cell_type": "markdown",
   "metadata": {},
   "source": [
    "Большую часть рынка занимают платформы ps4 и xone - до 2015 года они растут, в отличие от других платформ. У psp стабильно низкие продажи (с 2015 года их нет), похожая ситуаци и с wii, pc, psv. Еще с 2014 года виден сильный спад у pc3, 3ds, х360. После 2015 года продажи всех платформ начали падать, это может быть связано с переходом на мобильные игры или систему подписок, как предполагалось ранее. Но у некоторых платформ спад объясняется выходом новой версии (ps3-ps4, x360-xone). Потенциально прибыльными по объемам продаж можно назвать платформы ps4, xone. Если смотреть по стабильности, можно присмотреться к pc, psv, wiiu, 3ds.\n",
    "\n"
   ]
  },
  {
   "cell_type": "markdown",
   "metadata": {},
   "source": [
    "####  Глобальные продажи игр по платформам\n",
    "\n",
    "Построим график «ящик с усами» по глобальным продажам игр в разбивке по платформам."
   ]
  },
  {
   "cell_type": "code",
   "execution_count": 111,
   "metadata": {},
   "outputs": [
    {
     "data": {
      "image/png": "[encoded data removed]",
      "text/plain": [
       "<Figure size 1224x648 with 1 Axes>"
      ]
     },
     "metadata": {
      "needs_background": "light"
     },
     "output_type": "display_data"
    }
   ],
   "source": [
    "actual_data.boxplot(by='platform', column='total_sales',figsize=(17,9), fontsize=10, grid=True, vert=False);\n",
    "plt.xlim(0, 2.5);"
   ]
  },
  {
   "cell_type": "markdown",
   "metadata": {},
   "source": [
    "Видим, что графики по всем платформам скошены вправо. Но в данном случае слишком большие значения не стоит принимать за выбросы, тк так влияют очень популярные игры. Соответственно, больше \"выбросов\" = потенциально более прибыльные платформы.\n",
    "\n",
    "Медиана половины платформ находится в районе 0.2, у остальных - 0.1. Наибольшие продажи у ps4, xone, wiiu, хотя 75% продаж больше у wii.\n",
    "\n"
   ]
  },
  {
   "cell_type": "markdown",
   "metadata": {},
   "source": [
    "#### Влияние отзывов на продажи\n",
    "\n",
    "Посмотрим, как влияют на продажи внутри одной популярной платформы отзывы пользователей и критиков. Построим диаграмму рассеяния и посчитаем корреляцию между отзывами и продажами.\n",
    "\n",
    "Наиболее поплуярной платформой является ps4, рассмотрим ее.\n",
    "\n",
    "**Оценка критиков**"
   ]
  },
  {
   "cell_type": "code",
   "execution_count": 112,
   "metadata": {
    "scrolled": false
   },
   "outputs": [
    {
     "name": "stdout",
     "output_type": "stream",
     "text": [
      "Коэффицент корреляции = 0.12910710319761823\n"
     ]
    },
    {
     "data": {
      "image/png": "[encoded data removed]",
      "text/plain": [
       "<Figure size 864x288 with 1 Axes>"
      ]
     },
     "metadata": {
      "needs_background": "light"
     },
     "output_type": "display_data"
    }
   ],
   "source": [
    "ps4 = actual_data[actual_data['platform'] == 'ps4']\n",
    "print(\"Коэффицент корреляции =\", ps4['critic_score'].notna().corr(ps4['total_sales']))\n",
    "ps4.plot(kind='scatter', x='critic_score', y='total_sales', grid=True, figsize=(12,4), alpha = 0.5)\n",
    "plt.show;"
   ]
  },
  {
   "cell_type": "markdown",
   "metadata": {},
   "source": [
    "**Оценка пользователей**"
   ]
  },
  {
   "cell_type": "code",
   "execution_count": 113,
   "metadata": {
    "scrolled": true
   },
   "outputs": [
    {
     "name": "stdout",
     "output_type": "stream",
     "text": [
      "Коэффицент корреляции = -0.040131589472697356\n"
     ]
    },
    {
     "data": {
      "image/png": "[encoded data removed]",
      "text/plain": [
       "<Figure size 864x288 with 1 Axes>"
      ]
     },
     "metadata": {
      "needs_background": "light"
     },
     "output_type": "display_data"
    }
   ],
   "source": [
    "print(\"Коэффицент корреляции =\", ps4['user_score'].corr(ps4['total_sales']))\n",
    "ps4.plot(kind='scatter', x='user_score', y='total_sales', grid=True, figsize=(12,4), alpha = 0.5)\n",
    "plt.show;"
   ]
  },
  {
   "cell_type": "markdown",
   "metadata": {},
   "source": [
    "По диаграммам рассеяния и коэффицентам корреляции видно, что между оценками критиков и продажами игр есть прямая, довльно сильная связь (чем выше оценка, тем больше продаж), в то время как оценка пользователей почти не сказывается на продажах. Возможно, это связано с тем, что на оценки критиков опираются до покупки, а пользователи оценивают игру уже после.\n",
    "\n",
    "Сравним эти выводы с продажами на других платформах."
   ]
  },
  {
   "cell_type": "code",
   "execution_count": 114,
   "metadata": {
    "scrolled": true
   },
   "outputs": [
    {
     "data": {
      "text/html": [
       "<div>\n",
       "<style scoped>\n",
       "    .dataframe tbody tr th:only-of-type {\n",
       "        vertical-align: middle;\n",
       "    }\n",
       "\n",
       "    .dataframe tbody tr th {\n",
       "        vertical-align: top;\n",
       "    }\n",
       "\n",
       "    .dataframe thead th {\n",
       "        text-align: right;\n",
       "    }\n",
       "</style>\n",
       "<table border=\"1\" class=\"dataframe\">\n",
       "  <thead>\n",
       "    <tr style=\"text-align: right;\">\n",
       "      <th></th>\n",
       "      <th>platform</th>\n",
       "      <th>critic_score</th>\n",
       "      <th>user_score</th>\n",
       "    </tr>\n",
       "  </thead>\n",
       "  <tbody>\n",
       "    <tr>\n",
       "      <th>0</th>\n",
       "      <td>3ds</td>\n",
       "      <td>0.314117</td>\n",
       "      <td>0.215193</td>\n",
       "    </tr>\n",
       "    <tr>\n",
       "      <th>1</th>\n",
       "      <td>pc</td>\n",
       "      <td>0.174634</td>\n",
       "      <td>-0.071597</td>\n",
       "    </tr>\n",
       "    <tr>\n",
       "      <th>2</th>\n",
       "      <td>ps3</td>\n",
       "      <td>0.446575</td>\n",
       "      <td>-0.166761</td>\n",
       "    </tr>\n",
       "    <tr>\n",
       "      <th>4</th>\n",
       "      <td>psv</td>\n",
       "      <td>0.042665</td>\n",
       "      <td>-0.168455</td>\n",
       "    </tr>\n",
       "    <tr>\n",
       "      <th>5</th>\n",
       "      <td>wii</td>\n",
       "      <td>NaN</td>\n",
       "      <td>1.000000</td>\n",
       "    </tr>\n",
       "    <tr>\n",
       "      <th>6</th>\n",
       "      <td>wiiu</td>\n",
       "      <td>0.370201</td>\n",
       "      <td>0.407926</td>\n",
       "    </tr>\n",
       "    <tr>\n",
       "      <th>7</th>\n",
       "      <td>x360</td>\n",
       "      <td>0.525723</td>\n",
       "      <td>-0.138445</td>\n",
       "    </tr>\n",
       "    <tr>\n",
       "      <th>8</th>\n",
       "      <td>xone</td>\n",
       "      <td>0.428677</td>\n",
       "      <td>-0.070384</td>\n",
       "    </tr>\n",
       "  </tbody>\n",
       "</table>\n",
       "</div>"
      ],
      "text/plain": [
       "  platform  critic_score  user_score\n",
       "0      3ds      0.314117    0.215193\n",
       "1       pc      0.174634   -0.071597\n",
       "2      ps3      0.446575   -0.166761\n",
       "4      psv      0.042665   -0.168455\n",
       "5      wii           NaN    1.000000\n",
       "6     wiiu      0.370201    0.407926\n",
       "7     x360      0.525723   -0.138445\n",
       "8     xone      0.428677   -0.070384"
      ]
     },
     "execution_count": 114,
     "metadata": {},
     "output_type": "execute_result"
    }
   ],
   "source": [
    "other_platforms = actual_data[actual_data['platform'] != 'ps4']\n",
    "(other_platforms\n",
    "    .groupby('platform')[['critic_score', 'user_score', 'total_sales']]\n",
    "    .agg('corr').reset_index()\n",
    "    .query('level_1 == \"total_sales\"')\n",
    "    .reset_index(drop = True)\n",
    "    .iloc[[0, 1, 2, 4, 5, 6, 7, 8], [0, 2, 3]]\n",
    ")"
   ]
  },
  {
   "cell_type": "code",
   "execution_count": 115,
   "metadata": {},
   "outputs": [
    {
     "data": {
      "text/plain": [
       "array([8.4, nan, 4.3])"
      ]
     },
     "execution_count": 115,
     "metadata": {},
     "output_type": "execute_result"
    }
   ],
   "source": [
    "#проверка\n",
    "a = actual_data[actual_data['platform'] == 'wii']\n",
    "a['user_score'].unique()"
   ]
  },
  {
   "cell_type": "markdown",
   "metadata": {},
   "source": [
    "Больше всего оценки критиков сказываются на продажи на платформе х360, меньше всего - на psv. На платформе wii совсем отсутствуют оценки критиков и всего пару оценок пользователей - надо бы узнать почему так, а пока не будем делать какие-то выводы по ней.\n",
    "\n",
    "Оценки пользователей больше всего сказываются на продажах на платформе wiiu, меньше всего - на xone и pc.\n",
    "\n",
    "Сравнивая ps4 с остальными платформами, приходим к выводу, что на продажи на этой платформе оценки критиков влияют больше, а оценки пользователей меньше, чем на большинстве других платформ.\n",
    "\n"
   ]
  },
  {
   "cell_type": "markdown",
   "metadata": {},
   "source": [
    "#### Распределение по жанрам\n",
    "\n",
    "Посмотрим на общее распределение игр по жанрам."
   ]
  },
  {
   "cell_type": "code",
   "execution_count": 116,
   "metadata": {},
   "outputs": [
    {
     "data": {
      "text/plain": [
       "action          619\n",
       "role-playing    221\n",
       "adventure       185\n",
       "sports          161\n",
       "shooter         128\n",
       "misc            113\n",
       "racing           69\n",
       "fighting         60\n",
       "simulation       44\n",
       "platform         38\n",
       "strategy         37\n",
       "puzzle           14\n",
       "Name: genre, dtype: int64"
      ]
     },
     "execution_count": 116,
     "metadata": {},
     "output_type": "execute_result"
    }
   ],
   "source": [
    "actual_data['genre'].value_counts()"
   ]
  },
  {
   "cell_type": "markdown",
   "metadata": {},
   "source": [
    "Больше всего игр издается в жанре action, меньше всего - в жанре puzzle.\n",
    "\n",
    "Определим, какие из них самые прибыльные и выделяются ли жанры с высокими и низкими продажами. Использовать будем не общие продажи, а медиану, чтобы топовые игры не искажали результат и можно было найти жанр со стабильно высокими продажами."
   ]
  },
  {
   "cell_type": "code",
   "execution_count": 117,
   "metadata": {},
   "outputs": [
    {
     "data": {
      "image/png": "[encoded data removed]",
      "text/plain": [
       "<Figure size 1080x360 with 1 Axes>"
      ]
     },
     "metadata": {
      "needs_background": "light"
     },
     "output_type": "display_data"
    }
   ],
   "source": [
    "genre = actual_data.pivot_table(index='genre', values='total_sales',\n",
    "                                  aggfunc='median').sort_values(by='total_sales', ascending=False).reset_index()\n",
    "plt.figure(figsize=(15,5))\n",
    "sns.barplot(data=genre, x='genre', y='total_sales');"
   ]
  },
  {
   "cell_type": "markdown",
   "metadata": {},
   "source": [
    "Самые высокие продажи у жанра shooter, также можно выделить sport и platform. Самые низкие продажи у жанров adventure и puzzle."
   ]
  },
  {
   "cell_type": "markdown",
   "metadata": {},
   "source": [
    "\n",
    "\n",
    "### Портрет пользователя каждого региона\n",
    "#### Самые популярные платформы\n",
    "\n",
    "Определим топ-5 популярных платформ в каждом из регионов (NA, EU, JP). "
   ]
  },
  {
   "cell_type": "code",
   "execution_count": 118,
   "metadata": {},
   "outputs": [],
   "source": [
    "na_platform = actual_data.groupby('platform')['na_sales'].sum().sort_values(ascending=False).head(5)\n",
    "eu_platform = actual_data.groupby('platform')['eu_sales'].sum().sort_values(ascending=False).head(5)\n",
    "jp_platform = actual_data.groupby('platform')['jp_sales'].sum().sort_values(ascending=False).head(5)"
   ]
  },
  {
   "cell_type": "code",
   "execution_count": 119,
   "metadata": {},
   "outputs": [
    {
     "data": {
      "image/png": "[encoded data removed]",
      "text/plain": [
       "<Figure size 1440x432 with 3 Axes>"
      ]
     },
     "metadata": {},
     "output_type": "display_data"
    }
   ],
   "source": [
    "fig, (ax1, ax2, ax3) = plt.subplots(1, 3, figsize=(20, 6))\n",
    "\n",
    "na_platform.plot(kind='pie', ax=ax1, subplots=True, autopct='%1.1f%%', fontsize=16, cmap = 'PuBu')\n",
    "ax1.set_title('NA', fontsize=18)\n",
    "ax1.set_ylabel('');\n",
    "\n",
    "eu_platform.plot(kind='pie', ax=ax2, subplots=True, autopct='%1.1f%%', fontsize=16, cmap = 'PuBu')\n",
    "ax2.set_title('EU', fontsize=18)\n",
    "ax2.set_ylabel('');\n",
    "\n",
    "jp_platform.plot(kind='pie', ax=ax3, subplots=True, autopct='%1.1f%%', fontsize=16, cmap = 'PuBu');\n",
    "ax3.set_title('JP', fontsize=18)\n",
    "ax3.set_ylabel('');"
   ]
  },
  {
   "cell_type": "markdown",
   "metadata": {},
   "source": [
    "В Северной Америке и Европе один и тот же лидер - ps4. Доля платформы xone в Северной Америке в 1,5 раза больше, чем в Европе. Платформы 3ds и ps3 есть в топе обеих стран, но с небольшим отличием в долях. В топе Северной Америки находтся х360 - в Европе ее нет, но есть pc.\n",
    "\n",
    "В Японии лидирует 3ds. Далее с небольшим процентным различием идут ps4, psv и замыкает топ платформ ps3, wiiu.\n",
    "\n",
    "Видно, что рынок компьютерных игр в Японии сильно отличается от североамериканского и европейского.\n",
    "\n"
   ]
  },
  {
   "cell_type": "markdown",
   "metadata": {},
   "source": [
    "#### Самые популярные жанры\n",
    "\n",
    "Определим топ-5 популярных жанров в каждом из регионов (NA, EU, JP)."
   ]
  },
  {
   "cell_type": "code",
   "execution_count": 120,
   "metadata": {},
   "outputs": [],
   "source": [
    "na_genre = actual_data.groupby('genre')['na_sales'].sum().sort_values(ascending=False).head(5)\n",
    "eu_genre = actual_data.groupby('genre')['eu_sales'].sum().sort_values(ascending=False).head(5)\n",
    "jp_genre = actual_data.groupby('genre')['jp_sales'].sum().sort_values(ascending=False).head(5)"
   ]
  },
  {
   "cell_type": "code",
   "execution_count": 121,
   "metadata": {},
   "outputs": [
    {
     "data": {
      "image/png": "[encoded data removed]",
      "text/plain": [
       "<Figure size 1440x432 with 3 Axes>"
      ]
     },
     "metadata": {},
     "output_type": "display_data"
    }
   ],
   "source": [
    "fig, (ax1, ax2, ax3) = plt.subplots(1, 3, figsize=(20, 6))\n",
    "\n",
    "na_genre.plot(kind='pie', ax=ax1, subplots=True, autopct='%1.1f%%', fontsize=16, cmap='PuRd')\n",
    "ax1.set_title('NA', fontsize=18)\n",
    "ax1.set_ylabel('');\n",
    "\n",
    "eu_genre.plot(kind='pie', ax=ax2, subplots=True, autopct='%1.1f%%', fontsize=16, cmap='PuRd')\n",
    "ax2.set_title('EU', fontsize=18)\n",
    "ax2.set_ylabel('');\n",
    "\n",
    "jp_genre.plot(kind='pie', ax=ax3, subplots=True, autopct='%1.1f%%', fontsize=16, cmap='PuRd');\n",
    "ax3.set_title('JP', fontsize=18)\n",
    "ax3.set_ylabel('');"
   ]
  },
  {
   "cell_type": "markdown",
   "metadata": {},
   "source": [
    "Топ-5 жанров в Северной Америке и Европе отличается только наименее популярным жанром - в Северной Америке это misc, а в Европе racing. В остальном он идентичен: лидирует shooter, немного отстает action, далее sports и role-playing.\n",
    "\n",
    "В Японии топ отличается - на первом месте role-playing, далее action (хотя доля от рынка здесь больше, чем Северной Америке и Европе). Эти два жанра захватывают большую часть рынка и оставшиеся места в топе делят fighting, misc, shooter."
   ]
  },
  {
   "cell_type": "markdown",
   "metadata": {},
   "source": [
    "\n",
    "\n",
    "#### Влияение рейтинга ESRB \n",
    "\n",
    "Определим, влияет ли рейтинг ESRB на продажи в отдельном регионе."
   ]
  },
  {
   "cell_type": "code",
   "execution_count": 122,
   "metadata": {},
   "outputs": [],
   "source": [
    "na_rating = actual_data.groupby('rating')['na_sales'].sum().sort_values(ascending=False)\n",
    "eu_rating = actual_data.groupby('rating')['eu_sales'].sum().sort_values(ascending=False)\n",
    "jp_rating = actual_data.groupby('rating')['jp_sales'].sum().sort_values(ascending=False)"
   ]
  },
  {
   "cell_type": "code",
   "execution_count": 123,
   "metadata": {},
   "outputs": [
    {
     "data": {
      "image/png": "[encoded data removed]",
      "text/plain": [
       "<Figure size 1440x432 with 3 Axes>"
      ]
     },
     "metadata": {},
     "output_type": "display_data"
    }
   ],
   "source": [
    "fig, (ax1, ax2, ax3) = plt.subplots(1, 3, figsize=(20, 6))\n",
    "\n",
    "na_rating.plot(kind='pie', ax=ax1, subplots=True, autopct='%1.1f%%', fontsize=16, cmap='Blues')\n",
    "ax1.set_title('NA', fontsize=18)\n",
    "ax1.set_ylabel('');\n",
    "\n",
    "eu_rating.plot(kind='pie', ax=ax2, subplots=True, autopct='%1.1f%%', fontsize=16, cmap='Blues')\n",
    "ax2.set_title('EU', fontsize=18)\n",
    "ax2.set_ylabel('');\n",
    "\n",
    "jp_rating.plot(kind='pie', ax=ax3, subplots=True, autopct='%1.1f%%', fontsize=16, cmap='Blues');\n",
    "ax3.set_title('JP', fontsize=18)\n",
    "ax3.set_ylabel('');"
   ]
  },
  {
   "cell_type": "markdown",
   "metadata": {},
   "source": [
    "В Северной Америке и Европе лучше всего продаются игры с рейтингом М и Е. В Японии же слишком большое количество игр без рейтинга и адекватно оценить картину невозможно. Вероятно там свое рейтингое агентство и рейтинг ESRB на не особо влияет на продажи в этом регионе."
   ]
  },
  {
   "cell_type": "markdown",
   "metadata": {},
   "source": [
    "\n",
    "\n",
    "### Проверка гипотез\n",
    "#### Средние пользовательские рейтинги платформ Xbox One и PC одинаковые\n",
    "\n",
    "Сформулируем гипотезу:\n",
    "\n",
    "Н0: Средний пользовательский рейтинг платформы Xbox One = Средний пользовательский рейтинг платформы PC.\n",
    "\n",
    "Н1: Средний пользовательский рейтинг платформы Xbox One != Средний пользовательский рейтинг платформы PC.\n",
    "\n",
    "Критический уровень статической значимости обозначим значением 0.05, сформируем соотвествующие выборки и сравним их средние t-тестом с помощью функции st.ttest_ind, так как выборки независимые."
   ]
  },
  {
   "cell_type": "code",
   "execution_count": 124,
   "metadata": {},
   "outputs": [],
   "source": [
    "xone = actual_data[actual_data['platform'] == 'xone']['user_score'].dropna() \n",
    "pc = actual_data[actual_data['platform'] == 'pc']['user_score'].dropna()\n",
    "#удаляем выбросы, потому что с ними дальше функция работает не корректно и выдает р-значение: nan"
   ]
  },
  {
   "cell_type": "code",
   "execution_count": 125,
   "metadata": {},
   "outputs": [
    {
     "name": "stdout",
     "output_type": "stream",
     "text": [
      "Размер выборки xone: 165\n",
      "Размер выборки pc: 122\n"
     ]
    }
   ],
   "source": [
    "print('Размер выборки xone:', len(xone))\n",
    "print('Размер выборки pc:', len(pc))"
   ]
  },
  {
   "cell_type": "code",
   "execution_count": 126,
   "metadata": {},
   "outputs": [
    {
     "name": "stdout",
     "output_type": "stream",
     "text": [
      "Дисперсия xone: 1.8795460055096425\n",
      "Дисперсия pc: 2.8773743617307175\n"
     ]
    }
   ],
   "source": [
    "print('Дисперсия xone:', np.var(xone))\n",
    "print('Дисперсия pc:', np.var(pc))"
   ]
  },
  {
   "cell_type": "markdown",
   "metadata": {},
   "source": [
    "Размер выборок и дисперсия значительно отличаются, поэтому поставим параметр equal_var=False."
   ]
  },
  {
   "cell_type": "code",
   "execution_count": 127,
   "metadata": {},
   "outputs": [
    {
     "name": "stdout",
     "output_type": "stream",
     "text": [
      "p-значение: 0.11601398086668832\n",
      "Не получилось отвергнуть нулевую гипотезу\n"
     ]
    }
   ],
   "source": [
    "alpha = 0.05\n",
    "\n",
    "results = st.ttest_ind(xone, pc, equal_var = False)\n",
    "\n",
    "print('p-значение:', results.pvalue)\n",
    "\n",
    "if (results.pvalue < alpha):\n",
    "    print(\"Отвергаем нулевую гипотезу\")\n",
    "else:\n",
    "    print(\"Не получилось отвергнуть нулевую гипотезу\")"
   ]
  },
  {
   "cell_type": "markdown",
   "metadata": {},
   "source": [
    "Текущей гипотезой остается нулевая, которая говорит о том, что средние пользовательские рейтинги платформ Xbox One и PC одинаковые.\n",
    "\n",
    "#### Средние пользовательские рейтинги жанров Action и Sports разные\n",
    "\n",
    "Сформулируем гипотезу: \n",
    "\n",
    "Н0: Средний пользовательский рейтинг жанра action = Средний пользовательский рейтинг жанра sports.\n",
    "\n",
    "Н1: Средний пользовательский рейтинг жанра action != Средний пользовательский рейтинг жанра sports.\n",
    "\n",
    "Критический уровень статической значимости обозначим значением 0.05, сформируем соотвествующие выборки и сравним их средние t-тестом с помощью функции st.ttest_ind, так как выборки независимые."
   ]
  },
  {
   "cell_type": "code",
   "execution_count": 128,
   "metadata": {},
   "outputs": [],
   "source": [
    "action = actual_data[actual_data['genre'] == 'action']['user_score'].dropna() \n",
    "sports = actual_data[actual_data['genre'] == 'sports']['user_score'].dropna()"
   ]
  },
  {
   "cell_type": "code",
   "execution_count": 129,
   "metadata": {},
   "outputs": [
    {
     "name": "stdout",
     "output_type": "stream",
     "text": [
      "Размер выборки action: 297\n",
      "Размер выборки sports: 127\n"
     ]
    }
   ],
   "source": [
    "print('Размер выборки action:', len(action))\n",
    "print('Размер выборки sports:', len(sports))"
   ]
  },
  {
   "cell_type": "code",
   "execution_count": 130,
   "metadata": {},
   "outputs": [
    {
     "name": "stdout",
     "output_type": "stream",
     "text": [
      "Дисперсия action: 1.89208448117539\n",
      "Дисперсия sports: 3.4198375596751185\n"
     ]
    }
   ],
   "source": [
    "print('Дисперсия action:', np.var(action))\n",
    "print('Дисперсия sports:', np.var(sports))"
   ]
  },
  {
   "cell_type": "markdown",
   "metadata": {},
   "source": [
    "Размер выборок и дисперсия значительно отличаются, поэтому поставим параметр equal_var=False."
   ]
  },
  {
   "cell_type": "code",
   "execution_count": 131,
   "metadata": {},
   "outputs": [
    {
     "name": "stdout",
     "output_type": "stream",
     "text": [
      "p-значение: 1.1825550382644557e-14\n",
      "Отвергаем нулевую гипотезу\n"
     ]
    }
   ],
   "source": [
    "alpha = 0.05\n",
    "\n",
    "results = st.ttest_ind(action, sports, equal_var = False)\n",
    "\n",
    "print('p-значение:', results.pvalue)\n",
    "\n",
    "if (results.pvalue < alpha):\n",
    "    print(\"Отвергаем нулевую гипотезу\")\n",
    "else:\n",
    "    print(\"Не получилось отвергнуть нулевую гипотезу\")"
   ]
  },
  {
   "cell_type": "markdown",
   "metadata": {},
   "source": [
    "Нулевая гипотеза отвергнута, значит текущей становится альтернативная, которая говорит о том, что средние пользовательские рейтинги жанров Action и Sports действительно разные."
   ]
  },
  {
   "cell_type": "markdown",
   "metadata": {},
   "source": [
    "### Вывод\n",
    "\n",
    "Было проведено исследование данных о продажах игр, оценках пользователей и экспертов, жанрах и платформах, по результатам которого отметим следующие моменты:\n",
    "\n",
    "В среднем жизненный цикл платформ составляет 10-12 лет. Наиболее актуальный период для анализа данных о продажах игр - 2014-2016 гг., поскольку индустрия компьютерных игр динамична.\n",
    "\n",
    "Оценки критиков влияют на продажи больше, чем оценки пользователей. Но игры с оценками ниже 5 и от тех и от других продаются плохо.\n",
    "\n",
    "По продажам на глобальном рынке лидируют платформы ps4 и xone, а жанры - shooter, sports и platform. \n",
    "\n",
    "На рынках по регионам ситуация немного отличается:\n",
    "\n",
    "В Северной Америке и Европе:\n",
    "- платформы ps4, xone, x360/ps3\n",
    "- жанры shoother, sports, role-playing\n",
    "- рейтинг M, E\n",
    "\n",
    "В Японии:\n",
    "- платформы 3ds, ps4\n",
    "- жанры role-playing, action\n",
    "- рейтинг T (но в целом на рейтинг ESRB ориентироваться не стоит)\n",
    "\n",
    "Исходя из проверки гипотез:\n",
    "- Скорее всего средние пользовательские рейтинги платформ Xbox One и PC одинаковые.\n",
    "- С очень большой вероятностью средние пользовательские рейтинги жанров Action и Sports различаются."
   ]
  }
 ],
 "metadata": {
  "ExecuteTimeLog": [
   {
    "duration": 1216,
    "start_time": "2022-10-17T09:03:23.235Z"
   },
   {
    "duration": 207,
    "start_time": "2022-10-17T09:03:51.159Z"
   },
   {
    "duration": 14,
    "start_time": "2022-10-17T09:04:39.870Z"
   },
   {
    "duration": 5,
    "start_time": "2022-10-17T13:42:12.133Z"
   },
   {
    "duration": 3,
    "start_time": "2022-10-17T13:45:13.151Z"
   },
   {
    "duration": 19,
    "start_time": "2022-10-17T13:52:38.679Z"
   },
   {
    "duration": 9,
    "start_time": "2022-10-17T13:55:32.165Z"
   },
   {
    "duration": 156,
    "start_time": "2022-10-17T13:56:47.444Z"
   },
   {
    "duration": 2,
    "start_time": "2022-10-17T14:25:58.367Z"
   },
   {
    "duration": 20,
    "start_time": "2022-10-17T14:34:00.259Z"
   },
   {
    "duration": 19,
    "start_time": "2022-10-17T14:34:06.658Z"
   },
   {
    "duration": 2,
    "start_time": "2022-10-17T14:35:01.331Z"
   },
   {
    "duration": 72,
    "start_time": "2022-10-17T14:35:01.335Z"
   },
   {
    "duration": 12,
    "start_time": "2022-10-17T14:35:01.408Z"
   },
   {
    "duration": 17,
    "start_time": "2022-10-17T14:35:01.422Z"
   },
   {
    "duration": 37,
    "start_time": "2022-10-17T14:35:01.440Z"
   },
   {
    "duration": 19,
    "start_time": "2022-10-17T14:35:01.478Z"
   },
   {
    "duration": 177,
    "start_time": "2022-10-17T14:35:01.499Z"
   },
   {
    "duration": 19,
    "start_time": "2022-10-17T14:35:01.684Z"
   },
   {
    "duration": 161,
    "start_time": "2022-10-17T14:35:09.802Z"
   },
   {
    "duration": 6,
    "start_time": "2022-10-17T14:36:03.499Z"
   },
   {
    "duration": 3,
    "start_time": "2022-10-17T14:36:15.059Z"
   },
   {
    "duration": 68,
    "start_time": "2022-10-17T14:36:15.065Z"
   },
   {
    "duration": 19,
    "start_time": "2022-10-17T14:36:15.135Z"
   },
   {
    "duration": 4,
    "start_time": "2022-10-17T14:36:15.156Z"
   },
   {
    "duration": 19,
    "start_time": "2022-10-17T14:36:15.161Z"
   },
   {
    "duration": 8,
    "start_time": "2022-10-17T14:36:15.185Z"
   },
   {
    "duration": 159,
    "start_time": "2022-10-17T14:36:15.195Z"
   },
   {
    "duration": 7,
    "start_time": "2022-10-17T14:36:15.356Z"
   },
   {
    "duration": 1304,
    "start_time": "2022-10-17T14:36:38.003Z"
   },
   {
    "duration": 72,
    "start_time": "2022-10-17T14:37:02.771Z"
   },
   {
    "duration": 90,
    "start_time": "2022-10-17T14:37:25.594Z"
   },
   {
    "duration": 65,
    "start_time": "2022-10-17T14:37:31.377Z"
   },
   {
    "duration": 69,
    "start_time": "2022-10-17T14:39:06.442Z"
   },
   {
    "duration": 2,
    "start_time": "2022-10-17T14:39:17.739Z"
   },
   {
    "duration": 65,
    "start_time": "2022-10-17T14:39:17.743Z"
   },
   {
    "duration": 16,
    "start_time": "2022-10-17T14:39:17.809Z"
   },
   {
    "duration": 5,
    "start_time": "2022-10-17T14:39:17.827Z"
   },
   {
    "duration": 24,
    "start_time": "2022-10-17T14:39:17.834Z"
   },
   {
    "duration": 27,
    "start_time": "2022-10-17T14:39:17.859Z"
   },
   {
    "duration": 153,
    "start_time": "2022-10-17T14:39:17.888Z"
   },
   {
    "duration": 73,
    "start_time": "2022-10-17T14:39:18.042Z"
   },
   {
    "duration": 8,
    "start_time": "2022-10-17T14:44:16.001Z"
   },
   {
    "duration": 9,
    "start_time": "2022-10-17T14:46:24.761Z"
   },
   {
    "duration": 12,
    "start_time": "2022-10-17T14:47:05.337Z"
   },
   {
    "duration": 815,
    "start_time": "2022-10-18T16:59:58.252Z"
   },
   {
    "duration": 208,
    "start_time": "2022-10-18T16:59:59.069Z"
   },
   {
    "duration": 13,
    "start_time": "2022-10-18T16:59:59.278Z"
   },
   {
    "duration": 9,
    "start_time": "2022-10-18T16:59:59.293Z"
   },
   {
    "duration": 17,
    "start_time": "2022-10-18T16:59:59.303Z"
   },
   {
    "duration": 8,
    "start_time": "2022-10-18T16:59:59.321Z"
   },
   {
    "duration": 173,
    "start_time": "2022-10-18T16:59:59.330Z"
   },
   {
    "duration": 12,
    "start_time": "2022-10-18T16:59:59.505Z"
   },
   {
    "duration": 13,
    "start_time": "2022-10-18T17:47:43.612Z"
   },
   {
    "duration": 3,
    "start_time": "2022-10-18T17:47:49.633Z"
   },
   {
    "duration": 63,
    "start_time": "2022-10-18T17:47:49.638Z"
   },
   {
    "duration": 12,
    "start_time": "2022-10-18T17:47:49.702Z"
   },
   {
    "duration": 9,
    "start_time": "2022-10-18T17:47:49.715Z"
   },
   {
    "duration": 23,
    "start_time": "2022-10-18T17:47:49.726Z"
   },
   {
    "duration": 7,
    "start_time": "2022-10-18T17:47:49.751Z"
   },
   {
    "duration": 169,
    "start_time": "2022-10-18T17:47:49.760Z"
   },
   {
    "duration": 16,
    "start_time": "2022-10-18T17:47:49.931Z"
   },
   {
    "duration": 9,
    "start_time": "2022-10-18T17:47:49.949Z"
   },
   {
    "duration": 7,
    "start_time": "2022-10-18T18:03:07.299Z"
   },
   {
    "duration": 7,
    "start_time": "2022-10-18T19:00:10.544Z"
   },
   {
    "duration": 68,
    "start_time": "2022-10-18T19:05:32.940Z"
   },
   {
    "duration": 5,
    "start_time": "2022-10-18T19:05:38.238Z"
   },
   {
    "duration": 8,
    "start_time": "2022-10-18T19:06:01.132Z"
   },
   {
    "duration": 8,
    "start_time": "2022-10-18T19:06:26.616Z"
   },
   {
    "duration": 4,
    "start_time": "2022-10-18T19:31:19.882Z"
   },
   {
    "duration": 17,
    "start_time": "2022-10-18T19:32:28.514Z"
   },
   {
    "duration": 9,
    "start_time": "2022-10-18T19:32:41.611Z"
   },
   {
    "duration": 5,
    "start_time": "2022-10-18T19:33:06.139Z"
   },
   {
    "duration": 3,
    "start_time": "2022-10-19T07:14:20.876Z"
   },
   {
    "duration": 112,
    "start_time": "2022-10-19T07:14:20.880Z"
   },
   {
    "duration": 17,
    "start_time": "2022-10-19T07:14:20.994Z"
   },
   {
    "duration": 10,
    "start_time": "2022-10-19T07:14:21.014Z"
   },
   {
    "duration": 40,
    "start_time": "2022-10-19T07:14:21.026Z"
   },
   {
    "duration": 19,
    "start_time": "2022-10-19T07:14:21.067Z"
   },
   {
    "duration": 184,
    "start_time": "2022-10-19T07:14:21.087Z"
   },
   {
    "duration": 19,
    "start_time": "2022-10-19T07:14:21.284Z"
   },
   {
    "duration": 10,
    "start_time": "2022-10-19T07:14:21.304Z"
   },
   {
    "duration": 8,
    "start_time": "2022-10-19T07:14:21.317Z"
   },
   {
    "duration": 8,
    "start_time": "2022-10-19T07:14:21.326Z"
   },
   {
    "duration": 54,
    "start_time": "2022-10-19T07:14:21.336Z"
   },
   {
    "duration": 6,
    "start_time": "2022-10-19T07:14:21.391Z"
   },
   {
    "duration": 12,
    "start_time": "2022-10-19T07:18:32.042Z"
   },
   {
    "duration": 11,
    "start_time": "2022-10-19T07:18:44.642Z"
   },
   {
    "duration": 16,
    "start_time": "2022-10-19T07:24:52.963Z"
   },
   {
    "duration": 19,
    "start_time": "2022-10-19T07:26:36.661Z"
   },
   {
    "duration": 11,
    "start_time": "2022-10-19T07:26:52.889Z"
   },
   {
    "duration": 13,
    "start_time": "2022-10-19T07:45:59.951Z"
   },
   {
    "duration": 23,
    "start_time": "2022-10-19T07:48:05.257Z"
   },
   {
    "duration": 24,
    "start_time": "2022-10-19T07:48:15.001Z"
   },
   {
    "duration": 10,
    "start_time": "2022-10-19T07:50:08.191Z"
   },
   {
    "duration": 5,
    "start_time": "2022-10-19T07:50:21.451Z"
   },
   {
    "duration": 7,
    "start_time": "2022-10-19T07:54:34.966Z"
   },
   {
    "duration": 353,
    "start_time": "2022-10-19T08:13:54.738Z"
   },
   {
    "duration": 299,
    "start_time": "2022-10-19T08:14:02.977Z"
   },
   {
    "duration": 6,
    "start_time": "2022-10-19T09:08:41.076Z"
   },
   {
    "duration": 8,
    "start_time": "2022-10-19T09:09:09.727Z"
   },
   {
    "duration": 7,
    "start_time": "2022-10-19T09:09:18.484Z"
   },
   {
    "duration": 225,
    "start_time": "2022-10-19T09:09:50.684Z"
   },
   {
    "duration": 231,
    "start_time": "2022-10-19T09:10:04.548Z"
   },
   {
    "duration": 243,
    "start_time": "2022-10-19T09:10:23.245Z"
   },
   {
    "duration": 34,
    "start_time": "2022-10-19T09:14:09.624Z"
   },
   {
    "duration": 278,
    "start_time": "2022-10-19T09:14:30.352Z"
   },
   {
    "duration": 286,
    "start_time": "2022-10-19T09:15:16.446Z"
   },
   {
    "duration": 315,
    "start_time": "2022-10-19T09:15:21.677Z"
   },
   {
    "duration": 16,
    "start_time": "2022-10-19T09:20:28.245Z"
   },
   {
    "duration": 17,
    "start_time": "2022-10-19T09:20:39.277Z"
   },
   {
    "duration": 18,
    "start_time": "2022-10-19T09:20:52.045Z"
   },
   {
    "duration": 17,
    "start_time": "2022-10-19T09:21:02.365Z"
   },
   {
    "duration": 17,
    "start_time": "2022-10-19T09:21:34.221Z"
   },
   {
    "duration": 19,
    "start_time": "2022-10-19T09:24:05.196Z"
   },
   {
    "duration": 363,
    "start_time": "2022-10-19T09:24:29.147Z"
   },
   {
    "duration": 6,
    "start_time": "2022-10-19T09:28:05.469Z"
   },
   {
    "duration": 28,
    "start_time": "2022-10-19T09:28:58.558Z"
   },
   {
    "duration": 11,
    "start_time": "2022-10-19T09:29:50.800Z"
   },
   {
    "duration": 20,
    "start_time": "2022-10-19T09:31:24.191Z"
   },
   {
    "duration": 21,
    "start_time": "2022-10-19T10:12:56.943Z"
   },
   {
    "duration": 11,
    "start_time": "2022-10-19T10:15:12.399Z"
   },
   {
    "duration": 289,
    "start_time": "2022-10-19T10:18:03.934Z"
   },
   {
    "duration": 283,
    "start_time": "2022-10-19T10:18:22.777Z"
   },
   {
    "duration": 516,
    "start_time": "2022-10-19T10:19:07.033Z"
   },
   {
    "duration": 44,
    "start_time": "2022-10-19T10:19:19.576Z"
   },
   {
    "duration": 16,
    "start_time": "2022-10-19T10:19:29.784Z"
   },
   {
    "duration": 168,
    "start_time": "2022-10-19T10:20:53.455Z"
   },
   {
    "duration": 181,
    "start_time": "2022-10-19T10:21:28.119Z"
   },
   {
    "duration": 200,
    "start_time": "2022-10-19T10:21:33.477Z"
   },
   {
    "duration": 199,
    "start_time": "2022-10-19T10:21:47.305Z"
   },
   {
    "duration": 309,
    "start_time": "2022-10-19T12:40:37.143Z"
   },
   {
    "duration": 11,
    "start_time": "2022-10-19T12:42:14.198Z"
   },
   {
    "duration": 8,
    "start_time": "2022-10-19T12:42:58.733Z"
   },
   {
    "duration": 11,
    "start_time": "2022-10-19T12:44:29.853Z"
   },
   {
    "duration": 174,
    "start_time": "2022-10-19T12:45:44.860Z"
   },
   {
    "duration": 3,
    "start_time": "2022-10-19T12:45:52.221Z"
   },
   {
    "duration": 89,
    "start_time": "2022-10-19T12:45:52.226Z"
   },
   {
    "duration": 13,
    "start_time": "2022-10-19T12:45:52.316Z"
   },
   {
    "duration": 12,
    "start_time": "2022-10-19T12:45:52.332Z"
   },
   {
    "duration": 22,
    "start_time": "2022-10-19T12:45:52.346Z"
   },
   {
    "duration": 8,
    "start_time": "2022-10-19T12:45:52.385Z"
   },
   {
    "duration": 239,
    "start_time": "2022-10-19T12:45:52.395Z"
   },
   {
    "duration": 17,
    "start_time": "2022-10-19T12:45:52.636Z"
   },
   {
    "duration": 32,
    "start_time": "2022-10-19T12:45:52.654Z"
   },
   {
    "duration": 8,
    "start_time": "2022-10-19T12:45:52.688Z"
   },
   {
    "duration": 21,
    "start_time": "2022-10-19T12:45:52.697Z"
   },
   {
    "duration": 24,
    "start_time": "2022-10-19T12:45:52.720Z"
   },
   {
    "duration": 7,
    "start_time": "2022-10-19T12:45:52.746Z"
   },
   {
    "duration": 40,
    "start_time": "2022-10-19T12:45:52.755Z"
   },
   {
    "duration": 14,
    "start_time": "2022-10-19T12:45:52.797Z"
   },
   {
    "duration": 29,
    "start_time": "2022-10-19T12:45:52.814Z"
   },
   {
    "duration": 314,
    "start_time": "2022-10-19T12:45:52.845Z"
   },
   {
    "duration": 8,
    "start_time": "2022-10-19T12:45:53.160Z"
   },
   {
    "duration": 29,
    "start_time": "2022-10-19T12:45:53.169Z"
   },
   {
    "duration": 186,
    "start_time": "2022-10-19T12:45:53.199Z"
   },
   {
    "duration": 125,
    "start_time": "2022-10-19T12:45:53.387Z"
   },
   {
    "duration": 483,
    "start_time": "2022-10-19T12:46:25.371Z"
   },
   {
    "duration": 139,
    "start_time": "2022-10-19T12:47:22.219Z"
   },
   {
    "duration": 149,
    "start_time": "2022-10-19T12:47:42.787Z"
   },
   {
    "duration": 408,
    "start_time": "2022-10-19T12:48:01.220Z"
   },
   {
    "duration": 552,
    "start_time": "2022-10-19T12:48:09.139Z"
   },
   {
    "duration": 1973,
    "start_time": "2022-10-19T12:50:23.961Z"
   },
   {
    "duration": 144,
    "start_time": "2022-10-19T12:51:43.586Z"
   },
   {
    "duration": 14,
    "start_time": "2022-10-19T12:52:45.688Z"
   },
   {
    "duration": 439,
    "start_time": "2022-10-19T13:07:34.727Z"
   },
   {
    "duration": 2686,
    "start_time": "2022-10-19T13:08:34.696Z"
   },
   {
    "duration": 11,
    "start_time": "2022-10-19T13:09:10.415Z"
   },
   {
    "duration": 3,
    "start_time": "2022-10-19T13:09:16.456Z"
   },
   {
    "duration": 104,
    "start_time": "2022-10-19T13:09:16.461Z"
   },
   {
    "duration": 17,
    "start_time": "2022-10-19T13:09:16.566Z"
   },
   {
    "duration": 18,
    "start_time": "2022-10-19T13:09:16.585Z"
   },
   {
    "duration": 65,
    "start_time": "2022-10-19T13:09:16.605Z"
   },
   {
    "duration": 47,
    "start_time": "2022-10-19T13:09:16.672Z"
   },
   {
    "duration": 176,
    "start_time": "2022-10-19T13:09:16.721Z"
   },
   {
    "duration": 21,
    "start_time": "2022-10-19T13:09:16.899Z"
   },
   {
    "duration": 45,
    "start_time": "2022-10-19T13:09:16.923Z"
   },
   {
    "duration": 36,
    "start_time": "2022-10-19T13:09:16.970Z"
   },
   {
    "duration": 30,
    "start_time": "2022-10-19T13:09:17.009Z"
   },
   {
    "duration": 42,
    "start_time": "2022-10-19T13:09:17.041Z"
   },
   {
    "duration": 29,
    "start_time": "2022-10-19T13:09:17.086Z"
   },
   {
    "duration": 62,
    "start_time": "2022-10-19T13:09:17.116Z"
   },
   {
    "duration": 32,
    "start_time": "2022-10-19T13:09:17.180Z"
   },
   {
    "duration": 34,
    "start_time": "2022-10-19T13:09:17.214Z"
   },
   {
    "duration": 316,
    "start_time": "2022-10-19T13:09:17.250Z"
   },
   {
    "duration": 21,
    "start_time": "2022-10-19T13:09:17.567Z"
   },
   {
    "duration": 62,
    "start_time": "2022-10-19T13:09:17.589Z"
   },
   {
    "duration": 257,
    "start_time": "2022-10-19T13:09:17.653Z"
   },
   {
    "duration": 476,
    "start_time": "2022-10-19T13:09:17.912Z"
   },
   {
    "duration": 10,
    "start_time": "2022-10-19T13:09:18.389Z"
   },
   {
    "duration": 9,
    "start_time": "2022-10-19T13:09:22.718Z"
   },
   {
    "duration": 13,
    "start_time": "2022-10-19T13:16:25.846Z"
   },
   {
    "duration": 10,
    "start_time": "2022-10-19T13:20:53.102Z"
   },
   {
    "duration": 3,
    "start_time": "2022-10-19T13:21:02.303Z"
   },
   {
    "duration": 66,
    "start_time": "2022-10-19T13:21:02.308Z"
   },
   {
    "duration": 11,
    "start_time": "2022-10-19T13:21:02.376Z"
   },
   {
    "duration": 21,
    "start_time": "2022-10-19T13:21:02.389Z"
   },
   {
    "duration": 33,
    "start_time": "2022-10-19T13:21:02.411Z"
   },
   {
    "duration": 8,
    "start_time": "2022-10-19T13:21:07.653Z"
   },
   {
    "duration": 3,
    "start_time": "2022-10-19T13:21:32.245Z"
   },
   {
    "duration": 3,
    "start_time": "2022-10-19T13:21:37.088Z"
   },
   {
    "duration": 71,
    "start_time": "2022-10-19T13:21:37.094Z"
   },
   {
    "duration": 16,
    "start_time": "2022-10-19T13:21:37.166Z"
   },
   {
    "duration": 4,
    "start_time": "2022-10-19T13:21:37.184Z"
   },
   {
    "duration": 24,
    "start_time": "2022-10-19T13:21:37.189Z"
   },
   {
    "duration": 8,
    "start_time": "2022-10-19T13:21:37.214Z"
   },
   {
    "duration": 164,
    "start_time": "2022-10-19T13:21:37.223Z"
   },
   {
    "duration": 17,
    "start_time": "2022-10-19T13:21:37.388Z"
   },
   {
    "duration": 15,
    "start_time": "2022-10-19T13:21:37.407Z"
   },
   {
    "duration": 7,
    "start_time": "2022-10-19T13:21:37.424Z"
   },
   {
    "duration": 7,
    "start_time": "2022-10-19T13:21:37.433Z"
   },
   {
    "duration": 11,
    "start_time": "2022-10-19T13:21:37.441Z"
   },
   {
    "duration": 34,
    "start_time": "2022-10-19T13:21:37.454Z"
   },
   {
    "duration": 5,
    "start_time": "2022-10-19T13:21:41.748Z"
   },
   {
    "duration": 13,
    "start_time": "2022-10-19T13:27:45.644Z"
   },
   {
    "duration": 14,
    "start_time": "2022-10-19T13:36:10.595Z"
   },
   {
    "duration": 3,
    "start_time": "2022-10-19T13:36:26.109Z"
   },
   {
    "duration": 75,
    "start_time": "2022-10-19T13:36:26.114Z"
   },
   {
    "duration": 12,
    "start_time": "2022-10-19T13:36:26.191Z"
   },
   {
    "duration": 6,
    "start_time": "2022-10-19T13:36:26.205Z"
   },
   {
    "duration": 23,
    "start_time": "2022-10-19T13:36:26.213Z"
   },
   {
    "duration": 8,
    "start_time": "2022-10-19T13:36:26.237Z"
   },
   {
    "duration": 178,
    "start_time": "2022-10-19T13:36:26.246Z"
   },
   {
    "duration": 18,
    "start_time": "2022-10-19T13:36:26.425Z"
   },
   {
    "duration": 13,
    "start_time": "2022-10-19T13:36:26.446Z"
   },
   {
    "duration": 30,
    "start_time": "2022-10-19T13:36:26.461Z"
   },
   {
    "duration": 7,
    "start_time": "2022-10-19T13:36:26.492Z"
   },
   {
    "duration": 18,
    "start_time": "2022-10-19T13:36:26.501Z"
   },
   {
    "duration": 5,
    "start_time": "2022-10-19T13:36:26.521Z"
   },
   {
    "duration": 16,
    "start_time": "2022-10-19T13:36:26.527Z"
   },
   {
    "duration": 4,
    "start_time": "2022-10-19T13:36:26.544Z"
   },
   {
    "duration": 13,
    "start_time": "2022-10-19T13:36:26.585Z"
   },
   {
    "duration": 23,
    "start_time": "2022-10-19T13:36:26.599Z"
   },
   {
    "duration": 343,
    "start_time": "2022-10-19T13:36:26.624Z"
   },
   {
    "duration": 9,
    "start_time": "2022-10-19T13:36:26.969Z"
   },
   {
    "duration": 17,
    "start_time": "2022-10-19T13:36:26.986Z"
   },
   {
    "duration": 225,
    "start_time": "2022-10-19T13:36:27.005Z"
   },
   {
    "duration": 21,
    "start_time": "2022-10-19T13:36:29.379Z"
   },
   {
    "duration": 374,
    "start_time": "2022-10-19T13:39:34.131Z"
   },
   {
    "duration": 457,
    "start_time": "2022-10-19T13:39:59.155Z"
   },
   {
    "duration": 24,
    "start_time": "2022-10-19T13:40:28.100Z"
   },
   {
    "duration": 22,
    "start_time": "2022-10-19T13:40:40.163Z"
   },
   {
    "duration": 394,
    "start_time": "2022-10-19T13:41:04.787Z"
   },
   {
    "duration": 35,
    "start_time": "2022-10-19T13:51:55.786Z"
   },
   {
    "duration": 28,
    "start_time": "2022-10-19T14:05:00.747Z"
   },
   {
    "duration": 27,
    "start_time": "2022-10-19T14:05:08.618Z"
   },
   {
    "duration": 93,
    "start_time": "2022-10-19T14:07:24.577Z"
   },
   {
    "duration": 17,
    "start_time": "2022-10-19T14:08:00.424Z"
   },
   {
    "duration": 7,
    "start_time": "2022-10-19T14:09:59.417Z"
   },
   {
    "duration": 379,
    "start_time": "2022-10-19T14:10:21.137Z"
   },
   {
    "duration": 398,
    "start_time": "2022-10-19T14:12:29.828Z"
   },
   {
    "duration": 3,
    "start_time": "2022-10-19T14:12:36.379Z"
   },
   {
    "duration": 84,
    "start_time": "2022-10-19T14:12:36.385Z"
   },
   {
    "duration": 18,
    "start_time": "2022-10-19T14:12:36.471Z"
   },
   {
    "duration": 6,
    "start_time": "2022-10-19T14:12:36.491Z"
   },
   {
    "duration": 27,
    "start_time": "2022-10-19T14:12:36.499Z"
   },
   {
    "duration": 9,
    "start_time": "2022-10-19T14:12:36.527Z"
   },
   {
    "duration": 277,
    "start_time": "2022-10-19T14:12:36.538Z"
   },
   {
    "duration": 21,
    "start_time": "2022-10-19T14:12:36.817Z"
   },
   {
    "duration": 10,
    "start_time": "2022-10-19T14:12:36.840Z"
   },
   {
    "duration": 37,
    "start_time": "2022-10-19T14:12:36.851Z"
   },
   {
    "duration": 27,
    "start_time": "2022-10-19T14:12:36.889Z"
   },
   {
    "duration": 38,
    "start_time": "2022-10-19T14:12:36.918Z"
   },
   {
    "duration": 21,
    "start_time": "2022-10-19T14:12:36.958Z"
   },
   {
    "duration": 51,
    "start_time": "2022-10-19T14:12:36.981Z"
   },
   {
    "duration": 11,
    "start_time": "2022-10-19T14:12:37.034Z"
   },
   {
    "duration": 28,
    "start_time": "2022-10-19T14:12:37.047Z"
   },
   {
    "duration": 44,
    "start_time": "2022-10-19T14:12:37.077Z"
   },
   {
    "duration": 336,
    "start_time": "2022-10-19T14:12:37.123Z"
   },
   {
    "duration": 29,
    "start_time": "2022-10-19T14:12:37.460Z"
   },
   {
    "duration": 23,
    "start_time": "2022-10-19T14:12:37.491Z"
   },
   {
    "duration": 417,
    "start_time": "2022-10-19T14:12:37.516Z"
   },
   {
    "duration": 26,
    "start_time": "2022-10-19T14:12:37.935Z"
   },
   {
    "duration": 44,
    "start_time": "2022-10-19T14:12:37.963Z"
   },
   {
    "duration": 9,
    "start_time": "2022-10-19T14:12:38.009Z"
   },
   {
    "duration": 488,
    "start_time": "2022-10-19T14:12:38.019Z"
   },
   {
    "duration": 1046,
    "start_time": "2022-10-19T14:13:10.841Z"
   },
   {
    "duration": 8,
    "start_time": "2022-10-19T14:13:24.320Z"
   },
   {
    "duration": 832,
    "start_time": "2022-10-19T14:13:25.937Z"
   },
   {
    "duration": 3,
    "start_time": "2022-10-19T14:13:36.355Z"
   },
   {
    "duration": 66,
    "start_time": "2022-10-19T14:13:36.359Z"
   },
   {
    "duration": 14,
    "start_time": "2022-10-19T14:13:36.426Z"
   },
   {
    "duration": 5,
    "start_time": "2022-10-19T14:13:36.442Z"
   },
   {
    "duration": 46,
    "start_time": "2022-10-19T14:13:36.449Z"
   },
   {
    "duration": 11,
    "start_time": "2022-10-19T14:13:36.497Z"
   },
   {
    "duration": 167,
    "start_time": "2022-10-19T14:13:36.510Z"
   },
   {
    "duration": 18,
    "start_time": "2022-10-19T14:13:36.685Z"
   },
   {
    "duration": 11,
    "start_time": "2022-10-19T14:13:36.706Z"
   },
   {
    "duration": 11,
    "start_time": "2022-10-19T14:13:36.719Z"
   },
   {
    "duration": 10,
    "start_time": "2022-10-19T14:13:36.732Z"
   },
   {
    "duration": 50,
    "start_time": "2022-10-19T14:13:36.744Z"
   },
   {
    "duration": 6,
    "start_time": "2022-10-19T14:13:36.796Z"
   },
   {
    "duration": 18,
    "start_time": "2022-10-19T14:13:36.804Z"
   },
   {
    "duration": 3,
    "start_time": "2022-10-19T14:13:36.823Z"
   },
   {
    "duration": 19,
    "start_time": "2022-10-19T14:13:36.828Z"
   },
   {
    "duration": 57,
    "start_time": "2022-10-19T14:13:36.849Z"
   },
   {
    "duration": 457,
    "start_time": "2022-10-19T14:13:36.908Z"
   },
   {
    "duration": 23,
    "start_time": "2022-10-19T14:13:37.367Z"
   },
   {
    "duration": 18,
    "start_time": "2022-10-19T14:13:37.392Z"
   },
   {
    "duration": 391,
    "start_time": "2022-10-19T14:13:37.412Z"
   },
   {
    "duration": 30,
    "start_time": "2022-10-19T14:13:37.805Z"
   },
   {
    "duration": 15,
    "start_time": "2022-10-19T14:13:37.836Z"
   },
   {
    "duration": 33,
    "start_time": "2022-10-19T14:13:37.855Z"
   },
   {
    "duration": 818,
    "start_time": "2022-10-19T14:13:37.890Z"
   },
   {
    "duration": 10,
    "start_time": "2022-10-19T14:16:12.064Z"
   },
   {
    "duration": 8,
    "start_time": "2022-10-19T14:17:32.353Z"
   },
   {
    "duration": 3,
    "start_time": "2022-10-19T14:17:45.242Z"
   },
   {
    "duration": 63,
    "start_time": "2022-10-19T14:17:45.247Z"
   },
   {
    "duration": 12,
    "start_time": "2022-10-19T14:17:45.311Z"
   },
   {
    "duration": 4,
    "start_time": "2022-10-19T14:17:45.325Z"
   },
   {
    "duration": 23,
    "start_time": "2022-10-19T14:17:45.331Z"
   },
   {
    "duration": 33,
    "start_time": "2022-10-19T14:17:45.355Z"
   },
   {
    "duration": 171,
    "start_time": "2022-10-19T14:17:45.390Z"
   },
   {
    "duration": 29,
    "start_time": "2022-10-19T14:17:45.563Z"
   },
   {
    "duration": 10,
    "start_time": "2022-10-19T14:17:45.595Z"
   },
   {
    "duration": 8,
    "start_time": "2022-10-19T14:17:45.607Z"
   },
   {
    "duration": 6,
    "start_time": "2022-10-19T14:17:45.617Z"
   },
   {
    "duration": 11,
    "start_time": "2022-10-19T14:17:45.624Z"
   },
   {
    "duration": 49,
    "start_time": "2022-10-19T14:17:45.637Z"
   },
   {
    "duration": 16,
    "start_time": "2022-10-19T14:17:45.688Z"
   },
   {
    "duration": 3,
    "start_time": "2022-10-19T14:17:45.706Z"
   },
   {
    "duration": 17,
    "start_time": "2022-10-19T14:17:45.711Z"
   },
   {
    "duration": 65,
    "start_time": "2022-10-19T14:17:45.729Z"
   },
   {
    "duration": 402,
    "start_time": "2022-10-19T14:17:45.795Z"
   },
   {
    "duration": 16,
    "start_time": "2022-10-19T14:17:46.199Z"
   },
   {
    "duration": 18,
    "start_time": "2022-10-19T14:17:46.216Z"
   },
   {
    "duration": 435,
    "start_time": "2022-10-19T14:17:46.236Z"
   },
   {
    "duration": 34,
    "start_time": "2022-10-19T14:17:46.672Z"
   },
   {
    "duration": 22,
    "start_time": "2022-10-19T14:17:46.707Z"
   },
   {
    "duration": 15,
    "start_time": "2022-10-19T14:17:46.732Z"
   },
   {
    "duration": 900,
    "start_time": "2022-10-19T14:17:46.748Z"
   },
   {
    "duration": 9,
    "start_time": "2022-10-19T14:18:14.655Z"
   },
   {
    "duration": 3,
    "start_time": "2022-10-19T14:18:18.914Z"
   },
   {
    "duration": 64,
    "start_time": "2022-10-19T14:18:18.918Z"
   },
   {
    "duration": 12,
    "start_time": "2022-10-19T14:18:18.984Z"
   },
   {
    "duration": 4,
    "start_time": "2022-10-19T14:18:18.998Z"
   },
   {
    "duration": 18,
    "start_time": "2022-10-19T14:18:19.004Z"
   },
   {
    "duration": 10,
    "start_time": "2022-10-19T14:18:19.025Z"
   },
   {
    "duration": 218,
    "start_time": "2022-10-19T14:18:19.037Z"
   },
   {
    "duration": 29,
    "start_time": "2022-10-19T14:18:19.257Z"
   },
   {
    "duration": 17,
    "start_time": "2022-10-19T14:18:19.287Z"
   },
   {
    "duration": 9,
    "start_time": "2022-10-19T14:18:19.306Z"
   },
   {
    "duration": 7,
    "start_time": "2022-10-19T14:18:19.317Z"
   },
   {
    "duration": 12,
    "start_time": "2022-10-19T14:18:19.326Z"
   },
   {
    "duration": 8,
    "start_time": "2022-10-19T14:18:19.340Z"
   },
   {
    "duration": 17,
    "start_time": "2022-10-19T14:18:19.385Z"
   },
   {
    "duration": 5,
    "start_time": "2022-10-19T14:18:19.404Z"
   },
   {
    "duration": 20,
    "start_time": "2022-10-19T14:18:19.412Z"
   },
   {
    "duration": 70,
    "start_time": "2022-10-19T14:18:19.435Z"
   },
   {
    "duration": 420,
    "start_time": "2022-10-19T14:18:19.507Z"
   },
   {
    "duration": 16,
    "start_time": "2022-10-19T14:18:19.928Z"
   },
   {
    "duration": 39,
    "start_time": "2022-10-19T14:18:19.946Z"
   },
   {
    "duration": 429,
    "start_time": "2022-10-19T14:18:19.987Z"
   },
   {
    "duration": 30,
    "start_time": "2022-10-19T14:18:20.418Z"
   },
   {
    "duration": 40,
    "start_time": "2022-10-19T14:18:20.449Z"
   },
   {
    "duration": 8,
    "start_time": "2022-10-19T14:18:20.491Z"
   },
   {
    "duration": 10,
    "start_time": "2022-10-19T14:18:20.501Z"
   },
   {
    "duration": 11,
    "start_time": "2022-10-19T14:19:21.632Z"
   },
   {
    "duration": 4,
    "start_time": "2022-10-19T14:19:26.705Z"
   },
   {
    "duration": 71,
    "start_time": "2022-10-19T14:19:26.711Z"
   },
   {
    "duration": 13,
    "start_time": "2022-10-19T14:19:26.784Z"
   },
   {
    "duration": 4,
    "start_time": "2022-10-19T14:19:26.799Z"
   },
   {
    "duration": 19,
    "start_time": "2022-10-19T14:19:26.804Z"
   },
   {
    "duration": 8,
    "start_time": "2022-10-19T14:19:26.825Z"
   },
   {
    "duration": 219,
    "start_time": "2022-10-19T14:19:26.835Z"
   },
   {
    "duration": 37,
    "start_time": "2022-10-19T14:19:27.056Z"
   },
   {
    "duration": 16,
    "start_time": "2022-10-19T14:19:27.095Z"
   },
   {
    "duration": 11,
    "start_time": "2022-10-19T14:19:27.115Z"
   },
   {
    "duration": 9,
    "start_time": "2022-10-19T14:19:27.128Z"
   },
   {
    "duration": 50,
    "start_time": "2022-10-19T14:19:27.140Z"
   },
   {
    "duration": 7,
    "start_time": "2022-10-19T14:19:27.192Z"
   },
   {
    "duration": 19,
    "start_time": "2022-10-19T14:19:27.201Z"
   },
   {
    "duration": 3,
    "start_time": "2022-10-19T14:19:27.222Z"
   },
   {
    "duration": 14,
    "start_time": "2022-10-19T14:19:27.227Z"
   },
   {
    "duration": 60,
    "start_time": "2022-10-19T14:19:27.243Z"
   },
   {
    "duration": 305,
    "start_time": "2022-10-19T14:19:27.304Z"
   },
   {
    "duration": 16,
    "start_time": "2022-10-19T14:19:27.611Z"
   },
   {
    "duration": 19,
    "start_time": "2022-10-19T14:19:27.628Z"
   },
   {
    "duration": 423,
    "start_time": "2022-10-19T14:19:27.649Z"
   },
   {
    "duration": 34,
    "start_time": "2022-10-19T14:19:28.074Z"
   },
   {
    "duration": 20,
    "start_time": "2022-10-19T14:19:28.110Z"
   },
   {
    "duration": 10,
    "start_time": "2022-10-19T14:19:28.132Z"
   },
   {
    "duration": 46,
    "start_time": "2022-10-19T14:19:28.144Z"
   },
   {
    "duration": 3,
    "start_time": "2022-10-19T14:19:35.522Z"
   },
   {
    "duration": 66,
    "start_time": "2022-10-19T14:19:35.527Z"
   },
   {
    "duration": 12,
    "start_time": "2022-10-19T14:19:35.595Z"
   },
   {
    "duration": 5,
    "start_time": "2022-10-19T14:19:35.610Z"
   },
   {
    "duration": 26,
    "start_time": "2022-10-19T14:19:35.616Z"
   },
   {
    "duration": 9,
    "start_time": "2022-10-19T14:19:35.644Z"
   },
   {
    "duration": 187,
    "start_time": "2022-10-19T14:19:35.655Z"
   },
   {
    "duration": 22,
    "start_time": "2022-10-19T14:19:35.844Z"
   },
   {
    "duration": 14,
    "start_time": "2022-10-19T14:19:35.887Z"
   },
   {
    "duration": 10,
    "start_time": "2022-10-19T14:19:35.903Z"
   },
   {
    "duration": 6,
    "start_time": "2022-10-19T14:19:35.915Z"
   },
   {
    "duration": 22,
    "start_time": "2022-10-19T14:19:35.922Z"
   },
   {
    "duration": 40,
    "start_time": "2022-10-19T14:19:35.946Z"
   },
   {
    "duration": 19,
    "start_time": "2022-10-19T14:19:35.989Z"
   },
   {
    "duration": 5,
    "start_time": "2022-10-19T14:19:36.010Z"
   },
   {
    "duration": 19,
    "start_time": "2022-10-19T14:19:36.017Z"
   },
   {
    "duration": 58,
    "start_time": "2022-10-19T14:19:36.038Z"
   },
   {
    "duration": 433,
    "start_time": "2022-10-19T14:19:36.098Z"
   },
   {
    "duration": 16,
    "start_time": "2022-10-19T14:19:36.533Z"
   },
   {
    "duration": 38,
    "start_time": "2022-10-19T14:19:36.551Z"
   },
   {
    "duration": 430,
    "start_time": "2022-10-19T14:19:36.591Z"
   },
   {
    "duration": 38,
    "start_time": "2022-10-19T14:19:37.023Z"
   },
   {
    "duration": 38,
    "start_time": "2022-10-19T14:19:37.063Z"
   },
   {
    "duration": 10,
    "start_time": "2022-10-19T14:19:37.104Z"
   },
   {
    "duration": 14,
    "start_time": "2022-10-19T14:19:37.116Z"
   },
   {
    "duration": 3,
    "start_time": "2022-10-19T18:16:59.650Z"
   },
   {
    "duration": 63,
    "start_time": "2022-10-19T18:16:59.657Z"
   },
   {
    "duration": 15,
    "start_time": "2022-10-19T18:16:59.722Z"
   },
   {
    "duration": 5,
    "start_time": "2022-10-19T18:16:59.739Z"
   },
   {
    "duration": 39,
    "start_time": "2022-10-19T18:16:59.746Z"
   },
   {
    "duration": 10,
    "start_time": "2022-10-19T18:16:59.787Z"
   },
   {
    "duration": 164,
    "start_time": "2022-10-19T18:16:59.799Z"
   },
   {
    "duration": 25,
    "start_time": "2022-10-19T18:16:59.965Z"
   },
   {
    "duration": 10,
    "start_time": "2022-10-19T18:16:59.992Z"
   },
   {
    "duration": 25,
    "start_time": "2022-10-19T18:17:00.004Z"
   },
   {
    "duration": 30,
    "start_time": "2022-10-19T18:17:00.031Z"
   },
   {
    "duration": 21,
    "start_time": "2022-10-19T18:17:00.063Z"
   },
   {
    "duration": 7,
    "start_time": "2022-10-19T18:17:00.085Z"
   },
   {
    "duration": 42,
    "start_time": "2022-10-19T18:17:00.094Z"
   },
   {
    "duration": 8,
    "start_time": "2022-10-19T18:17:00.138Z"
   },
   {
    "duration": 43,
    "start_time": "2022-10-19T18:17:00.147Z"
   },
   {
    "duration": 39,
    "start_time": "2022-10-19T18:17:00.192Z"
   },
   {
    "duration": 320,
    "start_time": "2022-10-19T18:17:00.234Z"
   },
   {
    "duration": 16,
    "start_time": "2022-10-19T18:17:00.555Z"
   },
   {
    "duration": 30,
    "start_time": "2022-10-19T18:17:00.573Z"
   },
   {
    "duration": 408,
    "start_time": "2022-10-19T18:17:00.606Z"
   },
   {
    "duration": 34,
    "start_time": "2022-10-19T18:17:01.017Z"
   },
   {
    "duration": 16,
    "start_time": "2022-10-19T18:17:01.052Z"
   },
   {
    "duration": 10,
    "start_time": "2022-10-19T18:17:01.085Z"
   },
   {
    "duration": 28,
    "start_time": "2022-10-19T18:17:01.097Z"
   },
   {
    "duration": 9,
    "start_time": "2022-10-19T18:27:05.618Z"
   },
   {
    "duration": 3,
    "start_time": "2022-10-19T18:27:11.316Z"
   },
   {
    "duration": 62,
    "start_time": "2022-10-19T18:27:11.321Z"
   },
   {
    "duration": 12,
    "start_time": "2022-10-19T18:27:11.385Z"
   },
   {
    "duration": 4,
    "start_time": "2022-10-19T18:27:11.399Z"
   },
   {
    "duration": 16,
    "start_time": "2022-10-19T18:27:11.405Z"
   },
   {
    "duration": 8,
    "start_time": "2022-10-19T18:27:11.423Z"
   },
   {
    "duration": 190,
    "start_time": "2022-10-19T18:27:11.433Z"
   },
   {
    "duration": 20,
    "start_time": "2022-10-19T18:27:11.624Z"
   },
   {
    "duration": 11,
    "start_time": "2022-10-19T18:27:11.646Z"
   },
   {
    "duration": 30,
    "start_time": "2022-10-19T18:27:11.658Z"
   },
   {
    "duration": 10,
    "start_time": "2022-10-19T18:27:11.691Z"
   },
   {
    "duration": 16,
    "start_time": "2022-10-19T18:27:11.702Z"
   },
   {
    "duration": 6,
    "start_time": "2022-10-19T18:27:11.720Z"
   },
   {
    "duration": 16,
    "start_time": "2022-10-19T18:27:11.728Z"
   },
   {
    "duration": 3,
    "start_time": "2022-10-19T18:27:11.745Z"
   },
   {
    "duration": 37,
    "start_time": "2022-10-19T18:27:11.750Z"
   },
   {
    "duration": 23,
    "start_time": "2022-10-19T18:27:11.789Z"
   },
   {
    "duration": 404,
    "start_time": "2022-10-19T18:27:11.814Z"
   },
   {
    "duration": 17,
    "start_time": "2022-10-19T18:27:12.220Z"
   },
   {
    "duration": 20,
    "start_time": "2022-10-19T18:27:12.239Z"
   },
   {
    "duration": 398,
    "start_time": "2022-10-19T18:27:12.261Z"
   },
   {
    "duration": 35,
    "start_time": "2022-10-19T18:27:12.661Z"
   },
   {
    "duration": 15,
    "start_time": "2022-10-19T18:27:12.698Z"
   },
   {
    "duration": 14,
    "start_time": "2022-10-19T18:27:12.715Z"
   },
   {
    "duration": 19,
    "start_time": "2022-10-19T18:27:12.731Z"
   },
   {
    "duration": 386,
    "start_time": "2022-10-19T18:28:59.133Z"
   },
   {
    "duration": 374,
    "start_time": "2022-10-19T18:29:33.834Z"
   },
   {
    "duration": 31,
    "start_time": "2022-10-19T18:55:48.386Z"
   },
   {
    "duration": 15,
    "start_time": "2022-10-19T18:58:58.325Z"
   },
   {
    "duration": 11,
    "start_time": "2022-10-19T18:59:06.015Z"
   },
   {
    "duration": 31,
    "start_time": "2022-10-19T18:59:50.173Z"
   },
   {
    "duration": 14,
    "start_time": "2022-10-19T19:00:10.756Z"
   },
   {
    "duration": 37,
    "start_time": "2022-10-19T19:00:25.235Z"
   },
   {
    "duration": 14,
    "start_time": "2022-10-19T19:00:28.773Z"
   },
   {
    "duration": 30,
    "start_time": "2022-10-19T19:00:55.152Z"
   },
   {
    "duration": 12,
    "start_time": "2022-10-19T19:01:01.071Z"
   },
   {
    "duration": 23,
    "start_time": "2022-10-19T19:02:40.669Z"
   },
   {
    "duration": 280,
    "start_time": "2022-10-19T19:03:59.919Z"
   },
   {
    "duration": 84,
    "start_time": "2022-10-19T19:05:12.473Z"
   },
   {
    "duration": 374,
    "start_time": "2022-10-19T19:05:17.204Z"
   },
   {
    "duration": 286,
    "start_time": "2022-10-19T19:08:13.777Z"
   },
   {
    "duration": 211,
    "start_time": "2022-10-19T19:09:15.158Z"
   },
   {
    "duration": 3,
    "start_time": "2022-10-19T19:09:25.265Z"
   },
   {
    "duration": 259,
    "start_time": "2022-10-19T19:09:48.094Z"
   },
   {
    "duration": 14,
    "start_time": "2022-10-19T19:23:36.884Z"
   },
   {
    "duration": 214,
    "start_time": "2022-10-19T19:23:59.616Z"
   },
   {
    "duration": 309,
    "start_time": "2022-10-19T19:24:26.872Z"
   },
   {
    "duration": 246,
    "start_time": "2022-10-19T19:24:43.885Z"
   },
   {
    "duration": 17693,
    "start_time": "2022-10-19T19:26:02.851Z"
   },
   {
    "duration": 223,
    "start_time": "2022-10-19T19:26:22.736Z"
   },
   {
    "duration": 23,
    "start_time": "2022-10-19T19:27:07.755Z"
   },
   {
    "duration": 1465,
    "start_time": "2022-10-20T07:23:17.353Z"
   },
   {
    "duration": 88,
    "start_time": "2022-10-20T07:23:18.821Z"
   },
   {
    "duration": 24,
    "start_time": "2022-10-20T07:23:18.910Z"
   },
   {
    "duration": 16,
    "start_time": "2022-10-20T07:23:18.936Z"
   },
   {
    "duration": 28,
    "start_time": "2022-10-20T07:23:18.955Z"
   },
   {
    "duration": 14,
    "start_time": "2022-10-20T07:23:18.985Z"
   },
   {
    "duration": 233,
    "start_time": "2022-10-20T07:23:19.001Z"
   },
   {
    "duration": 34,
    "start_time": "2022-10-20T07:23:19.237Z"
   },
   {
    "duration": 18,
    "start_time": "2022-10-20T07:23:19.274Z"
   },
   {
    "duration": 10,
    "start_time": "2022-10-20T07:23:19.294Z"
   },
   {
    "duration": 18,
    "start_time": "2022-10-20T07:23:19.307Z"
   },
   {
    "duration": 35,
    "start_time": "2022-10-20T07:23:19.327Z"
   },
   {
    "duration": 7,
    "start_time": "2022-10-20T07:23:19.364Z"
   },
   {
    "duration": 23,
    "start_time": "2022-10-20T07:23:19.374Z"
   },
   {
    "duration": 5,
    "start_time": "2022-10-20T07:23:19.398Z"
   },
   {
    "duration": 22,
    "start_time": "2022-10-20T07:23:19.404Z"
   },
   {
    "duration": 25,
    "start_time": "2022-10-20T07:23:19.454Z"
   },
   {
    "duration": 360,
    "start_time": "2022-10-20T07:23:19.481Z"
   },
   {
    "duration": 24,
    "start_time": "2022-10-20T07:23:19.843Z"
   },
   {
    "duration": 24,
    "start_time": "2022-10-20T07:23:19.869Z"
   },
   {
    "duration": 554,
    "start_time": "2022-10-20T07:23:19.895Z"
   },
   {
    "duration": 37,
    "start_time": "2022-10-20T07:23:20.451Z"
   },
   {
    "duration": 19,
    "start_time": "2022-10-20T07:23:20.489Z"
   },
   {
    "duration": 8,
    "start_time": "2022-10-20T07:23:20.510Z"
   },
   {
    "duration": 506,
    "start_time": "2022-10-20T07:23:20.520Z"
   },
   {
    "duration": 41,
    "start_time": "2022-10-20T07:23:21.028Z"
   },
   {
    "duration": 24,
    "start_time": "2022-10-20T07:23:21.071Z"
   },
   {
    "duration": 368,
    "start_time": "2022-10-20T07:23:21.096Z"
   },
   {
    "duration": 3,
    "start_time": "2022-10-20T07:33:44.635Z"
   },
   {
    "duration": 64,
    "start_time": "2022-10-20T07:33:44.640Z"
   },
   {
    "duration": 13,
    "start_time": "2022-10-20T07:33:44.706Z"
   },
   {
    "duration": 8,
    "start_time": "2022-10-20T07:33:44.721Z"
   },
   {
    "duration": 36,
    "start_time": "2022-10-20T07:33:44.730Z"
   },
   {
    "duration": 10,
    "start_time": "2022-10-20T07:33:44.768Z"
   },
   {
    "duration": 181,
    "start_time": "2022-10-20T07:33:44.779Z"
   },
   {
    "duration": 19,
    "start_time": "2022-10-20T07:33:44.962Z"
   },
   {
    "duration": 11,
    "start_time": "2022-10-20T07:33:44.984Z"
   },
   {
    "duration": 9,
    "start_time": "2022-10-20T07:33:44.997Z"
   },
   {
    "duration": 10,
    "start_time": "2022-10-20T07:33:45.008Z"
   },
   {
    "duration": 42,
    "start_time": "2022-10-20T07:33:45.020Z"
   },
   {
    "duration": 10,
    "start_time": "2022-10-20T07:33:45.064Z"
   },
   {
    "duration": 22,
    "start_time": "2022-10-20T07:33:45.076Z"
   },
   {
    "duration": 5,
    "start_time": "2022-10-20T07:33:45.099Z"
   },
   {
    "duration": 23,
    "start_time": "2022-10-20T07:33:45.106Z"
   },
   {
    "duration": 43,
    "start_time": "2022-10-20T07:33:45.131Z"
   },
   {
    "duration": 338,
    "start_time": "2022-10-20T07:33:45.175Z"
   },
   {
    "duration": 19,
    "start_time": "2022-10-20T07:33:45.516Z"
   },
   {
    "duration": 45,
    "start_time": "2022-10-20T07:33:45.537Z"
   },
   {
    "duration": 444,
    "start_time": "2022-10-20T07:33:45.584Z"
   },
   {
    "duration": 41,
    "start_time": "2022-10-20T07:33:46.029Z"
   },
   {
    "duration": 16,
    "start_time": "2022-10-20T07:33:46.073Z"
   },
   {
    "duration": 7,
    "start_time": "2022-10-20T07:33:46.093Z"
   },
   {
    "duration": 434,
    "start_time": "2022-10-20T07:33:46.101Z"
   },
   {
    "duration": 44,
    "start_time": "2022-10-20T07:33:46.537Z"
   },
   {
    "duration": 44,
    "start_time": "2022-10-20T07:33:46.583Z"
   },
   {
    "duration": 253,
    "start_time": "2022-10-20T07:33:46.629Z"
   },
   {
    "duration": 438,
    "start_time": "2022-10-20T08:01:01.563Z"
   },
   {
    "duration": 333,
    "start_time": "2022-10-20T08:01:12.451Z"
   },
   {
    "duration": 261,
    "start_time": "2022-10-20T08:01:24.290Z"
   },
   {
    "duration": 321,
    "start_time": "2022-10-20T08:01:37.154Z"
   },
   {
    "duration": 368,
    "start_time": "2022-10-20T08:02:01.572Z"
   },
   {
    "duration": 388,
    "start_time": "2022-10-20T08:03:32.498Z"
   },
   {
    "duration": 277,
    "start_time": "2022-10-20T08:06:50.673Z"
   },
   {
    "duration": 325,
    "start_time": "2022-10-20T08:07:01.970Z"
   },
   {
    "duration": 297,
    "start_time": "2022-10-20T08:07:11.114Z"
   },
   {
    "duration": 306,
    "start_time": "2022-10-20T08:07:25.937Z"
   },
   {
    "duration": 282,
    "start_time": "2022-10-20T08:07:34.809Z"
   },
   {
    "duration": 432,
    "start_time": "2022-10-20T08:07:40.001Z"
   },
   {
    "duration": 366,
    "start_time": "2022-10-20T08:07:50.874Z"
   },
   {
    "duration": 282,
    "start_time": "2022-10-20T08:08:04.178Z"
   },
   {
    "duration": 324,
    "start_time": "2022-10-20T08:08:10.530Z"
   },
   {
    "duration": 286,
    "start_time": "2022-10-20T08:08:28.577Z"
   },
   {
    "duration": 56,
    "start_time": "2022-10-20T08:13:05.681Z"
   },
   {
    "duration": 502,
    "start_time": "2022-10-20T08:13:14.017Z"
   },
   {
    "duration": 293,
    "start_time": "2022-10-20T08:13:40.825Z"
   },
   {
    "duration": 383,
    "start_time": "2022-10-20T08:13:59.521Z"
   },
   {
    "duration": 277,
    "start_time": "2022-10-20T08:14:47.721Z"
   },
   {
    "duration": 267,
    "start_time": "2022-10-20T08:17:50.929Z"
   },
   {
    "duration": 271,
    "start_time": "2022-10-20T08:18:05.872Z"
   },
   {
    "duration": 393,
    "start_time": "2022-10-20T08:18:22.192Z"
   },
   {
    "duration": 267,
    "start_time": "2022-10-20T08:18:43.136Z"
   },
   {
    "duration": 292,
    "start_time": "2022-10-20T08:19:00.441Z"
   },
   {
    "duration": 282,
    "start_time": "2022-10-20T08:19:15.112Z"
   },
   {
    "duration": 270,
    "start_time": "2022-10-20T08:19:22.944Z"
   },
   {
    "duration": 381,
    "start_time": "2022-10-20T08:19:29.544Z"
   },
   {
    "duration": 256,
    "start_time": "2022-10-20T08:19:42.064Z"
   },
   {
    "duration": 286,
    "start_time": "2022-10-20T08:19:55.296Z"
   },
   {
    "duration": 267,
    "start_time": "2022-10-20T08:20:13.392Z"
   },
   {
    "duration": 284,
    "start_time": "2022-10-20T08:26:21.929Z"
   },
   {
    "duration": 272,
    "start_time": "2022-10-20T08:26:42.719Z"
   },
   {
    "duration": 757,
    "start_time": "2022-10-20T08:44:20.247Z"
   },
   {
    "duration": 28,
    "start_time": "2022-10-20T08:45:10.406Z"
   },
   {
    "duration": 126,
    "start_time": "2022-10-20T08:46:29.991Z"
   },
   {
    "duration": 798,
    "start_time": "2022-10-20T08:47:21.087Z"
   },
   {
    "duration": 978,
    "start_time": "2022-10-20T08:47:48.454Z"
   },
   {
    "duration": 3,
    "start_time": "2022-10-20T08:48:07.200Z"
   },
   {
    "duration": 62,
    "start_time": "2022-10-20T08:48:07.205Z"
   },
   {
    "duration": 17,
    "start_time": "2022-10-20T08:48:07.269Z"
   },
   {
    "duration": 10,
    "start_time": "2022-10-20T08:48:07.287Z"
   },
   {
    "duration": 25,
    "start_time": "2022-10-20T08:48:07.299Z"
   },
   {
    "duration": 9,
    "start_time": "2022-10-20T08:48:07.326Z"
   },
   {
    "duration": 169,
    "start_time": "2022-10-20T08:48:07.353Z"
   },
   {
    "duration": 30,
    "start_time": "2022-10-20T08:48:07.524Z"
   },
   {
    "duration": 11,
    "start_time": "2022-10-20T08:48:07.556Z"
   },
   {
    "duration": 9,
    "start_time": "2022-10-20T08:48:07.569Z"
   },
   {
    "duration": 22,
    "start_time": "2022-10-20T08:48:07.579Z"
   },
   {
    "duration": 18,
    "start_time": "2022-10-20T08:48:07.602Z"
   },
   {
    "duration": 12,
    "start_time": "2022-10-20T08:48:07.623Z"
   },
   {
    "duration": 27,
    "start_time": "2022-10-20T08:48:07.637Z"
   },
   {
    "duration": 3,
    "start_time": "2022-10-20T08:48:07.666Z"
   },
   {
    "duration": 23,
    "start_time": "2022-10-20T08:48:07.671Z"
   },
   {
    "duration": 33,
    "start_time": "2022-10-20T08:48:07.696Z"
   },
   {
    "duration": 332,
    "start_time": "2022-10-20T08:48:07.731Z"
   },
   {
    "duration": 17,
    "start_time": "2022-10-20T08:48:08.064Z"
   },
   {
    "duration": 28,
    "start_time": "2022-10-20T08:48:08.083Z"
   },
   {
    "duration": 447,
    "start_time": "2022-10-20T08:48:08.113Z"
   },
   {
    "duration": 32,
    "start_time": "2022-10-20T08:48:08.561Z"
   },
   {
    "duration": 17,
    "start_time": "2022-10-20T08:48:08.595Z"
   },
   {
    "duration": 7,
    "start_time": "2022-10-20T08:48:08.614Z"
   },
   {
    "duration": 443,
    "start_time": "2022-10-20T08:48:08.622Z"
   },
   {
    "duration": 33,
    "start_time": "2022-10-20T08:48:09.067Z"
   },
   {
    "duration": 23,
    "start_time": "2022-10-20T08:48:09.101Z"
   },
   {
    "duration": 267,
    "start_time": "2022-10-20T08:48:09.126Z"
   },
   {
    "duration": 742,
    "start_time": "2022-10-20T08:48:12.285Z"
   },
   {
    "duration": 985,
    "start_time": "2022-10-20T08:48:43.813Z"
   },
   {
    "duration": 876,
    "start_time": "2022-10-20T08:49:02.398Z"
   },
   {
    "duration": 20,
    "start_time": "2022-10-20T09:04:57.836Z"
   },
   {
    "duration": 15,
    "start_time": "2022-10-20T09:05:08.333Z"
   },
   {
    "duration": 134,
    "start_time": "2022-10-20T09:07:10.329Z"
   },
   {
    "duration": 242,
    "start_time": "2022-10-20T09:07:16.716Z"
   },
   {
    "duration": 134,
    "start_time": "2022-10-20T09:09:06.452Z"
   },
   {
    "duration": 3,
    "start_time": "2022-10-20T09:09:19.094Z"
   },
   {
    "duration": 64,
    "start_time": "2022-10-20T09:09:19.099Z"
   },
   {
    "duration": 16,
    "start_time": "2022-10-20T09:09:19.165Z"
   },
   {
    "duration": 5,
    "start_time": "2022-10-20T09:09:19.184Z"
   },
   {
    "duration": 25,
    "start_time": "2022-10-20T09:09:19.191Z"
   },
   {
    "duration": 42,
    "start_time": "2022-10-20T09:09:19.218Z"
   },
   {
    "duration": 182,
    "start_time": "2022-10-20T09:09:19.262Z"
   },
   {
    "duration": 27,
    "start_time": "2022-10-20T09:09:19.446Z"
   },
   {
    "duration": 14,
    "start_time": "2022-10-20T09:09:19.476Z"
   },
   {
    "duration": 18,
    "start_time": "2022-10-20T09:09:19.492Z"
   },
   {
    "duration": 11,
    "start_time": "2022-10-20T09:09:19.512Z"
   },
   {
    "duration": 38,
    "start_time": "2022-10-20T09:09:19.525Z"
   },
   {
    "duration": 16,
    "start_time": "2022-10-20T09:09:19.565Z"
   },
   {
    "duration": 27,
    "start_time": "2022-10-20T09:09:19.584Z"
   },
   {
    "duration": 5,
    "start_time": "2022-10-20T09:09:19.613Z"
   },
   {
    "duration": 44,
    "start_time": "2022-10-20T09:09:19.620Z"
   },
   {
    "duration": 30,
    "start_time": "2022-10-20T09:09:19.666Z"
   },
   {
    "duration": 382,
    "start_time": "2022-10-20T09:09:19.697Z"
   },
   {
    "duration": 21,
    "start_time": "2022-10-20T09:09:20.081Z"
   },
   {
    "duration": 29,
    "start_time": "2022-10-20T09:09:20.104Z"
   },
   {
    "duration": 499,
    "start_time": "2022-10-20T09:09:20.155Z"
   },
   {
    "duration": 35,
    "start_time": "2022-10-20T09:09:20.657Z"
   },
   {
    "duration": 31,
    "start_time": "2022-10-20T09:09:20.694Z"
   },
   {
    "duration": 29,
    "start_time": "2022-10-20T09:09:20.728Z"
   },
   {
    "duration": 455,
    "start_time": "2022-10-20T09:09:20.759Z"
   },
   {
    "duration": 54,
    "start_time": "2022-10-20T09:09:21.217Z"
   },
   {
    "duration": 25,
    "start_time": "2022-10-20T09:09:21.272Z"
   },
   {
    "duration": 447,
    "start_time": "2022-10-20T09:09:21.299Z"
   },
   {
    "duration": 300,
    "start_time": "2022-10-20T09:09:21.748Z"
   },
   {
    "duration": 133,
    "start_time": "2022-10-20T09:09:27.868Z"
   },
   {
    "duration": 130,
    "start_time": "2022-10-20T09:11:59.340Z"
   },
   {
    "duration": 131,
    "start_time": "2022-10-20T09:12:05.051Z"
   },
   {
    "duration": 11,
    "start_time": "2022-10-20T09:13:44.796Z"
   },
   {
    "duration": 171,
    "start_time": "2022-10-20T09:16:40.402Z"
   },
   {
    "duration": 3206,
    "start_time": "2022-10-20T09:17:28.659Z"
   },
   {
    "duration": 9,
    "start_time": "2022-10-20T09:17:50.836Z"
   },
   {
    "duration": 15,
    "start_time": "2022-10-20T09:19:06.939Z"
   },
   {
    "duration": 928,
    "start_time": "2022-10-20T09:19:15.490Z"
   },
   {
    "duration": 822,
    "start_time": "2022-10-20T09:19:20.858Z"
   },
   {
    "duration": 297,
    "start_time": "2022-10-20T09:19:52.732Z"
   },
   {
    "duration": 874,
    "start_time": "2022-10-20T09:20:03.447Z"
   },
   {
    "duration": 619,
    "start_time": "2022-10-20T09:20:15.746Z"
   },
   {
    "duration": 543,
    "start_time": "2022-10-20T09:20:25.732Z"
   },
   {
    "duration": 911,
    "start_time": "2022-10-20T09:21:11.306Z"
   },
   {
    "duration": 322,
    "start_time": "2022-10-20T09:23:25.786Z"
   },
   {
    "duration": 357,
    "start_time": "2022-10-20T09:23:41.858Z"
   },
   {
    "duration": 421,
    "start_time": "2022-10-20T09:23:50.137Z"
   },
   {
    "duration": 364,
    "start_time": "2022-10-20T09:24:42.090Z"
   },
   {
    "duration": 344,
    "start_time": "2022-10-20T09:24:49.522Z"
   },
   {
    "duration": 333,
    "start_time": "2022-10-20T09:25:52.402Z"
   },
   {
    "duration": 176,
    "start_time": "2022-10-20T09:26:22.297Z"
   },
   {
    "duration": 180,
    "start_time": "2022-10-20T09:26:53.281Z"
   },
   {
    "duration": 166,
    "start_time": "2022-10-20T09:27:50.372Z"
   },
   {
    "duration": 163,
    "start_time": "2022-10-20T09:28:05.273Z"
   },
   {
    "duration": 6,
    "start_time": "2022-10-20T09:32:39.634Z"
   },
   {
    "duration": 283,
    "start_time": "2022-10-20T09:32:48.809Z"
   },
   {
    "duration": 127,
    "start_time": "2022-10-20T09:53:22.846Z"
   },
   {
    "duration": 23,
    "start_time": "2022-10-20T10:01:47.211Z"
   },
   {
    "duration": 14,
    "start_time": "2022-10-20T10:02:12.790Z"
   },
   {
    "duration": 66,
    "start_time": "2022-10-20T10:02:28.974Z"
   },
   {
    "duration": 26,
    "start_time": "2022-10-20T10:03:19.742Z"
   },
   {
    "duration": 8,
    "start_time": "2022-10-20T10:03:33.733Z"
   },
   {
    "duration": 52,
    "start_time": "2022-10-20T10:04:34.654Z"
   },
   {
    "duration": 12,
    "start_time": "2022-10-20T10:06:33.373Z"
   },
   {
    "duration": 21,
    "start_time": "2022-10-20T10:17:18.363Z"
   },
   {
    "duration": 4,
    "start_time": "2022-10-20T10:17:24.533Z"
   },
   {
    "duration": 70,
    "start_time": "2022-10-20T10:17:24.540Z"
   },
   {
    "duration": 15,
    "start_time": "2022-10-20T10:17:24.612Z"
   },
   {
    "duration": 23,
    "start_time": "2022-10-20T10:17:24.629Z"
   },
   {
    "duration": 43,
    "start_time": "2022-10-20T10:17:24.654Z"
   },
   {
    "duration": 23,
    "start_time": "2022-10-20T10:17:24.699Z"
   },
   {
    "duration": 175,
    "start_time": "2022-10-20T10:17:24.724Z"
   },
   {
    "duration": 22,
    "start_time": "2022-10-20T10:17:24.901Z"
   },
   {
    "duration": 33,
    "start_time": "2022-10-20T10:17:24.927Z"
   },
   {
    "duration": 31,
    "start_time": "2022-10-20T10:17:24.962Z"
   },
   {
    "duration": 24,
    "start_time": "2022-10-20T10:17:24.996Z"
   },
   {
    "duration": 24,
    "start_time": "2022-10-20T10:17:25.022Z"
   },
   {
    "duration": 21,
    "start_time": "2022-10-20T10:17:25.048Z"
   },
   {
    "duration": 31,
    "start_time": "2022-10-20T10:17:25.071Z"
   },
   {
    "duration": 6,
    "start_time": "2022-10-20T10:17:25.105Z"
   },
   {
    "duration": 33,
    "start_time": "2022-10-20T10:17:25.114Z"
   },
   {
    "duration": 29,
    "start_time": "2022-10-20T10:17:25.149Z"
   },
   {
    "duration": 374,
    "start_time": "2022-10-20T10:17:25.180Z"
   },
   {
    "duration": 23,
    "start_time": "2022-10-20T10:17:25.556Z"
   },
   {
    "duration": 45,
    "start_time": "2022-10-20T10:17:25.581Z"
   },
   {
    "duration": 474,
    "start_time": "2022-10-20T10:17:25.628Z"
   },
   {
    "duration": 33,
    "start_time": "2022-10-20T10:17:26.104Z"
   },
   {
    "duration": 31,
    "start_time": "2022-10-20T10:17:26.139Z"
   },
   {
    "duration": 8,
    "start_time": "2022-10-20T10:17:26.174Z"
   },
   {
    "duration": 525,
    "start_time": "2022-10-20T10:17:26.185Z"
   },
   {
    "duration": 46,
    "start_time": "2022-10-20T10:17:26.712Z"
   },
   {
    "duration": 25,
    "start_time": "2022-10-20T10:17:26.760Z"
   },
   {
    "duration": 399,
    "start_time": "2022-10-20T10:17:26.788Z"
   },
   {
    "duration": 297,
    "start_time": "2022-10-20T10:17:27.189Z"
   },
   {
    "duration": 197,
    "start_time": "2022-10-20T10:17:27.488Z"
   },
   {
    "duration": 179,
    "start_time": "2022-10-20T10:17:27.687Z"
   },
   {
    "duration": 13,
    "start_time": "2022-10-20T10:17:27.868Z"
   },
   {
    "duration": 24,
    "start_time": "2022-10-20T10:17:27.883Z"
   },
   {
    "duration": 22,
    "start_time": "2022-10-20T10:17:49.652Z"
   },
   {
    "duration": 23,
    "start_time": "2022-10-20T10:17:58.628Z"
   },
   {
    "duration": 21,
    "start_time": "2022-10-20T10:18:13.901Z"
   },
   {
    "duration": 19,
    "start_time": "2022-10-20T10:18:51.308Z"
   },
   {
    "duration": 23,
    "start_time": "2022-10-20T10:18:56.612Z"
   },
   {
    "duration": 29,
    "start_time": "2022-10-20T10:29:34.548Z"
   },
   {
    "duration": 22,
    "start_time": "2022-10-20T10:29:58.555Z"
   },
   {
    "duration": 22,
    "start_time": "2022-10-20T10:30:07.594Z"
   },
   {
    "duration": 24,
    "start_time": "2022-10-20T10:30:31.132Z"
   },
   {
    "duration": 23,
    "start_time": "2022-10-20T10:30:44.882Z"
   },
   {
    "duration": 22,
    "start_time": "2022-10-20T10:31:30.274Z"
   },
   {
    "duration": 25,
    "start_time": "2022-10-20T10:32:01.798Z"
   },
   {
    "duration": 19,
    "start_time": "2022-10-20T10:33:02.059Z"
   },
   {
    "duration": 27,
    "start_time": "2022-10-20T10:33:20.282Z"
   },
   {
    "duration": 21,
    "start_time": "2022-10-20T10:33:26.282Z"
   },
   {
    "duration": 24,
    "start_time": "2022-10-20T10:33:44.403Z"
   },
   {
    "duration": 25,
    "start_time": "2022-10-20T10:35:56.210Z"
   },
   {
    "duration": 36,
    "start_time": "2022-10-20T10:38:30.514Z"
   },
   {
    "duration": 12,
    "start_time": "2022-10-20T10:39:32.395Z"
   },
   {
    "duration": 11,
    "start_time": "2022-10-20T10:39:39.658Z"
   },
   {
    "duration": 6,
    "start_time": "2022-10-20T10:40:04.346Z"
   },
   {
    "duration": 6,
    "start_time": "2022-10-20T10:41:21.258Z"
   },
   {
    "duration": 7,
    "start_time": "2022-10-20T11:44:57.759Z"
   },
   {
    "duration": 7,
    "start_time": "2022-10-20T11:45:02.384Z"
   },
   {
    "duration": 11,
    "start_time": "2022-10-20T11:51:41.838Z"
   },
   {
    "duration": 178,
    "start_time": "2022-10-20T11:51:50.334Z"
   },
   {
    "duration": 190,
    "start_time": "2022-10-20T11:52:00.975Z"
   },
   {
    "duration": 181,
    "start_time": "2022-10-20T11:54:07.991Z"
   },
   {
    "duration": 172,
    "start_time": "2022-10-20T11:58:04.751Z"
   },
   {
    "duration": 279,
    "start_time": "2022-10-20T11:58:52.606Z"
   },
   {
    "duration": 62,
    "start_time": "2022-10-20T11:59:16.911Z"
   },
   {
    "duration": 10,
    "start_time": "2022-10-20T11:59:24.813Z"
   },
   {
    "duration": 212,
    "start_time": "2022-10-20T11:59:57.814Z"
   },
   {
    "duration": 428,
    "start_time": "2022-10-20T12:00:11.494Z"
   },
   {
    "duration": 202,
    "start_time": "2022-10-20T12:00:15.974Z"
   },
   {
    "duration": 1342,
    "start_time": "2022-10-20T12:11:18.932Z"
   },
   {
    "duration": 1394,
    "start_time": "2022-10-20T12:11:34.700Z"
   },
   {
    "duration": 1325,
    "start_time": "2022-10-20T12:11:44.140Z"
   },
   {
    "duration": 1480,
    "start_time": "2022-10-20T12:11:52.717Z"
   },
   {
    "duration": 17,
    "start_time": "2022-10-20T12:55:15.644Z"
   },
   {
    "duration": 15,
    "start_time": "2022-10-20T12:56:35.834Z"
   },
   {
    "duration": 16,
    "start_time": "2022-10-20T12:57:31.961Z"
   },
   {
    "duration": 8,
    "start_time": "2022-10-20T13:01:05.000Z"
   },
   {
    "duration": 575,
    "start_time": "2022-10-20T13:01:58.208Z"
   },
   {
    "duration": 8,
    "start_time": "2022-10-20T13:04:27.545Z"
   },
   {
    "duration": 310,
    "start_time": "2022-10-20T13:04:54.144Z"
   },
   {
    "duration": 22,
    "start_time": "2022-10-20T13:06:53.991Z"
   },
   {
    "duration": 318,
    "start_time": "2022-10-20T13:07:19.711Z"
   },
   {
    "duration": 6,
    "start_time": "2022-10-20T13:08:13.024Z"
   },
   {
    "duration": 4,
    "start_time": "2022-10-20T13:08:19.167Z"
   },
   {
    "duration": 5,
    "start_time": "2022-10-20T13:08:25.631Z"
   },
   {
    "duration": 4,
    "start_time": "2022-10-20T13:08:28.526Z"
   },
   {
    "duration": 314,
    "start_time": "2022-10-20T13:10:28.528Z"
   },
   {
    "duration": 420,
    "start_time": "2022-10-20T13:10:36.496Z"
   },
   {
    "duration": 306,
    "start_time": "2022-10-20T13:10:59.792Z"
   },
   {
    "duration": 286,
    "start_time": "2022-10-20T13:13:34.839Z"
   },
   {
    "duration": 348,
    "start_time": "2022-10-20T13:13:40.399Z"
   },
   {
    "duration": 309,
    "start_time": "2022-10-20T13:13:48.568Z"
   },
   {
    "duration": 319,
    "start_time": "2022-10-20T13:14:56.255Z"
   },
   {
    "duration": 313,
    "start_time": "2022-10-20T13:16:28.055Z"
   },
   {
    "duration": 499,
    "start_time": "2022-10-20T13:16:33.496Z"
   },
   {
    "duration": 316,
    "start_time": "2022-10-20T13:17:00.055Z"
   },
   {
    "duration": 10,
    "start_time": "2022-10-20T13:41:57.023Z"
   },
   {
    "duration": 319,
    "start_time": "2022-10-20T13:42:40.980Z"
   },
   {
    "duration": 9,
    "start_time": "2022-10-20T13:53:04.282Z"
   },
   {
    "duration": 295,
    "start_time": "2022-10-20T13:53:33.530Z"
   },
   {
    "duration": 8,
    "start_time": "2022-10-20T13:58:28.785Z"
   },
   {
    "duration": 334,
    "start_time": "2022-10-20T13:58:31.920Z"
   },
   {
    "duration": 4,
    "start_time": "2022-10-20T14:10:39.816Z"
   },
   {
    "duration": 391,
    "start_time": "2022-10-20T14:10:41.559Z"
   },
   {
    "duration": 7,
    "start_time": "2022-10-20T14:18:34.750Z"
   },
   {
    "duration": 24,
    "start_time": "2022-10-20T14:19:17.158Z"
   },
   {
    "duration": 24,
    "start_time": "2022-10-20T14:19:21.214Z"
   },
   {
    "duration": 5,
    "start_time": "2022-10-20T14:19:25.030Z"
   },
   {
    "duration": 5,
    "start_time": "2022-10-20T14:41:03.906Z"
   },
   {
    "duration": 5,
    "start_time": "2022-10-20T14:46:42.345Z"
   },
   {
    "duration": 5,
    "start_time": "2022-10-20T14:46:56.426Z"
   },
   {
    "duration": 53,
    "start_time": "2022-10-20T14:47:09.641Z"
   },
   {
    "duration": 5,
    "start_time": "2022-10-20T14:47:15.577Z"
   },
   {
    "duration": 6,
    "start_time": "2022-10-20T14:48:14.672Z"
   },
   {
    "duration": 4,
    "start_time": "2022-10-20T14:48:33.393Z"
   },
   {
    "duration": 58,
    "start_time": "2022-10-20T14:49:29.000Z"
   },
   {
    "duration": 13,
    "start_time": "2022-10-20T14:49:36.376Z"
   },
   {
    "duration": 11,
    "start_time": "2022-10-20T14:50:18.752Z"
   },
   {
    "duration": 7,
    "start_time": "2022-10-20T14:50:28.448Z"
   },
   {
    "duration": 4,
    "start_time": "2022-10-20T14:50:31.200Z"
   },
   {
    "duration": 7,
    "start_time": "2022-10-20T14:50:33.920Z"
   },
   {
    "duration": 5,
    "start_time": "2022-10-20T14:51:41.945Z"
   },
   {
    "duration": 6,
    "start_time": "2022-10-20T14:54:54.424Z"
   },
   {
    "duration": 6,
    "start_time": "2022-10-20T14:55:56.824Z"
   },
   {
    "duration": 3,
    "start_time": "2022-10-20T14:56:22.235Z"
   },
   {
    "duration": 59,
    "start_time": "2022-10-20T14:56:22.240Z"
   },
   {
    "duration": 15,
    "start_time": "2022-10-20T14:56:22.300Z"
   },
   {
    "duration": 13,
    "start_time": "2022-10-20T14:56:22.317Z"
   },
   {
    "duration": 40,
    "start_time": "2022-10-20T14:56:22.332Z"
   },
   {
    "duration": 9,
    "start_time": "2022-10-20T14:56:22.374Z"
   },
   {
    "duration": 190,
    "start_time": "2022-10-20T14:56:22.385Z"
   },
   {
    "duration": 20,
    "start_time": "2022-10-20T14:56:22.577Z"
   },
   {
    "duration": 12,
    "start_time": "2022-10-20T14:56:22.600Z"
   },
   {
    "duration": 11,
    "start_time": "2022-10-20T14:56:22.614Z"
   },
   {
    "duration": 36,
    "start_time": "2022-10-20T14:56:22.627Z"
   },
   {
    "duration": 56,
    "start_time": "2022-10-20T14:56:22.664Z"
   },
   {
    "duration": 14,
    "start_time": "2022-10-20T14:56:22.722Z"
   },
   {
    "duration": 19,
    "start_time": "2022-10-20T14:56:22.738Z"
   },
   {
    "duration": 3,
    "start_time": "2022-10-20T14:56:22.759Z"
   },
   {
    "duration": 17,
    "start_time": "2022-10-20T14:56:22.764Z"
   },
   {
    "duration": 24,
    "start_time": "2022-10-20T14:56:22.782Z"
   },
   {
    "duration": 341,
    "start_time": "2022-10-20T14:56:22.807Z"
   },
   {
    "duration": 21,
    "start_time": "2022-10-20T14:56:23.150Z"
   },
   {
    "duration": 23,
    "start_time": "2022-10-20T14:56:23.173Z"
   },
   {
    "duration": 603,
    "start_time": "2022-10-20T14:56:23.198Z"
   },
   {
    "duration": 29,
    "start_time": "2022-10-20T14:56:23.802Z"
   },
   {
    "duration": 31,
    "start_time": "2022-10-20T14:56:23.833Z"
   },
   {
    "duration": 16,
    "start_time": "2022-10-20T14:56:23.867Z"
   },
   {
    "duration": 446,
    "start_time": "2022-10-20T14:56:23.884Z"
   },
   {
    "duration": 46,
    "start_time": "2022-10-20T14:56:24.332Z"
   },
   {
    "duration": 25,
    "start_time": "2022-10-20T14:56:24.379Z"
   },
   {
    "duration": 262,
    "start_time": "2022-10-20T14:56:24.406Z"
   },
   {
    "duration": 271,
    "start_time": "2022-10-20T14:56:24.670Z"
   },
   {
    "duration": 169,
    "start_time": "2022-10-20T14:56:24.943Z"
   },
   {
    "duration": 163,
    "start_time": "2022-10-20T14:56:25.114Z"
   },
   {
    "duration": 23,
    "start_time": "2022-10-20T14:56:25.279Z"
   },
   {
    "duration": 6,
    "start_time": "2022-10-20T14:56:25.304Z"
   },
   {
    "duration": 8,
    "start_time": "2022-10-20T14:56:25.311Z"
   },
   {
    "duration": 226,
    "start_time": "2022-10-20T14:56:25.320Z"
   },
   {
    "duration": 10,
    "start_time": "2022-10-20T14:56:25.553Z"
   },
   {
    "duration": 351,
    "start_time": "2022-10-20T14:56:25.564Z"
   },
   {
    "duration": 8,
    "start_time": "2022-10-20T14:56:25.917Z"
   },
   {
    "duration": 310,
    "start_time": "2022-10-20T14:56:25.927Z"
   },
   {
    "duration": 16,
    "start_time": "2022-10-20T14:56:26.238Z"
   },
   {
    "duration": 459,
    "start_time": "2022-10-20T14:56:26.256Z"
   },
   {
    "duration": 6,
    "start_time": "2022-10-20T14:56:26.717Z"
   },
   {
    "duration": 27,
    "start_time": "2022-10-20T14:56:26.724Z"
   },
   {
    "duration": 8,
    "start_time": "2022-10-20T14:56:26.753Z"
   },
   {
    "duration": 44,
    "start_time": "2022-10-20T14:56:26.763Z"
   },
   {
    "duration": 6,
    "start_time": "2022-10-20T14:57:28.887Z"
   },
   {
    "duration": 7,
    "start_time": "2022-10-20T14:58:54.735Z"
   },
   {
    "duration": 3,
    "start_time": "2022-10-20T14:58:56.095Z"
   },
   {
    "duration": 5,
    "start_time": "2022-10-20T14:58:57.815Z"
   },
   {
    "duration": 6,
    "start_time": "2022-10-20T14:59:01.823Z"
   },
   {
    "duration": 7,
    "start_time": "2022-10-20T15:01:19.718Z"
   },
   {
    "duration": 9,
    "start_time": "2022-10-20T15:07:22.889Z"
   },
   {
    "duration": 4,
    "start_time": "2022-10-20T15:07:51.933Z"
   },
   {
    "duration": 5,
    "start_time": "2022-10-20T15:08:37.086Z"
   },
   {
    "duration": 6,
    "start_time": "2022-10-20T15:09:15.678Z"
   },
   {
    "duration": 5,
    "start_time": "2022-10-20T15:11:07.822Z"
   },
   {
    "duration": 1308,
    "start_time": "2022-10-20T17:52:17.930Z"
   },
   {
    "duration": 82,
    "start_time": "2022-10-20T17:52:19.240Z"
   },
   {
    "duration": 19,
    "start_time": "2022-10-20T17:52:19.323Z"
   },
   {
    "duration": 4,
    "start_time": "2022-10-20T17:52:19.344Z"
   },
   {
    "duration": 30,
    "start_time": "2022-10-20T17:52:19.350Z"
   },
   {
    "duration": 8,
    "start_time": "2022-10-20T17:52:19.382Z"
   },
   {
    "duration": 204,
    "start_time": "2022-10-20T17:52:19.392Z"
   },
   {
    "duration": 22,
    "start_time": "2022-10-20T17:52:19.599Z"
   },
   {
    "duration": 15,
    "start_time": "2022-10-20T17:52:19.624Z"
   },
   {
    "duration": 10,
    "start_time": "2022-10-20T17:52:19.642Z"
   },
   {
    "duration": 10,
    "start_time": "2022-10-20T17:52:19.654Z"
   },
   {
    "duration": 42,
    "start_time": "2022-10-20T17:52:19.666Z"
   },
   {
    "duration": 8,
    "start_time": "2022-10-20T17:52:19.710Z"
   },
   {
    "duration": 28,
    "start_time": "2022-10-20T17:52:19.721Z"
   },
   {
    "duration": 5,
    "start_time": "2022-10-20T17:52:19.751Z"
   },
   {
    "duration": 42,
    "start_time": "2022-10-20T17:52:19.758Z"
   },
   {
    "duration": 22,
    "start_time": "2022-10-20T17:52:19.803Z"
   },
   {
    "duration": 320,
    "start_time": "2022-10-20T17:52:19.827Z"
   },
   {
    "duration": 18,
    "start_time": "2022-10-20T17:52:20.149Z"
   },
   {
    "duration": 41,
    "start_time": "2022-10-20T17:52:20.168Z"
   },
   {
    "duration": 460,
    "start_time": "2022-10-20T17:52:20.211Z"
   },
   {
    "duration": 26,
    "start_time": "2022-10-20T17:52:20.673Z"
   },
   {
    "duration": 14,
    "start_time": "2022-10-20T17:52:20.700Z"
   },
   {
    "duration": 6,
    "start_time": "2022-10-20T17:52:20.715Z"
   },
   {
    "duration": 404,
    "start_time": "2022-10-20T17:52:20.722Z"
   },
   {
    "duration": 30,
    "start_time": "2022-10-20T17:52:21.128Z"
   },
   {
    "duration": 42,
    "start_time": "2022-10-20T17:52:21.160Z"
   },
   {
    "duration": 299,
    "start_time": "2022-10-20T17:52:21.205Z"
   },
   {
    "duration": 231,
    "start_time": "2022-10-20T17:52:21.505Z"
   },
   {
    "duration": 145,
    "start_time": "2022-10-20T17:52:21.738Z"
   },
   {
    "duration": 166,
    "start_time": "2022-10-20T17:52:21.885Z"
   },
   {
    "duration": 20,
    "start_time": "2022-10-20T17:52:22.053Z"
   },
   {
    "duration": 5,
    "start_time": "2022-10-20T17:52:22.074Z"
   },
   {
    "duration": 23,
    "start_time": "2022-10-20T17:52:22.081Z"
   },
   {
    "duration": 183,
    "start_time": "2022-10-20T17:52:22.106Z"
   },
   {
    "duration": 14,
    "start_time": "2022-10-20T17:52:22.291Z"
   },
   {
    "duration": 298,
    "start_time": "2022-10-20T17:52:22.307Z"
   },
   {
    "duration": 8,
    "start_time": "2022-10-20T17:52:22.607Z"
   },
   {
    "duration": 284,
    "start_time": "2022-10-20T17:52:22.616Z"
   },
   {
    "duration": 8,
    "start_time": "2022-10-20T17:52:22.902Z"
   },
   {
    "duration": 282,
    "start_time": "2022-10-20T17:52:22.912Z"
   },
   {
    "duration": 7,
    "start_time": "2022-10-20T17:52:23.196Z"
   },
   {
    "duration": 16,
    "start_time": "2022-10-20T17:52:23.205Z"
   },
   {
    "duration": 17,
    "start_time": "2022-10-20T17:52:23.223Z"
   },
   {
    "duration": 19,
    "start_time": "2022-10-20T17:52:23.242Z"
   },
   {
    "duration": 15,
    "start_time": "2022-10-20T17:52:23.262Z"
   },
   {
    "duration": 6,
    "start_time": "2022-10-20T17:52:23.279Z"
   },
   {
    "duration": 12,
    "start_time": "2022-10-20T17:52:23.287Z"
   },
   {
    "duration": 20,
    "start_time": "2022-10-20T17:52:23.300Z"
   },
   {
    "duration": 353,
    "start_time": "2022-10-20T17:55:38.411Z"
   },
   {
    "duration": 274,
    "start_time": "2022-10-20T17:56:43.713Z"
   },
   {
    "duration": 261,
    "start_time": "2022-10-20T17:58:28.543Z"
   },
   {
    "duration": 378,
    "start_time": "2022-10-20T17:59:04.396Z"
   },
   {
    "duration": 280,
    "start_time": "2022-10-20T17:59:34.122Z"
   },
   {
    "duration": 288,
    "start_time": "2022-10-20T17:59:38.856Z"
   },
   {
    "duration": 361,
    "start_time": "2022-10-20T17:59:46.825Z"
   },
   {
    "duration": 267,
    "start_time": "2022-10-20T18:00:27.051Z"
   },
   {
    "duration": 299,
    "start_time": "2022-10-20T18:01:00.521Z"
   },
   {
    "duration": 267,
    "start_time": "2022-10-20T18:01:10.153Z"
   },
   {
    "duration": 287,
    "start_time": "2022-10-20T18:01:21.304Z"
   },
   {
    "duration": 275,
    "start_time": "2022-10-20T18:01:43.242Z"
   },
   {
    "duration": 340,
    "start_time": "2022-10-20T18:02:46.012Z"
   },
   {
    "duration": 257,
    "start_time": "2022-10-20T18:03:11.130Z"
   },
   {
    "duration": 278,
    "start_time": "2022-10-20T18:03:33.218Z"
   },
   {
    "duration": 272,
    "start_time": "2022-10-20T18:04:01.225Z"
   },
   {
    "duration": 261,
    "start_time": "2022-10-20T18:04:11.241Z"
   },
   {
    "duration": 2,
    "start_time": "2022-10-20T18:29:11.753Z"
   },
   {
    "duration": 85,
    "start_time": "2022-10-20T18:29:11.758Z"
   },
   {
    "duration": 14,
    "start_time": "2022-10-20T18:29:11.846Z"
   },
   {
    "duration": 5,
    "start_time": "2022-10-20T18:29:11.863Z"
   },
   {
    "duration": 50,
    "start_time": "2022-10-20T18:29:11.871Z"
   },
   {
    "duration": 8,
    "start_time": "2022-10-20T18:29:11.923Z"
   },
   {
    "duration": 159,
    "start_time": "2022-10-20T18:29:11.932Z"
   },
   {
    "duration": 19,
    "start_time": "2022-10-20T18:29:12.093Z"
   },
   {
    "duration": 13,
    "start_time": "2022-10-20T18:29:12.114Z"
   },
   {
    "duration": 9,
    "start_time": "2022-10-20T18:29:12.128Z"
   },
   {
    "duration": 12,
    "start_time": "2022-10-20T18:29:12.139Z"
   },
   {
    "duration": 12,
    "start_time": "2022-10-20T18:29:12.153Z"
   },
   {
    "duration": 7,
    "start_time": "2022-10-20T18:29:12.201Z"
   },
   {
    "duration": 15,
    "start_time": "2022-10-20T18:29:12.212Z"
   },
   {
    "duration": 6,
    "start_time": "2022-10-20T18:29:12.229Z"
   },
   {
    "duration": 131,
    "start_time": "2022-10-20T18:29:12.237Z"
   },
   {
    "duration": 35,
    "start_time": "2022-10-20T18:29:12.370Z"
   },
   {
    "duration": 311,
    "start_time": "2022-10-20T18:29:12.407Z"
   },
   {
    "duration": 17,
    "start_time": "2022-10-20T18:29:12.720Z"
   },
   {
    "duration": 22,
    "start_time": "2022-10-20T18:29:12.739Z"
   },
   {
    "duration": 434,
    "start_time": "2022-10-20T18:29:12.763Z"
   },
   {
    "duration": 31,
    "start_time": "2022-10-20T18:29:13.200Z"
   },
   {
    "duration": 18,
    "start_time": "2022-10-20T18:29:13.233Z"
   },
   {
    "duration": 18,
    "start_time": "2022-10-20T18:29:13.253Z"
   },
   {
    "duration": 399,
    "start_time": "2022-10-20T18:29:13.299Z"
   },
   {
    "duration": 31,
    "start_time": "2022-10-20T18:29:13.701Z"
   },
   {
    "duration": 21,
    "start_time": "2022-10-20T18:29:13.735Z"
   },
   {
    "duration": 246,
    "start_time": "2022-10-20T18:29:13.758Z"
   },
   {
    "duration": 270,
    "start_time": "2022-10-20T18:29:14.005Z"
   },
   {
    "duration": 305,
    "start_time": "2022-10-20T18:29:14.276Z"
   },
   {
    "duration": 168,
    "start_time": "2022-10-20T18:29:14.584Z"
   },
   {
    "duration": 22,
    "start_time": "2022-10-20T18:29:14.754Z"
   },
   {
    "duration": 24,
    "start_time": "2022-10-20T18:29:14.778Z"
   },
   {
    "duration": 7,
    "start_time": "2022-10-20T18:29:14.803Z"
   },
   {
    "duration": 197,
    "start_time": "2022-10-20T18:29:14.812Z"
   },
   {
    "duration": 8,
    "start_time": "2022-10-20T18:29:15.011Z"
   },
   {
    "duration": 309,
    "start_time": "2022-10-20T18:29:15.021Z"
   },
   {
    "duration": 8,
    "start_time": "2022-10-20T18:29:15.332Z"
   },
   {
    "duration": 305,
    "start_time": "2022-10-20T18:29:15.342Z"
   },
   {
    "duration": 8,
    "start_time": "2022-10-20T18:29:15.648Z"
   },
   {
    "duration": 289,
    "start_time": "2022-10-20T18:29:15.659Z"
   },
   {
    "duration": 6,
    "start_time": "2022-10-20T18:29:15.950Z"
   },
   {
    "duration": 8,
    "start_time": "2022-10-20T18:29:15.958Z"
   },
   {
    "duration": 11,
    "start_time": "2022-10-20T18:29:15.968Z"
   },
   {
    "duration": 4,
    "start_time": "2022-10-20T18:29:16.001Z"
   },
   {
    "duration": 19,
    "start_time": "2022-10-20T18:29:16.007Z"
   },
   {
    "duration": 7,
    "start_time": "2022-10-20T18:29:16.027Z"
   },
   {
    "duration": 7,
    "start_time": "2022-10-20T18:29:16.036Z"
   },
   {
    "duration": 8,
    "start_time": "2022-10-20T18:29:16.046Z"
   },
   {
    "duration": 1401,
    "start_time": "2022-10-21T08:18:13.640Z"
   },
   {
    "duration": 560,
    "start_time": "2022-10-21T08:18:15.043Z"
   },
   {
    "duration": 17,
    "start_time": "2022-10-21T08:18:15.605Z"
   },
   {
    "duration": 5,
    "start_time": "2022-10-21T08:18:15.623Z"
   },
   {
    "duration": 17,
    "start_time": "2022-10-21T08:18:15.630Z"
   },
   {
    "duration": 42,
    "start_time": "2022-10-21T08:18:15.649Z"
   },
   {
    "duration": 9,
    "start_time": "2022-10-21T08:18:15.692Z"
   },
   {
    "duration": 197,
    "start_time": "2022-10-21T08:18:15.703Z"
   },
   {
    "duration": 22,
    "start_time": "2022-10-21T08:18:15.902Z"
   },
   {
    "duration": 17,
    "start_time": "2022-10-21T08:18:15.926Z"
   },
   {
    "duration": 10,
    "start_time": "2022-10-21T08:18:15.945Z"
   },
   {
    "duration": 35,
    "start_time": "2022-10-21T08:18:15.957Z"
   },
   {
    "duration": 15,
    "start_time": "2022-10-21T08:18:15.994Z"
   },
   {
    "duration": 7,
    "start_time": "2022-10-21T08:18:16.014Z"
   },
   {
    "duration": 22,
    "start_time": "2022-10-21T08:18:16.024Z"
   },
   {
    "duration": 44,
    "start_time": "2022-10-21T08:18:16.048Z"
   },
   {
    "duration": 14,
    "start_time": "2022-10-21T08:18:16.094Z"
   },
   {
    "duration": 25,
    "start_time": "2022-10-21T08:18:16.110Z"
   },
   {
    "duration": 347,
    "start_time": "2022-10-21T08:18:16.136Z"
   },
   {
    "duration": 24,
    "start_time": "2022-10-21T08:18:16.485Z"
   },
   {
    "duration": 25,
    "start_time": "2022-10-21T08:18:16.511Z"
   },
   {
    "duration": 521,
    "start_time": "2022-10-21T08:18:16.539Z"
   },
   {
    "duration": 40,
    "start_time": "2022-10-21T08:18:17.062Z"
   },
   {
    "duration": 19,
    "start_time": "2022-10-21T08:18:17.103Z"
   },
   {
    "duration": 8,
    "start_time": "2022-10-21T08:18:17.124Z"
   },
   {
    "duration": 440,
    "start_time": "2022-10-21T08:18:17.134Z"
   },
   {
    "duration": 41,
    "start_time": "2022-10-21T08:18:17.576Z"
   },
   {
    "duration": 22,
    "start_time": "2022-10-21T08:18:17.619Z"
   },
   {
    "duration": 327,
    "start_time": "2022-10-21T08:18:17.643Z"
   },
   {
    "duration": 277,
    "start_time": "2022-10-21T08:18:17.972Z"
   },
   {
    "duration": 173,
    "start_time": "2022-10-21T08:18:18.252Z"
   },
   {
    "duration": 198,
    "start_time": "2022-10-21T08:18:18.427Z"
   },
   {
    "duration": 22,
    "start_time": "2022-10-21T08:18:18.627Z"
   },
   {
    "duration": 6,
    "start_time": "2022-10-21T08:18:18.650Z"
   },
   {
    "duration": 7,
    "start_time": "2022-10-21T08:18:18.658Z"
   },
   {
    "duration": 211,
    "start_time": "2022-10-21T08:18:18.692Z"
   },
   {
    "duration": 11,
    "start_time": "2022-10-21T08:18:18.904Z"
   },
   {
    "duration": 325,
    "start_time": "2022-10-21T08:18:18.917Z"
   },
   {
    "duration": 9,
    "start_time": "2022-10-21T08:18:19.244Z"
   },
   {
    "duration": 332,
    "start_time": "2022-10-21T08:18:19.255Z"
   },
   {
    "duration": 8,
    "start_time": "2022-10-21T08:18:19.593Z"
   },
   {
    "duration": 329,
    "start_time": "2022-10-21T08:18:19.603Z"
   },
   {
    "duration": 6,
    "start_time": "2022-10-21T08:18:19.934Z"
   },
   {
    "duration": 7,
    "start_time": "2022-10-21T08:18:19.942Z"
   },
   {
    "duration": 5,
    "start_time": "2022-10-21T08:18:19.951Z"
   },
   {
    "duration": 6,
    "start_time": "2022-10-21T08:18:19.958Z"
   },
   {
    "duration": 6,
    "start_time": "2022-10-21T08:18:19.992Z"
   },
   {
    "duration": 7,
    "start_time": "2022-10-21T08:18:20.000Z"
   },
   {
    "duration": 11,
    "start_time": "2022-10-21T08:18:20.008Z"
   },
   {
    "duration": 12,
    "start_time": "2022-10-21T08:18:20.021Z"
   },
   {
    "duration": 229,
    "start_time": "2022-10-21T08:20:37.999Z"
   },
   {
    "duration": 1463,
    "start_time": "2022-10-21T13:34:54.475Z"
   },
   {
    "duration": 231,
    "start_time": "2022-10-21T13:34:55.941Z"
   },
   {
    "duration": 17,
    "start_time": "2022-10-21T13:34:56.174Z"
   },
   {
    "duration": 6,
    "start_time": "2022-10-21T13:34:56.193Z"
   },
   {
    "duration": 29,
    "start_time": "2022-10-21T13:34:56.202Z"
   },
   {
    "duration": 10,
    "start_time": "2022-10-21T13:34:56.232Z"
   },
   {
    "duration": 210,
    "start_time": "2022-10-21T13:34:56.243Z"
   },
   {
    "duration": 22,
    "start_time": "2022-10-21T13:34:56.455Z"
   },
   {
    "duration": 15,
    "start_time": "2022-10-21T13:34:56.479Z"
   },
   {
    "duration": 11,
    "start_time": "2022-10-21T13:34:56.525Z"
   },
   {
    "duration": 8,
    "start_time": "2022-10-21T13:34:56.537Z"
   },
   {
    "duration": 14,
    "start_time": "2022-10-21T13:34:56.547Z"
   },
   {
    "duration": 5,
    "start_time": "2022-10-21T13:34:56.563Z"
   },
   {
    "duration": 52,
    "start_time": "2022-10-21T13:34:56.572Z"
   },
   {
    "duration": 3,
    "start_time": "2022-10-21T13:34:56.626Z"
   },
   {
    "duration": 17,
    "start_time": "2022-10-21T13:34:56.631Z"
   },
   {
    "duration": 28,
    "start_time": "2022-10-21T13:34:56.650Z"
   },
   {
    "duration": 391,
    "start_time": "2022-10-21T13:34:56.680Z"
   },
   {
    "duration": 20,
    "start_time": "2022-10-21T13:34:57.072Z"
   },
   {
    "duration": 38,
    "start_time": "2022-10-21T13:34:57.093Z"
   },
   {
    "duration": 495,
    "start_time": "2022-10-21T13:34:57.133Z"
   },
   {
    "duration": 34,
    "start_time": "2022-10-21T13:34:57.630Z"
   },
   {
    "duration": 17,
    "start_time": "2022-10-21T13:34:57.666Z"
   },
   {
    "duration": 7,
    "start_time": "2022-10-21T13:34:57.685Z"
   },
   {
    "duration": 503,
    "start_time": "2022-10-21T13:34:57.693Z"
   },
   {
    "duration": 44,
    "start_time": "2022-10-21T13:34:58.198Z"
   },
   {
    "duration": 23,
    "start_time": "2022-10-21T13:34:58.244Z"
   },
   {
    "duration": 352,
    "start_time": "2022-10-21T13:34:58.269Z"
   },
   {
    "duration": 293,
    "start_time": "2022-10-21T13:34:58.623Z"
   },
   {
    "duration": 182,
    "start_time": "2022-10-21T13:34:58.918Z"
   },
   {
    "duration": 186,
    "start_time": "2022-10-21T13:34:59.102Z"
   },
   {
    "duration": 24,
    "start_time": "2022-10-21T13:34:59.290Z"
   },
   {
    "duration": 7,
    "start_time": "2022-10-21T13:34:59.324Z"
   },
   {
    "duration": 7,
    "start_time": "2022-10-21T13:34:59.333Z"
   },
   {
    "duration": 227,
    "start_time": "2022-10-21T13:34:59.342Z"
   },
   {
    "duration": 10,
    "start_time": "2022-10-21T13:34:59.570Z"
   },
   {
    "duration": 339,
    "start_time": "2022-10-21T13:34:59.582Z"
   },
   {
    "duration": 11,
    "start_time": "2022-10-21T13:34:59.924Z"
   },
   {
    "duration": 356,
    "start_time": "2022-10-21T13:34:59.937Z"
   },
   {
    "duration": 12,
    "start_time": "2022-10-21T13:35:00.295Z"
   },
   {
    "duration": 339,
    "start_time": "2022-10-21T13:35:00.312Z"
   },
   {
    "duration": 7,
    "start_time": "2022-10-21T13:35:00.653Z"
   },
   {
    "duration": 16,
    "start_time": "2022-10-21T13:35:00.661Z"
   },
   {
    "duration": 16,
    "start_time": "2022-10-21T13:35:00.679Z"
   },
   {
    "duration": 9,
    "start_time": "2022-10-21T13:35:00.697Z"
   },
   {
    "duration": 17,
    "start_time": "2022-10-21T13:35:00.708Z"
   },
   {
    "duration": 11,
    "start_time": "2022-10-21T13:35:00.727Z"
   },
   {
    "duration": 18,
    "start_time": "2022-10-21T13:35:00.740Z"
   },
   {
    "duration": 10,
    "start_time": "2022-10-21T13:35:00.760Z"
   },
   {
    "duration": 10,
    "start_time": "2022-10-21T13:38:47.697Z"
   },
   {
    "duration": 17,
    "start_time": "2022-10-21T13:40:59.832Z"
   },
   {
    "duration": 17,
    "start_time": "2022-10-21T13:43:46.080Z"
   },
   {
    "duration": 4,
    "start_time": "2022-10-21T13:46:59.053Z"
   },
   {
    "duration": 75,
    "start_time": "2022-10-21T13:46:59.059Z"
   },
   {
    "duration": 16,
    "start_time": "2022-10-21T13:46:59.136Z"
   },
   {
    "duration": 6,
    "start_time": "2022-10-21T13:46:59.153Z"
   },
   {
    "duration": 158,
    "start_time": "2022-10-21T13:46:59.161Z"
   },
   {
    "duration": 15,
    "start_time": "2022-10-21T13:46:59.324Z"
   },
   {
    "duration": 216,
    "start_time": "2022-10-21T13:46:59.341Z"
   },
   {
    "duration": 24,
    "start_time": "2022-10-21T13:46:59.559Z"
   },
   {
    "duration": 14,
    "start_time": "2022-10-21T13:46:59.585Z"
   },
   {
    "duration": 33,
    "start_time": "2022-10-21T13:46:59.601Z"
   },
   {
    "duration": 9,
    "start_time": "2022-10-21T13:46:59.636Z"
   },
   {
    "duration": 15,
    "start_time": "2022-10-21T13:46:59.647Z"
   },
   {
    "duration": 7,
    "start_time": "2022-10-21T13:46:59.664Z"
   },
   {
    "duration": 62,
    "start_time": "2022-10-21T13:46:59.674Z"
   },
   {
    "duration": 6,
    "start_time": "2022-10-21T13:46:59.738Z"
   },
   {
    "duration": 15,
    "start_time": "2022-10-21T13:46:59.746Z"
   },
   {
    "duration": 28,
    "start_time": "2022-10-21T13:46:59.763Z"
   },
   {
    "duration": 390,
    "start_time": "2022-10-21T13:46:59.793Z"
   },
   {
    "duration": 22,
    "start_time": "2022-10-21T13:47:00.184Z"
   },
   {
    "duration": 44,
    "start_time": "2022-10-21T13:47:00.208Z"
   },
   {
    "duration": 532,
    "start_time": "2022-10-21T13:47:00.254Z"
   },
   {
    "duration": 43,
    "start_time": "2022-10-21T13:47:00.788Z"
   },
   {
    "duration": 21,
    "start_time": "2022-10-21T13:47:00.834Z"
   },
   {
    "duration": 9,
    "start_time": "2022-10-21T13:47:00.856Z"
   },
   {
    "duration": 528,
    "start_time": "2022-10-21T13:47:00.867Z"
   },
   {
    "duration": 63,
    "start_time": "2022-10-21T13:47:01.397Z"
   },
   {
    "duration": 28,
    "start_time": "2022-10-21T13:47:01.462Z"
   },
   {
    "duration": 307,
    "start_time": "2022-10-21T13:47:01.491Z"
   },
   {
    "duration": 508,
    "start_time": "2022-10-21T13:47:01.801Z"
   },
   {
    "duration": 226,
    "start_time": "2022-10-21T13:47:02.312Z"
   },
   {
    "duration": 202,
    "start_time": "2022-10-21T13:47:02.540Z"
   },
   {
    "duration": 27,
    "start_time": "2022-10-21T13:47:02.744Z"
   },
   {
    "duration": 8,
    "start_time": "2022-10-21T13:47:02.773Z"
   },
   {
    "duration": 8,
    "start_time": "2022-10-21T13:47:02.783Z"
   },
   {
    "duration": 321,
    "start_time": "2022-10-21T13:47:02.793Z"
   },
   {
    "duration": 26,
    "start_time": "2022-10-21T13:47:03.116Z"
   },
   {
    "duration": 344,
    "start_time": "2022-10-21T13:47:03.145Z"
   },
   {
    "duration": 16,
    "start_time": "2022-10-21T13:47:03.491Z"
   },
   {
    "duration": 373,
    "start_time": "2022-10-21T13:47:03.510Z"
   },
   {
    "duration": 10,
    "start_time": "2022-10-21T13:47:03.886Z"
   },
   {
    "duration": 370,
    "start_time": "2022-10-21T13:47:03.901Z"
   },
   {
    "duration": 7,
    "start_time": "2022-10-21T13:47:04.273Z"
   },
   {
    "duration": 6,
    "start_time": "2022-10-21T13:47:04.282Z"
   },
   {
    "duration": 6,
    "start_time": "2022-10-21T13:47:04.290Z"
   },
   {
    "duration": 28,
    "start_time": "2022-10-21T13:47:04.297Z"
   },
   {
    "duration": 8,
    "start_time": "2022-10-21T13:47:04.328Z"
   },
   {
    "duration": 5,
    "start_time": "2022-10-21T13:47:04.338Z"
   },
   {
    "duration": 6,
    "start_time": "2022-10-21T13:47:04.345Z"
   },
   {
    "duration": 6,
    "start_time": "2022-10-21T13:47:04.353Z"
   },
   {
    "duration": 3,
    "start_time": "2022-10-21T13:47:56.052Z"
   },
   {
    "duration": 69,
    "start_time": "2022-10-21T13:47:56.057Z"
   },
   {
    "duration": 15,
    "start_time": "2022-10-21T13:47:56.128Z"
   },
   {
    "duration": 6,
    "start_time": "2022-10-21T13:47:56.145Z"
   },
   {
    "duration": 28,
    "start_time": "2022-10-21T13:47:56.154Z"
   },
   {
    "duration": 43,
    "start_time": "2022-10-21T13:47:56.186Z"
   },
   {
    "duration": 186,
    "start_time": "2022-10-21T13:47:56.231Z"
   },
   {
    "duration": 26,
    "start_time": "2022-10-21T13:47:56.418Z"
   },
   {
    "duration": 14,
    "start_time": "2022-10-21T13:47:56.446Z"
   },
   {
    "duration": 10,
    "start_time": "2022-10-21T13:47:56.462Z"
   },
   {
    "duration": 8,
    "start_time": "2022-10-21T13:47:56.474Z"
   },
   {
    "duration": 57,
    "start_time": "2022-10-21T13:47:56.484Z"
   },
   {
    "duration": 7,
    "start_time": "2022-10-21T13:47:56.542Z"
   },
   {
    "duration": 20,
    "start_time": "2022-10-21T13:47:56.552Z"
   },
   {
    "duration": 10,
    "start_time": "2022-10-21T13:47:56.574Z"
   },
   {
    "duration": 147,
    "start_time": "2022-10-21T13:47:56.586Z"
   },
   {
    "duration": 33,
    "start_time": "2022-10-21T13:47:56.735Z"
   },
   {
    "duration": 367,
    "start_time": "2022-10-21T13:47:56.770Z"
   },
   {
    "duration": 18,
    "start_time": "2022-10-21T13:47:57.139Z"
   },
   {
    "duration": 24,
    "start_time": "2022-10-21T13:47:57.159Z"
   },
   {
    "duration": 502,
    "start_time": "2022-10-21T13:47:57.185Z"
   },
   {
    "duration": 46,
    "start_time": "2022-10-21T13:47:57.689Z"
   },
   {
    "duration": 22,
    "start_time": "2022-10-21T13:47:57.737Z"
   },
   {
    "duration": 9,
    "start_time": "2022-10-21T13:47:57.761Z"
   },
   {
    "duration": 509,
    "start_time": "2022-10-21T13:47:57.772Z"
   },
   {
    "duration": 48,
    "start_time": "2022-10-21T13:47:58.283Z"
   },
   {
    "duration": 27,
    "start_time": "2022-10-21T13:47:58.333Z"
   },
   {
    "duration": 305,
    "start_time": "2022-10-21T13:47:58.362Z"
   },
   {
    "duration": 324,
    "start_time": "2022-10-21T13:47:58.669Z"
   },
   {
    "duration": 294,
    "start_time": "2022-10-21T13:47:58.995Z"
   },
   {
    "duration": 202,
    "start_time": "2022-10-21T13:47:59.291Z"
   },
   {
    "duration": 42,
    "start_time": "2022-10-21T13:47:59.495Z"
   },
   {
    "duration": 6,
    "start_time": "2022-10-21T13:47:59.540Z"
   },
   {
    "duration": 8,
    "start_time": "2022-10-21T13:47:59.548Z"
   },
   {
    "duration": 261,
    "start_time": "2022-10-21T13:47:59.558Z"
   },
   {
    "duration": 11,
    "start_time": "2022-10-21T13:47:59.823Z"
   },
   {
    "duration": 351,
    "start_time": "2022-10-21T13:47:59.836Z"
   },
   {
    "duration": 11,
    "start_time": "2022-10-21T13:48:00.190Z"
   },
   {
    "duration": 377,
    "start_time": "2022-10-21T13:48:00.203Z"
   },
   {
    "duration": 16,
    "start_time": "2022-10-21T13:48:00.585Z"
   },
   {
    "duration": 361,
    "start_time": "2022-10-21T13:48:00.607Z"
   },
   {
    "duration": 8,
    "start_time": "2022-10-21T13:48:00.972Z"
   },
   {
    "duration": 18,
    "start_time": "2022-10-21T13:48:00.983Z"
   },
   {
    "duration": 24,
    "start_time": "2022-10-21T13:48:01.005Z"
   },
   {
    "duration": 29,
    "start_time": "2022-10-21T13:48:01.031Z"
   },
   {
    "duration": 20,
    "start_time": "2022-10-21T13:48:01.062Z"
   },
   {
    "duration": 31,
    "start_time": "2022-10-21T13:48:01.084Z"
   },
   {
    "duration": 21,
    "start_time": "2022-10-21T13:48:01.117Z"
   },
   {
    "duration": 22,
    "start_time": "2022-10-21T13:48:01.141Z"
   },
   {
    "duration": 50,
    "start_time": "2022-10-22T10:47:57.425Z"
   },
   {
    "duration": 1423,
    "start_time": "2022-10-22T10:48:04.136Z"
   },
   {
    "duration": 89,
    "start_time": "2022-10-22T10:48:05.561Z"
   },
   {
    "duration": 19,
    "start_time": "2022-10-22T10:48:05.652Z"
   },
   {
    "duration": 6,
    "start_time": "2022-10-22T10:48:05.674Z"
   },
   {
    "duration": 52,
    "start_time": "2022-10-22T10:48:05.682Z"
   },
   {
    "duration": 12,
    "start_time": "2022-10-22T10:48:05.736Z"
   },
   {
    "duration": 208,
    "start_time": "2022-10-22T10:48:05.749Z"
   },
   {
    "duration": 19,
    "start_time": "2022-10-22T10:48:05.959Z"
   },
   {
    "duration": 39,
    "start_time": "2022-10-22T10:48:05.980Z"
   },
   {
    "duration": 36,
    "start_time": "2022-10-22T10:48:06.021Z"
   },
   {
    "duration": 41,
    "start_time": "2022-10-22T10:48:06.059Z"
   },
   {
    "duration": 56,
    "start_time": "2022-10-22T10:48:06.102Z"
   },
   {
    "duration": 30,
    "start_time": "2022-10-22T10:48:06.160Z"
   },
   {
    "duration": 38,
    "start_time": "2022-10-22T10:48:06.191Z"
   },
   {
    "duration": 31,
    "start_time": "2022-10-22T10:48:06.231Z"
   },
   {
    "duration": 69,
    "start_time": "2022-10-22T10:48:06.265Z"
   },
   {
    "duration": 76,
    "start_time": "2022-10-22T10:48:06.336Z"
   },
   {
    "duration": 351,
    "start_time": "2022-10-22T10:48:06.415Z"
   },
   {
    "duration": 15,
    "start_time": "2022-10-22T10:48:06.768Z"
   },
   {
    "duration": 46,
    "start_time": "2022-10-22T10:48:06.784Z"
   },
   {
    "duration": 462,
    "start_time": "2022-10-22T10:48:06.831Z"
   },
   {
    "duration": 28,
    "start_time": "2022-10-22T10:48:07.295Z"
   },
   {
    "duration": 33,
    "start_time": "2022-10-22T10:48:07.325Z"
   },
   {
    "duration": 37,
    "start_time": "2022-10-22T10:48:07.360Z"
   },
   {
    "duration": 414,
    "start_time": "2022-10-22T10:48:07.399Z"
   },
   {
    "duration": 42,
    "start_time": "2022-10-22T10:48:07.815Z"
   },
   {
    "duration": 22,
    "start_time": "2022-10-22T10:48:07.859Z"
   },
   {
    "duration": 332,
    "start_time": "2022-10-22T10:48:07.886Z"
   },
   {
    "duration": 267,
    "start_time": "2022-10-22T10:48:08.220Z"
   },
   {
    "duration": 287,
    "start_time": "2022-10-22T10:48:08.489Z"
   },
   {
    "duration": 0,
    "start_time": "2022-10-22T10:48:08.778Z"
   },
   {
    "duration": 0,
    "start_time": "2022-10-22T10:48:08.780Z"
   },
   {
    "duration": 0,
    "start_time": "2022-10-22T10:48:08.782Z"
   },
   {
    "duration": 0,
    "start_time": "2022-10-22T10:48:08.783Z"
   },
   {
    "duration": 0,
    "start_time": "2022-10-22T10:48:08.784Z"
   },
   {
    "duration": 0,
    "start_time": "2022-10-22T10:48:08.786Z"
   },
   {
    "duration": 0,
    "start_time": "2022-10-22T10:48:08.787Z"
   },
   {
    "duration": 0,
    "start_time": "2022-10-22T10:48:08.789Z"
   },
   {
    "duration": 0,
    "start_time": "2022-10-22T10:48:08.790Z"
   },
   {
    "duration": 0,
    "start_time": "2022-10-22T10:48:08.791Z"
   },
   {
    "duration": 1,
    "start_time": "2022-10-22T10:48:08.792Z"
   },
   {
    "duration": 0,
    "start_time": "2022-10-22T10:48:08.794Z"
   },
   {
    "duration": 0,
    "start_time": "2022-10-22T10:48:08.796Z"
   },
   {
    "duration": 0,
    "start_time": "2022-10-22T10:48:08.797Z"
   },
   {
    "duration": 0,
    "start_time": "2022-10-22T10:48:08.799Z"
   },
   {
    "duration": 0,
    "start_time": "2022-10-22T10:48:08.802Z"
   },
   {
    "duration": 0,
    "start_time": "2022-10-22T10:48:08.803Z"
   },
   {
    "duration": 0,
    "start_time": "2022-10-22T10:48:08.804Z"
   },
   {
    "duration": 0,
    "start_time": "2022-10-22T10:48:08.805Z"
   },
   {
    "duration": 184,
    "start_time": "2022-10-22T10:52:10.836Z"
   },
   {
    "duration": 145,
    "start_time": "2022-10-22T10:52:42.498Z"
   },
   {
    "duration": 281,
    "start_time": "2022-10-22T10:54:50.196Z"
   },
   {
    "duration": 1232,
    "start_time": "2022-10-22T11:00:15.805Z"
   },
   {
    "duration": 58,
    "start_time": "2022-10-22T11:00:17.039Z"
   },
   {
    "duration": 13,
    "start_time": "2022-10-22T11:00:17.099Z"
   },
   {
    "duration": 4,
    "start_time": "2022-10-22T11:00:17.115Z"
   },
   {
    "duration": 21,
    "start_time": "2022-10-22T11:00:17.133Z"
   },
   {
    "duration": 9,
    "start_time": "2022-10-22T11:00:17.156Z"
   },
   {
    "duration": 185,
    "start_time": "2022-10-22T11:00:17.167Z"
   },
   {
    "duration": 19,
    "start_time": "2022-10-22T11:00:17.354Z"
   },
   {
    "duration": 11,
    "start_time": "2022-10-22T11:00:17.374Z"
   },
   {
    "duration": 8,
    "start_time": "2022-10-22T11:00:17.387Z"
   },
   {
    "duration": 7,
    "start_time": "2022-10-22T11:00:17.396Z"
   },
   {
    "duration": 40,
    "start_time": "2022-10-22T11:00:17.404Z"
   },
   {
    "duration": 6,
    "start_time": "2022-10-22T11:00:17.445Z"
   },
   {
    "duration": 17,
    "start_time": "2022-10-22T11:00:17.452Z"
   },
   {
    "duration": 3,
    "start_time": "2022-10-22T11:00:17.471Z"
   },
   {
    "duration": 16,
    "start_time": "2022-10-22T11:00:17.475Z"
   },
   {
    "duration": 58,
    "start_time": "2022-10-22T11:00:17.492Z"
   },
   {
    "duration": 315,
    "start_time": "2022-10-22T11:00:17.551Z"
   },
   {
    "duration": 16,
    "start_time": "2022-10-22T11:00:17.867Z"
   },
   {
    "duration": 19,
    "start_time": "2022-10-22T11:00:17.885Z"
   },
   {
    "duration": 459,
    "start_time": "2022-10-22T11:00:17.906Z"
   },
   {
    "duration": 27,
    "start_time": "2022-10-22T11:00:18.367Z"
   },
   {
    "duration": 15,
    "start_time": "2022-10-22T11:00:18.396Z"
   },
   {
    "duration": 7,
    "start_time": "2022-10-22T11:00:18.412Z"
   },
   {
    "duration": 402,
    "start_time": "2022-10-22T11:00:18.420Z"
   },
   {
    "duration": 38,
    "start_time": "2022-10-22T11:00:18.824Z"
   },
   {
    "duration": 21,
    "start_time": "2022-10-22T11:00:18.864Z"
   },
   {
    "duration": 329,
    "start_time": "2022-10-22T11:00:18.888Z"
   },
   {
    "duration": 249,
    "start_time": "2022-10-22T11:00:19.218Z"
   },
   {
    "duration": 157,
    "start_time": "2022-10-22T11:00:19.469Z"
   },
   {
    "duration": 156,
    "start_time": "2022-10-22T11:00:19.628Z"
   },
   {
    "duration": 21,
    "start_time": "2022-10-22T11:00:19.786Z"
   },
   {
    "duration": 5,
    "start_time": "2022-10-22T11:00:19.809Z"
   },
   {
    "duration": 22,
    "start_time": "2022-10-22T11:00:19.816Z"
   },
   {
    "duration": 190,
    "start_time": "2022-10-22T11:00:19.840Z"
   },
   {
    "duration": 8,
    "start_time": "2022-10-22T11:00:20.034Z"
   },
   {
    "duration": 328,
    "start_time": "2022-10-22T11:00:20.044Z"
   },
   {
    "duration": 9,
    "start_time": "2022-10-22T11:00:20.374Z"
   },
   {
    "duration": 326,
    "start_time": "2022-10-22T11:00:20.384Z"
   },
   {
    "duration": 21,
    "start_time": "2022-10-22T11:00:20.712Z"
   },
   {
    "duration": 308,
    "start_time": "2022-10-22T11:00:20.735Z"
   },
   {
    "duration": 6,
    "start_time": "2022-10-22T11:00:21.045Z"
   },
   {
    "duration": 24,
    "start_time": "2022-10-22T11:00:21.053Z"
   },
   {
    "duration": 9,
    "start_time": "2022-10-22T11:00:21.079Z"
   },
   {
    "duration": 17,
    "start_time": "2022-10-22T11:00:21.090Z"
   },
   {
    "duration": 14,
    "start_time": "2022-10-22T11:00:21.109Z"
   },
   {
    "duration": 10,
    "start_time": "2022-10-22T11:00:21.125Z"
   },
   {
    "duration": 10,
    "start_time": "2022-10-22T11:00:21.137Z"
   },
   {
    "duration": 10,
    "start_time": "2022-10-22T11:00:21.148Z"
   },
   {
    "duration": 1279,
    "start_time": "2022-10-22T11:08:13.634Z"
   },
   {
    "duration": 221,
    "start_time": "2022-10-22T11:08:14.915Z"
   },
   {
    "duration": 15,
    "start_time": "2022-10-22T11:08:15.138Z"
   },
   {
    "duration": 5,
    "start_time": "2022-10-22T11:08:15.155Z"
   },
   {
    "duration": 28,
    "start_time": "2022-10-22T11:08:15.161Z"
   },
   {
    "duration": 9,
    "start_time": "2022-10-22T11:08:15.191Z"
   },
   {
    "duration": 197,
    "start_time": "2022-10-22T11:08:15.201Z"
   },
   {
    "duration": 33,
    "start_time": "2022-10-22T11:08:15.399Z"
   },
   {
    "duration": 12,
    "start_time": "2022-10-22T11:08:15.433Z"
   },
   {
    "duration": 8,
    "start_time": "2022-10-22T11:08:15.447Z"
   },
   {
    "duration": 7,
    "start_time": "2022-10-22T11:08:15.457Z"
   },
   {
    "duration": 12,
    "start_time": "2022-10-22T11:08:15.465Z"
   },
   {
    "duration": 6,
    "start_time": "2022-10-22T11:08:15.478Z"
   },
   {
    "duration": 48,
    "start_time": "2022-10-22T11:08:15.485Z"
   },
   {
    "duration": 4,
    "start_time": "2022-10-22T11:08:15.535Z"
   },
   {
    "duration": 14,
    "start_time": "2022-10-22T11:08:15.540Z"
   },
   {
    "duration": 22,
    "start_time": "2022-10-22T11:08:15.556Z"
   },
   {
    "duration": 357,
    "start_time": "2022-10-22T11:08:15.580Z"
   },
   {
    "duration": 15,
    "start_time": "2022-10-22T11:08:15.939Z"
   },
   {
    "duration": 20,
    "start_time": "2022-10-22T11:08:15.956Z"
   },
   {
    "duration": 433,
    "start_time": "2022-10-22T11:08:15.978Z"
   },
   {
    "duration": 29,
    "start_time": "2022-10-22T11:08:16.413Z"
   },
   {
    "duration": 15,
    "start_time": "2022-10-22T11:08:16.443Z"
   },
   {
    "duration": 6,
    "start_time": "2022-10-22T11:08:16.459Z"
   },
   {
    "duration": 416,
    "start_time": "2022-10-22T11:08:16.467Z"
   },
   {
    "duration": 40,
    "start_time": "2022-10-22T11:08:16.885Z"
   },
   {
    "duration": 22,
    "start_time": "2022-10-22T11:08:16.926Z"
   },
   {
    "duration": 303,
    "start_time": "2022-10-22T11:08:16.950Z"
   },
   {
    "duration": 280,
    "start_time": "2022-10-22T11:08:17.255Z"
   },
   {
    "duration": 16,
    "start_time": "2022-10-22T11:09:52.725Z"
   },
   {
    "duration": 89,
    "start_time": "2022-10-22T11:11:32.748Z"
   },
   {
    "duration": 157,
    "start_time": "2022-10-22T11:11:38.479Z"
   },
   {
    "duration": 145,
    "start_time": "2022-10-22T11:11:57.526Z"
   },
   {
    "duration": 2,
    "start_time": "2022-10-22T11:12:35.970Z"
   },
   {
    "duration": 74,
    "start_time": "2022-10-22T11:12:35.974Z"
   },
   {
    "duration": 13,
    "start_time": "2022-10-22T11:12:36.050Z"
   },
   {
    "duration": 21,
    "start_time": "2022-10-22T11:12:36.065Z"
   },
   {
    "duration": 36,
    "start_time": "2022-10-22T11:12:36.088Z"
   },
   {
    "duration": 11,
    "start_time": "2022-10-22T11:12:36.125Z"
   },
   {
    "duration": 166,
    "start_time": "2022-10-22T11:12:36.138Z"
   },
   {
    "duration": 23,
    "start_time": "2022-10-22T11:12:36.305Z"
   },
   {
    "duration": 15,
    "start_time": "2022-10-22T11:12:36.329Z"
   },
   {
    "duration": 8,
    "start_time": "2022-10-22T11:12:36.346Z"
   },
   {
    "duration": 24,
    "start_time": "2022-10-22T11:12:36.357Z"
   },
   {
    "duration": 37,
    "start_time": "2022-10-22T11:12:36.383Z"
   },
   {
    "duration": 14,
    "start_time": "2022-10-22T11:12:36.421Z"
   },
   {
    "duration": 35,
    "start_time": "2022-10-22T11:12:36.437Z"
   },
   {
    "duration": 17,
    "start_time": "2022-10-22T11:12:36.473Z"
   },
   {
    "duration": 35,
    "start_time": "2022-10-22T11:12:36.491Z"
   },
   {
    "duration": 34,
    "start_time": "2022-10-22T11:12:36.527Z"
   },
   {
    "duration": 293,
    "start_time": "2022-10-22T11:12:36.562Z"
   },
   {
    "duration": 15,
    "start_time": "2022-10-22T11:12:36.857Z"
   },
   {
    "duration": 19,
    "start_time": "2022-10-22T11:12:36.873Z"
   },
   {
    "duration": 393,
    "start_time": "2022-10-22T11:12:36.894Z"
   },
   {
    "duration": 36,
    "start_time": "2022-10-22T11:12:37.289Z"
   },
   {
    "duration": 15,
    "start_time": "2022-10-22T11:12:37.327Z"
   },
   {
    "duration": 12,
    "start_time": "2022-10-22T11:12:37.344Z"
   },
   {
    "duration": 462,
    "start_time": "2022-10-22T11:12:37.358Z"
   },
   {
    "duration": 30,
    "start_time": "2022-10-22T11:12:37.822Z"
   },
   {
    "duration": 21,
    "start_time": "2022-10-22T11:12:37.854Z"
   },
   {
    "duration": 232,
    "start_time": "2022-10-22T11:12:37.877Z"
   },
   {
    "duration": 244,
    "start_time": "2022-10-22T11:12:38.113Z"
   },
   {
    "duration": 157,
    "start_time": "2022-10-22T11:12:38.358Z"
   },
   {
    "duration": 154,
    "start_time": "2022-10-22T11:12:38.516Z"
   },
   {
    "duration": 22,
    "start_time": "2022-10-22T11:12:38.672Z"
   },
   {
    "duration": 15,
    "start_time": "2022-10-22T11:12:38.696Z"
   },
   {
    "duration": 34,
    "start_time": "2022-10-22T11:12:38.713Z"
   },
   {
    "duration": 190,
    "start_time": "2022-10-22T11:12:38.749Z"
   },
   {
    "duration": 8,
    "start_time": "2022-10-22T11:12:38.941Z"
   },
   {
    "duration": 290,
    "start_time": "2022-10-22T11:12:38.950Z"
   },
   {
    "duration": 8,
    "start_time": "2022-10-22T11:12:39.242Z"
   },
   {
    "duration": 377,
    "start_time": "2022-10-22T11:12:39.251Z"
   },
   {
    "duration": 8,
    "start_time": "2022-10-22T11:12:39.629Z"
   },
   {
    "duration": 275,
    "start_time": "2022-10-22T11:12:39.638Z"
   },
   {
    "duration": 13,
    "start_time": "2022-10-22T11:12:39.915Z"
   },
   {
    "duration": 6,
    "start_time": "2022-10-22T11:12:39.929Z"
   },
   {
    "duration": 6,
    "start_time": "2022-10-22T11:12:39.936Z"
   },
   {
    "duration": 5,
    "start_time": "2022-10-22T11:12:39.944Z"
   },
   {
    "duration": 8,
    "start_time": "2022-10-22T11:12:39.950Z"
   },
   {
    "duration": 4,
    "start_time": "2022-10-22T11:12:39.959Z"
   },
   {
    "duration": 6,
    "start_time": "2022-10-22T11:12:39.964Z"
   },
   {
    "duration": 7,
    "start_time": "2022-10-22T11:12:39.971Z"
   },
   {
    "duration": 3,
    "start_time": "2022-10-22T11:17:14.071Z"
   },
   {
    "duration": 64,
    "start_time": "2022-10-22T11:17:14.076Z"
   },
   {
    "duration": 14,
    "start_time": "2022-10-22T11:17:14.142Z"
   },
   {
    "duration": 5,
    "start_time": "2022-10-22T11:17:14.158Z"
   },
   {
    "duration": 21,
    "start_time": "2022-10-22T11:17:14.165Z"
   },
   {
    "duration": 41,
    "start_time": "2022-10-22T11:17:14.187Z"
   },
   {
    "duration": 162,
    "start_time": "2022-10-22T11:17:14.230Z"
   },
   {
    "duration": 30,
    "start_time": "2022-10-22T11:17:14.394Z"
   },
   {
    "duration": 12,
    "start_time": "2022-10-22T11:17:14.425Z"
   },
   {
    "duration": 9,
    "start_time": "2022-10-22T11:17:14.439Z"
   },
   {
    "duration": 8,
    "start_time": "2022-10-22T11:17:14.449Z"
   },
   {
    "duration": 14,
    "start_time": "2022-10-22T11:17:14.458Z"
   },
   {
    "duration": 5,
    "start_time": "2022-10-22T11:17:14.474Z"
   },
   {
    "duration": 51,
    "start_time": "2022-10-22T11:17:14.482Z"
   },
   {
    "duration": 4,
    "start_time": "2022-10-22T11:17:14.534Z"
   },
   {
    "duration": 15,
    "start_time": "2022-10-22T11:17:14.540Z"
   },
   {
    "duration": 24,
    "start_time": "2022-10-22T11:17:14.556Z"
   },
   {
    "duration": 325,
    "start_time": "2022-10-22T11:17:14.581Z"
   },
   {
    "duration": 26,
    "start_time": "2022-10-22T11:17:14.907Z"
   },
   {
    "duration": 21,
    "start_time": "2022-10-22T11:17:14.934Z"
   },
   {
    "duration": 409,
    "start_time": "2022-10-22T11:17:14.956Z"
   },
   {
    "duration": 28,
    "start_time": "2022-10-22T11:17:15.367Z"
   },
   {
    "duration": 45,
    "start_time": "2022-10-22T11:17:15.397Z"
   },
   {
    "duration": 8,
    "start_time": "2022-10-22T11:17:15.444Z"
   },
   {
    "duration": 495,
    "start_time": "2022-10-22T11:17:15.453Z"
   },
   {
    "duration": 33,
    "start_time": "2022-10-22T11:17:15.949Z"
   },
   {
    "duration": 21,
    "start_time": "2022-10-22T11:17:15.984Z"
   },
   {
    "duration": 228,
    "start_time": "2022-10-22T11:17:16.024Z"
   },
   {
    "duration": 252,
    "start_time": "2022-10-22T11:17:16.253Z"
   },
   {
    "duration": 153,
    "start_time": "2022-10-22T11:17:16.506Z"
   },
   {
    "duration": 154,
    "start_time": "2022-10-22T11:17:16.661Z"
   },
   {
    "duration": 23,
    "start_time": "2022-10-22T11:17:16.823Z"
   },
   {
    "duration": 7,
    "start_time": "2022-10-22T11:17:16.847Z"
   },
   {
    "duration": 12,
    "start_time": "2022-10-22T11:17:16.855Z"
   },
   {
    "duration": 196,
    "start_time": "2022-10-22T11:17:16.868Z"
   },
   {
    "duration": 8,
    "start_time": "2022-10-22T11:17:17.066Z"
   },
   {
    "duration": 298,
    "start_time": "2022-10-22T11:17:17.076Z"
   },
   {
    "duration": 8,
    "start_time": "2022-10-22T11:17:17.376Z"
   },
   {
    "duration": 303,
    "start_time": "2022-10-22T11:17:17.386Z"
   },
   {
    "duration": 8,
    "start_time": "2022-10-22T11:17:17.691Z"
   },
   {
    "duration": 400,
    "start_time": "2022-10-22T11:17:17.703Z"
   },
   {
    "duration": 6,
    "start_time": "2022-10-22T11:17:18.105Z"
   },
   {
    "duration": 15,
    "start_time": "2022-10-22T11:17:18.113Z"
   },
   {
    "duration": 10,
    "start_time": "2022-10-22T11:17:18.130Z"
   },
   {
    "duration": 13,
    "start_time": "2022-10-22T11:17:18.142Z"
   },
   {
    "duration": 8,
    "start_time": "2022-10-22T11:17:18.157Z"
   },
   {
    "duration": 4,
    "start_time": "2022-10-22T11:17:18.166Z"
   },
   {
    "duration": 4,
    "start_time": "2022-10-22T11:17:18.172Z"
   },
   {
    "duration": 9,
    "start_time": "2022-10-22T11:17:18.177Z"
   }
  ],
  "kernelspec": {
   "display_name": "Python 3 (ipykernel)",
   "language": "python",
   "name": "python3"
  },
  "language_info": {
   "codemirror_mode": {
    "name": "ipython",
    "version": 3
   },
   "file_extension": ".py",
   "mimetype": "text/x-python",
   "name": "python",
   "nbconvert_exporter": "python",
   "pygments_lexer": "ipython3",
   "version": "3.9.13"
  },
  "toc": {
   "base_numbering": 1,
   "nav_menu": {},
   "number_sections": true,
   "sideBar": true,
   "skip_h1_title": true,
   "title_cell": "Table of Contents",
   "title_sidebar": "Contents",
   "toc_cell": false,
   "toc_position": {},
   "toc_section_display": true,
   "toc_window_display": false
  }
 },
 "nbformat": 4,
 "nbformat_minor": 2
}
