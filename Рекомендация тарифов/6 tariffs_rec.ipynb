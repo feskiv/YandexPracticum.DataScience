{
 "cells": [
  {
   "cell_type": "markdown",
   "metadata": {},
   "source": [
    "# Рекомендация тарифов"
   ]
  },
  {
   "cell_type": "markdown",
   "metadata": {},
   "source": [
    "В вашем распоряжении данные о поведении клиентов, которые уже перешли на эти тарифы (из проекта курса «Статистический анализ данных»). Нужно построить модель для задачи классификации, которая выберет подходящий тариф. Предобработка данных не понадобится — вы её уже сделали.\n",
    "\n",
    "Постройте модель с максимально большим значением *accuracy*. Чтобы сдать проект успешно, нужно довести долю правильных ответов по крайней мере до 0.75. Проверьте *accuracy* на тестовой выборке самостоятельно."
   ]
  },
  {
   "cell_type": "markdown",
   "metadata": {},
   "source": [
    "## Изучение данных"
   ]
  },
  {
   "cell_type": "code",
   "execution_count": 1,
   "metadata": {},
   "outputs": [],
   "source": [
    "import pandas as pd\n",
    "\n",
    "from sklearn.model_selection import train_test_split\n",
    "\n",
    "from sklearn.tree import DecisionTreeClassifier \n",
    "from sklearn.ensemble import RandomForestClassifier \n",
    "from sklearn.linear_model import LogisticRegression \n",
    "from sklearn.dummy import DummyClassifier\n",
    "\n",
    "from sklearn.metrics import accuracy_score "
   ]
  },
  {
   "cell_type": "code",
   "execution_count": 2,
   "metadata": {
    "scrolled": true
   },
   "outputs": [
    {
     "data": {
      "text/html": [
       "<div>\n",
       "<style scoped>\n",
       "    .dataframe tbody tr th:only-of-type {\n",
       "        vertical-align: middle;\n",
       "    }\n",
       "\n",
       "    .dataframe tbody tr th {\n",
       "        vertical-align: top;\n",
       "    }\n",
       "\n",
       "    .dataframe thead th {\n",
       "        text-align: right;\n",
       "    }\n",
       "</style>\n",
       "<table border=\"1\" class=\"dataframe\">\n",
       "  <thead>\n",
       "    <tr style=\"text-align: right;\">\n",
       "      <th></th>\n",
       "      <th>calls</th>\n",
       "      <th>minutes</th>\n",
       "      <th>messages</th>\n",
       "      <th>mb_used</th>\n",
       "      <th>is_ultra</th>\n",
       "    </tr>\n",
       "  </thead>\n",
       "  <tbody>\n",
       "    <tr>\n",
       "      <th>0</th>\n",
       "      <td>40.0</td>\n",
       "      <td>311.90</td>\n",
       "      <td>83.0</td>\n",
       "      <td>19915.42</td>\n",
       "      <td>0</td>\n",
       "    </tr>\n",
       "    <tr>\n",
       "      <th>1</th>\n",
       "      <td>85.0</td>\n",
       "      <td>516.75</td>\n",
       "      <td>56.0</td>\n",
       "      <td>22696.96</td>\n",
       "      <td>0</td>\n",
       "    </tr>\n",
       "    <tr>\n",
       "      <th>2</th>\n",
       "      <td>77.0</td>\n",
       "      <td>467.66</td>\n",
       "      <td>86.0</td>\n",
       "      <td>21060.45</td>\n",
       "      <td>0</td>\n",
       "    </tr>\n",
       "    <tr>\n",
       "      <th>3</th>\n",
       "      <td>106.0</td>\n",
       "      <td>745.53</td>\n",
       "      <td>81.0</td>\n",
       "      <td>8437.39</td>\n",
       "      <td>1</td>\n",
       "    </tr>\n",
       "    <tr>\n",
       "      <th>4</th>\n",
       "      <td>66.0</td>\n",
       "      <td>418.74</td>\n",
       "      <td>1.0</td>\n",
       "      <td>14502.75</td>\n",
       "      <td>0</td>\n",
       "    </tr>\n",
       "  </tbody>\n",
       "</table>\n",
       "</div>"
      ],
      "text/plain": [
       "   calls  minutes  messages   mb_used  is_ultra\n",
       "0   40.0   311.90      83.0  19915.42         0\n",
       "1   85.0   516.75      56.0  22696.96         0\n",
       "2   77.0   467.66      86.0  21060.45         0\n",
       "3  106.0   745.53      81.0   8437.39         1\n",
       "4   66.0   418.74       1.0  14502.75         0"
      ]
     },
     "execution_count": 2,
     "metadata": {},
     "output_type": "execute_result"
    }
   ],
   "source": [
    "data = pd.read_csv('/datasets/users_behavior.csv')\n",
    "data.head()"
   ]
  },
  {
   "cell_type": "code",
   "execution_count": 3,
   "metadata": {
    "scrolled": false
   },
   "outputs": [
    {
     "name": "stdout",
     "output_type": "stream",
     "text": [
      "<class 'pandas.core.frame.DataFrame'>\n",
      "RangeIndex: 3214 entries, 0 to 3213\n",
      "Data columns (total 5 columns):\n",
      " #   Column    Non-Null Count  Dtype  \n",
      "---  ------    --------------  -----  \n",
      " 0   calls     3214 non-null   float64\n",
      " 1   minutes   3214 non-null   float64\n",
      " 2   messages  3214 non-null   float64\n",
      " 3   mb_used   3214 non-null   float64\n",
      " 4   is_ultra  3214 non-null   int64  \n",
      "dtypes: float64(4), int64(1)\n",
      "memory usage: 125.7 KB\n"
     ]
    }
   ],
   "source": [
    "data.info()"
   ]
  },
  {
   "cell_type": "code",
   "execution_count": 4,
   "metadata": {},
   "outputs": [
    {
     "data": {
      "text/plain": [
       "0    2229\n",
       "1     985\n",
       "Name: is_ultra, dtype: int64"
      ]
     },
     "execution_count": 4,
     "metadata": {},
     "output_type": "execute_result"
    }
   ],
   "source": [
    "data['is_ultra'].value_counts()"
   ]
  },
  {
   "cell_type": "markdown",
   "metadata": {},
   "source": [
    "Данные обрабатывали ранее - с ними все в порядке. В датасете 3214 объектов, из них: тариф смарт(0) - 2229, тариф ультра(1) - 985."
   ]
  },
  {
   "cell_type": "markdown",
   "metadata": {},
   "source": [
    "## Разбиение на выборки"
   ]
  },
  {
   "cell_type": "markdown",
   "metadata": {},
   "source": [
    "Перед нами стоит задача бинарной классификации, целевой признак - 'is_ultra', остальные признаки помогут предсказать значения этого столбца.\n",
    "\n",
    "Разобьем данные на три выборки: обучающую, валидационную и тестовую, в пропорции 3:1:1. Затем признаки каждой из выборок запишем в отдельные переменные."
   ]
  },
  {
   "cell_type": "code",
   "execution_count": 5,
   "metadata": {},
   "outputs": [
    {
     "name": "stdout",
     "output_type": "stream",
     "text": [
      "Размер обучающей выборки: 1928\n",
      "Размер валидационной выборки: 643\n",
      "Размер тестовой выборки: 643\n"
     ]
    }
   ],
   "source": [
    "data_train, data_other = train_test_split(data, test_size=0.4, random_state=12345)\n",
    "data_valid, data_test = train_test_split(data_other, test_size=0.5, random_state=12345)\n",
    "print('Размер обучающей выборки:', len(data_train))\n",
    "print('Размер валидационной выборки:', len(data_valid))\n",
    "print('Размер тестовой выборки:', len(data_test))"
   ]
  },
  {
   "cell_type": "code",
   "execution_count": 6,
   "metadata": {
    "scrolled": true
   },
   "outputs": [
    {
     "name": "stdout",
     "output_type": "stream",
     "text": [
      "(1928, 4)\n",
      "(1928,)\n"
     ]
    }
   ],
   "source": [
    "features_train = data_train.drop(['is_ultra'], axis=1)\n",
    "target_train = data_train['is_ultra']\n",
    "\n",
    "features_valid = data_valid.drop(['is_ultra'], axis=1)\n",
    "target_valid = data_valid['is_ultra']\n",
    "\n",
    "features_test = data_test.drop(['is_ultra'], axis=1)\n",
    "target_test = data_test['is_ultra']\n",
    "\n",
    "# проверим размер на обучающей выборке \n",
    "print(features_train.shape)\n",
    "print(target_train.shape)"
   ]
  },
  {
   "cell_type": "markdown",
   "metadata": {},
   "source": [
    "## Исследование моделей"
   ]
  },
  {
   "cell_type": "markdown",
   "metadata": {},
   "source": [
    "Обучим каждую из моделей на обучающей выборке, переберем гиперпараметры и выберем модель с наилучшим результом accuracy на валидационной выборке.\n",
    "\n",
    "**Дерево решений**"
   ]
  },
  {
   "cell_type": "code",
   "execution_count": 7,
   "metadata": {},
   "outputs": [
    {
     "name": "stdout",
     "output_type": "stream",
     "text": [
      "Accuracy лучшей модели: 0.7853810264385692\n",
      "Глубина лучшей модели: 3\n"
     ]
    }
   ],
   "source": [
    "best_model = None\n",
    "best_result = 0\n",
    "best_depth = 0\n",
    "for depth in range(1, 6):\n",
    "    model = DecisionTreeClassifier(random_state=12345, max_depth=depth) \n",
    "    model.fit(features_train,target_train)\n",
    "    predictions = model.predict(features_valid)\n",
    "    result = accuracy_score(target_valid,predictions) \n",
    "    if result > best_result:\n",
    "        best_model = model\n",
    "        best_result = result\n",
    "        best_depth = depth\n",
    "        \n",
    "print(\"Accuracy лучшей модели:\", best_result)\n",
    "print(\"Глубина лучшей модели:\", best_depth)"
   ]
  },
  {
   "cell_type": "markdown",
   "metadata": {},
   "source": [
    "**Случайный лес**"
   ]
  },
  {
   "cell_type": "code",
   "execution_count": 8,
   "metadata": {},
   "outputs": [
    {
     "name": "stdout",
     "output_type": "stream",
     "text": [
      "Accuracy лучшей модели: 0.8087091757387247\n",
      "Глубина лучшей модели: 8\n",
      "Количество деревьев лучшей модели: 40\n"
     ]
    }
   ],
   "source": [
    "best_model_forest = None\n",
    "best_result = 0\n",
    "best_depth = 0\n",
    "best_est = 0\n",
    "for est in range(1, 50):\n",
    "    for depth in range(1, 11):\n",
    "        model = RandomForestClassifier(random_state=12345, n_estimators=est, max_depth=depth) \n",
    "        model.fit(features_train, target_train) \n",
    "        result = model.score(features_valid, target_valid)\n",
    "        if result > best_result:\n",
    "            best_model_forest = model\n",
    "            best_result = result\n",
    "            best_depth = depth\n",
    "            best_est = est\n",
    "\n",
    "print(\"Accuracy лучшей модели:\", best_result)\n",
    "print(\"Глубина лучшей модели:\", best_depth)\n",
    "print(\"Количество деревьев лучшей модели:\", best_est)"
   ]
  },
  {
   "cell_type": "markdown",
   "metadata": {},
   "source": [
    "**Логистическая регрессия**"
   ]
  },
  {
   "cell_type": "code",
   "execution_count": 9,
   "metadata": {
    "scrolled": true
   },
   "outputs": [
    {
     "name": "stdout",
     "output_type": "stream",
     "text": [
      "Accuracy модели: 0.7107309486780715\n"
     ]
    }
   ],
   "source": [
    "model = LogisticRegression(random_state=12345, solver='lbfgs') \n",
    "model.fit(features_train, target_train) \n",
    "predictions = model.predict(features_valid)\n",
    "result = accuracy_score(target_valid,predictions) \n",
    "\n",
    "print(\"Accuracy модели:\", result)"
   ]
  },
  {
   "cell_type": "markdown",
   "metadata": {},
   "source": [
    "Наилучшая модель - случайный лес (accuracy - 0,80) с 40 деревьями и глубиной, равной 8. Дальше работать будем с ней."
   ]
  },
  {
   "cell_type": "markdown",
   "metadata": {},
   "source": [
    "## Проверка модели на тестовой выборке"
   ]
  },
  {
   "cell_type": "markdown",
   "metadata": {},
   "source": [
    "Проверим точность предсказаний модели случайного леса на тестовой выборке."
   ]
  },
  {
   "cell_type": "code",
   "execution_count": 10,
   "metadata": {},
   "outputs": [
    {
     "name": "stdout",
     "output_type": "stream",
     "text": [
      "Accuracy модели: 0.7962674961119751\n"
     ]
    }
   ],
   "source": [
    "predictions = best_model_forest.predict(features_test) \n",
    "result = accuracy_score(target_test,predictions) \n",
    "\n",
    "print(\"Accuracy модели:\", result)"
   ]
  },
  {
   "cell_type": "markdown",
   "metadata": {},
   "source": [
    "Accuracy модели на тестовой выборке снизилась совсем незначительно, значит модель хорошо обучилась и не сильно промахивается в своих предсказаниях."
   ]
  },
  {
   "cell_type": "markdown",
   "metadata": {},
   "source": [
    "## Проверка модели на адекватность"
   ]
  },
  {
   "cell_type": "markdown",
   "metadata": {},
   "source": [
    "Сравним точность модели случайного леса на тестовой выборке с предсказаниями DummyClassifier - простейшей модели, которая всегда предсказывает наиболее часто встречающийся класс (в данном случае - тариф смарт(0)). "
   ]
  },
  {
   "cell_type": "code",
   "execution_count": 11,
   "metadata": {},
   "outputs": [
    {
     "name": "stdout",
     "output_type": "stream",
     "text": [
      "Accuracy модели: 0.6842923794712286\n"
     ]
    }
   ],
   "source": [
    "dummy_clf = DummyClassifier(strategy='most_frequent', random_state=12345)\n",
    "dummy_clf.fit(features_train, target_train)\n",
    "predictions = dummy_clf.predict(features_test)\n",
    "result = dummy_clf.score(predictions, target_test)\n",
    "\n",
    "print(\"Accuracy модели:\", result)"
   ]
  },
  {
   "cell_type": "markdown",
   "metadata": {},
   "source": [
    "Accuracy модели случайного леса на 12% выше, чем DummyClassifier, значит модель адекватна и с ней можно работать."
   ]
  },
  {
   "cell_type": "markdown",
   "metadata": {},
   "source": [
    "**Вывод**\n",
    "\n",
    "Для подбора наиболее подходящего тарифа на основе данных о поведении клиентов были обучены 3 модели: дерево решений, случайный лес и логистическая регрессия.\n",
    "\n",
    "Наилучший результат показала модель случайного леса с accuracy = 0,80 и следующими гиперпараметрами:\n",
    "- max_depth = 8\n",
    "- n_estimators = 40\n",
    "\n",
    "Модель дерева решений также достаточно точна (0,78). Наименьшая точность у логистической регрессии (0,71).\n",
    "\n",
    "При проверке модели случайного леса на тестовой выборке точность снизилась совсем не существенно, а при сравнении с простейшей моделью DummyClassifier точность оказалась более, чем на 10% выше.\n",
    "\n",
    "Исходя из оценки точности и проверки на адекватность наиболее подходящяя модель для решения задачи классификации - модель случайного леса."
   ]
  }
 ],
 "metadata": {
  "ExecuteTimeLog": [
   {
    "duration": 1314,
    "start_time": "2022-11-02T12:23:21.802Z"
   },
   {
    "duration": 169,
    "start_time": "2022-11-02T12:24:11.472Z"
   },
   {
    "duration": 42,
    "start_time": "2022-11-02T12:24:20.936Z"
   },
   {
    "duration": 37,
    "start_time": "2022-11-02T12:27:46.538Z"
   },
   {
    "duration": 18,
    "start_time": "2022-11-02T12:28:05.440Z"
   },
   {
    "duration": 5,
    "start_time": "2022-11-02T15:11:38.902Z"
   },
   {
    "duration": 4,
    "start_time": "2022-11-02T15:11:53.122Z"
   },
   {
    "duration": 5,
    "start_time": "2022-11-02T15:11:56.376Z"
   },
   {
    "duration": 1293,
    "start_time": "2022-11-03T08:41:18.747Z"
   },
   {
    "duration": 86,
    "start_time": "2022-11-03T08:41:20.042Z"
   },
   {
    "duration": 363,
    "start_time": "2022-11-03T08:41:20.130Z"
   },
   {
    "duration": 12,
    "start_time": "2022-11-03T08:41:20.496Z"
   },
   {
    "duration": 7,
    "start_time": "2022-11-03T08:57:42.942Z"
   },
   {
    "duration": 10,
    "start_time": "2022-11-03T09:00:13.600Z"
   },
   {
    "duration": 21,
    "start_time": "2022-11-03T09:03:47.821Z"
   },
   {
    "duration": 6,
    "start_time": "2022-11-03T09:03:57.597Z"
   },
   {
    "duration": 9,
    "start_time": "2022-11-03T09:10:16.980Z"
   },
   {
    "duration": 7,
    "start_time": "2022-11-03T09:11:28.004Z"
   },
   {
    "duration": 9,
    "start_time": "2022-11-03T09:55:56.154Z"
   },
   {
    "duration": 7,
    "start_time": "2022-11-03T09:56:08.142Z"
   },
   {
    "duration": 35,
    "start_time": "2022-11-03T11:40:31.315Z"
   },
   {
    "duration": 123,
    "start_time": "2022-11-03T11:49:28.094Z"
   },
   {
    "duration": 34,
    "start_time": "2022-11-03T11:50:33.586Z"
   },
   {
    "duration": 324,
    "start_time": "2022-11-03T11:52:01.986Z"
   },
   {
    "duration": 73,
    "start_time": "2022-11-03T11:53:30.682Z"
   },
   {
    "duration": 13450,
    "start_time": "2022-11-03T11:53:58.890Z"
   },
   {
    "duration": 5219,
    "start_time": "2022-11-03T11:54:56.106Z"
   },
   {
    "duration": 5353,
    "start_time": "2022-11-03T11:57:28.537Z"
   },
   {
    "duration": 4,
    "start_time": "2022-11-03T11:57:38.586Z"
   },
   {
    "duration": 50,
    "start_time": "2022-11-03T11:57:38.592Z"
   },
   {
    "duration": 11,
    "start_time": "2022-11-03T11:57:38.644Z"
   },
   {
    "duration": 24,
    "start_time": "2022-11-03T11:57:38.658Z"
   },
   {
    "duration": 16,
    "start_time": "2022-11-03T11:57:38.683Z"
   },
   {
    "duration": 27,
    "start_time": "2022-11-03T11:57:38.700Z"
   },
   {
    "duration": 57,
    "start_time": "2022-11-03T11:57:38.728Z"
   },
   {
    "duration": 5248,
    "start_time": "2022-11-03T11:57:43.368Z"
   },
   {
    "duration": 10,
    "start_time": "2022-11-03T11:59:57.689Z"
   },
   {
    "duration": 33,
    "start_time": "2022-11-03T12:00:17.851Z"
   },
   {
    "duration": 27,
    "start_time": "2022-11-03T12:01:37.712Z"
   },
   {
    "duration": 27420,
    "start_time": "2022-11-03T12:01:48.097Z"
   },
   {
    "duration": 89905,
    "start_time": "2022-11-03T12:02:30.536Z"
   },
   {
    "duration": 4,
    "start_time": "2022-11-03T12:04:40.953Z"
   },
   {
    "duration": 71,
    "start_time": "2022-11-03T12:04:40.962Z"
   },
   {
    "duration": 12,
    "start_time": "2022-11-03T12:04:41.035Z"
   },
   {
    "duration": 20,
    "start_time": "2022-11-03T12:04:41.050Z"
   },
   {
    "duration": 18,
    "start_time": "2022-11-03T12:04:41.072Z"
   },
   {
    "duration": 47,
    "start_time": "2022-11-03T12:04:41.092Z"
   },
   {
    "duration": 49,
    "start_time": "2022-11-03T12:04:41.141Z"
   },
   {
    "duration": 89559,
    "start_time": "2022-11-03T12:04:41.192Z"
   },
   {
    "duration": 4682,
    "start_time": "2022-11-03T12:16:35.224Z"
   },
   {
    "duration": 14117,
    "start_time": "2022-11-03T12:16:49.022Z"
   },
   {
    "duration": 26437,
    "start_time": "2022-11-03T12:19:22.230Z"
   },
   {
    "duration": 10225,
    "start_time": "2022-11-03T12:19:57.182Z"
   },
   {
    "duration": 5595,
    "start_time": "2022-11-03T12:20:55.854Z"
   },
   {
    "duration": 17561,
    "start_time": "2022-11-03T12:21:11.086Z"
   },
   {
    "duration": 4332,
    "start_time": "2022-11-03T12:21:50.838Z"
   },
   {
    "duration": 26715,
    "start_time": "2022-11-03T12:22:01.478Z"
   },
   {
    "duration": 4393,
    "start_time": "2022-11-03T12:22:38.342Z"
   },
   {
    "duration": 52143,
    "start_time": "2022-11-03T12:24:32.510Z"
   },
   {
    "duration": 53530,
    "start_time": "2022-11-03T12:31:48.373Z"
   },
   {
    "duration": 28109,
    "start_time": "2022-11-03T12:33:09.165Z"
   },
   {
    "duration": 53520,
    "start_time": "2022-11-03T12:33:54.885Z"
   },
   {
    "duration": 31,
    "start_time": "2022-11-03T12:54:56.553Z"
   },
   {
    "duration": 36,
    "start_time": "2022-11-03T12:55:40.408Z"
   },
   {
    "duration": 33,
    "start_time": "2022-11-03T12:56:02.297Z"
   },
   {
    "duration": 30,
    "start_time": "2022-11-03T12:56:10.856Z"
   },
   {
    "duration": 37,
    "start_time": "2022-11-03T12:56:42.320Z"
   },
   {
    "duration": 53814,
    "start_time": "2022-11-03T12:58:04.160Z"
   },
   {
    "duration": 32,
    "start_time": "2022-11-03T12:58:57.977Z"
   },
   {
    "duration": 105383,
    "start_time": "2022-11-03T13:01:22.642Z"
   },
   {
    "duration": 4353,
    "start_time": "2022-11-03T13:06:23.991Z"
   },
   {
    "duration": 7920,
    "start_time": "2022-11-03T13:06:37.768Z"
   },
   {
    "duration": 53227,
    "start_time": "2022-11-03T13:08:39.478Z"
   },
   {
    "duration": 3,
    "start_time": "2022-11-03T13:15:22.135Z"
   },
   {
    "duration": 46,
    "start_time": "2022-11-03T13:15:22.140Z"
   },
   {
    "duration": 10,
    "start_time": "2022-11-03T13:15:22.188Z"
   },
   {
    "duration": 5,
    "start_time": "2022-11-03T13:15:22.201Z"
   },
   {
    "duration": 9,
    "start_time": "2022-11-03T13:15:22.207Z"
   },
   {
    "duration": 13,
    "start_time": "2022-11-03T13:15:22.218Z"
   },
   {
    "duration": 44,
    "start_time": "2022-11-03T13:15:22.233Z"
   },
   {
    "duration": 53262,
    "start_time": "2022-11-03T13:15:22.279Z"
   },
   {
    "duration": 3,
    "start_time": "2022-11-03T13:48:18.225Z"
   },
   {
    "duration": 4,
    "start_time": "2022-11-03T13:51:54.256Z"
   },
   {
    "duration": 14,
    "start_time": "2022-11-03T14:09:07.976Z"
   },
   {
    "duration": 90,
    "start_time": "2022-11-03T14:10:46.181Z"
   },
   {
    "duration": 54125,
    "start_time": "2022-11-03T14:11:43.189Z"
   },
   {
    "duration": 14,
    "start_time": "2022-11-03T14:13:19.957Z"
   },
   {
    "duration": 53630,
    "start_time": "2022-11-03T14:14:35.086Z"
   },
   {
    "duration": 14,
    "start_time": "2022-11-03T14:15:35.382Z"
   },
   {
    "duration": 56,
    "start_time": "2022-11-03T14:16:01.549Z"
   },
   {
    "duration": 51,
    "start_time": "2022-11-03T14:16:16.909Z"
   },
   {
    "duration": 13,
    "start_time": "2022-11-03T14:16:37.237Z"
   },
   {
    "duration": 50000,
    "start_time": "2022-11-03T14:38:13.578Z"
   },
   {
    "duration": 12,
    "start_time": "2022-11-03T14:42:58.985Z"
   },
   {
    "duration": 34111,
    "start_time": "2022-11-03T14:46:17.993Z"
   },
   {
    "duration": 14,
    "start_time": "2022-11-03T14:48:22.488Z"
   },
   {
    "duration": 7,
    "start_time": "2022-11-03T15:05:13.904Z"
   },
   {
    "duration": 3,
    "start_time": "2022-11-03T15:28:33.975Z"
   },
   {
    "duration": 50,
    "start_time": "2022-11-03T15:28:33.981Z"
   },
   {
    "duration": 13,
    "start_time": "2022-11-03T15:28:34.033Z"
   },
   {
    "duration": 9,
    "start_time": "2022-11-03T15:28:34.048Z"
   },
   {
    "duration": 10,
    "start_time": "2022-11-03T15:28:34.059Z"
   },
   {
    "duration": 7,
    "start_time": "2022-11-03T15:28:34.071Z"
   },
   {
    "duration": 65,
    "start_time": "2022-11-03T15:28:34.080Z"
   },
   {
    "duration": 34106,
    "start_time": "2022-11-03T15:28:34.147Z"
   },
   {
    "duration": 37,
    "start_time": "2022-11-03T15:29:08.256Z"
   },
   {
    "duration": 35,
    "start_time": "2022-11-03T15:29:08.296Z"
   },
   {
    "duration": 6,
    "start_time": "2022-11-03T15:29:08.333Z"
   },
   {
    "duration": 9,
    "start_time": "2022-11-03T15:30:26.621Z"
   },
   {
    "duration": 1225,
    "start_time": "2022-11-03T19:02:41.057Z"
   },
   {
    "duration": 80,
    "start_time": "2022-11-03T19:02:42.284Z"
   },
   {
    "duration": 13,
    "start_time": "2022-11-03T19:02:42.365Z"
   },
   {
    "duration": 6,
    "start_time": "2022-11-03T19:02:42.379Z"
   },
   {
    "duration": 27,
    "start_time": "2022-11-03T19:02:42.388Z"
   },
   {
    "duration": 12,
    "start_time": "2022-11-03T19:02:42.417Z"
   },
   {
    "duration": 40,
    "start_time": "2022-11-03T19:02:42.431Z"
   },
   {
    "duration": 34138,
    "start_time": "2022-11-03T19:02:42.473Z"
   },
   {
    "duration": 35,
    "start_time": "2022-11-03T19:03:16.613Z"
   },
   {
    "duration": 15,
    "start_time": "2022-11-03T19:03:16.650Z"
   },
   {
    "duration": 6,
    "start_time": "2022-11-03T19:03:16.667Z"
   }
  ],
  "kernelspec": {
   "display_name": "Python 3 (ipykernel)",
   "language": "python",
   "name": "python3"
  },
  "language_info": {
   "codemirror_mode": {
    "name": "ipython",
    "version": 3
   },
   "file_extension": ".py",
   "mimetype": "text/x-python",
   "name": "python",
   "nbconvert_exporter": "python",
   "pygments_lexer": "ipython3",
   "version": "3.9.13"
  },
  "toc": {
   "base_numbering": 1,
   "nav_menu": {},
   "number_sections": true,
   "sideBar": true,
   "skip_h1_title": true,
   "title_cell": "Table of Contents",
   "title_sidebar": "Contents",
   "toc_cell": false,
   "toc_position": {},
   "toc_section_display": true,
   "toc_window_display": false
  }
 },
 "nbformat": 4,
 "nbformat_minor": 2
}
