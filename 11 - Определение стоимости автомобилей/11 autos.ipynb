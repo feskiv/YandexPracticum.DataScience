{
 "cells": [
  {
   "cell_type": "markdown",
   "metadata": {},
   "source": [
    "# Определение стоимости автомобилей"
   ]
  },
  {
   "cell_type": "markdown",
   "metadata": {},
   "source": [
    "Сервис по продаже автомобилей с пробегом «Не бит, не крашен» разрабатывает приложение для привлечения новых клиентов. В нём можно быстро узнать рыночную стоимость своего автомобиля. В вашем распоряжении исторические данные: технические характеристики, комплектации и цены автомобилей. Нужно построить модель для определения стоимости. \n",
    "\n",
    "Заказчику важны:\n",
    "\n",
    "- качество предсказания;\n",
    "- скорость предсказания;\n",
    "- время обучения."
   ]
  },
  {
   "cell_type": "markdown",
   "metadata": {},
   "source": [
    "## Подготовка данных"
   ]
  },
  {
   "cell_type": "code",
   "execution_count": 6,
   "metadata": {},
   "outputs": [],
   "source": [
    "import pandas as pd\n",
    "import matplotlib.pyplot as plt\n",
    "import numpy as np\n",
    "\n",
    "from sklearn.model_selection import train_test_split\n",
    "from sklearn.model_selection import GridSearchCV, cross_val_score\n",
    "\n",
    "from sklearn.linear_model import LinearRegression\n",
    "from sklearn.ensemble import RandomForestRegressor\n",
    "from sklearn.dummy import DummyRegressor\n",
    "\n",
    "import lightgbm as lgb\n",
    "\n",
    "from sklearn.metrics import make_scorer\n",
    "from sklearn.metrics import mean_squared_error\n",
    "\n",
    "from sklearn.preprocessing import StandardScaler, OrdinalEncoder\n",
    "\n",
    "import time\n",
    "import warnings\n",
    "warnings.filterwarnings('ignore')"
   ]
  },
  {
   "cell_type": "code",
   "execution_count": 7,
   "metadata": {
    "scrolled": true
   },
   "outputs": [
    {
     "data": {
      "text/html": [
       "<div>\n",
       "<style scoped>\n",
       "    .dataframe tbody tr th:only-of-type {\n",
       "        vertical-align: middle;\n",
       "    }\n",
       "\n",
       "    .dataframe tbody tr th {\n",
       "        vertical-align: top;\n",
       "    }\n",
       "\n",
       "    .dataframe thead th {\n",
       "        text-align: right;\n",
       "    }\n",
       "</style>\n",
       "<table border=\"1\" class=\"dataframe\">\n",
       "  <thead>\n",
       "    <tr style=\"text-align: right;\">\n",
       "      <th></th>\n",
       "      <th>DateCrawled</th>\n",
       "      <th>Price</th>\n",
       "      <th>VehicleType</th>\n",
       "      <th>RegistrationYear</th>\n",
       "      <th>Gearbox</th>\n",
       "      <th>Power</th>\n",
       "      <th>Model</th>\n",
       "      <th>Kilometer</th>\n",
       "      <th>RegistrationMonth</th>\n",
       "      <th>FuelType</th>\n",
       "      <th>Brand</th>\n",
       "      <th>Repaired</th>\n",
       "      <th>DateCreated</th>\n",
       "      <th>NumberOfPictures</th>\n",
       "      <th>PostalCode</th>\n",
       "      <th>LastSeen</th>\n",
       "    </tr>\n",
       "  </thead>\n",
       "  <tbody>\n",
       "    <tr>\n",
       "      <th>0</th>\n",
       "      <td>2016-03-24 11:52:17</td>\n",
       "      <td>480</td>\n",
       "      <td>NaN</td>\n",
       "      <td>1993</td>\n",
       "      <td>manual</td>\n",
       "      <td>0</td>\n",
       "      <td>golf</td>\n",
       "      <td>150000</td>\n",
       "      <td>0</td>\n",
       "      <td>petrol</td>\n",
       "      <td>volkswagen</td>\n",
       "      <td>NaN</td>\n",
       "      <td>2016-03-24 00:00:00</td>\n",
       "      <td>0</td>\n",
       "      <td>70435</td>\n",
       "      <td>2016-04-07 03:16:57</td>\n",
       "    </tr>\n",
       "    <tr>\n",
       "      <th>1</th>\n",
       "      <td>2016-03-24 10:58:45</td>\n",
       "      <td>18300</td>\n",
       "      <td>coupe</td>\n",
       "      <td>2011</td>\n",
       "      <td>manual</td>\n",
       "      <td>190</td>\n",
       "      <td>NaN</td>\n",
       "      <td>125000</td>\n",
       "      <td>5</td>\n",
       "      <td>gasoline</td>\n",
       "      <td>audi</td>\n",
       "      <td>yes</td>\n",
       "      <td>2016-03-24 00:00:00</td>\n",
       "      <td>0</td>\n",
       "      <td>66954</td>\n",
       "      <td>2016-04-07 01:46:50</td>\n",
       "    </tr>\n",
       "    <tr>\n",
       "      <th>2</th>\n",
       "      <td>2016-03-14 12:52:21</td>\n",
       "      <td>9800</td>\n",
       "      <td>suv</td>\n",
       "      <td>2004</td>\n",
       "      <td>auto</td>\n",
       "      <td>163</td>\n",
       "      <td>grand</td>\n",
       "      <td>125000</td>\n",
       "      <td>8</td>\n",
       "      <td>gasoline</td>\n",
       "      <td>jeep</td>\n",
       "      <td>NaN</td>\n",
       "      <td>2016-03-14 00:00:00</td>\n",
       "      <td>0</td>\n",
       "      <td>90480</td>\n",
       "      <td>2016-04-05 12:47:46</td>\n",
       "    </tr>\n",
       "    <tr>\n",
       "      <th>3</th>\n",
       "      <td>2016-03-17 16:54:04</td>\n",
       "      <td>1500</td>\n",
       "      <td>small</td>\n",
       "      <td>2001</td>\n",
       "      <td>manual</td>\n",
       "      <td>75</td>\n",
       "      <td>golf</td>\n",
       "      <td>150000</td>\n",
       "      <td>6</td>\n",
       "      <td>petrol</td>\n",
       "      <td>volkswagen</td>\n",
       "      <td>no</td>\n",
       "      <td>2016-03-17 00:00:00</td>\n",
       "      <td>0</td>\n",
       "      <td>91074</td>\n",
       "      <td>2016-03-17 17:40:17</td>\n",
       "    </tr>\n",
       "    <tr>\n",
       "      <th>4</th>\n",
       "      <td>2016-03-31 17:25:20</td>\n",
       "      <td>3600</td>\n",
       "      <td>small</td>\n",
       "      <td>2008</td>\n",
       "      <td>manual</td>\n",
       "      <td>69</td>\n",
       "      <td>fabia</td>\n",
       "      <td>90000</td>\n",
       "      <td>7</td>\n",
       "      <td>gasoline</td>\n",
       "      <td>skoda</td>\n",
       "      <td>no</td>\n",
       "      <td>2016-03-31 00:00:00</td>\n",
       "      <td>0</td>\n",
       "      <td>60437</td>\n",
       "      <td>2016-04-06 10:17:21</td>\n",
       "    </tr>\n",
       "  </tbody>\n",
       "</table>\n",
       "</div>"
      ],
      "text/plain": [
       "           DateCrawled  Price VehicleType  RegistrationYear Gearbox  Power  \\\n",
       "0  2016-03-24 11:52:17    480         NaN              1993  manual      0   \n",
       "1  2016-03-24 10:58:45  18300       coupe              2011  manual    190   \n",
       "2  2016-03-14 12:52:21   9800         suv              2004    auto    163   \n",
       "3  2016-03-17 16:54:04   1500       small              2001  manual     75   \n",
       "4  2016-03-31 17:25:20   3600       small              2008  manual     69   \n",
       "\n",
       "   Model  Kilometer  RegistrationMonth  FuelType       Brand Repaired  \\\n",
       "0   golf     150000                  0    petrol  volkswagen      NaN   \n",
       "1    NaN     125000                  5  gasoline        audi      yes   \n",
       "2  grand     125000                  8  gasoline        jeep      NaN   \n",
       "3   golf     150000                  6    petrol  volkswagen       no   \n",
       "4  fabia      90000                  7  gasoline       skoda       no   \n",
       "\n",
       "           DateCreated  NumberOfPictures  PostalCode             LastSeen  \n",
       "0  2016-03-24 00:00:00                 0       70435  2016-04-07 03:16:57  \n",
       "1  2016-03-24 00:00:00                 0       66954  2016-04-07 01:46:50  \n",
       "2  2016-03-14 00:00:00                 0       90480  2016-04-05 12:47:46  \n",
       "3  2016-03-17 00:00:00                 0       91074  2016-03-17 17:40:17  \n",
       "4  2016-03-31 00:00:00                 0       60437  2016-04-06 10:17:21  "
      ]
     },
     "metadata": {},
     "output_type": "display_data"
    },
    {
     "name": "stdout",
     "output_type": "stream",
     "text": [
      "<class 'pandas.core.frame.DataFrame'>\n",
      "RangeIndex: 354369 entries, 0 to 354368\n",
      "Data columns (total 16 columns):\n",
      " #   Column             Non-Null Count   Dtype \n",
      "---  ------             --------------   ----- \n",
      " 0   DateCrawled        354369 non-null  object\n",
      " 1   Price              354369 non-null  int64 \n",
      " 2   VehicleType        316879 non-null  object\n",
      " 3   RegistrationYear   354369 non-null  int64 \n",
      " 4   Gearbox            334536 non-null  object\n",
      " 5   Power              354369 non-null  int64 \n",
      " 6   Model              334664 non-null  object\n",
      " 7   Kilometer          354369 non-null  int64 \n",
      " 8   RegistrationMonth  354369 non-null  int64 \n",
      " 9   FuelType           321474 non-null  object\n",
      " 10  Brand              354369 non-null  object\n",
      " 11  Repaired           283215 non-null  object\n",
      " 12  DateCreated        354369 non-null  object\n",
      " 13  NumberOfPictures   354369 non-null  int64 \n",
      " 14  PostalCode         354369 non-null  int64 \n",
      " 15  LastSeen           354369 non-null  object\n",
      "dtypes: int64(7), object(9)\n",
      "memory usage: 43.3+ MB\n"
     ]
    },
    {
     "data": {
      "text/plain": [
       "None"
      ]
     },
     "metadata": {},
     "output_type": "display_data"
    },
    {
     "data": {
      "text/html": [
       "<div>\n",
       "<style scoped>\n",
       "    .dataframe tbody tr th:only-of-type {\n",
       "        vertical-align: middle;\n",
       "    }\n",
       "\n",
       "    .dataframe tbody tr th {\n",
       "        vertical-align: top;\n",
       "    }\n",
       "\n",
       "    .dataframe thead th {\n",
       "        text-align: right;\n",
       "    }\n",
       "</style>\n",
       "<table border=\"1\" class=\"dataframe\">\n",
       "  <thead>\n",
       "    <tr style=\"text-align: right;\">\n",
       "      <th></th>\n",
       "      <th>Price</th>\n",
       "      <th>RegistrationYear</th>\n",
       "      <th>Power</th>\n",
       "      <th>Kilometer</th>\n",
       "      <th>RegistrationMonth</th>\n",
       "      <th>NumberOfPictures</th>\n",
       "      <th>PostalCode</th>\n",
       "    </tr>\n",
       "  </thead>\n",
       "  <tbody>\n",
       "    <tr>\n",
       "      <th>count</th>\n",
       "      <td>354369.000000</td>\n",
       "      <td>354369.000000</td>\n",
       "      <td>354369.000000</td>\n",
       "      <td>354369.000000</td>\n",
       "      <td>354369.000000</td>\n",
       "      <td>354369.0</td>\n",
       "      <td>354369.000000</td>\n",
       "    </tr>\n",
       "    <tr>\n",
       "      <th>mean</th>\n",
       "      <td>4416.656776</td>\n",
       "      <td>2004.234448</td>\n",
       "      <td>110.094337</td>\n",
       "      <td>128211.172535</td>\n",
       "      <td>5.714645</td>\n",
       "      <td>0.0</td>\n",
       "      <td>50508.689087</td>\n",
       "    </tr>\n",
       "    <tr>\n",
       "      <th>std</th>\n",
       "      <td>4514.158514</td>\n",
       "      <td>90.227958</td>\n",
       "      <td>189.850405</td>\n",
       "      <td>37905.341530</td>\n",
       "      <td>3.726421</td>\n",
       "      <td>0.0</td>\n",
       "      <td>25783.096248</td>\n",
       "    </tr>\n",
       "    <tr>\n",
       "      <th>min</th>\n",
       "      <td>0.000000</td>\n",
       "      <td>1000.000000</td>\n",
       "      <td>0.000000</td>\n",
       "      <td>5000.000000</td>\n",
       "      <td>0.000000</td>\n",
       "      <td>0.0</td>\n",
       "      <td>1067.000000</td>\n",
       "    </tr>\n",
       "    <tr>\n",
       "      <th>25%</th>\n",
       "      <td>1050.000000</td>\n",
       "      <td>1999.000000</td>\n",
       "      <td>69.000000</td>\n",
       "      <td>125000.000000</td>\n",
       "      <td>3.000000</td>\n",
       "      <td>0.0</td>\n",
       "      <td>30165.000000</td>\n",
       "    </tr>\n",
       "    <tr>\n",
       "      <th>50%</th>\n",
       "      <td>2700.000000</td>\n",
       "      <td>2003.000000</td>\n",
       "      <td>105.000000</td>\n",
       "      <td>150000.000000</td>\n",
       "      <td>6.000000</td>\n",
       "      <td>0.0</td>\n",
       "      <td>49413.000000</td>\n",
       "    </tr>\n",
       "    <tr>\n",
       "      <th>75%</th>\n",
       "      <td>6400.000000</td>\n",
       "      <td>2008.000000</td>\n",
       "      <td>143.000000</td>\n",
       "      <td>150000.000000</td>\n",
       "      <td>9.000000</td>\n",
       "      <td>0.0</td>\n",
       "      <td>71083.000000</td>\n",
       "    </tr>\n",
       "    <tr>\n",
       "      <th>max</th>\n",
       "      <td>20000.000000</td>\n",
       "      <td>9999.000000</td>\n",
       "      <td>20000.000000</td>\n",
       "      <td>150000.000000</td>\n",
       "      <td>12.000000</td>\n",
       "      <td>0.0</td>\n",
       "      <td>99998.000000</td>\n",
       "    </tr>\n",
       "  </tbody>\n",
       "</table>\n",
       "</div>"
      ],
      "text/plain": [
       "               Price  RegistrationYear          Power      Kilometer  \\\n",
       "count  354369.000000     354369.000000  354369.000000  354369.000000   \n",
       "mean     4416.656776       2004.234448     110.094337  128211.172535   \n",
       "std      4514.158514         90.227958     189.850405   37905.341530   \n",
       "min         0.000000       1000.000000       0.000000    5000.000000   \n",
       "25%      1050.000000       1999.000000      69.000000  125000.000000   \n",
       "50%      2700.000000       2003.000000     105.000000  150000.000000   \n",
       "75%      6400.000000       2008.000000     143.000000  150000.000000   \n",
       "max     20000.000000       9999.000000   20000.000000  150000.000000   \n",
       "\n",
       "       RegistrationMonth  NumberOfPictures     PostalCode  \n",
       "count      354369.000000          354369.0  354369.000000  \n",
       "mean            5.714645               0.0   50508.689087  \n",
       "std             3.726421               0.0   25783.096248  \n",
       "min             0.000000               0.0    1067.000000  \n",
       "25%             3.000000               0.0   30165.000000  \n",
       "50%             6.000000               0.0   49413.000000  \n",
       "75%             9.000000               0.0   71083.000000  \n",
       "max            12.000000               0.0   99998.000000  "
      ]
     },
     "metadata": {},
     "output_type": "display_data"
    }
   ],
   "source": [
    "df = pd.read_csv('autos.csv')\n",
    "display(df.head())\n",
    "display(df.info())\n",
    "display(df.describe())"
   ]
  },
  {
   "cell_type": "code",
   "execution_count": 8,
   "metadata": {
    "scrolled": true
   },
   "outputs": [
    {
     "name": "stdout",
     "output_type": "stream",
     "text": [
      "Дубликатов: 4\n"
     ]
    },
    {
     "data": {
      "text/plain": [
       "DateCrawled              0\n",
       "Price                    0\n",
       "VehicleType          37490\n",
       "RegistrationYear         0\n",
       "Gearbox              19833\n",
       "Power                    0\n",
       "Model                19705\n",
       "Kilometer                0\n",
       "RegistrationMonth        0\n",
       "FuelType             32895\n",
       "Brand                    0\n",
       "Repaired             71154\n",
       "DateCreated              0\n",
       "NumberOfPictures         0\n",
       "PostalCode               0\n",
       "LastSeen                 0\n",
       "dtype: int64"
      ]
     },
     "execution_count": 8,
     "metadata": {},
     "output_type": "execute_result"
    }
   ],
   "source": [
    "print('Дубликатов:', df.duplicated().sum())\n",
    "df.isna().sum()"
   ]
  },
  {
   "cell_type": "markdown",
   "metadata": {},
   "source": [
    "Видим, что в исходном датасете есть 4 полных дубликата - удалим их, и пропуски в категориальных признаках - заполним их заглушкой.\n",
    "\n",
    "Столбцы DateCrawled, DateCreated, NumberOfPictures, PostalCode, LastSeen неинформативны и не помогут в предсказании стоимости автомобиля, удалим их.\n",
    "\n",
    "Столбцы RegistrationYear, Power содержат слишком маленькие/большие значения. Столбцы Price, RegistrationMonth содержат нули."
   ]
  },
  {
   "cell_type": "code",
   "execution_count": 9,
   "metadata": {
    "scrolled": true
   },
   "outputs": [
    {
     "name": "stdout",
     "output_type": "stream",
     "text": [
      "<class 'pandas.core.frame.DataFrame'>\n",
      "RangeIndex: 326826 entries, 0 to 326825\n",
      "Data columns (total 11 columns):\n",
      " #   Column              Non-Null Count   Dtype \n",
      "---  ------              --------------   ----- \n",
      " 0   price               326826 non-null  int64 \n",
      " 1   vehicle_type        291577 non-null  object\n",
      " 2   registration_year   326826 non-null  int64 \n",
      " 3   gearbox             309248 non-null  object\n",
      " 4   power               326826 non-null  int64 \n",
      " 5   model               308294 non-null  object\n",
      " 6   kilometer           326826 non-null  int64 \n",
      " 7   registration_month  326826 non-null  int64 \n",
      " 8   fuel_type           295704 non-null  object\n",
      " 9   brand               326826 non-null  object\n",
      " 10  not_repaired        260399 non-null  object\n",
      "dtypes: int64(5), object(6)\n",
      "memory usage: 27.4+ MB\n"
     ]
    }
   ],
   "source": [
    "df = df.drop(['DateCrawled', 'DateCreated', 'NumberOfPictures', 'PostalCode', 'LastSeen'], axis=1)\n",
    "df = df.drop_duplicates().reset_index(drop=True)\n",
    "df.columns = ['price', 'vehicle_type', 'registration_year', 'gearbox',\n",
    "       'power', 'model', 'kilometer', 'registration_month', 'fuel_type', 'brand',\n",
    "       'not_repaired']\n",
    "df.info()"
   ]
  },
  {
   "cell_type": "markdown",
   "metadata": {},
   "source": [
    "**Цена**"
   ]
  },
  {
   "cell_type": "code",
   "execution_count": 10,
   "metadata": {
    "scrolled": false
   },
   "outputs": [
    {
     "data": {
      "image/png": "[encoded data removed]",
      "text/plain": [
       "<Figure size 1700x200 with 1 Axes>"
      ]
     },
     "metadata": {},
     "output_type": "display_data"
    },
    {
     "data": {
      "image/png": "[encoded data removed]",
      "text/plain": [
       "<Figure size 1500x300 with 1 Axes>"
      ]
     },
     "metadata": {},
     "output_type": "display_data"
    }
   ],
   "source": [
    "df.boxplot(column='price', figsize=(17,2), vert=False);\n",
    "plt.show()\n",
    "df.price.hist(bins = 150, figsize = (15,3), range=(0,100));"
   ]
  },
  {
   "cell_type": "markdown",
   "metadata": {},
   "source": [
    "Слишком низкая цена подозрительна, максимальная цена может быть любой, но слишком длинный хвост может повлиять на корректность обучения модели."
   ]
  },
  {
   "cell_type": "code",
   "execution_count": 11,
   "metadata": {},
   "outputs": [],
   "source": [
    "df = df.query('100 <= price < 15000')"
   ]
  },
  {
   "cell_type": "markdown",
   "metadata": {},
   "source": [
    "**Год регистрации**"
   ]
  },
  {
   "cell_type": "code",
   "execution_count": 12,
   "metadata": {
    "scrolled": true
   },
   "outputs": [
    {
     "data": {
      "image/png": "[encoded data removed]",
      "text/plain": [
       "<Figure size 1500x300 with 1 Axes>"
      ]
     },
     "metadata": {},
     "output_type": "display_data"
    }
   ],
   "source": [
    "df.registration_year.hist(bins = 150, figsize = (15,3), range=(1930,2022));"
   ]
  },
  {
   "cell_type": "markdown",
   "metadata": {},
   "source": [
    "Анкеты скачивали с сайта в 2016 г., значит год регистрации не может быть позже него. Нижнюю границу обозначим 1980 годом."
   ]
  },
  {
   "cell_type": "code",
   "execution_count": 13,
   "metadata": {},
   "outputs": [],
   "source": [
    "df = df.query('1980 <= registration_year < 2016')"
   ]
  },
  {
   "cell_type": "markdown",
   "metadata": {},
   "source": [
    "**Месяц регистрации**\n",
    "\n",
    "Нули в столбце с месяцем регистрации авто заполним рандомными значениями 1-12."
   ]
  },
  {
   "cell_type": "code",
   "execution_count": 14,
   "metadata": {},
   "outputs": [],
   "source": [
    "df.loc[df['registration_month'] == 0, \n",
    "             'registration_month'] = df['registration_month'].apply(lambda x: np.random.randint(1, 12))"
   ]
  },
  {
   "cell_type": "markdown",
   "metadata": {},
   "source": [
    "**Мощность**"
   ]
  },
  {
   "cell_type": "code",
   "execution_count": 15,
   "metadata": {
    "scrolled": true
   },
   "outputs": [
    {
     "data": {
      "image/png": "[encoded data removed]",
      "text/plain": [
       "<Figure size 1500x300 with 1 Axes>"
      ]
     },
     "metadata": {},
     "output_type": "display_data"
    }
   ],
   "source": [
    "df.power.hist(bins = 150, figsize = (15,3), range=(0,700));"
   ]
  },
  {
   "cell_type": "markdown",
   "metadata": {},
   "source": [
    "Современных автомобилей c мощностью меньше 40 л.с. не так много - это будет нижняя граница. Верхнюю границу поставим в 400 л.с."
   ]
  },
  {
   "cell_type": "code",
   "execution_count": 16,
   "metadata": {},
   "outputs": [],
   "source": [
    "df = df.query('40 <= power < 400')"
   ]
  },
  {
   "cell_type": "code",
   "execution_count": 17,
   "metadata": {
    "scrolled": true
   },
   "outputs": [
    {
     "data": {
      "text/html": [
       "<div>\n",
       "<style scoped>\n",
       "    .dataframe tbody tr th:only-of-type {\n",
       "        vertical-align: middle;\n",
       "    }\n",
       "\n",
       "    .dataframe tbody tr th {\n",
       "        vertical-align: top;\n",
       "    }\n",
       "\n",
       "    .dataframe thead th {\n",
       "        text-align: right;\n",
       "    }\n",
       "</style>\n",
       "<table border=\"1\" class=\"dataframe\">\n",
       "  <thead>\n",
       "    <tr style=\"text-align: right;\">\n",
       "      <th></th>\n",
       "      <th>price</th>\n",
       "      <th>registration_year</th>\n",
       "      <th>power</th>\n",
       "      <th>kilometer</th>\n",
       "      <th>registration_month</th>\n",
       "    </tr>\n",
       "  </thead>\n",
       "  <tbody>\n",
       "    <tr>\n",
       "      <th>count</th>\n",
       "      <td>249691.000000</td>\n",
       "      <td>249691.000000</td>\n",
       "      <td>249691.000000</td>\n",
       "      <td>249691.000000</td>\n",
       "      <td>249691.000000</td>\n",
       "    </tr>\n",
       "    <tr>\n",
       "      <th>mean</th>\n",
       "      <td>4218.677465</td>\n",
       "      <td>2002.406058</td>\n",
       "      <td>117.769439</td>\n",
       "      <td>130475.327505</td>\n",
       "      <td>6.355708</td>\n",
       "    </tr>\n",
       "    <tr>\n",
       "      <th>std</th>\n",
       "      <td>3680.903227</td>\n",
       "      <td>5.462184</td>\n",
       "      <td>49.744013</td>\n",
       "      <td>34760.764496</td>\n",
       "      <td>3.338837</td>\n",
       "    </tr>\n",
       "    <tr>\n",
       "      <th>min</th>\n",
       "      <td>100.000000</td>\n",
       "      <td>1980.000000</td>\n",
       "      <td>40.000000</td>\n",
       "      <td>5000.000000</td>\n",
       "      <td>1.000000</td>\n",
       "    </tr>\n",
       "    <tr>\n",
       "      <th>25%</th>\n",
       "      <td>1300.000000</td>\n",
       "      <td>1999.000000</td>\n",
       "      <td>75.000000</td>\n",
       "      <td>125000.000000</td>\n",
       "      <td>3.000000</td>\n",
       "    </tr>\n",
       "    <tr>\n",
       "      <th>50%</th>\n",
       "      <td>2990.000000</td>\n",
       "      <td>2003.000000</td>\n",
       "      <td>109.000000</td>\n",
       "      <td>150000.000000</td>\n",
       "      <td>6.000000</td>\n",
       "    </tr>\n",
       "    <tr>\n",
       "      <th>75%</th>\n",
       "      <td>6250.000000</td>\n",
       "      <td>2006.000000</td>\n",
       "      <td>143.000000</td>\n",
       "      <td>150000.000000</td>\n",
       "      <td>9.000000</td>\n",
       "    </tr>\n",
       "    <tr>\n",
       "      <th>max</th>\n",
       "      <td>14999.000000</td>\n",
       "      <td>2015.000000</td>\n",
       "      <td>399.000000</td>\n",
       "      <td>150000.000000</td>\n",
       "      <td>12.000000</td>\n",
       "    </tr>\n",
       "  </tbody>\n",
       "</table>\n",
       "</div>"
      ],
      "text/plain": [
       "               price  registration_year          power      kilometer  \\\n",
       "count  249691.000000      249691.000000  249691.000000  249691.000000   \n",
       "mean     4218.677465        2002.406058     117.769439  130475.327505   \n",
       "std      3680.903227           5.462184      49.744013   34760.764496   \n",
       "min       100.000000        1980.000000      40.000000    5000.000000   \n",
       "25%      1300.000000        1999.000000      75.000000  125000.000000   \n",
       "50%      2990.000000        2003.000000     109.000000  150000.000000   \n",
       "75%      6250.000000        2006.000000     143.000000  150000.000000   \n",
       "max     14999.000000        2015.000000     399.000000  150000.000000   \n",
       "\n",
       "       registration_month  \n",
       "count       249691.000000  \n",
       "mean             6.355708  \n",
       "std              3.338837  \n",
       "min              1.000000  \n",
       "25%              3.000000  \n",
       "50%              6.000000  \n",
       "75%              9.000000  \n",
       "max             12.000000  "
      ]
     },
     "execution_count": 17,
     "metadata": {},
     "output_type": "execute_result"
    }
   ],
   "source": [
    "df.describe()"
   ]
  },
  {
   "cell_type": "markdown",
   "metadata": {},
   "source": [
    "**Пропуски**\n",
    "\n",
    "Заполним пропуски заглушкой 'unknown'."
   ]
  },
  {
   "cell_type": "code",
   "execution_count": 18,
   "metadata": {},
   "outputs": [
    {
     "data": {
      "text/plain": [
       "price                 0\n",
       "vehicle_type          0\n",
       "registration_year     0\n",
       "gearbox               0\n",
       "power                 0\n",
       "model                 0\n",
       "kilometer             0\n",
       "registration_month    0\n",
       "fuel_type             0\n",
       "brand                 0\n",
       "not_repaired          0\n",
       "dtype: int64"
      ]
     },
     "execution_count": 18,
     "metadata": {},
     "output_type": "execute_result"
    }
   ],
   "source": [
    "df[['vehicle_type', 'gearbox', 'model', 'fuel_type', 'not_repaired']] = df[\n",
    "    ['vehicle_type', 'gearbox', 'model', 'fuel_type', 'not_repaired']].fillna('unknown')\n",
    "\n",
    "df.isna().sum()"
   ]
  },
  {
   "cell_type": "markdown",
   "metadata": {},
   "source": [
    "## Обучение моделей"
   ]
  },
  {
   "cell_type": "code",
   "execution_count": 19,
   "metadata": {},
   "outputs": [],
   "source": [
    "#создадим скорер\n",
    "def rmse(target,predictions):\n",
    "    mse = mean_squared_error(target, predictions)\n",
    "    return mse ** 0.5\n",
    "\n",
    "rmse_scorer = make_scorer(rmse, greater_is_better=False)"
   ]
  },
  {
   "cell_type": "markdown",
   "metadata": {},
   "source": [
    "**Линейная регрессия**"
   ]
  },
  {
   "cell_type": "code",
   "execution_count": 20,
   "metadata": {
    "scrolled": true
   },
   "outputs": [
    {
     "data": {
      "text/html": [
       "<div>\n",
       "<style scoped>\n",
       "    .dataframe tbody tr th:only-of-type {\n",
       "        vertical-align: middle;\n",
       "    }\n",
       "\n",
       "    .dataframe tbody tr th {\n",
       "        vertical-align: top;\n",
       "    }\n",
       "\n",
       "    .dataframe thead th {\n",
       "        text-align: right;\n",
       "    }\n",
       "</style>\n",
       "<table border=\"1\" class=\"dataframe\">\n",
       "  <thead>\n",
       "    <tr style=\"text-align: right;\">\n",
       "      <th></th>\n",
       "      <th>price</th>\n",
       "      <th>registration_year</th>\n",
       "      <th>power</th>\n",
       "      <th>kilometer</th>\n",
       "      <th>registration_month</th>\n",
       "      <th>vehicle_type_convertible</th>\n",
       "      <th>vehicle_type_coupe</th>\n",
       "      <th>vehicle_type_other</th>\n",
       "      <th>vehicle_type_sedan</th>\n",
       "      <th>vehicle_type_small</th>\n",
       "      <th>...</th>\n",
       "      <th>brand_smart</th>\n",
       "      <th>brand_sonstige_autos</th>\n",
       "      <th>brand_subaru</th>\n",
       "      <th>brand_suzuki</th>\n",
       "      <th>brand_toyota</th>\n",
       "      <th>brand_trabant</th>\n",
       "      <th>brand_volkswagen</th>\n",
       "      <th>brand_volvo</th>\n",
       "      <th>not_repaired_unknown</th>\n",
       "      <th>not_repaired_yes</th>\n",
       "    </tr>\n",
       "  </thead>\n",
       "  <tbody>\n",
       "    <tr>\n",
       "      <th>2</th>\n",
       "      <td>9800</td>\n",
       "      <td>2004</td>\n",
       "      <td>163</td>\n",
       "      <td>125000</td>\n",
       "      <td>8</td>\n",
       "      <td>0</td>\n",
       "      <td>0</td>\n",
       "      <td>0</td>\n",
       "      <td>0</td>\n",
       "      <td>0</td>\n",
       "      <td>...</td>\n",
       "      <td>0</td>\n",
       "      <td>0</td>\n",
       "      <td>0</td>\n",
       "      <td>0</td>\n",
       "      <td>0</td>\n",
       "      <td>0</td>\n",
       "      <td>0</td>\n",
       "      <td>0</td>\n",
       "      <td>1</td>\n",
       "      <td>0</td>\n",
       "    </tr>\n",
       "    <tr>\n",
       "      <th>3</th>\n",
       "      <td>1500</td>\n",
       "      <td>2001</td>\n",
       "      <td>75</td>\n",
       "      <td>150000</td>\n",
       "      <td>6</td>\n",
       "      <td>0</td>\n",
       "      <td>0</td>\n",
       "      <td>0</td>\n",
       "      <td>0</td>\n",
       "      <td>1</td>\n",
       "      <td>...</td>\n",
       "      <td>0</td>\n",
       "      <td>0</td>\n",
       "      <td>0</td>\n",
       "      <td>0</td>\n",
       "      <td>0</td>\n",
       "      <td>0</td>\n",
       "      <td>1</td>\n",
       "      <td>0</td>\n",
       "      <td>0</td>\n",
       "      <td>0</td>\n",
       "    </tr>\n",
       "    <tr>\n",
       "      <th>4</th>\n",
       "      <td>3600</td>\n",
       "      <td>2008</td>\n",
       "      <td>69</td>\n",
       "      <td>90000</td>\n",
       "      <td>7</td>\n",
       "      <td>0</td>\n",
       "      <td>0</td>\n",
       "      <td>0</td>\n",
       "      <td>0</td>\n",
       "      <td>1</td>\n",
       "      <td>...</td>\n",
       "      <td>0</td>\n",
       "      <td>0</td>\n",
       "      <td>0</td>\n",
       "      <td>0</td>\n",
       "      <td>0</td>\n",
       "      <td>0</td>\n",
       "      <td>0</td>\n",
       "      <td>0</td>\n",
       "      <td>0</td>\n",
       "      <td>0</td>\n",
       "    </tr>\n",
       "    <tr>\n",
       "      <th>5</th>\n",
       "      <td>650</td>\n",
       "      <td>1995</td>\n",
       "      <td>102</td>\n",
       "      <td>150000</td>\n",
       "      <td>10</td>\n",
       "      <td>0</td>\n",
       "      <td>0</td>\n",
       "      <td>0</td>\n",
       "      <td>1</td>\n",
       "      <td>0</td>\n",
       "      <td>...</td>\n",
       "      <td>0</td>\n",
       "      <td>0</td>\n",
       "      <td>0</td>\n",
       "      <td>0</td>\n",
       "      <td>0</td>\n",
       "      <td>0</td>\n",
       "      <td>0</td>\n",
       "      <td>0</td>\n",
       "      <td>0</td>\n",
       "      <td>1</td>\n",
       "    </tr>\n",
       "    <tr>\n",
       "      <th>6</th>\n",
       "      <td>2200</td>\n",
       "      <td>2004</td>\n",
       "      <td>109</td>\n",
       "      <td>150000</td>\n",
       "      <td>8</td>\n",
       "      <td>1</td>\n",
       "      <td>0</td>\n",
       "      <td>0</td>\n",
       "      <td>0</td>\n",
       "      <td>0</td>\n",
       "      <td>...</td>\n",
       "      <td>0</td>\n",
       "      <td>0</td>\n",
       "      <td>0</td>\n",
       "      <td>0</td>\n",
       "      <td>0</td>\n",
       "      <td>0</td>\n",
       "      <td>0</td>\n",
       "      <td>0</td>\n",
       "      <td>0</td>\n",
       "      <td>0</td>\n",
       "    </tr>\n",
       "  </tbody>\n",
       "</table>\n",
       "<p>5 rows × 311 columns</p>\n",
       "</div>"
      ],
      "text/plain": [
       "   price  registration_year  power  kilometer  registration_month  \\\n",
       "2   9800               2004    163     125000                   8   \n",
       "3   1500               2001     75     150000                   6   \n",
       "4   3600               2008     69      90000                   7   \n",
       "5    650               1995    102     150000                  10   \n",
       "6   2200               2004    109     150000                   8   \n",
       "\n",
       "   vehicle_type_convertible  vehicle_type_coupe  vehicle_type_other  \\\n",
       "2                         0                   0                   0   \n",
       "3                         0                   0                   0   \n",
       "4                         0                   0                   0   \n",
       "5                         0                   0                   0   \n",
       "6                         1                   0                   0   \n",
       "\n",
       "   vehicle_type_sedan  vehicle_type_small  ...  brand_smart  \\\n",
       "2                   0                   0  ...            0   \n",
       "3                   0                   1  ...            0   \n",
       "4                   0                   1  ...            0   \n",
       "5                   1                   0  ...            0   \n",
       "6                   0                   0  ...            0   \n",
       "\n",
       "   brand_sonstige_autos  brand_subaru  brand_suzuki  brand_toyota  \\\n",
       "2                     0             0             0             0   \n",
       "3                     0             0             0             0   \n",
       "4                     0             0             0             0   \n",
       "5                     0             0             0             0   \n",
       "6                     0             0             0             0   \n",
       "\n",
       "   brand_trabant  brand_volkswagen  brand_volvo  not_repaired_unknown  \\\n",
       "2              0                 0            0                     1   \n",
       "3              0                 1            0                     0   \n",
       "4              0                 0            0                     0   \n",
       "5              0                 0            0                     0   \n",
       "6              0                 0            0                     0   \n",
       "\n",
       "   not_repaired_yes  \n",
       "2                 0  \n",
       "3                 0  \n",
       "4                 0  \n",
       "5                 1  \n",
       "6                 0  \n",
       "\n",
       "[5 rows x 311 columns]"
      ]
     },
     "execution_count": 20,
     "metadata": {},
     "output_type": "execute_result"
    }
   ],
   "source": [
    "#закодируем категориальные переменные в количественные\n",
    "df_ohe = pd.get_dummies(df, drop_first=True)\n",
    "df_ohe.head()"
   ]
  },
  {
   "cell_type": "code",
   "execution_count": 21,
   "metadata": {},
   "outputs": [
    {
     "name": "stdout",
     "output_type": "stream",
     "text": [
      "(187268, 310)\n",
      "(62423, 310)\n"
     ]
    }
   ],
   "source": [
    "#выделим целевой признак и разделим выборки\n",
    "features_ohe = df_ohe.drop('price', axis=1)\n",
    "target_ohe = df_ohe['price']\n",
    "features_train_ohe, features_test_ohe, target_train_ohe, target_test_ohe = train_test_split(\n",
    "    features_ohe, target_ohe, test_size=0.25, random_state=12345)\n",
    "\n",
    "print(features_train_ohe.shape)\n",
    "print(features_test_ohe.shape)"
   ]
  },
  {
   "cell_type": "code",
   "execution_count": 22,
   "metadata": {},
   "outputs": [],
   "source": [
    "#отмасштабируем признаки\n",
    "scaler = StandardScaler()\n",
    "numeric = ['registration_year','power', 'kilometer', 'registration_month']\n",
    "scaler.fit(features_train_ohe[numeric])\n",
    "features_train_ohe[numeric] = scaler.transform(features_train_ohe[numeric])\n",
    "features_test_ohe[numeric] = scaler.transform(features_test_ohe[numeric])"
   ]
  },
  {
   "cell_type": "code",
   "execution_count": 23,
   "metadata": {
    "scrolled": true
   },
   "outputs": [
    {
     "name": "stdout",
     "output_type": "stream",
     "text": [
      "RMSE: 1932.6132075178357.\n",
      "CPU times: total: 1min 25s\n",
      "Wall time: 34.7 s\n"
     ]
    }
   ],
   "source": [
    "%%time\n",
    "lin = cross_val_score(LinearRegression(), features_train_ohe, target_train_ohe, cv=5, scoring=rmse_scorer)\n",
    "\n",
    "print('RMSE: {}.'.format(-lin.mean(), lin))"
   ]
  },
  {
   "cell_type": "code",
   "execution_count": 24,
   "metadata": {},
   "outputs": [
    {
     "name": "stdout",
     "output_type": "stream",
     "text": [
      "RMSE: 1927.843641777253\n",
      "CPU times: total: 21.4 s\n",
      "Wall time: 7.14 s\n"
     ]
    }
   ],
   "source": [
    "%%time\n",
    "#обучим модель\n",
    "model = LinearRegression()\n",
    "fit_time_start = time.time()\n",
    "model.fit(features_train_ohe, target_train_ohe)\n",
    "fit_time_end = time.time()\n",
    "rmse_lin = (mean_squared_error(target_train_ohe, model.predict(features_train_ohe))**0.5)\n",
    "predict_time_end = time.time()\n",
    "\n",
    "print('RMSE:', rmse_lin)"
   ]
  },
  {
   "cell_type": "code",
   "execution_count": 25,
   "metadata": {},
   "outputs": [],
   "source": [
    "lin_fit_time = fit_time_end - fit_time_start\n",
    "lin_pred_time = predict_time_end - fit_time_end"
   ]
  },
  {
   "cell_type": "markdown",
   "metadata": {},
   "source": [
    "**Случайный лес**"
   ]
  },
  {
   "cell_type": "code",
   "execution_count": 26,
   "metadata": {
    "scrolled": false
   },
   "outputs": [
    {
     "name": "stdout",
     "output_type": "stream",
     "text": [
      "(187268, 10)\n",
      "(62423, 10)\n"
     ]
    }
   ],
   "source": [
    "#выделим целевой признак и разделим выборки\n",
    "target_enc = df['price']\n",
    "features_enc = df.drop('price', axis=1)\n",
    "\n",
    "features_train_enc, features_test_enc, target_train_enc, target_test_enc = train_test_split(\n",
    "    features_enc, target_enc, test_size=0.25, random_state=12345) \n",
    "\n",
    "print(features_train_enc.shape)\n",
    "print(features_test_enc.shape)"
   ]
  },
  {
   "cell_type": "code",
   "execution_count": 27,
   "metadata": {},
   "outputs": [],
   "source": [
    "encoder = OrdinalEncoder(handle_unknown='use_encoded_value', unknown_value=-1)\n",
    "categorical = ['vehicle_type', 'model', 'fuel_type', 'brand', 'not_repaired','gearbox']\n",
    "encoder.fit(features_train_enc[categorical])\n",
    "features_train_enc[categorical] = encoder.transform(features_train_enc[categorical])\n",
    "features_test_enc[categorical] = encoder.transform(features_test_enc[categorical])"
   ]
  },
  {
   "cell_type": "code",
   "execution_count": 28,
   "metadata": {},
   "outputs": [
    {
     "name": "stdout",
     "output_type": "stream",
     "text": [
      "RMSE: 1533.1755049024678\n",
      "Параметры {'max_depth': 9, 'n_estimators': 14}\n",
      "CPU times: total: 16 s\n",
      "Wall time: 6min 37s\n"
     ]
    }
   ],
   "source": [
    "%%time\n",
    "\n",
    "#обучим модель\n",
    "model = RandomForestRegressor(random_state=12345)\n",
    "params_forest = {'n_estimators': range(1, 15), 'max_depth': range(1,10)} \n",
    "grid_forest = GridSearchCV(model, param_grid=params_forest, cv=5, scoring=rmse_scorer, n_jobs=-1)\n",
    "fit_time_start = time.time()\n",
    "grid_forest.fit(features_train_enc, target_train_enc)\n",
    "fit_time_end = time.time()\n",
    "rmse_forest = rmse(target_train_enc, grid_forest.best_estimator_.predict(features_train_enc))\n",
    "predict_time_end = time.time()\n",
    "\n",
    "print('RMSE:', rmse_forest)\n",
    "print('Параметры {}'.format(grid_forest.best_params_))"
   ]
  },
  {
   "cell_type": "code",
   "execution_count": 29,
   "metadata": {},
   "outputs": [],
   "source": [
    "forest_fit_time = fit_time_end - fit_time_start\n",
    "forest_pred_time = predict_time_end - fit_time_end"
   ]
  },
  {
   "cell_type": "markdown",
   "metadata": {},
   "source": [
    "**LightGBM**"
   ]
  },
  {
   "cell_type": "code",
   "execution_count": 30,
   "metadata": {},
   "outputs": [],
   "source": [
    "#выделим целевой признак, разделим выборки\n",
    "features_lgb = df.drop('price', axis=1)\n",
    "target_lgb = df['price']\n",
    "\n",
    "features_train_lgb, features_test_lgb, target_train_lgb, target_test_lgb = train_test_split(\n",
    "    features_lgb, target_lgb, test_size=0.25, random_state=12345) "
   ]
  },
  {
   "cell_type": "code",
   "execution_count": 31,
   "metadata": {},
   "outputs": [],
   "source": [
    "#поменяем тип данных категориальных признаков\n",
    "features_train_lgb[categorical] = features_train_lgb[categorical].astype('category')\n",
    "features_test_lgb[categorical] = features_test_lgb[categorical].astype('category')"
   ]
  },
  {
   "cell_type": "code",
   "execution_count": 32,
   "metadata": {
    "scrolled": true
   },
   "outputs": [
    {
     "name": "stdout",
     "output_type": "stream",
     "text": [
      "RMSE: 1326.7947240898689\n",
      "Параметры {'learning_rate': 0.1, 'max_depth': 10, 'n_estimators': 50}\n",
      "CPU times: total: 4.67 s\n",
      "Wall time: 23.6 s\n"
     ]
    }
   ],
   "source": [
    "%%time\n",
    "#обучим модель\n",
    "lgb_model = lgb.LGBMRegressor(random_state=12345)\n",
    "parametrs = {'n_estimators': [10, 30, 50],\n",
    "             'learning_rate': [0.03, 0.1],\n",
    "             'max_depth': [1, 10, 15],}\n",
    "grid_lgb = GridSearchCV(lgb_model, param_grid=parametrs, cv=5, scoring=rmse_scorer, n_jobs=-1)\n",
    "fit_time_start = time.time()\n",
    "grid_lgb.fit(features_train_lgb, target_train_lgb)\n",
    "fit_time_end = time.time()\n",
    "rmse_lgb = rmse(target_train_lgb, grid_lgb.best_estimator_.predict(features_train_lgb))\n",
    "predict_time_end = time.time()\n",
    "\n",
    "print('RMSE:', rmse_lgb)\n",
    "print('Параметры {}'.format(grid_lgb.best_params_))"
   ]
  },
  {
   "cell_type": "code",
   "execution_count": 33,
   "metadata": {},
   "outputs": [],
   "source": [
    "lgb_fit_time = fit_time_end - fit_time_start\n",
    "lgb_pred_time = predict_time_end - fit_time_end"
   ]
  },
  {
   "cell_type": "markdown",
   "metadata": {},
   "source": [
    "## Анализ моделей"
   ]
  },
  {
   "cell_type": "code",
   "execution_count": 34,
   "metadata": {
    "scrolled": true
   },
   "outputs": [
    {
     "data": {
      "text/html": [
       "<div>\n",
       "<style scoped>\n",
       "    .dataframe tbody tr th:only-of-type {\n",
       "        vertical-align: middle;\n",
       "    }\n",
       "\n",
       "    .dataframe tbody tr th {\n",
       "        vertical-align: top;\n",
       "    }\n",
       "\n",
       "    .dataframe thead th {\n",
       "        text-align: right;\n",
       "    }\n",
       "</style>\n",
       "<table border=\"1\" class=\"dataframe\">\n",
       "  <thead>\n",
       "    <tr style=\"text-align: right;\">\n",
       "      <th></th>\n",
       "      <th>Модель</th>\n",
       "      <th>RMSE</th>\n",
       "      <th>Fit time</th>\n",
       "      <th>Predict time</th>\n",
       "    </tr>\n",
       "  </thead>\n",
       "  <tbody>\n",
       "    <tr>\n",
       "      <th>0</th>\n",
       "      <td>Линейная регрессия</td>\n",
       "      <td>1927.843642</td>\n",
       "      <td>6.797381</td>\n",
       "      <td>0.343669</td>\n",
       "    </tr>\n",
       "    <tr>\n",
       "      <th>1</th>\n",
       "      <td>Случайный лес</td>\n",
       "      <td>1533.175505</td>\n",
       "      <td>396.702944</td>\n",
       "      <td>0.374346</td>\n",
       "    </tr>\n",
       "    <tr>\n",
       "      <th>2</th>\n",
       "      <td>LightGBM</td>\n",
       "      <td>1326.794724</td>\n",
       "      <td>23.275857</td>\n",
       "      <td>0.297993</td>\n",
       "    </tr>\n",
       "  </tbody>\n",
       "</table>\n",
       "</div>"
      ],
      "text/plain": [
       "               Модель         RMSE    Fit time  Predict time\n",
       "0  Линейная регрессия  1927.843642    6.797381      0.343669\n",
       "1       Случайный лес  1533.175505  396.702944      0.374346\n",
       "2            LightGBM  1326.794724   23.275857      0.297993"
      ]
     },
     "metadata": {},
     "output_type": "display_data"
    }
   ],
   "source": [
    "results = pd.DataFrame({'Модель':['Линейная регрессия', 'Случайный лес', 'LightGBM'],\n",
    "                       'RMSE': [rmse_lin, rmse_forest, rmse_lgb],\n",
    "                       'Fit time': [lin_fit_time, forest_fit_time, lgb_fit_time],\n",
    "                       'Predict time': [lin_pred_time, forest_pred_time, lgb_pred_time]})\n",
    "\n",
    "display(results)"
   ]
  },
  {
   "cell_type": "markdown",
   "metadata": {},
   "source": [
    "**Проверка лучшей модели**"
   ]
  },
  {
   "cell_type": "code",
   "execution_count": 35,
   "metadata": {
    "scrolled": true
   },
   "outputs": [
    {
     "name": "stdout",
     "output_type": "stream",
     "text": [
      "RMSE: 1348.1563095035858\n"
     ]
    }
   ],
   "source": [
    "lgb_test = lgb.LGBMRegressor(random_state=12345, **grid_lgb.best_params_, n_jobs=-1)\n",
    "lgb_test.fit(features_train_lgb, target_train_lgb)\n",
    "rmse_lgb_test = rmse(target_test_lgb, lgb_test.predict(features_test_lgb))\n",
    "\n",
    "print('RMSE:', rmse_lgb_test)"
   ]
  },
  {
   "cell_type": "markdown",
   "metadata": {},
   "source": [
    "**Проверка на адекватность**"
   ]
  },
  {
   "cell_type": "code",
   "execution_count": 36,
   "metadata": {},
   "outputs": [
    {
     "name": "stdout",
     "output_type": "stream",
     "text": [
      "RMSE: 3682.0619349786452\n"
     ]
    }
   ],
   "source": [
    "dummy = DummyRegressor(strategy='mean')\n",
    "dummy.fit(features_train_lgb, target_train_lgb)\n",
    "rmse_dummy = rmse(target_test_lgb, dummy.predict(features_test_lgb))\n",
    "\n",
    "print('RMSE:', rmse_dummy)"
   ]
  },
  {
   "cell_type": "markdown",
   "metadata": {},
   "source": [
    "## Вывод\n",
    "\n",
    "Для предсказания рыночной стоимости автомобиля на основе технических характеристик, комплектации и цен других автомобилей были построены модели линейной регрессии, случайного леса и градиентного бустинга. Анализ работы моделей показал:\n",
    "- модель линейной регрессии обучается быстрее всего, но предсказывает с наименьшей точностью\n",
    "- модель случайного леса обучается дольше всего, но быстрее всего предсказывает, точность предсказания средняя\n",
    "- LightGBM имеет средние показатели по скорости обучения и предсказания, но наилучший результат по метрике RMSE.\n",
    "\n",
    "Исходя из критериев заказчика, наиболее оптимальной по характеристикам моделью является LightGBM."
   ]
  }
 ],
 "metadata": {
  "ExecuteTimeLog": [
   {
    "duration": 1661,
    "start_time": "2023-01-25T13:32:01.954Z"
   },
   {
    "duration": 3179,
    "start_time": "2023-01-25T13:32:49.211Z"
   },
   {
    "duration": 808,
    "start_time": "2023-01-25T13:32:57.708Z"
   },
   {
    "duration": 949,
    "start_time": "2023-01-25T13:33:26.623Z"
   },
   {
    "duration": 991,
    "start_time": "2023-01-25T13:33:38.526Z"
   },
   {
    "duration": 902,
    "start_time": "2023-01-25T13:33:49.831Z"
   },
   {
    "duration": 905,
    "start_time": "2023-01-25T13:34:08.305Z"
   },
   {
    "duration": 1053,
    "start_time": "2023-01-25T13:36:12.254Z"
   },
   {
    "duration": 1524,
    "start_time": "2023-01-27T12:45:43.393Z"
   },
   {
    "duration": 1270,
    "start_time": "2023-01-27T12:45:44.918Z"
   },
   {
    "duration": 24,
    "start_time": "2023-01-27T12:47:25.768Z"
   },
   {
    "duration": 538,
    "start_time": "2023-01-27T14:03:42.487Z"
   },
   {
    "duration": 447,
    "start_time": "2023-01-27T14:03:48.584Z"
   },
   {
    "duration": 896,
    "start_time": "2023-01-27T14:13:23.289Z"
   },
   {
    "duration": 1524,
    "start_time": "2023-01-27T14:14:36.247Z"
   },
   {
    "duration": 860,
    "start_time": "2023-01-27T14:16:44.273Z"
   },
   {
    "duration": 390,
    "start_time": "2023-01-27T14:24:18.858Z"
   },
   {
    "duration": 14,
    "start_time": "2023-01-27T14:24:28.529Z"
   },
   {
    "duration": 3,
    "start_time": "2023-01-27T14:24:46.105Z"
   },
   {
    "duration": 13,
    "start_time": "2023-01-27T14:24:53.160Z"
   },
   {
    "duration": 14,
    "start_time": "2023-01-27T14:25:03.632Z"
   },
   {
    "duration": 14,
    "start_time": "2023-01-27T14:25:16.008Z"
   },
   {
    "duration": 12,
    "start_time": "2023-01-27T14:26:16.209Z"
   },
   {
    "duration": 12,
    "start_time": "2023-01-27T14:26:34.056Z"
   },
   {
    "duration": 3,
    "start_time": "2023-01-27T14:26:37.913Z"
   },
   {
    "duration": 850,
    "start_time": "2023-01-27T14:26:37.918Z"
   },
   {
    "duration": 487,
    "start_time": "2023-01-27T14:26:38.769Z"
   },
   {
    "duration": 110,
    "start_time": "2023-01-27T14:26:39.259Z"
   },
   {
    "duration": 4,
    "start_time": "2023-01-27T14:27:14.105Z"
   },
   {
    "duration": 830,
    "start_time": "2023-01-27T14:27:14.110Z"
   },
   {
    "duration": 452,
    "start_time": "2023-01-27T14:27:14.941Z"
   },
   {
    "duration": 102,
    "start_time": "2023-01-27T14:27:22.849Z"
   },
   {
    "duration": 13,
    "start_time": "2023-01-27T14:27:36.512Z"
   },
   {
    "duration": 3,
    "start_time": "2023-01-27T14:27:45.233Z"
   },
   {
    "duration": 924,
    "start_time": "2023-01-27T14:27:45.238Z"
   },
   {
    "duration": 457,
    "start_time": "2023-01-27T14:27:46.163Z"
   },
   {
    "duration": 265,
    "start_time": "2023-01-27T14:27:49.271Z"
   },
   {
    "duration": 4,
    "start_time": "2023-01-27T14:28:08.480Z"
   },
   {
    "duration": 885,
    "start_time": "2023-01-27T14:28:08.485Z"
   },
   {
    "duration": 500,
    "start_time": "2023-01-27T14:28:09.372Z"
   },
   {
    "duration": 406,
    "start_time": "2023-01-27T14:28:13.639Z"
   },
   {
    "duration": 4,
    "start_time": "2023-01-27T14:30:41.281Z"
   },
   {
    "duration": 855,
    "start_time": "2023-01-27T14:30:41.287Z"
   },
   {
    "duration": 455,
    "start_time": "2023-01-27T14:30:42.144Z"
   },
   {
    "duration": 245,
    "start_time": "2023-01-27T14:30:42.601Z"
   },
   {
    "duration": 4,
    "start_time": "2023-01-27T14:32:37.056Z"
   },
   {
    "duration": 872,
    "start_time": "2023-01-27T14:32:37.061Z"
   },
   {
    "duration": 472,
    "start_time": "2023-01-27T14:32:37.934Z"
   },
   {
    "duration": 301,
    "start_time": "2023-01-27T14:32:38.408Z"
   },
   {
    "duration": 1707,
    "start_time": "2023-01-30T12:02:38.259Z"
   },
   {
    "duration": 1582,
    "start_time": "2023-01-30T12:02:39.969Z"
   },
   {
    "duration": 615,
    "start_time": "2023-01-30T12:02:41.552Z"
   },
   {
    "duration": 460,
    "start_time": "2023-01-30T12:02:42.169Z"
   },
   {
    "duration": 39,
    "start_time": "2023-01-30T12:09:12.560Z"
   },
   {
    "duration": 4,
    "start_time": "2023-01-30T12:13:21.529Z"
   },
   {
    "duration": 1060,
    "start_time": "2023-01-30T12:13:21.534Z"
   },
   {
    "duration": 126,
    "start_time": "2023-01-30T12:13:26.328Z"
   },
   {
    "duration": 82,
    "start_time": "2023-01-30T12:13:42.991Z"
   },
   {
    "duration": 24,
    "start_time": "2023-01-30T12:13:51.847Z"
   },
   {
    "duration": 23,
    "start_time": "2023-01-30T12:13:58.639Z"
   },
   {
    "duration": 129,
    "start_time": "2023-01-30T12:25:51.816Z"
   },
   {
    "duration": 5,
    "start_time": "2023-01-30T12:26:42.150Z"
   },
   {
    "duration": 994,
    "start_time": "2023-01-30T12:26:42.157Z"
   },
   {
    "duration": 544,
    "start_time": "2023-01-30T12:26:43.153Z"
   },
   {
    "duration": 338,
    "start_time": "2023-01-30T12:26:43.704Z"
   },
   {
    "duration": 496,
    "start_time": "2023-01-30T12:26:44.044Z"
   },
   {
    "duration": 808,
    "start_time": "2023-01-30T12:27:32.388Z"
   },
   {
    "duration": 746,
    "start_time": "2023-01-30T12:31:20.612Z"
   },
   {
    "duration": 727,
    "start_time": "2023-01-30T12:32:16.291Z"
   },
   {
    "duration": 852,
    "start_time": "2023-01-30T12:33:22.827Z"
   },
   {
    "duration": 39,
    "start_time": "2023-01-30T12:38:05.505Z"
   },
   {
    "duration": 390,
    "start_time": "2023-01-30T12:38:11.779Z"
   },
   {
    "duration": 26,
    "start_time": "2023-01-30T12:38:22.962Z"
   },
   {
    "duration": 368,
    "start_time": "2023-01-30T12:39:36.409Z"
   },
   {
    "duration": 338,
    "start_time": "2023-01-30T12:41:30.977Z"
   },
   {
    "duration": 323,
    "start_time": "2023-01-30T12:41:40.080Z"
   },
   {
    "duration": 24,
    "start_time": "2023-01-30T12:45:53.664Z"
   },
   {
    "duration": 726,
    "start_time": "2023-01-30T12:49:16.826Z"
   },
   {
    "duration": 722,
    "start_time": "2023-01-30T12:49:31.232Z"
   },
   {
    "duration": 434,
    "start_time": "2023-01-30T12:52:19.864Z"
   },
   {
    "duration": 317,
    "start_time": "2023-01-30T12:52:35.177Z"
   },
   {
    "duration": 359,
    "start_time": "2023-01-30T12:52:42.311Z"
   },
   {
    "duration": 488,
    "start_time": "2023-01-30T12:53:12.911Z"
   },
   {
    "duration": 768,
    "start_time": "2023-01-30T12:53:22.553Z"
   },
   {
    "duration": 322,
    "start_time": "2023-01-30T12:53:43.800Z"
   },
   {
    "duration": 26,
    "start_time": "2023-01-30T12:57:26.949Z"
   },
   {
    "duration": 381,
    "start_time": "2023-01-30T12:59:11.363Z"
   },
   {
    "duration": 20,
    "start_time": "2023-01-30T12:59:58.394Z"
   },
   {
    "duration": 61,
    "start_time": "2023-01-30T13:00:08.543Z"
   },
   {
    "duration": 333,
    "start_time": "2023-01-30T13:01:14.376Z"
   },
   {
    "duration": 445,
    "start_time": "2023-01-30T13:01:20.937Z"
   },
   {
    "duration": 4,
    "start_time": "2023-01-30T13:01:31.498Z"
   },
   {
    "duration": 1043,
    "start_time": "2023-01-30T13:01:31.505Z"
   },
   {
    "duration": 560,
    "start_time": "2023-01-30T13:01:32.550Z"
   },
   {
    "duration": 326,
    "start_time": "2023-01-30T13:01:33.112Z"
   },
   {
    "duration": 786,
    "start_time": "2023-01-30T13:01:33.440Z"
   },
   {
    "duration": 30,
    "start_time": "2023-01-30T13:01:34.228Z"
   },
   {
    "duration": 344,
    "start_time": "2023-01-30T13:01:34.260Z"
   },
   {
    "duration": 25,
    "start_time": "2023-01-30T13:01:34.607Z"
   },
   {
    "duration": 726,
    "start_time": "2023-01-30T13:01:34.634Z"
   },
   {
    "duration": 329,
    "start_time": "2023-01-30T13:01:35.363Z"
   },
   {
    "duration": 27,
    "start_time": "2023-01-30T13:01:35.695Z"
   },
   {
    "duration": 58,
    "start_time": "2023-01-30T13:01:37.777Z"
   },
   {
    "duration": 70,
    "start_time": "2023-01-30T13:32:32.669Z"
   },
   {
    "duration": 18,
    "start_time": "2023-01-30T13:32:38.013Z"
   },
   {
    "duration": 64,
    "start_time": "2023-01-30T13:33:12.014Z"
   },
   {
    "duration": 78,
    "start_time": "2023-01-30T13:33:30.477Z"
   },
   {
    "duration": 50,
    "start_time": "2023-01-30T13:33:47.541Z"
   },
   {
    "duration": 82,
    "start_time": "2023-01-30T13:34:04.190Z"
   },
   {
    "duration": 113,
    "start_time": "2023-01-30T13:35:34.896Z"
   },
   {
    "duration": 1889,
    "start_time": "2023-01-31T06:52:53.077Z"
   },
   {
    "duration": 1489,
    "start_time": "2023-01-31T06:52:54.969Z"
   },
   {
    "duration": 563,
    "start_time": "2023-01-31T06:52:56.460Z"
   },
   {
    "duration": 416,
    "start_time": "2023-01-31T06:52:57.024Z"
   },
   {
    "duration": 751,
    "start_time": "2023-01-31T06:52:57.443Z"
   },
   {
    "duration": 36,
    "start_time": "2023-01-31T06:52:58.199Z"
   },
   {
    "duration": 427,
    "start_time": "2023-01-31T06:52:58.237Z"
   },
   {
    "duration": 39,
    "start_time": "2023-01-31T06:52:58.666Z"
   },
   {
    "duration": 623,
    "start_time": "2023-01-31T06:52:58.707Z"
   },
   {
    "duration": 307,
    "start_time": "2023-01-31T06:52:59.332Z"
   },
   {
    "duration": 24,
    "start_time": "2023-01-31T06:52:59.641Z"
   },
   {
    "duration": 82,
    "start_time": "2023-01-31T06:52:59.667Z"
   },
   {
    "duration": 122,
    "start_time": "2023-01-31T06:52:59.751Z"
   },
   {
    "duration": 1654,
    "start_time": "2023-01-31T13:12:10.820Z"
   },
   {
    "duration": 1392,
    "start_time": "2023-01-31T13:12:12.476Z"
   },
   {
    "duration": 616,
    "start_time": "2023-01-31T13:12:13.870Z"
   },
   {
    "duration": 389,
    "start_time": "2023-01-31T13:12:14.488Z"
   },
   {
    "duration": 706,
    "start_time": "2023-01-31T13:12:14.878Z"
   },
   {
    "duration": 28,
    "start_time": "2023-01-31T13:12:15.586Z"
   },
   {
    "duration": 387,
    "start_time": "2023-01-31T13:12:15.616Z"
   },
   {
    "duration": 45,
    "start_time": "2023-01-31T13:12:16.004Z"
   },
   {
    "duration": 667,
    "start_time": "2023-01-31T13:12:16.051Z"
   },
   {
    "duration": 310,
    "start_time": "2023-01-31T13:12:16.721Z"
   },
   {
    "duration": 29,
    "start_time": "2023-01-31T13:12:17.033Z"
   },
   {
    "duration": 56,
    "start_time": "2023-01-31T13:12:17.064Z"
   },
   {
    "duration": 145,
    "start_time": "2023-01-31T13:12:17.121Z"
   },
   {
    "duration": 550,
    "start_time": "2023-01-31T15:45:02.696Z"
   },
   {
    "duration": 1307,
    "start_time": "2023-01-31T15:48:15.986Z"
   },
   {
    "duration": 384,
    "start_time": "2023-01-31T15:48:27.506Z"
   },
   {
    "duration": 529,
    "start_time": "2023-01-31T15:56:32.487Z"
   },
   {
    "duration": 404,
    "start_time": "2023-01-31T15:57:18.931Z"
   },
   {
    "duration": 11,
    "start_time": "2023-01-31T15:57:46.777Z"
   },
   {
    "duration": 63,
    "start_time": "2023-01-31T16:01:55.692Z"
   },
   {
    "duration": 156,
    "start_time": "2023-01-31T16:09:21.261Z"
   },
   {
    "duration": 83,
    "start_time": "2023-01-31T16:11:18.777Z"
   },
   {
    "duration": 4,
    "start_time": "2023-01-31T16:12:36.642Z"
   },
   {
    "duration": 159,
    "start_time": "2023-01-31T16:12:41.972Z"
   },
   {
    "duration": 25660,
    "start_time": "2023-01-31T16:13:50.882Z"
   },
   {
    "duration": 62,
    "start_time": "2023-01-31T16:16:41.936Z"
   },
   {
    "duration": 353,
    "start_time": "2023-01-31T16:26:55.404Z"
   },
   {
    "duration": 358,
    "start_time": "2023-01-31T16:27:05.874Z"
   },
   {
    "duration": 1702,
    "start_time": "2023-02-01T08:42:36.690Z"
   },
   {
    "duration": 1567,
    "start_time": "2023-02-01T08:42:38.394Z"
   },
   {
    "duration": 585,
    "start_time": "2023-02-01T08:42:39.963Z"
   },
   {
    "duration": 336,
    "start_time": "2023-02-01T08:42:40.549Z"
   },
   {
    "duration": 758,
    "start_time": "2023-02-01T08:42:40.888Z"
   },
   {
    "duration": 26,
    "start_time": "2023-02-01T08:42:41.649Z"
   },
   {
    "duration": 412,
    "start_time": "2023-02-01T08:42:41.677Z"
   },
   {
    "duration": 52,
    "start_time": "2023-02-01T08:42:42.090Z"
   },
   {
    "duration": 720,
    "start_time": "2023-02-01T08:42:42.144Z"
   },
   {
    "duration": 389,
    "start_time": "2023-02-01T08:42:42.866Z"
   },
   {
    "duration": 31,
    "start_time": "2023-02-01T08:42:43.257Z"
   },
   {
    "duration": 69,
    "start_time": "2023-02-01T08:42:43.290Z"
   },
   {
    "duration": 126,
    "start_time": "2023-02-01T08:42:43.361Z"
   },
   {
    "duration": 656,
    "start_time": "2023-02-01T08:42:43.491Z"
   },
   {
    "duration": 435,
    "start_time": "2023-02-01T08:42:44.148Z"
   },
   {
    "duration": 161,
    "start_time": "2023-02-01T08:42:44.587Z"
   },
   {
    "duration": 39076,
    "start_time": "2023-02-01T08:42:44.750Z"
   },
   {
    "duration": 132,
    "start_time": "2023-02-01T08:43:23.828Z"
   },
   {
    "duration": 645,
    "start_time": "2023-02-01T08:43:23.962Z"
   },
   {
    "duration": 366,
    "start_time": "2023-02-01T08:45:43.247Z"
   },
   {
    "duration": 11,
    "start_time": "2023-02-01T08:45:53.734Z"
   },
   {
    "duration": 654,
    "start_time": "2023-02-01T08:48:52.310Z"
   },
   {
    "duration": 72,
    "start_time": "2023-02-01T08:50:52.653Z"
   },
   {
    "duration": 70,
    "start_time": "2023-02-01T08:51:27.150Z"
   },
   {
    "duration": 5,
    "start_time": "2023-02-01T09:27:00.229Z"
   },
   {
    "duration": 31100,
    "start_time": "2023-02-01T09:27:16.206Z"
   },
   {
    "duration": 4,
    "start_time": "2023-02-01T09:28:40.229Z"
   },
   {
    "duration": 6,
    "start_time": "2023-02-01T09:34:41.981Z"
   },
   {
    "duration": 24068,
    "start_time": "2023-02-01T09:35:04.346Z"
   },
   {
    "duration": 5,
    "start_time": "2023-02-01T11:12:39.746Z"
   },
   {
    "duration": 2781,
    "start_time": "2023-02-01T11:12:39.769Z"
   },
   {
    "duration": 870,
    "start_time": "2023-02-01T11:12:42.553Z"
   },
   {
    "duration": 563,
    "start_time": "2023-02-01T11:12:43.430Z"
   },
   {
    "duration": 1291,
    "start_time": "2023-02-01T11:12:43.997Z"
   },
   {
    "duration": 71,
    "start_time": "2023-02-01T11:12:45.291Z"
   },
   {
    "duration": 472,
    "start_time": "2023-02-01T11:12:45.364Z"
   },
   {
    "duration": 43,
    "start_time": "2023-02-01T11:12:45.838Z"
   },
   {
    "duration": 1264,
    "start_time": "2023-02-01T11:12:45.883Z"
   },
   {
    "duration": 652,
    "start_time": "2023-02-01T11:12:47.150Z"
   },
   {
    "duration": 44,
    "start_time": "2023-02-01T11:12:47.804Z"
   },
   {
    "duration": 114,
    "start_time": "2023-02-01T11:12:47.854Z"
   },
   {
    "duration": 219,
    "start_time": "2023-02-01T11:12:47.970Z"
   },
   {
    "duration": 674,
    "start_time": "2023-02-01T11:12:48.193Z"
   },
   {
    "duration": 451,
    "start_time": "2023-02-01T11:12:48.870Z"
   },
   {
    "duration": 248,
    "start_time": "2023-02-01T11:12:49.324Z"
   },
   {
    "duration": 48664,
    "start_time": "2023-02-01T11:12:49.575Z"
   },
   {
    "duration": 1197,
    "start_time": "2023-02-01T11:13:38.246Z"
   },
   {
    "duration": 61,
    "start_time": "2023-02-01T11:13:39.445Z"
   },
   {
    "duration": 12,
    "start_time": "2023-02-01T11:13:39.513Z"
   },
   {
    "duration": 74475,
    "start_time": "2023-02-01T11:54:24.331Z"
   },
   {
    "duration": 62288,
    "start_time": "2023-02-01T11:57:03.231Z"
   },
   {
    "duration": 4,
    "start_time": "2023-02-01T12:13:03.336Z"
   },
   {
    "duration": 4,
    "start_time": "2023-02-01T12:13:59.341Z"
   },
   {
    "duration": 35194,
    "start_time": "2023-02-01T12:15:31.025Z"
   },
   {
    "duration": 39116,
    "start_time": "2023-02-01T12:16:16.209Z"
   },
   {
    "duration": 139,
    "start_time": "2023-02-01T12:16:55.328Z"
   },
   {
    "duration": 52,
    "start_time": "2023-02-01T12:17:51.770Z"
   },
   {
    "duration": 5,
    "start_time": "2023-02-01T12:21:11.522Z"
   },
   {
    "duration": 1574,
    "start_time": "2023-02-01T14:05:16.529Z"
   },
   {
    "duration": 1311,
    "start_time": "2023-02-01T14:05:18.105Z"
   },
   {
    "duration": 566,
    "start_time": "2023-02-01T14:05:19.418Z"
   },
   {
    "duration": 310,
    "start_time": "2023-02-01T14:05:19.986Z"
   },
   {
    "duration": 745,
    "start_time": "2023-02-01T14:05:20.298Z"
   },
   {
    "duration": 26,
    "start_time": "2023-02-01T14:05:21.044Z"
   },
   {
    "duration": 407,
    "start_time": "2023-02-01T14:05:21.072Z"
   },
   {
    "duration": 31,
    "start_time": "2023-02-01T14:05:21.480Z"
   },
   {
    "duration": 649,
    "start_time": "2023-02-01T14:05:21.512Z"
   },
   {
    "duration": 334,
    "start_time": "2023-02-01T14:05:22.163Z"
   },
   {
    "duration": 23,
    "start_time": "2023-02-01T14:05:22.499Z"
   },
   {
    "duration": 55,
    "start_time": "2023-02-01T14:05:22.524Z"
   },
   {
    "duration": 192,
    "start_time": "2023-02-01T14:05:22.580Z"
   },
   {
    "duration": 602,
    "start_time": "2023-02-01T14:05:22.773Z"
   },
   {
    "duration": 401,
    "start_time": "2023-02-01T14:05:23.376Z"
   },
   {
    "duration": 164,
    "start_time": "2023-02-01T14:05:23.779Z"
   },
   {
    "duration": 21167,
    "start_time": "2023-02-01T14:05:23.945Z"
   },
   {
    "duration": 842,
    "start_time": "2023-02-01T14:05:45.114Z"
   },
   {
    "duration": 60,
    "start_time": "2023-02-01T14:05:45.958Z"
   },
   {
    "duration": 92,
    "start_time": "2023-02-01T14:05:55.296Z"
   },
   {
    "duration": 77,
    "start_time": "2023-02-01T14:06:14.590Z"
   },
   {
    "duration": 200,
    "start_time": "2023-02-01T14:07:04.311Z"
   },
   {
    "duration": 153,
    "start_time": "2023-02-01T14:07:22.669Z"
   },
   {
    "duration": 10,
    "start_time": "2023-02-01T14:07:24.890Z"
   },
   {
    "duration": 4,
    "start_time": "2023-02-01T14:08:10.040Z"
   },
   {
    "duration": 13,
    "start_time": "2023-02-01T14:08:14.282Z"
   },
   {
    "duration": 3,
    "start_time": "2023-02-01T14:08:19.993Z"
   },
   {
    "duration": 1629,
    "start_time": "2023-02-02T04:31:54.609Z"
   },
   {
    "duration": 3096,
    "start_time": "2023-02-02T04:31:56.240Z"
   },
   {
    "duration": 571,
    "start_time": "2023-02-02T04:31:59.337Z"
   },
   {
    "duration": 342,
    "start_time": "2023-02-02T04:31:59.909Z"
   },
   {
    "duration": 693,
    "start_time": "2023-02-02T04:32:00.253Z"
   },
   {
    "duration": 27,
    "start_time": "2023-02-02T04:32:00.947Z"
   },
   {
    "duration": 394,
    "start_time": "2023-02-02T04:32:00.976Z"
   },
   {
    "duration": 32,
    "start_time": "2023-02-02T04:32:01.372Z"
   },
   {
    "duration": 649,
    "start_time": "2023-02-02T04:32:01.406Z"
   },
   {
    "duration": 327,
    "start_time": "2023-02-02T04:32:02.057Z"
   },
   {
    "duration": 26,
    "start_time": "2023-02-02T04:32:02.386Z"
   },
   {
    "duration": 55,
    "start_time": "2023-02-02T04:32:02.414Z"
   },
   {
    "duration": 135,
    "start_time": "2023-02-02T04:32:02.471Z"
   },
   {
    "duration": 528,
    "start_time": "2023-02-02T04:32:02.609Z"
   },
   {
    "duration": 398,
    "start_time": "2023-02-02T04:32:03.139Z"
   },
   {
    "duration": 154,
    "start_time": "2023-02-02T04:32:03.538Z"
   },
   {
    "duration": 16401,
    "start_time": "2023-02-02T04:32:03.694Z"
   },
   {
    "duration": 855,
    "start_time": "2023-02-02T04:32:20.098Z"
   },
   {
    "duration": 62,
    "start_time": "2023-02-02T04:32:20.955Z"
   },
   {
    "duration": 4,
    "start_time": "2023-02-02T04:32:21.019Z"
   },
   {
    "duration": 542278,
    "start_time": "2023-02-02T04:32:21.025Z"
   },
   {
    "duration": 163,
    "start_time": "2023-02-02T04:41:23.305Z"
   },
   {
    "duration": 1381,
    "start_time": "2023-02-02T04:48:29.711Z"
   },
   {
    "duration": 1028,
    "start_time": "2023-02-02T04:48:31.094Z"
   },
   {
    "duration": 538,
    "start_time": "2023-02-02T04:48:32.123Z"
   },
   {
    "duration": 322,
    "start_time": "2023-02-02T04:48:32.664Z"
   },
   {
    "duration": 690,
    "start_time": "2023-02-02T04:48:32.991Z"
   },
   {
    "duration": 34,
    "start_time": "2023-02-02T04:48:33.683Z"
   },
   {
    "duration": 376,
    "start_time": "2023-02-02T04:48:33.719Z"
   },
   {
    "duration": 29,
    "start_time": "2023-02-02T04:48:34.096Z"
   },
   {
    "duration": 610,
    "start_time": "2023-02-02T04:48:34.127Z"
   },
   {
    "duration": 308,
    "start_time": "2023-02-02T04:48:34.740Z"
   },
   {
    "duration": 28,
    "start_time": "2023-02-02T04:48:35.049Z"
   },
   {
    "duration": 66,
    "start_time": "2023-02-02T04:48:35.079Z"
   },
   {
    "duration": 115,
    "start_time": "2023-02-02T04:48:35.147Z"
   },
   {
    "duration": 472,
    "start_time": "2023-02-02T04:48:35.264Z"
   },
   {
    "duration": 421,
    "start_time": "2023-02-02T04:48:35.738Z"
   },
   {
    "duration": 162,
    "start_time": "2023-02-02T04:48:36.161Z"
   },
   {
    "duration": 15573,
    "start_time": "2023-02-02T04:48:36.324Z"
   },
   {
    "duration": 862,
    "start_time": "2023-02-02T04:48:51.899Z"
   },
   {
    "duration": 57,
    "start_time": "2023-02-02T04:48:52.763Z"
   },
   {
    "duration": 2,
    "start_time": "2023-02-02T04:48:52.822Z"
   },
   {
    "duration": 539391,
    "start_time": "2023-02-02T04:48:52.826Z"
   },
   {
    "duration": 146,
    "start_time": "2023-02-02T04:57:52.219Z"
   },
   {
    "duration": 1523,
    "start_time": "2023-02-02T06:55:54.033Z"
   },
   {
    "duration": 3104,
    "start_time": "2023-02-02T06:55:55.558Z"
   },
   {
    "duration": 523,
    "start_time": "2023-02-02T06:55:58.663Z"
   },
   {
    "duration": 353,
    "start_time": "2023-02-02T06:55:59.187Z"
   },
   {
    "duration": 644,
    "start_time": "2023-02-02T06:55:59.545Z"
   },
   {
    "duration": 27,
    "start_time": "2023-02-02T06:56:00.191Z"
   },
   {
    "duration": 341,
    "start_time": "2023-02-02T06:56:00.219Z"
   },
   {
    "duration": 28,
    "start_time": "2023-02-02T06:56:00.562Z"
   },
   {
    "duration": 645,
    "start_time": "2023-02-02T06:56:00.592Z"
   },
   {
    "duration": 272,
    "start_time": "2023-02-02T06:56:01.238Z"
   },
   {
    "duration": 32,
    "start_time": "2023-02-02T06:56:01.512Z"
   },
   {
    "duration": 48,
    "start_time": "2023-02-02T06:56:01.545Z"
   },
   {
    "duration": 155,
    "start_time": "2023-02-02T06:56:01.595Z"
   },
   {
    "duration": 448,
    "start_time": "2023-02-02T06:56:01.753Z"
   },
   {
    "duration": 363,
    "start_time": "2023-02-02T06:56:02.202Z"
   },
   {
    "duration": 169,
    "start_time": "2023-02-02T06:56:02.567Z"
   },
   {
    "duration": 20712,
    "start_time": "2023-02-02T06:56:02.738Z"
   },
   {
    "duration": 840,
    "start_time": "2023-02-02T06:56:23.452Z"
   },
   {
    "duration": 61,
    "start_time": "2023-02-02T06:56:24.294Z"
   },
   {
    "duration": 3,
    "start_time": "2023-02-02T06:56:24.357Z"
   },
   {
    "duration": 169,
    "start_time": "2023-02-02T06:59:19.170Z"
   },
   {
    "duration": 1467,
    "start_time": "2023-02-02T14:41:09.534Z"
   },
   {
    "duration": 1916,
    "start_time": "2023-02-02T14:41:11.003Z"
   },
   {
    "duration": 540,
    "start_time": "2023-02-02T14:41:12.921Z"
   },
   {
    "duration": 373,
    "start_time": "2023-02-02T14:41:13.463Z"
   },
   {
    "duration": 649,
    "start_time": "2023-02-02T14:41:13.838Z"
   },
   {
    "duration": 25,
    "start_time": "2023-02-02T14:41:14.488Z"
   },
   {
    "duration": 425,
    "start_time": "2023-02-02T14:41:14.515Z"
   },
   {
    "duration": 23,
    "start_time": "2023-02-02T14:41:14.941Z"
   },
   {
    "duration": 591,
    "start_time": "2023-02-02T14:41:14.966Z"
   },
   {
    "duration": 291,
    "start_time": "2023-02-02T14:41:15.559Z"
   },
   {
    "duration": 20,
    "start_time": "2023-02-02T14:41:15.851Z"
   },
   {
    "duration": 51,
    "start_time": "2023-02-02T14:41:15.873Z"
   },
   {
    "duration": 140,
    "start_time": "2023-02-02T14:41:15.925Z"
   },
   {
    "duration": 467,
    "start_time": "2023-02-02T14:41:16.067Z"
   },
   {
    "duration": 373,
    "start_time": "2023-02-02T14:41:16.535Z"
   },
   {
    "duration": 145,
    "start_time": "2023-02-02T14:41:16.910Z"
   },
   {
    "duration": 15489,
    "start_time": "2023-02-02T14:41:17.057Z"
   },
   {
    "duration": 836,
    "start_time": "2023-02-02T14:41:32.548Z"
   },
   {
    "duration": 46,
    "start_time": "2023-02-02T14:41:33.385Z"
   },
   {
    "duration": 11,
    "start_time": "2023-02-02T14:41:33.433Z"
   },
   {
    "duration": 517199,
    "start_time": "2023-02-02T14:41:33.446Z"
   },
   {
    "duration": 151,
    "start_time": "2023-02-02T14:50:10.647Z"
   },
   {
    "duration": 1326,
    "start_time": "2023-02-02T14:52:05.930Z"
   },
   {
    "duration": 955,
    "start_time": "2023-02-02T14:52:07.257Z"
   },
   {
    "duration": 533,
    "start_time": "2023-02-02T14:52:08.213Z"
   },
   {
    "duration": 332,
    "start_time": "2023-02-02T14:52:08.747Z"
   },
   {
    "duration": 617,
    "start_time": "2023-02-02T14:52:09.081Z"
   },
   {
    "duration": 24,
    "start_time": "2023-02-02T14:52:09.700Z"
   },
   {
    "duration": 341,
    "start_time": "2023-02-02T14:52:09.726Z"
   },
   {
    "duration": 21,
    "start_time": "2023-02-02T14:52:10.068Z"
   },
   {
    "duration": 561,
    "start_time": "2023-02-02T14:52:10.091Z"
   },
   {
    "duration": 281,
    "start_time": "2023-02-02T14:52:10.654Z"
   },
   {
    "duration": 21,
    "start_time": "2023-02-02T14:52:10.944Z"
   },
   {
    "duration": 51,
    "start_time": "2023-02-02T14:52:10.967Z"
   },
   {
    "duration": 141,
    "start_time": "2023-02-02T14:52:11.020Z"
   },
   {
    "duration": 488,
    "start_time": "2023-02-02T14:52:11.163Z"
   },
   {
    "duration": 365,
    "start_time": "2023-02-02T14:52:11.653Z"
   },
   {
    "duration": 150,
    "start_time": "2023-02-02T14:52:12.020Z"
   },
   {
    "duration": 15278,
    "start_time": "2023-02-02T14:52:12.172Z"
   },
   {
    "duration": 804,
    "start_time": "2023-02-02T14:52:27.452Z"
   },
   {
    "duration": 44,
    "start_time": "2023-02-02T14:52:28.258Z"
   },
   {
    "duration": 4,
    "start_time": "2023-02-02T14:52:28.304Z"
   },
   {
    "duration": 156,
    "start_time": "2023-02-02T14:52:28.309Z"
   },
   {
    "duration": 1381,
    "start_time": "2023-02-02T14:54:35.601Z"
   },
   {
    "duration": 1052,
    "start_time": "2023-02-02T14:54:36.984Z"
   },
   {
    "duration": 574,
    "start_time": "2023-02-02T14:54:38.044Z"
   },
   {
    "duration": 374,
    "start_time": "2023-02-02T14:54:38.620Z"
   },
   {
    "duration": 649,
    "start_time": "2023-02-02T14:54:38.996Z"
   },
   {
    "duration": 25,
    "start_time": "2023-02-02T14:54:39.647Z"
   },
   {
    "duration": 344,
    "start_time": "2023-02-02T14:54:39.674Z"
   },
   {
    "duration": 42,
    "start_time": "2023-02-02T14:54:40.019Z"
   },
   {
    "duration": 1960,
    "start_time": "2023-02-02T18:08:37.416Z"
   },
   {
    "duration": 1874,
    "start_time": "2023-02-02T18:08:39.379Z"
   },
   {
    "duration": 713,
    "start_time": "2023-02-02T18:08:41.255Z"
   },
   {
    "duration": 416,
    "start_time": "2023-02-02T18:08:41.970Z"
   },
   {
    "duration": 1227,
    "start_time": "2023-02-02T18:08:42.389Z"
   },
   {
    "duration": 39,
    "start_time": "2023-02-02T18:08:43.618Z"
   },
   {
    "duration": 348,
    "start_time": "2023-02-02T18:08:43.660Z"
   },
   {
    "duration": 33,
    "start_time": "2023-02-02T18:08:44.011Z"
   },
   {
    "duration": 764,
    "start_time": "2023-02-02T18:08:44.046Z"
   },
   {
    "duration": 357,
    "start_time": "2023-02-02T18:08:44.813Z"
   },
   {
    "duration": 24,
    "start_time": "2023-02-02T18:08:45.180Z"
   },
   {
    "duration": 78,
    "start_time": "2023-02-02T18:08:45.206Z"
   },
   {
    "duration": 155,
    "start_time": "2023-02-02T18:08:45.286Z"
   },
   {
    "duration": 777,
    "start_time": "2023-02-02T18:08:45.443Z"
   },
   {
    "duration": 411,
    "start_time": "2023-02-02T18:08:46.222Z"
   },
   {
    "duration": 205,
    "start_time": "2023-02-02T18:08:46.636Z"
   },
   {
    "duration": 34044,
    "start_time": "2023-02-02T18:08:46.843Z"
   },
   {
    "duration": 1004,
    "start_time": "2023-02-02T18:09:20.893Z"
   },
   {
    "duration": 62,
    "start_time": "2023-02-02T18:09:21.900Z"
   },
   {
    "duration": 4,
    "start_time": "2023-02-02T18:09:21.964Z"
   },
   {
    "duration": 135,
    "start_time": "2023-02-02T18:09:21.987Z"
   },
   {
    "duration": 0,
    "start_time": "2023-02-02T18:09:22.125Z"
   },
   {
    "duration": 0,
    "start_time": "2023-02-02T18:09:22.126Z"
   },
   {
    "duration": 147,
    "start_time": "2023-02-02T18:11:38.900Z"
   },
   {
    "duration": 40,
    "start_time": "2023-02-02T18:11:50.954Z"
   },
   {
    "duration": 182,
    "start_time": "2023-02-02T18:12:00.537Z"
   },
   {
    "duration": 1561,
    "start_time": "2023-02-02T18:42:26.874Z"
   },
   {
    "duration": 1229,
    "start_time": "2023-02-02T18:42:28.438Z"
   },
   {
    "duration": 714,
    "start_time": "2023-02-02T18:42:29.669Z"
   },
   {
    "duration": 421,
    "start_time": "2023-02-02T18:42:30.385Z"
   },
   {
    "duration": 814,
    "start_time": "2023-02-02T18:42:30.809Z"
   },
   {
    "duration": 28,
    "start_time": "2023-02-02T18:42:31.626Z"
   },
   {
    "duration": 451,
    "start_time": "2023-02-02T18:42:31.656Z"
   },
   {
    "duration": 26,
    "start_time": "2023-02-02T18:42:32.109Z"
   },
   {
    "duration": 768,
    "start_time": "2023-02-02T18:42:32.138Z"
   },
   {
    "duration": 402,
    "start_time": "2023-02-02T18:42:32.908Z"
   },
   {
    "duration": 30,
    "start_time": "2023-02-02T18:42:33.312Z"
   },
   {
    "duration": 92,
    "start_time": "2023-02-02T18:42:33.344Z"
   },
   {
    "duration": 147,
    "start_time": "2023-02-02T18:42:33.438Z"
   },
   {
    "duration": 570,
    "start_time": "2023-02-02T18:42:33.589Z"
   },
   {
    "duration": 381,
    "start_time": "2023-02-02T18:42:34.161Z"
   },
   {
    "duration": 172,
    "start_time": "2023-02-02T18:42:34.544Z"
   },
   {
    "duration": 23071,
    "start_time": "2023-02-02T18:42:34.718Z"
   },
   {
    "duration": 1050,
    "start_time": "2023-02-02T18:42:57.792Z"
   },
   {
    "duration": 88,
    "start_time": "2023-02-02T18:42:58.844Z"
   },
   {
    "duration": 4,
    "start_time": "2023-02-02T18:42:58.935Z"
   },
   {
    "duration": 273,
    "start_time": "2023-02-02T18:42:58.941Z"
   },
   {
    "duration": 1417,
    "start_time": "2023-02-03T04:47:17.259Z"
   },
   {
    "duration": 2967,
    "start_time": "2023-02-03T04:47:18.678Z"
   },
   {
    "duration": 477,
    "start_time": "2023-02-03T04:47:21.646Z"
   },
   {
    "duration": 334,
    "start_time": "2023-02-03T04:47:22.125Z"
   },
   {
    "duration": 682,
    "start_time": "2023-02-03T04:47:22.461Z"
   },
   {
    "duration": 25,
    "start_time": "2023-02-03T04:47:23.144Z"
   },
   {
    "duration": 284,
    "start_time": "2023-02-03T04:47:23.171Z"
   },
   {
    "duration": 27,
    "start_time": "2023-02-03T04:47:23.457Z"
   },
   {
    "duration": 618,
    "start_time": "2023-02-03T04:47:23.485Z"
   },
   {
    "duration": 283,
    "start_time": "2023-02-03T04:47:24.104Z"
   },
   {
    "duration": 22,
    "start_time": "2023-02-03T04:47:24.388Z"
   },
   {
    "duration": 57,
    "start_time": "2023-02-03T04:47:24.411Z"
   },
   {
    "duration": 108,
    "start_time": "2023-02-03T04:47:24.470Z"
   },
   {
    "duration": 456,
    "start_time": "2023-02-03T04:47:24.580Z"
   },
   {
    "duration": 393,
    "start_time": "2023-02-03T04:47:25.038Z"
   },
   {
    "duration": 141,
    "start_time": "2023-02-03T04:47:25.436Z"
   },
   {
    "duration": 28657,
    "start_time": "2023-02-03T04:47:25.579Z"
   },
   {
    "duration": 766,
    "start_time": "2023-02-03T04:47:54.238Z"
   },
   {
    "duration": 63,
    "start_time": "2023-02-03T04:47:55.006Z"
   },
   {
    "duration": 3,
    "start_time": "2023-02-03T04:47:55.071Z"
   },
   {
    "duration": 182,
    "start_time": "2023-02-03T04:47:55.076Z"
   },
   {
    "duration": 164,
    "start_time": "2023-02-03T04:47:55.260Z"
   },
   {
    "duration": 1366,
    "start_time": "2023-02-03T04:55:36.093Z"
   },
   {
    "duration": 982,
    "start_time": "2023-02-03T04:55:37.461Z"
   },
   {
    "duration": 536,
    "start_time": "2023-02-03T04:55:38.445Z"
   },
   {
    "duration": 294,
    "start_time": "2023-02-03T04:55:38.983Z"
   },
   {
    "duration": 629,
    "start_time": "2023-02-03T04:55:39.279Z"
   },
   {
    "duration": 33,
    "start_time": "2023-02-03T04:55:39.910Z"
   },
   {
    "duration": 333,
    "start_time": "2023-02-03T04:55:39.945Z"
   },
   {
    "duration": 27,
    "start_time": "2023-02-03T04:55:40.280Z"
   },
   {
    "duration": 626,
    "start_time": "2023-02-03T04:55:40.309Z"
   },
   {
    "duration": 283,
    "start_time": "2023-02-03T04:55:40.938Z"
   },
   {
    "duration": 28,
    "start_time": "2023-02-03T04:55:41.222Z"
   },
   {
    "duration": 48,
    "start_time": "2023-02-03T04:55:41.251Z"
   },
   {
    "duration": 117,
    "start_time": "2023-02-03T04:55:41.301Z"
   },
   {
    "duration": 456,
    "start_time": "2023-02-03T04:55:41.419Z"
   },
   {
    "duration": 374,
    "start_time": "2023-02-03T04:55:41.877Z"
   },
   {
    "duration": 147,
    "start_time": "2023-02-03T04:55:42.253Z"
   },
   {
    "duration": 15231,
    "start_time": "2023-02-03T04:55:42.402Z"
   },
   {
    "duration": 811,
    "start_time": "2023-02-03T04:55:57.635Z"
   },
   {
    "duration": 46,
    "start_time": "2023-02-03T04:55:58.448Z"
   },
   {
    "duration": 3,
    "start_time": "2023-02-03T04:55:58.496Z"
   },
   {
    "duration": 161,
    "start_time": "2023-02-03T04:55:58.500Z"
   },
   {
    "duration": 139,
    "start_time": "2023-02-03T04:55:58.663Z"
   },
   {
    "duration": 511150,
    "start_time": "2023-02-03T04:55:58.803Z"
   },
   {
    "duration": 491849,
    "start_time": "2023-02-03T05:04:29.955Z"
   },
   {
    "duration": 1317,
    "start_time": "2023-02-03T05:12:46.154Z"
   },
   {
    "duration": 919,
    "start_time": "2023-02-03T05:12:47.473Z"
   },
   {
    "duration": 499,
    "start_time": "2023-02-03T05:12:48.394Z"
   },
   {
    "duration": 338,
    "start_time": "2023-02-03T05:12:48.895Z"
   },
   {
    "duration": 589,
    "start_time": "2023-02-03T05:12:49.234Z"
   },
   {
    "duration": 29,
    "start_time": "2023-02-03T05:12:49.825Z"
   },
   {
    "duration": 335,
    "start_time": "2023-02-03T05:12:49.855Z"
   },
   {
    "duration": 37,
    "start_time": "2023-02-03T05:12:50.191Z"
   },
   {
    "duration": 614,
    "start_time": "2023-02-03T05:12:50.230Z"
   },
   {
    "duration": 273,
    "start_time": "2023-02-03T05:12:50.846Z"
   },
   {
    "duration": 28,
    "start_time": "2023-02-03T05:12:51.121Z"
   },
   {
    "duration": 49,
    "start_time": "2023-02-03T05:12:51.151Z"
   },
   {
    "duration": 112,
    "start_time": "2023-02-03T05:12:51.202Z"
   },
   {
    "duration": 450,
    "start_time": "2023-02-03T05:12:51.316Z"
   },
   {
    "duration": 360,
    "start_time": "2023-02-03T05:12:51.768Z"
   },
   {
    "duration": 140,
    "start_time": "2023-02-03T05:12:52.130Z"
   },
   {
    "duration": 14858,
    "start_time": "2023-02-03T05:12:52.271Z"
   },
   {
    "duration": 780,
    "start_time": "2023-02-03T05:13:07.131Z"
   },
   {
    "duration": 52,
    "start_time": "2023-02-03T05:13:07.912Z"
   },
   {
    "duration": 2,
    "start_time": "2023-02-03T05:13:07.966Z"
   },
   {
    "duration": 147,
    "start_time": "2023-02-03T05:13:07.970Z"
   },
   {
    "duration": 27,
    "start_time": "2023-02-03T05:13:08.118Z"
   },
   {
    "duration": 0,
    "start_time": "2023-02-03T05:13:08.146Z"
   },
   {
    "duration": 0,
    "start_time": "2023-02-03T05:13:08.147Z"
   },
   {
    "duration": 1268,
    "start_time": "2023-02-03T05:14:09.089Z"
   },
   {
    "duration": 905,
    "start_time": "2023-02-03T05:14:10.359Z"
   },
   {
    "duration": 497,
    "start_time": "2023-02-03T05:14:11.265Z"
   },
   {
    "duration": 298,
    "start_time": "2023-02-03T05:14:11.764Z"
   },
   {
    "duration": 601,
    "start_time": "2023-02-03T05:14:12.064Z"
   },
   {
    "duration": 27,
    "start_time": "2023-02-03T05:14:12.667Z"
   },
   {
    "duration": 332,
    "start_time": "2023-02-03T05:14:12.696Z"
   },
   {
    "duration": 27,
    "start_time": "2023-02-03T05:14:13.029Z"
   },
   {
    "duration": 582,
    "start_time": "2023-02-03T05:14:13.057Z"
   },
   {
    "duration": 274,
    "start_time": "2023-02-03T05:14:13.640Z"
   },
   {
    "duration": 29,
    "start_time": "2023-02-03T05:14:13.915Z"
   },
   {
    "duration": 49,
    "start_time": "2023-02-03T05:14:13.945Z"
   },
   {
    "duration": 103,
    "start_time": "2023-02-03T05:14:13.995Z"
   },
   {
    "duration": 465,
    "start_time": "2023-02-03T05:14:14.100Z"
   },
   {
    "duration": 372,
    "start_time": "2023-02-03T05:14:14.567Z"
   },
   {
    "duration": 148,
    "start_time": "2023-02-03T05:14:14.940Z"
   },
   {
    "duration": 15247,
    "start_time": "2023-02-03T05:14:15.089Z"
   },
   {
    "duration": 702,
    "start_time": "2023-02-03T05:14:30.338Z"
   },
   {
    "duration": 49,
    "start_time": "2023-02-03T05:14:31.042Z"
   },
   {
    "duration": 2,
    "start_time": "2023-02-03T05:14:31.093Z"
   },
   {
    "duration": 159,
    "start_time": "2023-02-03T05:14:31.097Z"
   },
   {
    "duration": 4327,
    "start_time": "2023-02-03T05:14:31.258Z"
   },
   {
    "duration": 1290,
    "start_time": "2023-02-03T05:15:07.362Z"
   },
   {
    "duration": 989,
    "start_time": "2023-02-03T05:15:08.654Z"
   },
   {
    "duration": 552,
    "start_time": "2023-02-03T05:15:09.644Z"
   },
   {
    "duration": 296,
    "start_time": "2023-02-03T05:15:10.198Z"
   },
   {
    "duration": 628,
    "start_time": "2023-02-03T05:15:10.496Z"
   },
   {
    "duration": 28,
    "start_time": "2023-02-03T05:15:11.125Z"
   },
   {
    "duration": 335,
    "start_time": "2023-02-03T05:15:11.155Z"
   },
   {
    "duration": 26,
    "start_time": "2023-02-03T05:15:11.492Z"
   },
   {
    "duration": 584,
    "start_time": "2023-02-03T05:15:11.528Z"
   },
   {
    "duration": 278,
    "start_time": "2023-02-03T05:15:12.115Z"
   },
   {
    "duration": 23,
    "start_time": "2023-02-03T05:15:12.394Z"
   },
   {
    "duration": 50,
    "start_time": "2023-02-03T05:15:12.427Z"
   },
   {
    "duration": 111,
    "start_time": "2023-02-03T05:15:12.479Z"
   },
   {
    "duration": 477,
    "start_time": "2023-02-03T05:15:12.592Z"
   },
   {
    "duration": 371,
    "start_time": "2023-02-03T05:15:13.070Z"
   },
   {
    "duration": 135,
    "start_time": "2023-02-03T05:15:13.443Z"
   },
   {
    "duration": 16264,
    "start_time": "2023-02-03T05:15:13.580Z"
   },
   {
    "duration": 695,
    "start_time": "2023-02-03T05:15:29.846Z"
   },
   {
    "duration": 51,
    "start_time": "2023-02-03T05:15:30.543Z"
   },
   {
    "duration": 12,
    "start_time": "2023-02-03T05:15:30.596Z"
   },
   {
    "duration": 177,
    "start_time": "2023-02-03T05:15:30.610Z"
   },
   {
    "duration": 4847,
    "start_time": "2023-02-03T05:15:30.788Z"
   },
   {
    "duration": 1737,
    "start_time": "2023-02-03T07:23:12.137Z"
   },
   {
    "duration": 1420,
    "start_time": "2023-02-03T07:23:13.877Z"
   },
   {
    "duration": 561,
    "start_time": "2023-02-03T07:23:15.298Z"
   },
   {
    "duration": 309,
    "start_time": "2023-02-03T07:23:15.861Z"
   },
   {
    "duration": 680,
    "start_time": "2023-02-03T07:23:16.172Z"
   },
   {
    "duration": 27,
    "start_time": "2023-02-03T07:23:16.853Z"
   },
   {
    "duration": 390,
    "start_time": "2023-02-03T07:23:16.882Z"
   },
   {
    "duration": 33,
    "start_time": "2023-02-03T07:23:17.275Z"
   },
   {
    "duration": 704,
    "start_time": "2023-02-03T07:23:17.310Z"
   },
   {
    "duration": 315,
    "start_time": "2023-02-03T07:23:18.016Z"
   },
   {
    "duration": 21,
    "start_time": "2023-02-03T07:23:18.333Z"
   },
   {
    "duration": 66,
    "start_time": "2023-02-03T07:23:18.356Z"
   },
   {
    "duration": 114,
    "start_time": "2023-02-03T07:23:18.424Z"
   },
   {
    "duration": 521,
    "start_time": "2023-02-03T07:23:18.540Z"
   },
   {
    "duration": 395,
    "start_time": "2023-02-03T07:23:19.062Z"
   },
   {
    "duration": 151,
    "start_time": "2023-02-03T07:23:19.459Z"
   },
   {
    "duration": 22070,
    "start_time": "2023-02-03T07:23:19.612Z"
   },
   {
    "duration": 790,
    "start_time": "2023-02-03T07:23:41.684Z"
   },
   {
    "duration": 65,
    "start_time": "2023-02-03T07:23:42.476Z"
   },
   {
    "duration": 3,
    "start_time": "2023-02-03T07:23:42.543Z"
   },
   {
    "duration": 172,
    "start_time": "2023-02-03T07:23:42.548Z"
   },
   {
    "duration": 18782,
    "start_time": "2023-02-03T07:23:42.722Z"
   },
   {
    "duration": 602576,
    "start_time": "2023-02-03T07:24:01.506Z"
   },
   {
    "duration": 568890,
    "start_time": "2023-02-03T07:34:04.084Z"
   },
   {
    "duration": 4,
    "start_time": "2023-02-03T07:54:36.665Z"
   },
   {
    "duration": 1001,
    "start_time": "2023-02-03T07:54:36.671Z"
   },
   {
    "duration": 505,
    "start_time": "2023-02-03T07:54:37.674Z"
   },
   {
    "duration": 335,
    "start_time": "2023-02-03T07:54:38.180Z"
   },
   {
    "duration": 690,
    "start_time": "2023-02-03T07:54:38.517Z"
   },
   {
    "duration": 29,
    "start_time": "2023-02-03T07:54:39.209Z"
   },
   {
    "duration": 316,
    "start_time": "2023-02-03T07:54:39.240Z"
   },
   {
    "duration": 30,
    "start_time": "2023-02-03T07:54:39.557Z"
   },
   {
    "duration": 670,
    "start_time": "2023-02-03T07:54:39.589Z"
   },
   {
    "duration": 322,
    "start_time": "2023-02-03T07:54:40.261Z"
   },
   {
    "duration": 33,
    "start_time": "2023-02-03T07:54:40.585Z"
   },
   {
    "duration": 54,
    "start_time": "2023-02-03T07:54:40.619Z"
   },
   {
    "duration": 121,
    "start_time": "2023-02-03T07:54:40.675Z"
   },
   {
    "duration": 100,
    "start_time": "2023-02-03T07:54:43.665Z"
   },
   {
    "duration": 312,
    "start_time": "2023-02-03T07:54:50.425Z"
   },
   {
    "duration": 3,
    "start_time": "2023-02-03T07:56:01.745Z"
   },
   {
    "duration": 17,
    "start_time": "2023-02-03T07:56:54.936Z"
   },
   {
    "duration": 10,
    "start_time": "2023-02-03T07:57:24.521Z"
   },
   {
    "duration": 605,
    "start_time": "2023-02-03T07:57:40.720Z"
   },
   {
    "duration": 62,
    "start_time": "2023-02-03T08:00:02.584Z"
   },
   {
    "duration": 14,
    "start_time": "2023-02-03T08:01:39.106Z"
   },
   {
    "duration": 142,
    "start_time": "2023-02-03T08:02:14.184Z"
   },
   {
    "duration": 91,
    "start_time": "2023-02-03T08:02:22.473Z"
   },
   {
    "duration": 3,
    "start_time": "2023-02-03T08:02:23.359Z"
   },
   {
    "duration": 139,
    "start_time": "2023-02-03T08:02:23.728Z"
   },
   {
    "duration": 238,
    "start_time": "2023-02-03T08:03:03.088Z"
   },
   {
    "duration": 228,
    "start_time": "2023-02-03T08:03:20.400Z"
   },
   {
    "duration": 142,
    "start_time": "2023-02-03T08:03:58.945Z"
   },
   {
    "duration": 18047,
    "start_time": "2023-02-03T08:04:37.064Z"
   },
   {
    "duration": 5,
    "start_time": "2023-02-03T08:17:20.057Z"
   },
   {
    "duration": 977,
    "start_time": "2023-02-03T08:17:20.065Z"
   },
   {
    "duration": 489,
    "start_time": "2023-02-03T08:17:21.044Z"
   },
   {
    "duration": 313,
    "start_time": "2023-02-03T08:17:21.535Z"
   },
   {
    "duration": 682,
    "start_time": "2023-02-03T08:17:21.850Z"
   },
   {
    "duration": 27,
    "start_time": "2023-02-03T08:17:22.534Z"
   },
   {
    "duration": 415,
    "start_time": "2023-02-03T08:17:22.562Z"
   },
   {
    "duration": 37,
    "start_time": "2023-02-03T08:17:22.978Z"
   },
   {
    "duration": 669,
    "start_time": "2023-02-03T08:17:23.017Z"
   },
   {
    "duration": 316,
    "start_time": "2023-02-03T08:17:23.689Z"
   },
   {
    "duration": 22,
    "start_time": "2023-02-03T08:17:24.006Z"
   },
   {
    "duration": 79,
    "start_time": "2023-02-03T08:17:24.030Z"
   },
   {
    "duration": 135,
    "start_time": "2023-02-03T08:17:24.111Z"
   },
   {
    "duration": 489,
    "start_time": "2023-02-03T08:17:24.248Z"
   },
   {
    "duration": 374,
    "start_time": "2023-02-03T08:18:05.231Z"
   },
   {
    "duration": 143,
    "start_time": "2023-02-03T08:19:38.671Z"
   },
   {
    "duration": 17048,
    "start_time": "2023-02-03T08:20:14.167Z"
   },
   {
    "duration": 17603,
    "start_time": "2023-02-03T08:21:27.103Z"
   },
   {
    "duration": 17899,
    "start_time": "2023-02-03T08:22:42.910Z"
   },
   {
    "duration": 323,
    "start_time": "2023-02-03T08:26:54.926Z"
   },
   {
    "duration": 140,
    "start_time": "2023-02-03T08:26:56.519Z"
   },
   {
    "duration": 18137,
    "start_time": "2023-02-03T08:27:16.471Z"
   },
   {
    "duration": 139,
    "start_time": "2023-02-03T08:27:55.846Z"
   },
   {
    "duration": 313,
    "start_time": "2023-02-03T08:28:52.078Z"
   },
   {
    "duration": 149,
    "start_time": "2023-02-03T08:28:53.927Z"
   },
   {
    "duration": 16448,
    "start_time": "2023-02-03T08:28:55.062Z"
   },
   {
    "duration": 159,
    "start_time": "2023-02-03T08:40:22.911Z"
   },
   {
    "duration": 5541,
    "start_time": "2023-02-03T08:40:24.766Z"
   },
   {
    "duration": 11413,
    "start_time": "2023-02-03T08:42:07.022Z"
   },
   {
    "duration": 61,
    "start_time": "2023-02-03T08:45:32.357Z"
   },
   {
    "duration": 66,
    "start_time": "2023-02-03T08:46:05.110Z"
   },
   {
    "duration": 126,
    "start_time": "2023-02-03T08:46:06.221Z"
   },
   {
    "duration": 5080,
    "start_time": "2023-02-03T08:46:25.870Z"
   },
   {
    "duration": 150191,
    "start_time": "2023-02-03T08:49:26.822Z"
   },
   {
    "duration": 85,
    "start_time": "2023-02-03T08:58:14.837Z"
   },
   {
    "duration": 4,
    "start_time": "2023-02-03T09:06:26.054Z"
   },
   {
    "duration": 21024,
    "start_time": "2023-02-03T09:07:30.181Z"
   },
   {
    "duration": 3,
    "start_time": "2023-02-03T09:07:53.588Z"
   },
   {
    "duration": 569322,
    "start_time": "2023-02-03T09:09:02.117Z"
   },
   {
    "duration": 3,
    "start_time": "2023-02-03T09:18:31.442Z"
   },
   {
    "duration": 186865,
    "start_time": "2023-02-03T09:18:31.446Z"
   },
   {
    "duration": 3,
    "start_time": "2023-02-03T09:21:38.313Z"
   },
   {
    "duration": 14,
    "start_time": "2023-02-03T09:21:38.318Z"
   },
   {
    "duration": 14,
    "start_time": "2023-02-03T09:21:38.334Z"
   },
   {
    "duration": 12,
    "start_time": "2023-02-03T09:26:58.456Z"
   },
   {
    "duration": 1426,
    "start_time": "2023-02-03T09:32:18.364Z"
   },
   {
    "duration": 1040,
    "start_time": "2023-02-03T09:32:19.792Z"
   },
   {
    "duration": 575,
    "start_time": "2023-02-03T09:32:20.834Z"
   },
   {
    "duration": 317,
    "start_time": "2023-02-03T09:32:21.411Z"
   },
   {
    "duration": 693,
    "start_time": "2023-02-03T09:32:21.730Z"
   },
   {
    "duration": 29,
    "start_time": "2023-02-03T09:32:22.425Z"
   },
   {
    "duration": 401,
    "start_time": "2023-02-03T09:32:22.456Z"
   },
   {
    "duration": 28,
    "start_time": "2023-02-03T09:32:22.859Z"
   },
   {
    "duration": 716,
    "start_time": "2023-02-03T09:32:22.889Z"
   },
   {
    "duration": 323,
    "start_time": "2023-02-03T09:32:23.608Z"
   },
   {
    "duration": 22,
    "start_time": "2023-02-03T09:32:23.932Z"
   },
   {
    "duration": 67,
    "start_time": "2023-02-03T09:32:23.956Z"
   },
   {
    "duration": 113,
    "start_time": "2023-02-03T09:32:24.025Z"
   },
   {
    "duration": 590,
    "start_time": "2023-02-03T09:32:24.139Z"
   },
   {
    "duration": 399,
    "start_time": "2023-02-03T09:32:24.730Z"
   },
   {
    "duration": 115,
    "start_time": "2023-02-03T09:32:25.130Z"
   },
   {
    "duration": 0,
    "start_time": "2023-02-03T09:32:25.247Z"
   },
   {
    "duration": 0,
    "start_time": "2023-02-03T09:32:25.248Z"
   },
   {
    "duration": 0,
    "start_time": "2023-02-03T09:32:25.249Z"
   },
   {
    "duration": 0,
    "start_time": "2023-02-03T09:32:25.250Z"
   },
   {
    "duration": 0,
    "start_time": "2023-02-03T09:32:25.251Z"
   },
   {
    "duration": 0,
    "start_time": "2023-02-03T09:32:25.253Z"
   },
   {
    "duration": 0,
    "start_time": "2023-02-03T09:32:25.254Z"
   },
   {
    "duration": 0,
    "start_time": "2023-02-03T09:32:25.255Z"
   },
   {
    "duration": 0,
    "start_time": "2023-02-03T09:32:25.256Z"
   },
   {
    "duration": 0,
    "start_time": "2023-02-03T09:32:25.257Z"
   },
   {
    "duration": 0,
    "start_time": "2023-02-03T09:32:25.258Z"
   },
   {
    "duration": 0,
    "start_time": "2023-02-03T09:32:25.259Z"
   },
   {
    "duration": 151,
    "start_time": "2023-02-03T09:33:22.605Z"
   },
   {
    "duration": 1461,
    "start_time": "2023-02-03T09:33:29.956Z"
   },
   {
    "duration": 1046,
    "start_time": "2023-02-03T09:33:31.419Z"
   },
   {
    "duration": 558,
    "start_time": "2023-02-03T09:33:32.467Z"
   },
   {
    "duration": 333,
    "start_time": "2023-02-03T09:33:33.027Z"
   },
   {
    "duration": 724,
    "start_time": "2023-02-03T09:33:33.362Z"
   },
   {
    "duration": 36,
    "start_time": "2023-02-03T09:33:34.088Z"
   },
   {
    "duration": 470,
    "start_time": "2023-02-03T09:33:34.126Z"
   },
   {
    "duration": 28,
    "start_time": "2023-02-03T09:33:34.602Z"
   },
   {
    "duration": 678,
    "start_time": "2023-02-03T09:33:34.632Z"
   },
   {
    "duration": 317,
    "start_time": "2023-02-03T09:33:35.312Z"
   },
   {
    "duration": 22,
    "start_time": "2023-02-03T09:33:35.631Z"
   },
   {
    "duration": 70,
    "start_time": "2023-02-03T09:33:35.655Z"
   },
   {
    "duration": 118,
    "start_time": "2023-02-03T09:33:35.727Z"
   },
   {
    "duration": 541,
    "start_time": "2023-02-03T09:33:35.848Z"
   },
   {
    "duration": 389,
    "start_time": "2023-02-03T09:33:36.391Z"
   },
   {
    "duration": 159,
    "start_time": "2023-02-03T09:33:36.781Z"
   },
   {
    "duration": 18566,
    "start_time": "2023-02-03T09:33:36.941Z"
   },
   {
    "duration": 94,
    "start_time": "2023-02-03T09:33:55.509Z"
   },
   {
    "duration": 740,
    "start_time": "2023-02-03T09:33:55.605Z"
   },
   {
    "duration": 59,
    "start_time": "2023-02-03T09:33:56.346Z"
   },
   {
    "duration": 3,
    "start_time": "2023-02-03T09:33:56.406Z"
   },
   {
    "duration": 572455,
    "start_time": "2023-02-03T09:33:56.411Z"
   },
   {
    "duration": 2,
    "start_time": "2023-02-03T09:43:28.868Z"
   },
   {
    "duration": 75,
    "start_time": "2023-02-03T09:43:28.872Z"
   },
   {
    "duration": 137,
    "start_time": "2023-02-03T09:43:28.948Z"
   },
   {
    "duration": 431018,
    "start_time": "2023-02-03T09:43:29.087Z"
   },
   {
    "duration": 3,
    "start_time": "2023-02-03T09:50:40.107Z"
   },
   {
    "duration": 14,
    "start_time": "2023-02-03T09:50:40.112Z"
   },
   {
    "duration": 1443,
    "start_time": "2023-02-03T23:05:56.268Z"
   },
   {
    "duration": 1217,
    "start_time": "2023-02-03T23:05:57.713Z"
   },
   {
    "duration": 652,
    "start_time": "2023-02-03T23:05:58.932Z"
   },
   {
    "duration": 364,
    "start_time": "2023-02-03T23:05:59.586Z"
   },
   {
    "duration": 734,
    "start_time": "2023-02-03T23:05:59.953Z"
   },
   {
    "duration": 26,
    "start_time": "2023-02-03T23:06:00.689Z"
   },
   {
    "duration": 380,
    "start_time": "2023-02-03T23:06:00.716Z"
   },
   {
    "duration": 24,
    "start_time": "2023-02-03T23:06:01.097Z"
   },
   {
    "duration": 696,
    "start_time": "2023-02-03T23:06:01.123Z"
   },
   {
    "duration": 327,
    "start_time": "2023-02-03T23:06:01.821Z"
   },
   {
    "duration": 21,
    "start_time": "2023-02-03T23:06:02.150Z"
   },
   {
    "duration": 66,
    "start_time": "2023-02-03T23:06:02.173Z"
   },
   {
    "duration": 133,
    "start_time": "2023-02-03T23:06:02.241Z"
   },
   {
    "duration": 498,
    "start_time": "2023-02-03T23:06:02.376Z"
   },
   {
    "duration": 375,
    "start_time": "2023-02-03T23:06:02.876Z"
   },
   {
    "duration": 162,
    "start_time": "2023-02-03T23:06:03.252Z"
   },
   {
    "duration": 21925,
    "start_time": "2023-02-03T23:06:03.416Z"
   },
   {
    "duration": 94,
    "start_time": "2023-02-03T23:06:25.344Z"
   },
   {
    "duration": 759,
    "start_time": "2023-02-03T23:06:25.440Z"
   },
   {
    "duration": 48,
    "start_time": "2023-02-03T23:06:26.200Z"
   },
   {
    "duration": 3,
    "start_time": "2023-02-03T23:06:26.250Z"
   },
   {
    "duration": 567187,
    "start_time": "2023-02-03T23:06:26.254Z"
   },
   {
    "duration": 3,
    "start_time": "2023-02-03T23:15:53.442Z"
   },
   {
    "duration": 87,
    "start_time": "2023-02-03T23:15:53.446Z"
   },
   {
    "duration": 135,
    "start_time": "2023-02-03T23:15:53.535Z"
   },
   {
    "duration": 163177,
    "start_time": "2023-02-03T23:15:53.672Z"
   },
   {
    "duration": 3,
    "start_time": "2023-02-03T23:18:36.850Z"
   },
   {
    "duration": 16,
    "start_time": "2023-02-03T23:18:36.855Z"
   },
   {
    "duration": 1599,
    "start_time": "2023-02-04T12:13:06.362Z"
   },
   {
    "duration": 1215,
    "start_time": "2023-02-04T12:13:07.963Z"
   },
   {
    "duration": 535,
    "start_time": "2023-02-04T12:13:09.179Z"
   },
   {
    "duration": 290,
    "start_time": "2023-02-04T12:13:09.716Z"
   },
   {
    "duration": 651,
    "start_time": "2023-02-04T12:13:10.008Z"
   },
   {
    "duration": 26,
    "start_time": "2023-02-04T12:13:10.661Z"
   },
   {
    "duration": 362,
    "start_time": "2023-02-04T12:13:10.689Z"
   },
   {
    "duration": 24,
    "start_time": "2023-02-04T12:13:11.053Z"
   },
   {
    "duration": 623,
    "start_time": "2023-02-04T12:13:11.078Z"
   },
   {
    "duration": 320,
    "start_time": "2023-02-04T12:13:11.702Z"
   },
   {
    "duration": 22,
    "start_time": "2023-02-04T12:13:12.023Z"
   },
   {
    "duration": 67,
    "start_time": "2023-02-04T12:13:12.047Z"
   },
   {
    "duration": 123,
    "start_time": "2023-02-04T12:13:12.116Z"
   },
   {
    "duration": 593,
    "start_time": "2023-02-04T12:13:12.242Z"
   },
   {
    "duration": 380,
    "start_time": "2023-02-04T12:13:12.838Z"
   },
   {
    "duration": 157,
    "start_time": "2023-02-04T12:13:13.219Z"
   },
   {
    "duration": 3,
    "start_time": "2023-02-04T12:14:58.482Z"
   },
   {
    "duration": 176,
    "start_time": "2023-02-04T12:17:28.945Z"
   },
   {
    "duration": 5,
    "start_time": "2023-02-04T12:17:57.448Z"
   },
   {
    "duration": 97,
    "start_time": "2023-02-04T12:18:02.122Z"
   },
   {
    "duration": 51881,
    "start_time": "2023-02-04T12:19:21.302Z"
   },
   {
    "duration": 10,
    "start_time": "2023-02-04T12:20:13.236Z"
   },
   {
    "duration": 14,
    "start_time": "2023-02-04T12:20:13.248Z"
   },
   {
    "duration": 979,
    "start_time": "2023-02-04T12:20:13.264Z"
   },
   {
    "duration": 483,
    "start_time": "2023-02-04T12:20:14.245Z"
   },
   {
    "duration": 302,
    "start_time": "2023-02-04T12:20:14.730Z"
   },
   {
    "duration": 743,
    "start_time": "2023-02-04T12:20:15.035Z"
   },
   {
    "duration": 35,
    "start_time": "2023-02-04T12:20:15.779Z"
   },
   {
    "duration": 326,
    "start_time": "2023-02-04T12:20:15.815Z"
   },
   {
    "duration": 30,
    "start_time": "2023-02-04T12:20:16.143Z"
   },
   {
    "duration": 4,
    "start_time": "2023-02-04T12:20:36.842Z"
   },
   {
    "duration": 5,
    "start_time": "2023-02-04T12:20:50.258Z"
   },
   {
    "duration": 913,
    "start_time": "2023-02-04T12:20:50.266Z"
   },
   {
    "duration": 475,
    "start_time": "2023-02-04T12:20:51.181Z"
   },
   {
    "duration": 309,
    "start_time": "2023-02-04T12:20:51.658Z"
   },
   {
    "duration": 606,
    "start_time": "2023-02-04T12:20:51.969Z"
   },
   {
    "duration": 32,
    "start_time": "2023-02-04T12:20:52.577Z"
   },
   {
    "duration": 275,
    "start_time": "2023-02-04T12:20:52.611Z"
   },
   {
    "duration": 36,
    "start_time": "2023-02-04T12:20:52.888Z"
   },
   {
    "duration": 595,
    "start_time": "2023-02-04T12:20:52.926Z"
   },
   {
    "duration": 354,
    "start_time": "2023-02-04T12:20:53.523Z"
   },
   {
    "duration": 32,
    "start_time": "2023-02-04T12:20:53.878Z"
   },
   {
    "duration": 63,
    "start_time": "2023-02-04T12:20:53.912Z"
   },
   {
    "duration": 141,
    "start_time": "2023-02-04T12:20:53.977Z"
   },
   {
    "duration": 3,
    "start_time": "2023-02-04T12:20:54.120Z"
   },
   {
    "duration": 581,
    "start_time": "2023-02-04T12:20:54.126Z"
   },
   {
    "duration": 550,
    "start_time": "2023-02-04T12:20:54.709Z"
   },
   {
    "duration": 144,
    "start_time": "2023-02-04T12:20:55.261Z"
   },
   {
    "duration": 68811,
    "start_time": "2023-02-04T12:20:55.407Z"
   },
   {
    "duration": 72977,
    "start_time": "2023-02-04T12:23:02.428Z"
   },
   {
    "duration": 63265,
    "start_time": "2023-02-04T12:29:20.635Z"
   },
   {
    "duration": 64732,
    "start_time": "2023-02-04T12:30:53.975Z"
   },
   {
    "duration": 62113,
    "start_time": "2023-02-04T12:35:48.787Z"
   },
   {
    "duration": 3,
    "start_time": "2023-02-04T12:40:59.039Z"
   },
   {
    "duration": 16229,
    "start_time": "2023-02-04T12:42:17.372Z"
   },
   {
    "duration": 3,
    "start_time": "2023-02-04T12:44:23.714Z"
   },
   {
    "duration": 3,
    "start_time": "2023-02-04T12:52:59.293Z"
   },
   {
    "duration": 19,
    "start_time": "2023-02-04T12:53:04.351Z"
   },
   {
    "duration": 58,
    "start_time": "2023-02-04T12:53:19.508Z"
   },
   {
    "duration": 84,
    "start_time": "2023-02-04T12:53:23.169Z"
   },
   {
    "duration": 554,
    "start_time": "2023-02-04T12:54:12.810Z"
   },
   {
    "duration": 693,
    "start_time": "2023-02-04T12:58:41.945Z"
   },
   {
    "duration": 559528,
    "start_time": "2023-02-04T12:59:12.863Z"
   },
   {
    "duration": 80,
    "start_time": "2023-02-04T13:16:12.148Z"
   },
   {
    "duration": 4,
    "start_time": "2023-02-04T13:16:28.989Z"
   },
   {
    "duration": 62,
    "start_time": "2023-02-04T13:16:30.873Z"
   },
   {
    "duration": 119,
    "start_time": "2023-02-04T13:16:33.167Z"
   },
   {
    "duration": 191365,
    "start_time": "2023-02-04T13:16:35.449Z"
   },
   {
    "duration": 2,
    "start_time": "2023-02-04T13:21:34.911Z"
   },
   {
    "duration": 10,
    "start_time": "2023-02-04T13:21:37.313Z"
   },
   {
    "duration": 4,
    "start_time": "2023-02-04T13:22:56.810Z"
   },
   {
    "duration": 2,
    "start_time": "2023-02-04T13:23:28.808Z"
   },
   {
    "duration": 10,
    "start_time": "2023-02-04T13:23:53.377Z"
   },
   {
    "duration": 10,
    "start_time": "2023-02-04T13:23:57.837Z"
   },
   {
    "duration": 34234,
    "start_time": "2023-02-04T13:36:45.985Z"
   },
   {
    "duration": 10,
    "start_time": "2023-02-04T13:41:47.320Z"
   },
   {
    "duration": 4,
    "start_time": "2023-02-04T13:42:22.900Z"
   },
   {
    "duration": 6,
    "start_time": "2023-02-04T13:42:30.471Z"
   },
   {
    "duration": 1575,
    "start_time": "2023-02-04T13:47:16.176Z"
   },
   {
    "duration": 1254,
    "start_time": "2023-02-04T13:47:17.753Z"
   },
   {
    "duration": 626,
    "start_time": "2023-02-04T13:47:19.009Z"
   },
   {
    "duration": 365,
    "start_time": "2023-02-04T13:47:19.637Z"
   },
   {
    "duration": 670,
    "start_time": "2023-02-04T13:47:20.004Z"
   },
   {
    "duration": 38,
    "start_time": "2023-02-04T13:47:20.676Z"
   },
   {
    "duration": 394,
    "start_time": "2023-02-04T13:47:20.716Z"
   },
   {
    "duration": 23,
    "start_time": "2023-02-04T13:47:21.112Z"
   },
   {
    "duration": 676,
    "start_time": "2023-02-04T13:47:21.136Z"
   },
   {
    "duration": 296,
    "start_time": "2023-02-04T13:47:21.815Z"
   },
   {
    "duration": 22,
    "start_time": "2023-02-04T13:47:22.113Z"
   },
   {
    "duration": 77,
    "start_time": "2023-02-04T13:47:22.137Z"
   },
   {
    "duration": 124,
    "start_time": "2023-02-04T13:47:22.216Z"
   },
   {
    "duration": 3,
    "start_time": "2023-02-04T13:47:22.341Z"
   },
   {
    "duration": 597,
    "start_time": "2023-02-04T13:47:22.346Z"
   },
   {
    "duration": 399,
    "start_time": "2023-02-04T13:47:22.945Z"
   },
   {
    "duration": 161,
    "start_time": "2023-02-04T13:47:23.346Z"
   },
   {
    "duration": 3,
    "start_time": "2023-02-04T13:47:23.508Z"
   },
   {
    "duration": 17492,
    "start_time": "2023-02-04T13:47:23.513Z"
   },
   {
    "duration": 92,
    "start_time": "2023-02-04T13:47:41.007Z"
   },
   {
    "duration": 84,
    "start_time": "2023-02-04T13:47:41.101Z"
   },
   {
    "duration": 783,
    "start_time": "2023-02-04T13:47:41.186Z"
   },
   {
    "duration": 596350,
    "start_time": "2023-02-04T13:47:41.971Z"
   },
   {
    "duration": 2,
    "start_time": "2023-02-04T13:57:38.323Z"
   },
   {
    "duration": 75,
    "start_time": "2023-02-04T13:57:38.327Z"
   },
   {
    "duration": 128,
    "start_time": "2023-02-04T13:57:38.403Z"
   },
   {
    "duration": 5,
    "start_time": "2023-02-04T14:24:02.820Z"
   },
   {
    "duration": 1406,
    "start_time": "2023-02-04T14:24:02.843Z"
   },
   {
    "duration": 542,
    "start_time": "2023-02-04T14:24:04.251Z"
   },
   {
    "duration": 326,
    "start_time": "2023-02-04T14:24:04.795Z"
   },
   {
    "duration": 707,
    "start_time": "2023-02-04T14:24:05.123Z"
   },
   {
    "duration": 27,
    "start_time": "2023-02-04T14:24:05.831Z"
   },
   {
    "duration": 318,
    "start_time": "2023-02-04T14:24:05.860Z"
   },
   {
    "duration": 37,
    "start_time": "2023-02-04T14:24:06.180Z"
   },
   {
    "duration": 678,
    "start_time": "2023-02-04T14:24:06.219Z"
   },
   {
    "duration": 357,
    "start_time": "2023-02-04T14:24:06.899Z"
   },
   {
    "duration": 21,
    "start_time": "2023-02-04T14:24:07.259Z"
   },
   {
    "duration": 71,
    "start_time": "2023-02-04T14:24:07.282Z"
   },
   {
    "duration": 121,
    "start_time": "2023-02-04T14:24:07.355Z"
   },
   {
    "duration": 3,
    "start_time": "2023-02-04T14:24:07.478Z"
   },
   {
    "duration": 611,
    "start_time": "2023-02-04T14:24:07.483Z"
   },
   {
    "duration": 382,
    "start_time": "2023-02-04T14:24:08.099Z"
   },
   {
    "duration": 148,
    "start_time": "2023-02-04T14:24:08.483Z"
   },
   {
    "duration": 3,
    "start_time": "2023-02-04T14:24:08.633Z"
   },
   {
    "duration": 29769,
    "start_time": "2023-02-04T14:24:08.637Z"
   },
   {
    "duration": 2,
    "start_time": "2023-02-04T14:24:38.408Z"
   },
   {
    "duration": 223,
    "start_time": "2023-02-04T14:24:38.416Z"
   },
   {
    "duration": 734,
    "start_time": "2023-02-04T14:24:38.641Z"
   },
   {
    "duration": 582441,
    "start_time": "2023-02-04T14:24:39.377Z"
   },
   {
    "duration": 3,
    "start_time": "2023-02-04T14:34:21.820Z"
   },
   {
    "duration": 65,
    "start_time": "2023-02-04T14:34:21.825Z"
   },
   {
    "duration": 140,
    "start_time": "2023-02-04T14:34:21.892Z"
   },
   {
    "duration": 1573,
    "start_time": "2023-02-04T14:57:47.481Z"
   },
   {
    "duration": 1159,
    "start_time": "2023-02-04T14:57:49.057Z"
   },
   {
    "duration": 647,
    "start_time": "2023-02-04T14:57:50.222Z"
   },
   {
    "duration": 411,
    "start_time": "2023-02-04T14:57:50.870Z"
   },
   {
    "duration": 783,
    "start_time": "2023-02-04T14:57:51.283Z"
   },
   {
    "duration": 40,
    "start_time": "2023-02-04T14:57:52.068Z"
   },
   {
    "duration": 415,
    "start_time": "2023-02-04T14:57:52.114Z"
   },
   {
    "duration": 34,
    "start_time": "2023-02-04T14:57:52.535Z"
   },
   {
    "duration": 779,
    "start_time": "2023-02-04T14:57:52.571Z"
   },
   {
    "duration": 392,
    "start_time": "2023-02-04T14:57:53.353Z"
   },
   {
    "duration": 27,
    "start_time": "2023-02-04T14:57:53.746Z"
   },
   {
    "duration": 79,
    "start_time": "2023-02-04T14:57:53.776Z"
   },
   {
    "duration": 169,
    "start_time": "2023-02-04T14:57:53.857Z"
   },
   {
    "duration": 5,
    "start_time": "2023-02-04T14:57:54.031Z"
   },
   {
    "duration": 813,
    "start_time": "2023-02-04T14:57:54.042Z"
   },
   {
    "duration": 428,
    "start_time": "2023-02-04T14:57:54.857Z"
   },
   {
    "duration": 186,
    "start_time": "2023-02-04T14:57:55.286Z"
   },
   {
    "duration": 2,
    "start_time": "2023-02-04T14:57:55.474Z"
   },
   {
    "duration": 73547,
    "start_time": "2023-02-04T14:57:55.478Z"
   },
   {
    "duration": 5,
    "start_time": "2023-02-04T14:59:09.098Z"
   },
   {
    "duration": 112,
    "start_time": "2023-02-04T14:59:09.110Z"
   },
   {
    "duration": 911,
    "start_time": "2023-02-04T14:59:09.226Z"
   },
   {
    "duration": 598505,
    "start_time": "2023-02-04T14:59:10.139Z"
   },
   {
    "duration": 3,
    "start_time": "2023-02-04T15:09:08.646Z"
   },
   {
    "duration": 81,
    "start_time": "2023-02-04T15:09:08.651Z"
   },
   {
    "duration": 142,
    "start_time": "2023-02-04T15:09:08.734Z"
   },
   {
    "duration": 1666,
    "start_time": "2023-02-04T15:24:42.036Z"
   },
   {
    "duration": 1132,
    "start_time": "2023-02-04T15:24:47.361Z"
   },
   {
    "duration": 617,
    "start_time": "2023-02-04T15:24:51.554Z"
   },
   {
    "duration": 380,
    "start_time": "2023-02-04T15:24:54.575Z"
   },
   {
    "duration": 815,
    "start_time": "2023-02-04T15:24:57.641Z"
   },
   {
    "duration": 35,
    "start_time": "2023-02-04T15:25:00.704Z"
   },
   {
    "duration": 470,
    "start_time": "2023-02-04T15:25:04.850Z"
   },
   {
    "duration": 25,
    "start_time": "2023-02-04T15:25:07.543Z"
   },
   {
    "duration": 724,
    "start_time": "2023-02-04T15:25:10.472Z"
   },
   {
    "duration": 355,
    "start_time": "2023-02-04T15:25:15.265Z"
   },
   {
    "duration": 41,
    "start_time": "2023-02-04T15:25:18.382Z"
   },
   {
    "duration": 61,
    "start_time": "2023-02-04T15:25:19.962Z"
   },
   {
    "duration": 123,
    "start_time": "2023-02-04T15:25:22.527Z"
   },
   {
    "duration": 3,
    "start_time": "2023-02-04T15:25:26.092Z"
   },
   {
    "duration": 563,
    "start_time": "2023-02-04T15:25:28.331Z"
   },
   {
    "duration": 422,
    "start_time": "2023-02-04T15:25:42.843Z"
   },
   {
    "duration": 169,
    "start_time": "2023-02-04T15:25:45.680Z"
   },
   {
    "duration": 58205,
    "start_time": "2023-02-04T15:25:50.998Z"
   },
   {
    "duration": 3,
    "start_time": "2023-02-04T15:27:08.048Z"
   },
   {
    "duration": 71,
    "start_time": "2023-02-04T15:27:13.030Z"
   },
   {
    "duration": 926,
    "start_time": "2023-02-04T15:27:16.867Z"
   },
   {
    "duration": 71,
    "start_time": "2023-02-04T15:27:25.557Z"
   },
   {
    "duration": 146,
    "start_time": "2023-02-04T15:27:27.894Z"
   },
   {
    "duration": 1831,
    "start_time": "2023-02-04T15:47:15.358Z"
   },
   {
    "duration": 1150,
    "start_time": "2023-02-04T15:47:20.939Z"
   },
   {
    "duration": 610,
    "start_time": "2023-02-04T15:47:25.135Z"
   },
   {
    "duration": 407,
    "start_time": "2023-02-04T15:47:27.988Z"
   },
   {
    "duration": 819,
    "start_time": "2023-02-04T15:47:30.849Z"
   },
   {
    "duration": 28,
    "start_time": "2023-02-04T15:47:34.636Z"
   },
   {
    "duration": 422,
    "start_time": "2023-02-04T15:47:37.181Z"
   },
   {
    "duration": 33,
    "start_time": "2023-02-04T15:47:40.040Z"
   },
   {
    "duration": 951,
    "start_time": "2023-02-04T15:47:42.338Z"
   },
   {
    "duration": 314,
    "start_time": "2023-02-04T15:47:45.164Z"
   },
   {
    "duration": 21,
    "start_time": "2023-02-04T15:47:48.738Z"
   },
   {
    "duration": 55,
    "start_time": "2023-02-04T15:47:50.532Z"
   },
   {
    "duration": 140,
    "start_time": "2023-02-04T15:47:53.300Z"
   },
   {
    "duration": 3,
    "start_time": "2023-02-04T15:47:56.492Z"
   },
   {
    "duration": 675,
    "start_time": "2023-02-04T15:47:59.775Z"
   },
   {
    "duration": 426,
    "start_time": "2023-02-04T15:48:03.394Z"
   },
   {
    "duration": 181,
    "start_time": "2023-02-04T15:48:06.991Z"
   },
   {
    "duration": 74038,
    "start_time": "2023-02-04T15:48:09.889Z"
   },
   {
    "duration": 9,
    "start_time": "2023-02-04T15:51:16.819Z"
   },
   {
    "duration": 71,
    "start_time": "2023-02-04T15:51:20.535Z"
   },
   {
    "duration": 831,
    "start_time": "2023-02-04T15:51:22.889Z"
   },
   {
    "duration": 70,
    "start_time": "2023-02-04T15:51:37.331Z"
   },
   {
    "duration": 166,
    "start_time": "2023-02-04T15:51:40.079Z"
   },
   {
    "duration": 1495,
    "start_time": "2023-02-04T16:11:43.852Z"
   },
   {
    "duration": 1085,
    "start_time": "2023-02-04T16:11:45.349Z"
   },
   {
    "duration": 614,
    "start_time": "2023-02-04T16:11:46.436Z"
   },
   {
    "duration": 381,
    "start_time": "2023-02-04T16:11:47.053Z"
   },
   {
    "duration": 735,
    "start_time": "2023-02-04T16:11:47.436Z"
   },
   {
    "duration": 44,
    "start_time": "2023-02-04T16:11:48.173Z"
   },
   {
    "duration": 399,
    "start_time": "2023-02-04T16:11:48.226Z"
   },
   {
    "duration": 25,
    "start_time": "2023-02-04T16:11:48.627Z"
   },
   {
    "duration": 738,
    "start_time": "2023-02-04T16:11:48.654Z"
   },
   {
    "duration": 356,
    "start_time": "2023-02-04T16:11:49.400Z"
   },
   {
    "duration": 24,
    "start_time": "2023-02-04T16:11:49.758Z"
   },
   {
    "duration": 68,
    "start_time": "2023-02-04T16:11:49.784Z"
   },
   {
    "duration": 134,
    "start_time": "2023-02-04T16:11:49.854Z"
   },
   {
    "duration": 11,
    "start_time": "2023-02-04T16:11:49.990Z"
   },
   {
    "duration": 646,
    "start_time": "2023-02-04T16:11:50.002Z"
   },
   {
    "duration": 404,
    "start_time": "2023-02-04T16:11:50.649Z"
   },
   {
    "duration": 182,
    "start_time": "2023-02-04T16:11:51.055Z"
   },
   {
    "duration": 2,
    "start_time": "2023-02-04T16:11:51.239Z"
   },
   {
    "duration": 65277,
    "start_time": "2023-02-04T16:11:51.243Z"
   },
   {
    "duration": 2,
    "start_time": "2023-02-04T16:12:56.528Z"
   },
   {
    "duration": 177,
    "start_time": "2023-02-04T16:12:56.532Z"
   },
   {
    "duration": 859,
    "start_time": "2023-02-04T16:12:56.710Z"
   },
   {
    "duration": 636010,
    "start_time": "2023-02-04T16:12:57.571Z"
   },
   {
    "duration": 3,
    "start_time": "2023-02-04T16:23:33.583Z"
   },
   {
    "duration": 77,
    "start_time": "2023-02-04T16:23:33.587Z"
   },
   {
    "duration": 150,
    "start_time": "2023-02-04T16:23:33.665Z"
   },
   {
    "duration": 1450,
    "start_time": "2023-02-04T16:56:31.769Z"
   },
   {
    "duration": 3142,
    "start_time": "2023-02-04T16:56:33.221Z"
   },
   {
    "duration": 586,
    "start_time": "2023-02-04T16:56:36.364Z"
   },
   {
    "duration": 348,
    "start_time": "2023-02-04T16:56:36.951Z"
   },
   {
    "duration": 659,
    "start_time": "2023-02-04T16:56:37.301Z"
   },
   {
    "duration": 34,
    "start_time": "2023-02-04T16:56:37.962Z"
   },
   {
    "duration": 350,
    "start_time": "2023-02-04T16:56:37.997Z"
   },
   {
    "duration": 22,
    "start_time": "2023-02-04T16:56:38.349Z"
   },
   {
    "duration": 626,
    "start_time": "2023-02-04T16:56:38.372Z"
   },
   {
    "duration": 294,
    "start_time": "2023-02-04T16:56:39.000Z"
   },
   {
    "duration": 22,
    "start_time": "2023-02-04T16:56:39.296Z"
   },
   {
    "duration": 52,
    "start_time": "2023-02-04T16:56:39.320Z"
   },
   {
    "duration": 124,
    "start_time": "2023-02-04T16:56:39.391Z"
   },
   {
    "duration": 3,
    "start_time": "2023-02-04T16:56:39.518Z"
   },
   {
    "duration": 504,
    "start_time": "2023-02-04T16:56:39.522Z"
   },
   {
    "duration": 390,
    "start_time": "2023-02-04T16:56:40.028Z"
   },
   {
    "duration": 159,
    "start_time": "2023-02-04T16:56:40.419Z"
   },
   {
    "duration": 2,
    "start_time": "2023-02-04T16:56:40.580Z"
   },
   {
    "duration": 117,
    "start_time": "2023-02-04T17:04:28.777Z"
   },
   {
    "duration": 1418,
    "start_time": "2023-02-04T17:04:37.478Z"
   },
   {
    "duration": 3086,
    "start_time": "2023-02-04T17:04:38.898Z"
   },
   {
    "duration": 578,
    "start_time": "2023-02-04T17:04:41.990Z"
   },
   {
    "duration": 367,
    "start_time": "2023-02-04T17:04:42.570Z"
   },
   {
    "duration": 714,
    "start_time": "2023-02-04T17:04:42.939Z"
   },
   {
    "duration": 24,
    "start_time": "2023-02-04T17:04:43.655Z"
   },
   {
    "duration": 355,
    "start_time": "2023-02-04T17:04:43.681Z"
   },
   {
    "duration": 22,
    "start_time": "2023-02-04T17:04:44.037Z"
   },
   {
    "duration": 612,
    "start_time": "2023-02-04T17:04:44.060Z"
   },
   {
    "duration": 284,
    "start_time": "2023-02-04T17:04:44.674Z"
   },
   {
    "duration": 31,
    "start_time": "2023-02-04T17:04:44.960Z"
   },
   {
    "duration": 53,
    "start_time": "2023-02-04T17:04:44.993Z"
   },
   {
    "duration": 129,
    "start_time": "2023-02-04T17:04:45.048Z"
   },
   {
    "duration": 3,
    "start_time": "2023-02-04T17:04:45.179Z"
   },
   {
    "duration": 466,
    "start_time": "2023-02-04T17:04:45.191Z"
   },
   {
    "duration": 379,
    "start_time": "2023-02-04T17:04:45.659Z"
   },
   {
    "duration": 148,
    "start_time": "2023-02-04T17:04:46.040Z"
   },
   {
    "duration": 67809,
    "start_time": "2023-02-04T17:04:46.190Z"
   },
   {
    "duration": 43,
    "start_time": "2023-02-04T17:06:12.394Z"
   },
   {
    "duration": 7,
    "start_time": "2023-02-04T17:06:57.759Z"
   },
   {
    "duration": 1419,
    "start_time": "2023-02-04T17:07:36.561Z"
   },
   {
    "duration": 3113,
    "start_time": "2023-02-04T17:07:37.982Z"
   },
   {
    "duration": 545,
    "start_time": "2023-02-04T17:07:41.097Z"
   },
   {
    "duration": 365,
    "start_time": "2023-02-04T17:07:41.644Z"
   },
   {
    "duration": 669,
    "start_time": "2023-02-04T17:07:42.011Z"
   },
   {
    "duration": 30,
    "start_time": "2023-02-04T17:07:42.682Z"
   },
   {
    "duration": 346,
    "start_time": "2023-02-04T17:07:42.713Z"
   },
   {
    "duration": 41,
    "start_time": "2023-02-04T17:07:43.061Z"
   },
   {
    "duration": 630,
    "start_time": "2023-02-04T17:07:43.104Z"
   },
   {
    "duration": 288,
    "start_time": "2023-02-04T17:07:43.735Z"
   },
   {
    "duration": 23,
    "start_time": "2023-02-04T17:07:44.025Z"
   },
   {
    "duration": 66,
    "start_time": "2023-02-04T17:07:44.050Z"
   },
   {
    "duration": 128,
    "start_time": "2023-02-04T17:07:44.117Z"
   },
   {
    "duration": 3,
    "start_time": "2023-02-04T17:07:44.247Z"
   },
   {
    "duration": 458,
    "start_time": "2023-02-04T17:07:44.251Z"
   },
   {
    "duration": 376,
    "start_time": "2023-02-04T17:07:44.710Z"
   },
   {
    "duration": 145,
    "start_time": "2023-02-04T17:07:45.091Z"
   },
   {
    "duration": 457,
    "start_time": "2023-02-04T17:07:47.638Z"
   },
   {
    "duration": 460,
    "start_time": "2023-02-04T17:10:26.740Z"
   },
   {
    "duration": 67,
    "start_time": "2023-02-04T17:16:11.073Z"
   },
   {
    "duration": 72,
    "start_time": "2023-02-04T17:16:32.260Z"
   },
   {
    "duration": 4,
    "start_time": "2023-02-04T17:17:11.426Z"
   },
   {
    "duration": 137,
    "start_time": "2023-02-04T17:17:14.543Z"
   },
   {
    "duration": 11,
    "start_time": "2023-02-04T17:17:34.062Z"
   },
   {
    "duration": 496195,
    "start_time": "2023-02-04T17:17:36.362Z"
   },
   {
    "duration": 1478,
    "start_time": "2023-02-04T17:39:51.841Z"
   },
   {
    "duration": 1166,
    "start_time": "2023-02-04T17:39:57.322Z"
   },
   {
    "duration": 664,
    "start_time": "2023-02-04T17:40:00.856Z"
   },
   {
    "duration": 422,
    "start_time": "2023-02-04T17:40:05.758Z"
   },
   {
    "duration": 772,
    "start_time": "2023-02-04T17:40:08.770Z"
   },
   {
    "duration": 31,
    "start_time": "2023-02-04T17:40:11.937Z"
   },
   {
    "duration": 477,
    "start_time": "2023-02-04T17:40:16.955Z"
   },
   {
    "duration": 31,
    "start_time": "2023-02-04T17:40:20.241Z"
   },
   {
    "duration": 831,
    "start_time": "2023-02-04T17:40:23.739Z"
   },
   {
    "duration": 316,
    "start_time": "2023-02-04T17:40:26.439Z"
   },
   {
    "duration": 28,
    "start_time": "2023-02-04T17:40:29.331Z"
   },
   {
    "duration": 53,
    "start_time": "2023-02-04T17:40:31.241Z"
   },
   {
    "duration": 154,
    "start_time": "2023-02-04T17:40:34.689Z"
   },
   {
    "duration": 3,
    "start_time": "2023-02-04T17:40:37.975Z"
   },
   {
    "duration": 652,
    "start_time": "2023-02-04T17:40:40.577Z"
   },
   {
    "duration": 437,
    "start_time": "2023-02-04T17:41:07.049Z"
   },
   {
    "duration": 183,
    "start_time": "2023-02-04T17:41:10.574Z"
   },
   {
    "duration": 293886,
    "start_time": "2023-02-04T17:41:32.438Z"
   },
   {
    "duration": 273038,
    "start_time": "2023-02-04T17:47:00.772Z"
   },
   {
    "duration": 66518,
    "start_time": "2023-02-04T17:58:18.988Z"
   },
   {
    "duration": 7,
    "start_time": "2023-02-04T18:00:18.428Z"
   },
   {
    "duration": 85,
    "start_time": "2023-02-04T18:02:07.372Z"
   },
   {
    "duration": 863,
    "start_time": "2023-02-04T18:02:08.839Z"
   },
   {
    "duration": 640201,
    "start_time": "2023-02-04T18:02:12.257Z"
   },
   {
    "duration": 1581,
    "start_time": "2023-02-04T18:16:10.628Z"
   },
   {
    "duration": 1207,
    "start_time": "2023-02-04T18:16:12.211Z"
   },
   {
    "duration": 719,
    "start_time": "2023-02-04T18:16:13.420Z"
   },
   {
    "duration": 453,
    "start_time": "2023-02-04T18:16:14.141Z"
   },
   {
    "duration": 786,
    "start_time": "2023-02-04T18:16:14.596Z"
   },
   {
    "duration": 69,
    "start_time": "2023-02-04T18:16:15.385Z"
   },
   {
    "duration": 473,
    "start_time": "2023-02-04T18:16:15.456Z"
   },
   {
    "duration": 38,
    "start_time": "2023-02-04T18:16:15.937Z"
   },
   {
    "duration": 926,
    "start_time": "2023-02-04T18:16:15.977Z"
   },
   {
    "duration": 413,
    "start_time": "2023-02-04T18:16:16.904Z"
   },
   {
    "duration": 33,
    "start_time": "2023-02-04T18:16:17.319Z"
   },
   {
    "duration": 88,
    "start_time": "2023-02-04T18:16:17.354Z"
   },
   {
    "duration": 135,
    "start_time": "2023-02-04T18:16:17.447Z"
   },
   {
    "duration": 16,
    "start_time": "2023-02-04T18:16:17.587Z"
   },
   {
    "duration": 647,
    "start_time": "2023-02-04T18:16:17.604Z"
   },
   {
    "duration": 435,
    "start_time": "2023-02-04T18:16:18.252Z"
   },
   {
    "duration": 188,
    "start_time": "2023-02-04T18:16:18.688Z"
   },
   {
    "duration": 297233,
    "start_time": "2023-02-04T18:16:18.878Z"
   },
   {
    "duration": 64800,
    "start_time": "2023-02-04T18:21:16.113Z"
   },
   {
    "duration": 5,
    "start_time": "2023-02-04T18:22:20.915Z"
   },
   {
    "duration": 203,
    "start_time": "2023-02-04T18:22:20.921Z"
   },
   {
    "duration": 824,
    "start_time": "2023-02-04T18:22:21.127Z"
   },
   {
    "duration": 630141,
    "start_time": "2023-02-04T18:22:21.954Z"
   },
   {
    "duration": 11,
    "start_time": "2023-02-04T18:32:52.096Z"
   },
   {
    "duration": 99,
    "start_time": "2023-02-04T18:32:52.111Z"
   },
   {
    "duration": 147,
    "start_time": "2023-02-04T18:32:52.212Z"
   },
   {
    "duration": 5981161,
    "start_time": "2023-02-04T18:32:52.361Z"
   },
   {
    "duration": 3,
    "start_time": "2023-02-04T20:12:33.524Z"
   },
   {
    "duration": 15,
    "start_time": "2023-02-04T20:12:33.529Z"
   },
   {
    "duration": 108772,
    "start_time": "2023-02-04T20:12:33.546Z"
   },
   {
    "duration": 7,
    "start_time": "2023-02-04T20:14:22.320Z"
   },
   {
    "duration": 1599,
    "start_time": "2023-02-05T11:23:09.407Z"
   },
   {
    "duration": 3265,
    "start_time": "2023-02-05T11:23:11.008Z"
   },
   {
    "duration": 629,
    "start_time": "2023-02-05T11:23:14.275Z"
   },
   {
    "duration": 388,
    "start_time": "2023-02-05T11:23:14.907Z"
   },
   {
    "duration": 795,
    "start_time": "2023-02-05T11:23:15.297Z"
   },
   {
    "duration": 27,
    "start_time": "2023-02-05T11:23:16.094Z"
   },
   {
    "duration": 401,
    "start_time": "2023-02-05T11:23:16.123Z"
   },
   {
    "duration": 30,
    "start_time": "2023-02-05T11:23:16.526Z"
   },
   {
    "duration": 666,
    "start_time": "2023-02-05T11:23:16.558Z"
   },
   {
    "duration": 320,
    "start_time": "2023-02-05T11:23:17.227Z"
   },
   {
    "duration": 22,
    "start_time": "2023-02-05T11:23:17.548Z"
   },
   {
    "duration": 73,
    "start_time": "2023-02-05T11:23:17.572Z"
   },
   {
    "duration": 143,
    "start_time": "2023-02-05T11:23:17.647Z"
   },
   {
    "duration": 4,
    "start_time": "2023-02-05T11:23:17.792Z"
   },
   {
    "duration": 543,
    "start_time": "2023-02-05T11:23:17.798Z"
   },
   {
    "duration": 408,
    "start_time": "2023-02-05T11:23:18.343Z"
   },
   {
    "duration": 164,
    "start_time": "2023-02-05T11:23:18.753Z"
   },
   {
    "duration": 68922,
    "start_time": "2023-02-05T11:23:18.919Z"
   },
   {
    "duration": 17303,
    "start_time": "2023-02-05T11:24:27.843Z"
   },
   {
    "duration": 3,
    "start_time": "2023-02-05T11:24:45.237Z"
   },
   {
    "duration": 137,
    "start_time": "2023-02-05T11:24:45.242Z"
   },
   {
    "duration": 798,
    "start_time": "2023-02-05T11:24:45.381Z"
   },
   {
    "duration": 52078,
    "start_time": "2023-02-05T11:24:46.181Z"
   },
   {
    "duration": 3,
    "start_time": "2023-02-05T11:25:38.261Z"
   },
   {
    "duration": 82,
    "start_time": "2023-02-05T11:25:38.266Z"
   },
   {
    "duration": 146,
    "start_time": "2023-02-05T11:25:38.350Z"
   },
   {
    "duration": 2245,
    "start_time": "2023-02-05T11:25:38.497Z"
   },
   {
    "duration": 3,
    "start_time": "2023-02-05T11:25:40.745Z"
   },
   {
    "duration": 21,
    "start_time": "2023-02-05T11:25:40.749Z"
   },
   {
    "duration": 0,
    "start_time": "2023-02-05T11:25:40.772Z"
   },
   {
    "duration": 0,
    "start_time": "2023-02-05T11:25:40.773Z"
   },
   {
    "duration": 1655,
    "start_time": "2023-02-07T04:57:30.453Z"
   },
   {
    "duration": 119,
    "start_time": "2023-02-07T04:57:51.899Z"
   },
   {
    "duration": 1223,
    "start_time": "2023-02-07T04:58:09.344Z"
   },
   {
    "duration": 33,
    "start_time": "2023-02-07T04:58:20.977Z"
   }
  ],
  "kernelspec": {
   "display_name": "Python 3 (ipykernel)",
   "language": "python",
   "name": "python3"
  },
  "language_info": {
   "codemirror_mode": {
    "name": "ipython",
    "version": 3
   },
   "file_extension": ".py",
   "mimetype": "text/x-python",
   "name": "python",
   "nbconvert_exporter": "python",
   "pygments_lexer": "ipython3",
   "version": "3.9.16"
  },
  "toc": {
   "base_numbering": 1,
   "nav_menu": {},
   "number_sections": true,
   "sideBar": true,
   "skip_h1_title": true,
   "title_cell": "Table of Contents",
   "title_sidebar": "Contents",
   "toc_cell": false,
   "toc_position": {},
   "toc_section_display": true,
   "toc_window_display": false
  }
 },
 "nbformat": 4,
 "nbformat_minor": 2
}
