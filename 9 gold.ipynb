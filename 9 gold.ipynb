{
 "cells": [
  {
   "cell_type": "markdown",
   "metadata": {},
   "source": [
    "# Восстановление золота из руды"
   ]
  },
  {
   "cell_type": "markdown",
   "metadata": {},
   "source": [
    "Подготовим прототип модели машинного обучения для «Цифры». Компания разрабатывает решения для эффективной работы промышленных предприятий.\n",
    "\n",
    "Модель должна предсказать коэффициент восстановления золота из золотосодержащей руды. Используем данные с параметрами добычи и очистки. \n",
    "\n",
    "Модель поможет оптимизировать производство, чтобы не запускать предприятие с убыточными характеристиками."
   ]
  },
  {
   "cell_type": "markdown",
   "metadata": {},
   "source": [
    "## Подготовка данных\n",
    "\n",
    "### Изучение данных"
   ]
  },
  {
   "cell_type": "code",
   "execution_count": 1,
   "metadata": {},
   "outputs": [],
   "source": [
    "import pandas as pd\n",
    "import numpy as np\n",
    "from scipy import stats as st\n",
    "import matplotlib.pyplot as plt\n",
    "from numpy.random import RandomState\n",
    "\n",
    "from sklearn.linear_model import LinearRegression\n",
    "from sklearn.tree import DecisionTreeRegressor\n",
    "from sklearn.ensemble import RandomForestRegressor\n",
    "from sklearn.dummy import DummyRegressor\n",
    "from sklearn.preprocessing import StandardScaler \n",
    "from sklearn.model_selection import cross_val_score, GridSearchCV\n",
    "from sklearn.metrics import mean_absolute_error, make_scorer\n",
    "\n",
    "\n",
    "state = np.random.RandomState(12345)"
   ]
  },
  {
   "cell_type": "code",
   "execution_count": 35,
   "metadata": {},
   "outputs": [],
   "source": [
    "train = pd.read_csv('/datasets/gold_recovery_train_new.csv')\n",
    "test = pd.read_csv('/datasets/gold_recovery_test_new.csv')\n",
    "full = pd.read_csv('/datasets/gold_recovery_full_new.csv')"
   ]
  },
  {
   "cell_type": "markdown",
   "metadata": {},
   "source": [
    "**Обучающая выборка**"
   ]
  },
  {
   "cell_type": "code",
   "execution_count": 36,
   "metadata": {
    "scrolled": true
   },
   "outputs": [
    {
     "data": {
      "text/html": [
       "<div>\n",
       "<style scoped>\n",
       "    .dataframe tbody tr th:only-of-type {\n",
       "        vertical-align: middle;\n",
       "    }\n",
       "\n",
       "    .dataframe tbody tr th {\n",
       "        vertical-align: top;\n",
       "    }\n",
       "\n",
       "    .dataframe thead th {\n",
       "        text-align: right;\n",
       "    }\n",
       "</style>\n",
       "<table border=\"1\" class=\"dataframe\">\n",
       "  <thead>\n",
       "    <tr style=\"text-align: right;\">\n",
       "      <th></th>\n",
       "      <th>date</th>\n",
       "      <th>final.output.concentrate_ag</th>\n",
       "      <th>final.output.concentrate_pb</th>\n",
       "      <th>final.output.concentrate_sol</th>\n",
       "      <th>final.output.concentrate_au</th>\n",
       "      <th>final.output.recovery</th>\n",
       "      <th>final.output.tail_ag</th>\n",
       "      <th>final.output.tail_pb</th>\n",
       "      <th>final.output.tail_sol</th>\n",
       "      <th>final.output.tail_au</th>\n",
       "      <th>...</th>\n",
       "      <th>secondary_cleaner.state.floatbank4_a_air</th>\n",
       "      <th>secondary_cleaner.state.floatbank4_a_level</th>\n",
       "      <th>secondary_cleaner.state.floatbank4_b_air</th>\n",
       "      <th>secondary_cleaner.state.floatbank4_b_level</th>\n",
       "      <th>secondary_cleaner.state.floatbank5_a_air</th>\n",
       "      <th>secondary_cleaner.state.floatbank5_a_level</th>\n",
       "      <th>secondary_cleaner.state.floatbank5_b_air</th>\n",
       "      <th>secondary_cleaner.state.floatbank5_b_level</th>\n",
       "      <th>secondary_cleaner.state.floatbank6_a_air</th>\n",
       "      <th>secondary_cleaner.state.floatbank6_a_level</th>\n",
       "    </tr>\n",
       "  </thead>\n",
       "  <tbody>\n",
       "    <tr>\n",
       "      <th>0</th>\n",
       "      <td>2016-01-15 00:00:00</td>\n",
       "      <td>6.055403</td>\n",
       "      <td>9.889648</td>\n",
       "      <td>5.507324</td>\n",
       "      <td>42.192020</td>\n",
       "      <td>70.541216</td>\n",
       "      <td>10.411962</td>\n",
       "      <td>0.895447</td>\n",
       "      <td>16.904297</td>\n",
       "      <td>2.143149</td>\n",
       "      <td>...</td>\n",
       "      <td>14.016835</td>\n",
       "      <td>-502.488007</td>\n",
       "      <td>12.099931</td>\n",
       "      <td>-504.715942</td>\n",
       "      <td>9.925633</td>\n",
       "      <td>-498.310211</td>\n",
       "      <td>8.079666</td>\n",
       "      <td>-500.470978</td>\n",
       "      <td>14.151341</td>\n",
       "      <td>-605.841980</td>\n",
       "    </tr>\n",
       "    <tr>\n",
       "      <th>1</th>\n",
       "      <td>2016-01-15 01:00:00</td>\n",
       "      <td>6.029369</td>\n",
       "      <td>9.968944</td>\n",
       "      <td>5.257781</td>\n",
       "      <td>42.701629</td>\n",
       "      <td>69.266198</td>\n",
       "      <td>10.462676</td>\n",
       "      <td>0.927452</td>\n",
       "      <td>16.634514</td>\n",
       "      <td>2.224930</td>\n",
       "      <td>...</td>\n",
       "      <td>13.992281</td>\n",
       "      <td>-505.503262</td>\n",
       "      <td>11.950531</td>\n",
       "      <td>-501.331529</td>\n",
       "      <td>10.039245</td>\n",
       "      <td>-500.169983</td>\n",
       "      <td>7.984757</td>\n",
       "      <td>-500.582168</td>\n",
       "      <td>13.998353</td>\n",
       "      <td>-599.787184</td>\n",
       "    </tr>\n",
       "    <tr>\n",
       "      <th>2</th>\n",
       "      <td>2016-01-15 02:00:00</td>\n",
       "      <td>6.055926</td>\n",
       "      <td>10.213995</td>\n",
       "      <td>5.383759</td>\n",
       "      <td>42.657501</td>\n",
       "      <td>68.116445</td>\n",
       "      <td>10.507046</td>\n",
       "      <td>0.953716</td>\n",
       "      <td>16.208849</td>\n",
       "      <td>2.257889</td>\n",
       "      <td>...</td>\n",
       "      <td>14.015015</td>\n",
       "      <td>-502.520901</td>\n",
       "      <td>11.912783</td>\n",
       "      <td>-501.133383</td>\n",
       "      <td>10.070913</td>\n",
       "      <td>-500.129135</td>\n",
       "      <td>8.013877</td>\n",
       "      <td>-500.517572</td>\n",
       "      <td>14.028663</td>\n",
       "      <td>-601.427363</td>\n",
       "    </tr>\n",
       "    <tr>\n",
       "      <th>3</th>\n",
       "      <td>2016-01-15 03:00:00</td>\n",
       "      <td>6.047977</td>\n",
       "      <td>9.977019</td>\n",
       "      <td>4.858634</td>\n",
       "      <td>42.689819</td>\n",
       "      <td>68.347543</td>\n",
       "      <td>10.422762</td>\n",
       "      <td>0.883763</td>\n",
       "      <td>16.532835</td>\n",
       "      <td>2.146849</td>\n",
       "      <td>...</td>\n",
       "      <td>14.036510</td>\n",
       "      <td>-500.857308</td>\n",
       "      <td>11.999550</td>\n",
       "      <td>-501.193686</td>\n",
       "      <td>9.970366</td>\n",
       "      <td>-499.201640</td>\n",
       "      <td>7.977324</td>\n",
       "      <td>-500.255908</td>\n",
       "      <td>14.005551</td>\n",
       "      <td>-599.996129</td>\n",
       "    </tr>\n",
       "    <tr>\n",
       "      <th>4</th>\n",
       "      <td>2016-01-15 04:00:00</td>\n",
       "      <td>6.148599</td>\n",
       "      <td>10.142511</td>\n",
       "      <td>4.939416</td>\n",
       "      <td>42.774141</td>\n",
       "      <td>66.927016</td>\n",
       "      <td>10.360302</td>\n",
       "      <td>0.792826</td>\n",
       "      <td>16.525686</td>\n",
       "      <td>2.055292</td>\n",
       "      <td>...</td>\n",
       "      <td>14.027298</td>\n",
       "      <td>-499.838632</td>\n",
       "      <td>11.953070</td>\n",
       "      <td>-501.053894</td>\n",
       "      <td>9.925709</td>\n",
       "      <td>-501.686727</td>\n",
       "      <td>7.894242</td>\n",
       "      <td>-500.356035</td>\n",
       "      <td>13.996647</td>\n",
       "      <td>-601.496691</td>\n",
       "    </tr>\n",
       "  </tbody>\n",
       "</table>\n",
       "<p>5 rows × 87 columns</p>\n",
       "</div>"
      ],
      "text/plain": [
       "                  date  final.output.concentrate_ag  \\\n",
       "0  2016-01-15 00:00:00                     6.055403   \n",
       "1  2016-01-15 01:00:00                     6.029369   \n",
       "2  2016-01-15 02:00:00                     6.055926   \n",
       "3  2016-01-15 03:00:00                     6.047977   \n",
       "4  2016-01-15 04:00:00                     6.148599   \n",
       "\n",
       "   final.output.concentrate_pb  final.output.concentrate_sol  \\\n",
       "0                     9.889648                      5.507324   \n",
       "1                     9.968944                      5.257781   \n",
       "2                    10.213995                      5.383759   \n",
       "3                     9.977019                      4.858634   \n",
       "4                    10.142511                      4.939416   \n",
       "\n",
       "   final.output.concentrate_au  final.output.recovery  final.output.tail_ag  \\\n",
       "0                    42.192020              70.541216             10.411962   \n",
       "1                    42.701629              69.266198             10.462676   \n",
       "2                    42.657501              68.116445             10.507046   \n",
       "3                    42.689819              68.347543             10.422762   \n",
       "4                    42.774141              66.927016             10.360302   \n",
       "\n",
       "   final.output.tail_pb  final.output.tail_sol  final.output.tail_au  ...  \\\n",
       "0              0.895447              16.904297              2.143149  ...   \n",
       "1              0.927452              16.634514              2.224930  ...   \n",
       "2              0.953716              16.208849              2.257889  ...   \n",
       "3              0.883763              16.532835              2.146849  ...   \n",
       "4              0.792826              16.525686              2.055292  ...   \n",
       "\n",
       "   secondary_cleaner.state.floatbank4_a_air  \\\n",
       "0                                 14.016835   \n",
       "1                                 13.992281   \n",
       "2                                 14.015015   \n",
       "3                                 14.036510   \n",
       "4                                 14.027298   \n",
       "\n",
       "   secondary_cleaner.state.floatbank4_a_level  \\\n",
       "0                                 -502.488007   \n",
       "1                                 -505.503262   \n",
       "2                                 -502.520901   \n",
       "3                                 -500.857308   \n",
       "4                                 -499.838632   \n",
       "\n",
       "   secondary_cleaner.state.floatbank4_b_air  \\\n",
       "0                                 12.099931   \n",
       "1                                 11.950531   \n",
       "2                                 11.912783   \n",
       "3                                 11.999550   \n",
       "4                                 11.953070   \n",
       "\n",
       "   secondary_cleaner.state.floatbank4_b_level  \\\n",
       "0                                 -504.715942   \n",
       "1                                 -501.331529   \n",
       "2                                 -501.133383   \n",
       "3                                 -501.193686   \n",
       "4                                 -501.053894   \n",
       "\n",
       "   secondary_cleaner.state.floatbank5_a_air  \\\n",
       "0                                  9.925633   \n",
       "1                                 10.039245   \n",
       "2                                 10.070913   \n",
       "3                                  9.970366   \n",
       "4                                  9.925709   \n",
       "\n",
       "   secondary_cleaner.state.floatbank5_a_level  \\\n",
       "0                                 -498.310211   \n",
       "1                                 -500.169983   \n",
       "2                                 -500.129135   \n",
       "3                                 -499.201640   \n",
       "4                                 -501.686727   \n",
       "\n",
       "   secondary_cleaner.state.floatbank5_b_air  \\\n",
       "0                                  8.079666   \n",
       "1                                  7.984757   \n",
       "2                                  8.013877   \n",
       "3                                  7.977324   \n",
       "4                                  7.894242   \n",
       "\n",
       "   secondary_cleaner.state.floatbank5_b_level  \\\n",
       "0                                 -500.470978   \n",
       "1                                 -500.582168   \n",
       "2                                 -500.517572   \n",
       "3                                 -500.255908   \n",
       "4                                 -500.356035   \n",
       "\n",
       "   secondary_cleaner.state.floatbank6_a_air  \\\n",
       "0                                 14.151341   \n",
       "1                                 13.998353   \n",
       "2                                 14.028663   \n",
       "3                                 14.005551   \n",
       "4                                 13.996647   \n",
       "\n",
       "   secondary_cleaner.state.floatbank6_a_level  \n",
       "0                                 -605.841980  \n",
       "1                                 -599.787184  \n",
       "2                                 -601.427363  \n",
       "3                                 -599.996129  \n",
       "4                                 -601.496691  \n",
       "\n",
       "[5 rows x 87 columns]"
      ]
     },
     "metadata": {},
     "output_type": "display_data"
    },
    {
     "name": "stdout",
     "output_type": "stream",
     "text": [
      "\n",
      "<class 'pandas.core.frame.DataFrame'>\n",
      "RangeIndex: 14149 entries, 0 to 14148\n",
      "Data columns (total 87 columns):\n",
      " #   Column                                              Non-Null Count  Dtype  \n",
      "---  ------                                              --------------  -----  \n",
      " 0   date                                                14149 non-null  object \n",
      " 1   final.output.concentrate_ag                         14148 non-null  float64\n",
      " 2   final.output.concentrate_pb                         14148 non-null  float64\n",
      " 3   final.output.concentrate_sol                        13938 non-null  float64\n",
      " 4   final.output.concentrate_au                         14149 non-null  float64\n",
      " 5   final.output.recovery                               14149 non-null  float64\n",
      " 6   final.output.tail_ag                                14149 non-null  float64\n",
      " 7   final.output.tail_pb                                14049 non-null  float64\n",
      " 8   final.output.tail_sol                               14144 non-null  float64\n",
      " 9   final.output.tail_au                                14149 non-null  float64\n",
      " 10  primary_cleaner.input.sulfate                       14129 non-null  float64\n",
      " 11  primary_cleaner.input.depressant                    14117 non-null  float64\n",
      " 12  primary_cleaner.input.feed_size                     14149 non-null  float64\n",
      " 13  primary_cleaner.input.xanthate                      14049 non-null  float64\n",
      " 14  primary_cleaner.output.concentrate_ag               14149 non-null  float64\n",
      " 15  primary_cleaner.output.concentrate_pb               14063 non-null  float64\n",
      " 16  primary_cleaner.output.concentrate_sol              13863 non-null  float64\n",
      " 17  primary_cleaner.output.concentrate_au               14149 non-null  float64\n",
      " 18  primary_cleaner.output.tail_ag                      14148 non-null  float64\n",
      " 19  primary_cleaner.output.tail_pb                      14134 non-null  float64\n",
      " 20  primary_cleaner.output.tail_sol                     14103 non-null  float64\n",
      " 21  primary_cleaner.output.tail_au                      14149 non-null  float64\n",
      " 22  primary_cleaner.state.floatbank8_a_air              14145 non-null  float64\n",
      " 23  primary_cleaner.state.floatbank8_a_level            14148 non-null  float64\n",
      " 24  primary_cleaner.state.floatbank8_b_air              14145 non-null  float64\n",
      " 25  primary_cleaner.state.floatbank8_b_level            14148 non-null  float64\n",
      " 26  primary_cleaner.state.floatbank8_c_air              14147 non-null  float64\n",
      " 27  primary_cleaner.state.floatbank8_c_level            14148 non-null  float64\n",
      " 28  primary_cleaner.state.floatbank8_d_air              14146 non-null  float64\n",
      " 29  primary_cleaner.state.floatbank8_d_level            14148 non-null  float64\n",
      " 30  rougher.calculation.sulfate_to_au_concentrate       14148 non-null  float64\n",
      " 31  rougher.calculation.floatbank10_sulfate_to_au_feed  14148 non-null  float64\n",
      " 32  rougher.calculation.floatbank11_sulfate_to_au_feed  14148 non-null  float64\n",
      " 33  rougher.calculation.au_pb_ratio                     14149 non-null  float64\n",
      " 34  rougher.input.feed_ag                               14149 non-null  float64\n",
      " 35  rougher.input.feed_pb                               14049 non-null  float64\n",
      " 36  rougher.input.feed_rate                             14141 non-null  float64\n",
      " 37  rougher.input.feed_size                             14005 non-null  float64\n",
      " 38  rougher.input.feed_sol                              14071 non-null  float64\n",
      " 39  rougher.input.feed_au                               14149 non-null  float64\n",
      " 40  rougher.input.floatbank10_sulfate                   14120 non-null  float64\n",
      " 41  rougher.input.floatbank10_xanthate                  14141 non-null  float64\n",
      " 42  rougher.input.floatbank11_sulfate                   14113 non-null  float64\n",
      " 43  rougher.input.floatbank11_xanthate                  13721 non-null  float64\n",
      " 44  rougher.output.concentrate_ag                       14149 non-null  float64\n",
      " 45  rougher.output.concentrate_pb                       14149 non-null  float64\n",
      " 46  rougher.output.concentrate_sol                      14127 non-null  float64\n",
      " 47  rougher.output.concentrate_au                       14149 non-null  float64\n",
      " 48  rougher.output.recovery                             14149 non-null  float64\n",
      " 49  rougher.output.tail_ag                              14148 non-null  float64\n",
      " 50  rougher.output.tail_pb                              14149 non-null  float64\n",
      " 51  rougher.output.tail_sol                             14149 non-null  float64\n",
      " 52  rougher.output.tail_au                              14149 non-null  float64\n",
      " 53  rougher.state.floatbank10_a_air                     14148 non-null  float64\n",
      " 54  rougher.state.floatbank10_a_level                   14148 non-null  float64\n",
      " 55  rougher.state.floatbank10_b_air                     14148 non-null  float64\n",
      " 56  rougher.state.floatbank10_b_level                   14148 non-null  float64\n",
      " 57  rougher.state.floatbank10_c_air                     14148 non-null  float64\n",
      " 58  rougher.state.floatbank10_c_level                   14148 non-null  float64\n",
      " 59  rougher.state.floatbank10_d_air                     14149 non-null  float64\n",
      " 60  rougher.state.floatbank10_d_level                   14149 non-null  float64\n",
      " 61  rougher.state.floatbank10_e_air                     13713 non-null  float64\n",
      " 62  rougher.state.floatbank10_e_level                   14149 non-null  float64\n",
      " 63  rougher.state.floatbank10_f_air                     14149 non-null  float64\n",
      " 64  rougher.state.floatbank10_f_level                   14149 non-null  float64\n",
      " 65  secondary_cleaner.output.tail_ag                    14147 non-null  float64\n",
      " 66  secondary_cleaner.output.tail_pb                    14139 non-null  float64\n",
      " 67  secondary_cleaner.output.tail_sol                   12544 non-null  float64\n",
      " 68  secondary_cleaner.output.tail_au                    14149 non-null  float64\n",
      " 69  secondary_cleaner.state.floatbank2_a_air            13932 non-null  float64\n",
      " 70  secondary_cleaner.state.floatbank2_a_level          14148 non-null  float64\n",
      " 71  secondary_cleaner.state.floatbank2_b_air            14128 non-null  float64\n",
      " 72  secondary_cleaner.state.floatbank2_b_level          14148 non-null  float64\n",
      " 73  secondary_cleaner.state.floatbank3_a_air            14145 non-null  float64\n",
      " 74  secondary_cleaner.state.floatbank3_a_level          14148 non-null  float64\n",
      " 75  secondary_cleaner.state.floatbank3_b_air            14148 non-null  float64\n",
      " 76  secondary_cleaner.state.floatbank3_b_level          14148 non-null  float64\n",
      " 77  secondary_cleaner.state.floatbank4_a_air            14143 non-null  float64\n",
      " 78  secondary_cleaner.state.floatbank4_a_level          14148 non-null  float64\n",
      " 79  secondary_cleaner.state.floatbank4_b_air            14148 non-null  float64\n",
      " 80  secondary_cleaner.state.floatbank4_b_level          14148 non-null  float64\n",
      " 81  secondary_cleaner.state.floatbank5_a_air            14148 non-null  float64\n",
      " 82  secondary_cleaner.state.floatbank5_a_level          14148 non-null  float64\n",
      " 83  secondary_cleaner.state.floatbank5_b_air            14148 non-null  float64\n",
      " 84  secondary_cleaner.state.floatbank5_b_level          14148 non-null  float64\n",
      " 85  secondary_cleaner.state.floatbank6_a_air            14147 non-null  float64\n",
      " 86  secondary_cleaner.state.floatbank6_a_level          14148 non-null  float64\n",
      "dtypes: float64(86), object(1)\n",
      "memory usage: 9.4+ MB\n"
     ]
    },
    {
     "data": {
      "text/html": [
       "<div>\n",
       "<style scoped>\n",
       "    .dataframe tbody tr th:only-of-type {\n",
       "        vertical-align: middle;\n",
       "    }\n",
       "\n",
       "    .dataframe tbody tr th {\n",
       "        vertical-align: top;\n",
       "    }\n",
       "\n",
       "    .dataframe thead th {\n",
       "        text-align: right;\n",
       "    }\n",
       "</style>\n",
       "<table border=\"1\" class=\"dataframe\">\n",
       "  <thead>\n",
       "    <tr style=\"text-align: right;\">\n",
       "      <th></th>\n",
       "      <th>final.output.concentrate_ag</th>\n",
       "      <th>final.output.concentrate_pb</th>\n",
       "      <th>final.output.concentrate_sol</th>\n",
       "      <th>final.output.concentrate_au</th>\n",
       "      <th>final.output.recovery</th>\n",
       "      <th>final.output.tail_ag</th>\n",
       "      <th>final.output.tail_pb</th>\n",
       "      <th>final.output.tail_sol</th>\n",
       "      <th>final.output.tail_au</th>\n",
       "      <th>primary_cleaner.input.sulfate</th>\n",
       "      <th>...</th>\n",
       "      <th>secondary_cleaner.state.floatbank4_a_air</th>\n",
       "      <th>secondary_cleaner.state.floatbank4_a_level</th>\n",
       "      <th>secondary_cleaner.state.floatbank4_b_air</th>\n",
       "      <th>secondary_cleaner.state.floatbank4_b_level</th>\n",
       "      <th>secondary_cleaner.state.floatbank5_a_air</th>\n",
       "      <th>secondary_cleaner.state.floatbank5_a_level</th>\n",
       "      <th>secondary_cleaner.state.floatbank5_b_air</th>\n",
       "      <th>secondary_cleaner.state.floatbank5_b_level</th>\n",
       "      <th>secondary_cleaner.state.floatbank6_a_air</th>\n",
       "      <th>secondary_cleaner.state.floatbank6_a_level</th>\n",
       "    </tr>\n",
       "  </thead>\n",
       "  <tbody>\n",
       "    <tr>\n",
       "      <th>count</th>\n",
       "      <td>14148.000000</td>\n",
       "      <td>14148.000000</td>\n",
       "      <td>13938.000000</td>\n",
       "      <td>14149.000000</td>\n",
       "      <td>14149.000000</td>\n",
       "      <td>14149.000000</td>\n",
       "      <td>14049.000000</td>\n",
       "      <td>14144.000000</td>\n",
       "      <td>14149.000000</td>\n",
       "      <td>14129.000000</td>\n",
       "      <td>...</td>\n",
       "      <td>14143.000000</td>\n",
       "      <td>14148.000000</td>\n",
       "      <td>14148.000000</td>\n",
       "      <td>14148.000000</td>\n",
       "      <td>14148.000000</td>\n",
       "      <td>14148.000000</td>\n",
       "      <td>14148.000000</td>\n",
       "      <td>14148.000000</td>\n",
       "      <td>14147.000000</td>\n",
       "      <td>14148.000000</td>\n",
       "    </tr>\n",
       "    <tr>\n",
       "      <th>mean</th>\n",
       "      <td>5.142034</td>\n",
       "      <td>10.132960</td>\n",
       "      <td>9.202849</td>\n",
       "      <td>44.003792</td>\n",
       "      <td>66.518832</td>\n",
       "      <td>9.607035</td>\n",
       "      <td>2.597298</td>\n",
       "      <td>10.512122</td>\n",
       "      <td>2.918421</td>\n",
       "      <td>133.320659</td>\n",
       "      <td>...</td>\n",
       "      <td>19.985454</td>\n",
       "      <td>-478.696836</td>\n",
       "      <td>15.487065</td>\n",
       "      <td>-460.229416</td>\n",
       "      <td>16.775136</td>\n",
       "      <td>-483.956022</td>\n",
       "      <td>13.064590</td>\n",
       "      <td>-483.966564</td>\n",
       "      <td>19.577539</td>\n",
       "      <td>-506.798480</td>\n",
       "    </tr>\n",
       "    <tr>\n",
       "      <th>std</th>\n",
       "      <td>1.369586</td>\n",
       "      <td>1.654930</td>\n",
       "      <td>2.790516</td>\n",
       "      <td>4.905261</td>\n",
       "      <td>10.295402</td>\n",
       "      <td>2.319069</td>\n",
       "      <td>0.971843</td>\n",
       "      <td>3.003617</td>\n",
       "      <td>0.903712</td>\n",
       "      <td>39.431659</td>\n",
       "      <td>...</td>\n",
       "      <td>5.657723</td>\n",
       "      <td>50.736021</td>\n",
       "      <td>5.255655</td>\n",
       "      <td>58.843586</td>\n",
       "      <td>5.831906</td>\n",
       "      <td>37.892788</td>\n",
       "      <td>5.765617</td>\n",
       "      <td>39.207913</td>\n",
       "      <td>5.764417</td>\n",
       "      <td>37.079249</td>\n",
       "    </tr>\n",
       "    <tr>\n",
       "      <th>min</th>\n",
       "      <td>0.000000</td>\n",
       "      <td>0.000000</td>\n",
       "      <td>0.000000</td>\n",
       "      <td>0.000000</td>\n",
       "      <td>0.000000</td>\n",
       "      <td>0.000000</td>\n",
       "      <td>0.000000</td>\n",
       "      <td>0.000000</td>\n",
       "      <td>0.000000</td>\n",
       "      <td>0.003112</td>\n",
       "      <td>...</td>\n",
       "      <td>0.000000</td>\n",
       "      <td>-799.709069</td>\n",
       "      <td>0.000000</td>\n",
       "      <td>-799.889113</td>\n",
       "      <td>-0.372054</td>\n",
       "      <td>-797.142475</td>\n",
       "      <td>0.646208</td>\n",
       "      <td>-800.006180</td>\n",
       "      <td>0.195324</td>\n",
       "      <td>-809.398668</td>\n",
       "    </tr>\n",
       "    <tr>\n",
       "      <th>25%</th>\n",
       "      <td>4.211620</td>\n",
       "      <td>9.297355</td>\n",
       "      <td>7.484645</td>\n",
       "      <td>43.276111</td>\n",
       "      <td>62.545817</td>\n",
       "      <td>7.997429</td>\n",
       "      <td>1.905973</td>\n",
       "      <td>8.811324</td>\n",
       "      <td>2.368607</td>\n",
       "      <td>107.006651</td>\n",
       "      <td>...</td>\n",
       "      <td>14.990775</td>\n",
       "      <td>-500.628656</td>\n",
       "      <td>11.894558</td>\n",
       "      <td>-500.149000</td>\n",
       "      <td>11.083980</td>\n",
       "      <td>-500.363177</td>\n",
       "      <td>8.994405</td>\n",
       "      <td>-500.105994</td>\n",
       "      <td>14.989304</td>\n",
       "      <td>-500.745104</td>\n",
       "    </tr>\n",
       "    <tr>\n",
       "      <th>50%</th>\n",
       "      <td>4.994652</td>\n",
       "      <td>10.297144</td>\n",
       "      <td>8.845462</td>\n",
       "      <td>44.872436</td>\n",
       "      <td>67.432775</td>\n",
       "      <td>9.480270</td>\n",
       "      <td>2.592022</td>\n",
       "      <td>10.514621</td>\n",
       "      <td>2.851025</td>\n",
       "      <td>133.018328</td>\n",
       "      <td>...</td>\n",
       "      <td>20.001789</td>\n",
       "      <td>-499.681450</td>\n",
       "      <td>14.975536</td>\n",
       "      <td>-499.388738</td>\n",
       "      <td>17.932223</td>\n",
       "      <td>-499.702452</td>\n",
       "      <td>11.997547</td>\n",
       "      <td>-499.914556</td>\n",
       "      <td>19.984175</td>\n",
       "      <td>-500.061431</td>\n",
       "    </tr>\n",
       "    <tr>\n",
       "      <th>75%</th>\n",
       "      <td>5.859540</td>\n",
       "      <td>11.170603</td>\n",
       "      <td>10.487508</td>\n",
       "      <td>46.166425</td>\n",
       "      <td>72.346428</td>\n",
       "      <td>11.003707</td>\n",
       "      <td>3.241723</td>\n",
       "      <td>11.933009</td>\n",
       "      <td>3.434764</td>\n",
       "      <td>159.825396</td>\n",
       "      <td>...</td>\n",
       "      <td>24.990826</td>\n",
       "      <td>-477.472413</td>\n",
       "      <td>20.059375</td>\n",
       "      <td>-400.039008</td>\n",
       "      <td>21.346550</td>\n",
       "      <td>-487.712108</td>\n",
       "      <td>17.982903</td>\n",
       "      <td>-453.186936</td>\n",
       "      <td>24.991623</td>\n",
       "      <td>-499.536466</td>\n",
       "    </tr>\n",
       "    <tr>\n",
       "      <th>max</th>\n",
       "      <td>16.001945</td>\n",
       "      <td>17.031899</td>\n",
       "      <td>18.124851</td>\n",
       "      <td>52.756638</td>\n",
       "      <td>100.000000</td>\n",
       "      <td>19.552149</td>\n",
       "      <td>5.639565</td>\n",
       "      <td>22.317730</td>\n",
       "      <td>8.197408</td>\n",
       "      <td>250.127834</td>\n",
       "      <td>...</td>\n",
       "      <td>30.115735</td>\n",
       "      <td>-245.239184</td>\n",
       "      <td>24.007913</td>\n",
       "      <td>-145.071088</td>\n",
       "      <td>43.709931</td>\n",
       "      <td>-275.073125</td>\n",
       "      <td>27.926001</td>\n",
       "      <td>-157.396071</td>\n",
       "      <td>32.188906</td>\n",
       "      <td>-104.427459</td>\n",
       "    </tr>\n",
       "  </tbody>\n",
       "</table>\n",
       "<p>8 rows × 86 columns</p>\n",
       "</div>"
      ],
      "text/plain": [
       "       final.output.concentrate_ag  final.output.concentrate_pb  \\\n",
       "count                 14148.000000                 14148.000000   \n",
       "mean                      5.142034                    10.132960   \n",
       "std                       1.369586                     1.654930   \n",
       "min                       0.000000                     0.000000   \n",
       "25%                       4.211620                     9.297355   \n",
       "50%                       4.994652                    10.297144   \n",
       "75%                       5.859540                    11.170603   \n",
       "max                      16.001945                    17.031899   \n",
       "\n",
       "       final.output.concentrate_sol  final.output.concentrate_au  \\\n",
       "count                  13938.000000                 14149.000000   \n",
       "mean                       9.202849                    44.003792   \n",
       "std                        2.790516                     4.905261   \n",
       "min                        0.000000                     0.000000   \n",
       "25%                        7.484645                    43.276111   \n",
       "50%                        8.845462                    44.872436   \n",
       "75%                       10.487508                    46.166425   \n",
       "max                       18.124851                    52.756638   \n",
       "\n",
       "       final.output.recovery  final.output.tail_ag  final.output.tail_pb  \\\n",
       "count           14149.000000          14149.000000          14049.000000   \n",
       "mean               66.518832              9.607035              2.597298   \n",
       "std                10.295402              2.319069              0.971843   \n",
       "min                 0.000000              0.000000              0.000000   \n",
       "25%                62.545817              7.997429              1.905973   \n",
       "50%                67.432775              9.480270              2.592022   \n",
       "75%                72.346428             11.003707              3.241723   \n",
       "max               100.000000             19.552149              5.639565   \n",
       "\n",
       "       final.output.tail_sol  final.output.tail_au  \\\n",
       "count           14144.000000          14149.000000   \n",
       "mean               10.512122              2.918421   \n",
       "std                 3.003617              0.903712   \n",
       "min                 0.000000              0.000000   \n",
       "25%                 8.811324              2.368607   \n",
       "50%                10.514621              2.851025   \n",
       "75%                11.933009              3.434764   \n",
       "max                22.317730              8.197408   \n",
       "\n",
       "       primary_cleaner.input.sulfate  ...  \\\n",
       "count                   14129.000000  ...   \n",
       "mean                      133.320659  ...   \n",
       "std                        39.431659  ...   \n",
       "min                         0.003112  ...   \n",
       "25%                       107.006651  ...   \n",
       "50%                       133.018328  ...   \n",
       "75%                       159.825396  ...   \n",
       "max                       250.127834  ...   \n",
       "\n",
       "       secondary_cleaner.state.floatbank4_a_air  \\\n",
       "count                              14143.000000   \n",
       "mean                                  19.985454   \n",
       "std                                    5.657723   \n",
       "min                                    0.000000   \n",
       "25%                                   14.990775   \n",
       "50%                                   20.001789   \n",
       "75%                                   24.990826   \n",
       "max                                   30.115735   \n",
       "\n",
       "       secondary_cleaner.state.floatbank4_a_level  \\\n",
       "count                                14148.000000   \n",
       "mean                                  -478.696836   \n",
       "std                                     50.736021   \n",
       "min                                   -799.709069   \n",
       "25%                                   -500.628656   \n",
       "50%                                   -499.681450   \n",
       "75%                                   -477.472413   \n",
       "max                                   -245.239184   \n",
       "\n",
       "       secondary_cleaner.state.floatbank4_b_air  \\\n",
       "count                              14148.000000   \n",
       "mean                                  15.487065   \n",
       "std                                    5.255655   \n",
       "min                                    0.000000   \n",
       "25%                                   11.894558   \n",
       "50%                                   14.975536   \n",
       "75%                                   20.059375   \n",
       "max                                   24.007913   \n",
       "\n",
       "       secondary_cleaner.state.floatbank4_b_level  \\\n",
       "count                                14148.000000   \n",
       "mean                                  -460.229416   \n",
       "std                                     58.843586   \n",
       "min                                   -799.889113   \n",
       "25%                                   -500.149000   \n",
       "50%                                   -499.388738   \n",
       "75%                                   -400.039008   \n",
       "max                                   -145.071088   \n",
       "\n",
       "       secondary_cleaner.state.floatbank5_a_air  \\\n",
       "count                              14148.000000   \n",
       "mean                                  16.775136   \n",
       "std                                    5.831906   \n",
       "min                                   -0.372054   \n",
       "25%                                   11.083980   \n",
       "50%                                   17.932223   \n",
       "75%                                   21.346550   \n",
       "max                                   43.709931   \n",
       "\n",
       "       secondary_cleaner.state.floatbank5_a_level  \\\n",
       "count                                14148.000000   \n",
       "mean                                  -483.956022   \n",
       "std                                     37.892788   \n",
       "min                                   -797.142475   \n",
       "25%                                   -500.363177   \n",
       "50%                                   -499.702452   \n",
       "75%                                   -487.712108   \n",
       "max                                   -275.073125   \n",
       "\n",
       "       secondary_cleaner.state.floatbank5_b_air  \\\n",
       "count                              14148.000000   \n",
       "mean                                  13.064590   \n",
       "std                                    5.765617   \n",
       "min                                    0.646208   \n",
       "25%                                    8.994405   \n",
       "50%                                   11.997547   \n",
       "75%                                   17.982903   \n",
       "max                                   27.926001   \n",
       "\n",
       "       secondary_cleaner.state.floatbank5_b_level  \\\n",
       "count                                14148.000000   \n",
       "mean                                  -483.966564   \n",
       "std                                     39.207913   \n",
       "min                                   -800.006180   \n",
       "25%                                   -500.105994   \n",
       "50%                                   -499.914556   \n",
       "75%                                   -453.186936   \n",
       "max                                   -157.396071   \n",
       "\n",
       "       secondary_cleaner.state.floatbank6_a_air  \\\n",
       "count                              14147.000000   \n",
       "mean                                  19.577539   \n",
       "std                                    5.764417   \n",
       "min                                    0.195324   \n",
       "25%                                   14.989304   \n",
       "50%                                   19.984175   \n",
       "75%                                   24.991623   \n",
       "max                                   32.188906   \n",
       "\n",
       "       secondary_cleaner.state.floatbank6_a_level  \n",
       "count                                14148.000000  \n",
       "mean                                  -506.798480  \n",
       "std                                     37.079249  \n",
       "min                                   -809.398668  \n",
       "25%                                   -500.745104  \n",
       "50%                                   -500.061431  \n",
       "75%                                   -499.536466  \n",
       "max                                   -104.427459  \n",
       "\n",
       "[8 rows x 86 columns]"
      ]
     },
     "metadata": {},
     "output_type": "display_data"
    }
   ],
   "source": [
    "display(train.head())\n",
    "print()\n",
    "train.info()\n",
    "display(train.describe())"
   ]
  },
  {
   "cell_type": "markdown",
   "metadata": {},
   "source": [
    "**Тестовая выборка**"
   ]
  },
  {
   "cell_type": "code",
   "execution_count": 37,
   "metadata": {
    "scrolled": true
   },
   "outputs": [
    {
     "data": {
      "text/html": [
       "<div>\n",
       "<style scoped>\n",
       "    .dataframe tbody tr th:only-of-type {\n",
       "        vertical-align: middle;\n",
       "    }\n",
       "\n",
       "    .dataframe tbody tr th {\n",
       "        vertical-align: top;\n",
       "    }\n",
       "\n",
       "    .dataframe thead th {\n",
       "        text-align: right;\n",
       "    }\n",
       "</style>\n",
       "<table border=\"1\" class=\"dataframe\">\n",
       "  <thead>\n",
       "    <tr style=\"text-align: right;\">\n",
       "      <th></th>\n",
       "      <th>date</th>\n",
       "      <th>primary_cleaner.input.sulfate</th>\n",
       "      <th>primary_cleaner.input.depressant</th>\n",
       "      <th>primary_cleaner.input.feed_size</th>\n",
       "      <th>primary_cleaner.input.xanthate</th>\n",
       "      <th>primary_cleaner.state.floatbank8_a_air</th>\n",
       "      <th>primary_cleaner.state.floatbank8_a_level</th>\n",
       "      <th>primary_cleaner.state.floatbank8_b_air</th>\n",
       "      <th>primary_cleaner.state.floatbank8_b_level</th>\n",
       "      <th>primary_cleaner.state.floatbank8_c_air</th>\n",
       "      <th>...</th>\n",
       "      <th>secondary_cleaner.state.floatbank4_a_air</th>\n",
       "      <th>secondary_cleaner.state.floatbank4_a_level</th>\n",
       "      <th>secondary_cleaner.state.floatbank4_b_air</th>\n",
       "      <th>secondary_cleaner.state.floatbank4_b_level</th>\n",
       "      <th>secondary_cleaner.state.floatbank5_a_air</th>\n",
       "      <th>secondary_cleaner.state.floatbank5_a_level</th>\n",
       "      <th>secondary_cleaner.state.floatbank5_b_air</th>\n",
       "      <th>secondary_cleaner.state.floatbank5_b_level</th>\n",
       "      <th>secondary_cleaner.state.floatbank6_a_air</th>\n",
       "      <th>secondary_cleaner.state.floatbank6_a_level</th>\n",
       "    </tr>\n",
       "  </thead>\n",
       "  <tbody>\n",
       "    <tr>\n",
       "      <th>0</th>\n",
       "      <td>2016-09-01 00:59:59</td>\n",
       "      <td>210.800909</td>\n",
       "      <td>14.993118</td>\n",
       "      <td>8.080000</td>\n",
       "      <td>1.005021</td>\n",
       "      <td>1398.981301</td>\n",
       "      <td>-500.225577</td>\n",
       "      <td>1399.144926</td>\n",
       "      <td>-499.919735</td>\n",
       "      <td>1400.102998</td>\n",
       "      <td>...</td>\n",
       "      <td>12.023554</td>\n",
       "      <td>-497.795834</td>\n",
       "      <td>8.016656</td>\n",
       "      <td>-501.289139</td>\n",
       "      <td>7.946562</td>\n",
       "      <td>-432.317850</td>\n",
       "      <td>4.872511</td>\n",
       "      <td>-500.037437</td>\n",
       "      <td>26.705889</td>\n",
       "      <td>-499.709414</td>\n",
       "    </tr>\n",
       "    <tr>\n",
       "      <th>1</th>\n",
       "      <td>2016-09-01 01:59:59</td>\n",
       "      <td>215.392455</td>\n",
       "      <td>14.987471</td>\n",
       "      <td>8.080000</td>\n",
       "      <td>0.990469</td>\n",
       "      <td>1398.777912</td>\n",
       "      <td>-500.057435</td>\n",
       "      <td>1398.055362</td>\n",
       "      <td>-499.778182</td>\n",
       "      <td>1396.151033</td>\n",
       "      <td>...</td>\n",
       "      <td>12.058140</td>\n",
       "      <td>-498.695773</td>\n",
       "      <td>8.130979</td>\n",
       "      <td>-499.634209</td>\n",
       "      <td>7.958270</td>\n",
       "      <td>-525.839648</td>\n",
       "      <td>4.878850</td>\n",
       "      <td>-500.162375</td>\n",
       "      <td>25.019940</td>\n",
       "      <td>-499.819438</td>\n",
       "    </tr>\n",
       "    <tr>\n",
       "      <th>2</th>\n",
       "      <td>2016-09-01 02:59:59</td>\n",
       "      <td>215.259946</td>\n",
       "      <td>12.884934</td>\n",
       "      <td>7.786667</td>\n",
       "      <td>0.996043</td>\n",
       "      <td>1398.493666</td>\n",
       "      <td>-500.868360</td>\n",
       "      <td>1398.860436</td>\n",
       "      <td>-499.764529</td>\n",
       "      <td>1398.075709</td>\n",
       "      <td>...</td>\n",
       "      <td>11.962366</td>\n",
       "      <td>-498.767484</td>\n",
       "      <td>8.096893</td>\n",
       "      <td>-500.827423</td>\n",
       "      <td>8.071056</td>\n",
       "      <td>-500.801673</td>\n",
       "      <td>4.905125</td>\n",
       "      <td>-499.828510</td>\n",
       "      <td>24.994862</td>\n",
       "      <td>-500.622559</td>\n",
       "    </tr>\n",
       "    <tr>\n",
       "      <th>3</th>\n",
       "      <td>2016-09-01 03:59:59</td>\n",
       "      <td>215.336236</td>\n",
       "      <td>12.006805</td>\n",
       "      <td>7.640000</td>\n",
       "      <td>0.863514</td>\n",
       "      <td>1399.618111</td>\n",
       "      <td>-498.863574</td>\n",
       "      <td>1397.440120</td>\n",
       "      <td>-499.211024</td>\n",
       "      <td>1400.129303</td>\n",
       "      <td>...</td>\n",
       "      <td>12.033091</td>\n",
       "      <td>-498.350935</td>\n",
       "      <td>8.074946</td>\n",
       "      <td>-499.474407</td>\n",
       "      <td>7.897085</td>\n",
       "      <td>-500.868509</td>\n",
       "      <td>4.931400</td>\n",
       "      <td>-499.963623</td>\n",
       "      <td>24.948919</td>\n",
       "      <td>-498.709987</td>\n",
       "    </tr>\n",
       "    <tr>\n",
       "      <th>4</th>\n",
       "      <td>2016-09-01 04:59:59</td>\n",
       "      <td>199.099327</td>\n",
       "      <td>10.682530</td>\n",
       "      <td>7.530000</td>\n",
       "      <td>0.805575</td>\n",
       "      <td>1401.268123</td>\n",
       "      <td>-500.808305</td>\n",
       "      <td>1398.128818</td>\n",
       "      <td>-499.504543</td>\n",
       "      <td>1402.172226</td>\n",
       "      <td>...</td>\n",
       "      <td>12.025367</td>\n",
       "      <td>-500.786497</td>\n",
       "      <td>8.054678</td>\n",
       "      <td>-500.397500</td>\n",
       "      <td>8.107890</td>\n",
       "      <td>-509.526725</td>\n",
       "      <td>4.957674</td>\n",
       "      <td>-500.360026</td>\n",
       "      <td>25.003331</td>\n",
       "      <td>-500.856333</td>\n",
       "    </tr>\n",
       "  </tbody>\n",
       "</table>\n",
       "<p>5 rows × 53 columns</p>\n",
       "</div>"
      ],
      "text/plain": [
       "                  date  primary_cleaner.input.sulfate  \\\n",
       "0  2016-09-01 00:59:59                     210.800909   \n",
       "1  2016-09-01 01:59:59                     215.392455   \n",
       "2  2016-09-01 02:59:59                     215.259946   \n",
       "3  2016-09-01 03:59:59                     215.336236   \n",
       "4  2016-09-01 04:59:59                     199.099327   \n",
       "\n",
       "   primary_cleaner.input.depressant  primary_cleaner.input.feed_size  \\\n",
       "0                         14.993118                         8.080000   \n",
       "1                         14.987471                         8.080000   \n",
       "2                         12.884934                         7.786667   \n",
       "3                         12.006805                         7.640000   \n",
       "4                         10.682530                         7.530000   \n",
       "\n",
       "   primary_cleaner.input.xanthate  primary_cleaner.state.floatbank8_a_air  \\\n",
       "0                        1.005021                             1398.981301   \n",
       "1                        0.990469                             1398.777912   \n",
       "2                        0.996043                             1398.493666   \n",
       "3                        0.863514                             1399.618111   \n",
       "4                        0.805575                             1401.268123   \n",
       "\n",
       "   primary_cleaner.state.floatbank8_a_level  \\\n",
       "0                               -500.225577   \n",
       "1                               -500.057435   \n",
       "2                               -500.868360   \n",
       "3                               -498.863574   \n",
       "4                               -500.808305   \n",
       "\n",
       "   primary_cleaner.state.floatbank8_b_air  \\\n",
       "0                             1399.144926   \n",
       "1                             1398.055362   \n",
       "2                             1398.860436   \n",
       "3                             1397.440120   \n",
       "4                             1398.128818   \n",
       "\n",
       "   primary_cleaner.state.floatbank8_b_level  \\\n",
       "0                               -499.919735   \n",
       "1                               -499.778182   \n",
       "2                               -499.764529   \n",
       "3                               -499.211024   \n",
       "4                               -499.504543   \n",
       "\n",
       "   primary_cleaner.state.floatbank8_c_air  ...  \\\n",
       "0                             1400.102998  ...   \n",
       "1                             1396.151033  ...   \n",
       "2                             1398.075709  ...   \n",
       "3                             1400.129303  ...   \n",
       "4                             1402.172226  ...   \n",
       "\n",
       "   secondary_cleaner.state.floatbank4_a_air  \\\n",
       "0                                 12.023554   \n",
       "1                                 12.058140   \n",
       "2                                 11.962366   \n",
       "3                                 12.033091   \n",
       "4                                 12.025367   \n",
       "\n",
       "   secondary_cleaner.state.floatbank4_a_level  \\\n",
       "0                                 -497.795834   \n",
       "1                                 -498.695773   \n",
       "2                                 -498.767484   \n",
       "3                                 -498.350935   \n",
       "4                                 -500.786497   \n",
       "\n",
       "   secondary_cleaner.state.floatbank4_b_air  \\\n",
       "0                                  8.016656   \n",
       "1                                  8.130979   \n",
       "2                                  8.096893   \n",
       "3                                  8.074946   \n",
       "4                                  8.054678   \n",
       "\n",
       "   secondary_cleaner.state.floatbank4_b_level  \\\n",
       "0                                 -501.289139   \n",
       "1                                 -499.634209   \n",
       "2                                 -500.827423   \n",
       "3                                 -499.474407   \n",
       "4                                 -500.397500   \n",
       "\n",
       "   secondary_cleaner.state.floatbank5_a_air  \\\n",
       "0                                  7.946562   \n",
       "1                                  7.958270   \n",
       "2                                  8.071056   \n",
       "3                                  7.897085   \n",
       "4                                  8.107890   \n",
       "\n",
       "   secondary_cleaner.state.floatbank5_a_level  \\\n",
       "0                                 -432.317850   \n",
       "1                                 -525.839648   \n",
       "2                                 -500.801673   \n",
       "3                                 -500.868509   \n",
       "4                                 -509.526725   \n",
       "\n",
       "   secondary_cleaner.state.floatbank5_b_air  \\\n",
       "0                                  4.872511   \n",
       "1                                  4.878850   \n",
       "2                                  4.905125   \n",
       "3                                  4.931400   \n",
       "4                                  4.957674   \n",
       "\n",
       "   secondary_cleaner.state.floatbank5_b_level  \\\n",
       "0                                 -500.037437   \n",
       "1                                 -500.162375   \n",
       "2                                 -499.828510   \n",
       "3                                 -499.963623   \n",
       "4                                 -500.360026   \n",
       "\n",
       "   secondary_cleaner.state.floatbank6_a_air  \\\n",
       "0                                 26.705889   \n",
       "1                                 25.019940   \n",
       "2                                 24.994862   \n",
       "3                                 24.948919   \n",
       "4                                 25.003331   \n",
       "\n",
       "   secondary_cleaner.state.floatbank6_a_level  \n",
       "0                                 -499.709414  \n",
       "1                                 -499.819438  \n",
       "2                                 -500.622559  \n",
       "3                                 -498.709987  \n",
       "4                                 -500.856333  \n",
       "\n",
       "[5 rows x 53 columns]"
      ]
     },
     "metadata": {},
     "output_type": "display_data"
    },
    {
     "name": "stdout",
     "output_type": "stream",
     "text": [
      "\n",
      "<class 'pandas.core.frame.DataFrame'>\n",
      "RangeIndex: 5290 entries, 0 to 5289\n",
      "Data columns (total 53 columns):\n",
      " #   Column                                      Non-Null Count  Dtype  \n",
      "---  ------                                      --------------  -----  \n",
      " 0   date                                        5290 non-null   object \n",
      " 1   primary_cleaner.input.sulfate               5286 non-null   float64\n",
      " 2   primary_cleaner.input.depressant            5285 non-null   float64\n",
      " 3   primary_cleaner.input.feed_size             5290 non-null   float64\n",
      " 4   primary_cleaner.input.xanthate              5286 non-null   float64\n",
      " 5   primary_cleaner.state.floatbank8_a_air      5290 non-null   float64\n",
      " 6   primary_cleaner.state.floatbank8_a_level    5290 non-null   float64\n",
      " 7   primary_cleaner.state.floatbank8_b_air      5290 non-null   float64\n",
      " 8   primary_cleaner.state.floatbank8_b_level    5290 non-null   float64\n",
      " 9   primary_cleaner.state.floatbank8_c_air      5290 non-null   float64\n",
      " 10  primary_cleaner.state.floatbank8_c_level    5290 non-null   float64\n",
      " 11  primary_cleaner.state.floatbank8_d_air      5290 non-null   float64\n",
      " 12  primary_cleaner.state.floatbank8_d_level    5290 non-null   float64\n",
      " 13  rougher.input.feed_ag                       5290 non-null   float64\n",
      " 14  rougher.input.feed_pb                       5290 non-null   float64\n",
      " 15  rougher.input.feed_rate                     5287 non-null   float64\n",
      " 16  rougher.input.feed_size                     5289 non-null   float64\n",
      " 17  rougher.input.feed_sol                      5269 non-null   float64\n",
      " 18  rougher.input.feed_au                       5290 non-null   float64\n",
      " 19  rougher.input.floatbank10_sulfate           5285 non-null   float64\n",
      " 20  rougher.input.floatbank10_xanthate          5290 non-null   float64\n",
      " 21  rougher.input.floatbank11_sulfate           5282 non-null   float64\n",
      " 22  rougher.input.floatbank11_xanthate          5265 non-null   float64\n",
      " 23  rougher.state.floatbank10_a_air             5290 non-null   float64\n",
      " 24  rougher.state.floatbank10_a_level           5290 non-null   float64\n",
      " 25  rougher.state.floatbank10_b_air             5290 non-null   float64\n",
      " 26  rougher.state.floatbank10_b_level           5290 non-null   float64\n",
      " 27  rougher.state.floatbank10_c_air             5290 non-null   float64\n",
      " 28  rougher.state.floatbank10_c_level           5290 non-null   float64\n",
      " 29  rougher.state.floatbank10_d_air             5290 non-null   float64\n",
      " 30  rougher.state.floatbank10_d_level           5290 non-null   float64\n",
      " 31  rougher.state.floatbank10_e_air             5290 non-null   float64\n",
      " 32  rougher.state.floatbank10_e_level           5290 non-null   float64\n",
      " 33  rougher.state.floatbank10_f_air             5290 non-null   float64\n",
      " 34  rougher.state.floatbank10_f_level           5290 non-null   float64\n",
      " 35  secondary_cleaner.state.floatbank2_a_air    5287 non-null   float64\n",
      " 36  secondary_cleaner.state.floatbank2_a_level  5290 non-null   float64\n",
      " 37  secondary_cleaner.state.floatbank2_b_air    5288 non-null   float64\n",
      " 38  secondary_cleaner.state.floatbank2_b_level  5290 non-null   float64\n",
      " 39  secondary_cleaner.state.floatbank3_a_air    5281 non-null   float64\n",
      " 40  secondary_cleaner.state.floatbank3_a_level  5290 non-null   float64\n",
      " 41  secondary_cleaner.state.floatbank3_b_air    5290 non-null   float64\n",
      " 42  secondary_cleaner.state.floatbank3_b_level  5290 non-null   float64\n",
      " 43  secondary_cleaner.state.floatbank4_a_air    5290 non-null   float64\n",
      " 44  secondary_cleaner.state.floatbank4_a_level  5290 non-null   float64\n",
      " 45  secondary_cleaner.state.floatbank4_b_air    5290 non-null   float64\n",
      " 46  secondary_cleaner.state.floatbank4_b_level  5290 non-null   float64\n",
      " 47  secondary_cleaner.state.floatbank5_a_air    5290 non-null   float64\n",
      " 48  secondary_cleaner.state.floatbank5_a_level  5290 non-null   float64\n",
      " 49  secondary_cleaner.state.floatbank5_b_air    5290 non-null   float64\n",
      " 50  secondary_cleaner.state.floatbank5_b_level  5290 non-null   float64\n",
      " 51  secondary_cleaner.state.floatbank6_a_air    5290 non-null   float64\n",
      " 52  secondary_cleaner.state.floatbank6_a_level  5290 non-null   float64\n",
      "dtypes: float64(52), object(1)\n",
      "memory usage: 2.1+ MB\n"
     ]
    },
    {
     "data": {
      "text/html": [
       "<div>\n",
       "<style scoped>\n",
       "    .dataframe tbody tr th:only-of-type {\n",
       "        vertical-align: middle;\n",
       "    }\n",
       "\n",
       "    .dataframe tbody tr th {\n",
       "        vertical-align: top;\n",
       "    }\n",
       "\n",
       "    .dataframe thead th {\n",
       "        text-align: right;\n",
       "    }\n",
       "</style>\n",
       "<table border=\"1\" class=\"dataframe\">\n",
       "  <thead>\n",
       "    <tr style=\"text-align: right;\">\n",
       "      <th></th>\n",
       "      <th>primary_cleaner.input.sulfate</th>\n",
       "      <th>primary_cleaner.input.depressant</th>\n",
       "      <th>primary_cleaner.input.feed_size</th>\n",
       "      <th>primary_cleaner.input.xanthate</th>\n",
       "      <th>primary_cleaner.state.floatbank8_a_air</th>\n",
       "      <th>primary_cleaner.state.floatbank8_a_level</th>\n",
       "      <th>primary_cleaner.state.floatbank8_b_air</th>\n",
       "      <th>primary_cleaner.state.floatbank8_b_level</th>\n",
       "      <th>primary_cleaner.state.floatbank8_c_air</th>\n",
       "      <th>primary_cleaner.state.floatbank8_c_level</th>\n",
       "      <th>...</th>\n",
       "      <th>secondary_cleaner.state.floatbank4_a_air</th>\n",
       "      <th>secondary_cleaner.state.floatbank4_a_level</th>\n",
       "      <th>secondary_cleaner.state.floatbank4_b_air</th>\n",
       "      <th>secondary_cleaner.state.floatbank4_b_level</th>\n",
       "      <th>secondary_cleaner.state.floatbank5_a_air</th>\n",
       "      <th>secondary_cleaner.state.floatbank5_a_level</th>\n",
       "      <th>secondary_cleaner.state.floatbank5_b_air</th>\n",
       "      <th>secondary_cleaner.state.floatbank5_b_level</th>\n",
       "      <th>secondary_cleaner.state.floatbank6_a_air</th>\n",
       "      <th>secondary_cleaner.state.floatbank6_a_level</th>\n",
       "    </tr>\n",
       "  </thead>\n",
       "  <tbody>\n",
       "    <tr>\n",
       "      <th>count</th>\n",
       "      <td>5286.000000</td>\n",
       "      <td>5285.000000</td>\n",
       "      <td>5290.000000</td>\n",
       "      <td>5286.000000</td>\n",
       "      <td>5.290000e+03</td>\n",
       "      <td>5290.000000</td>\n",
       "      <td>5.290000e+03</td>\n",
       "      <td>5290.000000</td>\n",
       "      <td>5.290000e+03</td>\n",
       "      <td>5290.000000</td>\n",
       "      <td>...</td>\n",
       "      <td>5.290000e+03</td>\n",
       "      <td>5290.000000</td>\n",
       "      <td>5.290000e+03</td>\n",
       "      <td>5290.000000</td>\n",
       "      <td>5290.000000</td>\n",
       "      <td>5290.000000</td>\n",
       "      <td>5290.000000</td>\n",
       "      <td>5290.000000</td>\n",
       "      <td>5290.000000</td>\n",
       "      <td>5290.000000</td>\n",
       "    </tr>\n",
       "    <tr>\n",
       "      <th>mean</th>\n",
       "      <td>174.839652</td>\n",
       "      <td>8.683596</td>\n",
       "      <td>7.266339</td>\n",
       "      <td>1.383803</td>\n",
       "      <td>1.539494e+03</td>\n",
       "      <td>-497.665883</td>\n",
       "      <td>1.545174e+03</td>\n",
       "      <td>-500.273098</td>\n",
       "      <td>1.527272e+03</td>\n",
       "      <td>-498.330680</td>\n",
       "      <td>...</td>\n",
       "      <td>1.632007e+01</td>\n",
       "      <td>-505.144570</td>\n",
       "      <td>1.373544e+01</td>\n",
       "      <td>-463.349858</td>\n",
       "      <td>12.804186</td>\n",
       "      <td>-501.329122</td>\n",
       "      <td>9.881145</td>\n",
       "      <td>-495.663398</td>\n",
       "      <td>17.304935</td>\n",
       "      <td>-501.793193</td>\n",
       "    </tr>\n",
       "    <tr>\n",
       "      <th>std</th>\n",
       "      <td>43.027080</td>\n",
       "      <td>3.072050</td>\n",
       "      <td>0.610219</td>\n",
       "      <td>0.643474</td>\n",
       "      <td>1.167979e+02</td>\n",
       "      <td>19.952431</td>\n",
       "      <td>1.222246e+02</td>\n",
       "      <td>32.968307</td>\n",
       "      <td>1.225380e+02</td>\n",
       "      <td>21.964876</td>\n",
       "      <td>...</td>\n",
       "      <td>3.493583e+00</td>\n",
       "      <td>31.427337</td>\n",
       "      <td>3.430484e+00</td>\n",
       "      <td>86.189107</td>\n",
       "      <td>3.026591</td>\n",
       "      <td>17.951495</td>\n",
       "      <td>2.868205</td>\n",
       "      <td>34.535007</td>\n",
       "      <td>4.536544</td>\n",
       "      <td>39.044215</td>\n",
       "    </tr>\n",
       "    <tr>\n",
       "      <th>min</th>\n",
       "      <td>2.566156</td>\n",
       "      <td>0.003839</td>\n",
       "      <td>5.650000</td>\n",
       "      <td>0.004984</td>\n",
       "      <td>5.445860e-32</td>\n",
       "      <td>-795.316337</td>\n",
       "      <td>6.647490e-32</td>\n",
       "      <td>-799.997015</td>\n",
       "      <td>4.033736e-32</td>\n",
       "      <td>-799.960571</td>\n",
       "      <td>...</td>\n",
       "      <td>1.079872e-16</td>\n",
       "      <td>-799.798523</td>\n",
       "      <td>2.489718e-17</td>\n",
       "      <td>-800.836914</td>\n",
       "      <td>0.069227</td>\n",
       "      <td>-797.323986</td>\n",
       "      <td>0.528083</td>\n",
       "      <td>-800.220337</td>\n",
       "      <td>-0.079426</td>\n",
       "      <td>-809.741464</td>\n",
       "    </tr>\n",
       "    <tr>\n",
       "      <th>25%</th>\n",
       "      <td>147.121401</td>\n",
       "      <td>6.489555</td>\n",
       "      <td>6.890000</td>\n",
       "      <td>0.907623</td>\n",
       "      <td>1.498936e+03</td>\n",
       "      <td>-500.357298</td>\n",
       "      <td>1.498971e+03</td>\n",
       "      <td>-500.703002</td>\n",
       "      <td>1.473230e+03</td>\n",
       "      <td>-501.018117</td>\n",
       "      <td>...</td>\n",
       "      <td>1.403618e+01</td>\n",
       "      <td>-500.868258</td>\n",
       "      <td>1.202862e+01</td>\n",
       "      <td>-500.323028</td>\n",
       "      <td>10.914838</td>\n",
       "      <td>-500.726841</td>\n",
       "      <td>8.036719</td>\n",
       "      <td>-500.194668</td>\n",
       "      <td>13.997317</td>\n",
       "      <td>-500.690984</td>\n",
       "    </tr>\n",
       "    <tr>\n",
       "      <th>50%</th>\n",
       "      <td>177.828489</td>\n",
       "      <td>8.052207</td>\n",
       "      <td>7.250000</td>\n",
       "      <td>1.197610</td>\n",
       "      <td>1.585129e+03</td>\n",
       "      <td>-499.969164</td>\n",
       "      <td>1.595622e+03</td>\n",
       "      <td>-500.028514</td>\n",
       "      <td>1.549595e+03</td>\n",
       "      <td>-500.017711</td>\n",
       "      <td>...</td>\n",
       "      <td>1.700847e+01</td>\n",
       "      <td>-500.115727</td>\n",
       "      <td>1.496486e+01</td>\n",
       "      <td>-499.576513</td>\n",
       "      <td>12.954182</td>\n",
       "      <td>-499.990332</td>\n",
       "      <td>10.004301</td>\n",
       "      <td>-499.990535</td>\n",
       "      <td>16.014935</td>\n",
       "      <td>-500.007126</td>\n",
       "    </tr>\n",
       "    <tr>\n",
       "      <th>75%</th>\n",
       "      <td>208.125438</td>\n",
       "      <td>10.027764</td>\n",
       "      <td>7.600000</td>\n",
       "      <td>1.797819</td>\n",
       "      <td>1.602077e+03</td>\n",
       "      <td>-499.568951</td>\n",
       "      <td>1.602324e+03</td>\n",
       "      <td>-499.293257</td>\n",
       "      <td>1.601144e+03</td>\n",
       "      <td>-498.994130</td>\n",
       "      <td>...</td>\n",
       "      <td>1.803862e+01</td>\n",
       "      <td>-499.404224</td>\n",
       "      <td>1.596213e+01</td>\n",
       "      <td>-400.933805</td>\n",
       "      <td>15.097528</td>\n",
       "      <td>-499.283191</td>\n",
       "      <td>11.997467</td>\n",
       "      <td>-499.719913</td>\n",
       "      <td>21.020013</td>\n",
       "      <td>-499.373018</td>\n",
       "    </tr>\n",
       "    <tr>\n",
       "      <th>max</th>\n",
       "      <td>265.983123</td>\n",
       "      <td>40.000000</td>\n",
       "      <td>15.500000</td>\n",
       "      <td>4.102454</td>\n",
       "      <td>2.103104e+03</td>\n",
       "      <td>-57.195404</td>\n",
       "      <td>1.813084e+03</td>\n",
       "      <td>-142.527229</td>\n",
       "      <td>1.715054e+03</td>\n",
       "      <td>-150.937035</td>\n",
       "      <td>...</td>\n",
       "      <td>3.005180e+01</td>\n",
       "      <td>-401.565212</td>\n",
       "      <td>3.126971e+01</td>\n",
       "      <td>-6.506986</td>\n",
       "      <td>25.258848</td>\n",
       "      <td>-244.483566</td>\n",
       "      <td>14.086866</td>\n",
       "      <td>-137.740004</td>\n",
       "      <td>26.705889</td>\n",
       "      <td>-123.307487</td>\n",
       "    </tr>\n",
       "  </tbody>\n",
       "</table>\n",
       "<p>8 rows × 52 columns</p>\n",
       "</div>"
      ],
      "text/plain": [
       "       primary_cleaner.input.sulfate  primary_cleaner.input.depressant  \\\n",
       "count                    5286.000000                       5285.000000   \n",
       "mean                      174.839652                          8.683596   \n",
       "std                        43.027080                          3.072050   \n",
       "min                         2.566156                          0.003839   \n",
       "25%                       147.121401                          6.489555   \n",
       "50%                       177.828489                          8.052207   \n",
       "75%                       208.125438                         10.027764   \n",
       "max                       265.983123                         40.000000   \n",
       "\n",
       "       primary_cleaner.input.feed_size  primary_cleaner.input.xanthate  \\\n",
       "count                      5290.000000                     5286.000000   \n",
       "mean                          7.266339                        1.383803   \n",
       "std                           0.610219                        0.643474   \n",
       "min                           5.650000                        0.004984   \n",
       "25%                           6.890000                        0.907623   \n",
       "50%                           7.250000                        1.197610   \n",
       "75%                           7.600000                        1.797819   \n",
       "max                          15.500000                        4.102454   \n",
       "\n",
       "       primary_cleaner.state.floatbank8_a_air  \\\n",
       "count                            5.290000e+03   \n",
       "mean                             1.539494e+03   \n",
       "std                              1.167979e+02   \n",
       "min                              5.445860e-32   \n",
       "25%                              1.498936e+03   \n",
       "50%                              1.585129e+03   \n",
       "75%                              1.602077e+03   \n",
       "max                              2.103104e+03   \n",
       "\n",
       "       primary_cleaner.state.floatbank8_a_level  \\\n",
       "count                               5290.000000   \n",
       "mean                                -497.665883   \n",
       "std                                   19.952431   \n",
       "min                                 -795.316337   \n",
       "25%                                 -500.357298   \n",
       "50%                                 -499.969164   \n",
       "75%                                 -499.568951   \n",
       "max                                  -57.195404   \n",
       "\n",
       "       primary_cleaner.state.floatbank8_b_air  \\\n",
       "count                            5.290000e+03   \n",
       "mean                             1.545174e+03   \n",
       "std                              1.222246e+02   \n",
       "min                              6.647490e-32   \n",
       "25%                              1.498971e+03   \n",
       "50%                              1.595622e+03   \n",
       "75%                              1.602324e+03   \n",
       "max                              1.813084e+03   \n",
       "\n",
       "       primary_cleaner.state.floatbank8_b_level  \\\n",
       "count                               5290.000000   \n",
       "mean                                -500.273098   \n",
       "std                                   32.968307   \n",
       "min                                 -799.997015   \n",
       "25%                                 -500.703002   \n",
       "50%                                 -500.028514   \n",
       "75%                                 -499.293257   \n",
       "max                                 -142.527229   \n",
       "\n",
       "       primary_cleaner.state.floatbank8_c_air  \\\n",
       "count                            5.290000e+03   \n",
       "mean                             1.527272e+03   \n",
       "std                              1.225380e+02   \n",
       "min                              4.033736e-32   \n",
       "25%                              1.473230e+03   \n",
       "50%                              1.549595e+03   \n",
       "75%                              1.601144e+03   \n",
       "max                              1.715054e+03   \n",
       "\n",
       "       primary_cleaner.state.floatbank8_c_level  ...  \\\n",
       "count                               5290.000000  ...   \n",
       "mean                                -498.330680  ...   \n",
       "std                                   21.964876  ...   \n",
       "min                                 -799.960571  ...   \n",
       "25%                                 -501.018117  ...   \n",
       "50%                                 -500.017711  ...   \n",
       "75%                                 -498.994130  ...   \n",
       "max                                 -150.937035  ...   \n",
       "\n",
       "       secondary_cleaner.state.floatbank4_a_air  \\\n",
       "count                              5.290000e+03   \n",
       "mean                               1.632007e+01   \n",
       "std                                3.493583e+00   \n",
       "min                                1.079872e-16   \n",
       "25%                                1.403618e+01   \n",
       "50%                                1.700847e+01   \n",
       "75%                                1.803862e+01   \n",
       "max                                3.005180e+01   \n",
       "\n",
       "       secondary_cleaner.state.floatbank4_a_level  \\\n",
       "count                                 5290.000000   \n",
       "mean                                  -505.144570   \n",
       "std                                     31.427337   \n",
       "min                                   -799.798523   \n",
       "25%                                   -500.868258   \n",
       "50%                                   -500.115727   \n",
       "75%                                   -499.404224   \n",
       "max                                   -401.565212   \n",
       "\n",
       "       secondary_cleaner.state.floatbank4_b_air  \\\n",
       "count                              5.290000e+03   \n",
       "mean                               1.373544e+01   \n",
       "std                                3.430484e+00   \n",
       "min                                2.489718e-17   \n",
       "25%                                1.202862e+01   \n",
       "50%                                1.496486e+01   \n",
       "75%                                1.596213e+01   \n",
       "max                                3.126971e+01   \n",
       "\n",
       "       secondary_cleaner.state.floatbank4_b_level  \\\n",
       "count                                 5290.000000   \n",
       "mean                                  -463.349858   \n",
       "std                                     86.189107   \n",
       "min                                   -800.836914   \n",
       "25%                                   -500.323028   \n",
       "50%                                   -499.576513   \n",
       "75%                                   -400.933805   \n",
       "max                                     -6.506986   \n",
       "\n",
       "       secondary_cleaner.state.floatbank5_a_air  \\\n",
       "count                               5290.000000   \n",
       "mean                                  12.804186   \n",
       "std                                    3.026591   \n",
       "min                                    0.069227   \n",
       "25%                                   10.914838   \n",
       "50%                                   12.954182   \n",
       "75%                                   15.097528   \n",
       "max                                   25.258848   \n",
       "\n",
       "       secondary_cleaner.state.floatbank5_a_level  \\\n",
       "count                                 5290.000000   \n",
       "mean                                  -501.329122   \n",
       "std                                     17.951495   \n",
       "min                                   -797.323986   \n",
       "25%                                   -500.726841   \n",
       "50%                                   -499.990332   \n",
       "75%                                   -499.283191   \n",
       "max                                   -244.483566   \n",
       "\n",
       "       secondary_cleaner.state.floatbank5_b_air  \\\n",
       "count                               5290.000000   \n",
       "mean                                   9.881145   \n",
       "std                                    2.868205   \n",
       "min                                    0.528083   \n",
       "25%                                    8.036719   \n",
       "50%                                   10.004301   \n",
       "75%                                   11.997467   \n",
       "max                                   14.086866   \n",
       "\n",
       "       secondary_cleaner.state.floatbank5_b_level  \\\n",
       "count                                 5290.000000   \n",
       "mean                                  -495.663398   \n",
       "std                                     34.535007   \n",
       "min                                   -800.220337   \n",
       "25%                                   -500.194668   \n",
       "50%                                   -499.990535   \n",
       "75%                                   -499.719913   \n",
       "max                                   -137.740004   \n",
       "\n",
       "       secondary_cleaner.state.floatbank6_a_air  \\\n",
       "count                               5290.000000   \n",
       "mean                                  17.304935   \n",
       "std                                    4.536544   \n",
       "min                                   -0.079426   \n",
       "25%                                   13.997317   \n",
       "50%                                   16.014935   \n",
       "75%                                   21.020013   \n",
       "max                                   26.705889   \n",
       "\n",
       "       secondary_cleaner.state.floatbank6_a_level  \n",
       "count                                 5290.000000  \n",
       "mean                                  -501.793193  \n",
       "std                                     39.044215  \n",
       "min                                   -809.741464  \n",
       "25%                                   -500.690984  \n",
       "50%                                   -500.007126  \n",
       "75%                                   -499.373018  \n",
       "max                                   -123.307487  \n",
       "\n",
       "[8 rows x 52 columns]"
      ]
     },
     "metadata": {},
     "output_type": "display_data"
    }
   ],
   "source": [
    "display(test.head())\n",
    "print()\n",
    "test.info()\n",
    "display(test.describe())"
   ]
  },
  {
   "cell_type": "markdown",
   "metadata": {},
   "source": [
    "**Исходные данные**"
   ]
  },
  {
   "cell_type": "code",
   "execution_count": 38,
   "metadata": {
    "scrolled": true
   },
   "outputs": [
    {
     "data": {
      "text/html": [
       "<div>\n",
       "<style scoped>\n",
       "    .dataframe tbody tr th:only-of-type {\n",
       "        vertical-align: middle;\n",
       "    }\n",
       "\n",
       "    .dataframe tbody tr th {\n",
       "        vertical-align: top;\n",
       "    }\n",
       "\n",
       "    .dataframe thead th {\n",
       "        text-align: right;\n",
       "    }\n",
       "</style>\n",
       "<table border=\"1\" class=\"dataframe\">\n",
       "  <thead>\n",
       "    <tr style=\"text-align: right;\">\n",
       "      <th></th>\n",
       "      <th>date</th>\n",
       "      <th>final.output.concentrate_ag</th>\n",
       "      <th>final.output.concentrate_pb</th>\n",
       "      <th>final.output.concentrate_sol</th>\n",
       "      <th>final.output.concentrate_au</th>\n",
       "      <th>final.output.recovery</th>\n",
       "      <th>final.output.tail_ag</th>\n",
       "      <th>final.output.tail_pb</th>\n",
       "      <th>final.output.tail_sol</th>\n",
       "      <th>final.output.tail_au</th>\n",
       "      <th>...</th>\n",
       "      <th>secondary_cleaner.state.floatbank4_a_air</th>\n",
       "      <th>secondary_cleaner.state.floatbank4_a_level</th>\n",
       "      <th>secondary_cleaner.state.floatbank4_b_air</th>\n",
       "      <th>secondary_cleaner.state.floatbank4_b_level</th>\n",
       "      <th>secondary_cleaner.state.floatbank5_a_air</th>\n",
       "      <th>secondary_cleaner.state.floatbank5_a_level</th>\n",
       "      <th>secondary_cleaner.state.floatbank5_b_air</th>\n",
       "      <th>secondary_cleaner.state.floatbank5_b_level</th>\n",
       "      <th>secondary_cleaner.state.floatbank6_a_air</th>\n",
       "      <th>secondary_cleaner.state.floatbank6_a_level</th>\n",
       "    </tr>\n",
       "  </thead>\n",
       "  <tbody>\n",
       "    <tr>\n",
       "      <th>0</th>\n",
       "      <td>2016-01-15 00:00:00</td>\n",
       "      <td>6.055403</td>\n",
       "      <td>9.889648</td>\n",
       "      <td>5.507324</td>\n",
       "      <td>42.192020</td>\n",
       "      <td>70.541216</td>\n",
       "      <td>10.411962</td>\n",
       "      <td>0.895447</td>\n",
       "      <td>16.904297</td>\n",
       "      <td>2.143149</td>\n",
       "      <td>...</td>\n",
       "      <td>14.016835</td>\n",
       "      <td>-502.488007</td>\n",
       "      <td>12.099931</td>\n",
       "      <td>-504.715942</td>\n",
       "      <td>9.925633</td>\n",
       "      <td>-498.310211</td>\n",
       "      <td>8.079666</td>\n",
       "      <td>-500.470978</td>\n",
       "      <td>14.151341</td>\n",
       "      <td>-605.841980</td>\n",
       "    </tr>\n",
       "    <tr>\n",
       "      <th>1</th>\n",
       "      <td>2016-01-15 01:00:00</td>\n",
       "      <td>6.029369</td>\n",
       "      <td>9.968944</td>\n",
       "      <td>5.257781</td>\n",
       "      <td>42.701629</td>\n",
       "      <td>69.266198</td>\n",
       "      <td>10.462676</td>\n",
       "      <td>0.927452</td>\n",
       "      <td>16.634514</td>\n",
       "      <td>2.224930</td>\n",
       "      <td>...</td>\n",
       "      <td>13.992281</td>\n",
       "      <td>-505.503262</td>\n",
       "      <td>11.950531</td>\n",
       "      <td>-501.331529</td>\n",
       "      <td>10.039245</td>\n",
       "      <td>-500.169983</td>\n",
       "      <td>7.984757</td>\n",
       "      <td>-500.582168</td>\n",
       "      <td>13.998353</td>\n",
       "      <td>-599.787184</td>\n",
       "    </tr>\n",
       "    <tr>\n",
       "      <th>2</th>\n",
       "      <td>2016-01-15 02:00:00</td>\n",
       "      <td>6.055926</td>\n",
       "      <td>10.213995</td>\n",
       "      <td>5.383759</td>\n",
       "      <td>42.657501</td>\n",
       "      <td>68.116445</td>\n",
       "      <td>10.507046</td>\n",
       "      <td>0.953716</td>\n",
       "      <td>16.208849</td>\n",
       "      <td>2.257889</td>\n",
       "      <td>...</td>\n",
       "      <td>14.015015</td>\n",
       "      <td>-502.520901</td>\n",
       "      <td>11.912783</td>\n",
       "      <td>-501.133383</td>\n",
       "      <td>10.070913</td>\n",
       "      <td>-500.129135</td>\n",
       "      <td>8.013877</td>\n",
       "      <td>-500.517572</td>\n",
       "      <td>14.028663</td>\n",
       "      <td>-601.427363</td>\n",
       "    </tr>\n",
       "    <tr>\n",
       "      <th>3</th>\n",
       "      <td>2016-01-15 03:00:00</td>\n",
       "      <td>6.047977</td>\n",
       "      <td>9.977019</td>\n",
       "      <td>4.858634</td>\n",
       "      <td>42.689819</td>\n",
       "      <td>68.347543</td>\n",
       "      <td>10.422762</td>\n",
       "      <td>0.883763</td>\n",
       "      <td>16.532835</td>\n",
       "      <td>2.146849</td>\n",
       "      <td>...</td>\n",
       "      <td>14.036510</td>\n",
       "      <td>-500.857308</td>\n",
       "      <td>11.999550</td>\n",
       "      <td>-501.193686</td>\n",
       "      <td>9.970366</td>\n",
       "      <td>-499.201640</td>\n",
       "      <td>7.977324</td>\n",
       "      <td>-500.255908</td>\n",
       "      <td>14.005551</td>\n",
       "      <td>-599.996129</td>\n",
       "    </tr>\n",
       "    <tr>\n",
       "      <th>4</th>\n",
       "      <td>2016-01-15 04:00:00</td>\n",
       "      <td>6.148599</td>\n",
       "      <td>10.142511</td>\n",
       "      <td>4.939416</td>\n",
       "      <td>42.774141</td>\n",
       "      <td>66.927016</td>\n",
       "      <td>10.360302</td>\n",
       "      <td>0.792826</td>\n",
       "      <td>16.525686</td>\n",
       "      <td>2.055292</td>\n",
       "      <td>...</td>\n",
       "      <td>14.027298</td>\n",
       "      <td>-499.838632</td>\n",
       "      <td>11.953070</td>\n",
       "      <td>-501.053894</td>\n",
       "      <td>9.925709</td>\n",
       "      <td>-501.686727</td>\n",
       "      <td>7.894242</td>\n",
       "      <td>-500.356035</td>\n",
       "      <td>13.996647</td>\n",
       "      <td>-601.496691</td>\n",
       "    </tr>\n",
       "  </tbody>\n",
       "</table>\n",
       "<p>5 rows × 87 columns</p>\n",
       "</div>"
      ],
      "text/plain": [
       "                  date  final.output.concentrate_ag  \\\n",
       "0  2016-01-15 00:00:00                     6.055403   \n",
       "1  2016-01-15 01:00:00                     6.029369   \n",
       "2  2016-01-15 02:00:00                     6.055926   \n",
       "3  2016-01-15 03:00:00                     6.047977   \n",
       "4  2016-01-15 04:00:00                     6.148599   \n",
       "\n",
       "   final.output.concentrate_pb  final.output.concentrate_sol  \\\n",
       "0                     9.889648                      5.507324   \n",
       "1                     9.968944                      5.257781   \n",
       "2                    10.213995                      5.383759   \n",
       "3                     9.977019                      4.858634   \n",
       "4                    10.142511                      4.939416   \n",
       "\n",
       "   final.output.concentrate_au  final.output.recovery  final.output.tail_ag  \\\n",
       "0                    42.192020              70.541216             10.411962   \n",
       "1                    42.701629              69.266198             10.462676   \n",
       "2                    42.657501              68.116445             10.507046   \n",
       "3                    42.689819              68.347543             10.422762   \n",
       "4                    42.774141              66.927016             10.360302   \n",
       "\n",
       "   final.output.tail_pb  final.output.tail_sol  final.output.tail_au  ...  \\\n",
       "0              0.895447              16.904297              2.143149  ...   \n",
       "1              0.927452              16.634514              2.224930  ...   \n",
       "2              0.953716              16.208849              2.257889  ...   \n",
       "3              0.883763              16.532835              2.146849  ...   \n",
       "4              0.792826              16.525686              2.055292  ...   \n",
       "\n",
       "   secondary_cleaner.state.floatbank4_a_air  \\\n",
       "0                                 14.016835   \n",
       "1                                 13.992281   \n",
       "2                                 14.015015   \n",
       "3                                 14.036510   \n",
       "4                                 14.027298   \n",
       "\n",
       "   secondary_cleaner.state.floatbank4_a_level  \\\n",
       "0                                 -502.488007   \n",
       "1                                 -505.503262   \n",
       "2                                 -502.520901   \n",
       "3                                 -500.857308   \n",
       "4                                 -499.838632   \n",
       "\n",
       "   secondary_cleaner.state.floatbank4_b_air  \\\n",
       "0                                 12.099931   \n",
       "1                                 11.950531   \n",
       "2                                 11.912783   \n",
       "3                                 11.999550   \n",
       "4                                 11.953070   \n",
       "\n",
       "   secondary_cleaner.state.floatbank4_b_level  \\\n",
       "0                                 -504.715942   \n",
       "1                                 -501.331529   \n",
       "2                                 -501.133383   \n",
       "3                                 -501.193686   \n",
       "4                                 -501.053894   \n",
       "\n",
       "   secondary_cleaner.state.floatbank5_a_air  \\\n",
       "0                                  9.925633   \n",
       "1                                 10.039245   \n",
       "2                                 10.070913   \n",
       "3                                  9.970366   \n",
       "4                                  9.925709   \n",
       "\n",
       "   secondary_cleaner.state.floatbank5_a_level  \\\n",
       "0                                 -498.310211   \n",
       "1                                 -500.169983   \n",
       "2                                 -500.129135   \n",
       "3                                 -499.201640   \n",
       "4                                 -501.686727   \n",
       "\n",
       "   secondary_cleaner.state.floatbank5_b_air  \\\n",
       "0                                  8.079666   \n",
       "1                                  7.984757   \n",
       "2                                  8.013877   \n",
       "3                                  7.977324   \n",
       "4                                  7.894242   \n",
       "\n",
       "   secondary_cleaner.state.floatbank5_b_level  \\\n",
       "0                                 -500.470978   \n",
       "1                                 -500.582168   \n",
       "2                                 -500.517572   \n",
       "3                                 -500.255908   \n",
       "4                                 -500.356035   \n",
       "\n",
       "   secondary_cleaner.state.floatbank6_a_air  \\\n",
       "0                                 14.151341   \n",
       "1                                 13.998353   \n",
       "2                                 14.028663   \n",
       "3                                 14.005551   \n",
       "4                                 13.996647   \n",
       "\n",
       "   secondary_cleaner.state.floatbank6_a_level  \n",
       "0                                 -605.841980  \n",
       "1                                 -599.787184  \n",
       "2                                 -601.427363  \n",
       "3                                 -599.996129  \n",
       "4                                 -601.496691  \n",
       "\n",
       "[5 rows x 87 columns]"
      ]
     },
     "metadata": {},
     "output_type": "display_data"
    },
    {
     "name": "stdout",
     "output_type": "stream",
     "text": [
      "\n",
      "<class 'pandas.core.frame.DataFrame'>\n",
      "RangeIndex: 19439 entries, 0 to 19438\n",
      "Data columns (total 87 columns):\n",
      " #   Column                                              Non-Null Count  Dtype  \n",
      "---  ------                                              --------------  -----  \n",
      " 0   date                                                19439 non-null  object \n",
      " 1   final.output.concentrate_ag                         19438 non-null  float64\n",
      " 2   final.output.concentrate_pb                         19438 non-null  float64\n",
      " 3   final.output.concentrate_sol                        19228 non-null  float64\n",
      " 4   final.output.concentrate_au                         19439 non-null  float64\n",
      " 5   final.output.recovery                               19439 non-null  float64\n",
      " 6   final.output.tail_ag                                19438 non-null  float64\n",
      " 7   final.output.tail_pb                                19338 non-null  float64\n",
      " 8   final.output.tail_sol                               19433 non-null  float64\n",
      " 9   final.output.tail_au                                19439 non-null  float64\n",
      " 10  primary_cleaner.input.sulfate                       19415 non-null  float64\n",
      " 11  primary_cleaner.input.depressant                    19402 non-null  float64\n",
      " 12  primary_cleaner.input.feed_size                     19439 non-null  float64\n",
      " 13  primary_cleaner.input.xanthate                      19335 non-null  float64\n",
      " 14  primary_cleaner.output.concentrate_ag               19439 non-null  float64\n",
      " 15  primary_cleaner.output.concentrate_pb               19323 non-null  float64\n",
      " 16  primary_cleaner.output.concentrate_sol              19069 non-null  float64\n",
      " 17  primary_cleaner.output.concentrate_au               19439 non-null  float64\n",
      " 18  primary_cleaner.output.tail_ag                      19435 non-null  float64\n",
      " 19  primary_cleaner.output.tail_pb                      19418 non-null  float64\n",
      " 20  primary_cleaner.output.tail_sol                     19377 non-null  float64\n",
      " 21  primary_cleaner.output.tail_au                      19439 non-null  float64\n",
      " 22  primary_cleaner.state.floatbank8_a_air              19435 non-null  float64\n",
      " 23  primary_cleaner.state.floatbank8_a_level            19438 non-null  float64\n",
      " 24  primary_cleaner.state.floatbank8_b_air              19435 non-null  float64\n",
      " 25  primary_cleaner.state.floatbank8_b_level            19438 non-null  float64\n",
      " 26  primary_cleaner.state.floatbank8_c_air              19437 non-null  float64\n",
      " 27  primary_cleaner.state.floatbank8_c_level            19438 non-null  float64\n",
      " 28  primary_cleaner.state.floatbank8_d_air              19436 non-null  float64\n",
      " 29  primary_cleaner.state.floatbank8_d_level            19438 non-null  float64\n",
      " 30  rougher.calculation.sulfate_to_au_concentrate       19437 non-null  float64\n",
      " 31  rougher.calculation.floatbank10_sulfate_to_au_feed  19437 non-null  float64\n",
      " 32  rougher.calculation.floatbank11_sulfate_to_au_feed  19437 non-null  float64\n",
      " 33  rougher.calculation.au_pb_ratio                     19439 non-null  float64\n",
      " 34  rougher.input.feed_ag                               19439 non-null  float64\n",
      " 35  rougher.input.feed_pb                               19339 non-null  float64\n",
      " 36  rougher.input.feed_rate                             19428 non-null  float64\n",
      " 37  rougher.input.feed_size                             19294 non-null  float64\n",
      " 38  rougher.input.feed_sol                              19340 non-null  float64\n",
      " 39  rougher.input.feed_au                               19439 non-null  float64\n",
      " 40  rougher.input.floatbank10_sulfate                   19405 non-null  float64\n",
      " 41  rougher.input.floatbank10_xanthate                  19431 non-null  float64\n",
      " 42  rougher.input.floatbank11_sulfate                   19395 non-null  float64\n",
      " 43  rougher.input.floatbank11_xanthate                  18986 non-null  float64\n",
      " 44  rougher.output.concentrate_ag                       19439 non-null  float64\n",
      " 45  rougher.output.concentrate_pb                       19439 non-null  float64\n",
      " 46  rougher.output.concentrate_sol                      19416 non-null  float64\n",
      " 47  rougher.output.concentrate_au                       19439 non-null  float64\n",
      " 48  rougher.output.recovery                             19439 non-null  float64\n",
      " 49  rougher.output.tail_ag                              19438 non-null  float64\n",
      " 50  rougher.output.tail_pb                              19439 non-null  float64\n",
      " 51  rougher.output.tail_sol                             19439 non-null  float64\n",
      " 52  rougher.output.tail_au                              19439 non-null  float64\n",
      " 53  rougher.state.floatbank10_a_air                     19438 non-null  float64\n",
      " 54  rougher.state.floatbank10_a_level                   19438 non-null  float64\n",
      " 55  rougher.state.floatbank10_b_air                     19438 non-null  float64\n",
      " 56  rougher.state.floatbank10_b_level                   19438 non-null  float64\n",
      " 57  rougher.state.floatbank10_c_air                     19438 non-null  float64\n",
      " 58  rougher.state.floatbank10_c_level                   19438 non-null  float64\n",
      " 59  rougher.state.floatbank10_d_air                     19439 non-null  float64\n",
      " 60  rougher.state.floatbank10_d_level                   19439 non-null  float64\n",
      " 61  rougher.state.floatbank10_e_air                     19003 non-null  float64\n",
      " 62  rougher.state.floatbank10_e_level                   19439 non-null  float64\n",
      " 63  rougher.state.floatbank10_f_air                     19439 non-null  float64\n",
      " 64  rougher.state.floatbank10_f_level                   19439 non-null  float64\n",
      " 65  secondary_cleaner.output.tail_ag                    19437 non-null  float64\n",
      " 66  secondary_cleaner.output.tail_pb                    19427 non-null  float64\n",
      " 67  secondary_cleaner.output.tail_sol                   17691 non-null  float64\n",
      " 68  secondary_cleaner.output.tail_au                    19439 non-null  float64\n",
      " 69  secondary_cleaner.state.floatbank2_a_air            19219 non-null  float64\n",
      " 70  secondary_cleaner.state.floatbank2_a_level          19438 non-null  float64\n",
      " 71  secondary_cleaner.state.floatbank2_b_air            19416 non-null  float64\n",
      " 72  secondary_cleaner.state.floatbank2_b_level          19438 non-null  float64\n",
      " 73  secondary_cleaner.state.floatbank3_a_air            19426 non-null  float64\n",
      " 74  secondary_cleaner.state.floatbank3_a_level          19438 non-null  float64\n",
      " 75  secondary_cleaner.state.floatbank3_b_air            19438 non-null  float64\n",
      " 76  secondary_cleaner.state.floatbank3_b_level          19438 non-null  float64\n",
      " 77  secondary_cleaner.state.floatbank4_a_air            19433 non-null  float64\n",
      " 78  secondary_cleaner.state.floatbank4_a_level          19438 non-null  float64\n",
      " 79  secondary_cleaner.state.floatbank4_b_air            19438 non-null  float64\n",
      " 80  secondary_cleaner.state.floatbank4_b_level          19438 non-null  float64\n",
      " 81  secondary_cleaner.state.floatbank5_a_air            19438 non-null  float64\n",
      " 82  secondary_cleaner.state.floatbank5_a_level          19438 non-null  float64\n",
      " 83  secondary_cleaner.state.floatbank5_b_air            19438 non-null  float64\n",
      " 84  secondary_cleaner.state.floatbank5_b_level          19438 non-null  float64\n",
      " 85  secondary_cleaner.state.floatbank6_a_air            19437 non-null  float64\n",
      " 86  secondary_cleaner.state.floatbank6_a_level          19438 non-null  float64\n",
      "dtypes: float64(86), object(1)\n",
      "memory usage: 12.9+ MB\n"
     ]
    },
    {
     "data": {
      "text/html": [
       "<div>\n",
       "<style scoped>\n",
       "    .dataframe tbody tr th:only-of-type {\n",
       "        vertical-align: middle;\n",
       "    }\n",
       "\n",
       "    .dataframe tbody tr th {\n",
       "        vertical-align: top;\n",
       "    }\n",
       "\n",
       "    .dataframe thead th {\n",
       "        text-align: right;\n",
       "    }\n",
       "</style>\n",
       "<table border=\"1\" class=\"dataframe\">\n",
       "  <thead>\n",
       "    <tr style=\"text-align: right;\">\n",
       "      <th></th>\n",
       "      <th>final.output.concentrate_ag</th>\n",
       "      <th>final.output.concentrate_pb</th>\n",
       "      <th>final.output.concentrate_sol</th>\n",
       "      <th>final.output.concentrate_au</th>\n",
       "      <th>final.output.recovery</th>\n",
       "      <th>final.output.tail_ag</th>\n",
       "      <th>final.output.tail_pb</th>\n",
       "      <th>final.output.tail_sol</th>\n",
       "      <th>final.output.tail_au</th>\n",
       "      <th>primary_cleaner.input.sulfate</th>\n",
       "      <th>...</th>\n",
       "      <th>secondary_cleaner.state.floatbank4_a_air</th>\n",
       "      <th>secondary_cleaner.state.floatbank4_a_level</th>\n",
       "      <th>secondary_cleaner.state.floatbank4_b_air</th>\n",
       "      <th>secondary_cleaner.state.floatbank4_b_level</th>\n",
       "      <th>secondary_cleaner.state.floatbank5_a_air</th>\n",
       "      <th>secondary_cleaner.state.floatbank5_a_level</th>\n",
       "      <th>secondary_cleaner.state.floatbank5_b_air</th>\n",
       "      <th>secondary_cleaner.state.floatbank5_b_level</th>\n",
       "      <th>secondary_cleaner.state.floatbank6_a_air</th>\n",
       "      <th>secondary_cleaner.state.floatbank6_a_level</th>\n",
       "    </tr>\n",
       "  </thead>\n",
       "  <tbody>\n",
       "    <tr>\n",
       "      <th>count</th>\n",
       "      <td>19438.000000</td>\n",
       "      <td>19438.000000</td>\n",
       "      <td>19228.000000</td>\n",
       "      <td>19439.000000</td>\n",
       "      <td>19439.000000</td>\n",
       "      <td>19438.000000</td>\n",
       "      <td>19338.000000</td>\n",
       "      <td>19433.000000</td>\n",
       "      <td>19439.000000</td>\n",
       "      <td>19415.000000</td>\n",
       "      <td>...</td>\n",
       "      <td>19433.000000</td>\n",
       "      <td>19438.000000</td>\n",
       "      <td>19438.000000</td>\n",
       "      <td>19438.000000</td>\n",
       "      <td>19438.000000</td>\n",
       "      <td>19438.000000</td>\n",
       "      <td>19438.000000</td>\n",
       "      <td>19438.000000</td>\n",
       "      <td>19437.000000</td>\n",
       "      <td>19438.000000</td>\n",
       "    </tr>\n",
       "    <tr>\n",
       "      <th>mean</th>\n",
       "      <td>5.168470</td>\n",
       "      <td>9.978895</td>\n",
       "      <td>9.501224</td>\n",
       "      <td>44.076513</td>\n",
       "      <td>67.050208</td>\n",
       "      <td>9.688589</td>\n",
       "      <td>2.705795</td>\n",
       "      <td>10.583728</td>\n",
       "      <td>3.042467</td>\n",
       "      <td>144.624774</td>\n",
       "      <td>...</td>\n",
       "      <td>18.987674</td>\n",
       "      <td>-485.894516</td>\n",
       "      <td>15.010366</td>\n",
       "      <td>-461.078636</td>\n",
       "      <td>15.694452</td>\n",
       "      <td>-488.684065</td>\n",
       "      <td>12.198224</td>\n",
       "      <td>-487.149827</td>\n",
       "      <td>18.959024</td>\n",
       "      <td>-505.436305</td>\n",
       "    </tr>\n",
       "    <tr>\n",
       "      <th>std</th>\n",
       "      <td>1.372348</td>\n",
       "      <td>1.669240</td>\n",
       "      <td>2.787537</td>\n",
       "      <td>5.129784</td>\n",
       "      <td>10.125840</td>\n",
       "      <td>2.328642</td>\n",
       "      <td>0.949077</td>\n",
       "      <td>2.868782</td>\n",
       "      <td>0.922808</td>\n",
       "      <td>44.464071</td>\n",
       "      <td>...</td>\n",
       "      <td>5.411058</td>\n",
       "      <td>47.758570</td>\n",
       "      <td>4.890228</td>\n",
       "      <td>67.405524</td>\n",
       "      <td>5.510974</td>\n",
       "      <td>34.533396</td>\n",
       "      <td>5.333024</td>\n",
       "      <td>38.347312</td>\n",
       "      <td>5.550498</td>\n",
       "      <td>37.689057</td>\n",
       "    </tr>\n",
       "    <tr>\n",
       "      <th>min</th>\n",
       "      <td>0.000000</td>\n",
       "      <td>0.000000</td>\n",
       "      <td>0.000000</td>\n",
       "      <td>0.000000</td>\n",
       "      <td>0.000000</td>\n",
       "      <td>0.000000</td>\n",
       "      <td>0.000000</td>\n",
       "      <td>0.000000</td>\n",
       "      <td>0.000000</td>\n",
       "      <td>0.003112</td>\n",
       "      <td>...</td>\n",
       "      <td>0.000000</td>\n",
       "      <td>-799.798523</td>\n",
       "      <td>0.000000</td>\n",
       "      <td>-800.836914</td>\n",
       "      <td>-0.372054</td>\n",
       "      <td>-797.323986</td>\n",
       "      <td>0.528083</td>\n",
       "      <td>-800.220337</td>\n",
       "      <td>-0.079426</td>\n",
       "      <td>-809.741464</td>\n",
       "    </tr>\n",
       "    <tr>\n",
       "      <th>25%</th>\n",
       "      <td>4.251240</td>\n",
       "      <td>9.137262</td>\n",
       "      <td>7.722820</td>\n",
       "      <td>43.402215</td>\n",
       "      <td>63.299712</td>\n",
       "      <td>8.062878</td>\n",
       "      <td>2.040119</td>\n",
       "      <td>8.938947</td>\n",
       "      <td>2.461138</td>\n",
       "      <td>114.107029</td>\n",
       "      <td>...</td>\n",
       "      <td>14.975734</td>\n",
       "      <td>-500.704892</td>\n",
       "      <td>11.940294</td>\n",
       "      <td>-500.187742</td>\n",
       "      <td>10.988606</td>\n",
       "      <td>-500.458467</td>\n",
       "      <td>8.971105</td>\n",
       "      <td>-500.129462</td>\n",
       "      <td>14.983037</td>\n",
       "      <td>-500.728067</td>\n",
       "    </tr>\n",
       "    <tr>\n",
       "      <th>50%</th>\n",
       "      <td>5.066094</td>\n",
       "      <td>10.102433</td>\n",
       "      <td>9.218961</td>\n",
       "      <td>45.011244</td>\n",
       "      <td>68.172738</td>\n",
       "      <td>9.743623</td>\n",
       "      <td>2.748730</td>\n",
       "      <td>10.622456</td>\n",
       "      <td>2.984909</td>\n",
       "      <td>143.232103</td>\n",
       "      <td>...</td>\n",
       "      <td>18.017481</td>\n",
       "      <td>-499.837793</td>\n",
       "      <td>14.971014</td>\n",
       "      <td>-499.459786</td>\n",
       "      <td>15.000036</td>\n",
       "      <td>-499.802605</td>\n",
       "      <td>11.019433</td>\n",
       "      <td>-499.935317</td>\n",
       "      <td>19.960541</td>\n",
       "      <td>-500.048400</td>\n",
       "    </tr>\n",
       "    <tr>\n",
       "      <th>75%</th>\n",
       "      <td>5.895527</td>\n",
       "      <td>11.035769</td>\n",
       "      <td>10.947813</td>\n",
       "      <td>46.275313</td>\n",
       "      <td>72.686642</td>\n",
       "      <td>11.134294</td>\n",
       "      <td>3.333216</td>\n",
       "      <td>12.104271</td>\n",
       "      <td>3.571351</td>\n",
       "      <td>175.075656</td>\n",
       "      <td>...</td>\n",
       "      <td>23.012470</td>\n",
       "      <td>-498.249730</td>\n",
       "      <td>19.034162</td>\n",
       "      <td>-400.118106</td>\n",
       "      <td>18.026190</td>\n",
       "      <td>-498.384187</td>\n",
       "      <td>14.019088</td>\n",
       "      <td>-499.436708</td>\n",
       "      <td>24.003170</td>\n",
       "      <td>-499.495378</td>\n",
       "    </tr>\n",
       "    <tr>\n",
       "      <th>max</th>\n",
       "      <td>16.001945</td>\n",
       "      <td>17.031899</td>\n",
       "      <td>19.615720</td>\n",
       "      <td>52.756638</td>\n",
       "      <td>100.000000</td>\n",
       "      <td>19.552149</td>\n",
       "      <td>5.804178</td>\n",
       "      <td>22.317730</td>\n",
       "      <td>8.245022</td>\n",
       "      <td>265.983123</td>\n",
       "      <td>...</td>\n",
       "      <td>30.115735</td>\n",
       "      <td>-245.239184</td>\n",
       "      <td>31.269706</td>\n",
       "      <td>-6.506986</td>\n",
       "      <td>43.709931</td>\n",
       "      <td>-244.483566</td>\n",
       "      <td>27.926001</td>\n",
       "      <td>-137.740004</td>\n",
       "      <td>32.188906</td>\n",
       "      <td>-104.427459</td>\n",
       "    </tr>\n",
       "  </tbody>\n",
       "</table>\n",
       "<p>8 rows × 86 columns</p>\n",
       "</div>"
      ],
      "text/plain": [
       "       final.output.concentrate_ag  final.output.concentrate_pb  \\\n",
       "count                 19438.000000                 19438.000000   \n",
       "mean                      5.168470                     9.978895   \n",
       "std                       1.372348                     1.669240   \n",
       "min                       0.000000                     0.000000   \n",
       "25%                       4.251240                     9.137262   \n",
       "50%                       5.066094                    10.102433   \n",
       "75%                       5.895527                    11.035769   \n",
       "max                      16.001945                    17.031899   \n",
       "\n",
       "       final.output.concentrate_sol  final.output.concentrate_au  \\\n",
       "count                  19228.000000                 19439.000000   \n",
       "mean                       9.501224                    44.076513   \n",
       "std                        2.787537                     5.129784   \n",
       "min                        0.000000                     0.000000   \n",
       "25%                        7.722820                    43.402215   \n",
       "50%                        9.218961                    45.011244   \n",
       "75%                       10.947813                    46.275313   \n",
       "max                       19.615720                    52.756638   \n",
       "\n",
       "       final.output.recovery  final.output.tail_ag  final.output.tail_pb  \\\n",
       "count           19439.000000          19438.000000          19338.000000   \n",
       "mean               67.050208              9.688589              2.705795   \n",
       "std                10.125840              2.328642              0.949077   \n",
       "min                 0.000000              0.000000              0.000000   \n",
       "25%                63.299712              8.062878              2.040119   \n",
       "50%                68.172738              9.743623              2.748730   \n",
       "75%                72.686642             11.134294              3.333216   \n",
       "max               100.000000             19.552149              5.804178   \n",
       "\n",
       "       final.output.tail_sol  final.output.tail_au  \\\n",
       "count           19433.000000          19439.000000   \n",
       "mean               10.583728              3.042467   \n",
       "std                 2.868782              0.922808   \n",
       "min                 0.000000              0.000000   \n",
       "25%                 8.938947              2.461138   \n",
       "50%                10.622456              2.984909   \n",
       "75%                12.104271              3.571351   \n",
       "max                22.317730              8.245022   \n",
       "\n",
       "       primary_cleaner.input.sulfate  ...  \\\n",
       "count                   19415.000000  ...   \n",
       "mean                      144.624774  ...   \n",
       "std                        44.464071  ...   \n",
       "min                         0.003112  ...   \n",
       "25%                       114.107029  ...   \n",
       "50%                       143.232103  ...   \n",
       "75%                       175.075656  ...   \n",
       "max                       265.983123  ...   \n",
       "\n",
       "       secondary_cleaner.state.floatbank4_a_air  \\\n",
       "count                              19433.000000   \n",
       "mean                                  18.987674   \n",
       "std                                    5.411058   \n",
       "min                                    0.000000   \n",
       "25%                                   14.975734   \n",
       "50%                                   18.017481   \n",
       "75%                                   23.012470   \n",
       "max                                   30.115735   \n",
       "\n",
       "       secondary_cleaner.state.floatbank4_a_level  \\\n",
       "count                                19438.000000   \n",
       "mean                                  -485.894516   \n",
       "std                                     47.758570   \n",
       "min                                   -799.798523   \n",
       "25%                                   -500.704892   \n",
       "50%                                   -499.837793   \n",
       "75%                                   -498.249730   \n",
       "max                                   -245.239184   \n",
       "\n",
       "       secondary_cleaner.state.floatbank4_b_air  \\\n",
       "count                              19438.000000   \n",
       "mean                                  15.010366   \n",
       "std                                    4.890228   \n",
       "min                                    0.000000   \n",
       "25%                                   11.940294   \n",
       "50%                                   14.971014   \n",
       "75%                                   19.034162   \n",
       "max                                   31.269706   \n",
       "\n",
       "       secondary_cleaner.state.floatbank4_b_level  \\\n",
       "count                                19438.000000   \n",
       "mean                                  -461.078636   \n",
       "std                                     67.405524   \n",
       "min                                   -800.836914   \n",
       "25%                                   -500.187742   \n",
       "50%                                   -499.459786   \n",
       "75%                                   -400.118106   \n",
       "max                                     -6.506986   \n",
       "\n",
       "       secondary_cleaner.state.floatbank5_a_air  \\\n",
       "count                              19438.000000   \n",
       "mean                                  15.694452   \n",
       "std                                    5.510974   \n",
       "min                                   -0.372054   \n",
       "25%                                   10.988606   \n",
       "50%                                   15.000036   \n",
       "75%                                   18.026190   \n",
       "max                                   43.709931   \n",
       "\n",
       "       secondary_cleaner.state.floatbank5_a_level  \\\n",
       "count                                19438.000000   \n",
       "mean                                  -488.684065   \n",
       "std                                     34.533396   \n",
       "min                                   -797.323986   \n",
       "25%                                   -500.458467   \n",
       "50%                                   -499.802605   \n",
       "75%                                   -498.384187   \n",
       "max                                   -244.483566   \n",
       "\n",
       "       secondary_cleaner.state.floatbank5_b_air  \\\n",
       "count                              19438.000000   \n",
       "mean                                  12.198224   \n",
       "std                                    5.333024   \n",
       "min                                    0.528083   \n",
       "25%                                    8.971105   \n",
       "50%                                   11.019433   \n",
       "75%                                   14.019088   \n",
       "max                                   27.926001   \n",
       "\n",
       "       secondary_cleaner.state.floatbank5_b_level  \\\n",
       "count                                19438.000000   \n",
       "mean                                  -487.149827   \n",
       "std                                     38.347312   \n",
       "min                                   -800.220337   \n",
       "25%                                   -500.129462   \n",
       "50%                                   -499.935317   \n",
       "75%                                   -499.436708   \n",
       "max                                   -137.740004   \n",
       "\n",
       "       secondary_cleaner.state.floatbank6_a_air  \\\n",
       "count                              19437.000000   \n",
       "mean                                  18.959024   \n",
       "std                                    5.550498   \n",
       "min                                   -0.079426   \n",
       "25%                                   14.983037   \n",
       "50%                                   19.960541   \n",
       "75%                                   24.003170   \n",
       "max                                   32.188906   \n",
       "\n",
       "       secondary_cleaner.state.floatbank6_a_level  \n",
       "count                                19438.000000  \n",
       "mean                                  -505.436305  \n",
       "std                                     37.689057  \n",
       "min                                   -809.741464  \n",
       "25%                                   -500.728067  \n",
       "50%                                   -500.048400  \n",
       "75%                                   -499.495378  \n",
       "max                                   -104.427459  \n",
       "\n",
       "[8 rows x 86 columns]"
      ]
     },
     "metadata": {},
     "output_type": "display_data"
    }
   ],
   "source": [
    "display(full.head())\n",
    "print()\n",
    "full.info()\n",
    "display(full.describe())"
   ]
  },
  {
   "cell_type": "code",
   "execution_count": 39,
   "metadata": {},
   "outputs": [
    {
     "name": "stdout",
     "output_type": "stream",
     "text": [
      "0\n",
      "0\n",
      "0\n"
     ]
    }
   ],
   "source": [
    "#проверка на дубликаты\n",
    "print(train.duplicated().sum())\n",
    "print(test.duplicated().sum())\n",
    "print(full.duplicated().sum())"
   ]
  },
  {
   "cell_type": "markdown",
   "metadata": {},
   "source": [
    "Каждый из датасетов имеет разный размер: обучающая выборка (14149, 87), тестовая выборка (5290, 53), исходные данные (19439, 87). \n",
    "\n",
    "В данных присутствуют пропуски, полных дубликатов нет.\n",
    "\n",
    "### Проверка расчета\n",
    "Проверим, правильно ли рассчитана эффективность обогащения. Вычислим её на обучающей выборке для признака rougher.output.recovery и найдем MAE между расчётами и значением признака."
   ]
  },
  {
   "cell_type": "code",
   "execution_count": 40,
   "metadata": {},
   "outputs": [],
   "source": [
    "def recovery(C, F, T, true_rec):\n",
    "    \n",
    "    recovery_calc = pd.Series((C * (F - T)) / (F * (C - T)) * 100)\n",
    "    \n",
    "    print('Расчет:', recovery_calc.mean())\n",
    "    print('Значение признака:', true_rec.mean())\n",
    "    \n",
    "    mae = mean_absolute_error(true_rec, recovery_calc) \n",
    "    \n",
    "    \n",
    "    return print('MAE:', mae)"
   ]
  },
  {
   "cell_type": "code",
   "execution_count": 41,
   "metadata": {
    "scrolled": false
   },
   "outputs": [
    {
     "name": "stdout",
     "output_type": "stream",
     "text": [
      "Расчет: 82.70450164550293\n",
      "Значение признака: 82.70450164550293\n",
      "MAE: 9.73512347450521e-15\n"
     ]
    }
   ],
   "source": [
    "recovery(C=train['rougher.output.concentrate_au'], F=train['rougher.input.feed_au'], \n",
    "         T=train['rougher.output.tail_au'], true_rec=train['rougher.output.recovery'])"
   ]
  },
  {
   "cell_type": "markdown",
   "metadata": {},
   "source": [
    "Значения совпадают, средняя абсолютная ошибка небольшая, значит эффективность рассчитана правильно. \n",
    "\n",
    "### Анализ признаков\n",
    "Проанализируем признаки, недоступные в тестовой выборке. Посмотрим, что это за параметры и к какому типу они относятся."
   ]
  },
  {
   "cell_type": "code",
   "execution_count": 42,
   "metadata": {
    "scrolled": true
   },
   "outputs": [
    {
     "data": {
      "text/plain": [
       "Index(['final.output.concentrate_ag', 'final.output.concentrate_au',\n",
       "       'final.output.concentrate_pb', 'final.output.concentrate_sol',\n",
       "       'final.output.recovery', 'final.output.tail_ag', 'final.output.tail_au',\n",
       "       'final.output.tail_pb', 'final.output.tail_sol',\n",
       "       'primary_cleaner.output.concentrate_ag',\n",
       "       'primary_cleaner.output.concentrate_au',\n",
       "       'primary_cleaner.output.concentrate_pb',\n",
       "       'primary_cleaner.output.concentrate_sol',\n",
       "       'primary_cleaner.output.tail_ag', 'primary_cleaner.output.tail_au',\n",
       "       'primary_cleaner.output.tail_pb', 'primary_cleaner.output.tail_sol',\n",
       "       'rougher.calculation.au_pb_ratio',\n",
       "       'rougher.calculation.floatbank10_sulfate_to_au_feed',\n",
       "       'rougher.calculation.floatbank11_sulfate_to_au_feed',\n",
       "       'rougher.calculation.sulfate_to_au_concentrate',\n",
       "       'rougher.output.concentrate_ag', 'rougher.output.concentrate_au',\n",
       "       'rougher.output.concentrate_pb', 'rougher.output.concentrate_sol',\n",
       "       'rougher.output.recovery', 'rougher.output.tail_ag',\n",
       "       'rougher.output.tail_au', 'rougher.output.tail_pb',\n",
       "       'rougher.output.tail_sol', 'secondary_cleaner.output.tail_ag',\n",
       "       'secondary_cleaner.output.tail_au', 'secondary_cleaner.output.tail_pb',\n",
       "       'secondary_cleaner.output.tail_sol'],\n",
       "      dtype='object')"
      ]
     },
     "execution_count": 42,
     "metadata": {},
     "output_type": "execute_result"
    }
   ],
   "source": [
    "train.columns.symmetric_difference(test.columns)"
   ]
  },
  {
   "cell_type": "markdown",
   "metadata": {},
   "source": [
    "В тестовой выборке отсутствуют столбцы с параметрами продукта на выходе разных этапов обработки и расчетные харктеристики.\n",
    "\n",
    "### Предобработка данных\n",
    "**Удаление и добавление столбцов**\n",
    "\n",
    "Добавим в тестовую выборку столбцы с целевыми признаками - rougher.output.recovery и final.output.recovery. Затем удалим столбец с датой, тк для обучения модели он не понадобится. Так же из обучающей выборки удалим признаки, которых нет в тестовой, тк для обучения модели они недоступны. "
   ]
  },
  {
   "cell_type": "code",
   "execution_count": 43,
   "metadata": {
    "scrolled": false
   },
   "outputs": [
    {
     "data": {
      "text/html": [
       "<div>\n",
       "<style scoped>\n",
       "    .dataframe tbody tr th:only-of-type {\n",
       "        vertical-align: middle;\n",
       "    }\n",
       "\n",
       "    .dataframe tbody tr th {\n",
       "        vertical-align: top;\n",
       "    }\n",
       "\n",
       "    .dataframe thead th {\n",
       "        text-align: right;\n",
       "    }\n",
       "</style>\n",
       "<table border=\"1\" class=\"dataframe\">\n",
       "  <thead>\n",
       "    <tr style=\"text-align: right;\">\n",
       "      <th></th>\n",
       "      <th>primary_cleaner.input.sulfate</th>\n",
       "      <th>primary_cleaner.input.depressant</th>\n",
       "      <th>primary_cleaner.input.feed_size</th>\n",
       "      <th>primary_cleaner.input.xanthate</th>\n",
       "      <th>primary_cleaner.state.floatbank8_a_air</th>\n",
       "      <th>primary_cleaner.state.floatbank8_a_level</th>\n",
       "      <th>primary_cleaner.state.floatbank8_b_air</th>\n",
       "      <th>primary_cleaner.state.floatbank8_b_level</th>\n",
       "      <th>primary_cleaner.state.floatbank8_c_air</th>\n",
       "      <th>primary_cleaner.state.floatbank8_c_level</th>\n",
       "      <th>...</th>\n",
       "      <th>secondary_cleaner.state.floatbank4_b_air</th>\n",
       "      <th>secondary_cleaner.state.floatbank4_b_level</th>\n",
       "      <th>secondary_cleaner.state.floatbank5_a_air</th>\n",
       "      <th>secondary_cleaner.state.floatbank5_a_level</th>\n",
       "      <th>secondary_cleaner.state.floatbank5_b_air</th>\n",
       "      <th>secondary_cleaner.state.floatbank5_b_level</th>\n",
       "      <th>secondary_cleaner.state.floatbank6_a_air</th>\n",
       "      <th>secondary_cleaner.state.floatbank6_a_level</th>\n",
       "      <th>rougher.output.recovery</th>\n",
       "      <th>final.output.recovery</th>\n",
       "    </tr>\n",
       "  </thead>\n",
       "  <tbody>\n",
       "    <tr>\n",
       "      <th>0</th>\n",
       "      <td>210.800909</td>\n",
       "      <td>14.993118</td>\n",
       "      <td>8.08</td>\n",
       "      <td>1.005021</td>\n",
       "      <td>1398.981301</td>\n",
       "      <td>-500.225577</td>\n",
       "      <td>1399.144926</td>\n",
       "      <td>-499.919735</td>\n",
       "      <td>1400.102998</td>\n",
       "      <td>-500.704369</td>\n",
       "      <td>...</td>\n",
       "      <td>8.016656</td>\n",
       "      <td>-501.289139</td>\n",
       "      <td>7.946562</td>\n",
       "      <td>-432.317850</td>\n",
       "      <td>4.872511</td>\n",
       "      <td>-500.037437</td>\n",
       "      <td>26.705889</td>\n",
       "      <td>-499.709414</td>\n",
       "      <td>89.993421</td>\n",
       "      <td>70.273583</td>\n",
       "    </tr>\n",
       "    <tr>\n",
       "      <th>1</th>\n",
       "      <td>215.392455</td>\n",
       "      <td>14.987471</td>\n",
       "      <td>8.08</td>\n",
       "      <td>0.990469</td>\n",
       "      <td>1398.777912</td>\n",
       "      <td>-500.057435</td>\n",
       "      <td>1398.055362</td>\n",
       "      <td>-499.778182</td>\n",
       "      <td>1396.151033</td>\n",
       "      <td>-499.240168</td>\n",
       "      <td>...</td>\n",
       "      <td>8.130979</td>\n",
       "      <td>-499.634209</td>\n",
       "      <td>7.958270</td>\n",
       "      <td>-525.839648</td>\n",
       "      <td>4.878850</td>\n",
       "      <td>-500.162375</td>\n",
       "      <td>25.019940</td>\n",
       "      <td>-499.819438</td>\n",
       "      <td>88.089657</td>\n",
       "      <td>68.910432</td>\n",
       "    </tr>\n",
       "  </tbody>\n",
       "</table>\n",
       "<p>2 rows × 54 columns</p>\n",
       "</div>"
      ],
      "text/plain": [
       "   primary_cleaner.input.sulfate  primary_cleaner.input.depressant  \\\n",
       "0                     210.800909                         14.993118   \n",
       "1                     215.392455                         14.987471   \n",
       "\n",
       "   primary_cleaner.input.feed_size  primary_cleaner.input.xanthate  \\\n",
       "0                             8.08                        1.005021   \n",
       "1                             8.08                        0.990469   \n",
       "\n",
       "   primary_cleaner.state.floatbank8_a_air  \\\n",
       "0                             1398.981301   \n",
       "1                             1398.777912   \n",
       "\n",
       "   primary_cleaner.state.floatbank8_a_level  \\\n",
       "0                               -500.225577   \n",
       "1                               -500.057435   \n",
       "\n",
       "   primary_cleaner.state.floatbank8_b_air  \\\n",
       "0                             1399.144926   \n",
       "1                             1398.055362   \n",
       "\n",
       "   primary_cleaner.state.floatbank8_b_level  \\\n",
       "0                               -499.919735   \n",
       "1                               -499.778182   \n",
       "\n",
       "   primary_cleaner.state.floatbank8_c_air  \\\n",
       "0                             1400.102998   \n",
       "1                             1396.151033   \n",
       "\n",
       "   primary_cleaner.state.floatbank8_c_level  ...  \\\n",
       "0                               -500.704369  ...   \n",
       "1                               -499.240168  ...   \n",
       "\n",
       "   secondary_cleaner.state.floatbank4_b_air  \\\n",
       "0                                  8.016656   \n",
       "1                                  8.130979   \n",
       "\n",
       "   secondary_cleaner.state.floatbank4_b_level  \\\n",
       "0                                 -501.289139   \n",
       "1                                 -499.634209   \n",
       "\n",
       "   secondary_cleaner.state.floatbank5_a_air  \\\n",
       "0                                  7.946562   \n",
       "1                                  7.958270   \n",
       "\n",
       "   secondary_cleaner.state.floatbank5_a_level  \\\n",
       "0                                 -432.317850   \n",
       "1                                 -525.839648   \n",
       "\n",
       "   secondary_cleaner.state.floatbank5_b_air  \\\n",
       "0                                  4.872511   \n",
       "1                                  4.878850   \n",
       "\n",
       "   secondary_cleaner.state.floatbank5_b_level  \\\n",
       "0                                 -500.037437   \n",
       "1                                 -500.162375   \n",
       "\n",
       "   secondary_cleaner.state.floatbank6_a_air  \\\n",
       "0                                 26.705889   \n",
       "1                                 25.019940   \n",
       "\n",
       "   secondary_cleaner.state.floatbank6_a_level  rougher.output.recovery  \\\n",
       "0                                 -499.709414                89.993421   \n",
       "1                                 -499.819438                88.089657   \n",
       "\n",
       "   final.output.recovery  \n",
       "0              70.273583  \n",
       "1              68.910432  \n",
       "\n",
       "[2 rows x 54 columns]"
      ]
     },
     "execution_count": 43,
     "metadata": {},
     "output_type": "execute_result"
    }
   ],
   "source": [
    "test = test.merge(full[['date', 'rougher.output.recovery', 'final.output.recovery']], \n",
    "                            how='left', left_on='date', right_on='date')\n",
    "test.drop(['date'], axis=1, inplace=True)\n",
    "test.head(2)"
   ]
  },
  {
   "cell_type": "code",
   "execution_count": 44,
   "metadata": {
    "scrolled": true
   },
   "outputs": [
    {
     "name": "stdout",
     "output_type": "stream",
     "text": [
      "<class 'pandas.core.frame.DataFrame'>\n",
      "RangeIndex: 14149 entries, 0 to 14148\n",
      "Data columns (total 54 columns):\n",
      " #   Column                                      Non-Null Count  Dtype  \n",
      "---  ------                                      --------------  -----  \n",
      " 0   final.output.recovery                       14149 non-null  float64\n",
      " 1   primary_cleaner.input.sulfate               14129 non-null  float64\n",
      " 2   primary_cleaner.input.depressant            14117 non-null  float64\n",
      " 3   primary_cleaner.input.feed_size             14149 non-null  float64\n",
      " 4   primary_cleaner.input.xanthate              14049 non-null  float64\n",
      " 5   primary_cleaner.state.floatbank8_a_air      14145 non-null  float64\n",
      " 6   primary_cleaner.state.floatbank8_a_level    14148 non-null  float64\n",
      " 7   primary_cleaner.state.floatbank8_b_air      14145 non-null  float64\n",
      " 8   primary_cleaner.state.floatbank8_b_level    14148 non-null  float64\n",
      " 9   primary_cleaner.state.floatbank8_c_air      14147 non-null  float64\n",
      " 10  primary_cleaner.state.floatbank8_c_level    14148 non-null  float64\n",
      " 11  primary_cleaner.state.floatbank8_d_air      14146 non-null  float64\n",
      " 12  primary_cleaner.state.floatbank8_d_level    14148 non-null  float64\n",
      " 13  rougher.input.feed_ag                       14149 non-null  float64\n",
      " 14  rougher.input.feed_pb                       14049 non-null  float64\n",
      " 15  rougher.input.feed_rate                     14141 non-null  float64\n",
      " 16  rougher.input.feed_size                     14005 non-null  float64\n",
      " 17  rougher.input.feed_sol                      14071 non-null  float64\n",
      " 18  rougher.input.feed_au                       14149 non-null  float64\n",
      " 19  rougher.input.floatbank10_sulfate           14120 non-null  float64\n",
      " 20  rougher.input.floatbank10_xanthate          14141 non-null  float64\n",
      " 21  rougher.input.floatbank11_sulfate           14113 non-null  float64\n",
      " 22  rougher.input.floatbank11_xanthate          13721 non-null  float64\n",
      " 23  rougher.output.recovery                     14149 non-null  float64\n",
      " 24  rougher.state.floatbank10_a_air             14148 non-null  float64\n",
      " 25  rougher.state.floatbank10_a_level           14148 non-null  float64\n",
      " 26  rougher.state.floatbank10_b_air             14148 non-null  float64\n",
      " 27  rougher.state.floatbank10_b_level           14148 non-null  float64\n",
      " 28  rougher.state.floatbank10_c_air             14148 non-null  float64\n",
      " 29  rougher.state.floatbank10_c_level           14148 non-null  float64\n",
      " 30  rougher.state.floatbank10_d_air             14149 non-null  float64\n",
      " 31  rougher.state.floatbank10_d_level           14149 non-null  float64\n",
      " 32  rougher.state.floatbank10_e_air             13713 non-null  float64\n",
      " 33  rougher.state.floatbank10_e_level           14149 non-null  float64\n",
      " 34  rougher.state.floatbank10_f_air             14149 non-null  float64\n",
      " 35  rougher.state.floatbank10_f_level           14149 non-null  float64\n",
      " 36  secondary_cleaner.state.floatbank2_a_air    13932 non-null  float64\n",
      " 37  secondary_cleaner.state.floatbank2_a_level  14148 non-null  float64\n",
      " 38  secondary_cleaner.state.floatbank2_b_air    14128 non-null  float64\n",
      " 39  secondary_cleaner.state.floatbank2_b_level  14148 non-null  float64\n",
      " 40  secondary_cleaner.state.floatbank3_a_air    14145 non-null  float64\n",
      " 41  secondary_cleaner.state.floatbank3_a_level  14148 non-null  float64\n",
      " 42  secondary_cleaner.state.floatbank3_b_air    14148 non-null  float64\n",
      " 43  secondary_cleaner.state.floatbank3_b_level  14148 non-null  float64\n",
      " 44  secondary_cleaner.state.floatbank4_a_air    14143 non-null  float64\n",
      " 45  secondary_cleaner.state.floatbank4_a_level  14148 non-null  float64\n",
      " 46  secondary_cleaner.state.floatbank4_b_air    14148 non-null  float64\n",
      " 47  secondary_cleaner.state.floatbank4_b_level  14148 non-null  float64\n",
      " 48  secondary_cleaner.state.floatbank5_a_air    14148 non-null  float64\n",
      " 49  secondary_cleaner.state.floatbank5_a_level  14148 non-null  float64\n",
      " 50  secondary_cleaner.state.floatbank5_b_air    14148 non-null  float64\n",
      " 51  secondary_cleaner.state.floatbank5_b_level  14148 non-null  float64\n",
      " 52  secondary_cleaner.state.floatbank6_a_air    14147 non-null  float64\n",
      " 53  secondary_cleaner.state.floatbank6_a_level  14148 non-null  float64\n",
      "dtypes: float64(54)\n",
      "memory usage: 5.8 MB\n"
     ]
    }
   ],
   "source": [
    "train.drop(train.columns.symmetric_difference(test.columns), axis=1, inplace=True)\n",
    "train.info()"
   ]
  },
  {
   "cell_type": "markdown",
   "metadata": {},
   "source": [
    "**Заполнение пропусков**\n",
    "\n",
    "Поскольку данные индексируются датой и временем получения информации и соседние по времени параметры часто похожи, заполним пропуски методом ffil."
   ]
  },
  {
   "cell_type": "code",
   "execution_count": 45,
   "metadata": {},
   "outputs": [
    {
     "name": "stdout",
     "output_type": "stream",
     "text": [
      "0\n",
      "0\n",
      "0\n"
     ]
    }
   ],
   "source": [
    "datasets = [train, test, full]\n",
    "for dataset in datasets:\n",
    "    dataset.ffill(inplace=True)\n",
    "    print(dataset.isna().sum().sum())"
   ]
  },
  {
   "cell_type": "markdown",
   "metadata": {},
   "source": [
    "## Анализ данных\n",
    "### Концентрация металлов \n",
    "Посмотрим, как меняется концентрация металлов (Au, Ag, Pb) на различных этапах очистки."
   ]
  },
  {
   "cell_type": "code",
   "execution_count": 46,
   "metadata": {},
   "outputs": [],
   "source": [
    "df_au = (full[['rougher.input.feed_au', 'rougher.output.concentrate_au', \n",
    "    'primary_cleaner.output.concentrate_au', 'final.output.concentrate_au']].copy())\n",
    "\n",
    "df_ag = (full[['rougher.input.feed_ag', 'rougher.output.concentrate_ag', \n",
    "    'primary_cleaner.output.concentrate_ag', 'final.output.concentrate_ag']].copy())\n",
    "\n",
    "df_pb = (full[['rougher.input.feed_pb', 'rougher.output.concentrate_pb', \n",
    "    'primary_cleaner.output.concentrate_pb', 'final.output.concentrate_pb']].copy())"
   ]
  },
  {
   "cell_type": "code",
   "execution_count": 47,
   "metadata": {},
   "outputs": [],
   "source": [
    "def metals (data, title):\n",
    "    fig, ax = plt.subplots()\n",
    "    ax.set_ylabel('Кол-во значений')\n",
    "    ax.set_xlabel('Концентрация металла, %')\n",
    "    ax.set_title(title)\n",
    "    for col in data:\n",
    "        data[col].hist(alpha=.3) \n",
    "        ax.legend(['До очистки','Флотация','Первичная очистка', 'Вторичная очистка'])"
   ]
  },
  {
   "cell_type": "code",
   "execution_count": 48,
   "metadata": {
    "scrolled": false
   },
   "outputs": [
    {
     "data": {
      "image/png": "[encoded data removed]",
      "text/plain": [
       "<Figure size 432x288 with 1 Axes>"
      ]
     },
     "metadata": {
      "needs_background": "light"
     },
     "output_type": "display_data"
    }
   ],
   "source": [
    "metals(df_au, 'Золото')"
   ]
  },
  {
   "cell_type": "code",
   "execution_count": 49,
   "metadata": {},
   "outputs": [
    {
     "data": {
      "image/png": "[encoded data removed]",
      "text/plain": [
       "<Figure size 432x288 with 1 Axes>"
      ]
     },
     "metadata": {
      "needs_background": "light"
     },
     "output_type": "display_data"
    }
   ],
   "source": [
    "metals(df_ag, 'Серебро')"
   ]
  },
  {
   "cell_type": "code",
   "execution_count": 50,
   "metadata": {
    "scrolled": false
   },
   "outputs": [
    {
     "data": {
      "image/png": "[encoded data removed]",
      "text/plain": [
       "<Figure size 432x288 with 1 Axes>"
      ]
     },
     "metadata": {
      "needs_background": "light"
     },
     "output_type": "display_data"
    }
   ],
   "source": [
    "metals(df_pb, 'Свинец')"
   ]
  },
  {
   "cell_type": "markdown",
   "metadata": {},
   "source": [
    "Из всех металлов наибольшая концентрация у золота - с каждом этапом очистки она повышается.\n",
    "\n",
    "Концентрация серебра повышается при флотации, но после очисток сильно снижается.\n",
    "\n",
    "Концентрация свинца повышается при флотации и первой очистке, вторая очистка на значения не влияет.\n",
    "\n",
    "### Распределение размеров гранул сырья\n",
    "Сравним распределения размеров гранул сырья на обучающей и тестовой выборках. "
   ]
  },
  {
   "cell_type": "code",
   "execution_count": 51,
   "metadata": {},
   "outputs": [],
   "source": [
    "#from scipy.stats import ks_2samp\n",
    "#print(ks_2samp(train['rougher.input.feed_size'], test['rougher.input.feed_size']))\n",
    "#ks_2samp(train['primary_cleaner.input.feed_size'], test['primary_cleaner.input.feed_size'])"
   ]
  },
  {
   "cell_type": "code",
   "execution_count": 52,
   "metadata": {
    "scrolled": false
   },
   "outputs": [
    {
     "data": {
      "image/png": "[encoded data removed]",
      "text/plain": [
       "<Figure size 1080x360 with 1 Axes>"
      ]
     },
     "metadata": {
      "needs_background": "light"
     },
     "output_type": "display_data"
    }
   ],
   "source": [
    "plt.figure(figsize=(15, 5))\n",
    "ax = train['rougher.input.feed_size'].plot.kde(color='orange', label='train')\n",
    "ax = test['rougher.input.feed_size'].plot.kde(color='darkblue', label='test')\n",
    "plt.legend()\n",
    "plt.xlim(0, 150);"
   ]
  },
  {
   "cell_type": "code",
   "execution_count": 53,
   "metadata": {
    "scrolled": true
   },
   "outputs": [
    {
     "data": {
      "image/png": "[encoded data removed]",
      "text/plain": [
       "<Figure size 1080x360 with 1 Axes>"
      ]
     },
     "metadata": {
      "needs_background": "light"
     },
     "output_type": "display_data"
    }
   ],
   "source": [
    "plt.figure(figsize=(15, 5))\n",
    "ax = train['primary_cleaner.input.feed_size'].plot.kde(color='orange', label='train')\n",
    "ax = test['primary_cleaner.input.feed_size'].plot.kde(color='darkblue', label='test')\n",
    "plt.legend()\n",
    "plt.xlim(0, 20);"
   ]
  },
  {
   "cell_type": "markdown",
   "metadata": {},
   "source": [
    "На этапе флотации распределения гранул сырья немного отличаются, на обучающей выборке значения больше смещены вправо. На этапе первичной обработки распределения примерно идентичны.\n",
    "\n",
    "### Суммарная концентрация веществ\n",
    "Исследуем суммарную концентрацию всех веществ на разных стадиях: в сырье, в черновом и финальном концентратах."
   ]
  },
  {
   "cell_type": "code",
   "execution_count": 54,
   "metadata": {},
   "outputs": [],
   "source": [
    "feed = full[['rougher.input.feed_ag', 'rougher.input.feed_pb', 'rougher.input.feed_sol', 'rougher.input.feed_au']].sum(axis=1)\n",
    "\n",
    "conc = full[['rougher.output.concentrate_pb', 'rougher.output.concentrate_ag', \n",
    "             'rougher.output.concentrate_sol', 'rougher.output.concentrate_au']].sum(axis=1)\n",
    "\n",
    "final = full[['final.output.concentrate_pb', 'final.output.concentrate_ag', \n",
    "             'final.output.concentrate_sol', 'final.output.concentrate_au']].sum(axis=1)"
   ]
  },
  {
   "cell_type": "code",
   "execution_count": 55,
   "metadata": {
    "scrolled": false
   },
   "outputs": [
    {
     "data": {
      "image/png": "[encoded data removed]",
      "text/plain": [
       "<Figure size 1080x360 with 1 Axes>"
      ]
     },
     "metadata": {
      "needs_background": "light"
     },
     "output_type": "display_data"
    }
   ],
   "source": [
    "plt.figure(figsize=(15, 5))\n",
    "plt.hist(feed, bins=150, alpha=0.5, label='Сырье')\n",
    "plt.hist(conc, bins=150, alpha=0.5, label='Черновой концентрат')\n",
    "plt.hist(final, bins=150, alpha=0.5, label='Финальный концентрат')\n",
    "plt.legend()\n",
    "plt.show();"
   ]
  },
  {
   "cell_type": "code",
   "execution_count": 56,
   "metadata": {
    "scrolled": true
   },
   "outputs": [
    {
     "name": "stdout",
     "output_type": "stream",
     "text": [
      "Аномалии в сырье: 0\n"
     ]
    }
   ],
   "source": [
    "print('Аномалии в сырье:', (feed==0).sum())"
   ]
  },
  {
   "cell_type": "markdown",
   "metadata": {},
   "source": [
    "Видим аномалии в районе нуля, большая часть их приходится на черновой концетрат, в сырье их нет. Причины могут быть разные - не проводились измерения, сбой оборудования и тд. В обучающей выборке столбцы с аномалиями уже удалены, а в тестовой их нет. В исходных данных удалять эти значения не будем, тк для построения модели они не нужны и на ее качество, соответственно, не повлияют."
   ]
  },
  {
   "cell_type": "markdown",
   "metadata": {},
   "source": [
    "## Модель\n",
    "### sMape\n",
    "Напишем функцию для расчета метрики качества модели sMAPE и для вычисления итоговой sMAPE."
   ]
  },
  {
   "cell_type": "code",
   "execution_count": 57,
   "metadata": {},
   "outputs": [],
   "source": [
    "def smape(target, pred):\n",
    "    return 1/len(target) * np.sum(2 * np.abs(pred - target) / (np.abs(target) + np.abs(pred)))"
   ]
  },
  {
   "cell_type": "code",
   "execution_count": 58,
   "metadata": {},
   "outputs": [],
   "source": [
    "def smape_final(rougher, final):\n",
    "    return 0.25 * rougher + 0.75 * final\n",
    "\n",
    "smape_score = make_scorer(smape, greater_is_better=False)"
   ]
  },
  {
   "cell_type": "markdown",
   "metadata": {},
   "source": [
    "### Обучение и проверка модели\n",
    "Разделим обучающую и тестовую выборки на признаки и целевые признаки."
   ]
  },
  {
   "cell_type": "code",
   "execution_count": 59,
   "metadata": {},
   "outputs": [],
   "source": [
    "features_r = []\n",
    "for column in train.columns:\n",
    "    if \"rougher\" in column:\n",
    "        features_r.append(column)\n",
    "features_train_r = train[features_r] \n",
    "features_test_r = test[features_r]\n",
    "target_train_r = train['rougher.output.recovery']\n",
    "target_test_r = test['rougher.output.recovery']\n",
    "\n",
    "features_train_f = train.drop(['rougher.output.recovery', 'final.output.recovery'], axis=1)\n",
    "features_test_f = test.drop(['rougher.output.recovery', 'final.output.recovery'], axis=1)\n",
    "target_train_f = train['final.output.recovery']\n",
    "target_test_f = test['final.output.recovery']"
   ]
  },
  {
   "cell_type": "markdown",
   "metadata": {},
   "source": [
    "Стандартизируем данные."
   ]
  },
  {
   "cell_type": "code",
   "execution_count": 60,
   "metadata": {},
   "outputs": [],
   "source": [
    "pd.options.mode.chained_assignment = None\n",
    "scaler_r = StandardScaler()\n",
    "scaler_r.fit(features_train_r)\n",
    "\n",
    "features_train = scaler_r.transform(features_train_r)\n",
    "features_test = scaler_r.transform(features_test_r)\n",
    "\n",
    "scaler_f = StandardScaler()\n",
    "scaler_f.fit(features_train_f)\n",
    "\n",
    "features_train = scaler_f.transform(features_train_f)\n",
    "features_test = scaler_f.transform(features_test_f)"
   ]
  },
  {
   "cell_type": "markdown",
   "metadata": {},
   "source": [
    "**Линейная регрессия**"
   ]
  },
  {
   "cell_type": "code",
   "execution_count": 61,
   "metadata": {},
   "outputs": [
    {
     "name": "stdout",
     "output_type": "stream",
     "text": [
      "sMAPE после флотации: 4.20%.\n",
      "sMAPE после финальной обработки: 12.80%.\n",
      "Общий sMAPE: 10.65%.\n"
     ]
    }
   ],
   "source": [
    "smape_r = -cross_val_score(LinearRegression(), features_train_r, target_train_r, cv=5, scoring=smape_score)\n",
    "smape_f = -cross_val_score(LinearRegression(), features_train_f, target_train_r, cv=5, scoring=smape_score)\n",
    "final = smape_final(smape_r, smape_f)\n",
    "\n",
    "print('sMAPE после флотации: {:.2%}.'.format(smape_r.mean(), smape_r))\n",
    "print('sMAPE после финальной обработки: {:.2%}.'.format(smape_f.mean(), smape_f))\n",
    "print('Общий sMAPE: {:.2%}.'.format(final.mean(),final))"
   ]
  },
  {
   "cell_type": "markdown",
   "metadata": {},
   "source": [
    "**Дерево решений**"
   ]
  },
  {
   "cell_type": "code",
   "execution_count": 62,
   "metadata": {
    "scrolled": true
   },
   "outputs": [
    {
     "name": "stdout",
     "output_type": "stream",
     "text": [
      "sMAPE после флотации: 0.08%. Параметры {'max_depth': 10}\n",
      "sMAPE после финальной обработки: 11.58%. Параметры {'max_depth': 4}\n",
      "Общий sMAPE: 8.70%\n",
      "\n",
      "CPU times: user 23.6 s, sys: 36 ms, total: 23.6 s\n",
      "Wall time: 23.7 s\n"
     ]
    }
   ],
   "source": [
    "%%time\n",
    "params_tree = {'max_depth': range(1,11)}\n",
    "\n",
    "tree_r = GridSearchCV(DecisionTreeRegressor(random_state=state), \n",
    "                     param_grid=params_tree, scoring=smape_score, cv=5, n_jobs=-1)\n",
    "tree_r.fit(features_train_r, target_train_r)\n",
    "\n",
    "tree_f = GridSearchCV(DecisionTreeRegressor(random_state=state), \n",
    "                     param_grid=params_tree, scoring=smape_score, cv=5, n_jobs=-1)\n",
    "tree_f.fit(features_train_f, target_train_r)\n",
    "\n",
    "print('sMAPE после флотации: {:.2%}. Параметры {}'.format(-tree_r.best_score_, tree_r.best_params_))\n",
    "print('sMAPE после финальной обработки: {:.2%}. Параметры {}'.format(-tree_f.best_score_, tree_f.best_params_))\n",
    "print('Общий sMAPE: {:.2%}\\n'.format(-smape_final(tree_r.best_score_ , tree_f.best_score_)))"
   ]
  },
  {
   "cell_type": "markdown",
   "metadata": {},
   "source": [
    "**Случайный лес**"
   ]
  },
  {
   "cell_type": "code",
   "execution_count": 63,
   "metadata": {
    "scrolled": true
   },
   "outputs": [
    {
     "name": "stdout",
     "output_type": "stream",
     "text": [
      "sMAPE после флотации: 0.09%. Параметры {'max_depth': 10, 'n_estimators': 1}\n",
      "sMAPE после финальной обработки: 10.08%. Параметры {'max_depth': 5, 'n_estimators': 6}\n",
      "Общий sMAPE: 7.59%\n",
      "\n",
      "CPU times: user 10min 20s, sys: 1.74 s, total: 10min 22s\n",
      "Wall time: 10min 23s\n"
     ]
    }
   ],
   "source": [
    "%%time\n",
    "params_forest = {'n_estimators': range(1,10), 'max_depth': range(1,11)} \n",
    "#пробовала увеличить кол-во деревьев, но тогда слишком долго подбираютмся параметры\n",
    "forest_r = GridSearchCV(RandomForestRegressor(random_state=state), \n",
    "                     param_grid=params_forest, scoring=smape_score, cv=5, n_jobs=-1)\n",
    "forest_r.fit(features_train_r, target_train_r)\n",
    "\n",
    "forest_f = GridSearchCV(RandomForestRegressor(random_state=state), \n",
    "                     param_grid=params_forest, scoring=smape_score, cv=5, n_jobs=-1)\n",
    "forest_f.fit(features_train_f, target_train_f)\n",
    "\n",
    "print('sMAPE после флотации: {:.2%}. Параметры {}'.format(-forest_r.best_score_, forest_r.best_params_))\n",
    "print('sMAPE после финальной обработки: {:.2%}. Параметры {}'.format(-forest_f.best_score_, forest_f.best_params_))\n",
    "print('Общий sMAPE: {:.2%}\\n'.format(-smape_final(forest_r.best_score_ , forest_f.best_score_)))"
   ]
  },
  {
   "cell_type": "markdown",
   "metadata": {},
   "source": [
    "**Проверка лучшей модели**"
   ]
  },
  {
   "cell_type": "code",
   "execution_count": 66,
   "metadata": {},
   "outputs": [
    {
     "name": "stdout",
     "output_type": "stream",
     "text": [
      "Общий sMAPE : 7.18%\n"
     ]
    }
   ],
   "source": [
    "model_r = RandomForestRegressor(random_state=state, n_estimators=1, max_depth=10) \n",
    "model_f = RandomForestRegressor(random_state=state, n_estimators=6, max_depth=5) \n",
    "\n",
    "model_r.fit(features_train_r, target_train_r)\n",
    "model_f.fit(features_train_f, target_train_f)\n",
    "\n",
    "pred_r = model_r.predict(features_test_r)\n",
    "pred_f = model_f.predict(features_test_f)\n",
    "\n",
    "smape_r = smape(target_test_r, pred_r)\n",
    "smape_f = smape(target_test_f, pred_f)\n",
    "print('Общий sMAPE : {:.2%}'.format(smape_final(smape_r, smape_f)))"
   ]
  },
  {
   "cell_type": "markdown",
   "metadata": {},
   "source": [
    "**Проверка на адекватность**"
   ]
  },
  {
   "cell_type": "code",
   "execution_count": 65,
   "metadata": {},
   "outputs": [
    {
     "name": "stdout",
     "output_type": "stream",
     "text": [
      "Общий sMAPE : 10.29%\n"
     ]
    }
   ],
   "source": [
    "dummy_r = DummyRegressor(strategy='mean')\n",
    "dummy_f = DummyRegressor(strategy='mean')\n",
    "\n",
    "dummy_r.fit(features_train_r, target_train_r)\n",
    "dummy_f.fit(features_train_f, target_train_f)\n",
    "\n",
    "dummy_pred_r = dummy_r.predict(features_test_r)\n",
    "dummy_pred_f = dummy_f.predict(features_test_f)\n",
    "\n",
    "smape_r = smape(target_test_r, dummy_pred_r)\n",
    "smape_f = smape(target_test_f, dummy_pred_f)\n",
    "print('Общий sMAPE : {:.2%}'.format(smape_final(smape_r, smape_f)))"
   ]
  },
  {
   "cell_type": "markdown",
   "metadata": {},
   "source": [
    "## Вывод\n",
    "\n",
    "При подборе модели для предсказания коэффициента восстановления золота из золотосодержащей руды были изучены данные с параметрами добычи и очистки и построены модели линейной регрессии, дерева решений и случайного леса, оптимальные гиперпараметры для которых определены методом GridSearchCV.\n",
    "\n",
    "Наилучший результат показала модель случайного леса с sMAPE = 7,59% и следующими гиперпараметрами для этапа флотации и финальной обработки:\n",
    "\n",
    "- max_depth = 10 и 3 соответственно;\n",
    "- n_estimators = 3 и 7 соответственно.\n",
    "\n",
    "При проверке модели случайного леса на тестовой выборке метрика улучшилась до 7,18% , а при сравнении с простейшей моделью DummyClassifier оказалась на 3,11% ниже."
   ]
  }
 ],
 "metadata": {
  "ExecuteTimeLog": [
   {
    "duration": 1515,
    "start_time": "2022-12-12T12:36:07.818Z"
   },
   {
    "duration": 2545,
    "start_time": "2022-12-12T12:37:32.213Z"
   },
   {
    "duration": 33846,
    "start_time": "2022-12-12T12:38:09.134Z"
   },
   {
    "duration": 244,
    "start_time": "2022-12-12T12:39:02.279Z"
   },
   {
    "duration": 272,
    "start_time": "2022-12-12T12:41:58.170Z"
   },
   {
    "duration": 152,
    "start_time": "2022-12-12T12:42:00.357Z"
   },
   {
    "duration": 3,
    "start_time": "2022-12-12T14:04:40.954Z"
   },
   {
    "duration": 110,
    "start_time": "2022-12-12T14:04:51.894Z"
   },
   {
    "duration": 18,
    "start_time": "2022-12-12T14:05:05.071Z"
   },
   {
    "duration": 5,
    "start_time": "2022-12-12T14:05:36.726Z"
   },
   {
    "duration": 9,
    "start_time": "2022-12-12T14:05:40.585Z"
   },
   {
    "duration": 3,
    "start_time": "2022-12-12T14:06:01.118Z"
   },
   {
    "duration": 7,
    "start_time": "2022-12-12T14:06:03.549Z"
   },
   {
    "duration": 1564,
    "start_time": "2022-12-13T08:35:42.023Z"
   },
   {
    "duration": 2863,
    "start_time": "2022-12-13T08:35:43.589Z"
   },
   {
    "duration": 255,
    "start_time": "2022-12-13T08:35:46.453Z"
   },
   {
    "duration": 155,
    "start_time": "2022-12-13T08:35:46.710Z"
   },
   {
    "duration": 280,
    "start_time": "2022-12-13T08:35:46.867Z"
   },
   {
    "duration": 4,
    "start_time": "2022-12-13T08:35:47.150Z"
   },
   {
    "duration": 24,
    "start_time": "2022-12-13T08:35:47.156Z"
   },
   {
    "duration": 3,
    "start_time": "2022-12-13T08:37:15.786Z"
   },
   {
    "duration": 7,
    "start_time": "2022-12-13T08:37:16.349Z"
   },
   {
    "duration": 3,
    "start_time": "2022-12-13T08:37:32.174Z"
   },
   {
    "duration": 7,
    "start_time": "2022-12-13T08:37:32.527Z"
   },
   {
    "duration": 3,
    "start_time": "2022-12-13T08:40:38.198Z"
   },
   {
    "duration": 7,
    "start_time": "2022-12-13T08:40:38.621Z"
   },
   {
    "duration": 208,
    "start_time": "2022-12-13T08:46:52.909Z"
   },
   {
    "duration": 105,
    "start_time": "2022-12-13T09:23:32.361Z"
   },
   {
    "duration": 5,
    "start_time": "2022-12-13T09:25:04.490Z"
   },
   {
    "duration": 10,
    "start_time": "2022-12-13T10:03:42.388Z"
   },
   {
    "duration": 9,
    "start_time": "2022-12-13T10:05:07.847Z"
   },
   {
    "duration": 10,
    "start_time": "2022-12-13T10:07:02.780Z"
   },
   {
    "duration": 15,
    "start_time": "2022-12-13T10:07:13.948Z"
   },
   {
    "duration": 13,
    "start_time": "2022-12-13T10:07:21.980Z"
   },
   {
    "duration": 11,
    "start_time": "2022-12-13T10:16:28.412Z"
   },
   {
    "duration": 13,
    "start_time": "2022-12-13T10:16:31.716Z"
   },
   {
    "duration": 12,
    "start_time": "2022-12-13T10:16:37.364Z"
   },
   {
    "duration": 13,
    "start_time": "2022-12-13T10:16:44.635Z"
   },
   {
    "duration": 24,
    "start_time": "2022-12-13T11:08:33.325Z"
   },
   {
    "duration": 27,
    "start_time": "2022-12-13T11:13:34.261Z"
   },
   {
    "duration": 24,
    "start_time": "2022-12-13T11:59:07.336Z"
   },
   {
    "duration": 9,
    "start_time": "2022-12-13T11:59:29.816Z"
   },
   {
    "duration": 10,
    "start_time": "2022-12-13T11:59:42.999Z"
   },
   {
    "duration": 10,
    "start_time": "2022-12-13T11:59:49.151Z"
   },
   {
    "duration": 24,
    "start_time": "2022-12-13T12:00:30.078Z"
   },
   {
    "duration": 10,
    "start_time": "2022-12-13T12:22:27.205Z"
   },
   {
    "duration": 23,
    "start_time": "2022-12-13T12:22:38.028Z"
   },
   {
    "duration": 31,
    "start_time": "2022-12-13T12:23:10.904Z"
   },
   {
    "duration": 4,
    "start_time": "2022-12-13T12:23:16.737Z"
   },
   {
    "duration": 732,
    "start_time": "2022-12-13T12:23:16.743Z"
   },
   {
    "duration": 247,
    "start_time": "2022-12-13T12:23:17.477Z"
   },
   {
    "duration": 158,
    "start_time": "2022-12-13T12:23:17.726Z"
   },
   {
    "duration": 271,
    "start_time": "2022-12-13T12:23:17.886Z"
   },
   {
    "duration": 213,
    "start_time": "2022-12-13T12:23:18.159Z"
   },
   {
    "duration": 4,
    "start_time": "2022-12-13T12:23:18.373Z"
   },
   {
    "duration": 31,
    "start_time": "2022-12-13T12:23:18.378Z"
   },
   {
    "duration": 30,
    "start_time": "2022-12-13T12:23:18.412Z"
   },
   {
    "duration": 57,
    "start_time": "2022-12-13T12:23:18.443Z"
   },
   {
    "duration": 7,
    "start_time": "2022-12-13T12:23:18.502Z"
   },
   {
    "duration": 64,
    "start_time": "2022-12-13T12:25:11.214Z"
   },
   {
    "duration": 40,
    "start_time": "2022-12-13T12:25:25.461Z"
   },
   {
    "duration": 53,
    "start_time": "2022-12-13T12:27:12.140Z"
   },
   {
    "duration": 10,
    "start_time": "2022-12-13T12:27:18.460Z"
   },
   {
    "duration": 55,
    "start_time": "2022-12-13T12:29:26.525Z"
   },
   {
    "duration": 45,
    "start_time": "2022-12-13T12:29:30.709Z"
   },
   {
    "duration": 46,
    "start_time": "2022-12-13T12:29:46.996Z"
   },
   {
    "duration": 17,
    "start_time": "2022-12-13T12:29:55.796Z"
   },
   {
    "duration": 23,
    "start_time": "2022-12-13T12:30:22.804Z"
   },
   {
    "duration": 4,
    "start_time": "2022-12-13T12:32:04.142Z"
   },
   {
    "duration": 18,
    "start_time": "2022-12-13T12:32:18.774Z"
   },
   {
    "duration": 19,
    "start_time": "2022-12-13T12:33:09.260Z"
   },
   {
    "duration": 61,
    "start_time": "2022-12-13T12:33:37.193Z"
   },
   {
    "duration": 81,
    "start_time": "2022-12-13T12:33:49.372Z"
   },
   {
    "duration": 32,
    "start_time": "2022-12-13T12:34:24.468Z"
   },
   {
    "duration": 30,
    "start_time": "2022-12-13T12:34:51.165Z"
   },
   {
    "duration": 93,
    "start_time": "2022-12-13T12:35:08.444Z"
   },
   {
    "duration": 806,
    "start_time": "2022-12-13T12:36:03.006Z"
   },
   {
    "duration": 21,
    "start_time": "2022-12-13T12:36:46.060Z"
   },
   {
    "duration": 32,
    "start_time": "2022-12-13T12:37:14.402Z"
   },
   {
    "duration": 20,
    "start_time": "2022-12-13T13:53:20.003Z"
   },
   {
    "duration": 19,
    "start_time": "2022-12-13T13:58:27.765Z"
   },
   {
    "duration": 14,
    "start_time": "2022-12-13T14:01:06.291Z"
   },
   {
    "duration": 15,
    "start_time": "2022-12-13T14:01:22.498Z"
   },
   {
    "duration": 12,
    "start_time": "2022-12-13T14:04:01.923Z"
   },
   {
    "duration": 20,
    "start_time": "2022-12-13T14:04:34.755Z"
   },
   {
    "duration": 3,
    "start_time": "2022-12-13T14:06:07.729Z"
   },
   {
    "duration": 3,
    "start_time": "2022-12-13T14:06:09.138Z"
   },
   {
    "duration": 9,
    "start_time": "2022-12-13T14:26:26.650Z"
   },
   {
    "duration": 3,
    "start_time": "2022-12-13T14:28:20.593Z"
   },
   {
    "duration": 9,
    "start_time": "2022-12-13T14:28:44.583Z"
   },
   {
    "duration": 266,
    "start_time": "2022-12-13T14:28:53.216Z"
   },
   {
    "duration": 516,
    "start_time": "2022-12-13T14:31:20.400Z"
   },
   {
    "duration": 230,
    "start_time": "2022-12-13T14:31:34.127Z"
   },
   {
    "duration": 437,
    "start_time": "2022-12-13T14:33:11.933Z"
   },
   {
    "duration": 15,
    "start_time": "2022-12-13T14:35:32.383Z"
   },
   {
    "duration": 9,
    "start_time": "2022-12-13T14:36:57.111Z"
   },
   {
    "duration": 293,
    "start_time": "2022-12-13T14:39:36.816Z"
   },
   {
    "duration": 45,
    "start_time": "2022-12-13T14:42:05.993Z"
   },
   {
    "duration": 3,
    "start_time": "2022-12-13T14:43:49.396Z"
   },
   {
    "duration": 250,
    "start_time": "2022-12-13T14:43:52.133Z"
   },
   {
    "duration": 244,
    "start_time": "2022-12-13T14:44:37.853Z"
   },
   {
    "duration": 357,
    "start_time": "2022-12-13T14:44:38.237Z"
   },
   {
    "duration": 4,
    "start_time": "2022-12-13T14:58:09.208Z"
   },
   {
    "duration": 4,
    "start_time": "2022-12-13T14:58:37.548Z"
   },
   {
    "duration": 529,
    "start_time": "2022-12-13T14:58:38.332Z"
   },
   {
    "duration": 3,
    "start_time": "2022-12-13T14:58:44.349Z"
   },
   {
    "duration": 217,
    "start_time": "2022-12-13T14:58:45.077Z"
   },
   {
    "duration": 8,
    "start_time": "2022-12-13T15:13:20.804Z"
   },
   {
    "duration": 1524,
    "start_time": "2022-12-14T07:27:59.956Z"
   },
   {
    "duration": 1966,
    "start_time": "2022-12-14T07:28:01.482Z"
   },
   {
    "duration": 257,
    "start_time": "2022-12-14T07:28:03.450Z"
   },
   {
    "duration": 155,
    "start_time": "2022-12-14T07:28:03.708Z"
   },
   {
    "duration": 284,
    "start_time": "2022-12-14T07:28:03.866Z"
   },
   {
    "duration": 219,
    "start_time": "2022-12-14T07:28:04.152Z"
   },
   {
    "duration": 4,
    "start_time": "2022-12-14T07:28:04.373Z"
   },
   {
    "duration": 27,
    "start_time": "2022-12-14T07:28:04.378Z"
   },
   {
    "duration": 24,
    "start_time": "2022-12-14T07:28:04.407Z"
   },
   {
    "duration": 44,
    "start_time": "2022-12-14T07:28:04.433Z"
   },
   {
    "duration": 13,
    "start_time": "2022-12-14T07:28:04.478Z"
   },
   {
    "duration": 51,
    "start_time": "2022-12-14T07:28:04.492Z"
   },
   {
    "duration": 6,
    "start_time": "2022-12-14T07:28:04.545Z"
   },
   {
    "duration": 21,
    "start_time": "2022-12-14T07:28:04.553Z"
   },
   {
    "duration": 255,
    "start_time": "2022-12-14T07:28:04.575Z"
   },
   {
    "duration": 248,
    "start_time": "2022-12-14T07:28:04.831Z"
   },
   {
    "duration": 326,
    "start_time": "2022-12-14T07:28:05.081Z"
   },
   {
    "duration": 9,
    "start_time": "2022-12-14T07:28:05.408Z"
   },
   {
    "duration": 4,
    "start_time": "2022-12-14T08:03:09.547Z"
   },
   {
    "duration": 607,
    "start_time": "2022-12-14T08:03:09.553Z"
   },
   {
    "duration": 254,
    "start_time": "2022-12-14T08:03:10.162Z"
   },
   {
    "duration": 155,
    "start_time": "2022-12-14T08:03:10.418Z"
   },
   {
    "duration": 287,
    "start_time": "2022-12-14T08:03:10.575Z"
   },
   {
    "duration": 213,
    "start_time": "2022-12-14T08:03:10.864Z"
   },
   {
    "duration": 3,
    "start_time": "2022-12-14T08:03:11.079Z"
   },
   {
    "duration": 10,
    "start_time": "2022-12-14T08:03:11.084Z"
   },
   {
    "duration": 4,
    "start_time": "2022-12-14T08:03:11.096Z"
   },
   {
    "duration": 7,
    "start_time": "2022-12-14T08:03:11.102Z"
   },
   {
    "duration": 24,
    "start_time": "2022-12-14T08:03:11.110Z"
   },
   {
    "duration": 33,
    "start_time": "2022-12-14T08:03:11.135Z"
   },
   {
    "duration": 6,
    "start_time": "2022-12-14T08:03:11.170Z"
   },
   {
    "duration": 9,
    "start_time": "2022-12-14T08:03:11.178Z"
   },
   {
    "duration": 238,
    "start_time": "2022-12-14T08:03:11.188Z"
   },
   {
    "duration": 262,
    "start_time": "2022-12-14T08:03:11.428Z"
   },
   {
    "duration": 271,
    "start_time": "2022-12-14T08:03:11.691Z"
   },
   {
    "duration": 9,
    "start_time": "2022-12-14T08:03:11.963Z"
   },
   {
    "duration": 2,
    "start_time": "2022-12-14T08:27:46.149Z"
   },
   {
    "duration": 102,
    "start_time": "2022-12-14T08:29:51.053Z"
   },
   {
    "duration": 8,
    "start_time": "2022-12-14T08:30:07.701Z"
   },
   {
    "duration": 9,
    "start_time": "2022-12-14T08:30:56.373Z"
   },
   {
    "duration": 12,
    "start_time": "2022-12-14T08:31:07.006Z"
   },
   {
    "duration": 12,
    "start_time": "2022-12-14T08:31:10.029Z"
   },
   {
    "duration": 9,
    "start_time": "2022-12-14T08:31:11.802Z"
   },
   {
    "duration": 2,
    "start_time": "2022-12-14T08:31:27.933Z"
   },
   {
    "duration": 515,
    "start_time": "2022-12-14T08:36:14.245Z"
   },
   {
    "duration": 502,
    "start_time": "2022-12-14T08:36:26.253Z"
   },
   {
    "duration": 9,
    "start_time": "2022-12-14T08:37:00.637Z"
   },
   {
    "duration": 15,
    "start_time": "2022-12-14T08:37:10.533Z"
   },
   {
    "duration": 15,
    "start_time": "2022-12-14T08:37:20.157Z"
   },
   {
    "duration": 2,
    "start_time": "2022-12-14T08:37:27.366Z"
   },
   {
    "duration": 776,
    "start_time": "2022-12-14T08:39:09.124Z"
   },
   {
    "duration": 420,
    "start_time": "2022-12-14T08:39:20.613Z"
   },
   {
    "duration": 1148,
    "start_time": "2022-12-14T08:39:28.532Z"
   },
   {
    "duration": 407,
    "start_time": "2022-12-14T08:39:39.296Z"
   },
   {
    "duration": 428,
    "start_time": "2022-12-14T08:39:55.836Z"
   },
   {
    "duration": 10,
    "start_time": "2022-12-14T08:41:07.764Z"
   },
   {
    "duration": 71,
    "start_time": "2022-12-14T08:42:06.324Z"
   },
   {
    "duration": 754,
    "start_time": "2022-12-14T08:42:15.505Z"
   },
   {
    "duration": 258,
    "start_time": "2022-12-14T08:44:58.340Z"
   },
   {
    "duration": 188,
    "start_time": "2022-12-14T08:45:41.096Z"
   },
   {
    "duration": 1400,
    "start_time": "2022-12-14T08:45:49.547Z"
   },
   {
    "duration": 703,
    "start_time": "2022-12-14T08:45:56.628Z"
   },
   {
    "duration": 871,
    "start_time": "2022-12-14T08:46:23.108Z"
   },
   {
    "duration": 428,
    "start_time": "2022-12-14T08:46:43.268Z"
   },
   {
    "duration": 1171,
    "start_time": "2022-12-14T08:46:50.651Z"
   },
   {
    "duration": 553,
    "start_time": "2022-12-14T08:47:37.339Z"
   },
   {
    "duration": 579,
    "start_time": "2022-12-14T08:47:47.506Z"
   },
   {
    "duration": 547,
    "start_time": "2022-12-14T08:47:59.097Z"
   },
   {
    "duration": 576,
    "start_time": "2022-12-14T08:48:26.112Z"
   },
   {
    "duration": 535,
    "start_time": "2022-12-14T08:48:32.348Z"
   },
   {
    "duration": 566,
    "start_time": "2022-12-14T08:48:37.207Z"
   },
   {
    "duration": 562,
    "start_time": "2022-12-14T08:48:43.323Z"
   },
   {
    "duration": 809,
    "start_time": "2022-12-14T08:49:24.705Z"
   },
   {
    "duration": 674,
    "start_time": "2022-12-14T08:49:41.532Z"
   },
   {
    "duration": 1038,
    "start_time": "2022-12-14T08:51:58.068Z"
   },
   {
    "duration": 1122,
    "start_time": "2022-12-14T08:52:19.013Z"
   },
   {
    "duration": 1131,
    "start_time": "2022-12-14T08:53:23.799Z"
   },
   {
    "duration": 1066,
    "start_time": "2022-12-14T08:53:47.035Z"
   },
   {
    "duration": 19,
    "start_time": "2022-12-14T08:55:19.172Z"
   },
   {
    "duration": 1079,
    "start_time": "2022-12-14T08:55:27.810Z"
   },
   {
    "duration": 618,
    "start_time": "2022-12-14T08:56:15.131Z"
   },
   {
    "duration": 4,
    "start_time": "2022-12-14T08:56:35.766Z"
   },
   {
    "duration": 646,
    "start_time": "2022-12-14T08:56:35.771Z"
   },
   {
    "duration": 245,
    "start_time": "2022-12-14T08:56:36.418Z"
   },
   {
    "duration": 152,
    "start_time": "2022-12-14T08:56:36.666Z"
   },
   {
    "duration": 261,
    "start_time": "2022-12-14T08:56:36.820Z"
   },
   {
    "duration": 203,
    "start_time": "2022-12-14T08:56:37.082Z"
   },
   {
    "duration": 4,
    "start_time": "2022-12-14T08:56:37.286Z"
   },
   {
    "duration": 9,
    "start_time": "2022-12-14T08:56:37.291Z"
   },
   {
    "duration": 5,
    "start_time": "2022-12-14T08:56:37.302Z"
   },
   {
    "duration": 5,
    "start_time": "2022-12-14T08:56:37.309Z"
   },
   {
    "duration": 12,
    "start_time": "2022-12-14T08:56:37.315Z"
   },
   {
    "duration": 29,
    "start_time": "2022-12-14T08:56:37.328Z"
   },
   {
    "duration": 6,
    "start_time": "2022-12-14T08:56:37.358Z"
   },
   {
    "duration": 9,
    "start_time": "2022-12-14T08:56:37.366Z"
   },
   {
    "duration": 227,
    "start_time": "2022-12-14T08:56:37.377Z"
   },
   {
    "duration": 231,
    "start_time": "2022-12-14T08:56:37.606Z"
   },
   {
    "duration": 246,
    "start_time": "2022-12-14T08:56:37.840Z"
   },
   {
    "duration": 2,
    "start_time": "2022-12-14T08:56:38.088Z"
   },
   {
    "duration": 540,
    "start_time": "2022-12-14T08:56:41.059Z"
   },
   {
    "duration": 742,
    "start_time": "2022-12-14T08:57:02.704Z"
   },
   {
    "duration": 543,
    "start_time": "2022-12-14T08:57:19.867Z"
   },
   {
    "duration": 559,
    "start_time": "2022-12-14T08:57:28.322Z"
   },
   {
    "duration": 578,
    "start_time": "2022-12-14T08:57:33.221Z"
   },
   {
    "duration": 577,
    "start_time": "2022-12-14T08:57:40.635Z"
   },
   {
    "duration": 3,
    "start_time": "2022-12-14T09:11:03.269Z"
   },
   {
    "duration": 623,
    "start_time": "2022-12-14T09:11:03.274Z"
   },
   {
    "duration": 248,
    "start_time": "2022-12-14T09:11:03.899Z"
   },
   {
    "duration": 164,
    "start_time": "2022-12-14T09:11:04.149Z"
   },
   {
    "duration": 256,
    "start_time": "2022-12-14T09:11:04.315Z"
   },
   {
    "duration": 206,
    "start_time": "2022-12-14T09:11:04.573Z"
   },
   {
    "duration": 3,
    "start_time": "2022-12-14T09:11:04.781Z"
   },
   {
    "duration": 18,
    "start_time": "2022-12-14T09:11:04.786Z"
   },
   {
    "duration": 5,
    "start_time": "2022-12-14T09:11:04.806Z"
   },
   {
    "duration": 23,
    "start_time": "2022-12-14T09:11:04.812Z"
   },
   {
    "duration": 5,
    "start_time": "2022-12-14T09:11:04.837Z"
   },
   {
    "duration": 37,
    "start_time": "2022-12-14T09:11:04.843Z"
   },
   {
    "duration": 6,
    "start_time": "2022-12-14T09:11:04.881Z"
   },
   {
    "duration": 23,
    "start_time": "2022-12-14T09:11:04.888Z"
   },
   {
    "duration": 240,
    "start_time": "2022-12-14T09:11:04.913Z"
   },
   {
    "duration": 248,
    "start_time": "2022-12-14T09:11:05.155Z"
   },
   {
    "duration": 293,
    "start_time": "2022-12-14T09:11:05.404Z"
   },
   {
    "duration": 2,
    "start_time": "2022-12-14T09:11:05.699Z"
   },
   {
    "duration": 604,
    "start_time": "2022-12-14T09:11:05.702Z"
   },
   {
    "duration": 608,
    "start_time": "2022-12-14T09:11:06.308Z"
   },
   {
    "duration": 529,
    "start_time": "2022-12-14T09:12:46.275Z"
   },
   {
    "duration": 3,
    "start_time": "2022-12-14T09:12:49.296Z"
   },
   {
    "duration": 617,
    "start_time": "2022-12-14T09:12:49.301Z"
   },
   {
    "duration": 263,
    "start_time": "2022-12-14T09:12:49.920Z"
   },
   {
    "duration": 149,
    "start_time": "2022-12-14T09:12:50.185Z"
   },
   {
    "duration": 268,
    "start_time": "2022-12-14T09:12:50.336Z"
   },
   {
    "duration": 209,
    "start_time": "2022-12-14T09:12:50.606Z"
   },
   {
    "duration": 11,
    "start_time": "2022-12-14T09:12:50.816Z"
   },
   {
    "duration": 6,
    "start_time": "2022-12-14T09:12:50.829Z"
   },
   {
    "duration": 5,
    "start_time": "2022-12-14T09:12:50.837Z"
   },
   {
    "duration": 7,
    "start_time": "2022-12-14T09:12:50.844Z"
   },
   {
    "duration": 6,
    "start_time": "2022-12-14T09:12:50.852Z"
   },
   {
    "duration": 28,
    "start_time": "2022-12-14T09:12:50.859Z"
   },
   {
    "duration": 7,
    "start_time": "2022-12-14T09:12:50.889Z"
   },
   {
    "duration": 29,
    "start_time": "2022-12-14T09:12:50.898Z"
   },
   {
    "duration": 218,
    "start_time": "2022-12-14T09:12:50.929Z"
   },
   {
    "duration": 224,
    "start_time": "2022-12-14T09:12:51.148Z"
   },
   {
    "duration": 254,
    "start_time": "2022-12-14T09:12:51.373Z"
   },
   {
    "duration": 2,
    "start_time": "2022-12-14T09:12:51.629Z"
   },
   {
    "duration": 783,
    "start_time": "2022-12-14T09:12:51.633Z"
   },
   {
    "duration": 592,
    "start_time": "2022-12-14T09:12:52.418Z"
   },
   {
    "duration": 72,
    "start_time": "2022-12-14T09:13:25.813Z"
   },
   {
    "duration": 172,
    "start_time": "2022-12-14T09:13:31.057Z"
   },
   {
    "duration": 637,
    "start_time": "2022-12-14T09:13:43.521Z"
   },
   {
    "duration": 602,
    "start_time": "2022-12-14T09:17:59.624Z"
   },
   {
    "duration": 626,
    "start_time": "2022-12-14T09:18:05.513Z"
   },
   {
    "duration": 4,
    "start_time": "2022-12-14T09:18:08.148Z"
   },
   {
    "duration": 589,
    "start_time": "2022-12-14T09:18:08.154Z"
   },
   {
    "duration": 241,
    "start_time": "2022-12-14T09:18:08.745Z"
   },
   {
    "duration": 151,
    "start_time": "2022-12-14T09:18:08.988Z"
   },
   {
    "duration": 256,
    "start_time": "2022-12-14T09:18:09.141Z"
   },
   {
    "duration": 198,
    "start_time": "2022-12-14T09:18:09.398Z"
   },
   {
    "duration": 3,
    "start_time": "2022-12-14T09:18:09.597Z"
   },
   {
    "duration": 21,
    "start_time": "2022-12-14T09:18:09.602Z"
   },
   {
    "duration": 36,
    "start_time": "2022-12-14T09:18:09.625Z"
   },
   {
    "duration": 34,
    "start_time": "2022-12-14T09:18:09.662Z"
   },
   {
    "duration": 16,
    "start_time": "2022-12-14T09:18:09.697Z"
   },
   {
    "duration": 51,
    "start_time": "2022-12-14T09:18:09.715Z"
   },
   {
    "duration": 16,
    "start_time": "2022-12-14T09:18:09.768Z"
   },
   {
    "duration": 42,
    "start_time": "2022-12-14T09:18:09.785Z"
   },
   {
    "duration": 248,
    "start_time": "2022-12-14T09:18:09.829Z"
   },
   {
    "duration": 227,
    "start_time": "2022-12-14T09:18:10.079Z"
   },
   {
    "duration": 241,
    "start_time": "2022-12-14T09:18:10.308Z"
   },
   {
    "duration": 3,
    "start_time": "2022-12-14T09:18:10.551Z"
   },
   {
    "duration": 603,
    "start_time": "2022-12-14T09:18:10.556Z"
   },
   {
    "duration": 588,
    "start_time": "2022-12-14T09:18:11.160Z"
   },
   {
    "duration": 566,
    "start_time": "2022-12-14T09:18:20.481Z"
   },
   {
    "duration": 548,
    "start_time": "2022-12-14T09:18:24.042Z"
   },
   {
    "duration": 569,
    "start_time": "2022-12-14T09:20:12.537Z"
   },
   {
    "duration": 593,
    "start_time": "2022-12-14T09:21:01.425Z"
   },
   {
    "duration": 2,
    "start_time": "2022-12-14T09:23:36.753Z"
   },
   {
    "duration": 3,
    "start_time": "2022-12-14T09:23:43.184Z"
   },
   {
    "duration": 229,
    "start_time": "2022-12-14T09:23:47.016Z"
   },
   {
    "duration": 3,
    "start_time": "2022-12-14T09:23:52.521Z"
   },
   {
    "duration": 368,
    "start_time": "2022-12-14T09:23:53.400Z"
   },
   {
    "duration": 223,
    "start_time": "2022-12-14T09:23:55.752Z"
   },
   {
    "duration": 228,
    "start_time": "2022-12-14T09:23:56.673Z"
   },
   {
    "duration": 571,
    "start_time": "2022-12-14T09:24:12.032Z"
   },
   {
    "duration": 597,
    "start_time": "2022-12-14T09:24:13.408Z"
   },
   {
    "duration": 6,
    "start_time": "2022-12-14T09:31:05.560Z"
   },
   {
    "duration": 7,
    "start_time": "2022-12-14T09:33:14.816Z"
   },
   {
    "duration": 11,
    "start_time": "2022-12-14T09:34:09.520Z"
   },
   {
    "duration": 298,
    "start_time": "2022-12-14T09:35:19.400Z"
   },
   {
    "duration": 6,
    "start_time": "2022-12-14T09:36:01.048Z"
   },
   {
    "duration": 848,
    "start_time": "2022-12-14T09:36:01.471Z"
   },
   {
    "duration": 8,
    "start_time": "2022-12-14T09:37:53.863Z"
   },
   {
    "duration": 1773,
    "start_time": "2022-12-14T09:37:54.288Z"
   },
   {
    "duration": 479,
    "start_time": "2022-12-14T09:38:17.016Z"
   },
   {
    "duration": 549,
    "start_time": "2022-12-14T09:38:31.335Z"
   },
   {
    "duration": 8,
    "start_time": "2022-12-14T09:38:56.783Z"
   },
   {
    "duration": 745,
    "start_time": "2022-12-14T09:38:57.343Z"
   },
   {
    "duration": 1690,
    "start_time": "2022-12-14T09:39:01.391Z"
   },
   {
    "duration": 552,
    "start_time": "2022-12-14T09:39:10.079Z"
   },
   {
    "duration": 607,
    "start_time": "2022-12-14T09:39:21.967Z"
   },
   {
    "duration": 788,
    "start_time": "2022-12-14T09:39:31.879Z"
   },
   {
    "duration": 1026,
    "start_time": "2022-12-14T09:40:26.087Z"
   },
   {
    "duration": 816,
    "start_time": "2022-12-14T09:41:30.727Z"
   },
   {
    "duration": 16,
    "start_time": "2022-12-14T09:56:07.005Z"
   },
   {
    "duration": 6,
    "start_time": "2022-12-14T11:34:51.567Z"
   },
   {
    "duration": 681,
    "start_time": "2022-12-14T11:34:51.576Z"
   },
   {
    "duration": 259,
    "start_time": "2022-12-14T11:34:52.259Z"
   },
   {
    "duration": 161,
    "start_time": "2022-12-14T11:34:52.520Z"
   },
   {
    "duration": 293,
    "start_time": "2022-12-14T11:34:52.683Z"
   },
   {
    "duration": 212,
    "start_time": "2022-12-14T11:34:52.978Z"
   },
   {
    "duration": 3,
    "start_time": "2022-12-14T11:34:53.192Z"
   },
   {
    "duration": 35,
    "start_time": "2022-12-14T11:34:53.196Z"
   },
   {
    "duration": 35,
    "start_time": "2022-12-14T11:34:53.233Z"
   },
   {
    "duration": 31,
    "start_time": "2022-12-14T11:34:53.269Z"
   },
   {
    "duration": 23,
    "start_time": "2022-12-14T11:34:53.302Z"
   },
   {
    "duration": 48,
    "start_time": "2022-12-14T11:34:53.327Z"
   },
   {
    "duration": 10,
    "start_time": "2022-12-14T11:34:53.378Z"
   },
   {
    "duration": 20,
    "start_time": "2022-12-14T11:34:53.390Z"
   },
   {
    "duration": 265,
    "start_time": "2022-12-14T11:34:53.412Z"
   },
   {
    "duration": 260,
    "start_time": "2022-12-14T11:34:53.679Z"
   },
   {
    "duration": 255,
    "start_time": "2022-12-14T11:34:53.941Z"
   },
   {
    "duration": 2,
    "start_time": "2022-12-14T11:34:54.198Z"
   },
   {
    "duration": 832,
    "start_time": "2022-12-14T11:34:54.201Z"
   },
   {
    "duration": 631,
    "start_time": "2022-12-14T11:34:55.035Z"
   },
   {
    "duration": 10,
    "start_time": "2022-12-14T11:34:55.668Z"
   },
   {
    "duration": 861,
    "start_time": "2022-12-14T11:34:55.680Z"
   },
   {
    "duration": 14,
    "start_time": "2022-12-14T12:02:04.961Z"
   },
   {
    "duration": 10,
    "start_time": "2022-12-14T12:02:54.258Z"
   },
   {
    "duration": 8,
    "start_time": "2022-12-14T12:04:14.427Z"
   },
   {
    "duration": 1227,
    "start_time": "2022-12-14T12:05:45.896Z"
   },
   {
    "duration": 5,
    "start_time": "2022-12-14T12:06:11.545Z"
   },
   {
    "duration": 28,
    "start_time": "2022-12-14T12:15:40.289Z"
   },
   {
    "duration": 23,
    "start_time": "2022-12-14T12:15:54.543Z"
   },
   {
    "duration": 30,
    "start_time": "2022-12-14T12:16:34.016Z"
   },
   {
    "duration": 15,
    "start_time": "2022-12-14T12:16:39.975Z"
   },
   {
    "duration": 4,
    "start_time": "2022-12-14T12:16:49.211Z"
   },
   {
    "duration": 623,
    "start_time": "2022-12-14T12:16:49.217Z"
   },
   {
    "duration": 252,
    "start_time": "2022-12-14T12:16:49.841Z"
   },
   {
    "duration": 154,
    "start_time": "2022-12-14T12:16:50.094Z"
   },
   {
    "duration": 261,
    "start_time": "2022-12-14T12:16:50.250Z"
   },
   {
    "duration": 200,
    "start_time": "2022-12-14T12:16:50.513Z"
   },
   {
    "duration": 4,
    "start_time": "2022-12-14T12:16:50.714Z"
   },
   {
    "duration": 28,
    "start_time": "2022-12-14T12:16:50.726Z"
   },
   {
    "duration": 24,
    "start_time": "2022-12-14T12:16:50.756Z"
   },
   {
    "duration": 30,
    "start_time": "2022-12-14T12:16:54.240Z"
   },
   {
    "duration": 24,
    "start_time": "2022-12-14T12:17:15.633Z"
   },
   {
    "duration": 14,
    "start_time": "2022-12-14T12:17:29.584Z"
   },
   {
    "duration": 4,
    "start_time": "2022-12-14T12:17:34.938Z"
   },
   {
    "duration": 655,
    "start_time": "2022-12-14T12:17:34.944Z"
   },
   {
    "duration": 299,
    "start_time": "2022-12-14T12:17:35.600Z"
   },
   {
    "duration": 149,
    "start_time": "2022-12-14T12:17:35.901Z"
   },
   {
    "duration": 266,
    "start_time": "2022-12-14T12:17:36.052Z"
   },
   {
    "duration": 202,
    "start_time": "2022-12-14T12:17:36.320Z"
   },
   {
    "duration": 265,
    "start_time": "2022-12-14T12:17:36.526Z"
   },
   {
    "duration": 9,
    "start_time": "2022-12-14T12:17:36.792Z"
   },
   {
    "duration": 5,
    "start_time": "2022-12-14T12:17:36.804Z"
   },
   {
    "duration": 34,
    "start_time": "2022-12-14T12:17:39.696Z"
   },
   {
    "duration": 77,
    "start_time": "2022-12-14T12:18:34.583Z"
   },
   {
    "duration": 2,
    "start_time": "2022-12-14T12:18:47.007Z"
   },
   {
    "duration": 5,
    "start_time": "2022-12-14T12:18:50.089Z"
   },
   {
    "duration": 642,
    "start_time": "2022-12-14T12:18:50.095Z"
   },
   {
    "duration": 258,
    "start_time": "2022-12-14T12:18:50.739Z"
   },
   {
    "duration": 155,
    "start_time": "2022-12-14T12:18:50.999Z"
   },
   {
    "duration": 279,
    "start_time": "2022-12-14T12:18:51.156Z"
   },
   {
    "duration": 233,
    "start_time": "2022-12-14T12:18:51.436Z"
   },
   {
    "duration": 4,
    "start_time": "2022-12-14T12:18:51.671Z"
   },
   {
    "duration": 10,
    "start_time": "2022-12-14T12:18:51.677Z"
   },
   {
    "duration": 6,
    "start_time": "2022-12-14T12:18:51.689Z"
   },
   {
    "duration": 5,
    "start_time": "2022-12-14T12:18:51.696Z"
   },
   {
    "duration": 28,
    "start_time": "2022-12-14T12:18:53.888Z"
   },
   {
    "duration": 29,
    "start_time": "2022-12-14T12:19:14.104Z"
   },
   {
    "duration": 7,
    "start_time": "2022-12-14T12:20:12.999Z"
   },
   {
    "duration": 14,
    "start_time": "2022-12-14T12:20:32.639Z"
   },
   {
    "duration": 5,
    "start_time": "2022-12-14T12:20:58.904Z"
   },
   {
    "duration": 5,
    "start_time": "2022-12-14T12:22:30.041Z"
   },
   {
    "duration": 636,
    "start_time": "2022-12-14T12:22:30.048Z"
   },
   {
    "duration": 245,
    "start_time": "2022-12-14T12:22:30.686Z"
   },
   {
    "duration": 152,
    "start_time": "2022-12-14T12:22:30.933Z"
   },
   {
    "duration": 266,
    "start_time": "2022-12-14T12:22:31.086Z"
   },
   {
    "duration": 209,
    "start_time": "2022-12-14T12:22:31.353Z"
   },
   {
    "duration": 4,
    "start_time": "2022-12-14T12:22:31.563Z"
   },
   {
    "duration": 16,
    "start_time": "2022-12-14T12:22:31.569Z"
   },
   {
    "duration": 12,
    "start_time": "2022-12-14T12:22:31.586Z"
   },
   {
    "duration": 56,
    "start_time": "2022-12-14T12:22:31.601Z"
   },
   {
    "duration": 16,
    "start_time": "2022-12-14T12:22:31.658Z"
   },
   {
    "duration": 20,
    "start_time": "2022-12-14T12:22:31.676Z"
   },
   {
    "duration": 7,
    "start_time": "2022-12-14T12:22:31.697Z"
   },
   {
    "duration": 27,
    "start_time": "2022-12-14T12:22:31.705Z"
   },
   {
    "duration": 227,
    "start_time": "2022-12-14T12:22:31.733Z"
   },
   {
    "duration": 261,
    "start_time": "2022-12-14T12:22:31.961Z"
   },
   {
    "duration": 243,
    "start_time": "2022-12-14T12:22:32.227Z"
   },
   {
    "duration": 2,
    "start_time": "2022-12-14T12:22:32.472Z"
   },
   {
    "duration": 822,
    "start_time": "2022-12-14T12:22:32.476Z"
   },
   {
    "duration": 628,
    "start_time": "2022-12-14T12:22:33.300Z"
   },
   {
    "duration": 9,
    "start_time": "2022-12-14T12:22:33.930Z"
   },
   {
    "duration": 818,
    "start_time": "2022-12-14T12:22:33.940Z"
   },
   {
    "duration": 4,
    "start_time": "2022-12-14T12:22:34.759Z"
   },
   {
    "duration": 4,
    "start_time": "2022-12-14T13:08:44.322Z"
   },
   {
    "duration": 74,
    "start_time": "2022-12-14T13:11:01.282Z"
   },
   {
    "duration": 3,
    "start_time": "2022-12-14T13:11:22.026Z"
   },
   {
    "duration": 10,
    "start_time": "2022-12-14T13:42:59.247Z"
   },
   {
    "duration": 5,
    "start_time": "2022-12-14T13:43:06.580Z"
   },
   {
    "duration": 13,
    "start_time": "2022-12-14T13:43:44.790Z"
   },
   {
    "duration": 12,
    "start_time": "2022-12-14T13:44:13.830Z"
   },
   {
    "duration": 7,
    "start_time": "2022-12-14T13:44:17.631Z"
   },
   {
    "duration": 8,
    "start_time": "2022-12-14T13:44:29.391Z"
   },
   {
    "duration": 5,
    "start_time": "2022-12-14T13:46:35.198Z"
   },
   {
    "duration": 10,
    "start_time": "2022-12-14T14:04:22.732Z"
   },
   {
    "duration": 7,
    "start_time": "2022-12-14T14:04:27.212Z"
   },
   {
    "duration": 9,
    "start_time": "2022-12-14T14:20:20.524Z"
   },
   {
    "duration": 4,
    "start_time": "2022-12-14T14:20:47.645Z"
   },
   {
    "duration": 6,
    "start_time": "2022-12-14T14:20:52.267Z"
   },
   {
    "duration": 17,
    "start_time": "2022-12-14T14:20:57.716Z"
   },
   {
    "duration": 4,
    "start_time": "2022-12-14T14:33:46.019Z"
   },
   {
    "duration": 4,
    "start_time": "2022-12-14T14:34:01.037Z"
   },
   {
    "duration": 626,
    "start_time": "2022-12-14T14:34:01.043Z"
   },
   {
    "duration": 240,
    "start_time": "2022-12-14T14:34:01.670Z"
   },
   {
    "duration": 150,
    "start_time": "2022-12-14T14:34:01.912Z"
   },
   {
    "duration": 263,
    "start_time": "2022-12-14T14:34:02.064Z"
   },
   {
    "duration": 204,
    "start_time": "2022-12-14T14:34:02.329Z"
   },
   {
    "duration": 4,
    "start_time": "2022-12-14T14:34:02.534Z"
   },
   {
    "duration": 39,
    "start_time": "2022-12-14T14:34:02.540Z"
   },
   {
    "duration": 27,
    "start_time": "2022-12-14T14:34:02.580Z"
   },
   {
    "duration": 39,
    "start_time": "2022-12-14T14:34:02.608Z"
   },
   {
    "duration": 13,
    "start_time": "2022-12-14T14:34:02.649Z"
   },
   {
    "duration": 25,
    "start_time": "2022-12-14T14:34:02.664Z"
   },
   {
    "duration": 13,
    "start_time": "2022-12-14T14:34:02.691Z"
   },
   {
    "duration": 30,
    "start_time": "2022-12-14T14:34:02.706Z"
   },
   {
    "duration": 243,
    "start_time": "2022-12-14T14:34:02.737Z"
   },
   {
    "duration": 223,
    "start_time": "2022-12-14T14:34:02.982Z"
   },
   {
    "duration": 240,
    "start_time": "2022-12-14T14:34:03.208Z"
   },
   {
    "duration": 3,
    "start_time": "2022-12-14T14:34:03.450Z"
   },
   {
    "duration": 555,
    "start_time": "2022-12-14T14:34:03.455Z"
   },
   {
    "duration": 600,
    "start_time": "2022-12-14T14:34:04.012Z"
   },
   {
    "duration": 7,
    "start_time": "2022-12-14T14:34:04.614Z"
   },
   {
    "duration": 1076,
    "start_time": "2022-12-14T14:34:04.626Z"
   },
   {
    "duration": 4,
    "start_time": "2022-12-14T14:34:05.703Z"
   },
   {
    "duration": 19,
    "start_time": "2022-12-14T14:34:05.709Z"
   },
   {
    "duration": 29,
    "start_time": "2022-12-14T14:34:05.729Z"
   },
   {
    "duration": 25,
    "start_time": "2022-12-14T14:34:05.759Z"
   },
   {
    "duration": 62,
    "start_time": "2022-12-14T14:34:05.786Z"
   },
   {
    "duration": 12,
    "start_time": "2022-12-14T14:57:23.170Z"
   },
   {
    "duration": 1271,
    "start_time": "2022-12-14T15:12:55.878Z"
   },
   {
    "duration": 641,
    "start_time": "2022-12-14T15:12:57.151Z"
   },
   {
    "duration": 284,
    "start_time": "2022-12-14T15:12:57.794Z"
   },
   {
    "duration": 182,
    "start_time": "2022-12-14T15:12:58.080Z"
   },
   {
    "duration": 284,
    "start_time": "2022-12-14T15:12:58.265Z"
   },
   {
    "duration": 214,
    "start_time": "2022-12-14T15:12:58.551Z"
   },
   {
    "duration": 3,
    "start_time": "2022-12-14T15:12:58.767Z"
   },
   {
    "duration": 121,
    "start_time": "2022-12-14T15:12:58.772Z"
   },
   {
    "duration": 0,
    "start_time": "2022-12-14T15:12:58.896Z"
   },
   {
    "duration": 0,
    "start_time": "2022-12-14T15:12:58.897Z"
   },
   {
    "duration": 0,
    "start_time": "2022-12-14T15:12:58.898Z"
   },
   {
    "duration": 0,
    "start_time": "2022-12-14T15:12:58.899Z"
   },
   {
    "duration": 0,
    "start_time": "2022-12-14T15:12:58.900Z"
   },
   {
    "duration": 0,
    "start_time": "2022-12-14T15:12:58.901Z"
   },
   {
    "duration": 0,
    "start_time": "2022-12-14T15:12:58.902Z"
   },
   {
    "duration": 0,
    "start_time": "2022-12-14T15:12:58.903Z"
   },
   {
    "duration": 0,
    "start_time": "2022-12-14T15:12:58.904Z"
   },
   {
    "duration": 0,
    "start_time": "2022-12-14T15:12:58.905Z"
   },
   {
    "duration": 0,
    "start_time": "2022-12-14T15:12:58.926Z"
   },
   {
    "duration": 0,
    "start_time": "2022-12-14T15:12:58.927Z"
   },
   {
    "duration": 0,
    "start_time": "2022-12-14T15:12:58.928Z"
   },
   {
    "duration": 0,
    "start_time": "2022-12-14T15:12:58.930Z"
   },
   {
    "duration": 0,
    "start_time": "2022-12-14T15:12:58.930Z"
   },
   {
    "duration": 0,
    "start_time": "2022-12-14T15:12:58.931Z"
   },
   {
    "duration": 0,
    "start_time": "2022-12-14T15:12:58.932Z"
   },
   {
    "duration": 0,
    "start_time": "2022-12-14T15:12:58.933Z"
   },
   {
    "duration": 0,
    "start_time": "2022-12-14T15:12:58.934Z"
   },
   {
    "duration": 4,
    "start_time": "2022-12-14T15:13:46.736Z"
   },
   {
    "duration": 1314,
    "start_time": "2022-12-14T15:13:56.347Z"
   },
   {
    "duration": 650,
    "start_time": "2022-12-14T15:13:57.663Z"
   },
   {
    "duration": 259,
    "start_time": "2022-12-14T15:13:58.314Z"
   },
   {
    "duration": 154,
    "start_time": "2022-12-14T15:13:58.576Z"
   },
   {
    "duration": 273,
    "start_time": "2022-12-14T15:13:58.731Z"
   },
   {
    "duration": 215,
    "start_time": "2022-12-14T15:13:59.006Z"
   },
   {
    "duration": 4,
    "start_time": "2022-12-14T15:13:59.225Z"
   },
   {
    "duration": 11,
    "start_time": "2022-12-14T15:13:59.231Z"
   },
   {
    "duration": 12,
    "start_time": "2022-12-14T15:13:59.243Z"
   },
   {
    "duration": 36,
    "start_time": "2022-12-14T15:13:59.257Z"
   },
   {
    "duration": 14,
    "start_time": "2022-12-14T15:13:59.295Z"
   },
   {
    "duration": 27,
    "start_time": "2022-12-14T15:13:59.310Z"
   },
   {
    "duration": 5,
    "start_time": "2022-12-14T15:13:59.339Z"
   },
   {
    "duration": 9,
    "start_time": "2022-12-14T15:13:59.346Z"
   },
   {
    "duration": 249,
    "start_time": "2022-12-14T15:13:59.357Z"
   },
   {
    "duration": 273,
    "start_time": "2022-12-14T15:13:59.608Z"
   },
   {
    "duration": 269,
    "start_time": "2022-12-14T15:13:59.883Z"
   },
   {
    "duration": 3,
    "start_time": "2022-12-14T15:14:00.154Z"
   },
   {
    "duration": 659,
    "start_time": "2022-12-14T15:14:00.159Z"
   },
   {
    "duration": 626,
    "start_time": "2022-12-14T15:14:00.820Z"
   },
   {
    "duration": 8,
    "start_time": "2022-12-14T15:14:01.448Z"
   },
   {
    "duration": 840,
    "start_time": "2022-12-14T15:14:01.458Z"
   },
   {
    "duration": 5,
    "start_time": "2022-12-14T15:14:02.299Z"
   },
   {
    "duration": 31,
    "start_time": "2022-12-14T15:14:02.305Z"
   },
   {
    "duration": 17,
    "start_time": "2022-12-14T15:14:02.337Z"
   },
   {
    "duration": 9,
    "start_time": "2022-12-14T15:14:02.356Z"
   },
   {
    "duration": 27,
    "start_time": "2022-12-14T15:14:02.367Z"
   },
   {
    "duration": 1643,
    "start_time": "2022-12-15T08:39:08.842Z"
   },
   {
    "duration": 2493,
    "start_time": "2022-12-15T08:39:10.487Z"
   },
   {
    "duration": 290,
    "start_time": "2022-12-15T08:39:12.982Z"
   },
   {
    "duration": 174,
    "start_time": "2022-12-15T08:39:13.277Z"
   },
   {
    "duration": 306,
    "start_time": "2022-12-15T08:39:13.453Z"
   },
   {
    "duration": 248,
    "start_time": "2022-12-15T08:39:13.761Z"
   },
   {
    "duration": 3,
    "start_time": "2022-12-15T08:39:14.011Z"
   },
   {
    "duration": 19,
    "start_time": "2022-12-15T08:39:14.016Z"
   },
   {
    "duration": 5,
    "start_time": "2022-12-15T08:39:14.037Z"
   },
   {
    "duration": 45,
    "start_time": "2022-12-15T08:39:14.043Z"
   },
   {
    "duration": 17,
    "start_time": "2022-12-15T08:39:14.090Z"
   },
   {
    "duration": 20,
    "start_time": "2022-12-15T08:39:14.108Z"
   },
   {
    "duration": 7,
    "start_time": "2022-12-15T08:39:14.130Z"
   },
   {
    "duration": 8,
    "start_time": "2022-12-15T08:39:14.141Z"
   },
   {
    "duration": 273,
    "start_time": "2022-12-15T08:39:14.180Z"
   },
   {
    "duration": 266,
    "start_time": "2022-12-15T08:39:14.455Z"
   },
   {
    "duration": 290,
    "start_time": "2022-12-15T08:39:14.723Z"
   },
   {
    "duration": 3,
    "start_time": "2022-12-15T08:39:15.014Z"
   },
   {
    "duration": 763,
    "start_time": "2022-12-15T08:39:15.018Z"
   },
   {
    "duration": 664,
    "start_time": "2022-12-15T08:39:15.783Z"
   },
   {
    "duration": 9,
    "start_time": "2022-12-15T08:39:16.448Z"
   },
   {
    "duration": 879,
    "start_time": "2022-12-15T08:39:16.459Z"
   },
   {
    "duration": 7,
    "start_time": "2022-12-15T08:39:17.340Z"
   },
   {
    "duration": 9,
    "start_time": "2022-12-15T08:39:17.349Z"
   },
   {
    "duration": 7,
    "start_time": "2022-12-15T08:39:17.360Z"
   },
   {
    "duration": 12,
    "start_time": "2022-12-15T08:39:17.378Z"
   },
   {
    "duration": 29,
    "start_time": "2022-12-15T08:39:17.392Z"
   },
   {
    "duration": 32058,
    "start_time": "2022-12-15T09:05:04.554Z"
   },
   {
    "duration": 5,
    "start_time": "2022-12-15T09:11:14.161Z"
   },
   {
    "duration": 117,
    "start_time": "2022-12-15T09:11:29.663Z"
   },
   {
    "duration": 15,
    "start_time": "2022-12-15T09:12:16.634Z"
   },
   {
    "duration": 4,
    "start_time": "2022-12-15T09:12:49.960Z"
   },
   {
    "duration": 970,
    "start_time": "2022-12-15T09:12:50.777Z"
   },
   {
    "duration": 5,
    "start_time": "2022-12-15T09:13:10.560Z"
   },
   {
    "duration": 1619,
    "start_time": "2022-12-15T09:13:11.761Z"
   },
   {
    "duration": 1694,
    "start_time": "2022-12-15T09:51:14.692Z"
   },
   {
    "duration": 2046,
    "start_time": "2022-12-15T09:51:16.388Z"
   },
   {
    "duration": 270,
    "start_time": "2022-12-15T09:51:18.436Z"
   },
   {
    "duration": 157,
    "start_time": "2022-12-15T09:51:18.708Z"
   },
   {
    "duration": 322,
    "start_time": "2022-12-15T09:51:18.868Z"
   },
   {
    "duration": 225,
    "start_time": "2022-12-15T09:51:19.192Z"
   },
   {
    "duration": 3,
    "start_time": "2022-12-15T09:51:19.419Z"
   },
   {
    "duration": 12,
    "start_time": "2022-12-15T09:51:19.424Z"
   },
   {
    "duration": 10,
    "start_time": "2022-12-15T09:51:19.437Z"
   },
   {
    "duration": 32,
    "start_time": "2022-12-15T09:51:19.449Z"
   },
   {
    "duration": 31,
    "start_time": "2022-12-15T09:51:19.483Z"
   },
   {
    "duration": 18,
    "start_time": "2022-12-15T09:51:19.515Z"
   },
   {
    "duration": 6,
    "start_time": "2022-12-15T09:51:19.534Z"
   },
   {
    "duration": 10,
    "start_time": "2022-12-15T09:51:19.542Z"
   },
   {
    "duration": 265,
    "start_time": "2022-12-15T09:51:19.553Z"
   },
   {
    "duration": 256,
    "start_time": "2022-12-15T09:51:19.819Z"
   },
   {
    "duration": 263,
    "start_time": "2022-12-15T09:51:20.077Z"
   },
   {
    "duration": 2,
    "start_time": "2022-12-15T09:51:20.342Z"
   },
   {
    "duration": 789,
    "start_time": "2022-12-15T09:51:20.345Z"
   },
   {
    "duration": 597,
    "start_time": "2022-12-15T09:51:21.136Z"
   },
   {
    "duration": 9,
    "start_time": "2022-12-15T09:51:21.734Z"
   },
   {
    "duration": 850,
    "start_time": "2022-12-15T09:51:21.744Z"
   },
   {
    "duration": 4,
    "start_time": "2022-12-15T09:51:22.596Z"
   },
   {
    "duration": 5,
    "start_time": "2022-12-15T09:51:22.605Z"
   },
   {
    "duration": 17,
    "start_time": "2022-12-15T09:51:22.611Z"
   },
   {
    "duration": 15,
    "start_time": "2022-12-15T09:51:22.629Z"
   },
   {
    "duration": 29,
    "start_time": "2022-12-15T09:51:22.646Z"
   },
   {
    "duration": 224747,
    "start_time": "2022-12-15T09:55:07.753Z"
   },
   {
    "duration": 5,
    "start_time": "2022-12-15T11:23:48.647Z"
   },
   {
    "duration": 701,
    "start_time": "2022-12-15T11:23:48.655Z"
   },
   {
    "duration": 277,
    "start_time": "2022-12-15T11:23:49.357Z"
   },
   {
    "duration": 168,
    "start_time": "2022-12-15T11:23:49.636Z"
   },
   {
    "duration": 266,
    "start_time": "2022-12-15T11:23:49.806Z"
   },
   {
    "duration": 213,
    "start_time": "2022-12-15T11:23:50.073Z"
   },
   {
    "duration": 4,
    "start_time": "2022-12-15T11:23:50.287Z"
   },
   {
    "duration": 23,
    "start_time": "2022-12-15T11:23:50.292Z"
   },
   {
    "duration": 12,
    "start_time": "2022-12-15T11:23:50.318Z"
   },
   {
    "duration": 41,
    "start_time": "2022-12-15T11:23:50.332Z"
   },
   {
    "duration": 16,
    "start_time": "2022-12-15T11:23:50.374Z"
   },
   {
    "duration": 31,
    "start_time": "2022-12-15T11:23:50.392Z"
   },
   {
    "duration": 6,
    "start_time": "2022-12-15T11:23:50.425Z"
   },
   {
    "duration": 16,
    "start_time": "2022-12-15T11:23:50.432Z"
   },
   {
    "duration": 258,
    "start_time": "2022-12-15T11:23:50.450Z"
   },
   {
    "duration": 262,
    "start_time": "2022-12-15T11:23:50.710Z"
   },
   {
    "duration": 244,
    "start_time": "2022-12-15T11:23:50.973Z"
   },
   {
    "duration": 2,
    "start_time": "2022-12-15T11:23:51.219Z"
   },
   {
    "duration": 584,
    "start_time": "2022-12-15T11:23:51.223Z"
   },
   {
    "duration": 620,
    "start_time": "2022-12-15T11:23:51.809Z"
   },
   {
    "duration": 9,
    "start_time": "2022-12-15T11:23:52.431Z"
   },
   {
    "duration": 897,
    "start_time": "2022-12-15T11:23:52.441Z"
   },
   {
    "duration": 4,
    "start_time": "2022-12-15T11:23:53.340Z"
   },
   {
    "duration": 22,
    "start_time": "2022-12-15T11:23:53.347Z"
   },
   {
    "duration": 36,
    "start_time": "2022-12-15T11:23:53.370Z"
   },
   {
    "duration": 22,
    "start_time": "2022-12-15T11:23:53.407Z"
   },
   {
    "duration": 33,
    "start_time": "2022-12-15T11:23:53.431Z"
   },
   {
    "duration": 3,
    "start_time": "2022-12-15T11:25:32.140Z"
   },
   {
    "duration": 113,
    "start_time": "2022-12-15T11:32:07.667Z"
   },
   {
    "duration": 1305,
    "start_time": "2022-12-15T11:32:12.707Z"
   },
   {
    "duration": 2568,
    "start_time": "2022-12-15T11:32:42.242Z"
   },
   {
    "duration": 2247,
    "start_time": "2022-12-15T11:34:33.757Z"
   },
   {
    "duration": 1927,
    "start_time": "2022-12-15T11:35:21.179Z"
   },
   {
    "duration": 2500,
    "start_time": "2022-12-15T11:36:02.906Z"
   },
   {
    "duration": 2885,
    "start_time": "2022-12-15T11:37:26.723Z"
   },
   {
    "duration": 2804,
    "start_time": "2022-12-15T11:39:59.906Z"
   },
   {
    "duration": 2423,
    "start_time": "2022-12-15T11:40:27.683Z"
   },
   {
    "duration": 2651,
    "start_time": "2022-12-15T11:40:36.362Z"
   },
   {
    "duration": 2516,
    "start_time": "2022-12-15T11:41:12.090Z"
   },
   {
    "duration": 2555,
    "start_time": "2022-12-15T11:44:00.962Z"
   },
   {
    "duration": 1966,
    "start_time": "2022-12-15T11:44:10.042Z"
   },
   {
    "duration": 3026,
    "start_time": "2022-12-15T11:44:39.290Z"
   },
   {
    "duration": 2747,
    "start_time": "2022-12-15T11:45:08.458Z"
   },
   {
    "duration": 2460,
    "start_time": "2022-12-15T11:45:22.147Z"
   },
   {
    "duration": 2144,
    "start_time": "2022-12-15T11:48:05.466Z"
   },
   {
    "duration": 2693,
    "start_time": "2022-12-15T11:48:17.513Z"
   },
   {
    "duration": 3083,
    "start_time": "2022-12-15T11:48:38.825Z"
   },
   {
    "duration": 2325,
    "start_time": "2022-12-15T11:48:52.081Z"
   },
   {
    "duration": 0,
    "start_time": "2022-12-15T12:01:32.151Z"
   },
   {
    "duration": 0,
    "start_time": "2022-12-15T12:14:15.515Z"
   },
   {
    "duration": 13,
    "start_time": "2022-12-15T12:16:25.279Z"
   },
   {
    "duration": 11,
    "start_time": "2022-12-15T12:17:01.103Z"
   },
   {
    "duration": 10,
    "start_time": "2022-12-15T12:17:27.623Z"
   },
   {
    "duration": 10,
    "start_time": "2022-12-15T12:20:40.094Z"
   },
   {
    "duration": 758,
    "start_time": "2022-12-15T12:20:48.438Z"
   },
   {
    "duration": 35211,
    "start_time": "2022-12-15T12:21:02.544Z"
   },
   {
    "duration": 34900,
    "start_time": "2022-12-15T12:25:59.414Z"
   },
   {
    "duration": 83,
    "start_time": "2022-12-15T12:28:36.741Z"
   },
   {
    "duration": 3085,
    "start_time": "2022-12-15T12:28:46.933Z"
   },
   {
    "duration": 3083,
    "start_time": "2022-12-15T12:29:45.926Z"
   },
   {
    "duration": 5,
    "start_time": "2022-12-15T12:29:57.601Z"
   },
   {
    "duration": 777,
    "start_time": "2022-12-15T12:29:57.609Z"
   },
   {
    "duration": 275,
    "start_time": "2022-12-15T12:29:58.388Z"
   },
   {
    "duration": 169,
    "start_time": "2022-12-15T12:29:58.665Z"
   },
   {
    "duration": 274,
    "start_time": "2022-12-15T12:29:58.835Z"
   },
   {
    "duration": 217,
    "start_time": "2022-12-15T12:29:59.110Z"
   },
   {
    "duration": 4,
    "start_time": "2022-12-15T12:29:59.329Z"
   },
   {
    "duration": 8,
    "start_time": "2022-12-15T12:29:59.335Z"
   },
   {
    "duration": 5,
    "start_time": "2022-12-15T12:29:59.345Z"
   },
   {
    "duration": 53,
    "start_time": "2022-12-15T12:29:59.353Z"
   },
   {
    "duration": 18,
    "start_time": "2022-12-15T12:29:59.408Z"
   },
   {
    "duration": 21,
    "start_time": "2022-12-15T12:29:59.428Z"
   },
   {
    "duration": 7,
    "start_time": "2022-12-15T12:29:59.451Z"
   },
   {
    "duration": 14,
    "start_time": "2022-12-15T12:29:59.459Z"
   },
   {
    "duration": 264,
    "start_time": "2022-12-15T12:29:59.475Z"
   },
   {
    "duration": 250,
    "start_time": "2022-12-15T12:29:59.741Z"
   },
   {
    "duration": 291,
    "start_time": "2022-12-15T12:29:59.993Z"
   },
   {
    "duration": 3,
    "start_time": "2022-12-15T12:30:00.286Z"
   },
   {
    "duration": 630,
    "start_time": "2022-12-15T12:30:00.290Z"
   },
   {
    "duration": 721,
    "start_time": "2022-12-15T12:30:00.922Z"
   },
   {
    "duration": 11,
    "start_time": "2022-12-15T12:30:01.644Z"
   },
   {
    "duration": 871,
    "start_time": "2022-12-15T12:30:01.656Z"
   },
   {
    "duration": 4,
    "start_time": "2022-12-15T12:30:02.528Z"
   },
   {
    "duration": 15,
    "start_time": "2022-12-15T12:30:02.534Z"
   },
   {
    "duration": 6,
    "start_time": "2022-12-15T12:30:02.550Z"
   },
   {
    "duration": 17,
    "start_time": "2022-12-15T12:30:02.558Z"
   },
   {
    "duration": 36,
    "start_time": "2022-12-15T12:30:02.576Z"
   },
   {
    "duration": 2069,
    "start_time": "2022-12-15T12:30:04.837Z"
   },
   {
    "duration": 56863,
    "start_time": "2022-12-15T12:31:05.381Z"
   },
   {
    "duration": 46575,
    "start_time": "2022-12-15T12:32:54.057Z"
   },
   {
    "duration": 44951,
    "start_time": "2022-12-15T12:36:23.045Z"
   },
   {
    "duration": 30000,
    "start_time": "2022-12-15T12:38:29.533Z"
   },
   {
    "duration": 30225,
    "start_time": "2022-12-15T12:45:59.109Z"
   },
   {
    "duration": 30327,
    "start_time": "2022-12-15T12:46:48.100Z"
   },
   {
    "duration": 1287,
    "start_time": "2022-12-15T14:29:02.337Z"
   },
   {
    "duration": 671,
    "start_time": "2022-12-15T14:29:03.626Z"
   },
   {
    "duration": 261,
    "start_time": "2022-12-15T14:29:04.299Z"
   },
   {
    "duration": 162,
    "start_time": "2022-12-15T14:29:04.562Z"
   },
   {
    "duration": 289,
    "start_time": "2022-12-15T14:29:04.726Z"
   },
   {
    "duration": 227,
    "start_time": "2022-12-15T14:29:05.017Z"
   },
   {
    "duration": 4,
    "start_time": "2022-12-15T14:29:05.245Z"
   },
   {
    "duration": 19,
    "start_time": "2022-12-15T14:29:05.250Z"
   },
   {
    "duration": 17,
    "start_time": "2022-12-15T14:29:05.270Z"
   },
   {
    "duration": 32,
    "start_time": "2022-12-15T14:29:05.288Z"
   },
   {
    "duration": 19,
    "start_time": "2022-12-15T14:29:05.322Z"
   },
   {
    "duration": 20,
    "start_time": "2022-12-15T14:29:05.343Z"
   },
   {
    "duration": 7,
    "start_time": "2022-12-15T14:29:05.364Z"
   },
   {
    "duration": 4,
    "start_time": "2022-12-15T14:29:05.374Z"
   },
   {
    "duration": 272,
    "start_time": "2022-12-15T14:29:05.379Z"
   },
   {
    "duration": 253,
    "start_time": "2022-12-15T14:29:05.653Z"
   },
   {
    "duration": 257,
    "start_time": "2022-12-15T14:29:05.908Z"
   },
   {
    "duration": 3,
    "start_time": "2022-12-15T14:29:06.167Z"
   },
   {
    "duration": 724,
    "start_time": "2022-12-15T14:29:06.171Z"
   },
   {
    "duration": 674,
    "start_time": "2022-12-15T14:29:06.897Z"
   },
   {
    "duration": 12,
    "start_time": "2022-12-15T14:29:07.573Z"
   },
   {
    "duration": 837,
    "start_time": "2022-12-15T14:29:07.587Z"
   },
   {
    "duration": 5,
    "start_time": "2022-12-15T14:29:08.425Z"
   },
   {
    "duration": 21,
    "start_time": "2022-12-15T14:29:08.431Z"
   },
   {
    "duration": 36,
    "start_time": "2022-12-15T14:29:08.454Z"
   },
   {
    "duration": 36,
    "start_time": "2022-12-15T14:29:08.491Z"
   },
   {
    "duration": 31,
    "start_time": "2022-12-15T14:29:08.528Z"
   },
   {
    "duration": 2952,
    "start_time": "2022-12-15T14:29:08.561Z"
   },
   {
    "duration": 30304,
    "start_time": "2022-12-15T14:29:11.515Z"
   },
   {
    "duration": 38,
    "start_time": "2022-12-15T14:29:41.821Z"
   },
   {
    "duration": 0,
    "start_time": "2022-12-15T14:29:41.861Z"
   },
   {
    "duration": 172,
    "start_time": "2022-12-15T14:29:53.512Z"
   },
   {
    "duration": 75,
    "start_time": "2022-12-15T14:30:30.136Z"
   },
   {
    "duration": 29332,
    "start_time": "2022-12-15T14:30:42.944Z"
   },
   {
    "duration": 38,
    "start_time": "2022-12-15T14:32:36.529Z"
   },
   {
    "duration": 1290,
    "start_time": "2022-12-15T14:58:59.163Z"
   },
   {
    "duration": 687,
    "start_time": "2022-12-15T14:59:00.454Z"
   },
   {
    "duration": 272,
    "start_time": "2022-12-15T14:59:01.143Z"
   },
   {
    "duration": 156,
    "start_time": "2022-12-15T14:59:01.417Z"
   },
   {
    "duration": 288,
    "start_time": "2022-12-15T14:59:01.575Z"
   },
   {
    "duration": 239,
    "start_time": "2022-12-15T14:59:01.864Z"
   },
   {
    "duration": 3,
    "start_time": "2022-12-15T14:59:02.105Z"
   },
   {
    "duration": 27,
    "start_time": "2022-12-15T14:59:02.110Z"
   },
   {
    "duration": 7,
    "start_time": "2022-12-15T14:59:02.139Z"
   },
   {
    "duration": 34,
    "start_time": "2022-12-15T14:59:02.148Z"
   },
   {
    "duration": 25,
    "start_time": "2022-12-15T14:59:02.184Z"
   },
   {
    "duration": 19,
    "start_time": "2022-12-15T14:59:02.211Z"
   },
   {
    "duration": 6,
    "start_time": "2022-12-15T14:59:02.232Z"
   },
   {
    "duration": 13,
    "start_time": "2022-12-15T14:59:02.240Z"
   },
   {
    "duration": 265,
    "start_time": "2022-12-15T14:59:02.254Z"
   },
   {
    "duration": 251,
    "start_time": "2022-12-15T14:59:02.521Z"
   },
   {
    "duration": 255,
    "start_time": "2022-12-15T14:59:02.774Z"
   },
   {
    "duration": 2,
    "start_time": "2022-12-15T14:59:03.030Z"
   },
   {
    "duration": 676,
    "start_time": "2022-12-15T14:59:03.034Z"
   },
   {
    "duration": 610,
    "start_time": "2022-12-15T14:59:03.712Z"
   },
   {
    "duration": 9,
    "start_time": "2022-12-15T14:59:04.323Z"
   },
   {
    "duration": 821,
    "start_time": "2022-12-15T14:59:04.334Z"
   },
   {
    "duration": 4,
    "start_time": "2022-12-15T14:59:05.157Z"
   },
   {
    "duration": 9,
    "start_time": "2022-12-15T14:59:05.162Z"
   },
   {
    "duration": 6,
    "start_time": "2022-12-15T14:59:05.173Z"
   },
   {
    "duration": 12,
    "start_time": "2022-12-15T14:59:05.180Z"
   },
   {
    "duration": 27,
    "start_time": "2022-12-15T14:59:05.194Z"
   },
   {
    "duration": 2586,
    "start_time": "2022-12-15T14:59:05.222Z"
   },
   {
    "duration": 209,
    "start_time": "2022-12-15T14:59:07.810Z"
   },
   {
    "duration": 0,
    "start_time": "2022-12-15T14:59:08.021Z"
   },
   {
    "duration": 0,
    "start_time": "2022-12-15T14:59:08.022Z"
   },
   {
    "duration": 11,
    "start_time": "2022-12-15T14:59:55.509Z"
   },
   {
    "duration": 74,
    "start_time": "2022-12-15T15:01:12.076Z"
   },
   {
    "duration": 73,
    "start_time": "2022-12-15T15:01:18.372Z"
   },
   {
    "duration": 3420,
    "start_time": "2022-12-15T15:02:19.932Z"
   },
   {
    "duration": 30456,
    "start_time": "2022-12-15T15:03:22.444Z"
   },
   {
    "duration": 54076,
    "start_time": "2022-12-15T15:04:10.924Z"
   },
   {
    "duration": 30689,
    "start_time": "2022-12-15T15:05:17.668Z"
   },
   {
    "duration": 1322,
    "start_time": "2022-12-15T16:01:35.002Z"
   },
   {
    "duration": 652,
    "start_time": "2022-12-15T16:01:36.325Z"
   },
   {
    "duration": 266,
    "start_time": "2022-12-15T16:01:36.979Z"
   },
   {
    "duration": 185,
    "start_time": "2022-12-15T16:01:37.246Z"
   },
   {
    "duration": 314,
    "start_time": "2022-12-15T16:01:37.434Z"
   },
   {
    "duration": 221,
    "start_time": "2022-12-15T16:01:37.749Z"
   },
   {
    "duration": 3,
    "start_time": "2022-12-15T16:01:37.972Z"
   },
   {
    "duration": 12,
    "start_time": "2022-12-15T16:01:37.976Z"
   },
   {
    "duration": 16,
    "start_time": "2022-12-15T16:01:37.989Z"
   },
   {
    "duration": 32,
    "start_time": "2022-12-15T16:01:38.006Z"
   },
   {
    "duration": 15,
    "start_time": "2022-12-15T16:01:38.039Z"
   },
   {
    "duration": 30,
    "start_time": "2022-12-15T16:01:38.055Z"
   },
   {
    "duration": 7,
    "start_time": "2022-12-15T16:01:38.104Z"
   },
   {
    "duration": 4,
    "start_time": "2022-12-15T16:01:38.115Z"
   },
   {
    "duration": 269,
    "start_time": "2022-12-15T16:01:38.121Z"
   },
   {
    "duration": 266,
    "start_time": "2022-12-15T16:01:38.391Z"
   },
   {
    "duration": 248,
    "start_time": "2022-12-15T16:01:38.658Z"
   },
   {
    "duration": 2,
    "start_time": "2022-12-15T16:01:38.907Z"
   },
   {
    "duration": 696,
    "start_time": "2022-12-15T16:01:38.911Z"
   },
   {
    "duration": 612,
    "start_time": "2022-12-15T16:01:39.609Z"
   },
   {
    "duration": 7,
    "start_time": "2022-12-15T16:01:40.223Z"
   },
   {
    "duration": 748,
    "start_time": "2022-12-15T16:01:40.232Z"
   },
   {
    "duration": 4,
    "start_time": "2022-12-15T16:01:40.981Z"
   },
   {
    "duration": 11,
    "start_time": "2022-12-15T16:01:40.987Z"
   },
   {
    "duration": 12,
    "start_time": "2022-12-15T16:01:40.999Z"
   },
   {
    "duration": 11,
    "start_time": "2022-12-15T16:01:41.012Z"
   },
   {
    "duration": 24,
    "start_time": "2022-12-15T16:01:41.024Z"
   },
   {
    "duration": 2556,
    "start_time": "2022-12-15T16:01:41.049Z"
   },
   {
    "duration": 30281,
    "start_time": "2022-12-15T16:01:43.608Z"
   },
   {
    "duration": 816273,
    "start_time": "2022-12-15T16:02:13.891Z"
   },
   {
    "duration": 1779,
    "start_time": "2022-12-16T06:46:59.756Z"
   },
   {
    "duration": 2198,
    "start_time": "2022-12-16T06:47:01.538Z"
   },
   {
    "duration": 284,
    "start_time": "2022-12-16T06:47:03.739Z"
   },
   {
    "duration": 207,
    "start_time": "2022-12-16T06:47:04.025Z"
   },
   {
    "duration": 317,
    "start_time": "2022-12-16T06:47:04.235Z"
   },
   {
    "duration": 277,
    "start_time": "2022-12-16T06:47:04.555Z"
   },
   {
    "duration": 4,
    "start_time": "2022-12-16T06:47:04.834Z"
   },
   {
    "duration": 19,
    "start_time": "2022-12-16T06:47:04.851Z"
   },
   {
    "duration": 5,
    "start_time": "2022-12-16T06:47:04.872Z"
   },
   {
    "duration": 36,
    "start_time": "2022-12-16T06:47:04.881Z"
   },
   {
    "duration": 32,
    "start_time": "2022-12-16T06:47:04.919Z"
   },
   {
    "duration": 21,
    "start_time": "2022-12-16T06:47:04.953Z"
   },
   {
    "duration": 7,
    "start_time": "2022-12-16T06:47:04.977Z"
   },
   {
    "duration": 7,
    "start_time": "2022-12-16T06:47:04.986Z"
   },
   {
    "duration": 365,
    "start_time": "2022-12-16T06:47:04.995Z"
   },
   {
    "duration": 335,
    "start_time": "2022-12-16T06:47:05.362Z"
   },
   {
    "duration": 307,
    "start_time": "2022-12-16T06:47:05.700Z"
   },
   {
    "duration": 3,
    "start_time": "2022-12-16T06:47:06.009Z"
   },
   {
    "duration": 910,
    "start_time": "2022-12-16T06:47:06.014Z"
   },
   {
    "duration": 782,
    "start_time": "2022-12-16T06:47:06.926Z"
   },
   {
    "duration": 11,
    "start_time": "2022-12-16T06:47:07.710Z"
   },
   {
    "duration": 983,
    "start_time": "2022-12-16T06:47:07.723Z"
   },
   {
    "duration": 5,
    "start_time": "2022-12-16T06:47:08.708Z"
   },
   {
    "duration": 14,
    "start_time": "2022-12-16T06:47:08.716Z"
   },
   {
    "duration": 13,
    "start_time": "2022-12-16T06:47:08.732Z"
   },
   {
    "duration": 17,
    "start_time": "2022-12-16T06:47:08.747Z"
   },
   {
    "duration": 34,
    "start_time": "2022-12-16T06:47:08.767Z"
   },
   {
    "duration": 4146,
    "start_time": "2022-12-16T06:47:08.805Z"
   },
   {
    "duration": 33969,
    "start_time": "2022-12-16T06:47:12.953Z"
   },
   {
    "duration": 873876,
    "start_time": "2022-12-16T06:47:46.923Z"
   },
   {
    "duration": 3601,
    "start_time": "2022-12-16T07:13:05.835Z"
   },
   {
    "duration": 3400,
    "start_time": "2022-12-16T07:13:20.193Z"
   },
   {
    "duration": 3146,
    "start_time": "2022-12-16T07:16:34.312Z"
   },
   {
    "duration": 4,
    "start_time": "2022-12-16T07:19:15.205Z"
   },
   {
    "duration": 15,
    "start_time": "2022-12-16T07:21:42.864Z"
   },
   {
    "duration": 10,
    "start_time": "2022-12-16T07:21:57.792Z"
   },
   {
    "duration": 9,
    "start_time": "2022-12-16T07:26:29.114Z"
   },
   {
    "duration": 2787,
    "start_time": "2022-12-16T07:33:51.665Z"
   },
   {
    "duration": 2978,
    "start_time": "2022-12-16T07:34:02.680Z"
   },
   {
    "duration": 10,
    "start_time": "2022-12-16T07:35:14.799Z"
   },
   {
    "duration": 2508,
    "start_time": "2022-12-16T07:35:20.447Z"
   },
   {
    "duration": 24303,
    "start_time": "2022-12-16T07:36:23.671Z"
   },
   {
    "duration": 637196,
    "start_time": "2022-12-16T07:38:13.728Z"
   },
   {
    "duration": 1773,
    "start_time": "2022-12-16T07:52:38.373Z"
   },
   {
    "duration": 1549,
    "start_time": "2022-12-16T07:53:05.437Z"
   },
   {
    "duration": 10,
    "start_time": "2022-12-16T07:53:46.789Z"
   },
   {
    "duration": 6,
    "start_time": "2022-12-16T08:02:32.427Z"
   },
   {
    "duration": 8,
    "start_time": "2022-12-16T08:03:21.988Z"
   },
   {
    "duration": 1890,
    "start_time": "2022-12-16T08:03:25.467Z"
   },
   {
    "duration": 2236,
    "start_time": "2022-12-16T08:03:39.319Z"
   },
   {
    "duration": 23091,
    "start_time": "2022-12-16T08:03:49.651Z"
   },
   {
    "duration": 320,
    "start_time": "2022-12-16T08:04:29.850Z"
   },
   {
    "duration": 625173,
    "start_time": "2022-12-16T08:07:00.202Z"
   },
   {
    "duration": 1999,
    "start_time": "2022-12-16T08:20:20.466Z"
   },
   {
    "duration": 13,
    "start_time": "2022-12-16T08:24:28.912Z"
   },
   {
    "duration": 21,
    "start_time": "2022-12-16T08:24:32.535Z"
   },
   {
    "duration": 11,
    "start_time": "2022-12-16T08:25:27.839Z"
   },
   {
    "duration": 2803,
    "start_time": "2022-12-16T08:25:29.952Z"
   },
   {
    "duration": 24524,
    "start_time": "2022-12-16T08:25:49.025Z"
   },
   {
    "duration": 8996,
    "start_time": "2022-12-16T08:26:33.849Z"
   },
   {
    "duration": 10,
    "start_time": "2022-12-16T08:26:53.217Z"
   },
   {
    "duration": 654277,
    "start_time": "2022-12-16T08:27:02.489Z"
   },
   {
    "duration": 3247,
    "start_time": "2022-12-16T08:39:36.782Z"
   },
   {
    "duration": 11,
    "start_time": "2022-12-16T08:42:59.663Z"
   },
   {
    "duration": 4,
    "start_time": "2022-12-16T08:44:38.525Z"
   },
   {
    "duration": 30,
    "start_time": "2022-12-16T08:45:34.836Z"
   },
   {
    "duration": 722,
    "start_time": "2022-12-16T08:46:22.397Z"
   },
   {
    "duration": 28,
    "start_time": "2022-12-16T08:47:57.791Z"
   },
   {
    "duration": 27,
    "start_time": "2022-12-16T08:48:11.525Z"
   },
   {
    "duration": 5,
    "start_time": "2022-12-16T08:48:33.893Z"
   },
   {
    "duration": 5,
    "start_time": "2022-12-16T08:48:36.597Z"
   },
   {
    "duration": 6,
    "start_time": "2022-12-16T08:49:24.485Z"
   },
   {
    "duration": 5,
    "start_time": "2022-12-16T08:49:37.228Z"
   },
   {
    "duration": 27,
    "start_time": "2022-12-16T08:49:44.588Z"
   },
   {
    "duration": 32,
    "start_time": "2022-12-16T08:50:01.524Z"
   },
   {
    "duration": 30,
    "start_time": "2022-12-16T08:52:51.685Z"
   },
   {
    "duration": 12,
    "start_time": "2022-12-16T08:54:30.216Z"
   },
   {
    "duration": 13,
    "start_time": "2022-12-16T08:54:37.981Z"
   },
   {
    "duration": 10,
    "start_time": "2022-12-16T08:54:39.900Z"
   },
   {
    "duration": 39,
    "start_time": "2022-12-16T08:57:21.044Z"
   },
   {
    "duration": 41,
    "start_time": "2022-12-16T08:58:10.833Z"
   },
   {
    "duration": 2225,
    "start_time": "2022-12-16T08:58:23.427Z"
   },
   {
    "duration": 25633,
    "start_time": "2022-12-16T08:58:29.788Z"
   },
   {
    "duration": 10,
    "start_time": "2022-12-16T08:59:03.491Z"
   },
   {
    "duration": 657243,
    "start_time": "2022-12-16T08:59:08.379Z"
   },
   {
    "duration": 1574,
    "start_time": "2022-12-16T09:11:41.747Z"
   },
   {
    "duration": 10,
    "start_time": "2022-12-16T09:11:48.754Z"
   },
   {
    "duration": 1354,
    "start_time": "2022-12-16T09:34:05.997Z"
   },
   {
    "duration": 707,
    "start_time": "2022-12-16T09:34:07.353Z"
   },
   {
    "duration": 295,
    "start_time": "2022-12-16T09:34:08.062Z"
   },
   {
    "duration": 175,
    "start_time": "2022-12-16T09:34:08.359Z"
   },
   {
    "duration": 297,
    "start_time": "2022-12-16T09:34:08.537Z"
   },
   {
    "duration": 232,
    "start_time": "2022-12-16T09:34:08.836Z"
   },
   {
    "duration": 4,
    "start_time": "2022-12-16T09:34:09.069Z"
   },
   {
    "duration": 18,
    "start_time": "2022-12-16T09:34:09.074Z"
   },
   {
    "duration": 18,
    "start_time": "2022-12-16T09:34:09.093Z"
   },
   {
    "duration": 40,
    "start_time": "2022-12-16T09:34:09.112Z"
   },
   {
    "duration": 18,
    "start_time": "2022-12-16T09:34:09.153Z"
   },
   {
    "duration": 20,
    "start_time": "2022-12-16T09:34:09.173Z"
   },
   {
    "duration": 6,
    "start_time": "2022-12-16T09:34:09.195Z"
   },
   {
    "duration": 5,
    "start_time": "2022-12-16T09:34:09.204Z"
   },
   {
    "duration": 292,
    "start_time": "2022-12-16T09:34:09.211Z"
   },
   {
    "duration": 345,
    "start_time": "2022-12-16T09:34:09.504Z"
   },
   {
    "duration": 301,
    "start_time": "2022-12-16T09:34:09.852Z"
   },
   {
    "duration": 2,
    "start_time": "2022-12-16T09:34:10.155Z"
   },
   {
    "duration": 730,
    "start_time": "2022-12-16T09:34:10.159Z"
   },
   {
    "duration": 587,
    "start_time": "2022-12-16T09:34:10.890Z"
   },
   {
    "duration": 8,
    "start_time": "2022-12-16T09:34:11.479Z"
   },
   {
    "duration": 886,
    "start_time": "2022-12-16T09:34:11.489Z"
   },
   {
    "duration": 5,
    "start_time": "2022-12-16T09:34:12.376Z"
   },
   {
    "duration": 7,
    "start_time": "2022-12-16T09:34:12.382Z"
   },
   {
    "duration": 5,
    "start_time": "2022-12-16T09:34:12.391Z"
   },
   {
    "duration": 15,
    "start_time": "2022-12-16T09:34:12.398Z"
   },
   {
    "duration": 53,
    "start_time": "2022-12-16T09:34:12.414Z"
   },
   {
    "duration": 2484,
    "start_time": "2022-12-16T09:34:12.468Z"
   },
   {
    "duration": 23521,
    "start_time": "2022-12-16T09:34:14.954Z"
   },
   {
    "duration": 617415,
    "start_time": "2022-12-16T09:34:38.477Z"
   },
   {
    "duration": 1536,
    "start_time": "2022-12-16T09:44:55.893Z"
   },
   {
    "duration": 9,
    "start_time": "2022-12-16T09:44:57.431Z"
   },
   {
    "duration": 1599,
    "start_time": "2022-12-16T09:47:31.008Z"
   },
   {
    "duration": 1489,
    "start_time": "2022-12-16T09:48:46.755Z"
   },
   {
    "duration": 735,
    "start_time": "2022-12-16T09:48:48.247Z"
   },
   {
    "duration": 360,
    "start_time": "2022-12-16T09:48:48.984Z"
   },
   {
    "duration": 186,
    "start_time": "2022-12-16T09:48:49.346Z"
   },
   {
    "duration": 405,
    "start_time": "2022-12-16T09:48:49.534Z"
   },
   {
    "duration": 254,
    "start_time": "2022-12-16T09:48:49.941Z"
   },
   {
    "duration": 4,
    "start_time": "2022-12-16T09:48:50.197Z"
   },
   {
    "duration": 29,
    "start_time": "2022-12-16T09:48:50.203Z"
   },
   {
    "duration": 21,
    "start_time": "2022-12-16T09:48:50.234Z"
   },
   {
    "duration": 45,
    "start_time": "2022-12-16T09:48:50.256Z"
   },
   {
    "duration": 22,
    "start_time": "2022-12-16T09:48:50.304Z"
   },
   {
    "duration": 42,
    "start_time": "2022-12-16T09:48:50.328Z"
   },
   {
    "duration": 8,
    "start_time": "2022-12-16T09:48:50.372Z"
   },
   {
    "duration": 11,
    "start_time": "2022-12-16T09:48:50.384Z"
   },
   {
    "duration": 289,
    "start_time": "2022-12-16T09:48:50.397Z"
   },
   {
    "duration": 285,
    "start_time": "2022-12-16T09:48:50.688Z"
   },
   {
    "duration": 281,
    "start_time": "2022-12-16T09:48:50.975Z"
   },
   {
    "duration": 3,
    "start_time": "2022-12-16T09:48:51.257Z"
   },
   {
    "duration": 776,
    "start_time": "2022-12-16T09:48:51.262Z"
   },
   {
    "duration": 655,
    "start_time": "2022-12-16T09:48:52.040Z"
   },
   {
    "duration": 9,
    "start_time": "2022-12-16T09:48:52.697Z"
   },
   {
    "duration": 1016,
    "start_time": "2022-12-16T09:48:52.708Z"
   },
   {
    "duration": 5,
    "start_time": "2022-12-16T09:48:53.726Z"
   },
   {
    "duration": 19,
    "start_time": "2022-12-16T09:48:53.733Z"
   },
   {
    "duration": 17,
    "start_time": "2022-12-16T09:48:53.754Z"
   },
   {
    "duration": 47,
    "start_time": "2022-12-16T09:48:53.773Z"
   },
   {
    "duration": 58,
    "start_time": "2022-12-16T09:48:53.822Z"
   },
   {
    "duration": 2474,
    "start_time": "2022-12-16T09:48:53.882Z"
   },
   {
    "duration": 24969,
    "start_time": "2022-12-16T09:48:56.359Z"
   },
   {
    "duration": 626830,
    "start_time": "2022-12-16T09:49:21.330Z"
   },
   {
    "duration": 1711,
    "start_time": "2022-12-16T09:59:48.162Z"
   },
   {
    "duration": 12,
    "start_time": "2022-12-16T09:59:49.876Z"
   },
   {
    "duration": 1568,
    "start_time": "2022-12-16T10:02:13.639Z"
   },
   {
    "duration": 5,
    "start_time": "2022-12-16T10:03:16.714Z"
   },
   {
    "duration": 777,
    "start_time": "2022-12-16T10:03:16.721Z"
   },
   {
    "duration": 307,
    "start_time": "2022-12-16T10:03:17.500Z"
   },
   {
    "duration": 195,
    "start_time": "2022-12-16T10:03:17.809Z"
   },
   {
    "duration": 359,
    "start_time": "2022-12-16T10:03:18.006Z"
   },
   {
    "duration": 237,
    "start_time": "2022-12-16T10:03:18.369Z"
   },
   {
    "duration": 3,
    "start_time": "2022-12-16T10:03:18.608Z"
   },
   {
    "duration": 11,
    "start_time": "2022-12-16T10:03:18.613Z"
   },
   {
    "duration": 9,
    "start_time": "2022-12-16T10:03:18.627Z"
   },
   {
    "duration": 44,
    "start_time": "2022-12-16T10:03:18.637Z"
   },
   {
    "duration": 18,
    "start_time": "2022-12-16T10:03:18.683Z"
   },
   {
    "duration": 23,
    "start_time": "2022-12-16T10:03:18.703Z"
   },
   {
    "duration": 7,
    "start_time": "2022-12-16T10:03:18.751Z"
   },
   {
    "duration": 6,
    "start_time": "2022-12-16T10:03:18.760Z"
   },
   {
    "duration": 269,
    "start_time": "2022-12-16T10:03:18.768Z"
   },
   {
    "duration": 324,
    "start_time": "2022-12-16T10:03:19.039Z"
   },
   {
    "duration": 308,
    "start_time": "2022-12-16T10:03:19.365Z"
   },
   {
    "duration": 2,
    "start_time": "2022-12-16T10:03:19.676Z"
   },
   {
    "duration": 702,
    "start_time": "2022-12-16T10:03:19.680Z"
   },
   {
    "duration": 628,
    "start_time": "2022-12-16T10:03:20.383Z"
   },
   {
    "duration": 9,
    "start_time": "2022-12-16T10:03:21.013Z"
   },
   {
    "duration": 962,
    "start_time": "2022-12-16T10:03:21.024Z"
   },
   {
    "duration": 4,
    "start_time": "2022-12-16T10:03:21.988Z"
   },
   {
    "duration": 5,
    "start_time": "2022-12-16T10:03:21.996Z"
   },
   {
    "duration": 8,
    "start_time": "2022-12-16T10:03:22.003Z"
   },
   {
    "duration": 13,
    "start_time": "2022-12-16T10:03:22.012Z"
   },
   {
    "duration": 57,
    "start_time": "2022-12-16T10:03:22.026Z"
   },
   {
    "duration": 2868,
    "start_time": "2022-12-16T10:03:22.086Z"
   },
   {
    "duration": 23728,
    "start_time": "2022-12-16T10:03:24.957Z"
   },
   {
    "duration": 623180,
    "start_time": "2022-12-16T10:03:48.687Z"
   },
   {
    "duration": 1550,
    "start_time": "2022-12-16T10:14:11.869Z"
   },
   {
    "duration": 9,
    "start_time": "2022-12-16T10:14:13.421Z"
   },
   {
    "duration": 1550,
    "start_time": "2022-12-16T10:14:32.654Z"
   }
  ],
  "kernelspec": {
   "display_name": "Python 3 (ipykernel)",
   "language": "python",
   "name": "python3"
  },
  "language_info": {
   "codemirror_mode": {
    "name": "ipython",
    "version": 3
   },
   "file_extension": ".py",
   "mimetype": "text/x-python",
   "name": "python",
   "nbconvert_exporter": "python",
   "pygments_lexer": "ipython3",
   "version": "3.9.13"
  },
  "toc": {
   "base_numbering": 1,
   "nav_menu": {},
   "number_sections": true,
   "sideBar": true,
   "skip_h1_title": true,
   "title_cell": "Содержание",
   "title_sidebar": "Contents",
   "toc_cell": true,
   "toc_position": {},
   "toc_section_display": true,
   "toc_window_display": true
  }
 },
 "nbformat": 4,
 "nbformat_minor": 2
}
