{
 "cells": [
  {
   "cell_type": "markdown",
   "metadata": {},
   "source": [
    "# Выбор локации для скважины"
   ]
  },
  {
   "cell_type": "markdown",
   "metadata": {},
   "source": [
    "Допустим, вы работаете в добывающей компании «ГлавРосГосНефть». Нужно решить, где бурить новую скважину.\n",
    "\n",
    "Вам предоставлены пробы нефти в трёх регионах: в каждом 10 000 месторождений, где измерили качество нефти и объём её запасов. Постройте модель машинного обучения, которая поможет определить регион, где добыча принесёт наибольшую прибыль. Проанализируйте возможную прибыль и риски техникой *Bootstrap.*\n",
    "\n",
    "Шаги для выбора локации:\n",
    "\n",
    "- В избранном регионе ищут месторождения, для каждого определяют значения признаков;\n",
    "- Строят модель и оценивают объём запасов;\n",
    "- Выбирают месторождения с самым высокими оценками значений. Количество месторождений зависит от бюджета компании и стоимости разработки одной скважины;\n",
    "- Прибыль равна суммарной прибыли отобранных месторождений."
   ]
  },
  {
   "cell_type": "markdown",
   "metadata": {},
   "source": [
    "## Загрузка и подготовка данных"
   ]
  },
  {
   "cell_type": "code",
   "execution_count": 1,
   "metadata": {},
   "outputs": [],
   "source": [
    "import pandas as pd\n",
    "import numpy as np\n",
    "import seaborn as sns\n",
    "from scipy import stats as st\n",
    "import matplotlib.pyplot as plt\n",
    "from numpy.random import RandomState\n",
    "\n",
    "from sklearn.linear_model import LinearRegression\n",
    "from sklearn.model_selection import train_test_split\n",
    "from sklearn.metrics import mean_squared_error, r2_score\n",
    "\n",
    "state = np.random.RandomState(12345)"
   ]
  },
  {
   "cell_type": "code",
   "execution_count": 2,
   "metadata": {},
   "outputs": [],
   "source": [
    "data_1 = pd.read_csv('/datasets/geo_data_0.csv')\n",
    "data_2 = pd.read_csv('/datasets/geo_data_1.csv')\n",
    "data_3 = pd.read_csv('/datasets/geo_data_2.csv')"
   ]
  },
  {
   "cell_type": "markdown",
   "metadata": {},
   "source": [
    "**Регион 1**"
   ]
  },
  {
   "cell_type": "code",
   "execution_count": 3,
   "metadata": {
    "scrolled": true
   },
   "outputs": [
    {
     "data": {
      "text/html": [
       "<div>\n",
       "<style scoped>\n",
       "    .dataframe tbody tr th:only-of-type {\n",
       "        vertical-align: middle;\n",
       "    }\n",
       "\n",
       "    .dataframe tbody tr th {\n",
       "        vertical-align: top;\n",
       "    }\n",
       "\n",
       "    .dataframe thead th {\n",
       "        text-align: right;\n",
       "    }\n",
       "</style>\n",
       "<table border=\"1\" class=\"dataframe\">\n",
       "  <thead>\n",
       "    <tr style=\"text-align: right;\">\n",
       "      <th></th>\n",
       "      <th>id</th>\n",
       "      <th>f0</th>\n",
       "      <th>f1</th>\n",
       "      <th>f2</th>\n",
       "      <th>product</th>\n",
       "    </tr>\n",
       "  </thead>\n",
       "  <tbody>\n",
       "    <tr>\n",
       "      <th>0</th>\n",
       "      <td>txEyH</td>\n",
       "      <td>0.705745</td>\n",
       "      <td>-0.497823</td>\n",
       "      <td>1.221170</td>\n",
       "      <td>105.280062</td>\n",
       "    </tr>\n",
       "    <tr>\n",
       "      <th>1</th>\n",
       "      <td>2acmU</td>\n",
       "      <td>1.334711</td>\n",
       "      <td>-0.340164</td>\n",
       "      <td>4.365080</td>\n",
       "      <td>73.037750</td>\n",
       "    </tr>\n",
       "    <tr>\n",
       "      <th>2</th>\n",
       "      <td>409Wp</td>\n",
       "      <td>1.022732</td>\n",
       "      <td>0.151990</td>\n",
       "      <td>1.419926</td>\n",
       "      <td>85.265647</td>\n",
       "    </tr>\n",
       "    <tr>\n",
       "      <th>3</th>\n",
       "      <td>iJLyR</td>\n",
       "      <td>-0.032172</td>\n",
       "      <td>0.139033</td>\n",
       "      <td>2.978566</td>\n",
       "      <td>168.620776</td>\n",
       "    </tr>\n",
       "    <tr>\n",
       "      <th>4</th>\n",
       "      <td>Xdl7t</td>\n",
       "      <td>1.988431</td>\n",
       "      <td>0.155413</td>\n",
       "      <td>4.751769</td>\n",
       "      <td>154.036647</td>\n",
       "    </tr>\n",
       "  </tbody>\n",
       "</table>\n",
       "</div>"
      ],
      "text/plain": [
       "      id        f0        f1        f2     product\n",
       "0  txEyH  0.705745 -0.497823  1.221170  105.280062\n",
       "1  2acmU  1.334711 -0.340164  4.365080   73.037750\n",
       "2  409Wp  1.022732  0.151990  1.419926   85.265647\n",
       "3  iJLyR -0.032172  0.139033  2.978566  168.620776\n",
       "4  Xdl7t  1.988431  0.155413  4.751769  154.036647"
      ]
     },
     "metadata": {},
     "output_type": "display_data"
    },
    {
     "name": "stdout",
     "output_type": "stream",
     "text": [
      "\n",
      "<class 'pandas.core.frame.DataFrame'>\n",
      "RangeIndex: 100000 entries, 0 to 99999\n",
      "Data columns (total 5 columns):\n",
      " #   Column   Non-Null Count   Dtype  \n",
      "---  ------   --------------   -----  \n",
      " 0   id       100000 non-null  object \n",
      " 1   f0       100000 non-null  float64\n",
      " 2   f1       100000 non-null  float64\n",
      " 3   f2       100000 non-null  float64\n",
      " 4   product  100000 non-null  float64\n",
      "dtypes: float64(4), object(1)\n",
      "memory usage: 3.8+ MB\n"
     ]
    },
    {
     "data": {
      "text/html": [
       "<div>\n",
       "<style scoped>\n",
       "    .dataframe tbody tr th:only-of-type {\n",
       "        vertical-align: middle;\n",
       "    }\n",
       "\n",
       "    .dataframe tbody tr th {\n",
       "        vertical-align: top;\n",
       "    }\n",
       "\n",
       "    .dataframe thead th {\n",
       "        text-align: right;\n",
       "    }\n",
       "</style>\n",
       "<table border=\"1\" class=\"dataframe\">\n",
       "  <thead>\n",
       "    <tr style=\"text-align: right;\">\n",
       "      <th></th>\n",
       "      <th>f0</th>\n",
       "      <th>f1</th>\n",
       "      <th>f2</th>\n",
       "      <th>product</th>\n",
       "    </tr>\n",
       "  </thead>\n",
       "  <tbody>\n",
       "    <tr>\n",
       "      <th>count</th>\n",
       "      <td>100000.000000</td>\n",
       "      <td>100000.000000</td>\n",
       "      <td>100000.000000</td>\n",
       "      <td>100000.000000</td>\n",
       "    </tr>\n",
       "    <tr>\n",
       "      <th>mean</th>\n",
       "      <td>0.500419</td>\n",
       "      <td>0.250143</td>\n",
       "      <td>2.502647</td>\n",
       "      <td>92.500000</td>\n",
       "    </tr>\n",
       "    <tr>\n",
       "      <th>std</th>\n",
       "      <td>0.871832</td>\n",
       "      <td>0.504433</td>\n",
       "      <td>3.248248</td>\n",
       "      <td>44.288691</td>\n",
       "    </tr>\n",
       "    <tr>\n",
       "      <th>min</th>\n",
       "      <td>-1.408605</td>\n",
       "      <td>-0.848218</td>\n",
       "      <td>-12.088328</td>\n",
       "      <td>0.000000</td>\n",
       "    </tr>\n",
       "    <tr>\n",
       "      <th>25%</th>\n",
       "      <td>-0.072580</td>\n",
       "      <td>-0.200881</td>\n",
       "      <td>0.287748</td>\n",
       "      <td>56.497507</td>\n",
       "    </tr>\n",
       "    <tr>\n",
       "      <th>50%</th>\n",
       "      <td>0.502360</td>\n",
       "      <td>0.250252</td>\n",
       "      <td>2.515969</td>\n",
       "      <td>91.849972</td>\n",
       "    </tr>\n",
       "    <tr>\n",
       "      <th>75%</th>\n",
       "      <td>1.073581</td>\n",
       "      <td>0.700646</td>\n",
       "      <td>4.715088</td>\n",
       "      <td>128.564089</td>\n",
       "    </tr>\n",
       "    <tr>\n",
       "      <th>max</th>\n",
       "      <td>2.362331</td>\n",
       "      <td>1.343769</td>\n",
       "      <td>16.003790</td>\n",
       "      <td>185.364347</td>\n",
       "    </tr>\n",
       "  </tbody>\n",
       "</table>\n",
       "</div>"
      ],
      "text/plain": [
       "                  f0             f1             f2        product\n",
       "count  100000.000000  100000.000000  100000.000000  100000.000000\n",
       "mean        0.500419       0.250143       2.502647      92.500000\n",
       "std         0.871832       0.504433       3.248248      44.288691\n",
       "min        -1.408605      -0.848218     -12.088328       0.000000\n",
       "25%        -0.072580      -0.200881       0.287748      56.497507\n",
       "50%         0.502360       0.250252       2.515969      91.849972\n",
       "75%         1.073581       0.700646       4.715088     128.564089\n",
       "max         2.362331       1.343769      16.003790     185.364347"
      ]
     },
     "metadata": {},
     "output_type": "display_data"
    },
    {
     "data": {
      "image/png": "[encoded data removed]",
      "text/plain": [
       "<Figure size 432x288 with 2 Axes>"
      ]
     },
     "metadata": {
      "needs_background": "light"
     },
     "output_type": "display_data"
    }
   ],
   "source": [
    "display(data_1.head())\n",
    "print()\n",
    "data_1.info()\n",
    "display(data_1.describe())\n",
    "sns.heatmap(data_1.corr(), annot=True, cmap='coolwarm', vmin=-1, vmax=1)\n",
    "plt.title('Корреляция признаков')\n",
    "plt.show()"
   ]
  },
  {
   "cell_type": "markdown",
   "metadata": {},
   "source": [
    "**Регион 2**"
   ]
  },
  {
   "cell_type": "code",
   "execution_count": 4,
   "metadata": {
    "scrolled": false
   },
   "outputs": [
    {
     "data": {
      "text/html": [
       "<div>\n",
       "<style scoped>\n",
       "    .dataframe tbody tr th:only-of-type {\n",
       "        vertical-align: middle;\n",
       "    }\n",
       "\n",
       "    .dataframe tbody tr th {\n",
       "        vertical-align: top;\n",
       "    }\n",
       "\n",
       "    .dataframe thead th {\n",
       "        text-align: right;\n",
       "    }\n",
       "</style>\n",
       "<table border=\"1\" class=\"dataframe\">\n",
       "  <thead>\n",
       "    <tr style=\"text-align: right;\">\n",
       "      <th></th>\n",
       "      <th>id</th>\n",
       "      <th>f0</th>\n",
       "      <th>f1</th>\n",
       "      <th>f2</th>\n",
       "      <th>product</th>\n",
       "    </tr>\n",
       "  </thead>\n",
       "  <tbody>\n",
       "    <tr>\n",
       "      <th>0</th>\n",
       "      <td>kBEdx</td>\n",
       "      <td>-15.001348</td>\n",
       "      <td>-8.276000</td>\n",
       "      <td>-0.005876</td>\n",
       "      <td>3.179103</td>\n",
       "    </tr>\n",
       "    <tr>\n",
       "      <th>1</th>\n",
       "      <td>62mP7</td>\n",
       "      <td>14.272088</td>\n",
       "      <td>-3.475083</td>\n",
       "      <td>0.999183</td>\n",
       "      <td>26.953261</td>\n",
       "    </tr>\n",
       "    <tr>\n",
       "      <th>2</th>\n",
       "      <td>vyE1P</td>\n",
       "      <td>6.263187</td>\n",
       "      <td>-5.948386</td>\n",
       "      <td>5.001160</td>\n",
       "      <td>134.766305</td>\n",
       "    </tr>\n",
       "    <tr>\n",
       "      <th>3</th>\n",
       "      <td>KcrkZ</td>\n",
       "      <td>-13.081196</td>\n",
       "      <td>-11.506057</td>\n",
       "      <td>4.999415</td>\n",
       "      <td>137.945408</td>\n",
       "    </tr>\n",
       "    <tr>\n",
       "      <th>4</th>\n",
       "      <td>AHL4O</td>\n",
       "      <td>12.702195</td>\n",
       "      <td>-8.147433</td>\n",
       "      <td>5.004363</td>\n",
       "      <td>134.766305</td>\n",
       "    </tr>\n",
       "  </tbody>\n",
       "</table>\n",
       "</div>"
      ],
      "text/plain": [
       "      id         f0         f1        f2     product\n",
       "0  kBEdx -15.001348  -8.276000 -0.005876    3.179103\n",
       "1  62mP7  14.272088  -3.475083  0.999183   26.953261\n",
       "2  vyE1P   6.263187  -5.948386  5.001160  134.766305\n",
       "3  KcrkZ -13.081196 -11.506057  4.999415  137.945408\n",
       "4  AHL4O  12.702195  -8.147433  5.004363  134.766305"
      ]
     },
     "metadata": {},
     "output_type": "display_data"
    },
    {
     "name": "stdout",
     "output_type": "stream",
     "text": [
      "\n",
      "<class 'pandas.core.frame.DataFrame'>\n",
      "RangeIndex: 100000 entries, 0 to 99999\n",
      "Data columns (total 5 columns):\n",
      " #   Column   Non-Null Count   Dtype  \n",
      "---  ------   --------------   -----  \n",
      " 0   id       100000 non-null  object \n",
      " 1   f0       100000 non-null  float64\n",
      " 2   f1       100000 non-null  float64\n",
      " 3   f2       100000 non-null  float64\n",
      " 4   product  100000 non-null  float64\n",
      "dtypes: float64(4), object(1)\n",
      "memory usage: 3.8+ MB\n"
     ]
    },
    {
     "data": {
      "text/html": [
       "<div>\n",
       "<style scoped>\n",
       "    .dataframe tbody tr th:only-of-type {\n",
       "        vertical-align: middle;\n",
       "    }\n",
       "\n",
       "    .dataframe tbody tr th {\n",
       "        vertical-align: top;\n",
       "    }\n",
       "\n",
       "    .dataframe thead th {\n",
       "        text-align: right;\n",
       "    }\n",
       "</style>\n",
       "<table border=\"1\" class=\"dataframe\">\n",
       "  <thead>\n",
       "    <tr style=\"text-align: right;\">\n",
       "      <th></th>\n",
       "      <th>f0</th>\n",
       "      <th>f1</th>\n",
       "      <th>f2</th>\n",
       "      <th>product</th>\n",
       "    </tr>\n",
       "  </thead>\n",
       "  <tbody>\n",
       "    <tr>\n",
       "      <th>count</th>\n",
       "      <td>100000.000000</td>\n",
       "      <td>100000.000000</td>\n",
       "      <td>100000.000000</td>\n",
       "      <td>100000.000000</td>\n",
       "    </tr>\n",
       "    <tr>\n",
       "      <th>mean</th>\n",
       "      <td>1.141296</td>\n",
       "      <td>-4.796579</td>\n",
       "      <td>2.494541</td>\n",
       "      <td>68.825000</td>\n",
       "    </tr>\n",
       "    <tr>\n",
       "      <th>std</th>\n",
       "      <td>8.965932</td>\n",
       "      <td>5.119872</td>\n",
       "      <td>1.703572</td>\n",
       "      <td>45.944423</td>\n",
       "    </tr>\n",
       "    <tr>\n",
       "      <th>min</th>\n",
       "      <td>-31.609576</td>\n",
       "      <td>-26.358598</td>\n",
       "      <td>-0.018144</td>\n",
       "      <td>0.000000</td>\n",
       "    </tr>\n",
       "    <tr>\n",
       "      <th>25%</th>\n",
       "      <td>-6.298551</td>\n",
       "      <td>-8.267985</td>\n",
       "      <td>1.000021</td>\n",
       "      <td>26.953261</td>\n",
       "    </tr>\n",
       "    <tr>\n",
       "      <th>50%</th>\n",
       "      <td>1.153055</td>\n",
       "      <td>-4.813172</td>\n",
       "      <td>2.011479</td>\n",
       "      <td>57.085625</td>\n",
       "    </tr>\n",
       "    <tr>\n",
       "      <th>75%</th>\n",
       "      <td>8.621015</td>\n",
       "      <td>-1.332816</td>\n",
       "      <td>3.999904</td>\n",
       "      <td>107.813044</td>\n",
       "    </tr>\n",
       "    <tr>\n",
       "      <th>max</th>\n",
       "      <td>29.421755</td>\n",
       "      <td>18.734063</td>\n",
       "      <td>5.019721</td>\n",
       "      <td>137.945408</td>\n",
       "    </tr>\n",
       "  </tbody>\n",
       "</table>\n",
       "</div>"
      ],
      "text/plain": [
       "                  f0             f1             f2        product\n",
       "count  100000.000000  100000.000000  100000.000000  100000.000000\n",
       "mean        1.141296      -4.796579       2.494541      68.825000\n",
       "std         8.965932       5.119872       1.703572      45.944423\n",
       "min       -31.609576     -26.358598      -0.018144       0.000000\n",
       "25%        -6.298551      -8.267985       1.000021      26.953261\n",
       "50%         1.153055      -4.813172       2.011479      57.085625\n",
       "75%         8.621015      -1.332816       3.999904     107.813044\n",
       "max        29.421755      18.734063       5.019721     137.945408"
      ]
     },
     "metadata": {},
     "output_type": "display_data"
    },
    {
     "data": {
      "image/png": "[encoded data removed]",
      "text/plain": [
       "<Figure size 432x288 with 2 Axes>"
      ]
     },
     "metadata": {
      "needs_background": "light"
     },
     "output_type": "display_data"
    }
   ],
   "source": [
    "display(data_2.head())\n",
    "print()\n",
    "data_2.info()\n",
    "display(data_2.describe())\n",
    "sns.heatmap(data_2.corr(), annot=True, cmap='coolwarm', vmin=-1, vmax=1)\n",
    "plt.title('Корреляция признаков')\n",
    "plt.show()"
   ]
  },
  {
   "cell_type": "markdown",
   "metadata": {},
   "source": [
    "**Регион 3**"
   ]
  },
  {
   "cell_type": "code",
   "execution_count": 5,
   "metadata": {
    "scrolled": true
   },
   "outputs": [
    {
     "data": {
      "text/html": [
       "<div>\n",
       "<style scoped>\n",
       "    .dataframe tbody tr th:only-of-type {\n",
       "        vertical-align: middle;\n",
       "    }\n",
       "\n",
       "    .dataframe tbody tr th {\n",
       "        vertical-align: top;\n",
       "    }\n",
       "\n",
       "    .dataframe thead th {\n",
       "        text-align: right;\n",
       "    }\n",
       "</style>\n",
       "<table border=\"1\" class=\"dataframe\">\n",
       "  <thead>\n",
       "    <tr style=\"text-align: right;\">\n",
       "      <th></th>\n",
       "      <th>id</th>\n",
       "      <th>f0</th>\n",
       "      <th>f1</th>\n",
       "      <th>f2</th>\n",
       "      <th>product</th>\n",
       "    </tr>\n",
       "  </thead>\n",
       "  <tbody>\n",
       "    <tr>\n",
       "      <th>0</th>\n",
       "      <td>fwXo0</td>\n",
       "      <td>-1.146987</td>\n",
       "      <td>0.963328</td>\n",
       "      <td>-0.828965</td>\n",
       "      <td>27.758673</td>\n",
       "    </tr>\n",
       "    <tr>\n",
       "      <th>1</th>\n",
       "      <td>WJtFt</td>\n",
       "      <td>0.262778</td>\n",
       "      <td>0.269839</td>\n",
       "      <td>-2.530187</td>\n",
       "      <td>56.069697</td>\n",
       "    </tr>\n",
       "    <tr>\n",
       "      <th>2</th>\n",
       "      <td>ovLUW</td>\n",
       "      <td>0.194587</td>\n",
       "      <td>0.289035</td>\n",
       "      <td>-5.586433</td>\n",
       "      <td>62.871910</td>\n",
       "    </tr>\n",
       "    <tr>\n",
       "      <th>3</th>\n",
       "      <td>q6cA6</td>\n",
       "      <td>2.236060</td>\n",
       "      <td>-0.553760</td>\n",
       "      <td>0.930038</td>\n",
       "      <td>114.572842</td>\n",
       "    </tr>\n",
       "    <tr>\n",
       "      <th>4</th>\n",
       "      <td>WPMUX</td>\n",
       "      <td>-0.515993</td>\n",
       "      <td>1.716266</td>\n",
       "      <td>5.899011</td>\n",
       "      <td>149.600746</td>\n",
       "    </tr>\n",
       "  </tbody>\n",
       "</table>\n",
       "</div>"
      ],
      "text/plain": [
       "      id        f0        f1        f2     product\n",
       "0  fwXo0 -1.146987  0.963328 -0.828965   27.758673\n",
       "1  WJtFt  0.262778  0.269839 -2.530187   56.069697\n",
       "2  ovLUW  0.194587  0.289035 -5.586433   62.871910\n",
       "3  q6cA6  2.236060 -0.553760  0.930038  114.572842\n",
       "4  WPMUX -0.515993  1.716266  5.899011  149.600746"
      ]
     },
     "metadata": {},
     "output_type": "display_data"
    },
    {
     "name": "stdout",
     "output_type": "stream",
     "text": [
      "\n",
      "<class 'pandas.core.frame.DataFrame'>\n",
      "RangeIndex: 100000 entries, 0 to 99999\n",
      "Data columns (total 5 columns):\n",
      " #   Column   Non-Null Count   Dtype  \n",
      "---  ------   --------------   -----  \n",
      " 0   id       100000 non-null  object \n",
      " 1   f0       100000 non-null  float64\n",
      " 2   f1       100000 non-null  float64\n",
      " 3   f2       100000 non-null  float64\n",
      " 4   product  100000 non-null  float64\n",
      "dtypes: float64(4), object(1)\n",
      "memory usage: 3.8+ MB\n"
     ]
    },
    {
     "data": {
      "text/html": [
       "<div>\n",
       "<style scoped>\n",
       "    .dataframe tbody tr th:only-of-type {\n",
       "        vertical-align: middle;\n",
       "    }\n",
       "\n",
       "    .dataframe tbody tr th {\n",
       "        vertical-align: top;\n",
       "    }\n",
       "\n",
       "    .dataframe thead th {\n",
       "        text-align: right;\n",
       "    }\n",
       "</style>\n",
       "<table border=\"1\" class=\"dataframe\">\n",
       "  <thead>\n",
       "    <tr style=\"text-align: right;\">\n",
       "      <th></th>\n",
       "      <th>f0</th>\n",
       "      <th>f1</th>\n",
       "      <th>f2</th>\n",
       "      <th>product</th>\n",
       "    </tr>\n",
       "  </thead>\n",
       "  <tbody>\n",
       "    <tr>\n",
       "      <th>count</th>\n",
       "      <td>100000.000000</td>\n",
       "      <td>100000.000000</td>\n",
       "      <td>100000.000000</td>\n",
       "      <td>100000.000000</td>\n",
       "    </tr>\n",
       "    <tr>\n",
       "      <th>mean</th>\n",
       "      <td>0.002023</td>\n",
       "      <td>-0.002081</td>\n",
       "      <td>2.495128</td>\n",
       "      <td>95.000000</td>\n",
       "    </tr>\n",
       "    <tr>\n",
       "      <th>std</th>\n",
       "      <td>1.732045</td>\n",
       "      <td>1.730417</td>\n",
       "      <td>3.473445</td>\n",
       "      <td>44.749921</td>\n",
       "    </tr>\n",
       "    <tr>\n",
       "      <th>min</th>\n",
       "      <td>-8.760004</td>\n",
       "      <td>-7.084020</td>\n",
       "      <td>-11.970335</td>\n",
       "      <td>0.000000</td>\n",
       "    </tr>\n",
       "    <tr>\n",
       "      <th>25%</th>\n",
       "      <td>-1.162288</td>\n",
       "      <td>-1.174820</td>\n",
       "      <td>0.130359</td>\n",
       "      <td>59.450441</td>\n",
       "    </tr>\n",
       "    <tr>\n",
       "      <th>50%</th>\n",
       "      <td>0.009424</td>\n",
       "      <td>-0.009482</td>\n",
       "      <td>2.484236</td>\n",
       "      <td>94.925613</td>\n",
       "    </tr>\n",
       "    <tr>\n",
       "      <th>75%</th>\n",
       "      <td>1.158535</td>\n",
       "      <td>1.163678</td>\n",
       "      <td>4.858794</td>\n",
       "      <td>130.595027</td>\n",
       "    </tr>\n",
       "    <tr>\n",
       "      <th>max</th>\n",
       "      <td>7.238262</td>\n",
       "      <td>7.844801</td>\n",
       "      <td>16.739402</td>\n",
       "      <td>190.029838</td>\n",
       "    </tr>\n",
       "  </tbody>\n",
       "</table>\n",
       "</div>"
      ],
      "text/plain": [
       "                  f0             f1             f2        product\n",
       "count  100000.000000  100000.000000  100000.000000  100000.000000\n",
       "mean        0.002023      -0.002081       2.495128      95.000000\n",
       "std         1.732045       1.730417       3.473445      44.749921\n",
       "min        -8.760004      -7.084020     -11.970335       0.000000\n",
       "25%        -1.162288      -1.174820       0.130359      59.450441\n",
       "50%         0.009424      -0.009482       2.484236      94.925613\n",
       "75%         1.158535       1.163678       4.858794     130.595027\n",
       "max         7.238262       7.844801      16.739402     190.029838"
      ]
     },
     "metadata": {},
     "output_type": "display_data"
    },
    {
     "data": {
      "image/png": "[encoded data removed]",
      "text/plain": [
       "<Figure size 432x288 with 2 Axes>"
      ]
     },
     "metadata": {
      "needs_background": "light"
     },
     "output_type": "display_data"
    }
   ],
   "source": [
    "display(data_3.head())\n",
    "print()\n",
    "data_3.info()\n",
    "display(data_3.describe())\n",
    "sns.heatmap(data_3.corr(), annot=True, cmap='coolwarm', vmin=-1, vmax=1)\n",
    "plt.title('Корреляция признаков')\n",
    "plt.show()"
   ]
  },
  {
   "cell_type": "code",
   "execution_count": 6,
   "metadata": {},
   "outputs": [
    {
     "name": "stdout",
     "output_type": "stream",
     "text": [
      "0\n",
      "0\n",
      "0\n"
     ]
    }
   ],
   "source": [
    "#проверка на дубликаты\n",
    "print(data_1.duplicated().sum())\n",
    "print(data_2.duplicated().sum())\n",
    "print(data_2.duplicated().sum())"
   ]
  },
  {
   "cell_type": "markdown",
   "metadata": {},
   "source": [
    "В каждом датасете 100000 записей, пропусков и полных дубликатов нет.\n",
    "\n",
    "Средний запас сырья во 2 регионе заметно ниже, чем в 1 и 3: 68 тыс. против 92 тыс. и 95 тыс. бар. соответственно.\n",
    "\n",
    "Во всех регионах целевой признак сильнее всего корреллирует с параметром f2 - с увеличением параметра увеличиваемся и объем сырья. Наиболее заметно это в данных по 2 региону. В 1 регионе также можно заметить незначительную корреляцию с f0, f1."
   ]
  },
  {
   "cell_type": "markdown",
   "metadata": {},
   "source": [
    "## Обучение и проверка модели\n",
    "\n",
    "Разделим выборки на обущающую и валидационную в соотношении 75:25 и обучим модель линейной регрессии."
   ]
  },
  {
   "cell_type": "code",
   "execution_count": 7,
   "metadata": {},
   "outputs": [],
   "source": [
    "def split_train(data):\n",
    "    features = data.drop(['id','product'], axis=1) #сразу удалим столбец id, тк для обучения модели он не понадобится\n",
    "    target = data['product']\n",
    "    features_train, features_valid, target_train, target_valid = train_test_split(features, target, \n",
    "                                                                                  test_size=.25, random_state=state)\n",
    "    display(pd.DataFrame({\n",
    "        'Выборка': ['Обучающая','Валидационная'],\n",
    "        'Признаки': [features_train.shape, features_valid.shape],\n",
    "        'Целевой признак': [target_train.shape, target_valid.shape]\n",
    "    }))\n",
    "    model = LinearRegression()\n",
    "    model.fit(features_train, target_train)\n",
    "    predicted_valid = pd.Series(model.predict(features_valid), index=target_valid.index)\n",
    "    rmse = mean_squared_error(target_valid, predicted_valid)**0.5\n",
    "    mean_product = predicted_valid.mean()\n",
    "    print('Средний запас предсказанного сырья - {:.1f} тыс. бар.'.format(mean_product))\n",
    "    print()\n",
    "    print('RMSE - {:.1f} тыс. бар.'.format(rmse))\n",
    "    return predicted_valid, target"
   ]
  },
  {
   "cell_type": "markdown",
   "metadata": {},
   "source": [
    "**Регион 1**"
   ]
  },
  {
   "cell_type": "code",
   "execution_count": 8,
   "metadata": {
    "scrolled": true
   },
   "outputs": [
    {
     "data": {
      "text/html": [
       "<div>\n",
       "<style scoped>\n",
       "    .dataframe tbody tr th:only-of-type {\n",
       "        vertical-align: middle;\n",
       "    }\n",
       "\n",
       "    .dataframe tbody tr th {\n",
       "        vertical-align: top;\n",
       "    }\n",
       "\n",
       "    .dataframe thead th {\n",
       "        text-align: right;\n",
       "    }\n",
       "</style>\n",
       "<table border=\"1\" class=\"dataframe\">\n",
       "  <thead>\n",
       "    <tr style=\"text-align: right;\">\n",
       "      <th></th>\n",
       "      <th>Выборка</th>\n",
       "      <th>Признаки</th>\n",
       "      <th>Целевой признак</th>\n",
       "    </tr>\n",
       "  </thead>\n",
       "  <tbody>\n",
       "    <tr>\n",
       "      <th>0</th>\n",
       "      <td>Обучающая</td>\n",
       "      <td>(75000, 3)</td>\n",
       "      <td>(75000,)</td>\n",
       "    </tr>\n",
       "    <tr>\n",
       "      <th>1</th>\n",
       "      <td>Валидационная</td>\n",
       "      <td>(25000, 3)</td>\n",
       "      <td>(25000,)</td>\n",
       "    </tr>\n",
       "  </tbody>\n",
       "</table>\n",
       "</div>"
      ],
      "text/plain": [
       "         Выборка    Признаки Целевой признак\n",
       "0      Обучающая  (75000, 3)        (75000,)\n",
       "1  Валидационная  (25000, 3)        (25000,)"
      ]
     },
     "metadata": {},
     "output_type": "display_data"
    },
    {
     "name": "stdout",
     "output_type": "stream",
     "text": [
      "Средний запас предсказанного сырья - 92.6 тыс. бар.\n",
      "\n",
      "RMSE - 37.6 тыс. бар.\n"
     ]
    }
   ],
   "source": [
    "predicted_valid_1, target_1 = split_train(data_1)"
   ]
  },
  {
   "cell_type": "markdown",
   "metadata": {},
   "source": [
    "**Регион 2**"
   ]
  },
  {
   "cell_type": "code",
   "execution_count": 9,
   "metadata": {
    "scrolled": true
   },
   "outputs": [
    {
     "data": {
      "text/html": [
       "<div>\n",
       "<style scoped>\n",
       "    .dataframe tbody tr th:only-of-type {\n",
       "        vertical-align: middle;\n",
       "    }\n",
       "\n",
       "    .dataframe tbody tr th {\n",
       "        vertical-align: top;\n",
       "    }\n",
       "\n",
       "    .dataframe thead th {\n",
       "        text-align: right;\n",
       "    }\n",
       "</style>\n",
       "<table border=\"1\" class=\"dataframe\">\n",
       "  <thead>\n",
       "    <tr style=\"text-align: right;\">\n",
       "      <th></th>\n",
       "      <th>Выборка</th>\n",
       "      <th>Признаки</th>\n",
       "      <th>Целевой признак</th>\n",
       "    </tr>\n",
       "  </thead>\n",
       "  <tbody>\n",
       "    <tr>\n",
       "      <th>0</th>\n",
       "      <td>Обучающая</td>\n",
       "      <td>(75000, 3)</td>\n",
       "      <td>(75000,)</td>\n",
       "    </tr>\n",
       "    <tr>\n",
       "      <th>1</th>\n",
       "      <td>Валидационная</td>\n",
       "      <td>(25000, 3)</td>\n",
       "      <td>(25000,)</td>\n",
       "    </tr>\n",
       "  </tbody>\n",
       "</table>\n",
       "</div>"
      ],
      "text/plain": [
       "         Выборка    Признаки Целевой признак\n",
       "0      Обучающая  (75000, 3)        (75000,)\n",
       "1  Валидационная  (25000, 3)        (25000,)"
      ]
     },
     "metadata": {},
     "output_type": "display_data"
    },
    {
     "name": "stdout",
     "output_type": "stream",
     "text": [
      "Средний запас предсказанного сырья - 68.8 тыс. бар.\n",
      "\n",
      "RMSE - 0.9 тыс. бар.\n"
     ]
    }
   ],
   "source": [
    "predicted_valid_2, target_2 = split_train(data_2)"
   ]
  },
  {
   "cell_type": "markdown",
   "metadata": {},
   "source": [
    "**Регион 3**"
   ]
  },
  {
   "cell_type": "code",
   "execution_count": 10,
   "metadata": {
    "scrolled": true
   },
   "outputs": [
    {
     "data": {
      "text/html": [
       "<div>\n",
       "<style scoped>\n",
       "    .dataframe tbody tr th:only-of-type {\n",
       "        vertical-align: middle;\n",
       "    }\n",
       "\n",
       "    .dataframe tbody tr th {\n",
       "        vertical-align: top;\n",
       "    }\n",
       "\n",
       "    .dataframe thead th {\n",
       "        text-align: right;\n",
       "    }\n",
       "</style>\n",
       "<table border=\"1\" class=\"dataframe\">\n",
       "  <thead>\n",
       "    <tr style=\"text-align: right;\">\n",
       "      <th></th>\n",
       "      <th>Выборка</th>\n",
       "      <th>Признаки</th>\n",
       "      <th>Целевой признак</th>\n",
       "    </tr>\n",
       "  </thead>\n",
       "  <tbody>\n",
       "    <tr>\n",
       "      <th>0</th>\n",
       "      <td>Обучающая</td>\n",
       "      <td>(75000, 3)</td>\n",
       "      <td>(75000,)</td>\n",
       "    </tr>\n",
       "    <tr>\n",
       "      <th>1</th>\n",
       "      <td>Валидационная</td>\n",
       "      <td>(25000, 3)</td>\n",
       "      <td>(25000,)</td>\n",
       "    </tr>\n",
       "  </tbody>\n",
       "</table>\n",
       "</div>"
      ],
      "text/plain": [
       "         Выборка    Признаки Целевой признак\n",
       "0      Обучающая  (75000, 3)        (75000,)\n",
       "1  Валидационная  (25000, 3)        (25000,)"
      ]
     },
     "metadata": {},
     "output_type": "display_data"
    },
    {
     "name": "stdout",
     "output_type": "stream",
     "text": [
      "Средний запас предсказанного сырья - 95.1 тыс. бар.\n",
      "\n",
      "RMSE - 40.0 тыс. бар.\n"
     ]
    }
   ],
   "source": [
    "predicted_valid_3, target_3 = split_train(data_3)"
   ]
  },
  {
   "cell_type": "markdown",
   "metadata": {},
   "source": [
    "Самый большой средний объем сырья модель предсказала для 3 региона - 95,1 тыс. бар. против 92,6 тыс. в 1 регионе и 68,8 во 2 регионе.\n",
    "\n",
    "Наименьший показатель RMSE у 2 региона - 0,9 (видимо, влияет высокая корреляция с f2), в 1 и 3 регионах размер ошибки значительно больше - 37,6 и 40 соответственно."
   ]
  },
  {
   "cell_type": "markdown",
   "metadata": {},
   "source": [
    "## Расчёт прибыли и рисков \n",
    "### Подготовка к расчету прибыли"
   ]
  },
  {
   "cell_type": "markdown",
   "metadata": {},
   "source": [
    "Сохраним в отдельных переменных все ключевые значения для расчетов:"
   ]
  },
  {
   "cell_type": "code",
   "execution_count": 11,
   "metadata": {},
   "outputs": [],
   "source": [
    "budget = 10**10 #бюджет на разработку скважин в регионе\n",
    "income_per_bar = 450000 #доход с единицы продукта\n",
    "points_500 = 500 #точки для разведки\n",
    "points_200 = 200 #точки для разработки"
   ]
  },
  {
   "cell_type": "markdown",
   "metadata": {},
   "source": [
    "Рассчитаем достаточный объём сырья для безубыточной разработки новой скважины."
   ]
  },
  {
   "cell_type": "code",
   "execution_count": 12,
   "metadata": {},
   "outputs": [
    {
     "data": {
      "text/plain": [
       "111.11111111111111"
      ]
     },
     "execution_count": 12,
     "metadata": {},
     "output_type": "execute_result"
    }
   ],
   "source": [
    "budget/points_200/income_per_bar"
   ]
  },
  {
   "cell_type": "markdown",
   "metadata": {},
   "source": [
    "Минимальный объем сырья в скажине для безубыточной разработки составляет 111,11 тыс. бар. Средние значения объема сырья в 1 и 3 регионах близки к минимальному запасу, показатели по 2 региону значительно ниже, чем необходимо."
   ]
  },
  {
   "cell_type": "markdown",
   "metadata": {},
   "source": [
    "### Расчет прибыли \n",
    "\n",
    "Выберем скважины с максимальными значениями предсказаний, просуммируем целевое значение объёма сырья, соответствующее этим предсказаниям и рассчитаем прибыль для полученного объёма сырья."
   ]
  },
  {
   "cell_type": "code",
   "execution_count": 13,
   "metadata": {},
   "outputs": [],
   "source": [
    "def profit(target, predictions, points):\n",
    "    predict_sorted = predictions.sort_values(ascending=False)\n",
    "    top = target[predict_sorted.index][:points]\n",
    "    income = top.sum() * income_per_bar - budget\n",
    "    return income"
   ]
  },
  {
   "cell_type": "code",
   "execution_count": 14,
   "metadata": {
    "scrolled": true
   },
   "outputs": [
    {
     "name": "stdout",
     "output_type": "stream",
     "text": [
      "Прибыль региона 1 - 3.321 млрд. руб.\n",
      "Прибыль региона 2 - 2.415 млрд. руб.\n",
      "Прибыль региона 3 - 2.540 млрд. руб.\n"
     ]
    }
   ],
   "source": [
    "print('Прибыль региона 1 - {:.3f} млрд. руб.'.format(profit(target_1, predicted_valid_1, points_200)/10**9))\n",
    "print('Прибыль региона 2 - {:.3f} млрд. руб.'.format(profit(target_2, predicted_valid_2, points_200)/10**9))\n",
    "print('Прибыль региона 3 - {:.3f} млрд. руб.'.format(profit(target_3, predicted_valid_3, points_200)/10**9))"
   ]
  },
  {
   "cell_type": "markdown",
   "metadata": {},
   "source": [
    "### Расчет прибыли и рисков\n",
    "Применим технику Bootstrap с 1000 выборок, найдем среднюю прибыль, 95%-й доверительный интервал и риск убытков."
   ]
  },
  {
   "cell_type": "code",
   "execution_count": 15,
   "metadata": {},
   "outputs": [],
   "source": [
    "def bootstrap(predicted, fact):\n",
    "    values = []\n",
    "    for i in range(1000):\n",
    "        top_200_predict = predicted.sample(n=500, random_state=state).sort_values(ascending=False).head(200)\n",
    "        top_200_fact = fact[top_200_predict.index]\n",
    "        profit = top_200_fact.sum() * income_per_bar - budget\n",
    "        values.append(profit)\n",
    "    values = pd.Series(values)\n",
    "    lower = values.quantile(q=0.025)\n",
    "    upper = values.quantile(q=0.975)\n",
    "    region_mean = values.mean()\n",
    "    risk = (values < 0).mean()\n",
    "    print('Средняя прибыль региона составляет {:.2f} руб.'.format(region_mean))\n",
    "    print('95% доверительный интервал: {:.2f} - {:.2f} руб.'.format(lower, upper))\n",
    "    print('Риск убытков - {:.1%}'.format(risk))\n",
    "    return values"
   ]
  },
  {
   "cell_type": "markdown",
   "metadata": {},
   "source": [
    "**Регион 1**"
   ]
  },
  {
   "cell_type": "code",
   "execution_count": 16,
   "metadata": {
    "scrolled": true
   },
   "outputs": [
    {
     "name": "stdout",
     "output_type": "stream",
     "text": [
      "Средняя прибыль региона составляет 386002073.60 руб.\n",
      "95% доверительный интервал: -106853725.77 - 880368421.17 руб.\n",
      "Риск убытков - 6.5%\n"
     ]
    }
   ],
   "source": [
    "values_1 = bootstrap(predicted_valid_1, target_1)"
   ]
  },
  {
   "cell_type": "markdown",
   "metadata": {},
   "source": [
    "**Регион 2**"
   ]
  },
  {
   "cell_type": "code",
   "execution_count": 17,
   "metadata": {},
   "outputs": [
    {
     "name": "stdout",
     "output_type": "stream",
     "text": [
      "Средняя прибыль региона составляет 446085233.10 руб.\n",
      "95% доверительный интервал: 83844725.21 - 848796933.23 руб.\n",
      "Риск убытков - 0.7%\n"
     ]
    }
   ],
   "source": [
    "values_2 = bootstrap(predicted_valid_2, target_2)"
   ]
  },
  {
   "cell_type": "markdown",
   "metadata": {},
   "source": [
    "**Регион 3**"
   ]
  },
  {
   "cell_type": "code",
   "execution_count": 18,
   "metadata": {
    "scrolled": true
   },
   "outputs": [
    {
     "name": "stdout",
     "output_type": "stream",
     "text": [
      "Средняя прибыль региона составляет 337674883.21 руб.\n",
      "95% доверительный интервал: -194117198.45 - 862135933.84 руб.\n",
      "Риск убытков - 10.0%\n"
     ]
    }
   ],
   "source": [
    "values_3 = bootstrap(predicted_valid_3, target_3)"
   ]
  },
  {
   "cell_type": "markdown",
   "metadata": {},
   "source": [
    "Наиболее подходящий регион для разработки скважин - 2: наибольшая средняя прибыль, низкий риск убытков и доверительный интервал в положительных границах. Более того в регионах 1 и 3 риск убытков превышает допустимый порог."
   ]
  },
  {
   "cell_type": "markdown",
   "metadata": {},
   "source": [
    "## Вывод\n",
    "\n",
    "При выборе локации для разработки нефтяных сважин с наибольшей прибылью и наименьшими рисками были изучены данные о запасах сырья в трех регионах и построена модель линейной регрессии по каждому из них. \n",
    "\n",
    "На основании предсказаний модели техникой bootstrap были рассчитаны 95% доверительный интервал и риск убытков для 200 сважин с максимальным объемом сырья в каждом регионе.\n",
    "\n",
    "Исходя из лучшего показателя RMSE, наибольшей средней прибыли, низкого риска убытком и положительного доверительного интревала, для разработки скважин рекомендуется регион 2."
   ]
  }
 ],
 "metadata": {
  "ExecuteTimeLog": [
   {
    "duration": 1756,
    "start_time": "2022-12-06T13:32:32.251Z"
   },
   {
    "duration": 629,
    "start_time": "2022-12-06T13:35:09.688Z"
   },
   {
    "duration": 110,
    "start_time": "2022-12-06T13:36:57.329Z"
   },
   {
    "duration": 19,
    "start_time": "2022-12-06T13:37:02.871Z"
   },
   {
    "duration": 18,
    "start_time": "2022-12-06T13:38:04.562Z"
   },
   {
    "duration": 17,
    "start_time": "2022-12-06T13:38:25.580Z"
   },
   {
    "duration": 19,
    "start_time": "2022-12-06T13:38:31.858Z"
   },
   {
    "duration": 18,
    "start_time": "2022-12-06T13:38:37.414Z"
   },
   {
    "duration": 17,
    "start_time": "2022-12-06T13:38:52.339Z"
   },
   {
    "duration": 1584,
    "start_time": "2022-12-07T11:55:57.857Z"
   },
   {
    "duration": 2043,
    "start_time": "2022-12-07T11:55:59.445Z"
   },
   {
    "duration": 24,
    "start_time": "2022-12-07T11:56:02.970Z"
   },
   {
    "duration": 33,
    "start_time": "2022-12-07T11:56:16.019Z"
   },
   {
    "duration": 27,
    "start_time": "2022-12-07T11:56:21.109Z"
   },
   {
    "duration": 37,
    "start_time": "2022-12-07T11:56:25.540Z"
   },
   {
    "duration": 28,
    "start_time": "2022-12-07T11:56:41.514Z"
   },
   {
    "duration": 35,
    "start_time": "2022-12-07T11:56:45.226Z"
   },
   {
    "duration": 31,
    "start_time": "2022-12-07T11:56:53.153Z"
   },
   {
    "duration": 112,
    "start_time": "2022-12-07T13:02:18.469Z"
   },
   {
    "duration": 29,
    "start_time": "2022-12-07T13:03:49.188Z"
   },
   {
    "duration": 35,
    "start_time": "2022-12-07T13:04:02.915Z"
   },
   {
    "duration": 131,
    "start_time": "2022-12-07T13:04:08.275Z"
   },
   {
    "duration": 377,
    "start_time": "2022-12-07T13:04:16.859Z"
   },
   {
    "duration": 127,
    "start_time": "2022-12-07T13:05:09.860Z"
   },
   {
    "duration": 346,
    "start_time": "2022-12-07T13:05:52.042Z"
   },
   {
    "duration": 339,
    "start_time": "2022-12-07T13:06:02.838Z"
   },
   {
    "duration": 320,
    "start_time": "2022-12-07T13:06:10.850Z"
   },
   {
    "duration": 420,
    "start_time": "2022-12-07T13:07:43.323Z"
   },
   {
    "duration": 324,
    "start_time": "2022-12-07T13:08:13.658Z"
   },
   {
    "duration": 118,
    "start_time": "2022-12-07T13:09:58.163Z"
   },
   {
    "duration": 111,
    "start_time": "2022-12-07T13:10:11.666Z"
   },
   {
    "duration": 398,
    "start_time": "2022-12-07T13:16:00.866Z"
   },
   {
    "duration": 361,
    "start_time": "2022-12-07T13:16:09.195Z"
   },
   {
    "duration": 342,
    "start_time": "2022-12-07T13:16:28.715Z"
   },
   {
    "duration": 374,
    "start_time": "2022-12-07T13:16:45.779Z"
   },
   {
    "duration": 341,
    "start_time": "2022-12-07T13:16:56.506Z"
   },
   {
    "duration": 386,
    "start_time": "2022-12-07T13:17:13.545Z"
   },
   {
    "duration": 392,
    "start_time": "2022-12-07T13:17:20.037Z"
   },
   {
    "duration": 339,
    "start_time": "2022-12-07T13:17:28.909Z"
   },
   {
    "duration": 348,
    "start_time": "2022-12-07T13:17:45.995Z"
   },
   {
    "duration": 428,
    "start_time": "2022-12-07T13:22:54.010Z"
   },
   {
    "duration": 350,
    "start_time": "2022-12-07T13:22:55.817Z"
   },
   {
    "duration": 4,
    "start_time": "2022-12-07T14:00:37.725Z"
   },
   {
    "duration": 4,
    "start_time": "2022-12-07T14:00:47.125Z"
   },
   {
    "duration": 11,
    "start_time": "2022-12-07T14:02:00.877Z"
   },
   {
    "duration": 13,
    "start_time": "2022-12-07T14:02:31.557Z"
   },
   {
    "duration": 4,
    "start_time": "2022-12-07T14:02:38.373Z"
   },
   {
    "duration": 4,
    "start_time": "2022-12-07T14:02:58.293Z"
   },
   {
    "duration": 13,
    "start_time": "2022-12-07T14:03:18.709Z"
   },
   {
    "duration": 4,
    "start_time": "2022-12-07T14:06:12.741Z"
   },
   {
    "duration": 17,
    "start_time": "2022-12-07T14:06:28.141Z"
   },
   {
    "duration": 5,
    "start_time": "2022-12-07T14:15:04.491Z"
   },
   {
    "duration": 9,
    "start_time": "2022-12-07T14:15:06.339Z"
   },
   {
    "duration": 28,
    "start_time": "2022-12-07T14:15:18.379Z"
   },
   {
    "duration": 4,
    "start_time": "2022-12-07T14:15:26.399Z"
   },
   {
    "duration": 50,
    "start_time": "2022-12-07T14:15:27.907Z"
   },
   {
    "duration": 4,
    "start_time": "2022-12-07T14:24:01.778Z"
   },
   {
    "duration": 9,
    "start_time": "2022-12-07T14:24:05.866Z"
   },
   {
    "duration": 28,
    "start_time": "2022-12-07T14:24:11.530Z"
   },
   {
    "duration": 98,
    "start_time": "2022-12-07T14:27:48.241Z"
   },
   {
    "duration": 96,
    "start_time": "2022-12-07T14:28:10.513Z"
   },
   {
    "duration": 3,
    "start_time": "2022-12-07T14:28:18.858Z"
   },
   {
    "duration": 96,
    "start_time": "2022-12-07T14:28:20.481Z"
   },
   {
    "duration": 83,
    "start_time": "2022-12-07T14:28:29.768Z"
   },
   {
    "duration": 93,
    "start_time": "2022-12-07T14:28:44.752Z"
   },
   {
    "duration": 10,
    "start_time": "2022-12-07T14:29:05.104Z"
   },
   {
    "duration": 4,
    "start_time": "2022-12-07T14:29:52.808Z"
   },
   {
    "duration": 9,
    "start_time": "2022-12-07T14:30:01.329Z"
   },
   {
    "duration": 7,
    "start_time": "2022-12-07T14:30:45.921Z"
   },
   {
    "duration": 14,
    "start_time": "2022-12-07T14:33:13.468Z"
   },
   {
    "duration": 14,
    "start_time": "2022-12-07T14:33:20.913Z"
   },
   {
    "duration": 4,
    "start_time": "2022-12-07T14:38:05.458Z"
   },
   {
    "duration": 228,
    "start_time": "2022-12-07T14:38:17.799Z"
   },
   {
    "duration": 11,
    "start_time": "2022-12-07T14:38:56.175Z"
   },
   {
    "duration": 5,
    "start_time": "2022-12-07T14:38:58.456Z"
   },
   {
    "duration": 22,
    "start_time": "2022-12-07T14:38:59.735Z"
   },
   {
    "duration": 4,
    "start_time": "2022-12-07T14:47:00.191Z"
   },
   {
    "duration": 65,
    "start_time": "2022-12-07T14:47:01.666Z"
   },
   {
    "duration": 4,
    "start_time": "2022-12-07T14:48:55.384Z"
   },
   {
    "duration": 47,
    "start_time": "2022-12-07T14:48:56.879Z"
   },
   {
    "duration": 4,
    "start_time": "2022-12-07T14:50:37.695Z"
   },
   {
    "duration": 20,
    "start_time": "2022-12-07T14:50:38.963Z"
   },
   {
    "duration": 107,
    "start_time": "2022-12-07T14:52:02.784Z"
   },
   {
    "duration": 149,
    "start_time": "2022-12-07T14:52:15.455Z"
   },
   {
    "duration": 104,
    "start_time": "2022-12-07T14:52:28.944Z"
   },
   {
    "duration": 103,
    "start_time": "2022-12-07T14:52:35.839Z"
   },
   {
    "duration": 5,
    "start_time": "2022-12-07T14:53:02.711Z"
   },
   {
    "duration": 20,
    "start_time": "2022-12-07T14:53:04.350Z"
   },
   {
    "duration": 131,
    "start_time": "2022-12-07T14:55:03.832Z"
   },
   {
    "duration": 5,
    "start_time": "2022-12-07T14:55:07.880Z"
   },
   {
    "duration": 25,
    "start_time": "2022-12-07T14:55:10.215Z"
   },
   {
    "duration": 4,
    "start_time": "2022-12-07T14:55:48.768Z"
   },
   {
    "duration": 82,
    "start_time": "2022-12-07T14:55:49.943Z"
   },
   {
    "duration": 5,
    "start_time": "2022-12-07T14:56:46.159Z"
   },
   {
    "duration": 22,
    "start_time": "2022-12-07T14:56:47.657Z"
   },
   {
    "duration": 5,
    "start_time": "2022-12-07T14:57:25.128Z"
   },
   {
    "duration": 93,
    "start_time": "2022-12-07T14:57:26.135Z"
   },
   {
    "duration": 4,
    "start_time": "2022-12-07T14:57:41.784Z"
   },
   {
    "duration": 38,
    "start_time": "2022-12-07T14:57:44.887Z"
   },
   {
    "duration": 5,
    "start_time": "2022-12-07T14:58:00.407Z"
   },
   {
    "duration": 51,
    "start_time": "2022-12-07T14:58:02.175Z"
   },
   {
    "duration": 5,
    "start_time": "2022-12-07T14:59:34.296Z"
   },
   {
    "duration": 33,
    "start_time": "2022-12-07T14:59:35.426Z"
   },
   {
    "duration": 5,
    "start_time": "2022-12-07T14:59:44.935Z"
   },
   {
    "duration": 30,
    "start_time": "2022-12-07T14:59:46.590Z"
   },
   {
    "duration": 27,
    "start_time": "2022-12-07T15:00:20.943Z"
   },
   {
    "duration": 104,
    "start_time": "2022-12-07T15:00:37.014Z"
   },
   {
    "duration": 113,
    "start_time": "2022-12-07T15:03:28.614Z"
   },
   {
    "duration": 85,
    "start_time": "2022-12-07T15:03:51.142Z"
   },
   {
    "duration": 1583,
    "start_time": "2022-12-08T08:49:31.934Z"
   },
   {
    "duration": 664,
    "start_time": "2022-12-08T08:49:33.520Z"
   },
   {
    "duration": 525,
    "start_time": "2022-12-08T08:49:34.185Z"
   },
   {
    "duration": 480,
    "start_time": "2022-12-08T08:49:34.712Z"
   },
   {
    "duration": 411,
    "start_time": "2022-12-08T08:49:35.195Z"
   },
   {
    "duration": 134,
    "start_time": "2022-12-08T08:49:35.608Z"
   },
   {
    "duration": 15,
    "start_time": "2022-12-08T08:49:35.744Z"
   },
   {
    "duration": 198,
    "start_time": "2022-12-08T08:49:35.761Z"
   },
   {
    "duration": 200,
    "start_time": "2022-12-08T08:49:35.962Z"
   },
   {
    "duration": 195,
    "start_time": "2022-12-08T08:49:36.164Z"
   },
   {
    "duration": 5,
    "start_time": "2022-12-08T08:49:59.635Z"
   },
   {
    "duration": 33,
    "start_time": "2022-12-08T08:50:01.882Z"
   },
   {
    "duration": 35,
    "start_time": "2022-12-08T08:50:04.075Z"
   },
   {
    "duration": 33,
    "start_time": "2022-12-08T08:50:06.098Z"
   },
   {
    "duration": 6,
    "start_time": "2022-12-08T08:51:01.973Z"
   },
   {
    "duration": 36,
    "start_time": "2022-12-08T08:51:03.794Z"
   },
   {
    "duration": 6,
    "start_time": "2022-12-08T08:51:31.371Z"
   },
   {
    "duration": 34,
    "start_time": "2022-12-08T08:51:33.027Z"
   },
   {
    "duration": 6,
    "start_time": "2022-12-08T08:51:50.219Z"
   },
   {
    "duration": 33,
    "start_time": "2022-12-08T08:51:52.275Z"
   },
   {
    "duration": 37,
    "start_time": "2022-12-08T08:52:01.146Z"
   },
   {
    "duration": 33,
    "start_time": "2022-12-08T08:52:02.930Z"
   },
   {
    "duration": 6,
    "start_time": "2022-12-08T10:11:53.613Z"
   },
   {
    "duration": 3,
    "start_time": "2022-12-08T12:17:34.356Z"
   },
   {
    "duration": 2,
    "start_time": "2022-12-08T12:18:42.364Z"
   },
   {
    "duration": 4,
    "start_time": "2022-12-08T13:04:51.854Z"
   },
   {
    "duration": 4,
    "start_time": "2022-12-08T13:07:20.933Z"
   },
   {
    "duration": 4,
    "start_time": "2022-12-08T13:07:25.103Z"
   },
   {
    "duration": 139,
    "start_time": "2022-12-08T13:32:29.947Z"
   },
   {
    "duration": 3,
    "start_time": "2022-12-08T13:35:08.603Z"
   },
   {
    "duration": 3,
    "start_time": "2022-12-08T13:35:11.210Z"
   },
   {
    "duration": 399,
    "start_time": "2022-12-08T13:37:02.611Z"
   },
   {
    "duration": 9,
    "start_time": "2022-12-08T13:37:39.034Z"
   },
   {
    "duration": 3,
    "start_time": "2022-12-08T13:44:41.123Z"
   },
   {
    "duration": 9,
    "start_time": "2022-12-08T13:45:03.882Z"
   },
   {
    "duration": 3,
    "start_time": "2022-12-08T13:45:52.962Z"
   },
   {
    "duration": 9,
    "start_time": "2022-12-08T13:45:53.644Z"
   },
   {
    "duration": 10,
    "start_time": "2022-12-08T13:47:11.305Z"
   },
   {
    "duration": 4,
    "start_time": "2022-12-08T13:49:53.649Z"
   },
   {
    "duration": 11,
    "start_time": "2022-12-08T13:49:54.240Z"
   },
   {
    "duration": 3,
    "start_time": "2022-12-08T13:50:07.209Z"
   },
   {
    "duration": 13,
    "start_time": "2022-12-08T13:50:07.624Z"
   },
   {
    "duration": 3,
    "start_time": "2022-12-08T13:50:14.088Z"
   },
   {
    "duration": 9,
    "start_time": "2022-12-08T13:50:14.473Z"
   },
   {
    "duration": 11,
    "start_time": "2022-12-08T14:09:51.263Z"
   },
   {
    "duration": 91,
    "start_time": "2022-12-08T14:12:21.671Z"
   },
   {
    "duration": 35,
    "start_time": "2022-12-08T14:12:26.586Z"
   },
   {
    "duration": 22,
    "start_time": "2022-12-08T14:12:32.703Z"
   },
   {
    "duration": 21,
    "start_time": "2022-12-08T14:14:42.647Z"
   },
   {
    "duration": 21,
    "start_time": "2022-12-08T14:15:20.078Z"
   },
   {
    "duration": 4,
    "start_time": "2022-12-08T14:18:33.902Z"
   },
   {
    "duration": 24,
    "start_time": "2022-12-08T14:19:43.670Z"
   },
   {
    "duration": 3,
    "start_time": "2022-12-08T14:21:11.206Z"
   },
   {
    "duration": 20,
    "start_time": "2022-12-08T14:21:11.701Z"
   },
   {
    "duration": 4,
    "start_time": "2022-12-08T14:21:46.309Z"
   },
   {
    "duration": 19,
    "start_time": "2022-12-08T14:21:46.821Z"
   },
   {
    "duration": 3,
    "start_time": "2022-12-08T14:22:01.646Z"
   },
   {
    "duration": 14,
    "start_time": "2022-12-08T14:22:02.021Z"
   },
   {
    "duration": 4,
    "start_time": "2022-12-08T14:22:43.861Z"
   },
   {
    "duration": 19,
    "start_time": "2022-12-08T14:22:44.342Z"
   },
   {
    "duration": 3,
    "start_time": "2022-12-08T14:30:07.270Z"
   },
   {
    "duration": 421,
    "start_time": "2022-12-08T14:30:07.276Z"
   },
   {
    "duration": 405,
    "start_time": "2022-12-08T14:30:07.699Z"
   },
   {
    "duration": 417,
    "start_time": "2022-12-08T14:30:08.107Z"
   },
   {
    "duration": 475,
    "start_time": "2022-12-08T14:30:08.526Z"
   },
   {
    "duration": 137,
    "start_time": "2022-12-08T14:30:09.003Z"
   },
   {
    "duration": 5,
    "start_time": "2022-12-08T14:30:09.142Z"
   },
   {
    "duration": 34,
    "start_time": "2022-12-08T14:30:09.154Z"
   },
   {
    "duration": 118,
    "start_time": "2022-12-08T14:30:09.258Z"
   },
   {
    "duration": 199,
    "start_time": "2022-12-08T14:30:09.379Z"
   },
   {
    "duration": 83,
    "start_time": "2022-12-08T14:30:09.580Z"
   },
   {
    "duration": 95,
    "start_time": "2022-12-08T14:30:09.665Z"
   },
   {
    "duration": 10,
    "start_time": "2022-12-08T14:30:09.763Z"
   },
   {
    "duration": 19,
    "start_time": "2022-12-08T14:30:11.931Z"
   },
   {
    "duration": 19,
    "start_time": "2022-12-08T14:32:16.876Z"
   },
   {
    "duration": 24,
    "start_time": "2022-12-08T14:33:10.380Z"
   },
   {
    "duration": 20,
    "start_time": "2022-12-08T14:33:35.963Z"
   },
   {
    "duration": 4,
    "start_time": "2022-12-08T14:37:31.572Z"
   },
   {
    "duration": 10,
    "start_time": "2022-12-08T14:38:12.299Z"
   },
   {
    "duration": 22,
    "start_time": "2022-12-08T14:38:20.411Z"
   },
   {
    "duration": 6,
    "start_time": "2022-12-08T14:41:26.028Z"
   },
   {
    "duration": 7,
    "start_time": "2022-12-08T14:41:45.068Z"
   },
   {
    "duration": 19,
    "start_time": "2022-12-08T14:41:56.971Z"
   },
   {
    "duration": 4,
    "start_time": "2022-12-08T14:44:18.003Z"
   },
   {
    "duration": 13,
    "start_time": "2022-12-08T14:44:30.746Z"
   },
   {
    "duration": 5,
    "start_time": "2022-12-08T14:44:40.931Z"
   },
   {
    "duration": 1382,
    "start_time": "2022-12-08T14:44:42.306Z"
   },
   {
    "duration": 1523,
    "start_time": "2022-12-08T14:45:13.811Z"
   },
   {
    "duration": 5,
    "start_time": "2022-12-08T14:52:20.802Z"
   },
   {
    "duration": 4,
    "start_time": "2022-12-08T14:53:01.869Z"
   },
   {
    "duration": 437,
    "start_time": "2022-12-08T14:53:01.875Z"
   },
   {
    "duration": 452,
    "start_time": "2022-12-08T14:53:02.314Z"
   },
   {
    "duration": 487,
    "start_time": "2022-12-08T14:53:02.768Z"
   },
   {
    "duration": 448,
    "start_time": "2022-12-08T14:53:03.257Z"
   },
   {
    "duration": 128,
    "start_time": "2022-12-08T14:53:03.708Z"
   },
   {
    "duration": 6,
    "start_time": "2022-12-08T14:53:03.838Z"
   },
   {
    "duration": 121,
    "start_time": "2022-12-08T14:53:03.845Z"
   },
   {
    "duration": 110,
    "start_time": "2022-12-08T14:53:03.972Z"
   },
   {
    "duration": 184,
    "start_time": "2022-12-08T14:53:04.084Z"
   },
   {
    "duration": 4,
    "start_time": "2022-12-08T14:53:04.270Z"
   },
   {
    "duration": 81,
    "start_time": "2022-12-08T14:53:04.277Z"
   },
   {
    "duration": 96,
    "start_time": "2022-12-08T14:53:04.360Z"
   },
   {
    "duration": 42,
    "start_time": "2022-12-08T14:53:04.461Z"
   },
   {
    "duration": 5,
    "start_time": "2022-12-08T14:53:16.714Z"
   },
   {
    "duration": 24,
    "start_time": "2022-12-08T14:53:37.474Z"
   },
   {
    "duration": 1267,
    "start_time": "2022-12-08T14:53:58.845Z"
   },
   {
    "duration": 1755,
    "start_time": "2022-12-09T07:53:48.368Z"
   },
   {
    "duration": 644,
    "start_time": "2022-12-09T07:53:50.126Z"
   },
   {
    "duration": 482,
    "start_time": "2022-12-09T07:53:50.771Z"
   },
   {
    "duration": 389,
    "start_time": "2022-12-09T07:53:51.255Z"
   },
   {
    "duration": 391,
    "start_time": "2022-12-09T07:53:51.648Z"
   },
   {
    "duration": 145,
    "start_time": "2022-12-09T07:53:52.041Z"
   },
   {
    "duration": 7,
    "start_time": "2022-12-09T07:53:52.188Z"
   },
   {
    "duration": 85,
    "start_time": "2022-12-09T07:53:52.197Z"
   },
   {
    "duration": 125,
    "start_time": "2022-12-09T07:53:52.284Z"
   },
   {
    "duration": 187,
    "start_time": "2022-12-09T07:53:52.411Z"
   },
   {
    "duration": 78,
    "start_time": "2022-12-09T07:53:52.600Z"
   },
   {
    "duration": 103,
    "start_time": "2022-12-09T07:53:52.680Z"
   },
   {
    "duration": 8,
    "start_time": "2022-12-09T07:53:52.785Z"
   },
   {
    "duration": 22,
    "start_time": "2022-12-09T07:53:52.796Z"
   },
   {
    "duration": 5,
    "start_time": "2022-12-09T07:53:52.820Z"
   },
   {
    "duration": 1177,
    "start_time": "2022-12-09T07:53:52.826Z"
   },
   {
    "duration": 6,
    "start_time": "2022-12-09T07:54:49.193Z"
   },
   {
    "duration": 1368,
    "start_time": "2022-12-09T07:54:50.879Z"
   },
   {
    "duration": 6,
    "start_time": "2022-12-09T07:55:03.570Z"
   },
   {
    "duration": 1158,
    "start_time": "2022-12-09T07:55:06.968Z"
   },
   {
    "duration": 5,
    "start_time": "2022-12-09T08:22:25.468Z"
   },
   {
    "duration": 17,
    "start_time": "2022-12-09T08:22:50.956Z"
   },
   {
    "duration": 6,
    "start_time": "2022-12-09T08:23:07.546Z"
   },
   {
    "duration": 22,
    "start_time": "2022-12-09T08:23:08.282Z"
   },
   {
    "duration": 6,
    "start_time": "2022-12-09T08:26:34.393Z"
   },
   {
    "duration": 1219,
    "start_time": "2022-12-09T08:26:35.387Z"
   },
   {
    "duration": 6,
    "start_time": "2022-12-09T08:29:39.033Z"
   },
   {
    "duration": 1200,
    "start_time": "2022-12-09T08:29:39.472Z"
   },
   {
    "duration": 6,
    "start_time": "2022-12-09T08:29:46.842Z"
   },
   {
    "duration": 1277,
    "start_time": "2022-12-09T08:29:47.313Z"
   },
   {
    "duration": 5,
    "start_time": "2022-12-09T08:32:47.649Z"
   },
   {
    "duration": 1262,
    "start_time": "2022-12-09T08:32:48.032Z"
   },
   {
    "duration": 6,
    "start_time": "2022-12-09T08:32:54.767Z"
   },
   {
    "duration": 1179,
    "start_time": "2022-12-09T08:32:54.936Z"
   },
   {
    "duration": 1163,
    "start_time": "2022-12-09T08:37:02.772Z"
   },
   {
    "duration": 1160,
    "start_time": "2022-12-09T08:37:04.152Z"
   },
   {
    "duration": 1151,
    "start_time": "2022-12-09T08:37:34.135Z"
   },
   {
    "duration": 62,
    "start_time": "2022-12-09T09:20:21.413Z"
   },
   {
    "duration": 32,
    "start_time": "2022-12-09T09:20:32.269Z"
   },
   {
    "duration": 394,
    "start_time": "2022-12-09T09:20:38.956Z"
   },
   {
    "duration": 1378,
    "start_time": "2022-12-09T09:34:53.918Z"
   },
   {
    "duration": 395,
    "start_time": "2022-12-09T09:34:55.298Z"
   },
   {
    "duration": 423,
    "start_time": "2022-12-09T09:34:55.695Z"
   },
   {
    "duration": 390,
    "start_time": "2022-12-09T09:34:56.121Z"
   },
   {
    "duration": 388,
    "start_time": "2022-12-09T09:34:56.513Z"
   },
   {
    "duration": 137,
    "start_time": "2022-12-09T09:34:56.903Z"
   },
   {
    "duration": 6,
    "start_time": "2022-12-09T09:34:57.042Z"
   },
   {
    "duration": 47,
    "start_time": "2022-12-09T09:34:57.050Z"
   },
   {
    "duration": 198,
    "start_time": "2022-12-09T09:34:57.099Z"
   },
   {
    "duration": 193,
    "start_time": "2022-12-09T09:34:57.300Z"
   },
   {
    "duration": 4,
    "start_time": "2022-12-09T09:34:57.494Z"
   },
   {
    "duration": 105,
    "start_time": "2022-12-09T09:34:57.578Z"
   },
   {
    "duration": 13,
    "start_time": "2022-12-09T09:34:57.685Z"
   },
   {
    "duration": 24,
    "start_time": "2022-12-09T09:34:57.699Z"
   },
   {
    "duration": 4,
    "start_time": "2022-12-09T09:34:57.725Z"
   },
   {
    "duration": 1251,
    "start_time": "2022-12-09T09:34:57.732Z"
   },
   {
    "duration": 1174,
    "start_time": "2022-12-09T09:34:58.985Z"
   },
   {
    "duration": 1172,
    "start_time": "2022-12-09T09:35:00.160Z"
   },
   {
    "duration": 15,
    "start_time": "2022-12-09T09:35:44.386Z"
   },
   {
    "duration": 38,
    "start_time": "2022-12-09T09:36:02.850Z"
   },
   {
    "duration": 10,
    "start_time": "2022-12-09T09:36:08.151Z"
   },
   {
    "duration": 321,
    "start_time": "2022-12-09T09:36:13.090Z"
   },
   {
    "duration": 421,
    "start_time": "2022-12-09T09:37:38.483Z"
   },
   {
    "duration": 1413,
    "start_time": "2022-12-09T09:37:51.820Z"
   },
   {
    "duration": 415,
    "start_time": "2022-12-09T09:37:53.236Z"
   },
   {
    "duration": 429,
    "start_time": "2022-12-09T09:37:53.653Z"
   },
   {
    "duration": 420,
    "start_time": "2022-12-09T09:37:54.085Z"
   },
   {
    "duration": 400,
    "start_time": "2022-12-09T09:37:54.507Z"
   },
   {
    "duration": 163,
    "start_time": "2022-12-09T09:37:54.910Z"
   },
   {
    "duration": 6,
    "start_time": "2022-12-09T09:37:55.077Z"
   },
   {
    "duration": 50,
    "start_time": "2022-12-09T09:37:55.085Z"
   },
   {
    "duration": 126,
    "start_time": "2022-12-09T09:37:55.179Z"
   },
   {
    "duration": 193,
    "start_time": "2022-12-09T09:37:55.306Z"
   },
   {
    "duration": 5,
    "start_time": "2022-12-09T09:37:55.577Z"
   },
   {
    "duration": 105,
    "start_time": "2022-12-09T09:37:55.584Z"
   },
   {
    "duration": 10,
    "start_time": "2022-12-09T09:37:55.691Z"
   },
   {
    "duration": 31,
    "start_time": "2022-12-09T09:37:55.704Z"
   },
   {
    "duration": 13,
    "start_time": "2022-12-09T09:37:55.736Z"
   },
   {
    "duration": 1193,
    "start_time": "2022-12-09T09:37:55.750Z"
   },
   {
    "duration": 1177,
    "start_time": "2022-12-09T09:37:56.945Z"
   },
   {
    "duration": 1235,
    "start_time": "2022-12-09T09:37:58.124Z"
   },
   {
    "duration": 5,
    "start_time": "2022-12-09T09:39:44.678Z"
   },
   {
    "duration": 430,
    "start_time": "2022-12-09T09:39:44.685Z"
   },
   {
    "duration": 404,
    "start_time": "2022-12-09T09:39:45.117Z"
   },
   {
    "duration": 518,
    "start_time": "2022-12-09T09:39:45.523Z"
   },
   {
    "duration": 398,
    "start_time": "2022-12-09T09:39:46.044Z"
   },
   {
    "duration": 163,
    "start_time": "2022-12-09T09:39:46.444Z"
   },
   {
    "duration": 6,
    "start_time": "2022-12-09T09:39:46.610Z"
   },
   {
    "duration": 63,
    "start_time": "2022-12-09T09:39:46.618Z"
   },
   {
    "duration": 199,
    "start_time": "2022-12-09T09:39:46.683Z"
   },
   {
    "duration": 124,
    "start_time": "2022-12-09T09:39:46.885Z"
   },
   {
    "duration": 4,
    "start_time": "2022-12-09T09:39:47.079Z"
   },
   {
    "duration": 103,
    "start_time": "2022-12-09T09:39:47.090Z"
   },
   {
    "duration": 10,
    "start_time": "2022-12-09T09:39:47.196Z"
   },
   {
    "duration": 33,
    "start_time": "2022-12-09T09:39:47.209Z"
   },
   {
    "duration": 6,
    "start_time": "2022-12-09T09:39:47.244Z"
   },
   {
    "duration": 1303,
    "start_time": "2022-12-09T09:39:47.252Z"
   },
   {
    "duration": 1229,
    "start_time": "2022-12-09T09:39:48.557Z"
   },
   {
    "duration": 1262,
    "start_time": "2022-12-09T09:39:49.788Z"
   },
   {
    "duration": 1573,
    "start_time": "2022-12-09T09:40:04.685Z"
   },
   {
    "duration": 442,
    "start_time": "2022-12-09T09:40:06.260Z"
   },
   {
    "duration": 429,
    "start_time": "2022-12-09T09:40:06.703Z"
   },
   {
    "duration": 408,
    "start_time": "2022-12-09T09:40:07.134Z"
   },
   {
    "duration": 434,
    "start_time": "2022-12-09T09:40:07.544Z"
   },
   {
    "duration": 174,
    "start_time": "2022-12-09T09:40:07.980Z"
   },
   {
    "duration": 6,
    "start_time": "2022-12-09T09:40:08.156Z"
   },
   {
    "duration": 103,
    "start_time": "2022-12-09T09:40:08.178Z"
   },
   {
    "duration": 138,
    "start_time": "2022-12-09T09:40:08.284Z"
   },
   {
    "duration": 136,
    "start_time": "2022-12-09T09:40:08.478Z"
   },
   {
    "duration": 4,
    "start_time": "2022-12-09T09:40:08.679Z"
   },
   {
    "duration": 147,
    "start_time": "2022-12-09T09:40:08.685Z"
   },
   {
    "duration": 34,
    "start_time": "2022-12-09T09:40:08.834Z"
   },
   {
    "duration": 47,
    "start_time": "2022-12-09T09:40:08.870Z"
   },
   {
    "duration": 44,
    "start_time": "2022-12-09T09:40:08.919Z"
   },
   {
    "duration": 1318,
    "start_time": "2022-12-09T09:40:08.965Z"
   },
   {
    "duration": 1266,
    "start_time": "2022-12-09T09:40:10.286Z"
   },
   {
    "duration": 1211,
    "start_time": "2022-12-09T09:40:11.555Z"
   },
   {
    "duration": 1588,
    "start_time": "2022-12-09T09:40:50.543Z"
   },
   {
    "duration": 430,
    "start_time": "2022-12-09T09:40:52.133Z"
   },
   {
    "duration": 459,
    "start_time": "2022-12-09T09:40:52.564Z"
   },
   {
    "duration": 415,
    "start_time": "2022-12-09T09:40:53.026Z"
   },
   {
    "duration": 417,
    "start_time": "2022-12-09T09:40:53.444Z"
   },
   {
    "duration": 181,
    "start_time": "2022-12-09T09:40:53.863Z"
   },
   {
    "duration": 6,
    "start_time": "2022-12-09T09:40:54.046Z"
   },
   {
    "duration": 125,
    "start_time": "2022-12-09T09:40:54.053Z"
   },
   {
    "duration": 129,
    "start_time": "2022-12-09T09:40:54.180Z"
   },
   {
    "duration": 194,
    "start_time": "2022-12-09T09:40:54.311Z"
   },
   {
    "duration": 5,
    "start_time": "2022-12-09T09:40:54.578Z"
   },
   {
    "duration": 111,
    "start_time": "2022-12-09T09:40:54.586Z"
   },
   {
    "duration": 23,
    "start_time": "2022-12-09T09:40:54.699Z"
   },
   {
    "duration": 38,
    "start_time": "2022-12-09T09:40:54.725Z"
   },
   {
    "duration": 6,
    "start_time": "2022-12-09T09:40:54.765Z"
   },
   {
    "duration": 1328,
    "start_time": "2022-12-09T09:40:54.773Z"
   },
   {
    "duration": 1199,
    "start_time": "2022-12-09T09:40:56.103Z"
   },
   {
    "duration": 1268,
    "start_time": "2022-12-09T09:40:57.304Z"
   },
   {
    "duration": 6,
    "start_time": "2022-12-09T09:41:43.058Z"
   },
   {
    "duration": 1203,
    "start_time": "2022-12-09T09:41:44.849Z"
   },
   {
    "duration": 1280,
    "start_time": "2022-12-09T09:41:48.978Z"
   },
   {
    "duration": 1225,
    "start_time": "2022-12-09T09:41:50.513Z"
   },
   {
    "duration": 1651,
    "start_time": "2022-12-09T09:42:21.059Z"
   },
   {
    "duration": 448,
    "start_time": "2022-12-09T09:42:22.713Z"
   },
   {
    "duration": 479,
    "start_time": "2022-12-09T09:42:23.164Z"
   },
   {
    "duration": 463,
    "start_time": "2022-12-09T09:42:23.646Z"
   },
   {
    "duration": 440,
    "start_time": "2022-12-09T09:42:24.112Z"
   },
   {
    "duration": 191,
    "start_time": "2022-12-09T09:42:24.554Z"
   },
   {
    "duration": 6,
    "start_time": "2022-12-09T09:42:24.747Z"
   },
   {
    "duration": 223,
    "start_time": "2022-12-09T09:42:24.755Z"
   },
   {
    "duration": 198,
    "start_time": "2022-12-09T09:42:24.982Z"
   },
   {
    "duration": 239,
    "start_time": "2022-12-09T09:42:25.182Z"
   },
   {
    "duration": 142,
    "start_time": "2022-12-09T09:42:25.479Z"
   },
   {
    "duration": 153,
    "start_time": "2022-12-09T09:42:25.623Z"
   },
   {
    "duration": 129,
    "start_time": "2022-12-09T09:42:25.778Z"
   },
   {
    "duration": 178,
    "start_time": "2022-12-09T09:42:25.912Z"
   },
   {
    "duration": 113,
    "start_time": "2022-12-09T09:42:26.093Z"
   },
   {
    "duration": 1414,
    "start_time": "2022-12-09T09:42:26.208Z"
   },
   {
    "duration": 1309,
    "start_time": "2022-12-09T09:42:27.624Z"
   },
   {
    "duration": 1249,
    "start_time": "2022-12-09T09:42:28.935Z"
   },
   {
    "duration": 6,
    "start_time": "2022-12-09T09:42:44.190Z"
   },
   {
    "duration": 1224,
    "start_time": "2022-12-09T09:42:46.313Z"
   },
   {
    "duration": 1243,
    "start_time": "2022-12-09T09:42:49.041Z"
   },
   {
    "duration": 1231,
    "start_time": "2022-12-09T09:42:51.801Z"
   },
   {
    "duration": 2137,
    "start_time": "2022-12-09T11:35:22.619Z"
   },
   {
    "duration": 1728,
    "start_time": "2022-12-09T11:35:24.758Z"
   },
   {
    "duration": 453,
    "start_time": "2022-12-09T11:35:26.488Z"
   },
   {
    "duration": 416,
    "start_time": "2022-12-09T11:35:26.943Z"
   },
   {
    "duration": 476,
    "start_time": "2022-12-09T11:35:27.363Z"
   },
   {
    "duration": 144,
    "start_time": "2022-12-09T11:35:27.841Z"
   },
   {
    "duration": 5,
    "start_time": "2022-12-09T11:35:27.987Z"
   },
   {
    "duration": 231,
    "start_time": "2022-12-09T11:35:27.994Z"
   },
   {
    "duration": 202,
    "start_time": "2022-12-09T11:35:28.305Z"
   },
   {
    "duration": 200,
    "start_time": "2022-12-09T11:35:28.511Z"
   },
   {
    "duration": 91,
    "start_time": "2022-12-09T11:35:28.714Z"
   },
   {
    "duration": 7,
    "start_time": "2022-12-09T11:35:28.807Z"
   },
   {
    "duration": 6,
    "start_time": "2022-12-09T11:35:28.815Z"
   },
   {
    "duration": 20,
    "start_time": "2022-12-09T11:35:28.824Z"
   },
   {
    "duration": 6,
    "start_time": "2022-12-09T11:35:28.845Z"
   },
   {
    "duration": 1159,
    "start_time": "2022-12-09T11:35:28.852Z"
   },
   {
    "duration": 1135,
    "start_time": "2022-12-09T11:35:30.013Z"
   },
   {
    "duration": 1094,
    "start_time": "2022-12-09T11:35:31.150Z"
   }
  ],
  "kernelspec": {
   "display_name": "Python 3 (ipykernel)",
   "language": "python",
   "name": "python3"
  },
  "language_info": {
   "codemirror_mode": {
    "name": "ipython",
    "version": 3
   },
   "file_extension": ".py",
   "mimetype": "text/x-python",
   "name": "python",
   "nbconvert_exporter": "python",
   "pygments_lexer": "ipython3",
   "version": "3.9.13"
  },
  "toc": {
   "base_numbering": 1,
   "nav_menu": {},
   "number_sections": true,
   "sideBar": true,
   "skip_h1_title": true,
   "title_cell": "Table of Contents",
   "title_sidebar": "Contents",
   "toc_cell": false,
   "toc_position": {},
   "toc_section_display": true,
   "toc_window_display": true
  }
 },
 "nbformat": 4,
 "nbformat_minor": 2
}
